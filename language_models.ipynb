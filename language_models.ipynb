{
  "cells": [
    {
      "cell_type": "markdown",
      "source": [
        "# Group assignment on natural language processing\n",
        "\n",
        "**Group members:** Suuraj Perpeli, Veikka Immonen\n",
        "\n",
        "In this assignment we analyze performance of machine learning models\n",
        "for natural language processing (NLP) tasks, using 🤗 Hugging Face.\n",
        "\n",
        "## Install depencies\n",
        "\n",
        "This notebook is designed to be used in Google Colab out-of-the-box (by definition of you don't have to do anything else outside of Colab session).\n",
        "First, install required depencies by using pip..."
      ],
      "metadata": {
        "id": "aqo5rSOVFgaB"
      }
    },
    {
      "cell_type": "code",
      "source": [
        "!pip3 install -U -q datasets transformers accelerate bitsandbytes hnswlib peft wandb openai-whisper ffmpeg-python"
      ],
      "metadata": {
        "id": "tk6NOa78UMLR"
      },
      "execution_count": 2,
      "outputs": []
    },
    {
      "cell_type": "markdown",
      "source": [
        "...and import them"
      ],
      "metadata": {
        "id": "BDJyzi9TJGTl"
      }
    },
    {
      "cell_type": "code",
      "execution_count": 3,
      "metadata": {
        "id": "VFib_iSNS2o8"
      },
      "outputs": [],
      "source": [
        "import torch\n",
        "\n",
        "from sentence_transformers import SentenceTransformer, CrossEncoder, util\n",
        "from transformers import (AutoModelForCausalLM, AutoTokenizer, pipeline,\n",
        "                          BitsAndBytesConfig, TrainingArguments, Trainer,\n",
        "                          DataCollatorForLanguageModeling)\n",
        "from datasets import load_dataset\n",
        "\n",
        "from peft import LoraConfig, prepare_model_for_kbit_training, get_peft_model\n",
        "\n",
        "from huggingface_hub import login\n",
        "import wandb\n",
        "\n",
        "import hnswlib\n",
        "\n",
        "import os\n",
        "import matplotlib.pyplot as plt\n",
        "import re\n",
        "import numpy as np\n",
        "from tqdm import tqdm\n",
        "\n",
        "from gensim.models.word2vec import Word2Vec\n",
        "\n",
        "from IPython.display import HTML, Audio\n",
        "from google.colab.output import eval_js\n",
        "from base64 import b64decode\n",
        "from scipy.io.wavfile import read as wav_read\n",
        "import scipy\n",
        "import io\n",
        "import ffmpeg\n",
        "\n",
        "import whisper"
      ]
    },
    {
      "cell_type": "markdown",
      "source": [
        "## Load the dataset\n",
        "\n",
        "We chose the Medical Meadow Medical Flashcards dataset presented by Han et al. (2023) (paper [here](https://arxiv.org/pdf/2304.08247)). This is the first subset out of four published subsets, consisting of QA flashcards of medical based questions.\n",
        "\n",
        "The dataset can be loaded using 🤗 Datasets."
      ],
      "metadata": {
        "id": "36K2C_TEKW5g"
      }
    },
    {
      "cell_type": "code",
      "execution_count": 4,
      "metadata": {
        "colab": {
          "base_uri": "https://localhost:8080/"
        },
        "id": "A5ykFe3GXJ9b",
        "outputId": "c2544a04-90eb-47f8-d559-c10f8f4e6f20"
      },
      "outputs": [
        {
          "output_type": "stream",
          "name": "stderr",
          "text": [
            "/usr/local/lib/python3.10/dist-packages/huggingface_hub/utils/_auth.py:94: UserWarning: \n",
            "The secret `HF_TOKEN` does not exist in your Colab secrets.\n",
            "To authenticate with the Hugging Face Hub, create a token in your settings tab (https://huggingface.co/settings/tokens), set it as secret in your Google Colab and restart your session.\n",
            "You will be able to reuse this secret in all of your notebooks.\n",
            "Please note that authentication is recommended but still optional to access public models or datasets.\n",
            "  warnings.warn(\n"
          ]
        },
        {
          "output_type": "stream",
          "name": "stdout",
          "text": [
            "Structure of data:  DatasetDict({\n",
            "    train: Dataset({\n",
            "        features: ['input', 'output', 'instruction'],\n",
            "        num_rows: 33955\n",
            "    })\n",
            "})\n"
          ]
        }
      ],
      "source": [
        "ds = load_dataset(\"medalpaca/medical_meadow_medical_flashcards\")\n",
        "print('Structure of data: ', ds)"
      ]
    },
    {
      "cell_type": "markdown",
      "metadata": {
        "id": "qSUwwtanf6O8"
      },
      "source": [
        "The data is a dictionary ```train``` as the key and another dictionary ```Dataset```  as the value, the keys of this dictinoary are ```features``` and ```num_rows```, features being one of the ```input```, ```output```, or ```instruction```.\n",
        "\n",
        "The ```num_rows``` suggests that there are 33955 questions and answers with instructions respectively.\n",
        "\n",
        "Let us have a look at how each one of these are:"
      ]
    },
    {
      "cell_type": "code",
      "execution_count": 5,
      "metadata": {
        "colab": {
          "base_uri": "https://localhost:8080/"
        },
        "id": "foiD3SR3gRd8",
        "outputId": "3403aada-269c-449a-daa1-e1e126e7da0d"
      },
      "outputs": [
        {
          "output_type": "stream",
          "name": "stdout",
          "text": [
            "Input : What is the relationship between very low Mg2+ levels, PTH levels, and Ca2+ levels?\n",
            "Output : Very low Mg2+ levels correspond to low PTH levels which in turn results in low Ca2+ levels.\n",
            "Instruction : Answer this question truthfully\n"
          ]
        }
      ],
      "source": [
        "print(f'Input :', ds['train']['input'][0])\n",
        "print(f'Output :', ds['train']['output'][0])\n",
        "print(f'Instruction :', ds['train']['instruction'][0])"
      ]
    },
    {
      "cell_type": "markdown",
      "metadata": {
        "id": "MaBPHcJkh6cU"
      },
      "source": [
        "The ```input```'s are questions,\n",
        "\n",
        "The ```output```'s are answers and,\n",
        "\n",
        "The ```instruction```'s are the instructions to answer the questions.\n",
        "\n",
        "The dataset has also few empty prompts. Let's remove them."
      ]
    },
    {
      "cell_type": "code",
      "source": [
        "ds = ds.filter(lambda example: len(example['input']) > 0)\n",
        "ds"
      ],
      "metadata": {
        "id": "haoUwCk2mUSK",
        "outputId": "e9067827-4ea0-4728-d693-9ef6c1737359",
        "colab": {
          "base_uri": "https://localhost:8080/",
          "height": 156,
          "referenced_widgets": [
            "d24dbac21cf442ddafc2c8d0df3ae3ca",
            "2a2844c892b24fcb9bc022778b1e4ad0",
            "8e10275925244c65bba5d669cf1f44de",
            "ec2898765e554bf89481e4c9dfd46d2d",
            "85de79dbe39848ed8e2ba575bb8e804e",
            "8d71bc5a3d12439cb8d20ae2c82862cf",
            "593545d229b245a190d7c4691bc0e4ea",
            "144c75774d6144468d995653692d08d3",
            "ede9b5c9c1ce475b941483e4a3109d46",
            "dfdc1e24cdfd488b821ad53adbbfd359",
            "49aa9f0a771544da98b3e0ebe27362a5"
          ]
        }
      },
      "execution_count": 16,
      "outputs": [
        {
          "output_type": "display_data",
          "data": {
            "text/plain": [
              "Filter:   0%|          | 0/33547 [00:00<?, ? examples/s]"
            ],
            "application/vnd.jupyter.widget-view+json": {
              "version_major": 2,
              "version_minor": 0,
              "model_id": "d24dbac21cf442ddafc2c8d0df3ae3ca"
            }
          },
          "metadata": {}
        },
        {
          "output_type": "execute_result",
          "data": {
            "text/plain": [
              "DatasetDict({\n",
              "    train: Dataset({\n",
              "        features: ['input', 'output', 'instruction'],\n",
              "        num_rows: 33547\n",
              "    })\n",
              "})"
            ]
          },
          "metadata": {},
          "execution_count": 16
        }
      ]
    },
    {
      "cell_type": "markdown",
      "source": [
        "## Initial analysis on the data\n",
        "\n",
        "Let's analyze the output sentences and the train a Word2Vec model by them.\n",
        "\n",
        "First, lowercase the text, tokenizing based on spaces to prepare the text for training. Using regex, character `\\W` removes the non word characters thereby removing the '+','/','-' that however could be good to keep."
      ],
      "metadata": {
        "id": "uDp0pHlYMn7u"
      }
    },
    {
      "cell_type": "code",
      "execution_count": 17,
      "metadata": {
        "colab": {
          "base_uri": "https://localhost:8080/"
        },
        "id": "rETmU3C1iQap",
        "outputId": "d3a4a617-f02d-44b6-ad38-6c97814e0495"
      },
      "outputs": [
        {
          "output_type": "stream",
          "name": "stdout",
          "text": [
            "['very', 'low', 'mg2', 'levels', 'correspond', 'to', 'low', 'pth', 'levels', 'which', 'in', 'turn', 'results', 'in', 'low', 'ca2', 'levels']\n",
            "['low', 'estradiol', 'production', 'leads', 'to', 'genitourinary', 'syndrome', 'of', 'menopause', 'atrophic', 'vaginitis']\n",
            "['low', 'rem', 'sleep', 'latency', 'and', 'experiencing', 'hallucinations', 'sleep', 'paralysis', 'suggests', 'narcolepsy']\n",
            "['pth', 'independent', 'hypercalcemia', 'which', 'can', 'be', 'caused', 'by', 'cancer', 'granulomatous', 'disease', 'or', 'vitamin', 'd', 'intoxication']\n",
            "['the', 'level', 'of', 'anti', 'müllerian', 'hormone', 'is', 'directly', 'related', 'to', 'ovarian', 'reserve', 'a', 'lower', 'level', 'indicates', 'a', 'lower', 'ovarian', 'reserve']\n",
            "Minimum sentence len:  1\n",
            "Maximum sentence len:  247\n",
            "Average sentence len:  54.90207768205801\n"
          ]
        }
      ],
      "source": [
        "tokenized_sentences = [re.sub(r'\\W', ' ', sentence).lower().split() for sentence in ds['train']['output']]\n",
        "\n",
        "for i in tokenized_sentences[:5]:\n",
        "  print(i)\n",
        "\n",
        "print(f'Minimum sentence len: ', min([len(i)for i in tokenized_sentences]))\n",
        "print(f'Maximum sentence len: ', max([len(i)for i in tokenized_sentences]))\n",
        "print(f'Average sentence len: ', np.mean([len(i)for i in tokenized_sentences]))"
      ]
    },
    {
      "cell_type": "markdown",
      "source": [
        "We can also visualize the \"distribution\" of lenght of tokenized sentences."
      ],
      "metadata": {
        "id": "3F2YMmtEOG8U"
      }
    },
    {
      "cell_type": "code",
      "source": [
        "plt.hist([len(sen) for sen in tokenized_sentences], 50)\n",
        "plt.show()"
      ],
      "metadata": {
        "id": "JOjX8hwQORB5",
        "outputId": "19aa1136-6a93-4f83-df1b-226882aef140",
        "colab": {
          "base_uri": "https://localhost:8080/",
          "height": 432
        }
      },
      "execution_count": 18,
      "outputs": [
        {
          "output_type": "display_data",
          "data": {
            "text/plain": [
              "<Figure size 640x480 with 1 Axes>"
            ],
            "image/png": "[encoded data removed]"
          },
          "metadata": {}
        }
      ]
    },
    {
      "cell_type": "markdown",
      "metadata": {
        "id": "e0Az8VgTnsdU"
      },
      "source": [
        "Now let's train the Word2Vec on the ```outputs```."
      ]
    },
    {
      "cell_type": "code",
      "execution_count": 19,
      "metadata": {
        "colab": {
          "base_uri": "https://localhost:8080/"
        },
        "id": "ieXfOgnFn2Tr",
        "outputId": "af157c00-44ae-4631-cb9a-0db338e0306f"
      },
      "outputs": [
        {
          "output_type": "stream",
          "name": "stdout",
          "text": [
            "Learnt vectors:  17676\n"
          ]
        }
      ],
      "source": [
        "model = Word2Vec(tokenized_sentences, vector_size=100, min_count=2, window=10)\n",
        "print(f'Learnt vectors: ',len(model.wv))"
      ]
    },
    {
      "cell_type": "markdown",
      "metadata": {
        "id": "12r2ck8T0yPf"
      },
      "source": [
        "One thing to try is to find most similar words using different terms.\n"
      ]
    },
    {
      "cell_type": "code",
      "execution_count": 20,
      "metadata": {
        "colab": {
          "base_uri": "https://localhost:8080/"
        },
        "id": "qjMOrfOA1qBA",
        "outputId": "b07860fb-9876-4534-cc80-95901be3024c"
      },
      "outputs": [
        {
          "output_type": "execute_result",
          "data": {
            "text/plain": [
              "[('agents', 0.8474129438400269),\n",
              " ('inhibitors', 0.7607999444007874),\n",
              " ('opioids', 0.7168576121330261),\n",
              " ('medications', 0.7164204120635986),\n",
              " ('drug', 0.6890729069709778)]"
            ]
          },
          "metadata": {},
          "execution_count": 20
        }
      ],
      "source": [
        "# term = 'sickness'\n",
        "# term = 'fever'\n",
        "# term = 'cure'\n",
        "term = 'drugs'\n",
        "\n",
        "sims = model.wv.most_similar(term, topn=5)\n",
        "sims"
      ]
    },
    {
      "cell_type": "markdown",
      "source": [
        "## Retrieval-based chatbot\n",
        "\n",
        "Let's build a QA chatbot based on a semantic search pipeline. Given a question\n",
        "the bot tries to find a answer from a predefined corpus.\n",
        "\n",
        "The model can be created by using SentenceTransformers."
      ],
      "metadata": {
        "id": "PorOcT14Pr5Y"
      }
    },
    {
      "cell_type": "code",
      "source": [
        "semb_model = SentenceTransformer('multi-qa-MiniLM-L6-cos-v1')\n",
        "xenc_model = CrossEncoder('cross-encoder/ms-marco-MiniLM-L-6-v2')"
      ],
      "metadata": {
        "id": "HE362_NCS8PP"
      },
      "execution_count": 21,
      "outputs": []
    },
    {
      "cell_type": "markdown",
      "source": [
        "Create the corpus and use Approximate Nearest Neighbor (ANN) to speed-up the search using corpus embeddings."
      ],
      "metadata": {
        "id": "BYEIJZOCY-9N"
      }
    },
    {
      "cell_type": "code",
      "source": [
        "index_path = './hnswlib.index'\n",
        "corpus = np.array(ds['train']['output'][:])\n",
        "\n",
        "if not os.path.exists(index_path):\n",
        "  print(\"Creating a HNSWLIB index\")\n",
        "  corpus_embeddings = semb_model.encode(corpus, convert_to_tensor=True,\n",
        "                                        show_progress_bar=True)\n",
        "  index = hnswlib.Index(space='cosine', dim=corpus_embeddings.size(1))\n",
        "  index.init_index(max_elements=corpus_embeddings.size(0),\n",
        "                   ef_construction=256, M=64)\n",
        "  index.add_items(corpus_embeddings.cpu(), list(range(len(corpus_embeddings))))\n",
        "  print(\"Saving index to:\", index_path)\n",
        "  index.save_index(index_path)\n",
        "else:\n",
        "  empty_embeddings = semb_model.encode(corpus[:1], convert_to_tensor=True)\n",
        "  index = hnswlib.Index(space='cosine', dim=empty_embeddings.size(1))\n",
        "  index.load_index(index_path)\n"
      ],
      "metadata": {
        "id": "De1XLzBXZKqM",
        "outputId": "dbdade15-72ea-4818-da0e-e851eea3973a",
        "colab": {
          "base_uri": "https://localhost:8080/",
          "height": 85,
          "referenced_widgets": [
            "e5ab104f0c714586937ab7f8dcc552d5",
            "a1b0b6ea88564faba1ce46f09215a1f3",
            "b499cfbfa92d4588bfcfc5a3581a3311",
            "17e289962f224a82bbb9423b8abf13be",
            "269094c027824a77b4218a6a0c9065cc",
            "73a3e0bf177743669741d7c5baa8d60a",
            "fa2b9112b8234a7e9a28a500419a7016",
            "9b1d2d952f284602a85ada757c16e047",
            "47fe6679ea7143eb93f874ac85a81b26",
            "82a351a530be42bc8cc35d3d2413a284",
            "d49b9564eb2743a182a4daafed178d34"
          ]
        }
      },
      "execution_count": 22,
      "outputs": [
        {
          "output_type": "stream",
          "name": "stdout",
          "text": [
            "Creating a HNSWLIB index\n"
          ]
        },
        {
          "output_type": "display_data",
          "data": {
            "text/plain": [
              "Batches:   0%|          | 0/1049 [00:00<?, ?it/s]"
            ],
            "application/vnd.jupyter.widget-view+json": {
              "version_major": 2,
              "version_minor": 0,
              "model_id": "e5ab104f0c714586937ab7f8dcc552d5"
            }
          },
          "metadata": {}
        },
        {
          "output_type": "stream",
          "name": "stdout",
          "text": [
            "Saving index to: ./hnswlib.index\n"
          ]
        }
      ]
    },
    {
      "cell_type": "markdown",
      "source": [
        "Test the ranking using question encoder and ANN."
      ],
      "metadata": {
        "id": "Bvmqt9rlcN6y"
      }
    },
    {
      "cell_type": "code",
      "source": [
        "sample = 3\n",
        "query = ds['train']['input'][sample]\n",
        "print(f'Query : {query}')\n",
        "query_embedding = semb_model.encode(query, convert_to_tensor=True)\n",
        "ids, distances = index.knn_query(query_embedding.cpu(), k=32)\n",
        "out = ds['train']['output'][ids[0][np.argmin(distances[0])]]\n",
        "print(f'Out : {out}')\n",
        "print(f\"True: {ds['train']['output'][sample]}\")"
      ],
      "metadata": {
        "id": "BuRmp0qtcR-b",
        "outputId": "2be888b2-4a36-4653-d892-58a842e22660",
        "colab": {
          "base_uri": "https://localhost:8080/"
        }
      },
      "execution_count": 30,
      "outputs": [
        {
          "output_type": "stream",
          "name": "stdout",
          "text": [
            "Query : What are some possible causes of low PTH and high calcium levels?\n",
            "Out : The likely diagnosis for the patient's condition is primary hyperparathyroidism. This condition occurs when one or more of the parathyroid glands produce too much parathyroid hormone (PTH), which can lead to high levels of calcium in the blood. Patients with primary hyperparathyroidism may also have high levels of calcium in their urine, as well as other symptoms such as fatigue, weakness, and bone pain. Treatment for primary hyperparathyroidism may involve surgery to remove the affected parathyroid gland or glands, as well as medication to manage calcium levels. Regular monitoring of calcium levels and bone density may also be necessary.\n",
            "True: PTH-independent hypercalcemia, which can be caused by cancer, granulomatous disease, or vitamin D intoxication.\n"
          ]
        }
      ]
    },
    {
      "cell_type": "markdown",
      "source": [
        "Test the re-ranking using the cross-encoder."
      ],
      "metadata": {
        "id": "aLuBXOVvdGsM"
      }
    },
    {
      "cell_type": "code",
      "source": [
        "model_inputs = [(query, corpus[i]) for i in ids[0]]\n",
        "cross_scores = xenc_model.predict(model_inputs)\n",
        "print(\"Cross-encoder model re-ranking results\")\n",
        "print(f\"Query: \\\"{query} \\\"\")\n",
        "print(\"-------------------------\")\n",
        "for idx in np.argsort(-cross_scores)[:5]:\n",
        "  print(f\"Score: {cross_scores[idx]:.4f}\\nDocument: \\\"{corpus[ids[0][idx]]}\\\"\")"
      ],
      "metadata": {
        "id": "TRrp7u-ydHk-",
        "outputId": "129b0342-cbb3-477f-8898-90fcfdccf8f3",
        "colab": {
          "base_uri": "https://localhost:8080/"
        }
      },
      "execution_count": 32,
      "outputs": [
        {
          "output_type": "stream",
          "name": "stdout",
          "text": [
            "Cross-encoder model re-ranking results\n",
            "Query: \"What are some possible causes of low PTH and high calcium levels? \"\n",
            "-------------------------\n",
            "Score: 7.0449\n",
            "Document: \"Low serum calcium levels will increase PTH levels in the bloodstream. PTH is a hormone produced by the parathyroid glands that helps regulate calcium levels in the body. When calcium levels in the blood drop too low, the parathyroid glands release more PTH to stimulate the release of calcium from the bones and increase its absorption from the intestines and kidneys. This helps raise blood calcium levels back to normal. However, if low calcium levels persist, it can lead to conditions such as osteoporosis and kidney stones.\"\n",
            "Score: 6.9603\n",
            "Document: \"Hypercalcemia of malignancy is a condition in which there is an abnormally high level of calcium in the blood due to cancer. This condition is often associated with low levels of parathyroid hormone (PTH), which is typically responsible for regulating calcium levels in the body. Low PTH levels in hypercalcemia of malignancy may be due to the production of other hormones by cancer cells that mimic the effects of PTH, or to the direct effect of cancer on bone tissue, leading to the release of calcium into the bloodstream. Treatment for hypercalcemia of malignancy may involve addressing the underlying cancer, as well as medications to lower calcium levels and manage symptoms.\"\n",
            "Score: 6.8884\n",
            "Document: \"The probable diagnosis is malignancy, specifically humoral hypercalcemia of malignancy, which is a paraneoplastic syndrome in which cancer cells secrete factors that increase calcium levels in the blood. The symptoms of hypercalcemia, such as polyuria, constipation, and nausea, are caused by the effects of high calcium levels on the kidneys, gastrointestinal tract, and other organs. The low PTH level is a result of the calcium being released from the bones, rather than being regulated by the parathyroid gland. In a 40-pack year smoker, the risk of cancer is increased, and hypercalcemia is a common finding in many types of cancer. Treatment of humoral hypercalcemia of malignancy typically involves addressing the underlying cancer, as well as medications to lower calcium levels in the blood. It is important to seek medical attention promptly if hypercalcemia is suspected, as it can lead to serious complications if left untreated.\"\n",
            "Score: 6.7059\n",
            "Document: \"Parathyroid hormone (PTH) secretion is regulated by the concentration of calcium ions (Ca2+) in the plasma. When calcium levels in the blood are low, PTH secretion increases, leading to increased calcium absorption from the gut and kidneys, and increased calcium release from bones. Conversely, when calcium levels are high, PTH secretion decreases, leading to decreased calcium absorption and increased excretion by the kidneys. This helps to maintain normal calcium levels in the blood. However, prolonged increases in PTH secretion can lead to a number of pathological conditions, such as hypercalcemia and osteoporosis.\"\n",
            "Score: 6.5822\n",
            "Document: \"A severe decrease in serum Mg2+ concentration causes a decrease in PTH secretion. PTH (parathyroid hormone) is a hormone that regulates calcium and phosphate homeostasis in the body. When magnesium levels are low, PTH secretion decreases, which can lead to hypocalcemia (low calcium levels) and other related disorders.\"\n"
          ]
        }
      ]
    },
    {
      "cell_type": "markdown",
      "source": [
        "Generate the responce function.\n",
        "\n",
        "Note that the function `chatbot` takes a list (or `np.array`) of questions. In case of one question, put it in a list."
      ],
      "metadata": {
        "id": "710QiPkFdrsv"
      }
    },
    {
      "cell_type": "code",
      "source": [
        "def chatbot(questions, index=index, corpus=corpus, semb_model=semb_model, xenc_model=xenc_model, top_k=32):\n",
        "\n",
        "    questions = np.array(questions)\n",
        "    question_embedding = semb_model.encode(questions, convert_to_tensor=True).cpu()\n",
        "    corpus_ids, _ = index.knn_query(question_embedding, k=top_k)\n",
        "\n",
        "    answers = corpus[corpus_ids]\n",
        "    questions = np.stack([questions for _ in range(top_k)], 1)\n",
        "    pairs = np.stack([questions, answers], 2)\n",
        "\n",
        "    scores = np.stack([xenc_model.predict(pair) for pair in pairs])\n",
        "    idx = np.argmax(scores, 1, keepdims=True)\n",
        "    answers = np.take_along_axis(answers, idx, 1).flatten()\n",
        "\n",
        "    return answers"
      ],
      "metadata": {
        "id": "j5koKcsbdu58"
      },
      "execution_count": 33,
      "outputs": []
    },
    {
      "cell_type": "markdown",
      "source": [
        "Test the chatbot."
      ],
      "metadata": {
        "id": "wDn3-eaXgAIZ"
      }
    },
    {
      "cell_type": "code",
      "source": [
        "start, end = 3000, 3600\n",
        "questions = np.array(ds['train']['input'])[start:end]\n",
        "true = corpus[start:end]\n",
        "\n",
        "batch_size = 64\n",
        "iterator = tqdm(range(0, len(questions), batch_size))\n",
        "pred = np.concatenate([chatbot(questions[i: i+batch_size]) for i in iterator])\n",
        "\n",
        "print((pred == true).mean())"
      ],
      "metadata": {
        "id": "CzPXm1NhiKva",
        "outputId": "27576dd7-57fe-46e1-a948-8e9d347a6979",
        "colab": {
          "base_uri": "https://localhost:8080/"
        }
      },
      "execution_count": 43,
      "outputs": [
        {
          "output_type": "stream",
          "name": "stderr",
          "text": [
            "\n",
            "  0%|          | 0/10 [00:00<?, ?it/s]\u001b[A\n",
            " 10%|█         | 1/10 [00:05<00:50,  5.58s/it]\u001b[A\n",
            " 20%|██        | 2/10 [00:10<00:42,  5.34s/it]\u001b[A\n",
            " 30%|███       | 3/10 [00:16<00:37,  5.34s/it]\u001b[A\n",
            " 40%|████      | 4/10 [00:20<00:30,  5.06s/it]\u001b[A\n",
            " 50%|█████     | 5/10 [00:25<00:24,  4.95s/it]\u001b[A\n",
            " 60%|██████    | 6/10 [00:30<00:20,  5.01s/it]\u001b[A\n",
            " 70%|███████   | 7/10 [00:35<00:14,  4.98s/it]\u001b[A\n",
            " 80%|████████  | 8/10 [00:40<00:10,  5.02s/it]\u001b[A\n",
            " 90%|█████████ | 9/10 [00:45<00:05,  5.02s/it]\u001b[A\n",
            "100%|██████████| 10/10 [00:47<00:00,  4.75s/it]"
          ]
        },
        {
          "output_type": "stream",
          "name": "stdout",
          "text": [
            "0.9166666666666666\n"
          ]
        },
        {
          "output_type": "stream",
          "name": "stderr",
          "text": [
            "\n"
          ]
        }
      ]
    },
    {
      "cell_type": "markdown",
      "source": [
        "## Integrating speech-to-text and text-to-speech functionality"
      ],
      "metadata": {
        "id": "M25emCAL-NsS"
      }
    },
    {
      "cell_type": "code",
      "source": [
        "!mkdir ./tmp"
      ],
      "metadata": {
        "id": "99Pzc9JuQhV5"
      },
      "execution_count": 44,
      "outputs": []
    },
    {
      "cell_type": "code",
      "source": [
        "model = whisper.load_model(\"base\")"
      ],
      "metadata": {
        "id": "QwES09Xa-zQf",
        "outputId": "0004a4fc-2154-4018-8eb3-957c1ada4896",
        "colab": {
          "base_uri": "https://localhost:8080/"
        }
      },
      "execution_count": 45,
      "outputs": [
        {
          "output_type": "stream",
          "name": "stderr",
          "text": [
            "\n",
            "  0%|                                               | 0.00/139M [00:00<?, ?iB/s]\u001b[A\n",
            "  4%|█▌                                    | 5.75M/139M [00:00<00:02, 60.2MiB/s]\u001b[A\n",
            " 13%|████▊                                 | 17.4M/139M [00:00<00:01, 96.2MiB/s]\u001b[A\n",
            " 22%|████████▌                              | 30.5M/139M [00:00<00:00, 115MiB/s]\u001b[A\n",
            " 30%|███████████▍                          | 41.5M/139M [00:00<00:01, 81.4MiB/s]\u001b[A\n",
            " 39%|██████████████▊                       | 53.9M/139M [00:00<00:00, 95.3MiB/s]\u001b[A\n",
            " 47%|██████████████████▏                    | 64.7M/139M [00:00<00:00, 100MiB/s]\u001b[A\n",
            " 54%|█████████████████████                  | 75.0M/139M [00:00<00:00, 101MiB/s]\u001b[A\n",
            " 64%|████████████████████████▉              | 88.6M/139M [00:00<00:00, 113MiB/s]\u001b[A\n",
            " 72%|████████████████████████████           | 99.8M/139M [00:01<00:00, 105MiB/s]\u001b[A\n",
            " 81%|████████████████████████████████▍       | 112M/139M [00:01<00:00, 112MiB/s]\u001b[A\n",
            " 90%|███████████████████████████████████▉    | 124M/139M [00:01<00:00, 116MiB/s]\u001b[A\n",
            "100%|████████████████████████████████████████| 139M/139M [00:01<00:00, 107MiB/s]\n",
            "/usr/local/lib/python3.10/dist-packages/whisper/__init__.py:150: FutureWarning: You are using `torch.load` with `weights_only=False` (the current default value), which uses the default pickle module implicitly. It is possible to construct malicious pickle data which will execute arbitrary code during unpickling (See https://github.com/pytorch/pytorch/blob/main/SECURITY.md#untrusted-models for more details). In a future release, the default value for `weights_only` will be flipped to `True`. This limits the functions that could be executed during unpickling. Arbitrary objects will no longer be allowed to be loaded via this mode unless they are explicitly allowlisted by the user via `torch.serialization.add_safe_globals`. We recommend you start setting `weights_only=True` for any use case where you don't have full control of the loaded file. Please open an issue on GitHub for any issues related to this experimental feature.\n",
            "  checkpoint = torch.load(fp, map_location=device)\n"
          ]
        }
      ]
    },
    {
      "cell_type": "code",
      "source": [
        "tts_utils = torch.hub.load('NVIDIA/DeepLearningExamples:torchhub', 'nvidia_tts_utils')\n",
        "tacotron2 = torch.hub.load('NVIDIA/DeepLearningExamples:torchhub', 'nvidia_tacotron2', model_math='fp16')\n",
        "tacotron2 = tacotron2.to('cuda')\n",
        "tacotron2.eval()"
      ],
      "metadata": {
        "id": "-mH37N_h-QL6",
        "outputId": "8b4fbb8d-2031-4258-f754-2572940b27f3",
        "colab": {
          "base_uri": "https://localhost:8080/"
        }
      },
      "execution_count": 60,
      "outputs": [
        {
          "output_type": "stream",
          "name": "stderr",
          "text": [
            "Using cache found in /root/.cache/torch/hub/NVIDIA_DeepLearningExamples_torchhub\n",
            "/root/.cache/torch/hub/NVIDIA_DeepLearningExamples_torchhub/PyTorch/SpeechSynthesis/Tacotron2/tacotron2/text/__init__.py:74: SyntaxWarning: \"is not\" with a literal. Did you mean \"!=\"?\n",
            "  return s in _symbol_to_id and s is not '_' and s is not '~'\n",
            "/root/.cache/torch/hub/NVIDIA_DeepLearningExamples_torchhub/PyTorch/SpeechSynthesis/Tacotron2/tacotron2/text/__init__.py:74: SyntaxWarning: \"is not\" with a literal. Did you mean \"!=\"?\n",
            "  return s in _symbol_to_id and s is not '_' and s is not '~'\n",
            "  1%|          | 5/525 [25:08<43:35:05, 301.74s/it]\n",
            "Using cache found in /root/.cache/torch/hub/NVIDIA_DeepLearningExamples_torchhub\n",
            "/root/.cache/torch/hub/NVIDIA_DeepLearningExamples_torchhub/PyTorch/SpeechSynthesis/Tacotron2/tacotron2/entrypoints.py:99: FutureWarning: You are using `torch.load` with `weights_only=False` (the current default value), which uses the default pickle module implicitly. It is possible to construct malicious pickle data which will execute arbitrary code during unpickling (See https://github.com/pytorch/pytorch/blob/main/SECURITY.md#untrusted-models for more details). In a future release, the default value for `weights_only` will be flipped to `True`. This limits the functions that could be executed during unpickling. Arbitrary objects will no longer be allowed to be loaded via this mode unless they are explicitly allowlisted by the user via `torch.serialization.add_safe_globals`. We recommend you start setting `weights_only=True` for any use case where you don't have full control of the loaded file. Please open an issue on GitHub for any issues related to this experimental feature.\n",
            "  ckpt = torch.load(ckpt_file)\n"
          ]
        },
        {
          "output_type": "execute_result",
          "data": {
            "text/plain": [
              "Tacotron2(\n",
              "  (embedding): Embedding(148, 512)\n",
              "  (encoder): Encoder(\n",
              "    (convolutions): ModuleList(\n",
              "      (0-2): 3 x Sequential(\n",
              "        (0): ConvNorm(\n",
              "          (conv): Conv1d(512, 512, kernel_size=(5,), stride=(1,), padding=(2,))\n",
              "        )\n",
              "        (1): BatchNorm1d(512, eps=1e-05, momentum=0.1, affine=True, track_running_stats=True)\n",
              "      )\n",
              "    )\n",
              "    (lstm): LSTM(512, 256, batch_first=True, bidirectional=True)\n",
              "  )\n",
              "  (decoder): Decoder(\n",
              "    (prenet): Prenet(\n",
              "      (layers): ModuleList(\n",
              "        (0): LinearNorm(\n",
              "          (linear_layer): Linear(in_features=80, out_features=256, bias=False)\n",
              "        )\n",
              "        (1): LinearNorm(\n",
              "          (linear_layer): Linear(in_features=256, out_features=256, bias=False)\n",
              "        )\n",
              "      )\n",
              "    )\n",
              "    (attention_rnn): LSTMCell(768, 1024)\n",
              "    (attention_layer): Attention(\n",
              "      (query_layer): LinearNorm(\n",
              "        (linear_layer): Linear(in_features=1024, out_features=128, bias=False)\n",
              "      )\n",
              "      (memory_layer): LinearNorm(\n",
              "        (linear_layer): Linear(in_features=512, out_features=128, bias=False)\n",
              "      )\n",
              "      (v): LinearNorm(\n",
              "        (linear_layer): Linear(in_features=128, out_features=1, bias=False)\n",
              "      )\n",
              "      (location_layer): LocationLayer(\n",
              "        (location_conv): ConvNorm(\n",
              "          (conv): Conv1d(2, 32, kernel_size=(31,), stride=(1,), padding=(15,), bias=False)\n",
              "        )\n",
              "        (location_dense): LinearNorm(\n",
              "          (linear_layer): Linear(in_features=32, out_features=128, bias=False)\n",
              "        )\n",
              "      )\n",
              "    )\n",
              "    (decoder_rnn): LSTMCell(1536, 1024, bias=1)\n",
              "    (linear_projection): LinearNorm(\n",
              "      (linear_layer): Linear(in_features=1536, out_features=80, bias=True)\n",
              "    )\n",
              "    (gate_layer): LinearNorm(\n",
              "      (linear_layer): Linear(in_features=1536, out_features=1, bias=True)\n",
              "    )\n",
              "  )\n",
              "  (postnet): Postnet(\n",
              "    (convolutions): ModuleList(\n",
              "      (0): Sequential(\n",
              "        (0): ConvNorm(\n",
              "          (conv): Conv1d(80, 512, kernel_size=(5,), stride=(1,), padding=(2,))\n",
              "        )\n",
              "        (1): BatchNorm1d(512, eps=1e-05, momentum=0.1, affine=True, track_running_stats=True)\n",
              "      )\n",
              "      (1-3): 3 x Sequential(\n",
              "        (0): ConvNorm(\n",
              "          (conv): Conv1d(512, 512, kernel_size=(5,), stride=(1,), padding=(2,))\n",
              "        )\n",
              "        (1): BatchNorm1d(512, eps=1e-05, momentum=0.1, affine=True, track_running_stats=True)\n",
              "      )\n",
              "      (4): Sequential(\n",
              "        (0): ConvNorm(\n",
              "          (conv): Conv1d(512, 80, kernel_size=(5,), stride=(1,), padding=(2,))\n",
              "        )\n",
              "        (1): BatchNorm1d(80, eps=1e-05, momentum=0.1, affine=True, track_running_stats=True)\n",
              "      )\n",
              "    )\n",
              "  )\n",
              ")"
            ]
          },
          "metadata": {},
          "execution_count": 60
        }
      ]
    },
    {
      "cell_type": "code",
      "source": [
        "waveglow = torch.hub.load('NVIDIA/DeepLearningExamples:torchhub', 'nvidia_waveglow', model_math='fp16')\n",
        "waveglow = waveglow.remove_weightnorm(waveglow)\n",
        "waveglow = waveglow.to('cuda')\n",
        "waveglow.eval()"
      ],
      "metadata": {
        "id": "GPQbJqndvXxn",
        "outputId": "e525bb8a-61e7-4e6e-9a13-7de5b9618b24",
        "colab": {
          "base_uri": "https://localhost:8080/"
        }
      },
      "execution_count": 65,
      "outputs": [
        {
          "output_type": "stream",
          "name": "stderr",
          "text": [
            "Using cache found in /root/.cache/torch/hub/NVIDIA_DeepLearningExamples_torchhub\n",
            "Downloading checkpoint from https://api.ngc.nvidia.com/v2/models/nvidia/waveglow_ckpt_amp/versions/19.09.0/files/nvidia_waveglowpyt_fp16_20190427\n",
            "/root/.cache/torch/hub/NVIDIA_DeepLearningExamples_torchhub/PyTorch/SpeechSynthesis/Tacotron2/waveglow/entrypoints.py:96: FutureWarning: You are using `torch.load` with `weights_only=False` (the current default value), which uses the default pickle module implicitly. It is possible to construct malicious pickle data which will execute arbitrary code during unpickling (See https://github.com/pytorch/pytorch/blob/main/SECURITY.md#untrusted-models for more details). In a future release, the default value for `weights_only` will be flipped to `True`. This limits the functions that could be executed during unpickling. Arbitrary objects will no longer be allowed to be loaded via this mode unless they are explicitly allowlisted by the user via `torch.serialization.add_safe_globals`. We recommend you start setting `weights_only=True` for any use case where you don't have full control of the loaded file. Please open an issue on GitHub for any issues related to this experimental feature.\n",
            "  ckpt = torch.load(ckpt_file)\n",
            "/usr/local/lib/python3.10/dist-packages/torch/nn/utils/weight_norm.py:143: FutureWarning: `torch.nn.utils.weight_norm` is deprecated in favor of `torch.nn.utils.parametrizations.weight_norm`.\n",
            "  WeightNorm.apply(module, name, dim)\n"
          ]
        },
        {
          "output_type": "execute_result",
          "data": {
            "text/plain": [
              "WaveGlow(\n",
              "  (upsample): ConvTranspose1d(80, 80, kernel_size=(1024,), stride=(256,))\n",
              "  (WN): ModuleList(\n",
              "    (0-3): 4 x WN(\n",
              "      (in_layers): ModuleList(\n",
              "        (0): Conv1d(512, 1024, kernel_size=(3,), stride=(1,), padding=(1,))\n",
              "        (1): Conv1d(512, 1024, kernel_size=(3,), stride=(1,), padding=(2,), dilation=(2,))\n",
              "        (2): Conv1d(512, 1024, kernel_size=(3,), stride=(1,), padding=(4,), dilation=(4,))\n",
              "        (3): Conv1d(512, 1024, kernel_size=(3,), stride=(1,), padding=(8,), dilation=(8,))\n",
              "        (4): Conv1d(512, 1024, kernel_size=(3,), stride=(1,), padding=(16,), dilation=(16,))\n",
              "        (5): Conv1d(512, 1024, kernel_size=(3,), stride=(1,), padding=(32,), dilation=(32,))\n",
              "        (6): Conv1d(512, 1024, kernel_size=(3,), stride=(1,), padding=(64,), dilation=(64,))\n",
              "        (7): Conv1d(512, 1024, kernel_size=(3,), stride=(1,), padding=(128,), dilation=(128,))\n",
              "      )\n",
              "      (res_skip_layers): ModuleList(\n",
              "        (0-6): 7 x Conv1d(512, 1024, kernel_size=(1,), stride=(1,))\n",
              "        (7): Conv1d(512, 512, kernel_size=(1,), stride=(1,))\n",
              "      )\n",
              "      (cond_layers): ModuleList(\n",
              "        (0-7): 8 x Conv1d(640, 1024, kernel_size=(1,), stride=(1,))\n",
              "      )\n",
              "      (start): Conv1d(4, 512, kernel_size=(1,), stride=(1,))\n",
              "      (end): Conv1d(512, 8, kernel_size=(1,), stride=(1,))\n",
              "    )\n",
              "    (4-7): 4 x WN(\n",
              "      (in_layers): ModuleList(\n",
              "        (0): Conv1d(512, 1024, kernel_size=(3,), stride=(1,), padding=(1,))\n",
              "        (1): Conv1d(512, 1024, kernel_size=(3,), stride=(1,), padding=(2,), dilation=(2,))\n",
              "        (2): Conv1d(512, 1024, kernel_size=(3,), stride=(1,), padding=(4,), dilation=(4,))\n",
              "        (3): Conv1d(512, 1024, kernel_size=(3,), stride=(1,), padding=(8,), dilation=(8,))\n",
              "        (4): Conv1d(512, 1024, kernel_size=(3,), stride=(1,), padding=(16,), dilation=(16,))\n",
              "        (5): Conv1d(512, 1024, kernel_size=(3,), stride=(1,), padding=(32,), dilation=(32,))\n",
              "        (6): Conv1d(512, 1024, kernel_size=(3,), stride=(1,), padding=(64,), dilation=(64,))\n",
              "        (7): Conv1d(512, 1024, kernel_size=(3,), stride=(1,), padding=(128,), dilation=(128,))\n",
              "      )\n",
              "      (res_skip_layers): ModuleList(\n",
              "        (0-6): 7 x Conv1d(512, 1024, kernel_size=(1,), stride=(1,))\n",
              "        (7): Conv1d(512, 512, kernel_size=(1,), stride=(1,))\n",
              "      )\n",
              "      (cond_layers): ModuleList(\n",
              "        (0-7): 8 x Conv1d(640, 1024, kernel_size=(1,), stride=(1,))\n",
              "      )\n",
              "      (start): Conv1d(3, 512, kernel_size=(1,), stride=(1,))\n",
              "      (end): Conv1d(512, 6, kernel_size=(1,), stride=(1,))\n",
              "    )\n",
              "    (8-11): 4 x WN(\n",
              "      (in_layers): ModuleList(\n",
              "        (0): Conv1d(512, 1024, kernel_size=(3,), stride=(1,), padding=(1,))\n",
              "        (1): Conv1d(512, 1024, kernel_size=(3,), stride=(1,), padding=(2,), dilation=(2,))\n",
              "        (2): Conv1d(512, 1024, kernel_size=(3,), stride=(1,), padding=(4,), dilation=(4,))\n",
              "        (3): Conv1d(512, 1024, kernel_size=(3,), stride=(1,), padding=(8,), dilation=(8,))\n",
              "        (4): Conv1d(512, 1024, kernel_size=(3,), stride=(1,), padding=(16,), dilation=(16,))\n",
              "        (5): Conv1d(512, 1024, kernel_size=(3,), stride=(1,), padding=(32,), dilation=(32,))\n",
              "        (6): Conv1d(512, 1024, kernel_size=(3,), stride=(1,), padding=(64,), dilation=(64,))\n",
              "        (7): Conv1d(512, 1024, kernel_size=(3,), stride=(1,), padding=(128,), dilation=(128,))\n",
              "      )\n",
              "      (res_skip_layers): ModuleList(\n",
              "        (0-6): 7 x Conv1d(512, 1024, kernel_size=(1,), stride=(1,))\n",
              "        (7): Conv1d(512, 512, kernel_size=(1,), stride=(1,))\n",
              "      )\n",
              "      (cond_layers): ModuleList(\n",
              "        (0-7): 8 x Conv1d(640, 1024, kernel_size=(1,), stride=(1,))\n",
              "      )\n",
              "      (start): Conv1d(2, 512, kernel_size=(1,), stride=(1,))\n",
              "      (end): Conv1d(512, 4, kernel_size=(1,), stride=(1,))\n",
              "    )\n",
              "  )\n",
              "  (convinv): ModuleList(\n",
              "    (0-3): 4 x Invertible1x1Conv(\n",
              "      (conv): Conv1d(8, 8, kernel_size=(1,), stride=(1,), bias=False)\n",
              "    )\n",
              "    (4-7): 4 x Invertible1x1Conv(\n",
              "      (conv): Conv1d(6, 6, kernel_size=(1,), stride=(1,), bias=False)\n",
              "    )\n",
              "    (8-11): 4 x Invertible1x1Conv(\n",
              "      (conv): Conv1d(4, 4, kernel_size=(1,), stride=(1,), bias=False)\n",
              "    )\n",
              "  )\n",
              ")"
            ]
          },
          "metadata": {},
          "execution_count": 65
        }
      ]
    },
    {
      "cell_type": "code",
      "source": [
        "\"\"\"\n",
        "References:\n",
        "https://blog.addpipe.com/recording-audio-in-the-browser-using-pure-html5-and-minimal-javascript/\n",
        "https://stackoverflow.com/a/18650249\n",
        "https://hacks.mozilla.org/2014/06/easy-audio-capture-with-the-mediarecorder-api/\n",
        "https://air.ghost.io/recording-to-an-audio-file-using-html5-and-js/\n",
        "https://stackoverflow.com/a/49019356\n",
        "\"\"\"\n",
        "\n",
        "AUDIO_HTML = \"\"\"\n",
        "<script>\n",
        "var my_div = document.createElement(\"DIV\");\n",
        "var my_p = document.createElement(\"P\");\n",
        "var my_btn = document.createElement(\"BUTTON\");\n",
        "var t = document.createTextNode(\"Press to start recording\");\n",
        "\n",
        "my_btn.appendChild(t);\n",
        "//my_p.appendChild(my_btn);\n",
        "my_div.appendChild(my_btn);\n",
        "document.body.appendChild(my_div);\n",
        "\n",
        "var base64data = 0;\n",
        "var reader;\n",
        "var recorder, gumStream;\n",
        "var recordButton = my_btn;\n",
        "\n",
        "var handleSuccess = function(stream) {\n",
        "  gumStream = stream;\n",
        "  var options = {\n",
        "    //bitsPerSecond: 8000, //chrome seems to ignore, always 48k\n",
        "    mimeType : 'audio/webm;codecs=opus'\n",
        "    //mimeType : 'audio/webm;codecs=pcm'\n",
        "  };\n",
        "  //recorder = new MediaRecorder(stream, options);\n",
        "  recorder = new MediaRecorder(stream);\n",
        "  recorder.ondataavailable = function(e) {\n",
        "    var url = URL.createObjectURL(e.data);\n",
        "    var preview = document.createElement('audio');\n",
        "    preview.controls = true;\n",
        "    preview.src = url;\n",
        "    document.body.appendChild(preview);\n",
        "\n",
        "    reader = new FileReader();\n",
        "    reader.readAsDataURL(e.data);\n",
        "    reader.onloadend = function() {\n",
        "      base64data = reader.result;\n",
        "      //console.log(\"Inside FileReader:\" + base64data);\n",
        "    }\n",
        "  };\n",
        "  recorder.start();\n",
        "  };\n",
        "\n",
        "recordButton.innerText = \"Recording... press to stop\";\n",
        "\n",
        "navigator.mediaDevices.getUserMedia({audio: true}).then(handleSuccess);\n",
        "\n",
        "\n",
        "function toggleRecording() {\n",
        "  if (recorder && recorder.state == \"recording\") {\n",
        "      recorder.stop();\n",
        "      gumStream.getAudioTracks()[0].stop();\n",
        "      recordButton.innerText = \"Saving the recording... pls wait!\"\n",
        "  }\n",
        "}\n",
        "\n",
        "// https://stackoverflow.com/a/951057\n",
        "function sleep(ms) {\n",
        "  return new Promise(resolve => setTimeout(resolve, ms));\n",
        "}\n",
        "\n",
        "var data = new Promise(resolve=>{\n",
        "//recordButton.addEventListener(\"click\", toggleRecording);\n",
        "recordButton.onclick = ()=>{\n",
        "toggleRecording()\n",
        "\n",
        "sleep(2000).then(() => {\n",
        "  // wait 2000ms for the data to be available...\n",
        "  // ideally this should use something like await...\n",
        "  //console.log(\"Inside data:\" + base64data)\n",
        "  resolve(base64data.toString())\n",
        "\n",
        "});\n",
        "\n",
        "}\n",
        "});\n",
        "\n",
        "</script>\n",
        "\"\"\"\n",
        "\n",
        "def get_audio():\n",
        "    display(HTML(AUDIO_HTML))\n",
        "    data = eval_js(\"data\")\n",
        "    binary = b64decode(data.split(',')[1])\n",
        "\n",
        "    process = (ffmpeg\n",
        "      .input('pipe:0')\n",
        "      .output('pipe:1', format='wav')\n",
        "      .run_async(pipe_stdin=True, pipe_stdout=True, pipe_stderr=True, quiet=True, overwrite_output=True)\n",
        "    )\n",
        "    output, err = process.communicate(input=binary)\n",
        "\n",
        "    riff_chunk_size = len(output) - 8\n",
        "    # Break up the chunk size into four bytes, held in b.\n",
        "    q = riff_chunk_size\n",
        "    b = []\n",
        "    for i in range(4):\n",
        "        q, r = divmod(q, 256)\n",
        "        b.append(r)\n",
        "\n",
        "    # Replace bytes 4:8 in proc.stdout with the actual size of the RIFF chunk.\n",
        "    riff = output[:4] + bytes(b) + output[8:]\n",
        "\n",
        "    sr, audio = wav_read(io.BytesIO(riff))\n",
        "\n",
        "    return audio, sr"
      ],
      "metadata": {
        "id": "XKRQPYRiPo3w"
      },
      "execution_count": 48,
      "outputs": []
    },
    {
      "cell_type": "code",
      "source": [
        "audio, sr = get_audio()"
      ],
      "metadata": {
        "id": "jSh4iTSAPzy_",
        "outputId": "1b51ff1d-dd3d-44b8-e102-2aa5ad09383f",
        "colab": {
          "base_uri": "https://localhost:8080/",
          "height": 82
        }
      },
      "execution_count": 84,
      "outputs": [
        {
          "output_type": "display_data",
          "data": {
            "text/plain": [
              "<IPython.core.display.HTML object>"
            ],
            "text/html": [
              "\n",
              "<script>\n",
              "var my_div = document.createElement(\"DIV\");\n",
              "var my_p = document.createElement(\"P\");\n",
              "var my_btn = document.createElement(\"BUTTON\");\n",
              "var t = document.createTextNode(\"Press to start recording\");\n",
              "\n",
              "my_btn.appendChild(t);\n",
              "//my_p.appendChild(my_btn);\n",
              "my_div.appendChild(my_btn);\n",
              "document.body.appendChild(my_div);\n",
              "\n",
              "var base64data = 0;\n",
              "var reader;\n",
              "var recorder, gumStream;\n",
              "var recordButton = my_btn;\n",
              "\n",
              "var handleSuccess = function(stream) {\n",
              "  gumStream = stream;\n",
              "  var options = {\n",
              "    //bitsPerSecond: 8000, //chrome seems to ignore, always 48k\n",
              "    mimeType : 'audio/webm;codecs=opus'\n",
              "    //mimeType : 'audio/webm;codecs=pcm'\n",
              "  };\n",
              "  //recorder = new MediaRecorder(stream, options);\n",
              "  recorder = new MediaRecorder(stream);\n",
              "  recorder.ondataavailable = function(e) {\n",
              "    var url = URL.createObjectURL(e.data);\n",
              "    var preview = document.createElement('audio');\n",
              "    preview.controls = true;\n",
              "    preview.src = url;\n",
              "    document.body.appendChild(preview);\n",
              "\n",
              "    reader = new FileReader();\n",
              "    reader.readAsDataURL(e.data);\n",
              "    reader.onloadend = function() {\n",
              "      base64data = reader.result;\n",
              "      //console.log(\"Inside FileReader:\" + base64data);\n",
              "    }\n",
              "  };\n",
              "  recorder.start();\n",
              "  };\n",
              "\n",
              "recordButton.innerText = \"Recording... press to stop\";\n",
              "\n",
              "navigator.mediaDevices.getUserMedia({audio: true}).then(handleSuccess);\n",
              "\n",
              "\n",
              "function toggleRecording() {\n",
              "  if (recorder && recorder.state == \"recording\") {\n",
              "      recorder.stop();\n",
              "      gumStream.getAudioTracks()[0].stop();\n",
              "      recordButton.innerText = \"Saving the recording... pls wait!\"\n",
              "  }\n",
              "}\n",
              "\n",
              "// https://stackoverflow.com/a/951057\n",
              "function sleep(ms) {\n",
              "  return new Promise(resolve => setTimeout(resolve, ms));\n",
              "}\n",
              "\n",
              "var data = new Promise(resolve=>{\n",
              "//recordButton.addEventListener(\"click\", toggleRecording);\n",
              "recordButton.onclick = ()=>{\n",
              "toggleRecording()\n",
              "\n",
              "sleep(2000).then(() => {\n",
              "  // wait 2000ms for the data to be available...\n",
              "  // ideally this should use something like await...\n",
              "  //console.log(\"Inside data:\" + base64data)\n",
              "  resolve(base64data.toString())\n",
              "\n",
              "});\n",
              "\n",
              "}\n",
              "});\n",
              "\n",
              "</script>\n"
            ]
          },
          "metadata": {}
        }
      ]
    },
    {
      "cell_type": "code",
      "source": [
        "audio / sr"
      ],
      "metadata": {
        "id": "Il51jTWJzu5h",
        "outputId": "5c9c7b01-6a40-439c-ef5e-3072c90d3563",
        "colab": {
          "base_uri": "https://localhost:8080/"
        }
      },
      "execution_count": 87,
      "outputs": [
        {
          "output_type": "execute_result",
          "data": {
            "text/plain": [
              "array([ 0.00000000e+00,  0.00000000e+00,  0.00000000e+00, ...,\n",
              "       -4.16666667e-05, -2.08333333e-05, -2.08333333e-05])"
            ]
          },
          "metadata": {},
          "execution_count": 87
        }
      ]
    },
    {
      "cell_type": "code",
      "source": [
        "scipy.io.wavfile.write('./tmp/recording.wav', sr, audio)"
      ],
      "metadata": {
        "id": "SYyjQm2KVKIz"
      },
      "execution_count": 88,
      "outputs": []
    },
    {
      "cell_type": "code",
      "source": [
        "recording = whisper.load_audio(\"./tmp/recording.wav\")\n",
        "recording = whisper.pad_or_trim(recording)"
      ],
      "metadata": {
        "id": "UoZzpOvoWCVf"
      },
      "execution_count": 89,
      "outputs": []
    },
    {
      "cell_type": "code",
      "source": [
        "mel = whisper.log_mel_spectrogram(recording).to(model.device)\n",
        "\n",
        "# Use the mel spectrogram to detect the language\n",
        "_, probs = model.detect_language(mel)\n",
        "lang = max(probs, key=probs.get)\n",
        "\n",
        "# Print result\n",
        "print(f\"Detected language: {lang}, confidence: {probs[lang]}\")"
      ],
      "metadata": {
        "id": "hhAxPMIBZ_0v",
        "outputId": "e5be701b-2b7a-4a85-d251-09df8731b5aa",
        "colab": {
          "base_uri": "https://localhost:8080/"
        }
      },
      "execution_count": 58,
      "outputs": [
        {
          "output_type": "stream",
          "name": "stdout",
          "text": [
            "Detected language: en, confidence: 0.7134137153625488\n"
          ]
        }
      ]
    },
    {
      "cell_type": "code",
      "source": [
        "# decode the audio\n",
        "options = whisper.DecodingOptions(fp16 = False)\n",
        "result = whisper.decode(model, mel, options)\n",
        "\n",
        "# print the recognized text\n",
        "print(result.text)\n"
      ],
      "metadata": {
        "id": "WyL-0bA6a5zO",
        "outputId": "4ea86fe9-ad10-4801-f367-7ea306c0532c",
        "colab": {
          "base_uri": "https://localhost:8080/"
        }
      },
      "execution_count": 59,
      "outputs": [
        {
          "output_type": "stream",
          "name": "stdout",
          "text": [
            "Testing, testing, one, two, three. Can you hear me?\n"
          ]
        }
      ]
    },
    {
      "cell_type": "code",
      "source": [
        "sequences, lengths = tts_utils.prepare_input_sequence([result.text])\n",
        "sequences"
      ],
      "metadata": {
        "id": "wGu3xIIBu8bU",
        "outputId": "78711717-35e3-4099-fe81-479a2fa0f855",
        "colab": {
          "base_uri": "https://localhost:8080/"
        }
      },
      "execution_count": 90,
      "outputs": [
        {
          "output_type": "execute_result",
          "data": {
            "text/plain": [
              "tensor([[57, 42, 56, 57, 46, 51, 44,  6, 11, 57, 42, 56, 57, 46, 51, 44,  6, 11,\n",
              "         52, 51, 42,  6, 11, 57, 60, 52,  6, 11, 57, 45, 55, 42, 42,  7, 11, 40,\n",
              "         38, 51, 11, 62, 52, 58, 11, 45, 42, 38, 55, 11, 50, 42, 10]],\n",
              "       device='cuda:0')"
            ]
          },
          "metadata": {},
          "execution_count": 90
        }
      ]
    },
    {
      "cell_type": "code",
      "source": [
        "with torch.no_grad():\n",
        "    mel, _, _ = tacotron2.infer(sequences, lengths)"
      ],
      "metadata": {
        "id": "p9hVsmxHvDtv"
      },
      "execution_count": 91,
      "outputs": []
    },
    {
      "cell_type": "code",
      "source": [
        "with torch.no_grad():\n",
        "    audio = waveglow.infer(mel)\n",
        "audio_numpy = audio[0].data.cpu().numpy()\n",
        "rate = 22050\n",
        "Audio(audio_numpy, rate=rate)"
      ],
      "metadata": {
        "id": "4VlApqpFvHB_",
        "outputId": "6d7b4b41-a139-48ad-a1e5-e19244133e32",
        "colab": {
          "base_uri": "https://localhost:8080/",
          "height": 61
        }
      },
      "execution_count": 92,
      "outputs": [
        {
          "output_type": "execute_result",
          "data": {
            "text/plain": [
              "<IPython.lib.display.Audio object>"
            ],
            "text/html": [
              "\n",
              "                <audio  controls=\"controls\" >\n",
              "                    <source src=\"data:audio/wav;base64,UklGRiQ+AwBXQVZFZm10IBAAAAABAAEAIlYAAESsAAACABAAZGF0YQA+AwAkAAkA//8CAB4ALAA3AE8AOAAUAPL/yv/J/9X//v8YAAUAAgAFAAUAFQAwAC4A//+//8//1P/J/+n/yf/S/+T/x//O/8P/nf+r/8T/xv/X/87/2v/l/9r/7f/9/wcAIgAdABYAEgD0//j/HAAdABsAJwAZAB0ABADf/+3/BQAqADkADgAqADgADAAcABUADwAUAAgA/P/u/+j/FgAFANf/+v/4//3/9//e/+P/3v/2/w4Axv+3/+P/7P/5/ywADwDO/97/4v/b//X/+f/w/+z/5f/v/8X/6/8eAAYABwASAPL/0v/k/+r/9f8EAP7/9f/4//T/3P/m//H//f8LABAACQAIABcAFwATACUANwAlAP7//f8pAAoAGQAeABIAQQA/ABsAAQD//+P/7//r/6z/zv/r/+v/4P/D/8n/6//d/93/5v/Z/8r/0v/g/+b/7P/h//b/8//e//H/IwAyADgAUAAsACMABQALAEIAXABCACkAQAA2ABUAFAAmAC8ANwBLAGkAQgAAAB0ABQARABQA2//m/+P/2v/b/8z/0/++/73/v/+f/4n/f/+n/9P/2//l/+v/8//u//P/9/8JAAEA9P/t/+b/4//X/+3/9/8IAAwA/P8dABQA9v/w//j/+//j/+H/5P+s/7H/sf/A/7r/xP/d/9f/2P/E/9H//f8DABIA9//d/9T/3/8zAEwAJgA7AHAAWAAxACgAcQCyAHoAXwBMAEUAMQAvACUAJAAUAP//8P/b/+f/5P/q/wkAAAAQAAQAz/+X/8n/+//b/8P/qf/R/8j/xv/K/6r/xv/o/97//P/b/8D/8P/5/+n/6f+2/7L/3f/L/97/CQAmALX/zv8SAOn/9f8AANL/+P83ADsAWgAwAOz/0f/o/xsAGgAzADkAGQA9ACkA7f8YAJAAbQD1//j/NAAVAMT/gP+a/+f/pf+Y/8T/tP/N/+r/w//5/1gA5v+Z/wEAGQC6//f/AQATAFYATABtACEAGwBCAGMAVgC5/+P/wf+3/0EALQAhAND/x/9IANv/qv6H/4oA8//f//3/GADF/3b/2/8AANP/vv+9/xAA1gA/AHUAZABYACgBTv+R/5cAAgCz/9b/HQA1AHD/8/7s/9UANwHL/iH+YQLc/D0AJgI3+xz+2f5EBlkHKPcL/YoIS/5J/Yj5KP3gEnYA2PabAfT4PQeR/+v6XwT4+v8CWQcP9z/1gAcTB331//CIDnAVPPxp9z781wGLHF3ysPXAFbHsyQB3CpH7BfwTA7kA+/5V/KX7uful+WMKg/2k8TD+MApyBAn6cPRT9zoFiggCBvz3cPEjDkQMFPefAZr9ogT7CPv0WAaLB8PwIQXcDokELvQa/pMLb/wx+3cKO/MV/k8SyOyFAdYNsfm3AecGCfG2/tgE6QOF+Pn+fAqy8UT5HQWhAUX9fwfi6oEIrQxU7lP/dP86B+7+yAjp+Xrw2ghHEkDvdQNZAvDu5RXe/BX/KPxwALIABgjGBYbrGALdBm4DBv7t++/91gv+Aezu3gQiB/ECT/byB1QF1PwXDN/hjArpGb/kgP1fHbLwb/bICFn0ggq2BaTsSQZ0FCTfsQP7FXD5C+44APUTbvh3+0nzVhXEAXr1uAHT/ToOEe2SB00DXf0gAan0Zw1sAe72bggsAB3v9RVEBqfcLhUmE47wngGx+mIBAwQA/mv7fga+AXb0QgXbAf79vvYvBPgM6OmtBWUOSO82ANAJWQI8/RD5If5YD/MBFO5xEvoCy+7oDAz/3vqy/1UD0gqi/OjsHBJ5CJjpAwXADMgAJ/Fq+vER3Qnh4NALHAss98IHS+hXEHQVnOALAM0O2/ZMA977Wv4cCSkAJ/AlDTYAQu+cFffzjP6uEFXyHvdKBloSZvQo7zwNuwK1Afz7Tff0C60ImuwLDT0EKO51FW7u6/xCGxjtA/YjDh3+OvsUAgD6LRNY7kTq+SLG9RH6ff2G/+cYdub39qoRSvu3BOn90fwiBAr/rf91Bzj6BPbzBkcILfvY9asCvQKKD3P3+uvfB0QJxfpEBoj6wPiyE9fxBvx5DETyTgRDC6TtlAseAGn1gBGn+BD7jwaX+rcHDv/T8eoMZQh1+tT3sQkI+fEA7fhNDDr+B+kuHlf9dPTWA9QEDfFnB18CAwOB/ELrqyHZAKPivQe8B+IG/AKz60gMRwfO7IQTtgMe6JsRIfkz/AARf/DQBaX2PgOJCfHz0gEG/XIMlAKE8B39HgvnBUb6vvhc/sQIIATo+nP+J/60/xIHsADO/M/5CQAbDRQAGfcr/EQGuAE//kwDj/TWA7MMS/2W8swEmQWg9HkPCf1L7mQQsP+6+H8ITvC/AM8QVO24AmkM1fFRBhAQBvbD9UQM/vzRA+73SPiJFvABpvQX+/YLvP4C+sUGyP8993v9RAG+/48Sle4a/V0UUfLO+b4BZf+2AEIG1vs7BkH7J/VzCQADHPW+Au4E8ABNALH3zQf7/Bf/9gIrA4MEgfxS+dwIHADP8EsLr/5LBd399PItFCH7Me++DJEAG/gVBTL6xQhMAyj2LQNt+C4D3AW2AEoAxvWz/IETRwLd9JEEr/utAssGDP2H+bn3DQ+KCP3xlgJT+0X7+Q10/QH6MwMm/z3+SAWK/vj0BgOmCnT3l/goCvD3BAk7A//z8wWr/xj73gev/bb1WgEYA8gGhvQCBXIE+gdBA8boLAVHCYP6AfpUB8gIuQAH+SX9tgXp9rz9nBDkAIj4gwKeA3ADVPyr+MoCQgWv+wD+IQFMAl4CFvkR//UGbfvT+S4HZACI8+UBdQaxAlH+ZfbmBCP/4/klAgsEHAET/8oAm/4AA1L/Lf24ArMDlPvP/i0BXf/5Cc791vjbBLH9MPn+AnAFt/yRAW4D1fPaAlwG3PZsAtr9JwLCBdL6GP7jAjL7/QJ7BWP5WgRf/4wBbwUB/Or4ngZmBGH/KQpr+0n/iQbT+I/87wEvAlkD8PuJAi4FPvvy+18Bzv/2+lb9uQFsBIv/t/7xCMMBg/dc/ygGMP6T+08IlP3B/hAIbPz5+SABw/yH+OIFLgI6/TwG1/7k+Br/MQGzA+ACe/um+vQDugAv/Wr++QCVBPn6hP98APD8QASe/hb/pAAI/fEEcAHG/osCUfwZAOYHgf8h/PgB7gFy/GD4dwH7Bmv4GwL9CLD4ewDbAgL8Uf3V+RgAJQk7/kb9xgRiAREAKgDUAQYCb/x0/VEHIwKn+P8BcgV2AGn+Fv2M//gByAK+/YgBnAQI/tT+WAIuAYv4bv7jBmb8W//0ATX/9f5g+4n8zQDr/8L+IQL0ACgEYf2W+v4AEwI5/+H+CgXlAzn/FADw/t/8qwJA/wH9YP/6/zwBPgFiALQDWAD3/p0AHfuXAioDHv1wAzH/X/1cAdb9ogHYAC78jv0x/Dj7NgWZAer8MwW//nn74v/JAEcADAFjAMsC1ABO/in/AACiBWUA/v72ACsDEgLM+5b9NAVWALL7Jga8AtkBI/zf+p4BIf8i/pcA9f9E/fr/WwJNAAf6A/zZ/LH+lQLJAKoBogXuBAD+8Pub/Oz8Tf/vArMK5wF8+oP/9v3J/q79Gf7JAbX/Tv8vBlABU/yNAdgANv5z/YH9hwUvA4z7c/y8/ucA1gCnA4QBQ/xSAK0FeAS2Azf8qAA+CzkGTQR3AYIAIQOeAI36n/rB/vwD9/82+QT6m/S4+WYAkfqL+xYB0wBjBEf/SfZe/kT/CwJtB9MAXwLfCF0Dvv4FAFwBhv+8/qIDwAFY/9QAvwKFA5P96vtvBRkC0Pea+0X/4QA+AvYAgP8W/W77tP/C/w/+l/0w/c8ARwF1/iMBvAXTAsn9WPlB/EoCGQN9BV4DWgAQA/3+P/zr/p77ewGzAgT/KwN0AoYBDwRgBKf7q/7PATYBjwNP/5wC5gPP/Kf5+P2ZAH4EPQQdAnMAnv2H+rH8FP6mALoDQ/8qASb+lf4EBDoA1voR+jb/dgRUAE/+zAIOAen95f1I/lABOwOyAOID4wEe//4AAQD3AEcBMQGi/3EAvv8U+p369vxKACkDBv//AVgBQ/oO/Qz90/2L/3v/RgIDBhoBTgJCBJr8mfrr+lb6dfoq/Qr+BgJxBAkCzvye+Kr6//37/4H+OgJyBFb/Zf1fARcHzwQCAb4DHwQFBC0Dlv8OAjIDY/4KAuMEoAF6BGYEXQB4A6n8uPhwAeD+PPwz/v0AKANj/x7+d/8U/Rb81v/V//38XPykAG4EPgLx/z39VQB1/4H/JQV6ApgAU/+F/fr94Pwf+5sCtgRy/qD7cvn/+Bz7Jfwi/lL90fzlAKIDbQHZ/TwBCwGD/iT/Wf3P/7oEIQSgA7wCTf9L/1EDMf2q/T4GogRaAwYEBgFZAZUFXwCm/y8BngBvA7wGbgQvBXgH1gOlAmkEJQMTASwDUAOHBdoB/wHBBT8FtwOwAN4C+gLuAzsCGf7P/5UBcgJVBSUA9/zS/Xj7Efkc8oLvhPTw9pX1yPLE8ur0UvEI8ALx3+9482v5P/sj+838Pf6B/hX9ePxUATkDBf8WANj/u/2r/Ff7U/50////4wb+BokDbgTNBeYH/ga9BtcHTwepCf8L1wqZDSsRThRYEkINgguMDigRphG1EkUSARRBFQUVxhMOFnwU5BFlD80FawCs/+T8Xvwh+2j5VfYL8BDsOumf6JPoIeho6svrQez/7ZztXO3G7yvv1exl7aruvO8d88H3gPXl8nfzZPKs8wT39vlN+wL76PeX9ar12vU691f5zvh1+e/5NPts/nv/nP2S/cn9FPwc/QP8C/sU/2v/jgTEFKMfmC1ENZcxUjU9ON41jTZ8NPEzRjqONzM2XzUlK4MgPxEA/XrxXufF35Ph09oT13rWAdAK0DHU89de4N3nuesH9IT31/nP/7YB2ADiAXUD7gNnAi0Ayf1l+UH1vfJT7yns4O2i65rmwORq4oTkrObT5CnmC+bW51ntle/97oTw5PFJ8on4Avvl+i3/MANgBI4GZwiVBskGrAAjAJQR9ybePWlOkUvQSDZFVTkvOKQ4CThSQrxFADteNA8nkBg1D+3/EfEb5fzbHdfp1JXTytaA2nrZT9dD1rXb+uR/7R30fvrN/BMAEgQ0BF4FqgZ2AgsA3fwu9TL40vYY9E7ypOm66tDmAeCy4tzj++Xw5iPlpeQL5oPqUOrS54Drle4v8JPv4u1/76L3Xf33AgsD7P7rA5L/FvsWAo4YVDjkSI1OrUkrP+xG90fpQcNDdDyJO+U+yC3iKO4n0RcmChH2QeA600HLBMlO0lfUpNc627zVJdhn2+TeZO2t+T7/GAd5CQAJEA9aEUEQUw/iCtQIMwVK//v7ffZM7vTpxeJH20vYftYJ38Pf6tot21Xcn9+54CvgTOPr53nqL/L/8Qb5hgPfBvgNigpHAUT/YP5RAuIMrQuaGulCOFecWc9SSj1jPN1C+jUXNGY5zzRGOUEvYxXzCIj8lPK56izVAsS8xa7JZ87Y1Y7TOdj04nzgvuaL78b4ew4yG6YXqxerEVQQBhZhD+gIFgNq/gT54+745gPk3OAN43/c1dFpzzvNqNAh2AHZiOIV633q5Oz66iXsGPOV9NL2Dv4//lAFGAtnCH8Dj/SH9mUZMDdOVeNZOz5sPeI/vz/mRO42+TyzTQlF7Ta7JsUXThfQC6rs+tmkyZXDN87sz3DMNNTl1ZHXP9s21LrhZPkzBQUOjAs4CYwUlh4fIMAgTxfkDhsOgAQg/DL4YvIB817un99K2HfSjdH/zWzN+s+M0UjY1t2y3ozl+ejN7Nvvz+1+9ZH9CwiWCVwLeglvDE4Yrgpv+/b9BSdvSi9jPGVbPhRB2jdWLjEzvCUOMCg/nTeYKVcYxw6xBmr/RuSTyNDGh8F1zFPUKs9l1zLdCtcu4DLm7O1MCBIX4xuNHfgV5Rs3KWwpaSfeG3oMGQhJ/2j23fDH7KzrAuMf1YzNw8iPyHvJ6sYnytPN7dfj3/XepOEC5DTt9vmsAAoCCgRSBpoHHQ2xDncN5wwqAoMFsiJSO9dLZU6JPYA1mjQ9JdAhYSYWKp07ODEIIXsaXw4LDA8Dn+it10XTWsvR0CraSt/J5a7qU+PF5RXoKu7QAr0PFhnbG80Y1h2xIrQhVR/6FfEOLwdq/iD3bvYq9aXt++V32VPRJ8uDyprPC9Lt1HXVM9hq3ODiUOen6/DsUO9s99b7VP6lAeUBQQIqACUFdAuVDt0NzQHRAkIcUjw+SMhQvj68NqU8pC6vLUcoTy1mPaIx+B3uEBMF6wR7ACvnFtc20K7HKtZV1rXbpO6E8VLym+zi537zvQI2DSgWEha9Gi4jpRoVFrYQTghTC2UD3vkJ8WTsZewD6lfjHNvO1LTR5dCiz0/Tk9QI2bnd4uDn4wbmK+xE8bb2KfnX+Tj7W/xRANgBCQgmCC4KaAhfCGMYMiGdOFRGEDvBMJclgh8qJqgqcy1pO3862CypHS0GyP5a//T02+ws4ITUq9vO39Hk1+za7gzzCPPo8oX0kflqAwYPCBWZFHURsRCXEDUPKQ30B2YDs/xG86zrtekR6Cno0Oaf3U7X3tTf07HTt9ip3+DgyuYi5NfiJ+TT5L3r6/Jg9Zn4XfmL+uv8Uvu0/MoKKyWnMYFFVDIdKSwzQyZbNYcsQCXnOL84JTJNLAYh9CCKH1gMtfjG6EvcmNov4aXkk+r38BDtM+hB5Pfi9ega9kkDhA59EPcN0gl/DTkS/BE3E1YRjw1mBmUAd/rR9azz2fBI6+rmLeNX4a7hvuD/3FjdttoH3q3hauP05RfkkeYp6SXrce3T8H30JfioA/wEw/88Ak38Tw45H1goeDMbM0w4TTd+KhwonCe/MBY+ijGXK4okcxcGFhMK0fpf8unnDeLz3+Leh+Ka7b/v6PDP8UTtjPM3+kf96QFTA8cFAwzcEboTmBDADAUIsgOs/Vr3QPh99bD0DPWb7aHrmel+5yTkr93z343k0eU96S3pyulp65Xpauld5znnmuzJ7dvvsPaG+Lv4V/brAbUSViS+L3EshDGXMmQzAzDBK0EoMihpLhwukS4jL3AmnRzHCxfyyONG3jrd/OcE5gXlz+zu52/tTuzo6q3wwfX8+lv+nAFKB5IQtxTxFIYRaA4qB48C5f9Y/Tn+9vzR+W71WO6c6N7mfOZi5AvjhN9x3jThtOJz58XphuvO6x7tc+zn7UryP/SN9zX5N/gV9er2CwRvEdIboS8tNvA2OTF3H1geSiFXJegwHDcONp8yWClXG4YWBg8gATX9ku4B5f/kveNq6c7tHeyI7BbtQOod6yDt4/II/IsCUwVrCBEOkhFIFWYSkQq1BRoESf5X+Wf22fMm9kzyKuye6LDis94Y4IvgluMk6W/rjeyH7R7s3Ooe6pHpT+ue7h3z1vXp+hz+cQIQB44CAP5C+00F7hkTKgA2bTZLLmUwiSvrJuMtBi+LM7A2DC/ZKNckAR7zErEEIfPB5zHjr99j4eLgm+M85V3k3uXX54nuMPZh+3n9Cf7Z/sgDxAg4CrMPeA/FCksGpP0L+O/yDPH78AvvsOwX6zPmSOXk5qPil+kt7KHtHvN27ubr0eu67ALvWPPT9TDyU/N078fu0vMQ+Gj5Avq2AWgLhBlZHZUiiiv6LwouRiebJxstuTcOPh88xjaKMFsqKCC6FMMIjwEh++zv/+ai3vvcS+P/5ALoLehE5tHmlONm5aXri/Jo/dID/weuC58NQxDGDsIJgAN2/iH7Wfsx+OH4rPlv9xz2DO6w5tDk9eIA43/mluqv7i3wpu6f6h7rYerR7abx1fU096L0Z/VI8ufym/1CAVkJrhRaEg4f1B4pICcohCQFLxE1wjbUOQQ5HjYGN+swFSbmH3UR3QjkAbL1+vFE7Cjn1eRO4D/f6t8V4OveXuIT5SLp2+238vn5YQD/B7YNRxL6EcgMRgVv/973tfaW98f2lftr+XD0KvDG5nXlI+NL4bPm0eg164vv9PEK9Cr3C/bO9jn3nPe1+Rz3Gvfi90H5gPtb+AX5Gv3TAoQLNxHxF3IeiCKoJPIlOCUkKMYvqTIiNtg1mzH+Lw8owR1kFOcHUQGk+nbxWe3N59jkdeVn5H3lJ+fg6HPrRus97Lvvu/O2+pcAcgWYCdoL2AifBVn/iPgX90nzjfMu9Qj0tvN48Svt8+zn6vTomuyf63vrv+/z8Kn0t/cf+OT6R/YQ9PT1vfN8+Pz2pvUp9wL1SPrh/er+agI+/8YGdhTYGi4q7TB3MDM5uDAbKqAuXixFNyY5TDDRKCgZ4A2SCUgAVftI+ZrvL+xM5KPeT+R05lbtWfAh7nftTfBJ89n4aP5wAKsE7/+i/ef5UvYW+XT3ovNh7jTo4eSC5TDoNO8N8kX09/XG8Z3vpOtK8a/3l/tNARYAjQBU/l37UPl69KjyifKU8ZXwPfBM8p/2vPtIAXYJ6QufEtIaNR0lJLwkiSnOK/Uu4jYtOgQ5JzOlKkMfyxekDzcLyQezADQApvob9f3vqumS6MvntOfV6APvTPPq9R33HfZR+cP6PPhA913zo/OE9mb0QfOS8QHxgvGN7KTpYOtX7WXybPLF8UH0qfXw+fr58Por/a/8UP6J+wv7r/wk/IH9UvuK++H73v2c+5P2D/qM+gL/A/8CAtQFyAgjEnsS6Rm6Im4iSijgJa8goSQmJu4mNSdaJRoiNR5/FxwO1QdmAuT+9Pv59Yrxme4k7jLw3/IX83714/Wc86jylvJe8nnzqfMN87/zHvX78xbwhu427PDq8+lG7H7sse3b8RXzCvPm8J/zgfgm+VL7R/3j/DH+S/4Q/QQAswItA28CYP5T/N77l/rM/G78Qf6CAqkEmwruC5cMnw1IC6MOmBF2ExMZqR3dILEimSEwHSAb7xeWFr8VChB3DJgHhwUTAtb+ePw5+YX5Zfae9yf3Jvbb+CH4yvX+9GH2fPfM+g752vcn9BLwaO5S6mrrSern7BvtNeiV6hXsYuzZ7zvy8POT9e/1rvjB/A7/lgErCO4EtATvBL8AtAINAX//m/2e/bj8evzD+t8AEwYyCF4OlQsJCuYJZAzQD9URgBUTGE0YaBaTGEMWphVZFQUQIhBIDfYLlQv0CIkIVAi4A4MCfQGq/ez/Ov+G/yn+Vf0J/qL39/UJ9ATzP/Mj8mTy3ezd6mvqrOmo64HqkulG7CzrD+nf7A7v5PA29GT2jfkH+9b8SP8XAN4BwQAYAdb+OgD1/fv85gIHBLIHLQlTCI8GsgbmBMoFIQecBhkJUQchB24G3QaMC18MaQ/yD9MLkAz4C7QMAQ8GEQMPGRJWFcYSehJ+DLUN7g24CNoHZwQYB8YFAQKA/874VvXf8fryi+5v7jHv7OwS743tnu7R79vxLe+A7uru+e1M8d7y//SJ9RX3NvQH8Lf3P/al9hT9Lfne+zH/4Pj4/PEAdP87BCwFBQaeBBcMJw70C9ELAgn1BTIB3AJ2BbsGHgotDVIJ1wbzA9oFDQTt/v8CTwRRBgIKewt7DAEQMBCrD0kN8QWmCtYJsAnmCdQIKAsBCOkDigBH/b39OvyP9sD6AfJu7zf3KfPu9a/2JPF08+PylO+y8OHx3vGV9JHv1u4/8X/0L/m27+v6fvoP8sH9a/x++jL9hgAPB5MCGQGWCTAFBAUcDKQIXwo+BP8DZArEBOn+1AMsCnD/xP+bBXgAcAAuBkcE3AGAB/IGSAh1CG0Hugh6BkgKrQa5B6YJxQfzCkwMBwWQAXEFVv41AGH/EgDoANL/GARL/eD+KPgb/qcDHfaf/T378PcC+e/2ePk++tz7r/pb9335yPc2+LP8TveV9y/99/lO+nv8XQAw/6j/AQSWAKwB0v+CApcBPAFhA+EBZAKHAfj4jQLWAWH3VApP+pH8BwPu85gBcvth/5oK0f/2BaoJbQPoBuMD0QePAxkEww+S/TMCgg3V/JwGwgPm+4wBnPiV/9n41fVpA/AAbPlr/xz5R/2O++70TwE4/dv48/zc/Zv4kACe+/D/UgBE+IQCEfxL/FoIkfViAKIMuvZc/LIIcv3WBGQGrP4xDpX///22A2T/u/qCA5EByPwdAFb8Cv4r/B4Bt/pw9+4CE/0h+vgAMP1yA78J+v2HA/0DD/3hCmwD7QA8CjADHwbND/v6HfvJB0H/f/pJ/kcASv6i+qkBnwNf9EX/vftaAHsBlu71/qoB4PlX+0ID9vkw+n8BzPqZAkv1kftCCLj4oAUeBFz5Zw6MALD/vwko/U0KlxWf7WUXgQr97jwZMwIn+bMD4f+Y/+IDdPEYCDYBY+83Cgr+hu1CDg31YgEeC4XwgAYYDizspgMGEf7uahLS/NAGkAXEASwJzv/1BNv7yhEu9j3/EwO/9pcMEu+Y9x8PKfYi9ucCJ/ZC9bPzMPr5BPntge8kDgbqBfl8BeXr2Qn7Dyj1gwOfCG7zuREi948D2R0W7yAZ8gLS9bMUvflxDz777Q7r+IX8zAfP+Yj8APwuDG34LATN+K0BlwRD/+73+wCwBbr5rwAn/p4HFPnF9IsTqO5wCK0TG/LWA5oNDADE/toLw+1kDJMC1/PED9oEOPIDA0QAFvzJ9K75MxBV31sBV/727gYCIPdf/CD6nPtJ6n0N//lx7OwKs/7lAHgM4fau/QESx/qRBq0B+fy1E631hgsGEYfx6Qy1AG4QZPYB8IYL0w3+6XAEZgm9+DQSpvlNA1UAhQQ28QYFbQsW9Vn4yxNkAgzpFAqiCFT4fgxQ/Sb4KBbZ6fQMURVO53wSlgwG8q8E9fvQ+1YEKO49FWT6yOLXCUv8qfNX9+v0HgBw+YzrKQpK9nv17g3L9HD/yv6u9BoOrQHw+W/2QBH9CJbw5/6LG9D1rvTEIo3uCv/NDS36SQ6F/Gn1RRm++fr9oBQ6+C4AhhBk8qr//Q5l70wO+PeP/4Yb9OEQ/x8f0+Lw+cIhTOcNB60IFOiqLmvno/L9MUbcp/3GI37wr/rWE+LrmQqpAyHaXRon7z/sRw5a8AH1kP6O/jv6/fyv6kwZjv2p2oMc/gad4kUPNBbL7f/0hA7gC+LqCvidFAYAW+peBpkB1/dWDvz21v6tCmnzBAMn+2z9UQ/D98UDpgPpBFX/ivQ9C7oNL/C0+rcSRPYo/EUECw7q/M/1oxb39wDxwhVyCljxUg95CAzyBxvw5zH3Wywj2EIACiBp3dIEwAmX4xMRQO5U66IHfgD47kDzOhw19n7jxCIW8k/j5iU66HYLdArP21cq6gp4yuwu6vwa4fEaUfggBRoGk/jdFd7yQ/IQHJvqsgTqCh/5ggbMBTH0XgtVCkrqJAkuEhrjPQQVF7ziJgWBFADoVhO/CeDoFyNX8VvzsyC989Dr/x5zAxLzuQyYDg3wNfzME9rmyQp/+intWhcq63v5dg7x7G3xjgfEA6TejA0+/lj6KgRR7o0REwBE6fcOkx1G1xMNqRcN8W75bAb0B5r4dPymBDACn/X3DXHrGw2hC8Ln8wyWFQPiiAHtHwflVhP0/LsEOBCq5HEOng/o4ZAI5xCQ3+sSpQBE9wUMu//fB1wDnwXC98QMew/w6b4YdArM6UMc++5u9Z4SveriAZ4ERubNBDz1zfO9A5jt6/8XAtXlUA0XC0PddAxlFMvhihA9Cf3h8Rvw9Iv0JCMW8NzYrD8j94/KRTI3B3rbYw1WCYHxWAjZ/DAJiAAt/MQGjSDO1nAQUCedyowqMfwp8VYpy9EjG+Ud07WBOLgB58raNAnp7PoGErrwAw6T+a4BMgMTAK8Om/q1A8kO3O5GCnENUN51E9gDreQTEIb9wOVsCa4OE9alGuH/5tl0KiTplu+2GD7q2wIdA3roGijz29b9UjIrwyULTzRhuvEYwifjpCBZf96z1+9LLsVWEq8XxOHxCoEUVO8oApMU5u1vAqEU0fD2/zQQOvLOAQgXwuf5CIcPOOsMDakDsOY+KLjrsOjrN37gYP8AD0T8ywbV8wMRzu2RCn8J59lEMOnfc/OfJFTorelhG6/739qiI0TmBP2MDDDmKhvM6sPrEB1E4mUIQ/7d/PMF1vGLDEjuCQ8q/Hrp9CFk9kDjMSRrAnbIq0e721H2OjHqyoUvC/mY4vwo0Pvp3DgvV/8U4lcoKAFj4p4jQfA5+EAfGOK6Bqcei9g+HXv/QO95IFzOsyaqAh/l+hX+D7nQuyqe/EbfHjK006cQBQ3u33QYjPv37Dwo89D0ELIdh7mFLOsdS6JGU8b3trfuWlHRMOiKOTTTyfMAMv3HWBnrDFrc+R2X82HvrwzvBR7uBgwJAVbuZQ/IBvjjFB47BVrraRrv/e3vMRS7De7gXyYB9nH2aRZH80D49goG/Fj9bwbO9CgQwu6NCqcDpu4nCCoNSN+2Ii/orvINO2nC0RJ3HVPKHRxCBgnX3CH/8/fvDBho8//0vhiO8tH8CAoh+XEADvx/DbT18vMIH6jk2v+nHNHbWBKOB+be7R6O8Q7g6Csz8T3cOykd+tvnSxTC/+sHDe9+EsQDjgLbBTn8wxRPBcDpmyJbATnX0C1Y+j7gRh0j/9TtxQVy/RoIK958DnsLpdPOJRj/F9HsP/PZ8OdnTIOv/Q0uOjCzqx9zGRTQiiIUATzk8yU03EsLMg864twUD/0mBtv91/cfG4DalxJ1Hnq8hDqC9OfOJjuk5JjqnCOp3hcHGwKL+qMBtP2WAGcKggKV9nkELQnMBsXnCiGO9CkDZxF47lEZhvc38BIo0uzh5qsooPOb4z8pMOx77AUike/T6Ysb5vC25qolouib8o0TqvXJ88wJtvzm+lr8Ugi29fEMwPhS5Yk1L9sI/z4dCOWSETzxQwcZClr0FPWxH3742eKtJybyNvMwB3UIqO22C13/OusmFvT7vusGEgEA9/CdGz7ijA9jBYPmKR5u77ALOv/f+Gcqqd4HCZMcO+GjF9zyI/6CHc7UuyONDBXTjCei6sj3thVM4JQKExZ72T0WMfYn8+8L0eB9HevxCO6+C/IDxPoF9FcEgRSV3lcIdxcy2xMi1+4x8ewzlM62DDYbodxgEYzqkiKd59TpszVt4QP6jwvZ6wIT5Ppn2gk/498z4zw9e+0R6dwfr/yG9uETseutFynsvhNzBMnsOCJc5noOowYq9g8A8gmc+DgDfQT38NEX5/G6BGv6GQQuBsbnMhwZ7ebzARpb5Z37VxjV2DMV2QjPzYImbvO59YgIEvhi/AcFOAGa9QcNEer1HanoBveKLWPRRhHbGx/TWRLkEgHc0xZIEl3L1y6GAO7RbivP8zX7ogP9B8T74PX3E+rwLQlZClfxGBRy/bT4GAsf/5T5PAvuAOn2Yw+j+Rb/2Qpk60QZqPdt78gYXOXdEC8GyN3sJQzkVAV6EYbX/TC70pMHnyZ3ysAJnhso04Ic2/wh5JE27MQpI+j7FulLJ8bJFTcR8lLMHk7A3YXdFzom3NAN4hBgxStNEtoj4DJAU8SuJkjw1erBQJTAOhJ/GlLXYB3J7Vv5fjORxXkPLjkWtx0sOgoH3UkgOP277T8je+oc+fQeMOnlDBHwABmc6U8OLANV4XcmRuO5DngD3em4DSj5CPmoBhz8EPvKB7Tziwri7+H7IBBS6VMHswWW9gb4PBid41wJMBWe1JYoJvQ25EQsV+l+7tEubOOP71cyCuHX8lgtlNvQBj0THuOTFov0vARzBzD10gZkBXz4bfwqEJLnrR/u75P6nSFa1jIk4PZN8dce3+epCtcDQvGcFSftqgDbE0fcjBZjD93QWh2wDBvV2CD6+TLwQB4b4pUJWhWw4MQDmw5y8Vf8aAfD8QIVU+s3/TYV3OetCfz4LAl49ckAI/7IBlUNPc4SORvymdKeQgnZ8gGWDUv5mgP7+74ApvTWG8zYWBnwAHb5KwKl9ggZweZnDD/9RAJMC170HQsSAAb0NhH09uv7dAriAjLt1g6pBFTmGRL69sIANf2B+4n24Rhl8YfjETMO4zf67RgO/8/30/ujE8L/O+5jFDz0rQaACqbfcxXHC1/g7AjJF7vdcAqe/BYOHfB27gsvltuE/momjMedKrn2Cuv4IsffBRgB/m7sfRIZC8vgihtp9l78zglf6hEhKO+z+S0aJ+cfGAvzS+9FK8fhevvZFjT0iABE+PX/sA1w50v+KRa35ZsDwgQI6LUUXvOJ+er+sxFO6BH9ACQB14UZ3Qfv60URmgqx46AP0he5260aowEA+HUHc/6D/dYHiPVPCNf82P7bCnDtHwrSA6f5ZwCMD8TjGBJG+5z9mfux+0YOUvHqBov+NAWk8FsDLBF3+j7vMA9ZB0r50fYiDgAM2+fZCbQco96sBO0YNul7BqMAbPc7CO38+uwUCT8AW/HpBT78O/yP+r4Cw/8W71AGbgZt/4bvZxpR/Y/q2SBC9u34nAiOBS39PwJ5ARIG+/6o/iEHEf6t/uX4/AyI//nxZATzDivu9wGkD7nrRwpxACP5eAbw+B8DfAKW8NcMNwXq5tgRRQLi8lYKvfnVAN0EMPgXBYcKevFXAwsKFvRIAFkFbfw//GUJlP1w974DRwPT+jL4kgmZ+bn31QqB+aL65gVb/e770QUb9RkFjAR09yIEnQEZA871yAiYBxHzWgY/Bp76Tv+mAxkAQAH4AgL6wwns+5H+8gQV+yAGLffDBmUHr/KLBGUKjPVTAD4EXABiAGn83wP3APz+Wv1wAaABKvxRAgIAgfw7BmP8AvuqBYH/Gf1i/usA5wBl/8P/zQDH/RwCNP+zAPD++ftSBNr9Afw1AsYAF/3t/ov+aQZ39jkABgdT+kz+JACWB034xvpbCTH/QvopBakBCP2vAo/+0ACGAK/9aQNw/7f/wP5QA9H+agCiBNb6sQSD/iEASgHd/1wAQAAwAGH/pgNX+U4FVALq97ABawQH+PL83wbA+6L9/QWP/L/8VgM6/ob/1QHU/y8BYAax+SsCdgUd/RP/5QAzAgb7SwL4AEn/gwE4/acD6v66+qMBCwKw+z4AqwOQ/EYANf7uAXkAJ/nJAwgBXv17/bMBuP7C/OsAPP03A838sgBhAQMBjwDY/dUEIP2HAuIAr/+JAAgAYAFy/osBZP62AFAB1f65AEL/3P7U/mL/fgBG/ND/iQLV/QH/iAFx/R/+1QIM/GQARwO6/pz/XwR5/0v9TAQg/FECwwBM/JQGQf/4/noCmADy/lACRgC4/aUGTf61/qoD/v1y/wgBNwB//kgBIv/W/gUAav2FAqv+7//zAE39mAIQAH7+WgL7A2b/bwP7AZH/ngI2AMcBYwCSABf/VgAUAZb9Fv7+ANT8af0eAdr6gv/w/lP7EwMPACX8lgEZABz/Z/9i/S0Bg//s/Y8AS//RAGMACgCFAcD+3P+WAZ/8UQLgAMz/IQRPAV4A2gIqAkP/sQHqAWf/3v56A2j/ovxeA+L+2/1M/ob/5P/L+2H/ev/kAJT7qABeAxX81v9wAc0BLf1bAZ0DZf4sApQBFQBOABn+jAG9/rP91QKO/un93wIi/MX8xgEN/FX+jf9R/ej/8v0wAH//7v+Q/+3+ggCL/cwAZgGU/tMAEgMeAXX+6gM0AKn9IQX8/RcCvwJF/dsDAgJD/98CGQFb/v4AKQJO/k7/3QLC/5D9UAAfAKf80QA2/h0A8gG5/SEBwQHp/Yv/xAH//xEA4wHdADkBXAGv/m0Egf6v/aoEj/tHAOkAr/9S/5n/UgCj/En/JP0Z/yz+gv9r/zz/Hv+E/87/LP11AKT/6/5KAFYAXv+n/6kAvP/+/wAAHf83/8cAvv2q/2kCSv9qAeIAwADM/5v/kAEjAP3/IANGAagA+wHGAIoAWQEdAC4BQ/9xATcA2v7EAef9ZAHN/4j9fgAW/0YAKQCc/0AAwf//AI7/uv79/zQBN/37/7MBkf0o/wcCoP6g/s7/9v3x/4T9rf+VAHn+3QDmABH/Mv8dAKT/ZwC1//j/PwPX/dgBPQFi/ncBxf5U/5r+Vf8I/eQAe/9x+xECh/7J/iz/yP/vAF3/YABv/9AAZP4O/9ABIgD6AKIAzQJR/3P/9QN5/RcBzgAf/1ABRP+0AEH/rQLL/7wAUQHh/rAA8P3iAPQAMwB4/oIDrAAF/Q4B0gC8/kf/TQM+/s7+GQAJAUj+wv7PApX92QC+Ab/+0gE//2sBiv9o/ygBLP9PAD8Bwv/s/zcBjf2l/zz+bv2T/nz+wv52/+j/Qv8w/2IAxv3S/pwAef0hAXj/9gD6ABwBjwCf/l4CMgD1AEIEQ/5YAXsD4P2vAf0Aav+kAGsBzvxJANgBevp7ATgB2PyS//ABAf6M/XkCif3i/hoCuP4+/40AEAFp/1YDAwDH/j0CCv72/0kAkACNAVsA8AHe/6z+YQDB/cH/vQFe/8f/1f9A/27+6/+v/rz+MQEB/ir+FgJy//v97QBx/0kA9f5x/n4BD/6/ALoAQf6mARgBUf8ZAWECuv/V/sP/EQLE/vj/NAL7ANYAEv7lApf9CgC7ANn9CQLZ/oT+6P5lAgX/vP1+AwL+f/7OAVcA0f46AI0CMf5LAyQC3Py5BBb/s/1yBEgAY/9NAkIBPP+XAcH/VPzeAfD+9fq8AKf//f12/7QADwHZ/TL/ugF0/jgArQAb/oICygAI/mQCTAFU/lICnv9n/P0CFv+n/OgD/PxF/gMAs/6z/0b6KAKX/yn9SgJs/sEAlQHo/tH+xwQS/4j81QNu/mUAfgAxA/0CJf08AxsAOf0X/yQC+v3X+4EEjAID/r//JwDnAHv8ef/VATX+Lv6NAVIAQ/sIBJcB2P3f/w/8pAmZ+U35lgiQ940ERwSL+TkDSQOf/B4AagHn/JkEpvqbA/IGFfaUA0QFKvkHAN4DOf02/I4CDANV+ZMCDQFI9w4EJgC6/PsDV/40+0cCk//x/IUB4/2IA2YAFvvcCOH+t/rHA97+BwLOAbn3aQNZCRj8Ov0aBDYAnv0RAI0DgAMa/jT+XQArA578HgAaBr/6pPxcCLL+rvZpA+L+SfyJBHD+oQBN/GoDwQS2+iEAowUe/pf5igic+QkApgkO91ICCga59zUB5AOF9j4EiQbM9hMItvvv+/cN5/mZ8jIDVQSkFtf7T+yzCp0B9gDK+Kf9HP04CqYDiPSM9WQKxweY79wBwAJs/Cf7QQfRAlf58vvqD1MFrvJA/2D+QAO5AVD4VACrCkT4n/pGCbP+//3I+e7/rALPAacDyvlw+/UBfgCn+O8CTAUy9u7+OAq2/jX0lgsN+Rr3QRRL+Xz4ZQgWByb9qPZoBaQJUvK+BiMQIv4O/SIEQgoDAMr8M/k8CW4AEfovBlMGs/yG+YYDw/I7DYH6s+LDHfIFI+/79KIG9gTc90kFkv3W9X4KSQfU+B4K0/XWBQwJhO2ABXUO2O1e+hcdnet09DUXN+/s8rQEfhLe8lvffx7OBwjp6P6dEYgDXesF+8MJuww28Bb/6hJa+xHz8v8DDaDy0/mfEGkHX/f28ggGNBR6/0vrAfoxIiYICeR3/0sRvwqC9s/3kQrnDafk2QQpHi35Lfe2/2YGbwj8+gL2MQfhBlQAkvBJBjkGqvnbA7H9UfOh/JwPm/5w+3/1JP8XCdDvcPn5AQoCgv7D90UAzwIK+Qv47QKNDDH22/JgCuQEo/y4/DMMQQh5+XX/8ASmDOn9rffEBQgLhgJy9w3+ngIzBFH/hv0d+nb26v74CLkBA++u+ToNXv7t+dL8+PRfC4H7DPpBBxUDHvqS9tAHXwHj+h/4uAsRDNv4J/n1BzgMPP/h9JkBQQ2lBYT9t/2MBqX+yACcClcATfj6/Br+6QYFAr/68fn6CNUECfHU/I0B+wSZ/on5Hf3g/QQBqAJFBP71RvkKCqsAnQEt/Nb62QEx/3ME+f6+AD79+v9wBPD+ivpd+FcHAAEg/iv9bv3pBAf6a/zOAFIHCAHW+WkD4vxl/AQEcP+q++0Cnf8X/g4ASf6xAyn93f71AWEBUAVY/8377/6SCdAB+fj2A9ADif5O/XUEygSE/+f/vQQ6B58BP/0HAt4CfQQNBTH8vv5DA3QCVwPH/Jf+bwX0AEb9kf7R/Yf6If5C/sYCTwJT+7UAcf/Z/i0ABv1NApP/xftQANP9yfsc/1UBlwAn/wr6qvfd9xj78/nh+TH+U//09x72V/mG+bn7D/gKA6gAkPqu/joBmgFJA1YEav8jBwUFoAb4BkgGige+BMQKiAm7CJMMjwpJDdYKrATTCf8JFwpPDOcIFg4dEDUEwgCmBTsJzQYKAjoEVgB//9IAIwGBA+r60/yTAHz5q/h5+Vv3IPtM+Dr5QPuu72rxE/pR9i30i/Qt9436//Xy9mj0EfcJ93D3g/pS+Fz1c/oFAo79d/KL74r47wF6/Q739fpr+aX5rPu09AvuI/Yj/tYAaPoF/1T9bPyVAiX9pf5FBSsMLRBAHfUWIxI7FLcVoR04HsIahCKRHm0WnyGWGu8UaxDuDQETiwniAtQEQf50/Vj3y/D58QDq6emn6tziKeAJ6W7mOeVr6OHn++pE6efwNfDh8EL5TgC1A5/+OQJUCO4QpAyCCQ4LUhCIEVoNwRNPEMoP4A+TCE0DWQAJAskDbv8i/vr6QPb99Sj0Ju8h70Ts+O1478jiYOKC4+Pnmunp5BnlJuUE5tXq2+Gy4qL1JA1LGjYSkvWY7ZIG1hT1JuUkTSpjOjNASjAgHaQajytZOUovoigMItYkIRwCFXkPFgOq+sj4cPfp+af1te0F6f3g3ODX2N3VHNpJ5sfls+RR5JHdWOVA6qLw2/FL9zX7jQF7AX4BrAmqD74Trw/EEdUVExgEGt0bixpUGuIUcRDFDkYOqwzdCvMIvgHy/Pb6Lfbh72Dzm+2n5YPqmecH4fTeI9+Z4GXfuOEa3Ijcy9/+3Rbkf+Wv6H/jjeUz6JLtOe1A8U7tI+m2CUUd8jeVH5UDUQK1DbkmjSSrOB5MPFMPSWYx1R4LJ0Ytui67MvouPCouH8kV3Q0DC7j9GvQ/8CXxS/K962XlROWb38/S+sfczNXZd+Ac4wre/t8f4nPjBebL7DXzyfQM9xEAcQ3YGp8ZLBM0DUkKmRDSFvAkJSlFJWgiexkkDV4H2AlAEr0W9BMOBWr9A/o28FrwJvDM73Lsf+eP4oDfyOBW3xzdz92D3D/ciNyT3/rjx+TB4W3hk+Tc5O3pKus/8L/0HPMs87b0f+1v9tIKbCHJNggi/whjAY4SDS+JN6c6eD5xQvc/wzC2JS4kCTEkOZIznSpnHYoZSRefEQQNyP+o847x6PG470HsFegW4ezY8dO50G/QLNvY4NHktOHa2D3ZwuAM6Nfrw/FO+cL/uv6I/dEC5A9VG0AYoxTAFl4cvx98IF0i6iNEJcMdSRoBGlYUeBHmDXYKEwYV/8D+mv7P/Gvzrug45PzhbeLP433lNuCG3dfcUtuN1xjWP9ff3cPi/eDu4DnjbOM55KXmful564vtXvH38qf9d/3D+xzqOfh8G+Mr/zwLHLAEoQlUHEUsgS78QcxLIUl1OOEaxRciIowr3zPpNBIwrx2NCQkEhgZNAjL7tfSF+rL8sO5H5ZLeg9uF2X7aKtea24Tg+d1C4Kjd9Npn2vrjOu9K9or5/ve0+xoAeQJZBHIJihJXHokh+CBAHhgckiBiHfsdCyRLIwQhBB2YGIkYYxE5CecFmQXrBiD+i/ZR8arvbu+B52Tir+P84v3fhN8g3b7eqd7P27Ld++Er49rh3eWj6fjqyupd6gLuQvJf9rr2mvUO+tr/uwBk/vD/b/9sAIgBlPhl+UIIRSCQMaYklgSU8HcAAxs0L4E0ADbqM6UkthetCZoPjCMIMJ04mDKOF8QC9vxOAtcKNAgWBBMEWwP3+O7pv9+P3srkcejM543qfugI5KPjYt2y2iXhleXz67j5T/zK9xf07/IG+WQALgUuC/0SlxYMGCAQsxHrF5UWgB43IK8iviRKGk4XWxUaEB4MDwrJCVcKnAltAnP6kPGk6cnn9+rr6iLpX+nU587hut3R2+7ceeLk5Zfmfub85+7nFuco6RPrrOze8Sv3Ffm7+qD5GvmW+lD8A/3r/iwCkwMABIEB2QJlByoRHBNQDV/9avlFDvsnky5IIMYQ7Q1MHTQarRieIA8v7TTtKQIVXwhzD80RuRcfHL8YBQ1qAPT8VP3q9qvy0/Mq9tj2fO015CnjwuYg5G7mZOq+6aHuh+2A6gHtwOxp7ob3Sfz9/nf/LwPZBNQCsApSDh0PdhHJEScUdBaSEw8VoRd7GaQXaA/ZDvkQzhAODDEH+gWzAlsCKgHG+afzLO9y8OPxn++d6WvkK+eV5zLmUOOH5KLldeRj5hbqKe5o79fuT/Dz9Kn1W/SG+DT+CwDGANj/ZwHfAS4Abv0g/9YFBgVPBEv+tvt7/Pj9Nf2/+sX3Gu3Y/VMQjB/FGyz0lOPG9PQUtC4oLcYfUSVdJv8QTAl2DQMhoz1zM3Yppx0nC10HegxUFTsXcRJ3BrMDnwFS9mfsqucZ7DPzD+3F5VHmFua14lniVt4b34XmH+ow7//zV/Mp7qvxNfRU+yYElgfOCcMICwp2Cj8NQhHlFdwVORYWF5sRoxI/EikRMxVbFjwRpAs+BycD2gTSAk/+XP6y/CH4V/Nw8EXsT+s87X3sNO2f7MzpWupC6qPqh+3o7yfxsfFq9fL1//Rl9hH2aPft+n37f/sf+336cvkw+I/7OPl197H53Pm9+NL39/Mz9tH1KPTo7K/v2QITDk4UvQFj5Q/qkA7VIWIsFiAEFFIlrCEBF6cXRyT5Oz9EJDV6JVUYnBNCGRMgsyR2Hw0R2wbG/0P98fUN7TfxvPaU86bp1eLB3CTep93K1+DdpuHT5D/ndeak5VPkYOUF7OPxL/lC/m791AKAAs4CyAVGCMIOUBTsE8USmRMsFaIUJRJGEVISOxILE5gWNRKXDdkI1AFoAo4BMAIkBFABlf399wDw6u808o3xj/lz9+jxZe7c6cXsIPHh9L70CPbS8tDw5vJK81j5c/yT+kv3RPjL+d76wfyH/Cn+8fwL+df1O/f8+Sb6QftN9pH4HvWu9Uj0PfSo90rzD/I08hf/0wvwE34CK/LF8tsHth98K8UnqB7bIPoZHxUUGJwkljLiOl00HR5gFbQSSRCgGncc4xl5FOgJfQF5+dTymO1q9D74ovA/67rlGuLg4Y7eFNgf3iPnueaC6tfrleZJ6Brot+kj8ZX3F/0GAQQD1gICAZsAhgLGBtgRnRV4FisTng11DM4LtA1oECQVtRVzFFIOoggZAzb+MAPHB9AJjweCA4b72/Tc9CzzAPei+t/38faF83zunO478GTwzfPw9rn0xvL28cLw1PNP9rH0T/ZA+j36Z/i097L2Jfnu+sb5aPoC/ev7lvvQ+SD5XPsE/CT65fsV/cr7Bvtk+Yz6a/z3/hP3R/zgBpUOuw+F/n/30wHJE24jhSJbGZUYPhe2FwobRB8hJ48v7CfJG1kTBg5UEcIUMhpIHK4ReAKP+4P1c/TT9e702/ll++XwCedL4nrfluQo6qjsTO6M7V/nXOSZ5hbnCeza89n7sv3o9wrzrfNt+rgByQbiCbAJxAhyCb4Hggi+C9QP2hX6FTIQXwxTDNQNqQ55DxMN2wvIC6EIFAfGAmwBIQLiAfEALv+r+3L4D/iT9TP3GPiD9gH3W/Ye883xsPCD8aj2pvZU85DzjvTf9J71YPQ483/2y/n0+dD4Avjg+Lf4W/qT/CH+bf6z+wr8jPx8+3b6Kfyw/hsAvv+t+4b3SPTA+AT81QGE/sL6uv2HAZUJRQLeAVEFLxMjGgEQ7w3KEY0cHyPAGvMVqxq0IEoewBqAGj8ZyRw4FtsPGgw6CgELQwpwBcH+ZPkJ9uvz3PPf8cvtvO4v6hvo2OUG497mD+zl7ubsuOkz5lbop+8M9mX3afzC/9/6uPgi+RH+wAfPDY8LRwz/DF8IygXkB2ANZhePFz8PBAxUCmYMXgzLDAwNrw3pDbsH5QIMAZECBANeAWD9ZPsi+9f3//O78iz0EPTZ8ybv0u3X8XbxYvLn89TxYvTD9mTzgfVh9in41/ya/Nf62fkT+4/9+f7l/AT+sQHlA6UA5fvL/Dn/hAD2/HX87vy3/RL8EPkc90/4mPZ6+F769vew9QzyL/tvBsAE1PqL+ET32QWhDYIPtBe2FekTIhJCD+oSnRsBIJEleSE6GoMTeBDvEjkX6hfOF4YUrwqXAr/8Lvq4+8L/GgDY/Sf2aOyU6PnqPey57iTxW/EE8cbrGufv5mfsk/M6+Zr5p/iL+Uz4W/mR+tD9NwVtCPwGcwZABjUGtQZlB90IigwQEJsPkA7dClAGUwfxCm0MEw8iC8MHtQhcBAEB0v1a/qAChQJu/5370/eY9Yrz5vPX8+D0vvQZ83LzVfHm7yrwKPOI9fT2l/ZP9kz5Xvip+Ej7Uvxa/jT+tP6hAAMB+f9g/3f+MADgAPT/GAGC/4r9J/1y/XL+8f72/Av8gf2A/Nn64Pm7+Hj4wfnU+XX5zvp3++z87v51/kz7ggAcCSoLlAsGBsEFjw/iEvoRzBPgF2IdEhtWFqAQlBMnGE0Y2BgqFq0SUQ8KCgwIQwu3CHMGkQTpAfr+bPtC93f4HPqi+Pz2i/TT8n3yCPHP70TyQvPQ8m/yEfQB8070r/RM9FT3MPjv9xP7iv0w/CH+iv55/g4A8wGvAqAFqwdxB7IIZgfCBqsFaAgNCaAHZQnTBzAHgwZ3AkMBpQHBAMUA4P+7/cD82fpo+eL42vWE9Xj1/PUk+Lb1IfQL9FTzr/QH9jj3hPkX+lT5ffjA+ar6//so/74A2AAOARYAf/40/yAAPwJoBFMD2wBS/Wz8T/uQ++r75vsU+x/5cPgL98P1gvZS90b4iPp1+dT7yPz//joATACzBEEILg+FEW4P+xBPEkET4hZSGL8ZKByWG/AXnhZbFPASTxTzE3ISoRD2C1wGoAU6BOUCWwBT/Xz7s/q1+AL1E/Tg8+vzRvO58bfwjPFK8kfzsvN/9FP1Avf895L47vnL+qr8o/3v/kIAa//J/lcAcgLvBO0FHwVlBF0EJwJnAMoB6wJqBuwGaQRKA8AAqf68/s3+KQCUAgIDqgGo/jn8fPtg/en+av8pAH3+I/2Y+gD42/fp+Wv8EPzu+8D5pPYB90n2kPcG+tb5qPny+dX36/aA+DD59/sr/mb8/Prf+m/6RPxI/pr9uv5K/4/90/tg+bb5Wvyb/EX80PsP+xv6kPps+N74Wv1b/ToAegAG/30BrALqBTwKNAwVDQANAg5SDSMP6BGKEfQUuhUwFuwUMhTYEeURuxOsEkETRxEKD1sM8QkgCFEHKQYxBTMEIQN+ACD8kPk6+M/3/Pel9x72a/YJ9cjy2/Ha8MrxWvM+9CH1yPOs8nXz1vSm9/H40Pl3+7/8qP3Q/rb/DQH3Ai8DNASDBGoD/wOuBWUHewgMB2sFxwQ/A0oDDgNaAvcCbgFGAHD/nP3w+5T7uPpE+877kPl++K730vb396X4gfeI9+X22vby90j48/iC+oj70/vy+xf7zfs0/Qf/FgC4ALz/Of8j/zr+Vv7O/qr/GAB//4b9CfyR+0X7dPtv+8/7v/vI+pv7gfuy/Mf9ff5QAMUBRQTVBAgHBQi4BwUKDQqBC1APgRCEEacQNA9cD0kQOBEgEkUTjxL+EH8PeA1SC6wLYwu/CgEKjAYxBOQBFgBG/5L+tf00/Gf6bPhC9yz3YPbo9e31UvXX82bz2POf9Kn1jPXB9c/23vZ49uX28fcv+kH9lP6O/w3/Qv6I/yUBswLpAyQGPggdCE4FwgIhAmgE+QXmBeAFmASCA/AAZP/N/2sAkgDp/6n9D/zl+s756/kd+2v7N/t0+1H64/kq+Sv5fPtg/B78I/u1+ub7afyy/Mf80Pyi/Uf99P0C/c78jf3I/ff9mvtJ+5f7S/wO/X/8e/sk+9f6gvrg+sD7hvxK/Tv8Jvv0/Ar9XQAAAqYCjwOQAhYEpgW7CPYKXAtCC24K6AoDDK4NKg/6DxEQ0g71DZoMwgt2DE8MUAywCrEHWQUOA64B1gB0ANP/+P28+3D5w/dP9sH2IPgz+Zn5GviO9g/2APY398v51vzk/ZH9Xfy2+rn7Svwd/lwBGAINAp4BHAAcAFcBUQIzBKkFmwX7A3gDDAOBA+cERwWUBTsGFQVRAxIDZAIQAuoCXgLaAXMBCP90/Tj9xfwT/Gj7EPt5+x386/te+1L7s/qW+Zj4gvhI+WP6VPsf+3n60vnm+Mb4Ovpc+2X9sf1M/Cj7/vlz+gz7FPz4/PL8x/w7+zT7LPxT/W//jv+X/8D+Tv0H/Un9Gf8+AUoDUwNDAmcBpAEzA9ID3QNaBAUF2QWZBWUEugOLAw8EGgS1A0sDQQOdAwwDyQGXAA8B3wH3ASACgQGaAMsAPQDr/0AB2QGXAr0DTwNBAxoEuAQVBkAHNAeeBpgGswZSBkIHgQcZB7sGNgWZA/8CrALAAiED0wGKAL3/j/0q/WX9D/7SAIcBogAMAOP+Hf9QAGQABwHSAVIBQQCh/l38MfxS/NP7Xvsm+mf5iPhw+NP3qfcq+K/4Xfk2+i36lvmi+Vn6APuf+777W/sA/Fj8qPwR/Yr9Pf7z/s7+BP4y/nD+mP4S/0f/y/+4AAgADP92/kH+0f77/l7/w/9h/7f+jv0d/e38ev1//vD+af8A/wX/9f5v/lr+0P62/3z/Xv8x/yD/Jf8V/67/8ABjAQsABf9X/tL9B/4y/gv/YAAzAO/+VP5+/sX/fgEXA2QE+AXkBocHigidCd0L5A3aDg8Pdg7jDeANBQ6pDnAP6A/7DgENNgvRCdsIBQhoB/MFGQX2AwMC+AAWALL/SwDl/0D+Rf1C/MH6E/u2+mP5kPg89mj0BPTS873z0vSD9GDz2/Mc83TzF/W19bf2d/f89v/2/fck+ST7b/0N/pj+cf7Z/c/+3v+yACECKANBA7cCkwFNAWoCcQP3A3kD3gL/ASIBpQDi/xcAJwCM/3X+TP3Q/D/9p/3o/Cr83/td/M38Dv0t/Yv9g/3K/CL7hfpj+lP6WPtj+1T7jPoH+WX4kfk5+2j88fyo/Jv8SPzL+6P8sP45AdkC3AKNAocBjQH4Ao4FDQm7C3EM2QugC08LxwtqDqoQTxOZFCMT/xC3Dy4QXBElE+oSphFED/4LRgoWCcYIXQgmB3gFsgOGAVX/G/54/WP9r/yU+nr4yvZN9nz2CvaS9YD0EfNc8sLx3PGK8hvzDfOf8jXyGvKn8jPz6vOr9WX3ZfiB+LH4a/mx+tT7O/yH/er+6v9WALb/xf8vAfwCEgRPBEkE0AMWA2IC9gHOAkUE/wQ0BJ4CnQA8/yL/l//E/5r/wv4//eP7G/v/+tL7gvwo/GP7BfqB+Kf4ivnC+o/87/ww/IP7vfp7+k37uvwB/jH/Bv9V/rf9fP37/lIAJAFmAS0AiP6//WD+iQBfA7sFDwjQCa8KdQt9DOoN/RBbE1YV+RamFrYWNBa3FfUVCxYRFgoVjBP2EOUNpgt9CVMHLAWOA9QBvv+s/cL6uvgv93711vRO9NnzIfN28U/vWe6J7jfvWfBp8Hnw9PDZ8BrxM/Lg83P1bvZS9+33lvgR+iv8Gf6s/wMAg//W/28A5gGeAzUEFAVBBRgEigJWAd4ALgLnAw4E2AMkAwMC4wDG/w7/Mv/n/8L/BP/a/Wf8gPvX+kX6/vni+QD66fml+d34t/gn+ev52fpp++D7Avwz/D/8RPxl/BD9GP5e/hH+dP3H/A394f3//n0A8QCqAAsAaP9u/7cAOAIkBFoGrQdzCSgKQwsoDU8PmRKRFE4VXBWDFeoVMhYYFzgXjBd+F90UmRIgEP8NLA3kC5wJsgaiA9kA8P4M/fP6svk0+B326POr8ZPwWPAp8K/vBu9m7gbu5u0j7tLu2e8/8cPxK/IA8yj0yvXw9p73c/jR+VX7Nf24/o7/sgB8ARkCCQOpA0QERwVWBaQErANlAwIEjgSOBMoDvALHAR4B0ACLAHIAFAB+/2P+2fwC/OD7PvzJ/Ef8Iftz+g365fk5+vT6x/ts/Iv8wvtJ+2r7pPtv/AP9/fzz/JH89Pvw+yr8H/za/Hn9vv33/aH9ef1s/ov/bwE2A64EQQbLBgsIuwnBC9IO8BClEqUTQhNXE9sT7BQYFtIWixbNFd0UxxIVEW4PVw7NDQQMqAnKBqoDpQGb/4P9Ifxt+oX4dfZT9PryX/JE8oXxG/AP77Tutu5+7z7wqfB68c7xh/HS8Qzz8vRI94b4jvjH+Iz5ivt9/RH/awB0ARICOgImAmECqAMGBTUFXATrAp4BTwE6AUkBPgHGABgAJf94/hv+Qf6T/tH+ev7I/S/9+/xE/Tf9Lv1a/UL9Af1r/B78KPyH/Av9VP0q/W78Y/xp/Fn8P/2I/dD9KP6d/e38tPz0/J/9Uf6Q/kn+o/7m/nb/3gCTApME/QWQBpsGeQegCGMKLQ32DvwPVhB/D5UPAxC1EHARexGlEQ4RBBA9DmEMgQtTCuUIZgcbBYUDIwJ8APb+JP1g++z5TPjQ9tr1nfWm9Wb1vPSX85ryiPLU8k3zLvRo9HP0yPTV9Ez1J/Z29634vflO+pD6Evvk+xv9kf7A/4kAEwFjAbkBLAJkArYCDwM6A9AC6gHqACYA4v+d/1v/av9p/yT/V/52/Tf9Cv10/bz9j/3G/aP9cv1I/eT8s/zQ/CX9gP2y/af9af1b/Qj9xPxm/KH8JP10/fr9MP4i/r398/zw/Pn9S//LAMwBOgK6AgoDhAMqBVQHVwlmCxcMZwz5DHsNfQ6RDz8QsRD7EFUQ1w+oDzcP0w4BDqkMKgv6CZkIdQddBq0EPAOvASgA/v51/QH8/Prg+dX4xvf69n/2s/X/9P7zlfNU82zzJvSH9M/0zvTG9Lv0AfXZ9eX2Rvgb+Zz5EPpl+vD6xfu5/Nn9Bf+M/7z/+f8+ALYAYgEHAhQC4wGHAQEB/wAQAS8BLQEGAYIA8/+h/zL/ff+U/93/Vf+m/hD+PP1w/aT9/P3Y/Uz9x/w7/P77Cvxx/MT8v/yK/EH8B/wl/Jb8fP3w/fD99v3N/Ub+gP9LABYBcgG9AaMC4QMXBSMGVgc6CCwJzAlWCqAL7QzADWEOeg6FDscO1w4ED98OoA7RDcoM4wuICukJKgn2B9wG9wQxA7kBgQCB/57+0/3P/G77t/lD+Gj3zvYG9/32ffb39TX1nfRN9Br0avQH9bL1K/Yr9mj2v/aS97r4ofnY+gr8w/yq/Tn+rf6Q/wEAbADZACYBogEqAgMCdAEoAZ4AYAAzAB4A+v+5/2H/cP6A/XX8Tfxy/Kz87/zH/LL8ivwh/Kb7cfvs+6f8Xf3H/Xz9Lf3k/Mn8Bv2G/QH+Yf57/kP+IP5C/rf+J/+v//D/RwB0AMQASAHhAeICjwNfBOIEfAWvBrQHtwhoCSEKogoeC6MLIAzIDC4Nag06DaoMDQzdC2wLBwuECk8JQwiaBmEFbgS4A98CaQEKAI7+ev2Q/J779/pf+qH5v/gE+Mf3rPef95H3jveB94H3w/fs90X4ePj9+ID59vmM+gb7g/vW+0b8qPz3/Iz9Af59/tj+GP8M//3+Jv8G/yf/G/8L/wn/J/9I/yv/Bf+8/qT+Wv5y/kX+Uf6J/pf+nv6A/or+Xf6I/u/+Gf8t/+3+8/7g/sX+9P74/jL/KP+v/mH+Ff4f/hP+//3Y/Zv9Of3g/DX9iP1x/hD/gP/T/8L/ZAAiAUsCNgN2BGYFywU6BkIG6QbzB/QIHgrfCh0L9gqwCoIKmgrwCqALFwyeC5MKIgn4By8H6Qa1BlMGpgU1BIoC4wDx/0z/7f5B/jr9I/y9+sr5VfkQ+e74APks+cb4U/gj+JP4NvnX+Tj6Vfp5+qv63foQ+7v7Lvxx/JL8gvxg/GH8qvzt/CP9Hf3r/OD8Pv2C/ef9/v3e/Tb+Zv7w/nv/tv8lAEEA+v+6/+L/KQAKAbEBtgFrAZ8AbwCXAMcAUAF1AR4B8gBzAP7/8P/N/w0ADQDh/0L/a/4n/tv94v2p/Tn9JP3k/P38xfyL/L789fwM/SL9Tv20/aX+nf9oAAYBgAEgAtQCqQOkBNgFsAZfB7EHwwchCHMIrwgdCVYJSAk2Cd8IMQiWB0UH9AamBjQGRAVvBIcDvAIDAk0BtQAKAFf/fP6s/Rr9ovxT/PD7dfsa++L6v/q9+rf6pPqO+qX68voh+z/7P/se+xf7Iftv+937QvyK/Nv83fz6/DX9UP3E/T3+uP4W/0X/eP+v//n/VQC5APAAaQG7AeIB9QGPARQBzADFAPcANQFDAdIAZQC+//r+t/6w/tD+6f52/tX9dP0t/TH9TP1v/Zn9qP3J/c/96/0y/nb+/P5r/6L/EgBqAMwAHgFJAWUBzwE3AnMCqwLYAtYC6QLzAvICLQNjA30DSwM1A+wC1QIMAxUDMQMmAw4D+gKkAn8ChgJhAmsCMQL3AZgBNwEKAb0AiwAyAL//Vf/8/tn+t/6//tr+3v7K/pH+fP7C/hL/mP+p/4r/cP8D/x3/Jf9T/5X/Zf/6/ob+PP63/cD9pv2H/Uz9yfyE/CP8NPxn/Hj8cvxM/IH8rfz9/Gf9xv0v/m7+nf7M/jH/+v9wAK4A6AC9APwAPAGDAdwB1gHCAXMBNgEXARUBJgFDAUMB3QCBAHoAbwCVALkAuQDBAJcAWgBrAJMA+QAsARoBGAGeAMsAFAF9ASYC/QHNAVwBUAFsAaQBLAIpAjMC0wFGASoBGAGCAcQB0gGkARoBxgBmAGcAqQDJAAIBxQB1AEAAAwDt//T/3P/h/9X/nv9e/wD/yP6y/rr+w/7r/hD/+v7E/o7+P/41/nP+rf4O/xj/5/6v/lz+Qv6P/tb+Tv+P/3T/M//a/pH+jv4D/2n/0P/o/3v/KP/B/rD+Av9n/7L/t/97/wj/uP6s/uH+W/+4/97/4/+q/3f/sf8FAGYAygADARcB/AACAQ8BJAFcAW4BbQFNAUMBNAEjAfMA8wAZASUBXAE2Af4A9QDxAAMB8gAJAQ4BTAFjAUoB+gDTAAEB7QASAQoB5AC4AJcAfAAxAAYA7P/4/+n/4f+o/3T/dP9H/zX/B//E/q3+hv6X/ov+cf5X/vz9w/2j/cH93f3i/d/9sf2w/Xz9i/2r/fv9Rv5k/m7+g/6h/tz+V/+0/wYAMQBHAE0AggDoADQBaAF1AUIBOwFMAXoBlgHGAbMBYgFkAQEB5gDNALkA2gCqAGUABACr/5r/gP+h/67/hP9U/xT/6v7U/tX+F/9Z/5j/p/90/4H/kf+y/yIAjQDaAOgAEgEtAT8BUgGYAekBEgJVAnkCdAJfAlwCZQJRAkICSQJDAmYCIQKQATIB7ADEAJ0AlABqAE4ALwDt/6P/lP95/5X/uv+3/7f/i/9R/07/Tv8y/z7/HP/r/tn+m/5t/jv+AP7+/cz9if1A/QL93/y//MD8sPze/Oj88vzu/OX8Hf1n/dj9MP5g/oj+0/4e/zf/kP/e/wwAUQCmANoACgEyAV0BgwGCAW0BXAFlAa4B4wHNAbIBggFoATkBAgETARcBHAEUAdgAbQA8AAAA4v/8/wsAYgBcABgAyP93/3f/n//3/zIAUAAkABwAAgAKAFEAmQDvAAwBEAEAAfgA9gATAWIBkwGNAZkBpgG+AcgBlgF8AXcBWQFAAS8BHwENAd8AqwB2AIMAaACLAHsAKwAAAK//w//m/+H/1P+5/3v/F//8/hr/XP+M/4T/Rf/S/pn+gf6v/tX+wf7F/pn+nv6S/oj+j/6m/s7+uP6q/rr+0/4h/2H/l/+l/6H/tf/A/+L/CAA0AF4ARwBAACsACQANAPf/zP+q/57/hv+C/5H/av9Q/yH///4K/0P/g/+5/8T/sf+r/7D/wP/2/1AAlwCgAJUAagA5ADEAYACoAMUAvACjAHsAbABZAEcATwBPAHoAdQBvAGEANgAtABAAHgACADUAWQB5AIsAXwAaABEALABFAIwAuwDNAMcA1QCIAGkAYgBhAJgAxwAAAfEApgAnAO3/rf+D/57/sv/P/8H/bP8U/7b+sP7o/kb/dv9k/zD/yP6g/r3+Ev9H/37/e/8w/yr/BP9N/6n/8/9LADQAHwAXADcAawBnAJMAhwBvAFkAJgBRAHcAmwB5AEUAFADU/+P/7P/p/6j/of9y/0b/K/8k/zL/KP8U//L+6v7s/h//M/9j/3j/Vv9u/5z/3/8kAGsAjgCYAIEAkwDXADUBegGhAcYB0gHaAdkBAQIyAjMCWQJYAjcCIQIRAu4BzgGTAUgBBAHEAJwAdAAhAKn/Sv8K/9/+yf7l/tr+hf5S/vD9yf3j/fr9N/5S/kT+8f23/dD9Cf5w/qz+0v6l/mr+UP5d/p3+v/7z/gL/Gf8u/y//Vv91/6T/v//P/+H/4P/s/xUAIwAxACUAFAAQADUAXgB5AJYApQCqAJsApgDdAOcA+wAVARUBBAHlAOQAxgCsAKAAdQCFAGkAVQAzAOL/1f/J/+b/DQAhADEACwAIAN3/vv/V/xsAZwCJAKMAaAA/ADUAGQBLAI4A5wARAREB/wC6AK8AzwDHAOYA4wDPALoAtgCoAG0AWwBQAGEAawBOAEoAOwAQAAAA1f+k/57/e/9s/2X/Gf/j/tT+nP64/t7+Dv8s/wX/2f6t/qb+tv78/l7/v/+y/1b/Ff/5/gn/WP+f/6z/w/9k/wL/ov63/pz+3P5y/0z/Wv/c/sH+l/7F/jL/Xf/Q/77/DADx/+z/FAA3AJ0A1QAEARAB4QD6ALIAzQADARIBZwE9AXsBKQHdAOQAzQD2AO4ACgH5AJkAaQAtABsARAAuACgA+f/l/6n/gv+V/6b/zf8NAAAACwATAP//KgBIAGkAeACqAKUAkACXAIoAxACtAJoAfQB5AKkArAClAJcAlQCEAIYAeABiAHkAfwCOAFcAIAAfAPn/8//3/9b/xf+g/4j/Zf87/y3/N/8b/x7/Av/p/tv++f4m/zf/S/9K/1r/Zv9r/3n/qP/P/+z/BwD3/+//5v/l/9n/9P/7/9v/uf+F/2f/Vv9i/2T/X/9h/0P/OP8+/0f/S/9u/3D/bv9t/2z/a/+J/6f/xf/b/83/zP/h//T/KgBFAFwAgQCIAHgAZwB9AK0A0gDmAOYAAgHLANgA0QDfACMBCAEbAfMA3QC/ALkAyAC6ANwA2ADSALIAhAB3AI4AigCcAKwAkAB2AGIAPQBFAFEAXABlAGMAWQA1ACQA9f/q//f/2P/l/9n/sv+d/3r/SP8f/wD/9P7Q/uD+xP63/tL+0P7Q/s3+3/7R/vj+Ff8k/z//RP9f/yT/IP8o/w3/Rf9x/3X/hv+E/27/bf+E/3P/hP9+/4L/m/+r/7X/n/+O/3X/g/+F/5f/rv+P/4//n//d/8L/v//e/8D/8f/0/wsAJQAbAEEAWwBTAEwAegB8AIcAnQC7AK4AAgH1ALAA6gC4ALwAAQESAfIALQEVAe0A+wDwAOcA+gBKAT0BOAEoAdwA3QDYANYAGAEFAQ4BLAHmAN0AwQCeALIAjwDEAMQAbABYAC8AAgDs/9T/i/+w/8f/Q/8H/+P+3/7q/uD+xv6h/tf+wv6a/qH+vP6o/sL+Hv/m/jL/cf+P/3X/cf+y/+f/4v94/6r/wP/E/1QAGQC7/53/fv/5//L/pv9YAJIANgBDAFwAbACv/8cAhQEXAYUARgJeAU4BjQDD/nH+UQBRBxoL6weu8KH27AgKBGL/7vrn/vcChPpj9R/+e/tR+Wz9xQBI9yP3jwFI/+b5M/yhA4H+LgPf/HIEugMIA0H8Xf6aFtn1O/oYDgQL2vd8B1oAKABkCqj8jQLmBdkBDvWiDID/Vfmr9u0Kcv6D93cCGv3j9SgEU/4f6gsa7PRp9IEFCQMg9pT85whrAAMAx/PRCyQGyO0NBJYSGO/1/64SPQD68EQK2gLiBWcELPbGCPcBkfn5AyIQLOvY+hANQfrK+L8Aj/rH/OMJofqv8nQBwwWTAuT5VfRRCs0FCvNwCTr+yfvHBwD2DwAIDDgAofGRBNEXXvWi5x4XMxMt5JcFjBX+7rgQFPmiAKEUC+4PAfgQ1PnK9OwJggI1ARD1uwg7/czvMQss/5n+Sf1Y91EAJAy78lr3ShDx/ar3Wv6KBpoCpPVMBnwP0/e+9xcNav8n/LMJM/+h/GcL0QB8+Hz8igSWBEr9yf8HAoT9JftuART7hQfj+mv9+AHxAEj4G//tCVfv3wEnCUH4wveXAZwAhQEm/Yv75wr/98Xx+A45BSz1evbaDAYEtPBIBpwGg/0I+Hf9hgUmApT3X/6PCML8AQAR+yEBg/9a/pQIt/CUBgcIX/km/IUGTQGh+aj9GQWLDwrsE/4gEon6wfajBAkI+P1M9nUFzgdn+Uj46A0gAxrxcQU/ALIDrvlN/RIOkf4I+ff+BwEmBewAK/gRBAIJRPGYB4cDFfnvBZL6JAQkAj755fxgByoAMfvF/ZcHmP+j+B8ExwWb8ZsBJBL19170iQTCDPP0bPrSCbz9GQTM/A/5hwlCART8JwjnBDDzjgRtDHD6zvpYBJP9igucAELxzwK9AkkBePrrAFwEVffD/SIMfPnd8sQACgx9AC74Lvsk/iAK1AD0+Tb/gwJY/LECMAhV8o8BrwrC+0kB6/8Z/bf2Ow5l/8D/JAJI9yEJsgEm+z37vAYK/nMFFf8v+l4BZAKI+30BaQj/+en8RQmmAFT5LwE2/VwE5v4d/xX/kQTz/mb9TgFH/jH+AP3oBHQDmP2U/Sj+6ABYA9P7YQBvAUkD9P4uAr39u/gHCRQCMf/2+8b/gwbw/5L/B/m6/+r/AgOuBmj1/v0hBrT+avma/dP+4QLUA44Bxf9h/dH7tv5eDGH9tv49AaQCCglB/sz4zQELBzH+u/2KARQLIf3U+GoHyAD38dEBfQeTAxECIPk2A1EAD/cz++wHagA0+NsF8wL190H8hv5GATwB6vyeABsDc/6k/ev/XAH9ADP/Lf+A/7ICigGRAi8A8f08/kcB3QEHABsA2f9iAs4BAf0y+nH/rQAHBDIAxftqAaT91/4R/kP/2v9q/toDAQNu/WX7awLKAXT+7P49/nMD4v4K+3sBagJBAKP/YQFp/b33igLaBogAVwAPARj+2ADmAv/5QAD2Bcj9JP+vAq0C/v4k/+0Bc/6K/nP+7gGpBSn/of+x/+r8Fvzx/dcDYwKLAIL/T/yB/X7/r//NAf7/pf+kBez9OPqr/9//UAFTADQCwv4j/UQDfwCW/9MArv/rAO79/ADKAqH7cQGHAq8Awvy0+L8AvwPE/4j/A/4M+tT/JQBP/3cA4P1D/00CowE+/Fb8rgByBAUCs/6sAhIBiv/S/6H/PQJu/wEDkQN//+L/pf+NAvD+v/+XBIr/m/3kAsAB1v08/aD/1gFQAMP8cfyaBbj+zvkKAl8EJv4B/jgECf7U/WL/+AEjBKD/Mv+DApsB/fsKALIAu/7mAYgB4/9EAJf/Vv60/k//gP8uAbMEAf9a/Dz/kf8+AUUCvwHzAT0BEf1KAKH/jv26AVkBbQFR/2T++f8pA0/+i/sHAbj/xQCbAI7/kQBE/3T+Lv4W/1QAiQBtAcX+wP67/mH9+gCxAUv/R/2y/9ECAQAH/H/+HAOfAEn9rf+UAtYAqf7/AeYBAP1w/i4CqwG4/3v/JwIuAwMATv2j/j4AWgEPAksCoAEP/1gAxv6p/vf8Ev/ZBDkDZwBk/WP+qP0F/RT+4wDWAaUCvwKl/sT8uvtQ/tYBuwJHAhYByf9Y/44AyQCe/zD/cwICA2r/Xv7y/48BkADg/sv/EQM4Adn+wv46/oL9CwAXAbD/XQF+/w7+Iv54/oL/lwH6AHP/YAAI/y//yQA2Afv+3f9lAVIAzP0F/S4AAwLoAnYBgwBB/gX94ACPAQEASwEQA6UBUgBU/5v90v0wAMABPAAkAJD+uv5rAcX+w/sc/i0A+/8RAVkB7gB9AN8AKACM/2cAsgGeAm4DcgOv/8n+x/9j/wwAdP45ABYDyAAX/mz/4QBL/YD7nP7CAHYADAHBAW4BEP+5+73+dgGE/rv/1QI8AoEA6f6j/Y3+9P4q/xoAIABn/yL/DAAu/97+bf5Q/+/+Z/+bAFb/zgJIART9eP1e/2oCNALA/9f/5QArAIwAff/B/6EB/wCEAaUB2f48/gQBwwDO/wD/df8hAYUAzP+A/uz8aP3L/x4Aff9xAAoAwP9rAfUA0v7R/oIAEwEVAeUAowKeA2sCTADT/Zr9X/4rALYB8QKJAEL/Uv62/Ej+Pf5pAFMBTP9D/yUA6wCbAFoASv+S/fb9GgCIAawB7gFjAlQALP2P/uQABgK+AoUDJwIgAesAev+D/1IAswAMAFwAK/8z/sX99v2g/dH8Lf2Q/nD/I/4rAPEAg//h/2//Zv5KAMcC+QPTA/MDLQKYADQAhv5t/yAB/wLUAisBIf6i/LX87f05AOkAnABxAHIAsv5Z/Mf8SP5DAJoCmgJGAmUB9/4t/ZX9+vwOADcEzAPFATD/4vxp/Mb9kP7s/74BbgFeAb4BbP+S/Un91/7i/0T/pv94AQUCxgCX/+38iP3B/qP+OgF4AvkCKAAc/iX9kPt0/VgAqQEYABgBAwDy/ij+a/2R/+L/zwDu/6cAjAAK/1z+Tf7r/mwAhgHh/1UAwf59/lQAgf9X/1wCXwJEAIcA4f7R/+YBkwEMAbQASAHZAAgBJAEEAWoBCQLCAs8BhgE0ApcC+AFYAhsD7wNwA2AB9AFeA84CSwJUAtYBCQFcAbwAwwBfAS4APgI2AhwAnP6p/R8ANwA7AOT/Ov4m/6L/Ef/W/YT8Y/xq/Bz8Yf0r+7/51/r5+kf77frQ+bj5Fvr8+Aj5U/nr+gb6//Yl9/P5F/vV+7780P3H/FH6QvrD+pv9PAC1AksE5gKE/3j90f9TATwCNQJkAR0AJ//g/4n/OwE7AR3/j/6H/x7/oP1B/zcAgAG6ArYEUAecBiEIoQsADkoRChMZFOUWLxlWGkIbfBsxHGYcdxs/GVUUWhGFDmULhAnhBDr/tvqF9cTyLPF67TfsYOrc5/nmguY46ZXtaO7r7tXx3PJr8nbz9vXk+Qn7f/vc/Gz9fvuP+JD4WvbQ88bzs/To9Eb0EfP38kzzC/Fl8fTxt/JV9X/1j/bo+Vb8Pf44AJj+Kv49AcQD7QWrBKAEMQZ5Bs4D3AI9BbUDXAM8A/MAf/8oAN7+u/64/5H/4QB8AVYA+f4DBj8SrSJRK1krVSjNItQmrSx2MXc28zkAOeM1zimnGWYQUAucCHACO/jm7nDoT+NT30zbYNgt1tPU1dXn1w7enOJz6Kjvk+/n72Xzt/gmAA8EMQY+B74EzQA2AHEBFgG5AGL+Rftg+CL21POv9Bv0XPKB8XDvs+9k8S/1lvY994v2U/U/9Wfz4vL784j3UvuZ/b/9WP2v+yz7cP8sAJf/0ACXAsgF4AOFACr/EgD0/0ECCQS1A5kC8gAAAHP++Pvy9lEBJhK6Jnw31zaWLfwn6Sd4KTkuQjI2OyVD9T2lMYwlMhrGE1sNHgLi+cjvnOYr5Czhndvq13PVCtTN02rTzNWI29bkO+oM7UXwt/Iq93z9eAP0B3gKJAp0CRcHSAXmBIYDNQLv/wP9k/or90H1zvVb9L3yZvDg7ffs7ura65/to+5s8Bzxt/GU8Sbyd/N99kj4Zvr5+3v9EAA9AlsEgAXPB08HDQbyAnMB0wGMAmADAgNjAx8BT/2x+A74E/gH+D32xvFP8Aj4IA6CLE1F30VVOPcrJymVLOMwrzs8TS1XmFJoQoYsTR31EEIFRvza8XDhU9Scz1DOl86xzenMf8vMx0DCT8E2y8Dayeai7vj0uvbG++8A+Af3EOoUAxglGYkWuRTfFgkY8RkvGO0PUwhXAmj9YPqR9dzw8+3y6mvoTeZ15eHk5+Ro5njnI+jI64DvGfGf9JH4G/0g/379LADGAz8DgQAb/0EA+wFTAbr/xv8Z/qb6L/fW9ZX1tvY+9rP0RPXs8hfy7vD07QnsP+py6zkDZCcrR9JQgz0dK3grtzYyP+VEhE4NXRJgz1PvPdUtdSHjEzcEZfFb30HRl8pqzGrODMqAw1m+CbqztSK4HsAtzILZj+Rj64nyl/tsBB4QTxhmGhkdxiCzJY0qny2mLWkqASOUGwAT7QpYBgcAj/vf9R3vfurF5LXexNoN2eDZWtgb13fcF+S462/ttutA8Er2GPp+/Gj+OgRaCtAJqAcVBlwFtAVCAyAAn/5j/H78OPur97j1oPNp9OTyB+/G7Zfr9Or36gHnROQc7VEPWj8tWqxUQjriLEw41D0dPzRFeFN8Y7ZcOUHHKOkbKREwBYz2meQT1BXJPsQjyGnN0MenwYy7grXDtIS4DcYD2jzpFvJ59p/6UQMmC7IWRCIkJ74pTyp1Kfor+i+DLs0rxSIKFtsLcwKi/Fj2A/Ek8EHtl+UZ3u3YSNlt3GDaENmp3HvjhesU8CbyyPT/+UD+aP8P//b/zgRfCrsMpguhBwoD0wE3/1f8a/n792X4CvUG8pnufupD6ofny+OT5Zfls+fU6cnn8OSH6sUIjjdxWZ1alD6BLPYzjT/KSPRPuV7ybiBoAEqWL+Md9xUCCq328uXW0sbDGr/TwX/DpsCrueqz/K98rYys17cy0fTo3ffJ/2kF7xAvHF8h4ybzK5ExDzfaN2A21TW+NecxpigFGi8NYgPb+HbweOqJ54fleOG92trXdtNozxjQ5tAx1EPd/efV8RD50/q5/coCXgaFBzwGeQUiCOsKXw2PEC4PJwphAl359/Oq7/Dtj+6U8ALxhOsm41rcM9lE3Xvjq+Kh32ncXuOO/kgjCkC7SiBHWD62N5I0fTaRRDxegW0ebOBZCEACLo4cUw0pBNb1XuYJ1njJKsfTxZnG5caxwRS+oLdqsU66zMad1CDopfQH/swGYQl9ERccPCDOI5AmxSoFMAMxxDIqNfYxVixmHc0M+wOA+wf7TPkI8rbuMei032nZEtRz0p/UsdYS2ubdw+Ia6jzv+vMf9434cvtB/U//fwRWBpUI3Qp6CbgIBwUSATj+NfxM+x74g/Tf9Bb1jvRs8efp0uen5/ziYeRd5Pvh6tp41YjzsR92Qh1KZzSSLq4ztTRHNW43kEyJY9FkclbLQ384fDOaIgASfgAu6vzdLtRm0S/Vsc+gy1/J0L3ks5GtP7Mlx43TvNuv5M/qYPr5BIIKyRNzFHUZnCAdI3EqDy4UMGg1rDLRKXIg1hQbET8OXQlSA5D8nvZ28D3twOd/5HLhSNxc2G3Wmdch3h3mrusA8G7wuvCi8JzwRPat/UADKwivCMgGcQYMBa8FHQRrARcAhPxM+j74oPW89D/zVO236EveNtiT2vHeWOFE4IXdfeEo9aH90gosG8Av30aBTE0/zjyCSOVMQ08vTwlXsF/uWzJFKTCmIf4Muvg76UbWtNHhzFvHEstwx+XEFMFev1W/nsKzx2DOfdc84djxZgIGD1QUrBOiFvEbGh9jIPcikCjzL8gxjTAxKtohFRoiE74L/wJA/W32WPP97bTm7+Vl5qXkKOHW2YjY2t3P46LpBus+7+XxFPQB+Pr7HgA8ApoCiwLTBrIFPwZiB84HIQbSAvr7q/sP/wH7q/gc8SnuOe1W6gLnzecB53vm4OQd4YzdP9q909vXePQhIl1MAGH3TGc0JTZANsE+Dki2TzVp7G9pUqI7PCPoHMUhWQaO8I7eNstq0PPRvtFD1SXQCsuDx0K1Oax1tTTHO+KB8Rr3fv+NCQkQNhMaEYMS6RQFGQsf+SNsKk0x6y8ML2om1BJrBMH6efce9jHxHe2n7/3vvumU5CfiM+Ic4YHbBNxq4+zpnO1U8Q32gvu2/l79kf5nAGoCfwK0AbIFVgkdCq0HUgK+/Of7rvlW+Sj5CPRW8qrueecu4Vja4NYb4tXkYeO81jTION5V/JwdwS7dL8Q5Vz9IMcooOjHWRk5lJ2t0XgNXQkovORYsaBrUD9UGQPXN40bXfdBM0G7XHNpb0YHFdro5t6HBEsmCzg/dmeid84n7X/1UBFUOxhLBE74Woxo8IDgl5yrHLe8sMChhITwb8BBpAuj5/vkm+0/7FPd99bv2svN17MTitd4Q4UjiiuXm577t+fSF9MzyGvDK8Mv0xPct9mz3YPt9/wwFqAQ6BS4G/gcUBE79NPr9+NP8gP3/94/zG/By7BDrFOf24w7ibOA33ZDTmsWMzxz6mSP+PY46FSvuMz49lzhROfdEuFdgaf1f8kgMQZM6tDQsMFAaIgSh8UHecNkx15bTgdiD2hHT6sbAuUO4I8RayyXV3t1D5f3wi/Sd+4sEcgzEFMcUERT0FOEWJiBkKS8uFyxjIOQUag81B8oBJwBG/rgAOP89+PLzLvHH7YXsGuaL4qnjXeOm5LTlHOl+7oTyKvNu8mPxt/EZ9J730/lR/Gn/5f91AlYDPgSxCFIGjgAf+iz17/by+MX4x/ju9wH0ovBs7NHmheYZ5Z3mzOyG6QvkYOfa+CAYczQdOyY7iTnkN286IjhxPzBPnVqDV+NJlz21MnYpmhosCA/4ZOqm2a7NysZ/xbDMMM/H0I7NJsenxiHKw9Ed2dLgcO7g+rQDTwqcDi8VtRtFHVUbRxnaF2Maqhw2Gwwa0RW+ET8NMgbk/5z4iPZ0+df69/np9bfwTe9y7F/nUOXc4snm6O127VrviPF28u30Q/Tj8b3zqvbt+cT9p/9uAqgCOgVwBroEQATE/kf9zv3a+837k/lF+bz6WfdQ8tfsRuiz67buOPNU+Vf0ffL07kr2LxB2JMU2Az6mOkM8nzSXK/cyRD3yS2NPH0BaM78nCxxeFeYLrQMk+Z7me9gZyyLFGclH0c7andj7z7fLUc8R1U3b6d8c6PL0uPvu/lgBwAi3Er8YaBtYFxkTvhMhEp0QdA6CDBQQQxBsCesCSfos99f4JvY795Hwle2M8ZnsQu2K7Rfq0e4l7UnquO0V7JfuHvM/8Xz0L/fw9v38n/9KA74GrQehCO8IOwdcBwoIRQY6BKD/p/3U+sH2YvQH8n/wle9N71Px2/OM8HfpseWU7ywJvSEaM4Y4iTqiOaIwxSpjKJoulDxsP7A8BzdLLAknUB+pETgHRPhI667lDN3W3fjekuC85qbhxNsn157T+Ngy3XXizemA7yz1Kfw4/7IBOgHJ/woCOQJhBdkGrwlQDl4Ppg2zCvwHPgZ6BHoA1f2l/YP9Bf0V/k/9zPkl9bfuT+zU647rbewn7j/yIfWp9lb2F/QQ8w70RvZM+Vn7Wv0fAqIGewh6Bv0FiwOb/w//2/y8/JD/p/2N/yIBrf5w/pn7XPjW9bXy8vFA8hvz9/cG/t0HyA79FUUeoyHwIdYdahpYHM0j0Cm1L+YzkDDOK04lZB9QGzQTaAuXAj38LPaT8l7zDfPp8ibwheur6Yvl8OIP5Dni1uQt6K/p6O4y8tX1svrk+OL3c/cR9n755vuj+93+1P9G//L9hvmJ+an5Evv2/o3+Mf+IAbQA7f9k/HP55/qf+9f7y/sE+jz6vPrg+CX4SfnH/Cf/fP9V/hL8SfrE+jn89/uQ++P7K/2g/Ij7K/0o/lkAagDP/LT8aftn/IMB6gCiAnUGVAiOCPAHhgosDfIPyBIrFFQW3hawFUcTSBJmFUEZ6h2rH/cfOR9LGXsUxRAoDRALdwlwBUIDggFH/qL/Xfyb+N71sPDM7vHutO//8CjyfvPl86nyaPID8n3xMvPw8h7yffF87wfvLPDI7yfy+vIb8tLzjfLo9GX46Ph2+9r+pwCBA10E9wIrA2YCxwFBAm7/x/09/oH9Z/37/CP8f/oe+fX39vbt9db1s/Yv9jD37PZ39w35DPtt/Qb+A//F/3wAnQLyAwcGbgj0CtwLWQouDTMNBgyqDhgQQA+FEPIQ7xO0FgkUAhGJDI4JjQivChoOxg+hDhIONQx7CQsHmATGBtMG7AQ0Asv+9f56/sL+MAH8AFIA+fyt+r36Ufh69xL5jPsA/V78Tvv49wT0Q/RU9OL03fL973fxnvB87gjuBO7Z7xDxmfBW8uP0jveY+UP7/vtl+zP8NvwQ/WQAjwAF/oT/Sf0k/oP/5f22/y//uwG6/0j9fv14+vn4SPqh+Xj+0P6YAeQEvgAaBacBlv9RAxUCNwbECg0HZQjBB7gHKgxEDv0NJA5uCyoJYAbuBL8Gbgm4DWIMugoiCsYGvgZjCHUG9gfdA1kDkgOyAZ0EAQctB2oGRQIS/gL9hPzE+mz7E/5Y/o7+mfqz+aP4I/qK/cH7fvxQ/+H9jv9oAL39Uf7I/ZX+4QDg/VT9D/2i/Ev8VPdF+GT5fPGV8/TzTPF29k72wPbM+cX0QPd/+uPzKvqZ+ZD7iP/3ALz+NPyaAisD8gJl/yL+cAOaAhUApgEGATkEWAfTCncGIgIQAp4ECAf6AtQANwLdAnwArP7IAPj+5v8zAub+ygGQ/hX/UAKu/5L+UwQKBXwEIgWDAtsEQgYOBaUGJwpGCFMIlQlDB2IFeAUqBFUEYQAe/yb/Cv61/S78Wfsu+pb4iPhU/H73y/bq/gz8xf10/w8CjwWXA+YGMgSpCG4CFAZcDYIH0AkqCewCxv2wAEj2Df1z/p/3qv91+3Pxd/jG+F/wh/yd8dj2hvcr+af8uvOrAnUAAwHDAHD6twKS/4b3zQHbAUX71AJ9Apb8of2IAFoG1ALz/FcHlAUY/f8B6gOrAPX+rAOZAYj7zPzBAgsCzgAEATr/SwVU/9H/uAbm/zgFRwl1BZcErQaSCSQLdgKYCOUJXABDB30A0gLdBX/5bQFj/YbvIwLa8yX33gKl7Dj+Tv1T8mwAn/uz/dsANPRNCvf/XQLxCWEI9AmQ+yYK5QQqAHIHggKh+8cK5/WF+zUH/PNG+soClProAPb4J/k6Ajzz9QD5+74BvQEkAuQEvAPAAIsH3vyABuIAaPVLClv4cgJ5Auv4CglXATv0BAIY+or5lvcs+4cF3vuZ/rIC6f9F+wr81P+f+Mb41Pzm+pcAv/2HBYUB1ge4/vEHvQDF/+MO1/wlDhIMegOABI4TM/ywDNII8fcMDQj5lf27AtD5ePYeA/b2Iv6Q/Db2XP9x8Gj9a/4d8Y0IIvko/BEP4e8sB9YLEfKuDPADcfSADlD78gFxCi/9mgno+jgCEQLi+ZUHB/YgAe8LT+ZkDSgFWeHcGyfsYQQCDOntsBPv93X/LwnLAtf4exIo/xn4+QzQ+zYGDQPS+48D1/6t/8H9LAVa+fT4og6t+JL07QSXAoX16ALz/3L+gv4GATXy8gH8+cP6MAq67AkU7fpm+GEKnwSmBab6HQcbClz/QfzmFgoFO/hHF4wDUvnoA6D/tv9t97r9W/hJ/8/29PvZDLHfawcEAazndQpU77UGKv3+8k0MifYoCCj7TAaZDVbv9hGj+SoDPwbs8hMSg/hr+2QMX/0D6mkVz/bG9ycOseOpIfjtQOs0MOPS0goEJEfQACaQ9NIAcQlS9aIf9eDFF7QJgu49BtMSyvSeB6IDIgBLCgDxTQsq/PD71v+4Aj74P/7x/VYBf/rp+137EwbJAHLzQhJb6WcNBghs6RIpp+OSE30IpunQGOz1fwGvA6UIUfSWDRb3/ATmCBDxcAx+9VcF6+oEDBz8feHWIMrm//aPDdbt+PW8FN3nEQkvAxHtuQ7k9FUFzANE/nMKxQkK9rENeQKc/SsAaxAl9NwGKAOM8JUVcuwaCCEGm+EyFvf5fuVUE1v2jO93F7Lv1/hFFFfoOxx56YQB7hdb0q0wEfk/6gQh4vT4AzMJK/BfCKQLGuqCD2r49vukBOLsdA/6/TPoYwK8DsPzwelWEJz3nvlhBEb2phZ45fELvhot3lsJ+xiQ8DH9zReY878EsQjWBBf+9AQ5CAH3+Q+e8Qn8Tg7X6BALS/xU9rcEl/rw8hULavc38YsPTvC7C0vxk/6KDS73pO3gHB7zXvcfHrzojA1WDGLyBRmOB8XklybS9EHsTB/X6P4BmBYB7RME7A0f8Sr4ux6B5WP67Roc5cL76xM28SPzJh5h9GXxFBsD81HtuiG98db2ySdO6Xb1ziJo68T9nBBQ50wSeQUF4CoXrfHV9K4XtOZ0+k4ahdvJ+/Af9NjJEmAED+vcGY/8X+44Ehv7b/SAFwvxQf6MFgvxvgk1B4312Ap+Aiz4AARFFxrjaAQjHiLX1A1rEm/SDCbC90DPcT9T39LoqiVu8HDtzA3GCpzcLBkmCjno0xVt/2/uJRi+9cP9IxpO6BMScfo9+YcYHdMzIbQEitieL1LzY+wmHHP4Av00C6PmqROMBTTkgic/4bUAwyUN0ZsVLRIa3gEdFwTL2BI2EdvoCegh/sLtNgkAbNJtIj0PAMOqM6vzGdZcRjGv2SR6FuDAFTXS663n2i+30eUDAjQKpT5KOwQIwBNLAMuHARgg3tZfG5j+IPZ8ESj3kwYq74QUTgIo4r0cMfRu/QQO7O4hD0gHMdw9M7nY6+iOStK2HxhkIwLIuCEzFvy2vUUz+6ilw3FJ1+DD3Fd82izyviM70xIdUwj81R0h+AUx5ygJSRBK/m7p9RWwEyDbEyEe8Uf4DB9V0RgYnBBu0e8Y3BfP1tINURHy6RMEMgdo+4D47/36GlTwh/kHIu/gxxWw8ZoCIRO14FcdGPxB8aIXLuHeBcAot8I5FD4kRLvhHBQmR66FOMMJA8Z6PiHdSO6yMDnbafGLJKP7KORVIKAQ3d3oF94NsvDz++4Zxe1bAHIgn+EVEDsJ0fcXC9/4ZfdsBEwGmuUkDSYEuOxKAfgLKOrR+SkISOqgE7PrxvyzFxfeDwmvF/butAVoDyjdYznl55PXUFepw3gRdiUu2ToX/ggq3R4uluGz4q5DH67KHh0VYMBbLS35QN/FJrTtIOdWMJbdF/tjJ93M8yc/BZDP8Uiq39rriza/1PEEUBUg484O5PmRA6rzPxI29R7u4Sna0+EGaxBF7IT7vRXp6n8O4wQm6zkZP/qE85QO5QtV6OsT1hBV4LIVaBT06FsMPwCpEZjkPxZj+nD3rhcZ6gkAkB7C1R4C9ikewFwj1fAM/K/5UQBkDzzHgDAA+sfaeiYk6bH/MBPk79P7NCHi5zkDnRg155YLGQMO/2r++wj5+hz5sw4V97zloC/lyCEQ1iLkrpA+I+7I5m4R0g3R4J8K5RZD2ygehe0CD7z+FAA0A8gAJglF8csMVQqM518DLST519P6oCNe+XjTbzHm8HvdkkHSuYAdkBa80LgXmxIE3eQF8yVXzHgejAjZ3hEbvQ8j1rUd0gqQ0iI4j9sp/pQt375nKo8Oc83yILsOmtxrJDT0le0FKr3YQgz1FFjeUwXDH2TT3CBq67j/FCvpo55Ub+29xwhH4OJ+7FomV/sP1FtL88eD+uk897wvGOQGYPml8cEOffi5+EoIMveqBfz4VAy06lAJ9hTE2/obtwME6J0wX9G0G+0Gu9jdMITkqwnbA+z31gdxBKfrpgpQA6naWi5S4LT1LSIM4rYAIxZ961TuGS1I29wHvQfaCUXx1f+hKZrLUS6O72EB7Ald7ZIUtuhuEY/9I+kCKdnkLO6VIBHxh+fBDnMKj9ImObzRcw3nGzHQQiVH9cX8ZQEBAL4IHAjf3ow2y+7E3OlKTcyCAFkt582/C50nQMG2LC8EGsaHSJ7UP+//KKLU/h/s2cb4cSf2ydYOBhEo5Pj74ByS2XgXeOwvAnEed9QjNEvhNwPrGzvrFgjh/qQG8AEXA7L0khYE99vkOyYu6//zzAwJ7sAOIfGF804hquIUBAMPgu+WEtTeuygb8mn7BwoAA6UGleUtNjjT6yC08/ACcBh71BwcAfxPB/bmrBek9xT9dgRv50IqQdAaDCgSjePSBKUULuDvCRUpdqvyWFnWE+ZBStu2SCvt+Xr2CgJHIyjPWxsyGV3HSDW93k8OrvJwAgcN++UxD4T7DwG++Un3Vv9sExvXEwAoKBvJjBB6AQ4B9/0R6jQqgeZk++Ie/tP1Nz3o0uVOT5y61yAhBm7+kPyi9e0nsdrUB1QEWPoW9AsQe/Tr7V4njs5tGIIcY6pWT8n6irxPWwLMBPFrUaWt9TWTA5DSa0nFxkMfwPnl+Pgo8MASMc4LULMhS/bwoMcORnbX3eleOfm9JBFcKdqeTmFH1WfMCmrUphwM6DMevBgtcgpOxZxO1d2h5o8/u9SSGVru9Aq4HkXBJzii9Krl7x0a7lkQXuP4E1/+GetjHG7aEgxzECHnTPI+JBrjaP6fEgft2gwp73sjt900DpMO+eP/HAvzAgBpDsXplxf//Lvrex2l6kwPHOcQDzYEDNheJiXoB//WDlfnMiA+4MMISSKDvkM45fTm5BI2GtxCCaYcFd9nFegRrN2lGqT3pAxf8XP51R246s76/vs+HGfmfOXtHcUTi8DQC6c4LrCKHy8JRvWN8fcQJ/+A9PgVldo/N+DXchVV+1z/2Rj20XcwYfWQ+yj9Khh79crkxDFQ11YDnAqc+Nz+JPi7Ei/nnw2QAcnsePvmHPnUzxe4CHrfdB528hwSYNyDHsQJsdWkMojmrfXrKzzU0RMIG9HPrSii92frkjhwuOYcXCR6sKlFQtve5aQ8m78DGlIOXtf4LRbK0jsS4aPZWV7OoNUuNBpE0P4VCRMp4mIa1/0v28VI+bZjI/sKv9idJgXXzinJ6NzvCSXe45fxhh309gXisSP16+v0BCO22nwEpB7u5brucDIx34r0xiowzGI04+TY+CAohd9pC9kJGP4I7EEb2uTIBjEQI+iUAaUZ8edB+lQl48t+H6r7KurrGuf86uE2Je33rejeIcjk8Bgp5lgYKwMY3yAya+A1BgMSrd+RLuPW3QpnKTquEEVW8YzT/jQt5X/jqEKsv9XvNGCVmdghuyf9z/0O3gNNBt73mgSi/74S2/Ea/p8bzOXmEJD/k/AeFJ4Q271YNT8GGbkJTQ3JwwkwBbX8Se26EuoHdMqBQVnVmQwj7eUhHvAq3ZxLd7nUIGQMquPPC7YcTNdOFGUcNMFvRMHggfLEHBT5A/Xl/XoZc9ysEGwGz/HsARYANwaX7YQUEfBsAM0fTMa8M+r4UeD5KRTqvAc4Ah0DdP5jAaz8LAc+A8TlcCD98CPxCxwR4AgUD/xF7fYOuwrU1ioTdRS41Q4aEvjPA4/42Q22+sz83Qwj8TQabev1A0kaGOc7BPEgTdV9F/4R0NGsJB7+EOOnDWMNdN1MDg8K6+R0EI728Plv9I0ezOd36i4+CsqACC0fJeCCAy4XOOdoBjAgfdl4CVsfUuBkDT4V7dBoJ88N2sLQJIQi97h5L8T/7tc2Pou8SRgRGDLNJhzOCL7kLg0VE+3TlSM0+p7ptB7X6YgKSf15CXP2NAufAmv5GQZcBLcB+uYnJGvtWALpAqYBrvWvBHsEQOFPJNvqe/mvAhwOIunR758rEt5yAD4HCgX9+V7/Pg4i+BIPNe62GUruDQ2yBQXn2TE62oMMvwT6+84BS/SsDcnoeA1D/bfwrgeEByTo5g3mAUPl0R8D6PUF4hMN3ggktOZOC/8WmcEgPCwFYsCtLbocjMXYIecPxeL/ES/49AYx76UUl+8y+NUkLNpl+gki/OIYAFQEZAHdAMz1MAca/yb9rv6WBgH2FwgS+pwPs+3hFAf/w+71I5nfNhLJABP2cha87D4CZBbC4/wEdByr3PcAsBaz7s/uGhfZ/mbeMR+p+Ffl7x337lT3Exib6MQIIQaW+dwInPejD5z/5/XiC9UBrvpOCCT5qwBlEOPr5/1BFA/ujPs1Cjj0kAT++6j9TgBf9nYH9P6b9vIEtAOn+c0EtvfPCkL+5PZ3D3TxcQqaA3L9Y/19CVkFju68FVT6s/DqFKX+lep+GQj98uNiKPPqOvJxF2bxGP9l+TkKzfNPBEYEmvW7Cqn6KwJG/jEGdP1Z/KIKfvzFBFgESP9zAhgIGvsu+64NlvdC+1IJB/sv/HsFQvarAHIBo/4i+9b05Au09sP4GQli+hADzQS1/o7+fQUE/SEEgwCrAPADCfseCGL/ugJ3/P4Dg/5o+kcMx+4jAP4GxfR2A4/9//knAx77GgBSAHX6pwGe/egAhQC5/RYBjwISApgBcv8QArEDiP6zAJ0GN/4AAG4E5gFx/NADSgBn+o4I2vTjAnMFavNcBAMBOPor/i8Cx/2H/kv/kP2eBUD+Sv85AwkCHwFS/WsFcwCb/XAGbP+XA8gEwfcYBGcEjPyqAl8B6P5AAVz7o/8dBPL1YQL2A/341v3T/sL87P5q/IH+SAQe/b79MwVG/zn+rgNWAlL9owBTB+X64/5SC0385flqCxr8OvmxBkf6OP1pA8j5Kf/iAon56v7cAjj9uPzuAiD/vP/2/yn/ZAO6/xb/XQCtBjv+vP7QBb79pQDzA+f9ef7fBl37pgArBMn87P/k/mgDW/yd/00Bxv1p/LMBo/6k+1gG/ftPAIAF5fwr/5kDpABB/lUEaf18As8D6vlPBc4BgfzkANsCLfsN/6gDdvfNAO0D3fioAmMBPvoiAiL+r/xCAtn6Ff/RAf78MAQv/skA2wNU/gcBIANzABP/uQMnASgCGgBrAHkBQP5aAeX+7fs7AWAAP/zI/9H9Vv47AF78kf5eATj+QgDcAFIAUP8XAjUA+v4gAyP+hgGaAin+uADAAxX/df86AW4AHv5TALQBMv1dAYP/c/1aAtj+Rf4aAWb//P+IAY387wANAkf9KgF3AWf/gf9DAUX/yQFJ/4H/oQM6/mD+uwGb/TT/RgGH/4EAJv+0/tX/fAHg/LX/FQHw/On/0f44ALD/vP4bAjcCSP5h/msCPf5EAEAD+/64AHwD6v3ZABcDIPwfAU0Dq/zC/3UDLfyR/ssDn/54/VMCxACb/HsBbQBc/LX/UAKJ/UQAKwMb/HwCbAFT/X4BNQES/qv/vwEO/uz/ZQBr/yUB4/4g/7QBUQCN/gMBwgHQALYA3QDbAsn+6QGNARwAhADEAL4CovzZAe8CLP0xAOb+wv5s/r3+A/6t/qwAFvxtAcoALP5+/cMAtACM+3EAiQE7/fIAbwS8/KgB+gJd/T0BjAEK/gwB3QE4/rAA9AHg/1H/fgARASz9yf/QAGf+cf++/1H/4v5wAP/8IwAsAR3/4P4AAY0A3vwsA0n/vP29A4/+NgBvAQr/ZwETAD0A0ALj/uH/vQJ3/Q0C8f+L/qsARQHx/hj+uwFw/lkA2/+4/1r93ADJ/4381wFoAHoAN/+jAoQAtf5ZA0X/LgAzAhP/2f9zAs38GANuAsv8owEKAZ7/s/wrAyP9cv4YApH89ACk/w8AeP/XAN8AHv4vAJsAdf1QAB4DEfy9AqIBx/0CA8v8SAHK/+kAwf5sAVoCo/1hAqIAPQC+/jgCVv+N/7YBmP6o/4IBj/2DAMv/nv57/8n+2f7c/k3/yv1sAFX+PgAb/oABCQDD/QcBygAV/gkAjgJ+/f8DjgCM/joEUP8CAKwCYP90AVoCbP52AXQBnv6bAVEAZf/x/1YAAv2o/7r+wv1kAbz9qf/B//L7iAHgAFP82wHe/77/dwDS/3f+ywEmAIAASQIJAPH/6ALAAvr9cQKCAM3/RgBQAJv///4AAkX9ef/mARb78v9dAKX6VgDf/177EgHT/+/+rgAHAGf/bQAxAnn+RQISAm0AwgGMAcH/vQHLAYr/3wCm/yIATv8hAI7/r/44AGf/Dv5n/h0BJPzw/cgCJv1GAd7+ff9jAdb+agHWABD/8ABHABAAxwCS/t4CRP+o/xUDaf+HABIBOQG2AFz/HAJuAIP+9wGeAMr/iAAMALv/if/tAQj83f9cAyP7m/5yA+H7vP6pA0D79AIeAJb69gVG/2z8agM6/vz/IgGJ/jsB7gBhAOsAyv54/94AWf4LANv/+v/h/hL/HgIS/o4BMgBg/Y4CyP7a/oEBuP54/wsD1f7T/n0BAwBL/t4AZv/q/FsBBvwsAHMAXvySAZkAif+8AMX/AwBnAEz/mgIEABMBWgLj/kEDuwCi/QYDJwD2/aQBY/+G/WUDjf81/ZIC6f6C/pcCOv+r/LAC8f9GAJ8AHAKP/ycA9wNu/7j/9gHnAKb/CgTS/g8ATwXd/J399AIz+/X5JwP8/zz2nQDb/5D2kwQdAPD1cAGAAGYADQIX/Oz+OQWXBBf/Of4QAoIGOP+1Dfn+A/IBDIICB/9nBqj5TPo/DZv5yfklCSv25AD1/5j4qQNG+wACgQDX9doDhgNC+JcFnf61/csEVfuGBigAPgD2/4ABggmU/tD+X/2K/tMD+ASL8xUB4gfB+KQENf1q+tQCPf/q8psJ+QRL9b4CtP95AowAy/6r/h8I2v85/bYGZ/3MASgB2AQ9AiUATQYdAzgBLfccAOwEaPzh+6n4hP34/uX6Pv/0+7L5oP9b/Vn7Vv+N+5P/LwGwAXkDHwHzAaP8ZwZ4CWD7GQNyDDj6HgVDCT76zQgsAl/4uwMaAaX88v2E+ToA9AEV+TUAZfyU+OT8IAQkAGL5o/chAp0Aqf6SB5b13QCWCpL5Jv0iCCX+zgiJAsD2sAC7CRUKHfz09EoDCRK3+s3xSwM0DWH/7/k+/LYCWgTt+GUAiAZP+H796gUt/Ln/rQHOAR38hQGZBJn6swC0/egAMQWx/VkARv83/EoF6QIe9DUD9wRz/RUCyPy4/yb/6f2MBMgCRP56/HT9xQy/AID3MwKSAOoD+AFu+Q0D0QfZ+AYBKwXD+zn+rAIH/70AZwPq//v2+gNJBAr+zQHL9nn9lAM4AST+mwGf+2gDRv8X/2sFBPhP/zP/bAduBuv3Cv+aCKYEEPsSALL5tQbbDA/7DPiP8/kS6w8f8DP3qf3xAMMIN/k49PsG+/9k+iAI7vqs9AoBAQRZAgH3VgbeBFb8RgZV/Fz79QOXBfoERfvV+8UFG/7rAxEGHvKcAu4KuP2yAM33pv6GCMH9Jfsx/0QD7/9O+rsFiQOh+6YDpfsg+7MIMQRa+mgCbgaC/p7+QAIFALv8LQYAA2L4jP1WAon8lfqu/IYAZwG99G330Adg/9v16fxP+Xz/LwHs+D8Fnwq49hX31gpSCdv3pPegCAsOmgSx+mb7sggHCLMFwAfw/SYBh/+U/pgFkP9P+zUCkwV8BJH5wu4M/dsD7f4j+7n0S/1JA8/8If2j/LX9DAHf/hT/xwKsANIDswhOA4v6RP3uCd4Hgv7AAMMCKAFcAnIAVP1W/TwA3v5P/z//0/1fAD//4fxa/e3/DgC+/H35OAR3CYD+TP5FAcP+Qf+8A8sEiQJy/Qf9egRgBBT/MABTAb7/XgFa/az6hwC8AXP+QgG+AED5G/3MAED86fy9AVsCcwDP/uH+aP+f/V4AtQQ//8gAXwIj/hMBV/9K/5T/hwKCAg0BJf9c/GUCRgH7/dL9kf/3AekC8/6X/d4Bxv////7/C/88AQ774QBxBy8AmPt3+9wCFQWaACb96/6cAnsFNgNx/43/WQC1BXcFJgDc++cBhQdfB28DO/ulASEDuADr/hH9YP/u/jcA6wHGA//9r/kQ/QgB7v2L/Er/XvlC/toEfPtY9m/5af11/YX4XvJR+aYALfuO9gT1tfm6++X7Ffrb+mH7kPzX/bP5//o7/B8BSgN4/+/8sv5xAZ8C3/7G+/YAtwTBBWMAWAGtCLAE0wRkByUEqwm+Ct0ItQ0iD4QSyhNUES0RjxCuEIARdRYNEwgO2Q+mDxIO3QgmBWwCYwLyAWz+nPre98/3q/R+8nfvbO087s3tEPCs7zLsPe5q8NrrRe9P9Eby0vFa9rr49/Yk+IH43vrg/D79hPsP/Bb+K/3VAef/1v39AZz+Wf1//Kv7EfyN/ff/rv5w+WD2Pfzo+kn47/Yh/e4ABPlM+/oAlQTk/LT3Dvxz/Dz48PzVEi4myiMYEHr8EwdVHQMgHh9kIg0rtjDbK7Ib8BQVHAEnZifmHDwSOgwODpELHQkj/07ze/FK7qTvE+vO447j7OOe4i3aMdSZ1hLe8ORw6BvjleOw6QjtPPSe+ur7uP7hArwFAQmsCOELxw9DFRcUiA8gEFoQOhEXDZYNgwspBQ8CsAElAYv/PPrD9fjwdu6D7DTqiOyJ69npzOUp6dTnsugw6jTtevH577rtSu6L9xn52flW/mgAkv12AMn+VARpCS8G2Qe4CLACVPg/DwwmCDN0LoMQwQAvEe4goySNK80uVjk3OW4o8xKpEsgc7SWVJqAcKhTGDZYIqwfPBfb6uPOx6ZjqQeq85cbh/+BG3pjcUtUkzW7Uitlw4XjiT99N3cfhn+iQ7hnzBfau+hUAGgHqBsUMMQ/XFs8VHBc5F8EXshmUHqof8h0eGusT5RFGDO4J/QjmBOUBC/uM9MH09+827vDqruWB4w7h896S4lXkFOVN5DPhVeMm4mDmFur77ub0ffMM8Ijypfcg9wb9ZQHGA5UAnQDUAz8HhwikCM4HFwYfCkkYZTDeK1EgkwtcEZ8m9TFRMTowdT6pQ+M6xSJzGhQc9SjTKvckoSDgE8oFDQRNBET6aPA36L3pZexs4/XX7NWR1FPT+s+kzAjPrNaH2+TaFto72dfZT9yb5rbxavpz/koCcgWMCIILlAwTE3IbqyAzI2MjfyEoIvgiaCHeHJcYbRX8E1kT+Q92ClcD5/zb9Uzxc+3f6HDpAekw5VjfedpI17/XStrz3YfgqODy48DhS+R66AXqE+6I8KH11vVF+EX75gE/B1wGjwQ2Bn4IvgYZB1oDVA9cGnUjgyF9FAkMfR7ANyozzCj8F/Ig3ztbPoEvji0HK3AwuS3nGdwUiBtMHMwaSxcfAo/4yPDA7fH0I/Gh5c3Y0tmX2pTW4tJhzLDPb9eN1wDT3tRR1//a/+II5pjpSe767jH0gP2BAscF+gtmESAWqxVvFjwcTCCMIoki4SCzId4hChzmGlMaDBZiEJUKeAidBGMA5fnk85PvZulb5CTiSuOM4TbfJt0v24HaUduC2hvdveKx5lXpO+hY6fXsdfFY+BX5zPtaABkA6/4oAtAFvwhlDXgPBhJmERkNWgXVBeAIBx7BL5c9FjU2EB8G+Qo2IqI2Zjc+OCQ+7DAFHOgPIQ0FGQUncCU1IUEWQwJI9/L2KPlW85jrdOgX7f3tfeXp1yrTI9Lx0fjSYdQn293gVeDM3GbcptlM23Tkhu/n+Gj7e/u2/aQAWgSpCQsPTxMwG90fByFLIbcc7BxTHzAgFiETHyUfKh8ZGUsNEAV9ADwAQAL3/3H7o/TR7Lvl99833h3da9/Q4wTj+94v2C/WqdgY4MXjkec97FXtye/M8X7z+fXh+UX/8APVBt8IGgqsDIQI9glQCRcNnxF+EiMRVwpVBbEF1B7jLZ4tuBqDAC4EUh3uMHow0Cl/KNkt/ieFF+IMwRV4JbkpgyPFEyYHpvzy+AH+FgCI92zsLer96kvoxd0Z0z7UUtvh2RXVE9Wv2erdjN+H3X/dcuCt5NvqYfPf9xj68v+gAswF6AgKCVEQhxnQGuQaZx3GHA8bvBpUF50a2h5EGwMXYBUtDscJKgjOAdIAzgFQ/dn24PET67Dreezg5DnibeXh4+Hhtd0H3q/j++VL5Iri3OZE7WDvf+yT7jP1OP6B/SH8Tf7SAZgE8AUiB9ILMA1hC8kKDQpVDp4KeArHBjoCMBFYJUAsNivxCmv8PwwDG5AuWy6qJ1stHilvHCkYVQ6RG2srXysAJOYUYgWoAW0CnwKP/Yn0XvVd8+Xwvenk27nVhdr/11TaOtuy15nejeHG36beY9sY3ALl4u099HX4vvpP/jMD8gNaBHMHYQ2FF7YbIRxPHGwXERidGgoa/xkCGiAYUBdzFWERvQ8QCzMFPwE5/tP8Qfv/9pT04+9p6ibmPeRl4wLmm+fJ5PHjyuGw4T/iMuSv6GTuk/LH9N7zMPQH9Rv3yv4cAysFkQSUBFEDygQVBTEHKQk2ChgLfQYTA3MAxP1x+8QLEhuVKkIgq/3T8zECpB7rLf4ivCLeK/MmZhpZDPQOGSUnMicssyU8ETwEhv+c/1oNmQ6uAJ75yfbj73vpYNuo2xzlJedQ5LXeUdrN2WHd1tuI3V7ig+Ri6mjxd+4g7ZLvZvT0+zUCMweUCYMPtQ/fEBcR0Q7TEFMZQCDXIsogfxk2FPAQBA5nDCAVMBdUFAwL9ABm+kX3A/dy9S34PPVQ7x3rw+ai4iPh0OLJ5LXnEeYi4ljkIOco6z3qYeoR7e/x+/Ok92f6VPx7/0X/9AL1A7wF9AWuB3QLxAzOCE4HNAZqCk8JwwmhA8cCxAACBykYSRhyHUgFNPQM/bMTviTBKBEjxCBKIq4YoAn+B9AamyifL44mtRcmC/gBDABlCLoOuwoEBRX8mPXH7mnj9OBq5+zsau6I6YjinOHm33neUuDR5BzqSO9D8o7wH+9d7WnvlvTg/psFhAY+BiUEbAWZCPgL4w9pGeYd9RnVFVQPGBBTFCsYnhmCFxYRuwo8CvIFrQOp/l38s/65+o/zh+w17DzufOvU5i3lc+UA5X3iv+Al5GbnfehB6mrsSuw/7nrtqe719PP40vud/o0Bnf7r/5L+Kf3sA+YKrA59C6sD6gEqC+gLlwrsAl8EKgwJCfkKIQzQFBAUJgoBAwcIIhR9FZ4UqhEpFdsdyBfnDmAKEAu9FfEXZRQODK0G0gSwAvYC2gCtAdD///s7+RvzWe2066fwVPQz8T/s5Okh7pbyHfFi7//vA/Ms98n4tPs3ACkDXAPNA70DygWwB4EJRg4qEqMT/BOxELsNag7JDT8PUBJCFLoR7AxtBiQCKwANAH0A3gDH/3r65fKT65fqj+iP6n7uUe917W/nFuLv4rLlheZ/7AzxD/LR8/DwT/CX9BD2LPrm/TMBDwTHAwQGEgd9A3cEkAavBqMLbgxTCGYIlwRyAzkGRQHU/OX8rwMBCp8KTALN+Sn3I/d8/LsCAArzCh4Hr/8H/mUBZAOZCGMNAhFODRUIYAM7AxIHKgkPC28LFws/Bcz+Fv1X/qn/hwGP/8j8Lf7M+Gj0VvU09Yn5IAEUAM78jvrX+Bv+JwWbBq8HOgvsDCwMcAg9By0NAxIJEg8QFA7qCw0LWAvjCbEL6ghRBmEFXwQDAwf+cfys/EH73fZw8sDvfvE+8YLt0evN6nXsnOoG6Yzoguxx7yTwGvQp893xVvFP8oj3dv6M/mP9R/8VAEP/Xf05/ycHbwwaBp3//wLwBa4DRAAEBssO8wy4//TzDv4lCJYFif1r/IMAmABV/NH0H/m6/gYA1/3Z/CL9tvw//g/9Jf/tA9EGzAUDA/ABkAIBBD4HCQmbCxkLIAXeAjwBPgM7BSAE7wKzAjb/9Pqb97Pz1fa299v5lfrWAXsHQgg4+03v3ftzDPMfIhw/DuQSLBSpEMIM0woiGa4pzylvHKMRdAghBg0LQhCGFMISXAo6AH36ZPRv7+fvc/UK9/nyGOz840zhQeJV4svk6OdF6ZnnHOXh45bl4+vF8Or0Xvn29jH1Sfep+v8AQgWlBUII4wqWCRwHeAZkDM8QQRItD88J9AhcCiUL4wkNC4AKRQntBoj/6PoN+4r8EwF+AVD7WvZu8nrw6PHF8z/0C/V49dLx3+9Q8DTxDfVL+ib7k/px+nr3pPp3/iwCDwTkBdwGbQXOBA4DZwQgBtQG9gW9BPEEVwPJ/1j8F/zG+mP9/wrVCSoPigM08Gv8awrdGbsgmxyeGdMdURS4CPQMaxxzMpU2pShwGA0M8wTaCD0RtRdxG9sRnwSg+d7seuYC7fr34f3G+TztF+Lw3XLcEd1X5KzpUe3865flceEO4dDjyul/8vb0wfXw9Yb2fvly+oX6Wv6PBFsKCQ0sC34H2AUoCaMKZg0LDlsOCQ/lDYQJmQVYB5QI7gq0CMsCA/+x/I378fpm+w76BPgQ9gTzfPJn8X3vE/HL8s/yUfFK7xjxafTD9Tv16/bJ+uD76/kO+h/92wFsBDgD7AOeBdwEnAQUBiIG5QeuB24EjwNSAgb/NQD2/i/96//9BtkM7wlBAeT42f09ClISnxfFGhQckxsqFCwQgBWOHV4nTClmI+4d5hJ1C3gLvA65FGkXkBLgCN7+8vJB7vvvKPRn+IX33PIR60nhEdzx3JziEOjr6QXrD+pw5jrjceFH5Obss/L/9Vv4VPmy+Hb4rPiJ+lcBjgd3C3cM+wlmB6AGJAi4CUcMaQ+gD8QOeAx5COMFvQVhBbUFswftBjIEMgHY+6z4kfi6+Hr4f/jm92L2l/Sv753rfO0G8cjzMPYf9YH0AvVG9W32z/kG/UP+sQDM/3YAOQGAAnEDpAOEBIsECAaGBT0EnALWAp8Aj/9P/hn+KwH0A7sEDQRYApP65flMALQK/BflGDYTfhMoFZQTDxV1F3UeyioRJ/ceTBdKEnwUEBc6GPAVrhLtC4YGZQCn+tv2gPba+Ff3zPA/6T/mmuU35sXkueNj5sPmLubF5Hvkv+aI6LPqwO3A8anz9vQc99v4T/wj/fj8NgEoBtgJAwkgB2gIjQtODeELFAsHDsMQVA+WDOoHTAgjCnEHMwcnBhwEuQPUAC39Q/yK+iT5cPmc97T1z/RE8kjxPfH+76PwevJA8yfz5PKM8n7zHvVv9Wf2evir+vb84/1w/Qv93/xc/tYAFgKHAlgDFwTmA6cBzP+uAEECZgMGBAgETgTtAW7/1gGKBuoL3w2/DrARMxMcE/kSvRRcGycegR9bIPgepB1bGe0VvRbQGGkWxhP7D2wL5AcXAlH9bfzA+mX4DfW+8W7vBu1u6vznEOhE6OTnY+gz6O7oqOkg6Q/q5+tS7Srvu/G+85r1Cveq93T5PPz2/UQAkwJqBNgFFgfWB6gIfAouDAUOwg28C9oJoghECUoK4AhTB+UFLQOoAGf+Tv0X/u/98vv6+S73CfVO9FHz3/My9MnzEvSE83fyX/FH8VHz0fSA9Sz1FfVc9hD31fhY+8f8Sv0r/Wv98/+JAtABxwG4A0IFjwYKBFEB0gHNA9gENARRBFMEnAZfCO4HagmVDFAQtRKLE7gSZxQfGBQZiRrlG98bexz8GSUXYhfmF78X6BQvEUINNQm/BToDeQJIART+6fmU9cLyf++Q7aHtaO3U7VHsH+pz6OHnO+iE6YvrXOwP7ULuXu8G8QTyv/LO9Hb3q/nE+2z+mP8eAQgDwwPLBHIFXgaTCPYJBwlzCAcIHwe4BjgFtASkBXYF7gPAAYD/Cv6q/dz8zPvB+qv5LPiy9sv1OfUz9vL20fah9RX0EPN68zr1sPe8+Xv7qvuh+kX7b/uy/Er+VP9LAXEDygRhA6gBTgG4AaACRQLBAbcC1wJhAfb/Rf7X/kAAVQGkBE4HZAjpCLcJtwwOEIIRFxIIFFUWmhh9Ga0YcxikGNAXfRduF/0VgRRhEjgPAg2gCogHaAYOBKIAY/1S+g741vXx8lHwKu9S7qfsLese6nbp0ukS6h/qnepC64fr5exK72XxbvN29cj23fhn+gL71PxRAGID7QRMBqwGcQfcBzUHPgc5CNoIaAhyB6gFCgT2AqEBjgAwAC0A1v9i/+z9nPuc+tz5CfmV+AD41PdS+GT4V/dQ9nD1CvU/9i34GPm0+en5JfqW+wL8EPtp+8v8D//aAJoBIQE2AJQASQBOAP7/ff/T/70A/wCZ/+H+Kv6B/l8AQwEMA+oEsgb1CJcLkA5AEX8Ubhb5Fy4Z7hmiGqwbkxy2HJ8cBRuPGDgWwhOfEYkPIg2WCpQHBQQ1ANv8LPpu+M32vPRm8ujviu0A7CDrTutA6/fq2up16ojqYur56sTsYu888V3yk/NS9T/3Xfjr+KT6U/3b/9oBewJ/A34EOwWzBZ0F9gULBtkFpQWkBSUFhwRkAxwCggFwAB3/0f7n/gb/Zv6Z/Nv6pvmh+Av4S/iO+Nr4Vfii91/3Zffo98X41vki+rT69PrK+r37gfwU/or/x/9y/1v/7/9RACsB5AFUAhgCvQDD/7n/ZwDgAGYAbwCaAM0AmgFBA+IFngjyCscMeA4/ED0S/hNBFtUYvRqOG5ka9BlCGv8Z/Bk0GIMVXROeEG4NgAocCIcFBgTMAAX9tPln9iz1HPSJ8jPxTe+G7Y7sIOvb6Z7p+emQ6jbrh+tq7Kft7O7R7zjwqPFt85f1qfev+dL7svw6/RH+3/8oApcD0gRlBfEEMwTKAikC3ALzA+EE7gRiBLECmgBF/8D+G/9E/4H+UP20/Gv8/fuk+wr7yfpo+or5Ivlz+VD6RPux+8H7Rfu5+lD7ivyt/Yz+IP8NALcBAQIgAQYB3gDJAeoCpAJTAeP/Vf+n/7MAQADF/jz+Gf/1AJUDZQVzB8oKbgwsDUgNRQ6HEUUVwRhwGhIaxRgDF/wWJxhoGWcZ8hflFLYQ5gxdCTwIowcPBrkDPwAz/fH61fin90z22/O48QTwZ+/t7hjuR+3w7PDr0elx6Iboder07HDuB+/z7g/vD/Db8RX12vgH+9X7Fvxb/Lj9h/9kAaoDcAXjBSsFuQOWAtwCiAMpBBkELgNFArQBFQHz/8H+0/3g/aX+vf4a/ov92/y2+6v6//nI+W764/oW+1T74vpx+l76evoA++77yPyX/Uv+xf4p//T/rQAYAbYBIwIoAmQCugKsAsoBjQAB/zf+2P7M/yYBmwKQA2IEugUBB90I0QszD+kRAhRcFQ0WoxeJGXca/Rr6GncaZhpLGaUWpBTOEskQnA7cCsIHlQVVA0kB0/7/+0r5+/Yl9YXz9fHC8NXvFO/x7Z3sWOuO6kXqTeqc6v3qkOtc7N7s5uzu7RLw4PJ79Qz3Mviz+aH6lvt1/UH//gBsAvgCWQO4A4oDfwPfA1cEJQQfAxECLgEnAEH/wf4b/x0AFQAP/6n9a/yy+wj7hvoh+1v85/zA/Kr7xvr5+kL7oftn/AH9U/2i/XH9YP3N/U7+tf8BAY8B2wHBATgCFgOnAxAEcQRoBIcDuQHH/+b+jf8FAZ0CJARbBSQGxQZ0ByAJEgw0D6wRnRPcFP0VxBapFvwWzhf+GLUZ8hikFoATnxC/DkENlAulCbUH1gVuA1MALP3a+rL57fih99H1RvMD8XXvnO5H7qzt4ewa7AHroumj6IDokull68jsUu1g7eDtS+9G8SjzFvV099D57fvC/Tv/eADrAUcDiATHBWEGigZcBn4FhQTJA9ICJAIUAtgBXgHIANf/vv6E/VT8mfu0+xf8cvyV/Ef88vvg+5/7Rfvx+wf9tf2s/f384PyY/Zb+Zv8gAMUATQGbAdgBBwJUAugCDAMKAwoD0wJFApkBCQHhAFsB8QGGAjIDMwTBBTIHqwhuCpMM1A6EEMwRZRIiE00UYxX8FfQVzBXGFX0VIxQxEsUPnA0NDHoK0QghByMF+wLFANH9Mfsn+U74Xfjv93z29/OY8bDvo+5u7pLu+e737hPu6uy469rqHest7Hntqu5z7wTw+vAU8jnznPQf9gn4Dvr8+6P9//5iALMB4gITBC4FDwZyBl8GKQakBSwFwwQxBMcDmwMyA2cCRgEPAB//a/4O/sH9f/1y/V/9Ev14/Fr8wPwm/XD9VP0L/UL9Cf7D/iL/a/9w/4n/mP+4/1cAHAHqAf0BXgGrAC8AcwAGAYEBvQHEAc0BNQIXA8sE9QbdCHQKVwvhC88Myw04D/MQZBJTEz0TpRLgEV4RKBGaELwPxA6UDUIM+QozCeoGkwRSAqYAd/8w/gL9XPt5+fr3sPap9RP1yfTM9EX0M/Mh8m/xl/EX8iHyyvFS8azwf/C78BfxuvFx8kDzvvMR9J/0a/Ws9iT4aPmW+o/7fPzB/fz+QgCiAXoCKQMVA6wCzgJRA/4DLQT9A44DJQNtApsBVwHgALwAMAC//lj9F/y6+4/76PtT/Gz8Dv1U/Tv90PzE/Fj9ev6F/2UAKQFBASwBsQBXAMMA2AExAxgEjQMlAnEAif/s/5oA8gEKA8YDSQSeBEsFowZCCOYJqwsQDSsOLQ8iEMsQPhG9EfARNhIqEkASBxK1EOkO5gx1C28KmwmyCDUHVQUoA/gA5v43/dr73/rp+Yn48/aQ9ZP0I/Ti88zzcvMj8/nysvK28uHyQvOM85TzMfPZ8hfzD/Qr9WP1BvWk9PX0zvX19hH42/h++QT6tfpv+0f8Pf00/nT/AQD//9D/8P+XAGoB3gHgARcCRwKaArsChgIKAoABawGHAcIBjwEUAYYAvP/h/qD+Ef+x/08ADAAv/3j+CP5P/k7/JgC5ACIBAgHrAL0AigCzAFQB7wHLAVsB4gB2AD0AVwBxAFkAogDKADQB7QFuAgsD3gMVBcUGQQj4CXELlQzVDc0OiQ8wEJoQyxAuER8RoxDFD7QOvA1wDEELLgoXCekHCgb0A5YBWv+3/R782vp9+TT4p/Zx9Sj0KPPc8o/yyfKU8ivy4PGn8aPxbPGJ8Tby+/Kw89Lz3vMr9GD0vPSH9eb25Pfj+JT5avpg++n7k/yK/cT+wP9qAN4AJwExAUABcwGcAewBOQI8AoYCpQJoAmgCTgJ5Al8CSQI/AhAC8QFQAfkAewBSAIUARwA9AML/Pv89/3L/s//9/30AiwB9AFoAPgC+AGoBJQKnAoMC9wGcAYcBagFqAXQBZwE+Ab0ANgDC/wAAgwCbAcQCYQNjBJwFNAfOCCcKiAvBDNgNvw6JDyEQmhCIEBkQfQ89Dg4NKwx+C6gKbwnOB94F6QPoASEAy/6Z/Rz8Avt3+bD3Svbn9ODzLPOh8lzy5vEl8X3wQ/Br8NjwOfEv8SjxRvG78XnyG/PG81T0I/VN9mH3l/iI+br6HPxf/YL+Gf/8/7AAsgGVAsUC4ALiAhEDJwNBA6ID8QNKBCwE0QOJA0cDRgMmA+gCfAL5AaUBPwEFAbQAvACmAHEASwD0/+b/y/8zAGsAXQBCAAoAIwBUAKYA6gBcAYgBewFBAeoA9wAFAQ0B+gCPAEMA+v++/7b/5f8PAFYAoQARAZUBPAI3A1sEuAW7BtQH/AgvCp0LoAyVDTcOhw7fDtYOyA6TDuIN9gyGCwgKdgg2BwsG2QSGA4wBh/97/eb7wPr0+V/5Tvg69871hfTG82PzhPPD84/zAvM48sPxxfEA8oPyNPPJ8wz0k/TK9ET12PV39r/3nfhc+Rn6C/si/Cz97f1m/rL+cf9MAPkAqgHhAQ4CAwIgAoIC2wJ1A8oDBATcA2MDMAPvAigDXQMBA6sC3QFuAfkArwCYAFUA+/9x/1P/Fv8d/0H/Sv+F/4b/v/8tAKoAAwE2AY4ByAH5ARICCAI5AhUC/wHYAVgB+gDHALcAlgBGAPX/wP+W/6D/AQCTAF0BLwIYA/0D5AQZBlsHpAjtCR4L+wtQDH4MowysDNoM6QyaDPILCgs/CiQJGwglByQGMgUXBKICMAH3/8T+2f0J/d/7f/pG+Rb4S/fT9h32SfVv9IvzsfIc8sLx3vHx8RnyS/Jd8qnyO/Mc9Cj1PvZr91L4JPn1+QP7Y/yn/ar+Qf+5/wsAcwDNAEYB2wHqARUCEQLXAb4BjwGgAfYBDwLpAbABqwGfAbIBpQGAAVoBRwEdAekACgEQAS0BJAHBADUAe/9v/7r/DgBaAEkA1f85/8/+zv5H/8j/cQC0AIMAjwA4AP//HACfAEMBqgHuAZABFQHrAPMALAGOAQkCTwKyAuACBgNzA9oDsASfBUwGKwfaB08I2AgYCWcJwwnwCSoKNAoACqcJbAkICY0I1QfhBgEGNAVdBHMDegKPAZoAfP9F/gf9APwq+5P65Pkj+XD4cveJ9tf1g/VS9Vv1h/Wm9Zv1bfVc9Zb1Dvae9i337/er+Ez5vvkL+nX6+/q/+5P8Zf3g/TD+l/7C/gX/Sv+7/yMAawCBAE0ANQA5AD8AUwA0AO3/o/9q/3P/if9W/1T/Vf9b/2j/eP+v////agCoAN4A8ADuAPsADgEsAW4ByQHyASgCBALSAZkBTwFcAYcBvwEAAsQBWAEEAZ8AfwCuAP0ALQFYAVMBIAEfAUEBqgFZAmkDRwT3BH8F1QVQBg0HzgeYCFIJnwm5Ca0JnQmiCagJywm8CX8JAglJCH0H1wYjBlMFfQRkA1gCfwGKAK7/5v4j/kT9WPyA+6/6Hvr8+cP5hfk0+bn4Vvju95/3dfeW97j3vvex92f3S/cx93f3z/cy+H74t/gG+Sf5O/mP+Qj6Yfre+kL7f/uz+//7jPzr/D79if3b/Sn+nf7p/lf/3f/9/0QAfACtAOQA9wA7AWoBdAFmAUoBTgFQAUUBPgEeAf0A0ADJALAAgABSABYA5v+W/1H/L/8i/yr/Iv8a/+L+y/7D/uv+Lf9t/4r/tv/n//D/QACEAPkAoAEOAnwC4gJzAysEqQQvBcwFRQbYBoEH3wdcCOoIPgm2Ce0J+QnaCcMJAQoTCv8J9AmKCdkIBQhjB/IGegYMBoQFrwS2A7wCigGMANf/Mf+S/qH9i/xt+5b6Gfq4+Wj53Phy+Bn4l/dv90z3VfeM97z32vfs9+r3Mfiq+D358Pld+pr6AftP+4b7Dfyb/BP9ef3E/eL97f35/QL+V/6c/pj+jv6G/mT+c/5p/pb+0v7k/vv+If9Q/1D/mf/U//j/FwA4AFMAWACBAFUAagCJAG8ANwAnAP7/n/9+/z3/Ef/d/pD+eP5v/mH+Wf4r/gz+Kv5U/r/+//49/2v/l//O/9j/3v8wAM8AbgEVApUC2QL4AlwDGATsBM0FZga3BioHngfdB1oIxgguCXwJogmmCX8JVglPCWwJSwkRCXEIsgcKBzEGYQXbBEAEcAOpArgBnwB5/5T+x/0y/a38G/yP++D6OPrJ+WT5QPk7+U35bPlw+Xr5hPmL+cL5Ovqh+jX7u/sT/Hn8oPzI/Pj8Qf26/SH+KP4f/gP+6f3n/db93/0C/hH+A/6T/Rr9Kf0M/QT9Sf04/UH9Tf1u/XX9hP20/ev9If5D/n/+pP7c/j//gP+H/5H/f/9q/4b/r//J/9f/pv9X/zb/3f6s/oX+jP6i/sH+vP6a/n/+lv7e/k//xP/g/zIASQBwAO0ARgHGATECtQITAzoDZQN2A8gDKgSABNME/QQTBS4FQgVGBWkFowXpBQYGDwbpBcYFsQXCBcEFzwX0Bc8FqQV4BV0FNwURBdkErQRyBO8DjwMgA9MCiQIvArsBNgGqAB0Ap/9N/wT/x/6L/jT+s/1H/fr8tvys/NL87Pzv/Ob8pfxb/F/8X/yO/LP8svyW/DX87PuY+1j7K/vo+tL6vPqF+iH6zfmS+XT5TPlm+Zr5yfnl+ez5Bvo9+qn6Lvuw+yP8kPz6/F79j/3F/T3+kP7c/kv/cf9y/4T/jP+//9T/4f/y/+D/0v/z/+r/2v8BACoAOwBfAHYAgACtAOEAIwFtAbgB+QErAlECbQJ6AnoChAKzAvYCHQMJA+IC1AKlAm4CTAJMAj8CWAJXAjwCTAJbApMC6QJHA6EDEwRhBLYELAWVBQwGcwa+BgIHVweeB+0H0wenB3kHMwfRBnQGDgamBSYFdQTLA+8CMgKaASsBpgAZALv/Gf+d/iX+3v23/Zv9jf1J/Tb98Pyo/JD8evxU/DT8B/zD+4b7Hfvy+q36Sfrp+ZP5K/nl+Jf4dPgq+On38PfJ9773yPfP9wb4Rvhs+LX48PhI+cD5OfrJ+jX7tPsx/M/8ff0n/sn+ZP/6/6cATgHIATYClwLqAiYDYgOuA7wDwAO+A6QDiQNKAwAD0AKlAokCegIuAssBtwF2AVMBOgEFAf0AAwH0ANYAzACqAJoAuQDHAK8AlAChALUAuwCuALAAuwCoAKYArgDEAOwA7gDuAPQAKAFDAXABxAEeAo4CCwNzA/QDYQTYBF4FAQa3BjoH6AdVCM8IKQlOCX8JfAldCSoJEQnNCIoIDwiLB+IGNgaQBcwEKwRgA1gCVQFHAEH/YP5g/Un8Yft0+nf5hPiQ96P22PUu9ZT09/OJ8zvzA/MF8xnzPPN787nzIvSd9DL15fWJ9hb3+PfF+I/5hPo5++L7c/wR/aj9Uv76/oL/PACvACIBjwHgAUUCrQL8AigDNAM4A0cDUwMzAwMD3wKwAokCVAICArcBcwFSARkB8gC0AJAAgwB8AIYAZwBbAFcAeAB7AIMAkQCoAMYA1wDRAOYA8ADoAA4BBQEhARYBKAEzARQB+QDpANoA4gAQARIBIQErAUkBhAHxAVYCwgJeA+cDggQgBckFZwYUB9MHswhSCdYJbQq2ChELdgu3C9wLvQtwCx0LtwokCkwJVAhRBzwGCgW+A28CAAGp/zj+5PyK+0H6HfkL+An3L/Zx9aT0CfSR8ybz/fL38vXy/PJB84Dz4vM59LD0J/Wt9VT2//bK92H4Bfmw+WH6APul+1z85fyM/f/9if4R/57/HgBqAKoA2gASAU0BeAGTAa4BvAG3AZsBdQFTAUABZwF0AV8BPAEDAc8AnwBzAHkAaQBWAEkAGwD2//D/5f/v//D/AgBJAEsATgBLAEoAXwBgAJgAyADwAAkB9wAAATcBVwF0AboB4wEBAigCHgIbAhsCGgIuAkwCZwKkAqcCygLqAgoDWAOOAw8EowRHBQMGqwYyB74HXQj9CLgJbgoBC2ILowu4C3QLTQsIC5EKHAp4CY8IVwc1BqgESwP5AZ0AXP/+/cz8U/vX+bn4nfew9uP1W/XT9E/09/O+87PzpfPt80n0p/Qg9ZL1FfZv9vn2XPe59zL4nvgK+Xv54vk1+oz65Po8+7L7HPyT/AH9fv3m/Un+4v5f/+X/XQDFABkBTAGNAd8BMgJrAqoChAJZAk0CNwI4Ag8C1wGiAVUB6gCRAE0AEAAAAN3/nf9t/0b/KP8W/wn//v7z/vL+Cv9F/0f/Wv91/5T/4P8yAGgAtgADASgBdwHDAeABJwJJAm0CngLIAvACCAMoA2ADsAPnAzIElQQZBZ0FPAbzBoUHJQjgCJkJPArRCmEL2As+DJEMqwyhDFgMBAyoCy4LfwqfCXcIWQcZBrgEcQM2AhEB5f+U/jn9yPts+in5OPh197L2C/Zl9eH0ZPTt87jzgvOc87XzpfO38+PzEvRJ9LD0GPVm9dT1W/bg9m/3HvjQ+G/5BPqn+lT7Afyv/GD9Af6Y/in/o/8PAJIA8wBCAZ8BxwHeAe8B3AHYAdUB1wHVAdkBqgFdATIBCAHGAJsAeAA6APz/2P+e/1r/Dv/k/tX+rf6m/pf+bf5R/mT+jv7A/gn/Uf+Y/+7/ZgCtABABbAG+AR8CcALAAu4CBAMlA1MDSQNIA1MDXANqA3MDwQPuAysEcgTmBIEFFAasBnMHTAgLCegJtQp/C1wMBQ2NDQIOaQ6dDpAOXg7pDSINbgyJC3AKKgmxBzUGigTYAi8BgP/a/T/8t/pI+fn3pfaD9Wz0nPMP84/yUPIl8gzy7fHy8TPyZPKq8iTzrPMW9Lf0OvXB9UH21faX9x74u/hZ+cv5SfrS+mL7/vuK/Pv8aP3W/Tz+nP4G/2j/w/8CAEkAiAC7APwAKwFVAWwBdwGOAaMBiwFoAVsBXgFVASYBKQENAfMAAwH6AOEAvwCtAJsAmQCOAIAAgwBwAHQAdQCEAH0AcQB6AH4AqQCjAJUAuQCtAJoAgAB0AJcAsAC2ANkAxwC4ALAApwDCAAgBWAHfAXUC4wKTA1MELwVDBkMHgQiRCa4K1AvlDO4Nxg50DyYQsRDlEBAR6RCcEAMQMQ9FDv8MgAvsCV4IpAbjBOwC8gAG/yv9dPvX+Uz45vaj9ab0yfME81Ty8fHK8ZPxmvHJ8evxPPKc8iPznvMg9MH0aPUc9sX2ZPfP90X47vh9+Rv6ivrh+k77pfsh/HL8tfwI/VD9mf3c/TP+V/6l/vj+Tv+i/+7/OgCJAOIAGAFvAa0BygHtAfUBBAL0AeEBwQGuAVoB4gB3APv/o/80/8z+cf4T/tn9kv1T/V39Uf1Y/ar94P07/l/+of4L/1z/x/9BAKkA+wBSAZUB3QEiAkkCgQK0AuMCKANdA5gD8ANABJ8EFwWpBVgG9wbIB48IPgk6CiYLMAxGDUwOKQ8BEJAQFBF4EaoRyxGPEVYRnxDLD+YOsw2TDDELrAkOCGQGdQSdAtAAA/9U/bj7M/qv+Fj3Gfbs9Ljzu/IB8kPxr/Dv74LvNu8E7w7vNO9J74Tv+u9U8Pfwi/FN8h7z7fPQ9H71TPYf9//39fgA+u760Pui/In9gP5r/1QAHQHkAbMCLQOmAxwEOQRQBFMEKQT/A4oD8AJnAqwB9wBPAJr/7/4T/oP9/Px1/Dr8DPwE/Az8FPxa/LH8HP2h/Qj+ef7e/jP/nf/6/1UAwAD+AEEBoAG2Ad0B0AHPAfAB9QERAgkC4gHWAdMB0wH/ASACMwJxAq0COgPCA10EJgXUBcAGvQfDCPAJDAs8DGgNgQ6AD1MQABGzEU4SoRLyEuESiBIfEloRhBB0DxoOiQwMC1YJcQeJBZwDowGY/539nPus+ef3PPbM9Ejz4/Gv8KXv1u4d7nXt7uyd7GzsdOyN7KvsC+1S7cTtau4M79TvpvCa8bLyzPMd9V32vvcf+Xv63/tZ/dn+WwCvAdYC4APSBNMFfgYDB3sHpge2B6IHYAflBiEGUgVqBKkDxQLLAccAt//V/uH9Hv11/AT8n/t3+3D7afuO+8r7HvyN/AL9kP0w/tz+Zv/l/1oA0wAcAXQB2wH5AQMCAAIJAgoC7wHbAb4BrQGIAWIBOQEbAQgBDgFJAZkB5wFaAvQC3APwBCgGhgcECYIKNAz/DaUPSBHkElcUihWRFjcXpBe4F3sX/hYCFrkU+xIlERYP3gxaCqkHvwTWAfb+CvxN+a32JPTc8dXv2u0t7OHqwOnx6G3oF+gH6ETokOgt6eTp2ur56yvtiO7x70jxnfLn8zb1ovYI+G75lPq5+/j8Lf5y/5AAiwGHApUDhwRlBRcGpQYDB2MHyQf9B9YHowdRB9sGVgaUBcsE8wPPAsgBwwCv/6/+r/3P/Ab8J/uL+iT6tPlu+UT5V/mj+cP5VPoB+5b7QvwI/dP9kv5E/+j/mgAoAYcByAHwAQYC5AHZAakBUwH3ANgAvwCKAGwAYQCaADsBLAIsA2EEtQU1BwMJ+woPDU0PhBGWE8UVpBdnGcka+Ru1HBgdMB2ZHHwb2Rm7F04VsBKID0sM2wgeBYQBvf0i+oT2NvNE8JftIesb6UPn0+XH5Bvk+eMH5Fzk6OSU5X3mrucl6aLqRuz47bfvY/Eh89D0cPYm+NL5X/vq/F3+ov/lAB8CaQOTBKAFkAZYBzYI+wjECUMKsArtChsLLwvoCpwKDwpbCZIImAecBjsF6QNVAswAe//a/U38ufor+eL3yPav9e30IvSL82LzW/Ol8/Tzg/Q79SP2MPdZ+F35Zfp7+6j83f3u/sL/fwATAZIBHAJtApQCpQKUAsoCLwO7A1gE7gTQBesGggh2CoUMsg66EAITkxX0FzwaGByaHSIfEyCvILIgzB97HswcyhpqGFIVsRHRDbgJpQWuAY/9UPlN9YrxIu4x63zoJuYu5LTimeEM4dvgH+Gc4XbijeP55Jbmb+iF6rXs8O4k8Xvz0/UE+FD6YPx6/oAAcQIzBMoFSAegCPAJ/ArOC1sM8QwuDVMNOQ3ZDGUMoQvsCvIJ1QiRB0MG1wRhA8gBPwCi/ir9sPtY+hb53/fT9ur1DvVM9MDzUPMC8/Ty9PI186HzN/To9KL1gfZ19274evl0+lT7PPwO/fX9xf5S/9X/JwCHAMYA8gAgASoBSgFoAaQBWAKFA/8ErQZZCAMKKAyGDnYRVhTcFkwZrhsaHk0gMiI0I8gjASSJI9IiNSHRHtAbABj5E80PGQvxBZQAP/sj9mPxrOyf6OjkoeEo3zPd09s02/babdt73P3dIuBg4gjl8+cM6z3uifGS9Jz3lfo7/cr/IgJSBDsG2wc+CXwKpAuUDD0N1Q0qDoQOpg68DqgORQ7GDSwNpQzhC+IKrQlACMcGPAWtA+gBBADY/cf7yPno9xj2TPSb8gHxqu+w7vLtWu3c7MPsDu237a3uxe8U8ZvyQvQe9g/40Pmd+1r99f5xAJgBxQKYAysEjwSzBL8EagTrA4UDFAOnApICzgJeA1kEowWEB4kJPgwsD+cR/hT/FyIbUx4zIbIjeCWdJm8niSe+JgwlviLEHzAcFBg5E+QNGQiJAtT8Vvfh8bXsyec044DfcdwQ2lPYFNeZ1t7Ww9eT2bnbQt4o4V3k5Oe8637vPvMK97L6Zf69Ad4E6AeOChUNcw9dEe4SAhT7FMsVQRZmFgwWbBWQFIETHxJyEIUOSwwWCp0HGwUwAlv/ePyY+fD2RvSt8Rvv2Owe68rpv+j954/nguf255LozOk86+TsCu8u8ZnzKfaK+B37vP0EACsC+wNwBcsGgwcHCEQIFgjABxsHRwZPBRAECQNDAm4BvAAJALr/GgAxATIDXQWqBxgK9AysEC0VKRmYHF8f4iHAJD8n5ygTKegnQiZXJAMiqB6sGckTsQ2OB7gBbPvH9EfuS+g+4xHfZtsc2H3V6NOl02fUwNXN1wTaDN3r4BLlpukD7i3yRfaV+tT+xQIrBsEIawvfDSQQ4hEXE80TRxTkFHMVnRVFFUIUNxNAEkgRAxBHDh0MmAknB5sEDwJL/zz8JvlB9njzj/AM7oHrYumV51HmfuXQ5KfkCOX65W7nZ+mf62DuaPGP9PD3K/tY/nkBdgQGBwUJaQp7Cw8MAAyMC30KxwjZBnkENQLs/6r9V/uC+eP4LflI+m37Ef2L/0sD1whKDkETZhe4G+UgViYGK8otMi9SLywv1i51LXMqjCVoHwAZ+xJsDH8F7P3/9bjuROi54tHdEdln1cHSZtEf0QLSZ9NS1XPYStzv4LPlc+pE70/0W/lh/gcD9AZ9CpkNsRBaEyUVWBbPFhAXOxfzFkEWBxVSE2kRvw/iDf4L0gk2B40E9wFK//D8Yvqn9wH1YfI38F7ue+wL69Lp6+ix6LLoGumg6T7qXevV7Kvu1vDj8t/0/PY4+ar77P0AAOIBRgN9BH4F8QWNBrgGmQYrBiYF1gNPAtoAu/9b/pv85/rv+cL67Pzx/h4BAgPnBT0LiBHRF7gccyB+JNkpeC/fM7w1BDVHM2wxey9mLPQmUx9jFmcNOAVJ/Rb16Ot54tvZfNP0zuLLNsk3x7nGB8i1y7rQKdbD2/PhBenT8K74DADRBt8MDBKwFmUaOR3vHpYfjB8jHmAcERqhF8QUHBF7DeYJawYOA2D///v3+GL2RPRm8qjwF++37R3tAO0P7UXtOu2C7SXuE++E8LLxkvKU84z0w/Uo9yP4EvnN+a76y/uj/HP94v0d/tX+ev8RAEYAVABhAJIA4wDgALYAKQCf/yr/qv50/iP+Uv6L/v/+KwA+AvQFQwpBDpYSYhavGysiyijFLqAy1zRpNgQ4mzkTOSk2nDCMKEIgFBimD8gGaPzz8BHmm9w61bvPvMphxivDBcKfwwLH1ctU0RzXrN0i5WPtC/Ye/goFYQucEEUVBhnJG0wdxB0hHaAbphnmFgQUwhBNDfkJJgZzAhj/Avy7+aT3ifXf81ryofGE8VLxSvFV8W/xE/Jd8gXzDPTc9N/1i/Yq9+73nvi4+Yz69/op+x/7WPvc+zv8w/yc/Hv8hvyQ/Hb9yf2//a79IP0W/T39Lf2u/ML73PqI+qn6ePql+Y74lPhU+mv96gBiBDQITAxHEj4ZmiBxJyQsBjBrMxA3Xjp8O+05wzW1MJ8rYCacH/0WuAzOAcf3vu6D5pbesdaezzHK4sa3xTnGj8f4ybXNRNNe2hniYepg8tr5pwHzCLMPgRWeGdAcYx9OIJMgih8mHVEaJBbZEQIOQglvBGX/gPrz9rDz4fCy7qHsiOsH6+jqGuwh7YTucPDj8SX0ivYV+bv7wP0v/2gA6QCOAdMBqAEvAbP/H/5z/K/6hfkD+Ej29fTK82TzmfP487z0wPUr9wv5vfp0/Df+ff8DAS4CTAOvA4cDiwNWBHkGhAh4CjoLygy7EFYW4B15I/omiylvLHExzzVCOEI3ojJTLfIngyM9HsYVYgqP/cbxOekQ4l3bAdSQy2nF7cLww5THccs+z+TTKNpu48nuXPlVAr0JGRDMFh0dnSFhJMokSCNxIUEePRraFUsQNQvTBeP/tPoR9hXyRe877DDqlegX5x/ni+cF6fDqOewr7nvwNPOv9gL66Pwm/7AApwIlBOIE3wSFA6gBWf+x/IH6rfe09Ovxae8o7qDtZe0c7hDvbfCj8uX0WfiP+17+IAGuAUwDCgVQBncIswd9Be8EGgSwB9MLHw2KEFwRvRW9HmYlES6vMvIz5zY9Nxo5rjpXNq8vYiWVGqoUUwzVAg34fely31LXWtJG0LfLm8gYx3jH48yF0+3ageKN5zLuIvcLAF4JNQ/ZEikWUhgxG8Admx59HeYZ3BVNE9EQWQ4CCzwG1gGa/fD5efek9Jjx+e5Q7PvqOurQ6c3q/+uF7b/v5vHr9Eb4jful/gsBrQK0A/QD+QNHA+kBqP9a/Cj5+fUy88jwAO5a7G3rPuuQ7EvuUfCI8hz09fbS+Rn8mP7//54BRgPWA1IE+wQGBuYHXAlvCf4IvwhwCuoNLBLFFlwabRxuHiAiFSi/LbYuTypdJQYi0CH6IA8clBN0CQwBNfz9+ND0iu7z5rjg9d0k3irgmOEx4dTgieKv5jvt3/LL9p359PsfAGQF7wnUDdsP0BCJEbYRzBGhERIQ8AwECc0E4gC4/IL4p/Q68bLu6OwO7OXrguyi7efvS/Pm9oX6UP1u/wgCdQRhBnsHsQYABRID3QCc/139ZvoZ90jzQPGH8C7wOfB47wnvhPD/8iX2pPix+Qf7dPyT/ggB+gHHAeMAuv8uAMYAngBJANf+Dv6v/rT/QgJEBIEEmAVoBkgKOBHqFdkaExwFHHcfhyFrJWUoUyV+IrwcyhhsGskX5BMfDAwBgPzr+Jf2mvSD7Yjp0efO5cLn9udt6F7rGOsy7SXxWvRn+TH7ePz3/zwCDQYwCBUIWAl0CBkIVgj5BagEaQL9/k/9k/ov+VD57feG9xj3XPYW+IH5SPs8/ZD9Tf4O/3kA+gLLAyoDBgJlAHwA4ACv/+79vPqG+BP4ivdc90H2bvRu8xrzEPRT9rv3rvcM9272YPif+gT8e/wE+zD6VvpH++38Jf1n/Gb7dfqS+1D9i/7+/zAA1wDiAd4BhAJ3BB8HLQq0DOUONBOZF9obSSCZI/4nCCvgKpkpeyeVJbojeh9MGcsQlAdF/1f3EPEz6yvk9N2f2IPXg9oc3lfiRuYD63byz/nuAcYJFg4KEYoR6hDYET4QnQx2B/8Ah/x0+HX0DvJQ7yLupO6a76Xz1fff+rb+AAHVBFEJdgulDKQLFwmOB9cFDARmAcn8cfjB9NHyifKW8cDwte8n75nwAPNC9UL2OPZH9hj33vhq+c749vel9lL2qPaG9mb2XvV89BD1+fWC+Ev7tPzx/cv9Xv8MArcC0QLVAJUAQgQ9BwwNJxJ3F5chHCe2LL00IjnOQOZBOjxcO8A1ZS4EJLcSDQj//avvAeLK0dPJdsiqxM3Ea8VCyQPUAN1a6Wj4qQONDtITbRcTHQofmx4qGjsSCgvpAZn63vU68mHwG+zy50/o++sv9Kf7mv9iA+AETwh9DlUS5RSuEVEKCAVeAID+vPzJ9oTwMeqQ5kLodOoE7fHuXe+18ez09viL/an/xf81/9j95Pza+8n5rvft9LLxIPC178zwBvLQ8W7yDPT/9az4EvnZ+bD7XPtv+0T8Of9eBWkHHAkLD5oZfSgTMSQ1wTsVQ6FLgU/JTO5IQUG0NIImnhntDoYCsPAB3CTNqsbGxF/EScJgwh/IU9A13IHpGvbyAnsKhg+AFd8YMxyZGqQTRA5tBjH/w/hE8bXu5uvu6APpUen57mv3hf22BZIKOg5nE5gU+hezGbYVfBELCfEBVP5Q+F7zwu3r5xvmiuRU5eToVuxU8Uz1X/nP/qECIAZxB6gGngWlAcv8svc58iHvDuxR6ZnnFeZ75+XpPO3N8a30SPg1/Oj8Gv8VAAgC9AnnCykL4ApaCf8V8SdWMq07FzvVPDdKt1LpVp9SikBhMW8gohCeCHb5juYJ0R27Nrf4uwu/KcQDw0PGttU65H72OAijD3kWGxonGl8ewhyDFYIOJQKg+fbzsOvd6AXmL+Uc6qbskfE/+MD9lAcuD5QTBxc/FlAWyxbsFPoSuQz3A7P8KPYf8y3xEO3y6GXlbuUd6mbwJfZz+UP7/P1dAs4HvgoACnYGYgHi/eL6EffK8v3rB+bz4vDhG+QP5u7mu+n57an05fuz//AAzwArADkCMQa6CQ8NsQ3uDroYRCaXMTw59zkoQOFJkkuOSyNG1j22NvwlIRVQCWT5Req+1yLHrsJewK2/CMJDxDHNBdhG4sPw2v2ZCJcQ/xJtFe0XmxZXE2AOnwdNAab5NvK47lfuvO5u7u/tePBd9r78JwOzB7gKsA1ZDkoOAg+ADhMN4gnRA+T+RPtI9zb07e8k7HXqbOiY6Tjuc/QQ+uH7b/w//0oEYAjCByEEl//y+tX3lvPt7oXqJ+RO4Afecd0X4MLhZuXe6pnvjfXk+VD8S/9kAm0GFQrBCUoGkQZ/EvQh/S4xNS40XD1MTKZVxFrcVGVKwkAaM3Inex8UFLoCR+v71sjOG84wz7PLh8aGxvDJwNMx4Yztffdc/ED+vQMhC2IPbQ/1CtgF8AHV/V37E/pn+An20POW9F74K/yo/lIBZgW6CZYMzw3yDbYNdwwrChMJVwa+/+P4JvSa8rjyku8Y677qT+3q8dv3Kf25Ab8EBAbyB8kKpwuICLYBIPqD81Ptjufg4ZLcQtlI2LnZ+tz233rjnurx8p76+f+zAeUCOgQLBbUGygjNBiP/xPo8Ax4W7iqaNFw1hj46ThBchWJFXZFVaUuNOmIoyxauCvb6++Jhz9fBlL9sxRLEk8WxyiXOOdsb6a/18gPSBbIDTAaRCGQN/gwxBSD/SPk19eDzPfPQ9S73sfZh+Mb7VAMuCtML0QynDPEMOg+IDq0LGgdwALj73PnQ+Hf3tPMD77/sQO7Y8cb1+fig+sn91AE2BtsLYQ6lDpoNXgkJBfH+kvYF8BbpkuLe3ejXkdRd1PrUl9ng3rrjjurS72f19fvG/5ICYAKXAL79Nfd682X39ALIEVQa6R2CK8BAhlZ7ZhtpRWf8ZE1cd1BwRx05DCOpB2DpDNiR0/LLDcPBu7+2hrshxkDS8uLW8JX3s/0UBegNDxNnD9oJBwWBAb39HvY/8kTysfHE9KT4p/4LCH4MIxBcFcwXwxlPFxgSQw9FCvcC0fv68rHsLukp5avkI+VY5IDm2+nr7uz1KfqM/dMCSgcFC1QNAw2SDSYO1gv4B04C5/vt9ajv2ert5gbiC93m187VXNfn2UveQuN058nsgfFc9nr99QETA+oCuABb/kP6mvDs70b+DxDcIzoqkinVPEdVKWimdsVwumfHYvtPGkF8Nhoh7gop7NPO08Zpw7a+XLuwtSC6N8aW0FHh0PCf+YQBzQNGCBgQ/g42C88Giv/Z/Ij3evI49Cj2pPpOAGkE4ApAEFUVyRx1IDMfYhnsD8oJzwS5/Hb0mOpo4ZvcAdpo27vf0OJ45YfqUfLv+/8DHwjkC3oQbRQaGAEYvBUvE0IOHQldAjf6zfKJ6m3iHN3H2MvVR9Uv1PDUgNg/3OHiE+q27U/xUfWg+nsAGwFx/8//f/2R+9j11u0b+IIILBvQLTAw4Tz9UA5fknDibbBk3F01SJo6OS81HMANdvIp1QzM28R4xKbGfMACx7zQJdmI6ln2nP90BuoEhQcSCsYH6gKS+jj2XvSq8drxKvJf9Xj8egEtCKkRqhdIG14dvBvEGaQWJg/fB8kBzPng8WPpy+ED3+be8OBg5aPoletv70L0Q/1yBoIMTBAVEJ4PgxDEEJ0RtQ8OCkcEhfxR9QDvo+hV5dviKuBO3vTcBd4o4ankkuni7DzvyfGZ8yf3svjS9g72RPP07xrwQe496/7rUeRR530EwB9KOxRK/UIuU3RtVXZZftZyZFtITv41rR/8FUMBKOuu0pK/OsJrxATGFsqYzNPc7erJ888CJAlJC0wNJgjWBVAD6PY/7NjlTOG84Zviv+TM7aP2tv/+CnoUYh6AJQ0nwSgTKRQi4hjbDUQDm/5g+Nbu3+YY3yrb/dyt4JHmAuxy8Iv2EP2kBKIKCQ30DfkMwAo0CWkGIAJ9/5z6XPUJ8vHrb+jV6JToV+rL64XqU+xk77nxWPS/9IfztPGR78juJ/DE72Psuucu5OzlPeo07FHs+Og55nrwngxBKb5A40zTS/Ng0Xbye/9/AmuYUm5ISi1zG8ERovfr5UTTtcFjySHOjtGW10zWZuEd7rv1vgAtA9sDEAbyAUr/APyB9eLxQPDf7s/uOu4y8Xz5agIzC+cPERLeFPIWBBqeG70YKhExCOoBav+h/eT4IvBH6Lvl+ObA6ZvsTu1R7z30nfmmAJMEfAU5BvkFHAhECekFzAJc/4f7tPqF9/rx+O7J6C/lTeZm5UDmiuUp5LjnLewL8P/xivHz8GLy+vMY9VL2TvTt8dfwLO/w8OHwhu0A6HTm+/PtB7sbcyZlKzM780+xYjxsaGndY5pV3EjpPs41AS5LFDz3++Vc237Z9dI2xqvEq8jUzm3aJeOL6mvyRfU9/JMDCAViBDz/uQBMBE4AaAGi/vD9AQYFBqQICwtyBqwHcQnKC38OHgrNBcgB0P95ATABfADq/TP5cffZ+Br6h/p4+b33Fvm1+RT5yfio9if4Zvq+/CkAqv+yALgCswPGBaED3v49+hr1GvHc7r/rTega5j3kP+T65R3oSuvu7XfwTfQ5+Kf8Nf3g+9P6xff09Ub20PZS9rPzD/Hk7oju8uu34nbt4AdBHjM1FTlbO45XJWiVbZdyw16MULRDLCU3HzYVY/nz5nrMxcZj0wjPXs+90OvSL+G048Pp4ffA99D7Bv4p/U4HxAX0/aQA8f+iAUIEDf0X/WD+zf20AiUDmAWmCC8IDgpMCXcHkgccBEoAxf63/Fr7kPhv9LHzkfVY95z30fVb9Tj1/fVf+Mf6JP52AVkDzQb+CeMMZg6DDA4KbwZLAhH+X/mC83jufuoj6WPq3+pK6nLpFez08fz3E/xW+/D6W/pR+gr87Pm09hPzv+wX6MzljeWW6JToHej+69LxAfoU+Qr0swlIIjA6GUxQPMRE3VVfVU5i3VNqQI07vx+pFukWlAa4/2vqBdkJ4g/hreEx4+jXV9vd4BTeA+h+617rffOE9D/79AM6AtsCewRwBrcKGQpzCBUK8QnRCaQKkQnMCc0HRARvBKUFmASnAEf9Zfva+hT6BPa29Of1y/YH+UH5PvcG95T3Dfq8/tz/cv5r/cH83//gBF4IXAjQBQQD6gH7AwkERgKs/+P72/m4+ZL7+fyZ+8f3NPN28FPt+emB5l7kv+QZ5Wbnk+pD7JLuhPIC9uH4E/mc9aT2l/hx+OH54Pbb9gD4o/QR+XT5Jfe+BNAQVSkOPuQ3wjt0R2pUHGHKVZo+oTNBJ4YZiA/KAdf0Qeje1x/TA9/w5jXoHubD4ILnX/Fh8bP28PfB9PD2UvXy9Z78ofzw/V8D0gStCL0IXwQ/CBALVQp3C1wGKwQTBzUHYwgZCEgEggK+ApwB2f/u/aD4uvUM9MPvpO/n7ZzqIOsS7bbvHffl/+EIihOPFg0V2hNrFMEXaBWoD0QDR/nI9L/yBPZt9BXw7Opy6MvsfPHB8rvwt+rC6+vs+Oy57XbnoOZq6R7qRe7k7Y3rr++m87/3iPvr+Uv8QQEUAlYE/P7x/ZMFtAOlA9v7se8l/boTgy6BRBtCPURJVa5pJ3i7bVNSfTHsFFUEXPod9CPkgM1uwUjExNZl5bvnwOg25p3oUu2T79HzLfW49Eb7tf/GAWcChgFkCgQWjxiwFOUMiAO7AgEFOAJc/nn1oOwF8+H/Igk6DYkJMweSCogLdApzBCv6Ye4l4r/dBN9H4ffimOQC7pD6GwPZCpYNGhN9GIMWnxW1ElEOPgrJA+L+Avl08yfwoOwy6rjnOebe6FPrF+xO7cHuWvIG9rD6Hv/gAc0B4AA3AyMGZAftBHAAW/wF+vL3/fW89K/zQvLO8ZrzI/aX+e79Dv8IAfQHTQpqELgW5hifJBwqViPbIlkdHB93KPQk5B3+Ed4JwQcnDWcTYAjn+Rbm9NZ02pHYbtu+2VPSAtiA2qvpVfnl9yIG7AmWC5AXDRBXGgkztjbBOo8wNSUPNAc4njIOJPcMbQDa+KfxHO3x5d7dxdfD1NvYReGe5grpsOqr7PPw4vTG9ef0MPVu9rf5IfzD+y79qAB9BiMNMRDjDi0N5AvhC50K8QRY/G/0GvB77hrvnfDt8Izx/fG48uD3kf+tA04FmASUAkgFnAdXBxYHxQRWAtb/Svya+Vj4X/eT9UzzsvE38SnxkvGU8WTy5fNV9wz70v6hAgMF+wn7DVYOyQoGBzgEVgL+AroARP8C/qP6rPqV/N39Iv1c+vf6mf0vABEBa/0Q/fn8C/u2+4b26fF27nfqEe2h7eHw9vylCa8nCUQPTIFUAkiOQ2pQ6UU5PGsqBQ68CbIEHwCbBFv8tfM271nqO+ok4XTToss1ya3MAdDb0F/ZauXc7gD5HgA0A5UGKwnMCMcJlAYlAez/uwELAkMBYP6S+7r9TgKlBVoGhgTTADwAFQPnBKAEgwES+y/34PWt9PnzuPH28IL0WPjU+Y/6L/3VAgAH9QYIBFEBcwCy/8P9ZPtb+d/39/go+zT8B/1A/uoBaAeuCoQLdguHCjoHHgMJ/037B/el75/r6exd7tLtUOvM61TydvVi9N/07ffG/rcEuAcGCYcIMQg1B1EHcwar/zL3Lu+467/ryuys77bxLfG17TvibPHOFI80TlTGTdtFSV/Ea35zX2ynRnMxoBvd/5n5yu+t4qLWg8nH0EbbBdp11hHQl9NS2ADTNtcD3SThd+1B98MDhw1XCQEGfghzC0gMDwT7/Gj6/fubAkoIMwpXCZIJpg5TFX0USA7mBggCD/73+Ff3bff587/vl+yA7VDxRfGI8Mj0APr1/TECTAXxCYwMCArHCf0LUwqlBj4BC/8lADz+0fuz+/j8u/xV+ZL2XfcA+L31ePI48BvxEPXa9tL4Afw5/QP93/oC+OH3AfdC9Dvy8vED9GX2SPhY+xP/3gCCAXABrgKWBJ8C9P5H/Mj2w/O28Vjxi/Jv8Vzvt+2r6u7r0fqSGjVBJUxhQRw65z3xUlhaTkZUNJceCxDgEXwQxxRaEQD+bPp49p7urOdm1oPRZdJgzNbOVNWa2zXs1vmBBsoOvgcSAGr+7/90/o/4aPJT8dzzEPq/AlkKXQ6oDl4QnhIxEY4MpAgvCMgGOwGU/Fv6X/vx+7T37fQS8d/rG+sw7KDuCfKN8cz0g/p//U0C6gZyDJURSBF4DogNIQvNCRoJeAe9BKP+pPnw+JX6vvsj+oT48Pgl+Zj3N/e19973tvdS9lj1SPVA8xnx2PHE8Yrxf/DB7w/xvfPF9eX3g/r4+x3+oAArAucAW/6B+5P5vvk792H1ZPjc9+73BvqH8pHvWPCs+qUg6TrkOmI58DkCSi1cuVEZQHEzfiIFFoISQRGJDOX+bvCj7i/yTOvc3SLZSNqU2hDYFtZm3uHqI/RlAoYJmAd7BOn9twGNBED7OfV/8TLw6PYs+vz/7AfTA+b/igBgAHYCUADH+bP6P/0b/Dz/FwG9ApgGsASkAcIAFv5y/B/8svtv/Jf8Xf5SAvkGewrUCnMJKAjkBBkBUP6A+sj4FvZp8n7yFPR491X8AP3N/OX8Cvxs/Pn7s/rF+VT5Yvjw9zL4Evio93f35Pb19sr2W/an9o33g/gq+Rf6O/ox+vD5r/mS+dT5UPjw9XHz2vGW8mT2C/qk+9v8xPvD+X34FPhq+CP5DPZA9FAG/CozSQhW1EoqP/FLz1I8Rxsz6hzTE6wRGgsIC3ANVwfaAYb+Ifwg9UbiptPe0RTTD9Pn033YSOT57iT16fuM/cD3MvP28rn1D/lm+Iz7VwP6ChAU+RnAG9wWOw5eCG0DVP1J9+nwjPDO83/2B/2//1YADQIIA8IC8/2W9IbwV/P79bP5mfo4++79/f+TBMIIMQlwBiAB9v9VAqsDdQS0A4oBPQD3/vD7Lfo1+E/1AvUe9NrzFfeZ+TD7DPse+bH4bPgR9232svcU+pD7Svvr/Nj+kv4M/CD5zvfs9bbxWe/h8hv3pvqR+y37CP34/Nj7mPvB+h/5Vfdo9ID0Zfgt/C7/LP+X91MBvh6ROC9KPT4FLys4K0I5RRE9SCl2HHYVMRBYFFgVew/mBfL8u/p/8tTisdl92AzaC9vv00bTuNxX5172nwBE/8r4bfIp87v7UwCGACAB0wBMAncINgqzC40LtAWaAoX9vPYK+Bf8x/91AuwC5gWiCE8IRQYMBDMBGPyw+ZH77f0T/of8ePwU/nQAlQJuBD8DeP6k/Dj++//e/5P9Qf1h/hH9jvwL/gr9Uvr29v/0I/WV83Dw7+9H8ZXztfZe+fH9HgGeA+0GdQjBCIkHRwQ5Ae39IPrr97/1SPWh9Qf21fY/9u31n/Z494j3M/eb9X71bfUA9RP2tvXF9t/2M/Wh9eX2jPk7AMIC3ATFBTAF0wtRD9IWFCEuLTE96EIvO101yjE5L20rsiHlG14bFRZWDrYLJAmsCWED+vcw8N/jDNzw2OrZxOHz41vm4e2483/4CPk09bz0FPVW84DyVvS2+DwAkQh3CqcKogwzD64RRA/nBS4AawB2AU8DnAFX/pP84/rK+Lf21vMy8TfwJfMv+M/67f19AY8FowkOCicGOQL/+9L3dPhi+TH8Sfw9+7D9Z/5O/pz+tf6zAHH+j/q6+Mn3WPfH9RD2jfmY+9L6zvmK+Wb6yfqr+q/6QPo2+KL5evwW/hb+pPuf+lr7nvhf9ZL0h/If9NH0YvSD96z4h/n0/M7+RAH6AfgALwFw/8r9yP08/U38MfxX/UUDhwkdCMMLsRgwKLQ1ojYBMiEzqjImLlouuyouJp0kuh41IIsgYhFPBBT52e4C65vhQNsw3czetuML6enqiuzp7LLsCe0F6zfoCueP6YjtRfNV+1sBCAV1BZsEngUoBZUA1v0j/Wz/rgJHAwYEvAUpBq8G+AYSA2n+HfpG+r4AygZGCO8FpQJ2AY//Vvwf+dD1IfUE9wz6MP6/AYwEywgkDCwKCQQU/SL6HvvZ+vX5Sfm9+Sb8Rv3A/W79mPne9b/0ufVM+Lr4/Pdo+qv9XQB0AQn/LPuk9ebwdu8k8ODwffAL8Vvzq/UA9w/4//nw/Mn+3f4n//T/cQAoAfkBnAOmA4cBAP9y/nIAvAJSAykCVwGj/zb9MP4+Am0Nihu1JNgsxC6hLj4wzi76LZQrgyYlJA0kLiSgI6chPB0KF2MQ4wWy/OTyfuq754DnW+dc5mbjruN15djlgOUz4/Piv+Mu5TbmW+nU7JvwdPFp8Erxf/OD9oL6Wv5eA0gGcgcmDA4QVxPvE1wRbRAjDiUJ0wWhAaD/6wFfA6sF1gO3/3cBiwXXB3EEn/0z+yb/dgLtAQn92vX78TLwR+3D6CrjAeG35FjrgPFA9tH6ov5MAd0CzAKMAXH+3fuA/DAAWAQQB3kIuwl7CpsJjQf3AywAqfy0+j/65/nL+Lz3a/if+Wv7x/sc+zL6f/lN+h78Jv3J/W/+cv9sAK//3f5o/oH+4/4EATkDoQVFB/wHpQnCC04OeRAQEYcQ6hAsFIMZghtgGqsZRRy1HxAeshatD4kMPw1aDjYNeQqKBm0EOQUMBk4EHwA7/Eb78/ii87Lu7ewl71nxp/Ar71Xuke3D7VjtMex86+Hqo+vA7Gbtt+/V9Or6/f4//0D9bvxH/cr+VADSACkBWwLvA0wFsgX5BlIJ2wtmDCIK6QYFBcgEWwXfBCYCe/45+xf6ePrO+jD6RPnu9yL3zfaN9of35Pha+g38w/zv/Fv95P3m/uj+z/1G/UT9Rf6I/6gAJQMgBlEIvAnGCUYJtQgzBzQFogKX/4P9g/ys+976eflx+FX4fPhy+Aj4WPcJ98n3LPnv+qb8HP6t/5MBvAP3BegHZgmZCkELXgu4Cu0IxwaNBGsCkQCi/gz9lfzP/Gj9c/7u/q7/iQDwAGcBNQEXAZwCBwVRB1QJSAtFDs4RShNJEmwPOAt5CHMH7AY/BpkEnwLnARkBPP/A/Jv58Pbs9H7ylfBx79fu2u/N8OzwzvAb8CLwavFv8k/0Vfbp+B38Yv5q/+7+oP6aAKsEdAjFCm4LHwyLDUIOgg4PD2sP3A8+DxYNpAr/B5cG2QZdB0YHfwXkAnkAdv7f/H/7fPos+T73evXq9O312fcq+ef51Pl4+Rb5Sflg+gP7+/qi+or7CP73AAoDXQQcBVgFSgT4AbT/pv2p+4X51Pdn98f3CPgw+IP4Yfn3+en5mPmf+fr5dfo2+0z8f/2p/isAyQFAA1QE8ARYBVoFggQABAgEcQSIBDgD0QEgARwBkwEzAfP/IP+7/kP/IgCbAEMBwAG2AR4CiAJPAgoCNwGJAFAAMf8H/vz9//5rAG8B4wHZATABWf/b/dL90P1V/bT7Bvp5+aD5zPqo/JX9bP0H/WX99/5JAMgA7wHPA7gFKQd9ByQIjgnkCtYMpw60DyYQcw+PD/kQdBICE0YS+BAwD9EMwwnfBpoEKgMSAn0B3QFnAokCMALDAQkC8AEZANX8QfnN9oP1k/SV8zjyD/H173LvsO/P74jv4e5Q7kbuBe6s7ejtxO5I8OLxhvNU9bP2UPhG+kj8o/0c/l3+rv5k/4cArgI8BbMHaQl6CpALhQzADbMOmQ5PDRALYQixBRsD0QAc///97/xl+wX6Z/nt+Tr7MfyG/Ab8XvsL+xn7Kvvt+kT6Ffmw98X2ePae9nz38via+ub7oPwG/aj9cf6b/s/+Nv/v/xUB/QGoArECKgIAAtkBDgHz/jj87vog/HX+6v/x/9z/bQG9AzwFwgVvBusH/QnYC2QNLw9ZEYkTNhWfFjQXXxcrF9MWvRYWFj8VhhRZE+8RNxCjDkYOaw0HC0AIkwVuAzcBDP6n+tH3qPWK9M7z9PIc8g/xyPA/8YzxsvFO8cbwcPC47yfvcO8f8LnwAvE18bjxV/Lh8kXzi/NA9PP1m/hB+3f9ZP/9Ae8EUwddCKsHfgY2Bc8DawLLAIX//f50/uX9t/3y/bD+3/4w/qz9B/5J/0kBRANEBDAEyAMIBKkE6gPjAJr97vsA/Jv8T/y8+937d/zb/KT8+Ps++3T6vPl1+ZL5yvlF+p36cPrg+Qr5sPiB+QT7qfwY/hP/8P8dAY4C5wNcBPMD7gL7AakB0AFPAmYD7gSwBhgIagiOCBAJpQoODaoOOQ9FD+sPYBHHEooTbhP1Ek8SoBFCEeYQXxD2Du4MGAuQCSUIEQcnBi8F8gMxAggAJf7F/If7LPqQ+Oj2vvUO9ZL08fMa8yzyOPF48DjwQfCw8IHxWfIy83TzhfMe9CH1fPbJ99L41vk3+778g/6r/7v/Ev9I/kL+1f5R/8P/QwByAbYCGQPYAh8CvgGhASgB1ABfAEcAZwCRADQBXwExAUcA/P6n/f37ivrx+Yf6ZfsX/Df86PuI+1b7Tvt6+0f7Kvrp+Nf3Mfdx97/3HfgB+Af32/aC9xX5kPvT/aL/9ACeAXMCaAPSAxgEtQMlA9kClQKSAoACVwLIAo4DaAT/BBUFyAVuB3gJEwyxDo0RaxSOFqQYuRpZHHccChvPGLIWNhW6E2MSaRGUEJMPZA0ZCrcGzQM8AgoBoP/T/Zf7p/l2+IX3SvZI9PTxh/Cs79ju9+0b7Trt9+2Y7uTuB+/X71XxMPPn9I72PPi9+Ub7hfw1/W39k/1d/vH/YAFXApsCRAJRAqkCtQI7AnAB4gCsALUAGQGgAesBIwKvAdsAAwBP/+T+Q/5B/SD8PPsH+0f7bfsA+8b69foR+/P6XPra+Y75J/mh+BL4svef95/3pPeS9xj3ifb+9eT1SPb09hf4ovkz+5r82v0e/xIA1QA9AWYBMAFDAB//Mv6T/av9Bv8UAggGUQn7CvEKkQufDVUQDBMEFQEXkRlxGwEcoRs2G0McSh3xHIUadRavE1MT3xOjE94QMwwiCBIFxgLfAKD+Zvxs+jT4Bva286jxIvEX8cDwMe+u7BrrH+um7DPvhfE58wH0CvRV9Nz0nfWn9oj3ffgk+Qz6nfte/eH+6v+SADwB6AGaAlwDLATiBCUFxQTKA44CYwGGAOn/YP8R/zX/wf/6/8X/bv8p/wf/5f5R/nr9rvzz+y/7F/rA+LH31PYM9oD1E/VB9Vf25feM+Vz6pfqs+nH6H/qY+TT5BPnV+Nr4q/iG+M34H/lr+bT5P/oY+yX8dP3R/k0AcgECAgICDwIIA5oEiga9CCULig1yD9AQeBLvFG4XgxmqGqkaZholGncaUhszG6MZYRbaEo4QQw88DssMmwpCCCsGAgQlAvkANQB//9H9Iftt+GL2evXZ9E/zO/Gl7oHs/upC6hLrtezv7rPxBfRK9pr4ofp3/KD91/3D/Wj9SP0Q/hz/eQCaAQACOAJQAsQCSANYA0YD+AK0AsMCdgIVApMB3wA3ABX/ff0p/Gn7T/tb+0D7XfvU+6n8f/1v/aL8Rfvy+fT4Efhm9+/2l/Yl9mj1mvRf9Lf0MPWk9Zv1ivX09WT27PZo99f3G/l0+oT7HPzs++/7Efzt+9/7mfvA+wb9U/7i/3IBegKwA2UEJgX4BsQJDA2aD9UQgBLdFI0X2BmOGssaexufHAYemB5oHpsd0RunGd4W6RNXEZUOBAwrCUAGuANrAcf/dv7L/Mj6hvjo9pj1BfR38qPwTO+r7gzurO1q7XPtgu4n8L7xEPOk83P08fVd99L4D/ov+4X8cP3s/VL+mv5u/0AAxQCYAW8CpQMKBeMFRwZXBjIG9QVbBZYEBATEA7wDRgMrAjQBQwCx/wv/Hv53/ef8Y/zO+8L6mPma+Hj3TPbb9OvykfEp8aLxGPLV8X/xpfFU8lLz9fNf9J/0xPRc9Xf24fel+a77z/1u/1kAeQBYAIgA2wBxAWECxQODBQsH2gcFCN4H9gfxCNYKIA1VDyoRkxP2FscaHR71Hkkevxx1G64aiRl2GFkXghW1EjQPDgzUCS4IgAZgBLwByf5M/GD6CflZ+CL3S/ba9DPyD/Ap7l/tpu1g7W7tEu3M7Obtg+9t8eDygfNG9AT1Cvaq95D58/uQ/rYAgAKYAy4EIgVCBq8HiwhvCLoHpQZCBoMGgAd3CLMIJwijBpkEqwKqAM7+Rf2l+xX6m/hl90D3y/e4+Pv44fcw9lr0x/LL8Tzx8PAE8SPxcvEY8ony2/JO8/vz8PS59WP2JPf894H5wPtV/qYA9wGMAgED+ALBAk0C0AEtAlwCRgKxAnYDHQZsCeELMg6hD5ARrRMwFZoX5hlbHOIdVB0qHPcasBpDG60aEBnkFoQUBRPdEZ4Q8A76CycIJwRHAB/9a/ra9zz1fPL1787tP+xQ6xTr9eoP6yLrS+vU677sGO5O7z/wKPEw8tvzEfZU+ET6iPtr/CD9BP5T/34ALgG/AWoCpgNpBcgGwgcqCPEHSQcwBiEFjgTIBO8EFASJAgUBTgAyAG0APwBN//79gPww+zX6FfkK+Az3Efb99JXzp/Kn8lTzFvRO9CD0SfSx9HP1mPZr90b44vhF+bX56/kE+nX63Po7+8n7kfyf/ZL+E//F/5QBAgRTBqUHTQjXCQAMmA5CEaYTWBZlGAIZXhiiF5EYghr/GxYcJRsXGm8Zyxg/GJoXORYiFIkQSgyUCG0FVAP5AKz9GvqA9qDz4fGL8IDvKe6o7IbrSuq96f3p0Oo87GPtSe7k7qHv/vDZ8sX0JvZG91/4wfmY+8X9IwALAmYD4wMJBIoEMgUgBrIG1Qa7Bi0GYgWgBBcEugNDA1QCIwGT/yn+Yv0o/Vf9Ov1G/AX74fl1+cP5Bvod+s75APkR+DT3zfai9mn29fUR9VD0AvRl9EX1U/bo9sb2Z/YB9hj2ffZK93f4lPlk+rz6L/uE/Fr+PQDiAYgDjQaDCpYNkw+3EJ0SyRVlGG0aXRyDHjkhDCLJIPgejB00HUUcKhqxF8YV1hTvE/8Ryw4zCxUIUAVsAgj/sftU+Yz3rPUe85Dwxe6i7ZPsaetH6iXqOeui7MDtYe7S7qDvAPE68kfzJvQh9Y/2DPgp+fz5BPuJ/FX+sv+JACYBtgF7Av8CQAPJAzcExATtBB4EFQMJAqMB8QHnAdwBYAHCAJYAZQBVAPT/9P5H/Sb7JPlX9+b1+PTX9Bv1Z/Wc9WL1G/UT9Sr1ffW59cL1zfUW9ub2yPdy+J/4lfji+Gb5Pvod+/77PP3N/oMANgKCBA0I8QtaDzER2RECE54UIhdRGWEazBpQGuAZ8BkqGgsbzRuoG3kaThgoFmwU7xJFEfMOcwvbB10EcQFv/6L9Efxb+sj3EvXP8tXxA/Lt8VTxafCh7+Tvr/AA8cbwCvD074jwrPDM8EjxhfKB9Ab2Avct+Hr5QPvX/BL+Uf+uAA4CkwNOBEYETQTmA30DgAL7AMP/rf4N/rz9Uf0f/fH88PxA/Xz9kP1y/RX9x/xs/Lj7yvp8+Sj4tvaF9eP0nvS39D31B/bw9gf4/PgC+hf7A/zJ/Ff9mv2i/Uf9xvxT/Pj7bfzo/RsAgAJRBI8F1QfECiAONBHTEkUUAhVmFUoWuhc/Gi4cKRwzGrMXCRb7FSkWUhVfE0wQYg0SC9oIaQdGBhcFNQPG/3n8R/qk+e75PPlR9+H0BvNQ8qjycPNh9BP1GfXj9I70wPTO9aX2V/dl9/n2zPZ39uz2C/gW+eb5+fnj+SD6tPrE+8z8s/0v/gT+d/0R/Tj9vP2e/uv+s/5+/nf++v5Z/7f/BACG/5b+Sv0l/JP7VvtA+836l/n59z/28/Tn9HH18fW99e/08/QF9ur3oPl3+rv6tfpo+pz59/iD+bf75P5PAZUCbAN+BKEGUAgQChoMyw0FEAoRDxI6FD0XnxpDHAgcJhthGoga/xqlGo0ZCxghFsgTzRDWDQAM7wpECYAGvgKa/8/9xfyl+4f5Vfea9Xv0VvRS9L70KPWg9J3zN/IW8Sfxd/Hv8VfyevKA8xb1ffZz95z3jPfL9+v3Rvgw+Uv6avs//IP84vym/Zv+V/9Y/+H+bP5L/pX+9f4U/wP/lf4K/l/9yvwk/B/73/mP+Cr3bPYf9tr12/Wa9T31JfV89Zj2EPgi+dv5Ovqi+m37V/xQ/dT92/2m/f/8wfym/S4AngMWBvcG9waSB28JsQsqDTcOGQ9ZEJwRkhIWFFcWvhgBGt8YmBZCFR4V1hWNFZMUtROlEnYRoA+uDZIMlAvSCekGKQMjAF7+eP1u/Kv6p/jP9hr1CvSA84zzAfQn9OPzPvMB867z0PS/9eD1TfWx9Iz0/vT+9V73nfiw+Vv63/qK+138Z/1B/oj+H/6f/Tn9/PzB/Fz8Hvzz+7P7D/se+oz5evnJ+bn5y/g797z1v/RA9NXzWvNX88rzU/Se9OH0o/Wj9mz36/ds+Er5oPoh/NL93v5S/73/8f9tAHsB7AKVBK4FfAZ3B7cIvQpQDMgNBw9AEMkR4hJ3FFIWRRhwGbcYQxc9FtwVCRZ6FVYUChP+EXARXBDrDvcMzQq5CE4GsQNvAQUALP9A/s78Ovvv+Sr56viK+LD3F/f59k73xPdA+Lj40/iN+MT3xPZL9oH2JvfM9wT4Ivik+Bn55PnE+nb7PPxn/En8/vvG+/j7Uvxt/AL8J/tV+iH6a/qz+ov6y/nA+AL4dPcC96P2Svav9fr0T/Tz8yP0i/TP9PP07PRQ9S72avcC+VP6cfsp/IT85fxz/Tr+IP8sAOYAlQF/AuEDGgboB8IItwjSCDAKwAuDDfYO3Q/XEBER8xDmEDAREBJgEhcSSxHXEAURWhFPEcEQ+A/tDvgNugyeC8oKtgl/CHUGBgQ2AuAADwA1//D9xPxd+7b5WfhY9+z2rPbI9f70ZvRY9DP16PVx9u72LPe+93H45vhv+S36LPtN/En9QP4i/7//+//V/0j/uf4f/m39qPzY+137IPv8+gT7G/tB+y/7fvpg+ZH4I/jf91P3ePZ/9Uf0SfPU8rjy1PLr8izzjfM49Hz19PaY+Bv6J/v6+7n8mf2W/qD/dQBOAR8CLAMeBPMEWAbZB1IJTgq5CtwLyA3hD/8RTxM/FOQU+BTCFEkUmhO+EqgREhAAD/4NpQ17DYcMZQvrCXwIXgdNBpYF+wQGBMYCGgGe/3b+lf0X/ZX8uvve+in61Pnx+ej5Ifot+hD68fm/+d35ZfrV+kz7afv7+pr6DfrV+d75w/nx+fT5A/o8+jv6uPpm+8f7G/zW+2n7Pfsd+xz7NPsP+8b6JPoV+Q34OPew9mj2J/bD9Uf1+/Qx9cL1S/bw9k/3Avhw+Jz4EvmI+Rf6n/rl+g77QPuL+0r8Qf1M/j//LgB9Af4CgwQIBlkHuAg4CqoLWw3uDjsQhhG0EsgTpxQ/FZQVcxXYFAoUDhMEEhgR5A/LDkANWwvICW8IcgcxBtgEmQM8AuYAWv8Q/gr9G/zc+oX5N/hc92X3r/cc+KT4W/k9+rz64vpD+8H7L/xt/G78mfzI/An9Vv1N/fr8jfwU/Mz7vPvE++r7Dfw9/GT8WPxf/C38xfsd+236z/km+Y74APhx9932c/b39ZX1hfWT9Qb2ffa19uL2L/dh95z3zPcU+KT4Kvmq+QP6avrv+n37+fs9/Fn80Pwm/tX/zgGTAyoFHgf9CKQK+wvsDBoOYQ91EFUR1BGlEo0TEBQRFKQT3xI9EpQRoRDkD0MPoQ7WDa4MSQvtCW4I9QZfBakDFQKSADr/0P14/I37z/rs+Uj5CfkD+XP5FPq++lP7ufv2+x38A/zo+8L7kft1+y/70vrB+qX6Wvoo+sP5p/ne+Rn6aPqb+ur6cfsJ/Fn8G/x++8X6//k3+Wv4hffC9u/1DfWS9Gn0jPTn9EH1gPWx9cv1N/bB9kf31PdI+Hn4mfjc+EX51flV+rX6FPvV+w/9n/4LAKIBTwMEBcQGEgizCUIL9QxeDhYPHRD4ECYSXBMGFHsUWxQlFO0TUhOPErYRlhCmD38OVw2HDMoLDwsUCp4I9AaFBRsE5gKXAWUAbP9f/n/9k/z0+7j7nPt/+0z7H/tK+5b74fvn+5n7U/sJ+8L6iPpb+kn6Q/oN+tb54PkJ+i36DPqo+Qj5kPhi+FP4OPgW+Nb3nPeE94z3m/d09xn3nPYm9tn1n/Vx9V/1e/Wh9QD2dfYB9573EviJ+An5dPnp+ab6WPsM/Iz8yfz5/Df9kv3Q/SP+ov6B/9kAhgKPBMsGrgh2Cj0Mpw3mDtQPbhDmEBsRUxGhEfsRVBI7ErcRIRGREBMQYw+DDlUNKwxMC54K0gnFCKQHVwbmBFYDnQFWAC3/Df7//Pn7nPt2+4z7oPt6+3v7TPtB+0v7bfug+7b7vfuT+zv76fqU+jb60fl3+QX5sviy+Nr4M/mE+Zf5jflP+fj45vjX+MP4o/ho+Cr49PfR97D3yPfh99r3wffQ9wH4cvgE+ZL5B/pG+pb67PpA+6j78ftG/Iv8yvws/dr9hP4Z/97/fQBOAT0CWAOoBOUFNgeTCMAJ1AqLCwgMmwwBDVINXQ0bDc0MiQwdDJcL7gooClsJrAgZCL0HWgc0BwoHsAY1BmkFogTWA+cC9wHYAK7/+P5c/i/+GP4E/jf+TP58/uL+cv/T//7/8v/P/5D/ff9V/yH/2f5//g3+jP0h/bb8WPyY+wT7iPov+kP6N/px+sP66frW+o/6MPrU+Vz54vhe+MD3gfeh9+H3Lvh8+ML4FPlW+Yn52vlO+tX6Wfv0+4v8FP1s/aT9uv26/cr9Cf5Z/qr+Cf+l/3MATAE7AiED3wN6BC8F+AWgBjQHfgeaB7sH0AfdB+4HDQg/CGsIggiRCKoIrAh/CDcIzQc6B5AG4wUuBWkE0AMqA4kC3QE4AdAAbQAJAK//M/+w/in+uP16/Vf9SP0m/Qv99fzf/AL9Dv0w/Wj9h/2o/cf90f3b/fz9/v3I/aT9i/3O/Qv+HP4z/jP+Q/4+/hT+9f22/Xf9Ov2z/Ff8FPzx+/n7t/tT+w77A/sr+1v7cfuY+8X7Fvxb/JX81/wq/Wf9lP29/av9kP2U/bj97P1B/r/+kf+5AO0B8gLdA8gElgU/Bq8G5gYDBzIHQgc0BwwH+AbGBpAGYAYdBhIGIgaQBuIG+AYBB9YGrAZcBvEFZAXtBFcEqQMlA7MCnAJbAtcBRwGvADEArP8t/7z+TP7d/WD91Pwg/Fr70fpR+tP5Yfk8+Tv5UfmJ+br5+PkZ+k76a/p5+nf6ffqI+nn6b/pG+kz6Tfpd+p/6vfrt+kb7sftO/Nj8RP2Q/dD9D/5O/m/+ff6c/sz++v4p/1H/a/+D/6D/pf+h/8f/+/9cAMIAMQHDAUICswIXA4YD5gNIBJIExgTOBK4EqwS0BOgEHAVkBaIF6gVSBsEGZAcACGgImAiVCF4IKgjnB4MHHgeGBsQFBgUvBGQDygJjAhgC2gGAARIBywCCADwAAQCg/+7+Ev5S/YP82PtI+9H6fvo1+uv50vnJ+cL5C/pc+qL69vo5+3v7kPtc+yz78/rS+q/6dPpM+lH6f/rS+i77nvv4+0r8uPwM/Xf97/1f/rb+Ev9U/3v/av9A/yP//v73/vT+Bf80/3r/0P8LAEcAngDKAAQBMAFRAYEBqAHfASsCeAKvAvUCLgNRA3QDmwPOA+8DDwRYBKYE2gQyBZEF5AU2Bl4GkwalBn8GZQYwBuQFjAUnBcoEcgQZBMMDQgPaAm4C4gFVAbcAKgCv/zb/kv4C/o79EP2E/Of7SPvL+nv6MPrq+cb5tPnF+QL6MfpU+qL6DPuR++X7FvxT/Lz8Gv1N/Xb9lf2F/Vb9OP0o/Tn9UP2U/dn9/v06/or+1f4O/zX/DP/P/pb+ev55/ob+hP57/pr+wP4B/2r/3/8vAJwAEgFsAfEBUAKdAvYCDwMbAx4DFgMiAzMDUwNlA34DlAO8A/cDJQQ0BDgERgQ2BEQEZASCBJ0EewRcBEMEGQQPBPMDzgPBA4sDcANmA0oDJAOgAhUClgEIAZUACQCI/xn/t/5t/kj+Ff6z/W/9Of0d/fL8r/yC/Dz8APzI+4r7ZPs1+x37Lfsx+2D7mvuw+9v7B/wW/Cj8T/x7/Jz82fwO/R/9MP1I/WX9k/3K/fv9JP5M/of+6f5H/4n/zf8KAGgAoADTADsBigHEAe4BBQIOAhYCKwJAAkwCPwIqAi4CNQJQAlwCaAJFAjICLgIRAiQCLAJDAlcCOgIwAikCLQJLAjkCFQIJAgoCBALvAfEB1AHmAckBkgGXAXwBhQF9AYUBjgGBAXwBVwEvAe0AngA9AN7/mv92/2X/Uv9F/2L/cv9t/2f/Z/9D/w//1v6v/q7+dP5G/h/+D/78/e799f3b/dX91P0G/hn+L/42/if+C/7Q/aT9dP1E/QH90fzQ/Nz8C/0+/Yf9vP3X/e/9/v08/lH+eP6z/uz+Fv9O/4T/tf/p/woAVgCHAMcAFQF7Ae8BLQJvAqkCvwLkAvYC/QL6AucCvgK6AqYCgQJgAjQCJgIeAgMC9gHrAd0BxwGNAWgBLgHeAIsATwAgAP7/4//c/8b/vv/X/+z/4v/R/9X/zP/n/9v/yv/o//n/7f/2/wkAEwAUAAEAAAAJAAUAFQAzAFIAfwCqAMUA1QDbAK0AlABsADQAAQCu/4z/W/8//xf/9/7n/t3+2P6v/nb+Rf4V/sj9gP09/c78Z/ww/A38FPw0/DT8YPyX/Mf8Hf1F/Yf9yv0F/lH+f/7a/h//ZP+2/+T/GgBNAGsAiACeAMgA5wATAUIBdAG7AfEBKQJVAmQCbAJzAmcCSQIgAvUB2QHSAbcBsAG3AawBmQGvAd0B/wH+Ab0BtAGWAXsBMgHUAKcAfQBkAFkALwAGAAYAAAARAA8AFAASAPb/8//j/+L/5//T/73/pv+V/43/oP/V//b/DQAaAEEAWwCHAKsAywD3APgA4gCzAGwAFQDo/8n/j/88//v+z/6m/nX+T/4a/vH9yP2i/bD9q/3j/Q7+JP5M/mn+gv6r/q3+yf7f/vf+P/9o/7P/7f8WADIAaACfAMgA9AAAASEBKgE3AUcBPwE2ASEBFwEsARsB7ADnAPsA9wAKARMBBAEBARQBLQEuATIBJQEmASMBBAHkAMMAowCeAI0AZwB6AGYAcwCBAI0AmgCNAIIAdwCPAIMAaABrAFQAIgDg/5r/fv9h/zv/KP8E/+r+xf6X/mz+Sv40/h3+IP4g/hv+Sf6A/qf+t/67/sP+vv6R/nr+YP5J/mD+X/5m/pL+sP7p/hz/Wf+H/7f/+v8PAEIAVABNAEIAMAAwACMACQAAAPn/9P8FAAYALQA+AGYArQDiAOMAzwDYAMAAswCfAI8AgQBxAFcAVwBlAFoAcQB6AJQArAC1AMMAyADLANUAwgCgAIEAgAB2AG4AcQCBAIcAiACSAGkAZQBiAFQAZQByAHEAdgB5AJUAqwCzAMQAvAC4AHsAUwA1ACgAIAACAAkAIwAbABAACwD9/xUAFwAPAP//4P+3/6T/hv96/3D/Pf8q/yH/Gv8D/wL/Af8P/zP/Q/83/0D/P/8s/zT/Gf8T/xr/+/74/v3+8/76/v3+Av8Q/yj/LP9D/2b/eP+j/7f/w//b//L/8v8DAEIATwBZAIYAigCUAKwAvwD1ABwBMQFdAWsBbgFiAWEBUwEcAesA4gDBAJQAfABQADsANAAjAB4AJQANACQAJQApACMABQAJAO3/7v/b/8f/nv9y/0n/Pf85/yr/Nf9H/07/V/9k/3P/kP+V/7D/s//C/7H/rP/X/7n/uP+n/5z/pv+A/4b/kv+M/5z/ov+j/7P/vP/Q/97/5f/4/+b/3//y/wkAFAAlABcAEgAmACkAQwA5ADAARABEADYAPQBDADEAEgADAO3/xf+p/5f/l/+h/5j/jP+a/5P/of+9/67/r//J//L/QQBjAH8AmACZAKMAkQB3AFkARAAhABgAJQAtAEgAWwBpAHgAgQCQAIMAfwCDAHYAfQBbAEEAOAAkACEABwDh/8//uf/K////BAABAP//5//h/9r/4/8DAPD/+f/5/9v/5f/s//z/6P/g//7/8f/u/xwAKQA6AFwAZABfAFYAVABFACwAFwAOAPX/8f/m/83/rP+b/5z/lv+f/7D/tf+4/8H/wf+//8j/1//D/8r/rP+N/2T/WP9m/1D/Vf9N/1z/Zf9f/2v/cv+B/7P/u//N//j/HAAmACEAJAAbABUACAAfADEAHQAdABwAIABJAG4AgwCnAKoAoQCeAJQAjABkAFcAXABFAEoATABdAGAAZwBgAFkAZQBTAF8AdgB+AH8AcgBvAFwAQQAtAP7/7//2/xMACQD//yYAMQA3ADcAQwA1ACYAGwAKAAYA/v8DAAMABgAFAAAA7P/Z/9L/xv/F/8j/uv+x/7T/jf+P/3f/X/9R/yL/E//8/vH+9/74/vn+G/8q/zr/U/9w/5X/q/+m/7v/0f/I/+v/7v/2/wIACgAdAB4AOABCAEMAWABiAGIAdwCQAIYAnQCbAKAApQCWALEAtACcAKgAiQB4AHYAZABrAFQAUwBYAFYAZwCDAJcAjQByAHgAawBUAGAAWgBVAFYATQA3ACoAGwALAAoACQD7//L/7//n/+j/4v/T/9L/wf+X/43/pP+i/6v/uv+5/8X/3f/l/+D/v/+1/6P/jf+c/3//ev+F/3r/j/+C/4r/of+S/5r/pv+n/57/gf+F/4r/bv93/4P/f/+G/5P/ov+r/67/pf+//7b/sf+4/8X/xf+y/7//zf8AABQADAAXAD0ATQBOAEwAVABSAFIAYAB3AIIAhgCVAJUAjwCcAKUApgCrAKoAsgCcAJwAogDGAPIAAgEGAfUA+ADuAOQA9gDqANsAuACWAIYAagBJADkALwD8//L/4f+1/6b/mf+M/3v/a/9n/0H/K/86/yj/IP8o/xv/Lv88/z//Xf9h/1v/Wv9m/2f/e/9+/4z/n/+y/8//3f/p/+b/1P/Y/9r/4v/t/+P/8f/6/yEAMwA1AEUAWwBqAGoAWwBLAEEAKwAjAAwA9//g/8n/vf+s/6j/qv+8/8f/4P/2/xIAQABaAHQAewBlAFEATgBHADcAMAAjABgADwAWACoAFAASACIANABAAEkATQBKAFQATgBBADEALAANAPv/AwD4/+3/6f8JABgAJgA5AEcATwBUAF0AQgBIAD8AJAAYABcAJwANAP//4/+p/4b/dv90/5H/g/+N/7L/vf/E/8D/w//W/+n/1P/a/8L/o/+T/4D/gf9s/4f/mv+f/7X/2//o/wMAOwBBADoARQBRAGQAaQBbAFoATgAuACEAEgAFAPP/7P/3//X/AgADAP3/CwD6//r/9//r/wMA/v/k/+X/5P/s//v/9//1/wEA+P8JAP3/8P/m/8f/0v/A/7b/zP/a//b/9//1/xAAFgANABAADAAQACEAHQANABkAIQAbADAAQwBJAEgAWwBYAGMAZgBZAEgATwBWAEEAQgAzADAAJAAxAC8AMwAuACEAFQAhACsALgA0ADIAVQBiAG8AdwBoAHIAegBnAGgAVQA5ACcACgALAN//x//P/9j/0f/Z/+3/8P8LAAAAEAAKAPH/3P+2/8b/rv/D/6//m//E/8P/vv+r/7D/o/+m/8f/xv/F/8b/2v/1//T/AADp/7r/mP+B/47/dv9f/03/R/83/z7/P/9A/0j/Sf9z/3r/ff+C/4z/qP+y/7D/xv/R/9X/4f/c/+j/6f8DABYAIgA2AEUAUgCFAJYAlQC/AMQA1QDYAMoAzQCzALQAqgCKAHwAdgBkAG0AbABqAH4AdgB9AHkAeACDAGQAPQA0ADUAJQAYACoANQAhABYAHgD//8r/yP++/9H/wP+v/6b/mf+Q/5P/oP+W/6b/tf+v/6P/m/+Q/5b/ov+3/8n/q/+Y/5T/l/+i/7v/xf/K/9b/x//O/9b/5v8GAP7//P/2/+3/3P/j/93/7//n/+T/AwDj//b/CwACAAcA//8KAAQA+/8AAPv/+/8SAC0AMwAzADcAMgAwACEAMgAtACYALAA0ADwAPwBVAFoAdgB1AIAAjQCHAIcAaQBWAEsAOQBOADwAIgA0ACYAPQAgABMAKwAbAAcAAgDp/9j/z/+7/6j/nP+R/4D/iv+T/5X/nv+m/63/1f/2////CgAdADkAVABUAEUAOgA1ADcANAAdABcACQDl//L/9//7//v//f8QAAIABwAQAPn/+P/+/+j/8f/w/9n/2f/t//r/8//4/+v/2f/Y/87/zP/n/wAACQAFAOX/6f/7//X/5//R/9H/yv/A/7X/sv+m/7b/v/+m/7L/tP/C/+H/3//v/+b/zv/X/8v/uv+2/6X/vv/M/9j/9v/2////HwAkAC8APwA3AFYAPQA5ACwAHQApAC8ALwAYAAoAAAD8//r/BQD0/woAIAAfACwAKwAvAEoARwBDADUAJQAqABgAAgABAAEACQAVAAsAIwAmADwAXABfAHoAbgBkAE8AQAAxABoAEwAZABgAAAACABgAJwA+AF0AawBkAEYAMwAxABYACADu/+H/1//N/8X/sv+v/7j/sv+7/8//3//m/9H/yP/M/87/yP/H/73/wv/L/7X/uP+7/57/lv+N/5X/t/+3/7//vv/G/9n/1//w//H/+v8aAAsAFwAeAAIA7P/p/9r/5v/E/7r/y//D/9//1//a//n/7v/s//7/AwAAAAgAFwAnADAAOQBJAFAAbwBoAFUAZgB0AIUAigCOAHsAbgB1AHgAcgBsAE4ANAAtAC4AGgAXABwADAAWABIACgAcABEAFgAWAAoACwD9//T/5v/e/+3/yv/L/97/xP/B/8H/xv/M/+j/6P/u//z//P8GAOH/6//h/83/1f/N/73/nf+j/5r/jP+E/3v/bf9h/3r/ef+S/43/lf+T/5j/v/+3/7X/sf++/7X/vf+z/6H/qv+v/8P/6f8CABcALQAqAEEAVQBdAF8AWwBnAH0AhACJAI4AjgB9AIoAnACSAJQAmgCnAKoAoQCdAIsAhABrAF8AYABbAEUANQA5AC0AGQAjAB0AJwAJAAAAGwALACUAJwAVABEAEwAWABkADAD8/wMA7f/j/+n/2f/u/9j/zf/N/77/1/+7/63/rP+j/4j/d/9u/3T/ef94/3D/Yf97/3j/ef+E/4r/nf+x/6b/rv+f/53/vv/U//b/EAALABMANAAuADEAJQAYAB8AGAAEAAIABgAEAP//BQACAPb/AAD1/wcAJAAPABUAIAAcADMANAAnAD4APQAzAEQASQBIAD0AIQAmACoAIAA5ADYAPABHAEIAVQBUAEwAWgBBADkALwAXAB0ACgD6//L/4v/S/9//2//i//H/+/8MAP//+P/8/wMACgD//wMADAAGAAAA8v/o/+v/6f/+/wEA5v/s/wMAFwAVAAEA/v/7//f////x////FwAJAAsA/f/e/9v/3v/l/wEA+//n//r/DgAEABEAIAAVAPP/7//0/+X/5f/X/7//xv/H/8b/xP+x/8T/3v/q/xIADQAOACcAKgA8ACwAHAAeAB8ADgALAAkA6f/v//H/BgAKAAMAHwAdACUAOQA6ADAAEwAdACIA8//0//T/9P/e/8T/wf+l/5//nP+8/9X/7f/7/wEADgAPAAEABAD5/////P/c//T/7//U/+X//P8UABsABQAWABYAKwAjABMAFgAdAD8ALAAsABQACQD2//3/DAD//wQAAAADAAkADgASACMAHAAsAC0AKgBCACwANABFAEIARQBPAEwATAA4ADIAPAA8AD8ANgAgACAAFAADAP3/9P/7/+X/2v/M/7D/r/+6/7n/wP+2/6j/m/90/3z/af+D/5r/nf+8/7//7P/3/woAAQAIAA0AAQADAPr/HwAIABAAEgACAP3/6f/j//D/9v/l//P/6v/W//v/CwAVACQAJQAxACYAIwAeAAQA/f8OACcALgA2ADEAKAAoACgAPwBDAEkAPgAzADkAPAAtACwAJQAgABoAAAD7//D/AAD9/+r/4//k//z/4//j/+//8v/4//X/BQAGABgAHwAoACUAIwAnAPf/+P8AAOv/6f/k/9z/zv+6/73/uv+z/7X/sv+q/7r/rf+Y/5b/oP+l/6j/sv+X/4b/g/92/4j/l/+p/7T/tf/B/8z/0v/T/97/9v/+/////v8UABQACQAZAAsAFQAYAAQABwAjAC0AQABNAFEAVgBcAGMAaQBrAGgAYwBZAGEAVwBVAFUAVwBXAF8AYwBOAEIATgBMAFQAdACEAJgAjgB4AGYAWwBJAEMAOgAgABIAEQAEAAIA7v/b/93/xv+8/6v/s//D/8T/2f/M/9D/3v/F/7n/uP+8/7f/xP/A/7H/qf+h/5n/rP/G/8b/2f/J/87/0f/S/9n/2//X/9b/4P/f/+n/4P/c/+v/5//g//v//P/4//z//f/z/+b/1P/m/+v/5v/6/+//+//9/w4AJAA8AEYATgBbAF8AWgA8ADMALQAQAAwAEAAIAAUAFgAeACoANQA5ADYAKgAkACAALQAtABwAFgASAB4AEwAGABIACAALAAcAEwAdABcALQA2ADkAPABXAEoASwA3ACYAQgApAB4AHgAFAPn/zf+v/7T/ov+a/5H/m/+N/5T/uv+1/8j/x//B/8n/x/+y/6P/r/+w/4f/if+H/43/mP+x/83/u//L/9L/3f/o//v//v8iACsAFQAjABsAJgAVABYAKgAlABcAEgAJABkAJgAoADYANQAtACMAJQAKAAAABwADAAYA+//m/9//8f/y/+//5//u/wYAHgAXACAAHQAXACoAPgBRAFEAQAAlAB4AFwAkAB8AFgAhACgALgAoABsAJAAXAAAA7f/n////+f8AAAYADAAKABEAFwALAA4AAgARAA8AEwAcABAAKwA0ADIAMgAlACIAKQAYABAADQAKAPb/6P/m/+H/6//2//j/5v/f/+X/3f+1/7b/yv++/7X/vv/G/8T/x//H/9L/4P/q/+D/1//Z/+D/y//V/8T/yv/q/+X/6P/X//P/BwAXACcAIAAlACMAKwAgADYAQgAnADMAMQAuACkAHQAaABMACwARAAQA9//2/wUAHAAVACQAIAASABkADQDy/wcADAD//xAADADn/+7/9P/3//r/6v/7//L/+P8AAPb/EAAiABYAJQAQAAUABADz/wQA/f/9/xIAEQAAAAEA+P/+/w8AFgAYABYAFQAPAAsADAAJAAEACAADAP7/5v/u//v/2//f//f/AwAAAAMABAAOAPr/2v/m/93/0P/j/9r/5v/k/9D/wP+s/7z/t//R/+L/2v/v/+j/6v/6//j//v8TAAQA/v8JAPv/AwAMAPv/CAAHACEAMgAgACwAJQANACoALAArAEkALwAiACkAPABCACcANQArACUAIQAaABMA9v/+//f/AwD+/+X/9P/f/9L/5P/f/+X/0v/I/8//u//l/+3/4f/3/+z/y//M/8b/wv/X/8v/0f/S/8T/1//j/+L/BQASACkAQgA9ADIAMgBPAFUAUQBFADoAKwAUABkAJgAXAAkAGQAgAC4ALwAaACMAKAAkADIANQAtACMAGQAuAEQAPAAoACMAEQAGAAMA+P/9/xAACAAQAB4ABgDw/+b/4//k//D/3//r/+7/zP/V/8H/uP+5/6D/tP+3/8T/xv/J/+j/3v8CAPv//f8AAO//CgASAP//AAAAAPT///8CAA4ADgAPAAQA9v/i/9r/8//k/9b/0P/Q/9n/1//W/9v/2v/a/+P/2P/e/+b/6v/6/wQAEQATACAAJwAsAEYARQA1ADsAQABEADgAPQA5ACcAFgAXADMAKQAvACMAEAAZACEAKwAuABoAEgAbABwAEAAQAAUAFgAVABwAIQAJACAAIgAwADEAGwAZABUAGgAWAAcACAALAP7/9//r/9b/4P/u/+v//P/j/9H/yv/D/9T/zf/H/8v/0P/Z/9j/2P/i/9f/2v/Y/8v/x//E/9T/3f/x/wMABQADAAkAFQAPABUAGgAdACQAKAAbABoAFQAXAB4AFQALAAAA+v/5/+j/4f/v/+z/6v/m/93/5//W/+D/+v8HAA0AAAAZACIAFwAYABMAIQAoABsAFgAXAA0AAgDj/+r/4P/N/+f/2f/L/+X/+P/w//r/7v/y//v/7//n/+3/9v/5/wIABwAQAA4AFAAFAPz/CwAHABQABgAQACEAIQAmAB8AHwAcABgAEAAKAA8AEQD//wQABAASABYAJgAvACAANABDADsANAAcACAALQAjADYAIwAWACIAIwAnAB4AJgAmABoACgALAAwADQAZAB0AGgANAPX/6f/c/9//8P/a/+b/4f/S/87/y//d/9v/1f/d/9H/1P/g/8b/xv/B/8D/xf/L/9X/3v/P/9P/6P/W/+X/4f/m/+f/5//g/8D/yf/T/9D/zv/j/+r/4P/l//D/8P/c/+3/9P/7/xQABgAdACMAFgAgAB8AGQAMACwANwAvAB8AMwA+ADkATQBJAEoATABRADQAKQAbAA0ADgAAAAgA/P/9//L/AQAPABkAJgAiAAwAEwAdABMAEQACABAAJAAxACgAJgAfAB4APQAyADQAIgDz/wUA/v/q//z/AAD4/+3/5v/2/+v/6//z//b/8//g/93/yf/Q/9D/3P/e/+//6f/V/+3/+P8GAPv/7f8AAOH/1v/F/8n/1f/H/+z/4f/T/8j/zf/s/9X/3//b/+X//P/r/wAA+f8AAA4A+f8JAAoAHgAxACkANgAzADMAQAA9AEcAUgBPAFEAUwBaAFkATwA/AEAARABHAFUATwBNADcAKAAkABgAJgAdAC0AGQD8/wAA+//3/+j/6f/w/+7/3v/Q/9X/z//W/9H/wv/K/77/vv/F/7b/x//C/7r/vv+0/8P/vv+//93/4P/S/9T/1v/O/9v/8P/8/+P/5//q/+z/+//b/87/3v/U/9b//v/z/+L/5f/y//b/+v/8/xAANAA1AEoAMwA/ADkAKQArADAANgAjACcAFwAPAA4ACQD5/wIAFQADAAwAFgAaABYA+f8AAAsABwAIAAAA8//1/+z/6v/n/9r/8//1/wYAJAAjACYANQAyAD0AIwAQABgAEwAZAAwACAASABEACQAGAP7/7//o/+7/8f/t//L/7//5//3//f/v//j/7P/U/+b/5P/r//j/7//n/+z/6P8BAPr/6f/6//j/CwANAAUAAgALAA8ADwAQABMAFAABABIABAD5/wYAAAD7//7/BgAVABMAEgASAAgADwD9//X////z//X/9P/p/+T/5P8NABgABQAAAPz/DQAVAA0A//8NABEAEAAVAAEAAAD8//P/AAD///b/9v/3/wAA+v8BABoAEQAQABYADwAUAPf/8//2/93/3//S/8//z//N/8f/1f/l/+P/7//l//T/CwAbAC0AIAAcACEAGAAcAAMA9v8AAOr/3v/k//b/AAANACUAKgApADAAOgA5AEYAOQAxAD4AIQAWABkACAAEAPH/7/8NAPf/+f/4/+X/BQD//wIAFQACAPv////4//n/9f/e//b/8f/v/wAA7P8FAPr/7P8BAAUAEgARABQAIgAUABkAHgABAAMAAgD8/xEAAgDq/+7/7f/v//j/8f/x//f/7v/1/+r/1//l/+P/3v/h/+X/+P/w//H/BAD4//7/5v/e/wEA8//Q/9T/3f/q/93/1P/t/+v/3P/Z/+T/6f/c/9T/0//b/9z/4v/m/+r/5f/v//H/9P/5//v/9//7//n//v8IAPj//v8CAAwAEwAeABsAGAAfACwAJwAoAEIAQgBEAE8ARgA9AFEAOgA1ADsALAA7ACsAFAAVAAAAAQADAPH/8P/L/7r/yP/E/9n/4//q//v///8OAA0ACgAgAC0AIwAXABsAJAAZAAwAIgATAP//+P////b/7/8HAA8ACQDy//v/+f/z//z/7//6/wcAAAACAAAA/P8EAPT/9P8BAPz/FQAUAA4AJgAwADwAPAA6AEMANgAxAC8AIAAzACwAIAAfAAcA/v/x/+j/4v/k//L/9//2/wEA8P/q//r/7P/k//L/9P/2/+r/3f/i/9L/1v/R/+D/3P/v//P/9//9//r/EwAEABsAKAAiACYAHAAYABwAIQAhABcAGAAbABsAFwAQACYAJQAnADUALQAbACIAIgAcACMAHwAPABMABQD9/+3/xP/F/87/xv/E/8n/yP/E/8f/0P/j/+H/3v/h/+r/7v/f/9T/3P/p//H/5//u/+3/2P/T/8n/zP/n//L//P8EAOn/9v/2//P///8BAAMABAAFAAMA+v/3/wwAAQACAAoAHQAdACIANQBIADcAJAAtABgAGAAXABMAHgApABoADQAJAAUADgASABcAGQAsACoAIwAYABsAIgAnACoAFwAWAAMADQAPAAgABwANAA0ACAD///L/8//i/93/5f/l/+T/5f/h/+b/4P/g/+n/9v/3//H/9v/4//T/AAD+//T/+v/8//////8BAPz/AADv/+X/4f/V/7r/sP+z/7L/uP+s/5z/lv+t/8n/1P/d/9//1P/W/9//5f/r/wcAFQAcABkAGQAxACIAJQA1ADYANwBHADwAKwAiAC4APwBKAEoARwA7ADEAOQAqACcAKgA0AC0AMQApAB8AJwAvACsAEgAcAB8AGQATABEADQASAA8ABAD+//v/CQADAAwADwD9/wEA8P/5/wEA8v/2/wIA/v/7//X/7f/8//z/9f/3//b/9P/z/93/yv/R/8D/v//X/+z/4f/u//b/7P8FAPr/AAACAAEA+f/5/+X/2f/m/+7/5P/k//L/6v8IAAoAHwAfACcAJAAfACwAJQAtAB4AGAAdAAwAAAAFAPT/+f/5/+f/2f/Q/97/4v/u/wQACgANAA4ACAAZABgAKgA5ACUAMAAxAB4AHgAfACYALwAbAB0AGwAdABUABwAJAAEA8P/h/+z/6P/n/+r/7f/s/+T/3P/Y/9r/3f/T/9P/1//j/9X/2P/x/+7/5v/2//f/8v///wIACgD8/wAA///e/+T/8P/i/+n/4//g/+v////4//X/CgAKABcAGQAaAC0AJQApADgAOQA+AEAARgBbAEwARgBKAD4APgAqADcALgAcACAADgAMAA8ABwD4/+7/5v/q/+z/z//G/8j/xf/c/9f/4P/p/87/2P/p/9n/5f/g/+n/AQDy/wAABAAPABQAAQDx//z/+P8GAP//+v8HAAAA/P8DAAAA6f/w//H/7f/3//T/BQAHAPn/CQACAAEAHwAPAAgACgACAA0AAwAIACEAIQAgAB0AFgAWACIAJgAjADkAPgAzADIANAA0ADEAMQApAC0AGgAdABcAGAAdAAkALQAiAA0ADQAKABEAFQANAP7/8f/s/9f/2P/g/97/7P/i/+7/7v/s/+H/7f/v/+v/+f/z/+3/5f/V/9//+P/z/+//9v/6//L/8f/Y/9z/6f/i/+j/1//K/8D/2v/o/9//2f/X/9r/3P/V/83/6P/r//X/AADw//3/BgAOABcAEgAfABkAFwAZABkAFAAYACcAMgA1ACkAMQA3ACYAJwAZABEAHAD7/wYA9P/j//X/8P/p/wAA7f/v/wsA9/8EAAEAAgASAAYADgAXABkALAAnABwAKgA1ACIAGgApAD4ANwAaACEAGwAIAP7/CwAVAAQAAAD4//v/7f/m/97/1P/k//D/9P/h//T/9v/b//f/7f/i/+X/5v/7/+r/2v/u//z/6//5//j/9f8PAAgAFgAJAAQACQAMABcABwAJAAcACwAKAAYAAAAfAB0AGQAtADAANgAxADgARwBRAEUANQAqACsAKgAtACgADwAWABUAEQARAP//9v8KAPH/7/////T/8f/q/+L/3v/l/+H/4f/e/9T/1//U/9H/2f/D/9b/6f/W/9f/2P/c/87/x//Y/8z/uf/R/9f/y//S/9P/yf/T/9L/4//e/9L/1v/Z/+j/8v/o//L//v/8/xoAKwAhAB4ADQALABAAGAAeAAgACgADAP3/BgAMABQAFQAPABsAIgARACgAGwAKABsAHQAaABEAAgAJAA0ADwADAAAACgD7/wMAFQAVAA8AEwAWACcAJwAjACcAHAAJAAYADQABAP//7/8EAP3/+P/5/+3/EgAFAAcADQACAAQA/v8AAAQABwD9/wUACAD5/+j//f8JAPr/DAADAAQABAAAAPz/9//+//L/AAAAAPf/+//3/wMAEwAGAA8AEgAEABAABAAaAB0AIQApACgAHwAVABgAHQAhABMAIAAVACAANgAjACgAKwAlAEMANQA5AE8AQgBCAEMAJwA7AC8AGAAaAAsADwD7/+n/1//C/8z/0f/L/8b/yP/F/7r/q/+4/7T/p//H/7z/vf++/7b/xv/J/8z/yf/F/73/yf/A/9H/1f/a/+f/9P8FAAAADAD+//7/DgAfACEAHwAfAAQAEQAOABMAJAAVABQAHQATABwAKQA2ADYALwAtAEEAQwAsADcAKQA9AD4AMwA8ADkALAA0ADEAKAAsABwAHQALAAgAEgAYAA8AFgASABkAIgAQABoADgAQAAoA6v/a/9b/w//U/9f/4P/W/9D/3v/F/8f/xv/K/9L/0v/P/9f/5//Q/9f/4//i/9z/3v/n/9r/4P/V/9X/1P/a/+r/4f/X/8r/zf/V/+H/7v/v/wEABAD9/wwAGAAQABQAEgAPABkALwA4AC8AMgAtACwAGQAIAAwAEAAMABwAGwAHABIA9v8CAAsA/f8aAAMADAAJAPT/8P/w/wAA9//7//z/BgABAAgABgAFAAgABAD+/w4AKgAZABcABQAbABQAAgAYAAgAAwABAAEADQAAAA8ADgACAAMABAANAAAAAQDx//r/CwD7//X/AQD6/wAACAD3/wsAEwAoACgAFgAuACoAHwAQABAADwALAAEAAAAEAPn/+v8FAPv/5v/s////+/8GABcAAwAOABYADQATAAcABAAHAAoAEAALAAQAAAAaABsAFAAqADEALQAWAAsAEQAFAP7/CAACAAYAAwD+//L/7v/t//T/BQD9////+P/v//f/6v/r/+b/3P/j/9v/3f/Y/9X/vv/C/9b/0P/l/97/2//j/+D/8v/4////9f/n/+//7v/0/+X/8//7/wgACgANABwABAAeABYAIAAeABQAKwAkACsAEwAXABAACwAMABEAGQAUACMAEAAaAB8AHAAYAAEABwALAAUA/v////P/9v8BAPn/6//i/+r/7P/k/9X/0//a/9f/7//w/+7/9f/e/+b/7f/4//j/AAAAAP7/CAD+/xcAFgAYABMACwABAPz//f/0//z/AgANAAEA//8CABQAIQAdACAAGQAgACAAKQAiABEAGwAVAB4ABwABABYA+/8DAPX/6//7/+b/6f/3//b/6v/q//z//P/r//3/EQAJABAACgAVABoADAASABIAIQAkADIALwAoACgAHwAcAAgA//8PABEACwDy//D/9v/v//f/CAACAPf/CQACAAAA+v/y//j//P/0//T//P/4//H/9v/q//f/CQAHABAA+//3//P/8P/n/9r/2f/c/9L/1f/j/+z/+P/2/+X/0v/q//j/8f/2//j/+P/l/9X/5v/z//7/BgABAAgACwAAAAoADAAGAA0ACAAZABkAHAAjACAALQA3ADEAKwA8ACkAQAA2ADgATAA6AEsAMAAuABYADQAyACIAGQAiABYADgAGAAIACAACAPH////0/9j/8f/y//z/9P/t/+b/7v/p/9n/3v/h//H/8v/9//P/5//j//D/AgDp/+//8//0//T//P///+7/7//n//P/6//h/+b/3f/m/+L/3v/j/+n/4//k/+L/8//z/97/5P/w/+v/4P/q//L/5//v//b/+f8LABIAJQArADQANAA0ADEAJwAvACEAIwAxACkALQA3ACgAMgAoAB8ALAANAAAAAgAAAAYA9v8AAPr/5v/f/9//8//z/+z/6v/k/+P/5v/i/+z/6f/2//b/7v////3/CgD///H/8v/p//n/8v/x//3/+v8BAPn///8KAAkACQABAPv/8P/w//v/8f/w//X/6//q//H/9//x//z/+v8EABUAAgAMAAcAAgD9/wcABQAGABAADgAhAA8ADwAZABsACwABABAA/P8JAA4AAgAJAO3/7v/+//v/BwABAP3/+v/+/wQADAAHAAsAFAAUABsAIgAlACUANQA2ADEAQgA7ADkAMgA6AEQAKgArACQAEAAPAA0ADwAUABYACQD5//v/7v/j/+T/0//m/+7/3v/g/9j/3P/t/+z/3P/f/+j/4//Q/9D/5v/f/+7/6v/d//D/+f/q//n/9P/o//X/6v/n/+L/5f/q/+D/6v/v/+j/9f/y/+r/8f/0////AADx/wUADwD4/wAA8v/m/+r/6P/m/+v/6//3/wkAAgADAP7/BwALAA4AEgAfADcAIgAaAC8AKAAZACQAGwAYACYAKQArACkAHQArAB8AHwAjABAAFAAAAPf/+v/4//P/9f/1/wQA8f/R/+z/6f8AAAYA9v8JAA4ADQAbABcAKAA6ACQAJwAuABoAHAAZABYADgABAPj//P/z/+n/7P/a/9f/2//j/+X/1P/e/87/z//d/9P/2v/U/8//3v/U/+j/6f/4/wMA8P/+/wAABAAHAPj//v8QAAsABAAbABoACQAMAA8AGgAWAAwAFAAMABMAIgATACUAKgAmACQAGwAlACMAGgAOAAsAAQAJAAQA9P/5//X/AAD9//P//f/r/+X/8//2/////P/6//f/4P/Z/+H/1//j/83/2v/u/9n/5P/S/9n/3P/V/9f/3//b/9L/3f/Y/9n/0f/c/+v/7f/1/wQAAgADAAYADAAUABQAJAAaAB8AIgAsABwACgD+//3/DAAJABYACQANABoAGAAWABUAEwAdACIAGQAbAA4AGgAaAAsAEwACAPn/GgARAAAACAAJABcAHQAZACAAGgAPABEACAAWABEA/P8NAAQA+//+/wAAAwACAAUA8f8AABMAEwASAAgABgDz//z/+P/5/wAA8P/w//D/8//q/9v/4P/m/+H/3f/t/+D/5P/r//f/AQDy//X/AQABAP7/7f/w//D/9f8FAPz/+v/4/+z/3v/n/+j/7P/2//H/BgAOABkAHQAvADsAOQAiADUASAA9AFQANQAwADEAJgBDAC4ALAAsACAAKAAcABMADgANAPv/8P/1/wEAEAD0//T//f/l/+v/4v/d/+j/yf/N/8z/0//x/+n/7f/p/9r/5f/r/+z/6P/z//D/7P/y/+v/9P/x//X//f8KAAIA+v///w0AAAD8//z/9P/x/+7/+P/0//n/7f/t//L/9P/k/+7/9//w/wkADAAHAAkA+f8VABAAFAAdAA4AHAAgACkAHwApAB0AKAAqACcAKwATABwADAABAAMAAgAGAAwA+//9//7/+f8AAAAAAAAAAPb/7//4//f/7f/w/wEA9v/z/+//7//w//b/5f/k/+//zv/i//P/5v/q//H/6P/6/+r/7f/o/+v/+v/3//z/8//0//H/7f/j/+L/8v/t/+f/3f/v//b/8f8KAPv/9P/u/+L/+P/3//D/DQAWABMAFgALAA8ADwAMAAYAFwAcAAkABwAGAAIABQAbAB0AJQAVACAAJgAJABcAHgAWACEAJgARABkADwAgADcAKAAmABMAEwAeAAkAFgAdAB4AGgAVABcAEgAAAPD/8//x//L/9P/5//n/9v8CAPX//f/+//f/9v/s//L/5P/z//P/8P/5/+v/6v/g/+X/5f/Z/97/4P/P/9D/0v/O/9L/2f/S/9b/0P/X/9z/6v/p/+z/CQAFAAgAEAAJAA8AIAAgAB8AHAAPACAAHAAgAC4AKQAzAD0ASAA9ADEALgAmACsALQA0ABQACAD9/wEA+//m/+r/4P/e/9r/xf/J/8//wv/T/8P/wf/Q/8v/2v/m/9n/8v/6/+///f/8/wQA/P8AAAAACgAFAPv/9v/9//7/AQD+/wAA///9//r/+/8KAAEAAQD5////AADv/wEAEgAOAAoADQAMABoAFwAdACkALwA8ACgAKAArACIAMwAaABAAHwAeAAoABAAAAAgACgALABUAFwAUABEABwARABUAFAAdABQAAgAAAP//CgASABYACwD5/+7/8f/5/+T/5f/k//D/+//u/+D/1v/a/+P/6v/q/+T/3v/s//P/7f/0/wcA+P/1//H/7//p/+7//f////z/4//c/+L/5P/n//L/7P/j//f/4//n/+7/5v/y//D/AQAAAPP/+P/0/wEABgABAPj/+f/r/+D/5//2//r/8f8EABYAFAAcAB8AHgApACUANgAsACQALAA2AEQAMAA3ADQAJwAiAC4AHAAQAB0AFwAZACsAGAAPAAcAAQD+/wAABAAHAP//+P8EAPD/+f/y//b/6v/j//v/9/8AAPb/AAD2/wIA9f/u/wAA7v/o/+f/8v8AAP3//P/5//H/5P/x/+3/5//v/+z/6v/l/9//6v/n/+b/8f8GABYADAAFAPL/9f8AAAMAEgALAAcAAAAJABsAHgAAAAcAFAAKABkADgANAAIAAAACAAUAAAD5//////////H/BAABAPz/DAAPABAAFwAPAAMAAwAPAA0AEwAgABwABAAPABkADgAIAA4ACAAAAPH/7f/s/+j/6P/f/+3/6P/m//H/7v/2//r//f/7//H/8f/8/+H/6v/y/+X/8P/t/+X/7v/9//b/+P/w/+3/9//6/wQAAgARAAAADwARAAwAAAAQAAkADAAZAAYAFwAXABQAEAAXAAwAGgASABYAJAAOAAsACQAWAA0ADQAaABIACgAfAAkAAwACAP7/FwAMAAAAFAAUABoAIAAWAB4AHAANACQAIQAdACMADQAPABAAGgAXAP7/9//4/+//7f/v/9//8v/x/97/1v/J/9P/zP/P/93/0//W/9b/2P/S/+P/3//t/wQACQAFAP7/CQAKAPz/EAAZAA8AGgAbAB0AHQAaABoAGgAOABIACQAEABwACQASABIACQASABMAAwAGAAIABgAYAAwACAAFAAMACwAFAAcACgAFAP7/8P/r/+f/1//c/9z/4v/l/9j/7f/n/9z/8P/s/+z/5//K/8z/4P/U/9H/1P/Z//j/6f/p//b/+P8DAPP/AQD0//b/GgASAAoA//8IABQAAQADAAwA+P8GAAsABAAeACgAJgAXACAAFgAkACMAFwAdABQAFwAVACAAFgALABkACgAUABcAGAAJAAYAFgAVABkAFgASAAkA///3/wkAEAAjACkAFQAbABAACgATAA0AEwARAAcABgAKAPP/4//n//P/9//v/+3/5f/s/9H/4f/x/+7/6v/m/9v/3v/m/9j/0f/Q/+P/3v/P//D/CQABAAoABAD9//P/4v/p//D/EQAOAPn/+P/8//b/8//r//P////3/wAAEAAOAAcAGQAOAAUADgAXAB4AFwAJAAgAHwAiACEAFwAYABUAIAAjACQAKQAoADMAMwAkACAAFQALAB8AFgAdACEAGwAUAPb/AADv/+v//v/8/+3/4f/X/9n/6P/k/+7/5f/h/+n/6//t/+z/8//5////CgAAAP3/CgAJABMAGwArABEACQAHAAMA+v/6//b/7v/o/+T//P/5//L/8v/2/////f8NAAkABQAOABEADQALAAYA/v/+/wkAAwACAP//5//q/+//+v8AAAIACAAHABYACwAWAAwAAwATABIADwAEAPf/+f/3//n/AAADAAEA9//8//3///8CAO//7P/3/wkADQABAPn/EAAXAA4AAAAAAAYABwD5//n/BAAGAA0A8v/4//b/7f/y//D/9v/m/+L/wv/C/9L/xv/X/+T/4//a/8v/1P/j/+X/4v8JAA0ADQAdABgAFgAYACYALgAvACsAJwAxADgAJAAmADUAMAAsAB0ALQAxACkANQA2ADgAPwAuADQAFQAJABIADwASAAIAAwD4/+7/7//2//7/AgARAP3/CAAJAAMA+v/1//f/5//p/9L/2v/d/8P/yf/M/9X/1v/X/9T/2v/k/+f/5P/u/+L/2//2/+3/7v/p//X//P/w/wEABgANAAQA+P8FAAkADAD//+r/6//z/w4AFwALAPX/AwALAA8AEAD///r/BwD//wAACAD//wcABAAUABkAEgAPAAAACgAXAB0AIwAeABUAFgAdABIAHAAqACQAGAAFAAwAAAD3//v/8v/s//H/5//g/+L/3v/i/+j/3P/k/+X/5P/f/9H/0//f/9//4P/W/8z/3P/r/wAA/v/8/wcA+v8DAAAAAgD+//b/DAAIAPv/EQATAAwAFgAWAB4AHQD8/wEABgAAAP3/+/8CAAgAEwAdABkAGgAUABMADwAIAAIA/v8KABIAEgD+/wEABwAEAAUAAAD5//D/AQD9//T/6f/y//j/9P//////BwAFAPf/AQAAAAQABgAYACAAJQAkAB8AJwAcABQAGwAoABwABgAGAAAAAQDw/+v/7v/e/97/5f/l/+v/5v/j/+L/7v/l/+7//P/y//n/6v/n//P/7P/p/+f/2v/m/9f/2v/z/+//+f/v/+//4P/h/+7/7f/6/wwA9v8AABIA//8CAAYACwAQABsADgAHAA0AAwAHAA0ABQAFAAoABwAIAAsAJQAaABkAKQAkACUAJgAnABcABwASAAUAFgAYAAAABAAKAPr/+v8AAOz/7v/h/+7/9P/e/+H/6P/q/9P/4P/g/+v/7P/z//b/4f/o/+H/3f/z/+7/6f/x/wgACwACAP7/+/8MAA8AGAAVAAYABgD9/wYADwAHAA8A/f8EAAAA9//3/+3/AwD7/wEA+v8HAAIA//8EAAUAAwALAAkABAAcABcAFwAZAB4AJAA2ADEAMAA1ACYALAAgABgADwALAAoAFQAPAAsACwACAP7/AgD7/wUA/f/8////BgAWAAYAEwADAPb/AgD+/wEAAgD0/+v/7//g/+j/9v/w//H/7f/y/+P/3//2//D/7f/v/+7/8P/z/97/5f/k/+P/1f/V//f/9//4//7/BAAHAPb////8/+n/7v/x/+n/5f/r//b//P/6//7/CgAIABIACgANACgAJwAaACEAGgAYABwAJwAnABkAFwApACoAGwAWABoAKgAeABMAGAASAP3/+v8KAPz/+f/x/+P/3f/X/9X/zv/o/+//+//6//n/7P/o//r/5P/t/+f/9v/2/+3/7f/x/wAAAgDv//z/AgAEAAcA/f8DAAQA+/8BABkACwAAAP3/BAAIAPH/BgAAAPP//f8HAAYABQACAPn/8v8CAAQAAwACAPX/AgAFABIADgALABEACAADAAMABgDz/wAACAANABUADQD7//f/9P/z//X/9P/5//X/8v/p/+b/4//z/+7/AQD6/+H/+//s//T/8v/9/wkACAABAAwAFgATAAUAAQAOAA4ACQAGAA4A+/8DAAcA9P8AAO//AAD9//X/9//v//f/9f/a/87/1f/h/+D/xv/Y/9L/xP/V/8r/1P/s//z/AAAEAPb/+P/s/+f/BwAPAAAADQAHAAYAKQATABkAKQAiAD4AQgAwADgAMQArAEIAQQAoACIALwAsACcAKQAyACMAGgAMAAcADQATABsA/P/y//7/+//+/wEA6//h/9r/5v/z/+X/8P/v//r/+/8DAAIA///5/wgADAAIAAAA9P8AAPn/+v/8//X/8//p/8v/0v/T/8//1v/X/9b/3//T/8//5v/l/wkACwAWACAABwAZAAMA//8RAAgAJQAYABkAHgATAAkAHAAdAAkABQD7//z/+v/r////BQD0/wIA8f/+/wQA/f8EAAEAFwAIAAQABAAEAPj/BwAGAPX/BAD5/////P/7//X/2//0/wAA+/8EAPf/8f8DAAAA+f8CAAUAAAAGAPf/+v8AAAAAAAD0//n/CAAKAA4AEwAKAPX/AQAGAPP/AwD4//v/CgAKABUADQABAPn/AwACABUAAAD2/x4AJQAlABMACgANABMAFQAZACMAEQAMAAAAAQD//wAACgASABAAFgAGAAsAGgAAAPz/5v/d//T/5v/h/+X/7f/u/+j/8v8AAPz/6f/5/wIA///s/+//7f/v/wAA5v/+//3/+P/s/+r/4//Y/+3/4//9////8v/3/+f/6f/7//H/+//y/93//v/4//r/9v/1/wsAGgAJAPv/GAASAA4ACAAQACQAKAAwAB4AGAATAAoAGgAdAAoAFAAgABUABwAWABYABwADAP//+P/t/93/4P/Y/9n/2v/S/9f/2v/a/87/7f/p/8r/6f/4/wIA9//5/wEA8v/o/wkADgAGAP//6v/t//r/AADw/+X/4P/2//L/9P8AAO//AgD6/wAA+//u/wMABAD//wUABAANAAEAAwAHABMAFAAEAAIA+f/2//3/AAAAAPv//f8NAP3/+f8BAPv/9f/4/x0AFQAWABEABwAEAAoAFwAXAB8AGwAfABYAFwAfABMAAQD9/xwABADv//7/9//6//r/+P8IAAQA/P/y/+7/5//e/9H/6P/f/+H/9P8BAPX/7f/0/wIADQD2//P////+/xQABQD5/wQA7f/z//v/8f/7/wEA9v/0//T/8v/9//3/FAATAPr/+P/8/wAAAQDz//3/7//7/wQAAAD/////AwD+/wMABQATABYABQAPAAcAAQAJAAYAEAACAP7////w/+X/+P8IAP3//P/3//P/7//8//v/7v/x//D/4//y/+z/6//v/+3/6v/8/wYA8v/l//n/AQAHAAYAFwAdAAkAFAAYAAYACQAaABQAFAAXABsAFgAeABIADwAiACMANQAtABgAKgAdABcAGgAAAA8A+f8DAA8ABAAEAPb/AAAFAPr/8v/+//P/+f/7/+///v/t//f///8AAPj/8//7/wEA9P/w//P/2v/m/+7/+f8AAPD/+v/9//3/6P/l/+//5//q//f/4f/g/+z/8P8BAAAA9/8CAP3/CQD3//P/9P8FAA4AAADy//L////0//7/7P/m/wAA8f/u//P/+////+P/+v8RAPH/6f/x//r/CwAhABMAJAAWAAoACQD2/wIADgAdACkAJQAVABEAFAAXAAcABgAVAA0ACQD5/wAA///8/wkACAD1/wwAAADf/+7/8/8FAPz/8P8AAPX/7f///wwAAgAKAAQAGAATAPL/+P/7/+f/3//h/+7/8P/T/8r/tv+3/8T/xf/E/8z/3f/f/+X/5//z/+7/9/8BAAIACwAFAAoAKgAcABUAGwAfADIARQAwACYAOwBCAEEAOAAuABgAFQAYABoAHAAQABQACAD7/wUAAQAAAPf/AADw/+j/5v/e//v/6//w//v/CgAPAA8AEQAKAOz/7//r//H/+P/8/wIA9//s/+7/+v/5/wQA//8GAPj/7f/x/+T/2f/n/+//9f/0/8z/6P8AAO//9//8//f/BQARAAMA6v/k//b/BgD//wYADAAOAPn/8f8BAPL/6//9/wgABAAGAO3/8f/7//H//f8BAAcA/v8FAAoAGwAFAPr/AgAGAAgAAAATABUAAQD//wsAGAAVAAwAEAAHAP3/+v/6/wEA+f/t/wAACADi//j/7f/z/wEA8f8CABQABwAGAPH/7v8HAPP/BQAJAPv/EAAPABAAMAAZAPP/CgADAAIA8v/r//n//P/2//z/+v/h/97/4//2/wcADAD7/93/9/8AAPz/6//j//j/9f/l/wcADwD7/xIADwAZAAkA9v8KABwA/v/7/x4AAwADAPz/AgD5//n/AADk//T/6//6/wYA5v/c/+3/+P8QAA8A9P/5/+H/6P/4/w4A/f/h/+n//P/v//v/IgAXABIABQD5/wQACwD//wMABQD8//n/+//5//7/9v/1/wMA8//3//r/BQAAAOb/3f/r/////P8BACMAGwAJAAgAGwAbACUAIwACABcAEgD6/w8ABgD4/w8AAAD5////FQAzABMA7f/y/wgAEQACAPH/AAACAP3/7//w//T/8v/5//r/BgD2//3/FgAGAAMAHgAdABEAKAAkACAAIgAFAO//7f/4//X/DQAcAPb//f/X//b/DwDi/93/3/8NABQA4v+4//H/FwABAAIAHAAZAAQAFQDx//P/+P8NABoACQDh/9//8f/o/+n/4v/g//L//P/m/+n/1f+//9T/2f/a/+7/+P/2/wAABQANABcADgAVADAAIQAbABwAGAA0ADcALwArAB8AGwARADQANQA0AE4AQQAkABYAJgApAAgADgAEAPD/8//0/+//7P/v/9j/6//8//f/6//j//H/4f/w/+L/yP/V/+X/7f/8//f/9v/i/+D/8v/s/97/+v8KAN7/2f/p/+D/5//0/wIA8P/W/+X/6P/v/+T/5//2/+D/6v/f/87/4P/1//7/+/8KAAgA+f8JAAMABwAHABoAKwAnACgAAwAVABkAIgAjAAYAFQASAAYA/v8JAOz/+v8JABMACwDm/wIAFAD6/+f/8f/+/wMAAADq/9//8P8DAOX/6v/7//T/9//9//z/9//2/wcAGgARAA0AFgAcABoAEQAOABIACgAGAA4AFAAZABQAGQAeACwAKAATABQAFgD//wgABwD0//H//v/0//D/9//1/9v/zv/b/9D/0//K/6//tv+t/8f/2v/r/wEAJQAmACEAKAArACgAKQBMAC0AHgAqACkAIAAWABQAEgAPAAQA/v/r/9z/3//j/8D/yP+w/67/u/+0/8f/0//K/9X/9P/6//f/BgATAAMAHAAkADEALAAPABsAIQAbACEAHQAJAAYA+P8AAAUA9f/g/+P/CgDz//X/9v/6/wIA9v8XAAAAAADy/+7/FAAOAA0ADQACAAwADAAEAPb/8//5/+T/+//+/+n/0//U/+r/3f/Q/9b/8f/m/9//5P/0//j/4f/6/wwADAAFAAgABwD4//f/+/8WAA8A+f8AAAAA9f8JAP///f8JAAAA/P8OAAgA//8MAPj/AgAIAOb/CAApABsAJQARAPT/7P/0/wgA///7//n/8//Z/+T/7//0//H/9v/r/9H/8v/2//7//f////7/4f/q/+j/9P/v/+f/+P8CAPT/9v/0/+H/0P/f/+j/0f/W/9D/yf/d/+f/9/8GAOr/+/8gAB4AFAAhADMAGgAoACsAFwAgACsAIgAXAC8AVgAqABoADQAlAEQAIwA0ACEAKgACAAIAFgACAPX/7f/4/+P/BQDI/8D/1f/C/7//7//o/97/4f/y/xYABAD9/wkAAgDc/+X/3v/e//b/9P8TAAUA7f/A/7//4f8DAPT/GQAIANL/FwBFADIA3P/+/x4A5P8cABgAyv/8/xQA0/+9/xEAEgDV/ywALgDv/+v/8P/g/z4A0QCbAEIASADe/5b//v/6ABABJgAEAP7///+SAEAAHP/H/9UApQD8/6D9dP4cAFABUwBz/+z+Wf6BAA//1v5yAFv/4/7k/4b/4f6p/jP/8P95/xoACQCF/ycCYwbjCSABbvjv/Ov9vwGGBtsAyPvT+pP+gQI6/Xn94gDWAJ8A0v1C/qQBnf4V/oD/U/1RBO0Ew/7S/8z5C/+HBgb9QP6jCKz9JwBe/0b+uQJPAUsFjfe7BH4EMgNZApr9eQCz/if/zgLLAKT70AUZ9kUB3wJF8csJqQbt8Hv7pfxBEicD6OtBDID/h/QqCYoGNvku/cj7CwTqDBz7hQiwB6Tw//JG/9EcxwpR7XLwowRDB5sGz/2B/6MKQ/au/mcGs/+z9tD+pw2P+GL5ywJt7vINqxa072DktAcOGgb20fbp/jEAwAet7NoDxBe654L1Ug/NARP+igDK+Wj0Bw+eA2DnDBbeEK7kyAbrBeXyAw+E+h70Nw8hB3T0//qTFLj3XfBnEFD7gf79BW315w1HF/jecvPDKCX+6fqSBPT7EwMuAyX+sPscAcbxSvswBAT7E//bBa7oKfaiGZT1FvCg/234WgR0FgrsaO21GYP7DwgT/zbhbxkUFCj9R/Xr+FEUdwP2+l8FwgUI/dIA8wog8twCFger4d8WHBV60+wA5QzL+jb/4PUN+6wGoANg/gP2kvcBDTD/OAOI8mcHmAvK7ioUh/7w7h4RBRVB+NjmYQ/FGqrrIP48C2vvLgl+/8v6PhD81swDfCuy1ST+MxQY3hUPewx78U4SEuUX9Kg9yuZjzz0o8wpa6c0QPgvj3ewHTxdP85H4VwFaEFEAR/bk+1EDkA0g9R0EBhJE5Iz+1xeM9JD1JAgyABr9bgR6APTz5/33ATH4ihsC+uHgqhzjAKrqOBHs/8f36f0fCzn4svwSBSv0dxu37MfvRypH8KfbxCfw+cntdRys7jH50w7JAEfxhBHj/o/vQQyVDaztiAP8B/DrmRVc+CD5GBXe5LftAjaZ7njrIQym+WcDJ/9dCpr6o+k4DvIoet5W6DYPJRnN+CrsoAKz/tMddQAv6znzBgv5Gbv/M9VaB8Yw3uG074ERKgpT7uHwJhT9DfLolfzoEqPmGguKDBLyhPkhAmcNVv+M7q8Fow278WYIRQF8+Jn2EAjfFd3oPP8EBbsF2gU+59MIGhXu7dL6cATTAygKL9s1GQsWvdGnFGwNZO9u/iEHO/hg+44Un/kw9vb7ThOl/4DsuxPu6LAZCQMb5Zkaee/hA3IToebj9+Yp2t6s8D0hjezzAMH6avdGHxbude2gDPMMDfg/3R8vqPk83ksiCvEYBGENOOY6Dc4JwfRQCIr8iPh0FSv5z/K7D9EFhPqz/k39/f6JGlfu7enbFSIJV/N7/vj/3euvHKsGo+lg+n70Ah0ZAbfj0wJpDkD+tOi4FBgIjuTIDz4B+AV/+wr02RM88qUC1gCz/DETDfb78FQMvvjVEdTwEugyL1Prs+mjIGb4kPQH/wn1giwF9BnOlB4jJTjfw/SOGC8BEfjX72kkqvPe6QkTOwMyAgr5//fBA/UI5v20/DX3lPnBGWT14eR5Gg8BaAOz+WADGvgz+tcR2+6AGPzySeuIMgTpouXSKcXsJ+21HhH3zO9QEFkC6fX1AZL1FwlvIUrMv+rINE75Jvk7Aj/kCBTYFhvmlvgMEQP+QvZAC+YHJvJa+j//WAFuE8f4JAHX/XrkeByLGGHYJADDCjnyZycx9/PZfRSaBtb4fRNY6ZDo3ixWB+vktfM2ALQU+gXe+e/z0PtXDAUDg/3D760Ey/4DDBIRwN9w64kT1B0O+C3zqOkOCg0fUvyz5br0yBWNAGAAnhYS6EjrSBFJBhESD/hV6EzxWio0DrveO/it958SAyOX8UvRLQqrGXsROdyB8rQguPN4+RMN8fOkAw//Te0uII39ReSJCrkEfAYQBYfztgDh+NcACRp8+a7mFAdVD54CRvPT+NgI7w2h+GPorxUsEQXgNfyRHlD55u3fDW/8m/FrFY/0BQLuB/3oMv9BGOABkey5BWnwcRBJF1LmdQCXAbP+/BGZ+Rfp/wVQENMOvPe56kz/rQLXHG35lNhdGAkRBfAT/yH++PH9CwYeNOIV+NIOOvTIDHIJTPYw8pUEYA1x3+Ecxx4gxO4XwAee7w0XvfJb/TsKrd+ULEIci7iD82ExzhKY4hAHZe9r8Ekm1xkT0djpCypD/Oj33Qbn9nL5yAyJAcH4tAVGBYzwYvYYHbUKv+Io+7YBHw+KGDndSfenETX5bQn+ACnzuwVA9o8QlBJWzAsTdhfq5mYT9QAz5KAHWBNr+QX5CP6kC3L3Xv5AFBr47eiyCh4F1QUcBAbn3RLECX/0/fnt+GwKeQhU9/IHtvPL/TkGOwwx9tPzQg+z7bMZcPyw8hHvXA2WGUbmwgg9AXz6xf9vCoH92uxtADsi3foo7DT9HAAeCEUCBAJO8of8GAxbAiP9jQXv7qkHdgkm/uv7U/b+Al4O7wWs7igE+/zAA+oC0fm4DLYCjPKE8acRoBJn6c0EGgN788EUSv+q6zIIif/VDUIDS95CFqMCPfUwDiL1FQAxBsv78vaYA0UL4f3l7pUB1wofClPyZfd9Ei3tHBMZB6LSqRXEFYXlThar95n1fA9k5BYVMw8+60r2IwaQECT74QH9+V/yfxgj+cLzbBJS91b91ha56On/FQ5K6tcSzAlK/yXyrfW8CAMSu/ho7Kb/8wzjGPnkwO3+B00FIRDP+SjgtguXEpH9c/5A9GztfBinC1X8sP+N5d4NDxIA/iv1JQWr7v8MxhFLAJnwxebEJ9YKD+rl9n/8zAerEyD4OvCBAxH3wQ2uDXXkMgByC+MAWvrY9NQNrQQv/1vyTP5hH//k4fksGeDsuRNCCF3YlhiXBkHvwRys7YzvCh3Q+h3xcAIFBP8EIPZ+CsT/Re+UBIEBpwf0BBDt0wS8CBPz5gZLA3gCKQI39esD2Pqk+mgTMfks+dII0Pq2/IUFOgYS7WX7yxt5B8fvmfPY8ncVyhvB44z/7AHx+AYTsfez888HAgWO+QELL/igALT9lO3xIBQJkfZ97mT0WxB2Fqvww/dKAU3xShLrDPr2H+gGAz4KLw7q/WLrZvAuGQIZY+3M9V35NAXKCDoN7e9g8+wUkfqP+hkLM+wvEXsDj/HhCTH1nAGgALkHkfwIB6HuY/ZPHdX8K/Xf8ukNbBOz8UHxK/0gBWgWkADu658Q+fPk9mIaOO2lAkcME/CxCTwICvgw/WQAmgSA/G7+7QS/+bAFpPxLCKYC++llCEH/xfqkFe74ev0C/KXrgx1p/BT4Hv04934ZLv208xQFevS4BHUSgO4QDI/0p/CUHsr6g/2EAnrovwcZD0MCOv+162wLGAgB+i0Bn/FFAgoOJv4i+oX/N/+YA5L2t/wED3v7wQJJ94Xy9x9E+VHqRxc87J8CfhaV6G4KFgRN+WcMPvkd/7X/AvspDkj4AwJqCtzshgj4/Vb7aBQg9X/uxgxt9uECfREJ9AgCBPZ8BcoC4fQhCBAAoQPE/174CQdd/Fv55Q1I/qX//Pxx+oMIt/ZGBfIMlvUhAOz5yAEWDuf7Sv4CBujvrgB0DD/4LgNGATYBwAUEAeDwbP7VALIDKg7d81L6bQMtBa4DgvgRAkgDv/WtApMK2/e+/6AAYgXCAf/2zwAaBBT6IvxaCM7+4gcP+IfybghJBZ79aP3WAWwAPQXQApH7qvIFAW0Mx/tnCWgFx/D//4YOevgt9h0MsPz/Ar4M4P3F98fxVwzZEPnt0vjhCwn2//qhCnT9KQFY9rf8wQ5A+5P49v2+ABIKkf558OIGOwaN/67+hf27BEEC8AMb+TX43gmZDrz1o/7l+7b6zA28+T/8AAJh+O4HiAd2+IsAuvGm+9gVC/pB9t8DqwBMBpcE0vb9/CQIF/8HBU39kv/HCwX9uf0OAg39if6k/vwIewfJ9IH79gEZ/ggGpvtf9okCFwrcBSXyPPqQBdIDTwBb+YL8BAb8/1YEQAK98c7/EgkGADMC//wj+AwHTQgK+jf4Z/9KB2P/gf5EBgP0j/6sCqb/lwAT+XH6xgRpBs8AjvnA/G4L4gS6+Tb/J/ndCTkMmPV/Aj4Eev3VBBL8tvtsAsUEqQHT/s/7xP5tAzr30vvYBQv+eP3o/1r+WAEAALb/g/rh+FEG5QMF/RD+QwSeCRv+QPVi/BcDRAdxBDj30PwCCSn/of7J/2r/UwSbAHz/Ov5B9z/95AzA/735u/toBqkEZfmbADH9CwSQBdL0of4eCOn8dgf0AMX7+wao9oD4vwYWAZUEGwUt+xL8TAP5/F74UAYnDIH8a/wg/577cwWkAIP9XAhwBcD6dP01+SX+FQueANEBiwPa82X5kwOsAusFr/0y/Cb70ADNB9z93vnQAp3/nv5XBJP5KvzYBM7/tQXxBeLzvftmAOYGiwdS9V0APQUDA7QG4vcY+tAC9/xWBp8Gmv2M/2H8cgDDA676tQGJ/X362glfAtv4+fvpAtcEw/8q+3cALf1A/zIF2v2z/7UCzAMIAK38+wNz+yn7swYZ/C8H+gTB+QUFePph+mUDGv4l/K8AYQT1BtYAnvZx+AX9rwQVBKT9r/0NAukHewCo+fb4c/vFAy0D+QF2AJkBLfy7/hUH4Pun/L39av9mBsgAIP9oBKoCoAJWA1r7ivtaAngBQAJlAp8AAARqAiL1lPmnBSb/of+U/vv9C/6w/e38yfo6/yoB2wH1+Zb72gEGASAAmP5HAPAEjABV+dD+gQckBpD/4f/4Aj8GmgCp99b+7wy9Bib/TgDk+AkBWQTtAJz9o/+HAgQCvwF3/+oBi/hO+xoEuwRuAWH/z/pgAMQC2f9AA+j4xf3zCsUBpfeyAjgG/P4C/of8hv+xAoQGygO7ANP9RfzL/zL9AAAn/lIBSwQ4Ak4A1vmt+YACugFZ+e36bQApA8L+T/6RA9r9vP18/Q74NP08BFD/Xf5yBFz+Sf6f+iT6CAC8/YX/aQFbA2MAufvc/6r+R/5OAaH/2gIyAF7/iQTE/6wCMP7O+jgGKwNEADQGWgAt/3ID6fyL/4kDtQJ9AsQCxgRUAIoA5wNc/ZL+5gCgBigGaP06AR0BJQFyAp8AEQA6A6gDOwFwAMT+MgFpBKoC6QCBAPL5IPxuAYn8RADT/n76Qv6p+MH16PUa9eH4ffpf+gf2Su9h9FP5nvn++UX2PfIk9gP6rPo0+lf6L/xq+o3+5P+X+O/5/v14AtsHLv+L+0cBFgSxBLgKzwv+EMAWkhGKD/oVoBp2GtgbfR5YJTolDCGFH3UgvBvEG/YaTRZuEioN8wjfB+cC1voZ9InrD+o/7HfnAOWG4NzaruGa2ZrR6tPw1eXcwuHS2wPeLeFV3Mvi+uF25Irp4ujN8C7ywfAo+kv7t/ze/rgB3wMOAVwEbAUYC6EM2ATmBtkibzEEL7MlAQoTC/sdwCfcKnkrxjHWMSQzsC7kHh8c9Bt8H18pQiaFE6wMsgZ5Cc0Vvw1yBL34MPKJ8Ovw+uzs6e3obeSG5tbhfdd51dXTQ9YW3UDWIdF50tbSxNmk3TzeRt0V2SHeg+IO6jL1K/hV+SX78Pu9+9f+0P1tBQoRdg+CDBsLzQTzBrULKQknAcQFXRrHJ2ox8R3lCDEH1RCjFQUc6x7xIm88izsiKnkfFBPkC6ERARXeIZEmDxw2FccMQA6QECj/7fRJ+/z+yAS9/BvySfMg8BnrCOeS4u7jr+Cj5CLte+Pz3oraFNCJ1Fra4tzc39Pfv+Pt6Fbln9533/3og/ZCAPT82PZ49vD/qQRuBoMJfAflCDoN+wymByAIkwHSBdL5sf7+DrofQTH5IkAL//dPBnII8xt8JEkhyDW8NtonhhghDp8MpBZzHqwgKiDFEoYMhQi8DSETOgQT+irwsPhHA57+a/LD887yW/Nj7gPg199y5tbwq+4v6rDjktwA3Nncg+HF6OHqVuPH4xrnE+gu6wDrWPJl+Ev8EPdA9tH71vwPCowONgi+Cq4JOwZ4DegKFgd+CU0NqwoFAUz+yPeW8Q/39fD19i8LUhugIWMEVedW5tv6XBdDIRMUSiPrLR0ihyNiDGoDBRgnHhMltiiwHsoVABR4D4cW5xcoCs0AKwDCBYYIbwjr+wD6WP1m9Ybpid4Q4yjuj/XD8Drms+A62hrXHNeP23rf5+Ev4kLjVeRK5H7fieEt6z77/vyW85z3avqvAekHkwTECMUKcAyiDikIcAPPA/AGeQtSB4wA9fzY8xvweuWwBLwZ3iqpKkP2A+V4+pILjxRhIuoahjKZQ44mCBZDFbELYSPbLLsoUi6rHDkN2wxOFokX7A9mAa/92wGHB/X58eze8Qn2Svla7kHkqOL24xrj5OKg4zzigd8s1+jaR+Fs4U3fUNu825/hLO1+7TPoUOkc97H7ef5E+6L0MQBKB0AL9wttCS8JsQ79DugPngvCA1gEzwT6A0X9q/pD9lLvyu7pAuMKiRsWG5vwzegV86sDaRDHGHUa5CbpN9op9BReD+gKCCA7Lq8oEjASJ6obMhAYEmgYchbyCPsE6ARQBLkGKfNV8F37vPkH8+bkp93P4p3lcucz59Xlq+Hc2o3Ugdj24pflC+bs5CvlUOq+6gPpV+pR8gT8AwG4Am797P5lAwcIxQnpCs4IXQq7CVoEHwUQBqYHfQmoB/j84fcU9pLtT+tZ7InltAOFFwMWTgj56BzfNfLbDAkaCRRDHgYtpChPLW0ViglzHWEsgiowNusymClLIRsWHRxZHUUbmgwtBqsKbg7HBfT8iPpJ9FL3t+sC4EPh9OOB5MLizeEi3ajcgtgv1QzZJtvt4ATiXOTD6ELkyObV5qXukfl++sT48v75ABoAYQcPBgwNvhEZDcQKjgWBBTYGRgfmCQUKawdbAw76DfL67+7nfebW5ujpqPeUCdAIUAiJ8Nbej/cvBFwU+xZfFK0l8ToxKq4f8RvQG+YwATGNMN4yhjSBLHslKCQHIS8cGREEB1IMPROWDGH5JvGZ8kHw/+nR2yvZ9eHP5QDcVNZF1SrUf9ac0+XXw98X3Rna8N2Q4S3rqOzv55/0c/tz/0D9e/lu/okMORYVEmkTlwqgBpsJ4A1mEBQQbA3LCQ8H5QI8/3T1uPQe8mjz8fAl6pPkluH54rX4PAib/xr9aOnA6pf3kARbDT4aaygELxUycifjHI4XiyKOL2A8Fj+WOvUvjCL4HlUfmR5IIIwV7w9/EvMHAvo78ITxivDL8S7r59wR3KbWKNGQ1QLfG93P2mTV2Mnv0n3XO9i94Lzo4Oj56pXpcufo81/76AAwBr8Jtgx2C9kJ3QolDg0RmxJHFA8RdA5dCesEGgZlCEoBPvsa9oHwX/II7qXrT+Rz43/m6/VG/NP7nu186ij6bf8rEFsFAgLQGq0kmSlFMuoi0CaMM7EovDAXN68xGzeINBUqZiwcJMEU8RMoEuEVMxXN/1v4mPTY7nfvMueE4KHh2NpA2LjXd9FN0ivTQNED0pbWIdYo0gbTYNkH5QHv6er65/vvE/l3/2b+sfyNBK4QUxI6DsoOXxTYGFQc2RbGDZkOHA10CgwM3wk4BWwDNfhU8nTvWeyR6IDo6+dF6Mbgjt5A8qr1XP9y9L/t+vgKBcEIUg5RGFEgZTGcNLss6yUaMMUzszd7PWs8iTqFNzUmPyN2JSMgch2PFcsRjQ95B2P2nO7K7cvq0OVL27DVKdp61+bSJtGYzGnK6slgxnjJONPV2u7b9eDI4xHlsuaT5yfxsPwtAmEEhgecCY4OwBGHEpcXoxqcGdwXPBXLEuER+A9DEcQPDw14BLn9M/eY8xvx9+3S6QrqUe4n41Hq6+Oq3YrccuAj9NUIcxHi/vb4VgJBDaQVgBWzHYIyN0h2Qa0vxykPI98qUy+1OmM/BzzxK/AbhBcDF+4R4QLrAfcEPAfJ+bzj9tcR3TXk/tuL0xXMIsoHzanMk80n07XVONEB05vWz9zX31rji+v89jX89fgv+1UBUQmpEU8U4BDIFk4b8BgfHKAacRftGCcVpRA5DLwKNgjHA4kFtQCl9rvxxehE42HmM+N04HPkb+J75lrs193/3XzttfmvD6kM7/pr/xEXNCnVKkootShDOCRB9TjlLYUrtTZWN0Q4+DqcNIgr8hiGDjAQyRWfDOYB6vzj+tL1SeHb1LbOoNXo2pbT/s8Xzq/KqMYcxgDH+c3N1H/Wmdl23Znkk+aX5wvwM/hB/gsB9QI4BicQRRRSFKUY+hq5HAQaghXTEAYTMBPRFDUXkBGQDOsAc/hn9nbwt+797XjqCeom5S/VfdJS3jrrAwZwBo32cfKx7pn7AAK7CNEVzCzkRdNCRzMOJ7chridGM8k4kkPWRt45Qy3rJN0hDxwzEmoKLg0sDhUGiO7F55/mHuhQ5pHWGNEi0d/Pw8nayyTN6dGWz1jK482N19DaKdks4TPrKvKP8aTrefDE/foF8QfnCCMP2BJMF3sV1RViGrYW2RIkEm8VDBdMEtIJFgRFB+oByPup8WvsVutT6qXkTdpA4qrg+e8V8VXsVeOV4czuJPtGDTULew/kG6clTSTUH5oeRiq4PYdByECgQZs5jTdgMEEtUTTvL6gkKx3/GIIV3g15+w3xgvHk7+TtGuSp25jVq86r0Z3Q5M6TzMjL3dH014TXp879zq/VgOAu5oTlo+uO7gv2MPh0+Gb/rgCLB88O8hSeGhIasRLMDqYSrBUKF5sSohDQEfsMtgMd+9fzAvP98UrtP+yo6FPkQdvY1+vWouUd+BD6jP4U7ADvzfhS/vQF1A6QH1EtFT7JNugwLi/BKXYvPDvoQqdGckKgOKEyWDILKp4fmxiXF5gV/gsAAKLxveye7v3rSeMa367W4M0Yy3HIIctKz4XP8s5y0MTSnM+CytXPyNgh5YTtR+5Z8MDzDvbF+U8A8AIsCQcQdRUVHK0YHxYbFa8TmRU6E0EOmAyDDhELFQex+4b0U/Wb8dvtAO7R55fndOGT2vfWztdO4xbtcQaJCA8C7/bY8d/1zAm8FOcbvzgzQdtAtz1AKhYpwDT/OmhG0UiHP7U0Qi3gJRYnKCGTGpARAAv5CR38S+ur4rbgw+SU51ncPdCny//JFMj8ybfLBM7w0TPQStEk1ujZ/dlw3jroiPL09H7zFfYY/XUGKwqyCzESmRcCFWERdRJVFcAXKRV5EDcQOhCdCQgB/v1X/Eb9H/nZ8RLrxOiB5RvmR+KA4dratNeB3kjpI/lEAMH+Pvs7AUwCDwzIC7URZSRHMQw88EA6OOk1SDZMNvI84j0/PEA2vjDhLoMrlSbTIosXRRFtCuj8A/II6BrisuEa4tzeMtgr0obLxcdeyUjLx8cTyxfNYtLl1v/WO9pX4VXpC+y77h/tZ/P++nMDYQx3D50QJhRMFTYWRBoFGLkXRBrfGHMWWhQPDhsLewpuCGkCQvpV8Y7nHumy5pPo/+b74nHZ19KkxdbG1uEt94YLNAck+RT0uf9A/bcD7g+0IXI9GEabQP08TzihNWk5eTq/QmtEkDsFMTcuTDMTM64oLh2EE6cO8QHF8jDmm+SJ6QbptOEb2p/Vwc39xbG/1b9pxsjK3s6/1IrWjdTg0Y7Ssdmk5cTrw+8l9y/+PQVEB9sGNgt6ELgUohd5GSEdAR6YGVAX1xSWEhgRwQs1CiUJXQc9Aln4rPCA6xzmUuVH5XzhDuFa3uHYNNWAzw3RoOP9+RMNdAxK/rj12/1CBwcOGhnDJsE/Ek/wTRhAkDtAOcEz/Tf1Otg/WUJeOccyBDQ/LtIfOw6sAykAiP9k9VXnhOOr5MXkeN3j0k7KZsWEw+jDFMSGyI/NNs7K0mDYPdj12JPavNyc6MXxkvQ6/AQBaQb8ClEKtgwSEkcYexvRHNcdjR13HPoYQxTCEeQOmQk+BXYCNgGg/kv3o/FA7i7pbeTp2y7aCNuh2WbZXtpI2Z/g5d/841P8JQTnCAYG5Pl5AdoR2RcXIcEqjDx4T2lUjEsmPtw27TgvNww7UEWdRIZABDPwJOQh3xqpDsYE4P8v/ob2LOXC2YbXidfs2c3RZs3DyqzEwMFPwnrIPc4f0e7RmdQj2yLend4d4t3s7fU9/Q3/zv8VBz0L9g3+EpAXfxwyHu4bTxvNGeMYLBblErYQ2g1ZCtwIlQQuAIn7aPIr7rvqouQj4pHgdd3I3mzd0tna1mzTLdV431LycQCEA77/swA+A60MvxJdEjIhDjOfPPpFWELXOlw9TzmdNW85/DidMyUzjzBSMB4wYCWEFL8LEAfz/4T4Iuwr5PvjC+QB4JrYx9I6zD7LbczKzF3Og86vzhPRStfl2STdEuEV5ens3fK79K/1nvf9/HwF6w0DEXwTAhW6FZYW2xWtFEQUfhZNFhsUPhHEC4kGRAVPAbz8FPri9A/wKu3t6ITnquYL5PTgNuBs4QXhyOFr4o3hquaP8MT9ag9SFbMPYAuNDIMQ4ReYGs4gSjOkQhxJS0KGOBgttinZKj0rQjSzMzsutyZWICgayRR1C4UBxAEv/eH09+hg3LfWldg/2kfdFN662anSncsFyZrJM8xz0XnX/t5K447ieeOR5int0vXp+oj/kQFyAlYDagZIDjcU3hm/HNYcbRqTFd4NLAuhDz4U9RXEEusOjwwUCGsBqfjn8/rz2fER77rsButy68vp2OUK5a7hhNxg2hXYTuf5/UMEmQfKAnf/Tgp8DIICvwpJFoolVDXQMrExOzKOMIgsjCuZMRExlyxFKnEmIio3KYgdbxYaFy8VzQ5VAEXyle+o7t7su+es4pzhadu509DNdcvNyjPLKcoZzafRCdGd0LXQTdiC4QLmhumG6ynwovlz/+UEqgzyD58Vsxn+FyUZrBmVGaccACBNItsj8CEuH94aVhUEEx8N4wjTBuQBav6S+xv2pfF776Lrj+mJ51zjfNyj16TWPdiK2/nfuuA155nsXuvf6LbmF+yU+tIIkBADGTkWiBkxHVkd6yXyK8cxmTnnPRM6xjduMuQunzRuNTE1TS3RIu0biBNTDvEJrAVbA07/0vRY7Fri7dhz1lrTudMB1FzPW8ykyJ/IAMoUzqXQgNT81zHa6txu3sPir+oQ91gBrQjwCxwNvQ4LEgYVzhhJHF0f/CFPJSsnWSgTJ4Ak9SHLHpoZ5REQC60GtgQAAm3+Mfnv9eryPO726T/jK92V15DSRs/U0NrRhNI50TnPmdbt3HfnouoT7T3zePw5A6QCdAJ7B+IU0ibMMqY4vj4zPC09hT0iOtw6TDvMNns5Nz6XPhY9tzVNLQAquiLMFBwEEPqT867x2O6w51/l5OG129HSzsk7wgu887hpuaO98sPZxXbHc8rT0P/YGtxB3WHfeuWx7pn5CgLDCRMSSBeWHgAj1yXwJvAmpirYL6Qy7S9LK94ngCfXJkMh+xpzErIL6gbd/3n7APZS8fDr0eed4iXbANbm0unSntP90jPQaM67zl3Oh9BL06rXwtub3WDiQ+di8hgBgQwuGN0d7x5fH84j8yifLw86kEPZTlFY11Z1TmFJrUDQPcg8yTf7NhE0ei8zKwAkDBoeEREFPf+k+NbtpuVr2BXP7Mvnx2fH88hmxZfDhb/euau1frHvsUC3hcITz7XZm+BH5kDr/O8d9QT4ffyBBDQPZBmfI74rEDHgNV84GDfvM5suhimKKIcqfStfK3gpMiRYHjQUlAg8/hf44vKI8B3tj+hT5a7fQdpM1YXRjM/DzGTJKcghyJjKT88/0WXWVdnU2lTc1dnR2oDiefT/BHcVyhVfGvgcRSDsIwYgsSerM+FD2k8iUudQmk35RTtEZUJ6Q7pCQT2YN7Q3tzKXKjQfyROeEsIPsghv+HbpSt5c1uzRv80UzcbLlso/xeO/g7pVtJmvIbGFuJG/8sW2yLjLMtLX2WrfjOVX653xpfeE/84HHhEpG7YjTizOM6U4OzdCNDQyKDPsNQ83DDc+Nz43nTJWK38hRhmPEO0HOgDw+mP3zPFe7IfmPeTy3wTZBtJpy/LIlMe+xgDHpsiVycPLFc/e0MrSltOX0/TWldsD4rDwav7DCTwQQBJ2F+kdYiEDJAIp+jTRQX9IWU09T4hR0lL2TbVIFkkLRv0/yjgJNVY2GTNrKhEf9xfDE/MI1PhO6yLl3OAU2zHTvsxby/LIAcP0vyy/IrlgtACyjbMLvY3Bq8DexbnPR9hJ39Tf5+BI6r/yufnBAMEHZBE9HBgknSl5LVovZy8yMiM2iTnsO906izmvOrM5LjQuLfwkQCBrG2wU7AuIAwb+h/hP86Hum+h14STaQNRI0YHPlMv2x4bFGMaPxzLGHMZ0yOPM0dHg1JPWeNn/2UTd3+H25CjsWe2k+IMJERR/H7sewyFsKuEsaS1JL4U0JULRTRJRf1VcVcpSNVAsSWlJcUe8PcQ1kysfKTgrESMqG5AVrg0DBzf3X+O72KrQ5sxKyW7GY8WXwna9Y7i3tzm3lrXAs021ubrRwHTF3sg90sPcguaD7RzxVPcH/mcEKgprEtIblCS3KbkvJTWgOts9JzulOqA7rzklN9EzqzGsMAMtFCaGH+UYoQ+/BbP9L/pl9o7wNOj04ZjfdtvL1PvO0MsAzKzLVcnux4rI98key27OBtPB13HY1NoU3IHgQOXL5m/rjvLE+TAA/wKkAmgBwQaKE4EbpSkwJyQoQS/OMdU2vDOMMic4fEABRRZEo0C2QVRAOT6OPMI3qjL8LNEh3B8qHbUXmhBsB/UFewHE+DfqWt3e2GnV4tF+zdTLCMzhyJnFHsG+vsC/vrxIvLq/AcMix+XLHdG22b3jK+lq7qnyHfcq+0YAygYkEIsZyiHUJ88rbS7dLeAvFzI5Nbw14TOlMUsxay8NK80n0CWPJe4h+hlSELsHgACe+HXyXO9m7fvqK+VQ3i/aKNc806nO0MyBzG/NYs31zMnPCtRN1xrZLNxA3+rk1ugh69DsAO/l8eb0xfh6/CD6HAC4BkwT1iMVIrckmiGuJJksKim7KZ0uGzagQ59GZkTFQ5o9+zsjOIk1GjfVLg8owCIKHhMiDhs4EUQMwwTg/yP1juXO3QHaANbd1dPOWM6HzRbHIsdHwnHBDcGZvVK/zMNfyNrMvsz30FLb+OH96n7tBu9d95j6dQD9BPEJKhLoF/QeBiRlKeEsUC3QLVYxfzLgMqoywjAyMtUwmiw6KFIkaSHhHuIYcBK+CpsDLv2L9t/w2ev95lPjiuGi3und49j71IbS/NBP0NfPr8/h0QbXDtmQ3Ifd0d/A4cnjH+b+6Svs7+xr7/LxIvp6/DP7vPnU+7kKfxf3HQMjkRw6JMEpWychKJ0kTynAMzI8Sz4LRN8+Yz+GOIg1BjaMKiQobBthHHQfJxxhF3IQLwzuBskAqPKc6LngVNs11yvUE9TI0RLOyMqtyBXLpMkQyG7FyscMy6LM7M/a0RfbX+IV6eHtKvL09d76k//lA9cLgxGUGPAeJiE5JfomNyihKksrUC2rLoAuoy3iKp0o9iZcIsYfvhqkFL4QzQnOBF0BKf7b+2b4ZPJb7NvliOAP3U/bENza2xjcCNzk2jbbC9u52pzcs97F4ZnkJeYB6Sjs5O5O8/zzi/bp93X5lfym/xMARwGlAEAAVALGBMIRWRcHIesdwRzbHp8fJx72G6odkSSNMGwv0TJNL6wugy4BKcwoUSebIvkdrRbGFfoYXxdJFpkUOxDfDooDr/Wx7oLlmuRd4cPfneB24JHcMNfm0PnMg8tbyHjJW8klzGnPnM/B0V3UP9jc3Vrikues7fvyCfYU+m7/0QfMDm0T3RcQHCQh3iLyInUjViZPKPUqTStyLO8rtyhgJEEeMRtgF+MULxLuD+0MbAlxBOz+Zvr+9ajzAvEK7n7qZebn4nvgtd4t3ujeiOCK4Zzh++AQ4RviBOUs6MHr1O707wzwQ/An8e7z+Pfv+5j/KwKrAjYCNwK4AAMBG//wBmEKXw2fDnsG8guUEk0ZJhxPGRYW0BkWGSwaSxtoHmEmuSjQKcMqnygEI90bORbgGUsb3xtPF0ITeRT8EFYKtgTs/qD6E/Vo61PpvOaT5HDgwNvJ3Nzb4Ndi0CrNes4J0vvQP9Dt0h7X39tK3svgq+Xg6b7rL++Z9Ij8NAFJBDMILxDsF2AbVxoKGzwf3CKKJeAk2iWiKLQp8CeiJlkkMSK9HvcZHBj3FTcSYg0yCfEHhwW2/xX6d/Ud9Jzx/euC5g/jPeAc3oLcwtxn3xHfFd7D3fzeuuDP37Der+G05tPro+5p8Cz0o/dZ+Yf5Sfqr/J3/aAKsBNgGYgk9CWgGBQRdBc4JNhN3GlEaQxxfHLEcpyDwHZIcziJJJb8oCSuIJv4nPCfQImEjSiT5JJkjRRopFOUQHg0UCiwDtAEAArP/0/iu8VvqPeeW4o7ekd0F2+zYOtOd0BHR4dLf0bHS/tMu2L/b89or3FreFOIe5kDpRu0E80b3jfwGAkgHCwwvDqMQzRQEGf0b1xwvHiYhMSS7JWkkSCNjI/MjbCMcIiMfaRwVGrsV9RKkDloKlgb/Adz/A/4Y+1T3evLc7jHtNeo85zLlY+R95ejlE+Ud5CPkBOUH55Do2emf6ujrpO2F70bxXfKJ86b0RPYc95/3jfhq+Zv7KP4g/2L/jf2A/Of7Nv22/R0AXgHkA+IASAHsBBcMmBpnHKEgkyOTJjIpvSbyHRkfhCR8KAcvdS92MJUwyizvJ4slXCIVHPATyg5+CUMH7QGT+zj6LvoU98PvruVu2lvUH89dzAvM6suly/LJRsnCyOPHkMnIy43Q3ddI2xfdQ9+r4P3lJ++r9jcAdQhuDeQSFBYsGHAc2R6xImUmwiixLPIuyy8uMTExBDHKMNssXyiSI+seGRoEFh4S6A+QDb0JfAQ6/qP44fKF7g3rPOge5bzhD9+53Vze9d0T3I/bKtwP3/Pgp+BQ4ffjsOd16yntoe7o8NXxBfRV9l75wvwl/msAQQLQA4ACkP80/rH+of86APP+LP9qAnoFSwpSCqkHpQf0C5MQOBbJE9sThRi8GwsgHh7DHc4huyXrJbMnEyUwJZciqB0pHYsfXh6HGg0WaBKEEpIM9wSY/GP6Vvjz8aXrdeUD4kfgONsp1/rV8NIAz3/L6sk0y0HNc81C0B3Wt9uw3iffR+EY5rvrvvGo90r/zAaZDMMQ9hPYF6AaWh6YIlAnAyv+Kw8suywaLvUtVSvOKCAm2iMzIUUc7xjlFQsT0Q9IC4oGVgEn+5T1PfBD7RnqMea44sffCd7G3IXbc9qV2prZmNmo2PfYA9vw3Mngn+Uc6qLtXPDX8PnyEfWf97T5kPxs/48BXAQDBS8GcQfFCLoI6gqGCG0JyQiRCtUMCA5UDyES1hdGGxYfMBrAG4kbWB02HsId9BxbIAIjriNGJ+8lmyXNIFAcJRl9FtUSow6OCzML8wknBIz+rfji9QXzWOyo5hniXd6x2VvUl9EL0/nTqNSl0xnUl9R/0zzS8NNF2IbdP+Gn5Gfr1fC/9mr5gP1YA7oIIg0BEJ0UHhngHXcf0yIdJggpOytpK3wrGirWKNMkqCL6H1EdRRspGN8U9xEbDXMHJALf/Kn5kvaW8lDvc+u4563k1d4S3Dnai9o12wfcWN1I37Dfd97g3ijgzOOz5aHocewl8Rf1Pfjw+sb+vAA2AbMAHgHhAd8CNAM2BZIHDAoMC6sJNQklCZcLRw5eEYEPNhKcENoT5hOkEqMSnhUxGigd6h65GvYazxgGGqcaXxxRHLobKBsgGUMY2hMFD0AMcAoMCsAGYAJV/R77YvfW8krtVOnY58PkBuIC36zdzd3V23LZm9nS2ezYdNhm2LLbgeL+5YfpJO2x8Rv1SfiD+Yr8mwFYBe4JXQ1/EH0TtxU1GB0czB5VIB4hKSAFIFseSxttGRoY2BfeFsYUkRGhDtcJHQZlA3UBDf+Y+v/1dfI874jryudg5UPmkuYb5lLj4eGY4VHiOeNJ5NPmPelp63frveto7L3t6O8k81X2KvqQ+wb8ff3i/nwB/wKBBHYH1wzNDmQR6g+WEmsVrhe7GSsYKRv9HC8f7R6/HvccUh7JHSoewh7pHOYb6RnWGAgZyhfyEvwOmgrYCKoGbAL0/S/69fc29Wryxu5X7FzppOYB47Hfud0z29TaH9tu3d3e59/X3vfdmd8s4ZDjRec9673vn/Q896n59/ySAMoE2gljDoQSbRXXFesVmhYwGEsaOBwnHncfxCC5H3sdZhrmFh0U1A9hDKEIhAVnA4gBJwC9/0n+BfyB+fz0RPKA7pHrXup26RzqFuqe6cvp5Os37HrtIO2O7fruLu/Z7tTvIvFO8pPzRPKg8lrzTvRB9jb5f/xaAaECmAOCAmcDAgV1B5EKYw5UEmUUuhYpFsYYWhlqGTEaQBxMH8UgaR83HXQdKB6CHCMZ/BXrFDsUCBHNDJIJkQcPBWQBifzA+dT2GvLp7SbqFOlz6JjmoOO94t7hNOCb3RXcfd3F4KLjr+Qz573o9+qc61Dsuu7r8hr3uftvAAUF7AhuC0EOzRD6EzAVLxV1FJkUWhWXFhwXjBdVGJoYfRjgFZMQJAxWCDYH+QblA9gAB/7B+yX6Pfb98mPw9u4l72ztsOx/64Lqoukd6pXpSuoq693rKe//8eD0tvVu94r3FvhX+oX7Pf6GAdEBNANuBisJ2g8FE0QU1hcMGgEbwBpUF0QW/xaPFigY+BiuGtEaGhlLGDAYdxdsFUEQzAyjC3kHKwRz/0L84fyq+nD2nfKf7oXsP+vq55HmFeVb4j3hMOB54WXje+SD5aHoL+w77/XwY/FP9OL3lPpL/KD8+/2JAGcDtwZoCoENURA9EvcRdhFgDxEOpQytDTEQFhFKEXIOuwoqCcsGRQXhBLIDWQNaA2IAyvy/+Ivz2PGi8OLwePFr8V7xBvG78KPxzfFf8Q7yCPEH85nz9/HZ8evxqfTC+cT95wAABWwGnghkCY4HMgdIB6IJgA0YEeQS5xMiFJEUvRTcFJkUpRQJFr8U5xOoEakOxg26DKwLrwsiCeIFEwTzAHkATP4z/O/6CPkq98T0/e8W7bvq2uj+6VrojugN6XnohOrK60bsl+7g7jHwzPIg84X0J/Zj95P6Gf1c/40CDAXJCO4LHQ5fEIcQGBAVEKEOCw5mDTcMIQziDH8MsQtWCswIGAfQBWgD9f/G/k38fPoM+V72K/U89WHzD/MQ8yHzZvTa9HD1WvZE9sP1r/U39o340Pow/YX/TAHQA3EEvwRIBvkHLwykDUgOQg4zDdAMug3RDNoO1BCxEOMSaxFhEegQdg7xDIwMwgo8Cb4FswHq/3D+o/13+y767fgz+AL39PNV8XPw0O/G77nvRe/Y8Jbx4vFz8s/yPvNd87TzSfSD99D66fy6/ikAqgHyArkD3gN1BYIH+wdbCNEH3wbrBoUGugZmCPIJSwoMCpUICggBB1YEQAJ1AOj/6/7G/BD6Fflr+IL30PZu9Wb1+vTQ88jxyPDC8Cnvuu4e7U7tq+4d7qzsTO5b77PzIvdA+HH9SAInB3cKbww5DZYR4xHREwQV6xfPG1sd8x70H0UiOSSkJK8idiLLH/odPhp8FRUSqw+/DE0KtwdEBKwAx/u994D08fGA7XjpTuZD5I3iEeC23Qfd2t4M4BXh7eDb4YjjVuaU6MbqSO708FH0B/ii+4X/mAOpBmsKjg5FEaITvRSrFdAXSxg5GN0XaRd9F3EWthT0EtURDBAaDisLcgi7BaoB6/2s+gP5PPf39Ezy3++u7ULqt+ZW5H/kB+YQ54Ln8ucH6KvnAObn5M3loOlN7vvyYPaP+ET7c/5WAzMHVAukD8YTxBj/GvkabBsAHT4geCN4JQMmsiaBJl4lTCT+InQhCB/jHCQbRRhWE+8MyAaaAn3/Ovs69qTyIO9P7VLqKeZb4z7hXeC83/redN2Q3MDbUdwz3ZLeu98Z4njmmOrN7ijyiPVj+fz9PAHQBa0IYQueDUsPtREVE4QTjxPiFAEWzheWFwsXfBaXFSMUBxHwDdkKEQi5BREDlf8R/IP3h/NR8Tjwvu517fvrj+vG66LpEudo5IXj5eR95hroKOrm7GvwHfU8+BP8eP+LAtoINQ5zEjEVmhUDGPcbCx4XIJEgayH7IyUkBiO6IdEeMR4DHkEcdxtoGPsTnBD0CzIIjQRr/jv6b/cE9bbyRe4e6YDn9OW65IHiDN9E3pfe/N5G4AXi2eOI5dPkDeX45pvoEuu97b7xP/mq/nMBiwMzBsYLQBBFEUwRKBK5E2AUGRL5Dz4QURIFFN4TExPuET0Qig3/Ca0HRAb7A7QAkP2j+gT4vPT+8B/vYe9Y71vusezk6lDqQep96WTpXuow7O/u4PAn88H0Xfc5+5//eQU5CYoLYg76DwcSZBRPFXoYqxyWHxwjNSSnIskhhR/BHWAdkRuHGbgXAhXEEmoPxQrjBoYDBQE8/yb8OPgC9F7vtuuU6I7mVeVY5FTjceJC4vLhK+Ka4k/kcOdD6oXsyO1Y7u7vBfL588z2t/kr/WoBTwRhBpgI5wn1C1AOxA+rEb0SbRLPEU4QoA4qDfEKHwmUBi0E+QEv//D8CPvU+GP4Nvfo9AfzR/Ct7mDumu3L7STveO+a8ODvce9f8cP0XPnP/TgB2wTcBxMK3AvTDGgPWxJQFeMXhxm3GdMZYBjBF00Y8BhqGXAYYhfCFloWcxXMEncPDg6JC+cIJwVzAND9bvw6+sb4SveB9YL0QPJW8JPv3u657fvs2+wn7RftGewD6+nqR+wp7Zjtf+6N7/bxm/Ry9vX4ofuL/fr/7ACXARsCQAKCAmcDTASqBCsFZQX6BZEGkQYpBvgFtAUCBVUEIQONAeIAvP8G/27+j/0c/aT8sPuP+uL5lvgB+cr5gvo5/EL8xvwH/R39cv4bAD4CcgVUCNUKowxDDCcMFgzeDGYOKQ9SDmwOKw5IDWQNcAynDCkOjA26C2wKNAdzBbEDtQC1AMP/2P26/M/5FvjN9y/1A/Vw9Ejz3/Oy8RnxtvH58EjyufI280z2Ofdo99r3VvfK+Gr6JPpU+438qf4OAYoBjwK5AwMFewYzB3oHcQjTB04HdQZnBYQFGwTZAu0BhwB7/3H9hPrg+Mz3xfb39aP0IvTg88vzvPJx8e7wYPGh8n7zUvVT9gX6DP25/o0BZgPnBiIMww6+ELQUeRY+GhIdehxAHvUeRR47HwwdOBzNG9wXFxbWE18RMxFnDVYKjAi2BIYCbP4f+Wr38vNs8AHuk+jj5szkXeJf4ubg/eAH4lzhjeP45JTmyehC6l/sSO+U8E7yrfNj9Yb4kPop/Vn/fQIsBj0J+wtkDu8PLRJbEngSdhEvEdAQ3g9iDvcLMwnxBU4CoP8n/vX8cfyO+2T6rviz9rTzdPIQ8v/xOvEQ8tvwvfIC86Xyi/an+OT94wFJAwsGWQrFC84PHRH/EvEXphdKF/0WgRVqFjcXYRaeF+0XhRdFFtsSXhGDD2kNoAoUB8ME8QEo/qP6OfcI9ezy4u9x7APrxOnA6GToi+f554Po2eek5uHmZ+fr6L/qhuyg7xnyy/NS9cz26vjx+tL8wv5UAcIDQAVYBjsHPwlECl8Kywn6CQcKKQqrCW4I/wgdCFIHLwUDA0UC/gGRAbgAaQAuAGf/Wv99/ZT8OfyZ+7P8Z/7Z/hMApwDJAOgD3AT3BpIJ1gzkD5YSZBOmExsVahV2FTAUbRLPEGYPXg1uC+IJ+geLBmwEtAI+AQz/g/xj+kr4EPdr9ZPy1PDK7znvB+9+7aDs+ewL7entiu3M7SfvgPDu8S7zYvPv8w/1lvW/9h74uvgC+rb7fvx7/UL9t/xN/TL+xf7Y/00A3gGaAugCngK/AokCpwL3AuACCASXA68CvgGaAbECfQQhBZkH0AkeDJoN5g0YDiEPSBC7EL0Q4BDgEMwQXRDdDxkQpw96D18Okw3NDKQLZAkxCJAGuQWWAwYAGf13+iL4jfXV8qHwGPAx71juNu1W7NjsCu0K7VXtw+1V7tHuZ++T8CLykvO69Mj1ePfV+CL6qPtb/a3/qgGNAl0DewQ1BcUFqwUKBSkFqATSA94C9AHCAWQB4wBcAPX/5P/T/63/YQB/AZAC6gLCA/kDHwT5Ax4DTQOBBD0FKAZzBrEGBwjBCPoJLgsqDHsNig6hDqUOXw7bDb4N1wzfC+EKzQnVCOcHhQZjBdEE+wOyA70CfgHbADUAXf+N/fv6wvj39rz0wPLO8H/vbu9Q70Xvge9W7wjw3vBH8Xvyd/MQ9Ab1mfU89vP29Pa69rX24PYF9w33E/cT90L3zvdD+Nz4mflN+s37Lv3K/T3+MP5k/gf/cv/jAN4C1gR+B2kJagqEC0cMuQxqDfkNtg7CDw4Q0A9CD3YO2g1pDWUN7A37DSkOkw1EDTgOJg4NDgwOXA2NDQQN8wpTCWMHCwb7BMICSwAW/gX8aPpp+IL2m/XG9PzzMfNU8r3xTPE18cDxo/IZ8z/zPfPx8jLzLvPp8t3yQPMz9CT1K/XV9N70i/UT9oH21fal9xH5avqc+1T8DP02/tX+yv98AMEAcgEAAlQDwAS9BmgIDQobC1IMQw3BDRgOJQ4tD/IPzQ//DqENIQxGCwIKNQmmCPEHbAfGBsIFTgUGBXkFKQZ0BtwGxwbmBc4EZwPOAeEAwP9D/iv9qvsc+tX4Zvd49vT12PUx9on2ZPaF9qD2nfZk9u711PWG9TH1w/Qu9AT0DfQU9Ln0WvWA9bP1mPWy9TT2NPZC9pj2AfeJ9xv4Qfis+Ln5o/uX/dH+TwDmAbQEYAjOCmENAhBCErUUexXIFJ4U8hSXFdsV/RSIEyESfRC7DqwMYguSChIKqgnFCPEHKAfmBdsEjwQBBMQDAwOVAZ4AnP+X/q79QPwB+1H6MPkU+Er3GPYq9YX0PPPa8qzyjvIp83Xz2fMr9KzzlPOD83Dz3vM+9Ln0ePXu9Uz2nfYS97T3B/ga+NX3fPdG99322/Yy98339vjX+Yn6y/tw/bL/RgLmBKsHVgpKDfgP0xHAExwVShZvF0kXihbHFa4UwxOGEuEQug9QDqsM7AopCdIH1wa7BcgE0wP8AkECPwEsACb/nf7Q/aH8LPsN+in5EfjW9rb1FPVx9M/zSPPH8oLyVfJV8kfyCvLm8UDyxvKn85b0k/XO9tb3N/mL+ib72vtj/N/8Rv0P/an8PvzY+7z7Nfvm+t/62fqW+y/8Mv1l/gAALwI6Be8Hewp7DdoPYBI8FEIVNhbQFg0XbRf7FgYWyxQIE2oRKw+SDGQKdQjgBkkFegO9ASgAv/45/qf9dv30/LT8cfyc+9L6rvmR+L/3J/dC9r/17vRU9C/09vPq8+TzxvPa8wD04/MW9GT0pvQY9b/1X/bX9mr3P/gx+XP6k/tG/NL82PyA/Hj8OPz8+yf8G/xV/Iv8GPwI/AP8OvxO/ZP+xv/HAX4DnAVeCE4K0AyAD2IRiBNkFTEWZRcSGAwYWhjDF7wWZBVyE34RTQ+7DG8KNQgKBjYEbgLLAGb/5/22/OL7KPuE+vX5mfkp+cH4Mfgr91T2XPVu9G/zDfKu8FbvGe4Q7R7sjOtU63fr3+t+7DztEO4X737wE/Ku8z31tvZC+MD58vrl+4f8CP1h/fn9k/5Q/1gAQAFLAnQD0ARvBusH1AklDJUOTBHEE+0V/hfBGfoa5xtnHIccOBxsGzUaCBmaF3AVPROYEAsOdAt+CGcFWQLE/4n9t/vb+UX4JPcH9ur0BvRF84/yUfL98dPx2vGG8TXxCvG08GjwI/B079juTu6i7VLtC+0j7Y/tTe5S73zwj/Hb8kz0e/VT9yb51/rc/DX+Z/9qADsBTgIlAxMEOwVWBrcHEAkuCmoL5wxZDqYP+BAhEnQT2RTcFdYW6ReYGPMYFRmiGNUXghYDFWgTphGrD6MNRwvRCFoGngMwAWj+A/wm+kn4mvav9Pvyt/Ge8KHvvu7a7RrtZeyn6wzrheoU6jDqiOrO6g/rhOsH7AztY+6a7znxAPP59Ej3mfmf+6L9yP/TAaIDEAVoBm8HUggOCZMJFgpoCqUKIgvOC20MAg2pDTgODQ/3D8wQlREBEmQSZxL/EYYRtBDRDwQP4A2bDEMLiwmwB5oFgQNzAX7/Qv08+5r5GPgE9+j1/fRU9KDzEPOf8gfyr/FH8dbwkvAh8ADwCfD470Xw3/B08Q7yjfIG853zQPTe9LH11PZD+MX5iPtK/fb+wwB6AiYEwAUbB1oIVwlHCt0KPwulC38LXgs6C7IKUQoVCtYJJApxCngK4AonC2gL2QstDKEMPA28DREOOw4aDtANOw0zDMUKCQleB2IFgANqAUj/Uv1q+5353vc29rv0RfPx8fPw9u8u78Pui+547pzuq+7Y7j3vpe828MzwUPH08cjymfOD9Jr19PZe+Bn63PuH/VD/2ABLAu0DgwUOB3sI3wlHC4IMBw1fDTANyQyhDPcLmQs8C5EKagouCq8JfgnsCIEIRQj3Bw4IHQgUCAQI3Qe0B30HsQbiBfoEHgQxA9ABMABw/nH8ofrY+Bj3tfWX9N3zTvPT8qPycfIg8i3yafKt8jPz0fPe9BH2VveK+Jj5uvrG+5H8Sf3P/UP+//65/3UAZwEiAu0CoAMZBIwE1gQ5BasF8AVFBmEGXgZBBgcG4AWPBRkFuwRpBDgERAQDBNEDvwNuA4wDgANeA48DuwMSBIkEjgSDBFcEFwTXA2sD8wI9AmoBpgDP/+H+B/4B/TP8t/sG+5H6P/oB+uv5HPp7+sH68/oS+xj7P/tI+1b7d/vF++X7DPw4/B38C/zf+977BPws/Jf85PxM/dj9Mv6y/iP/g/8IAHIA6ABWAb0BNwKjAvMCeQPTAwwEegTjBHgFKgbABmcHzwcOCDYIPwg1CAwIsQdAB7UGAQZOBZkE2wP0AhUCaAGfAMz/8/4s/pf9V/1G/Uf9R/0o/f/81fy//Kr8jPyc/MH8/Pzx/Kn8iPxH/Bz8Avy0+3f7Lfvc+pf6KPrK+az5oPnh+Sv6mvo6+9H7cvwx/cX9Rv6o/iL/lv/p/1sAsgANAWoBwAE3ApwCIwOZAxQEjQTuBGwFuwUwBnkGqAboBv8GEAcIB90GlQY7Bo4F8wQdBEUDkQLvAVcBxQAxALP/Xf8T/+H+0P7g/u3+3f7j/uX+Cv8y/yv/Qv8f/8n+h/7r/Vr9zPxG/Nv7XPvb+lv6wvlM+RP5/fgE+U/5u/lF+u/6Y/vd+4j8H/3O/XX+Gv/C/3IAIgGiAS4CuwIKA0cDVANIA1ADVANFAzcDHgMNA+ECngJMAvUBqQFkASUBCwH7AOQAyQCWAHwAjACXAKIAxgDzADsBdwGuAQQCRwLGAiIDaQOzA8MDvAOvA4cDdANCA9MCbALYATwBhQCu//n+Pv6E/ev8Zfzu+6n7Sfsw+wn74fqw+pL6mvpq+mv6ovqw+tn6JPtt+7X7BPxK/Lf8Kf1w/fX9i/4l/7X/IACHAOsAOwF1AbkB7QEyAo4C5AITA28D3ANhBAIFeAXhBV4GkQbFBvEG3QbmBsoGgQZHBt0FSQWBBLQD/gI8AnEBigCn/9f+CP4b/T38kfvG+kD6tfkp+eD4i/hJ+Bn47vcF+Cn4Zvjl+FP5z/mi+jH77Pu8/Ej9+f2Z/jn/2f+TAEkBIQLsAqsDXgTwBIsF8AVXBocGtgbQBu8G8AbTBqgGTAb3BXkFDwWYBBsErQMqA8oCaALxAXQB8QCDAPf/Xf/9/nr+E/61/Wv9EP20/GP8Gfza+5j7bPty+4r7nPus+9D70/v2+xf8JPw8/Dj8T/xj/HT8kPyz/NP8+vxA/Xr9wv31/S7+Zv7F/in/ff/C/zcA2QBZAdkBTwLCAkgDqwMUBFgEqATLBAIFKwVDBWIFPgUbBdgEoQREBNsDaAPzAqACHQLMAWUB8wCfAEgA9P+e/0X/+v60/o3+Yv5d/kX+Hf4N/uP9n/1p/Tf97vyx/Iz8aPxj/ET8H/zy+9n7ufuu+8P71Pvy+0D8efza/C39Zv3P/Rf+fP7h/kL/wP8YAJMABQGHAQ0CcgLGAgcDLANVA3wDuwMJBFsEngTVBPME7ATpBN0E4AT9BBYFCgUPBQsF3QTCBHYEIQTJA1ADpQIKAmUBlADS/w//U/6//Rb9g/zx+2n78/qO+lX6FPrW+av5bflC+Sb5IfkV+QL5Cvke+Sf5XPme+eL5Q/rE+kT73vt//Br93v2v/nr/TwD8AL4BfwIhA7wDVgTWBFYF3QVMBpoG6AYnB3gHswfMB/gHJQhECE0IUQg+CC8IFAjXB5wHSQfbBlsG2wU2BW4EkQOSApsBpQCN/3b+Of0l/Av76fnp+Aj4Uvex9lD2+fW89dH1yfX19V723/Z79zD44viK+TL6u/oq+4n7Ivyr/CT9yP1h/ur+ev8hALEAPQHWAXwCBQOXAxcEeATPBP4EHAURBd4ElARSBA4E6AOwA2QDSAMgAwcD4QLpAu8CBwMRAw8DGAMYA0sDcwN7A3oDPwMhA+wCjwIXAqMBRQHCAFAAs//6/lP+zv1g/fr8k/wn/Pz7zvuy+437dfty+2r7lPvQ+/b7Nfx+/M/8MP1h/ZP95P34/Tf+lv71/k//lf/H/ysAXgB7AKYAzAAWATMBXwGKAZUBowHBAdgBwAHAAbQBzQHhAfwBEwIcAjwCMwIbAicCJAIHAhEC/gHVAbgBWwEiAeUAoQBmAEUALgD3/83/oP98/1v/I/8I/9v+jf5L/hv+9/3l/cX9qf23/Zv9ff12/WH9af18/Z39yf3v/fr9Ov5V/oX+uv79/nX/0v8zALYAJAGUAQQCZQK+Au8CCwMxA00DXANvA1kDNQPvAoQCMwK4AVoB7wBuACYA4P94/zf/8v7N/rv+pf6//rT+qf7T/tf+3f78/tv+5P7b/rX+2v7H/u3+DP8l/2D/iP+o/8X/6v8LADgAYQBnAHMAiQB8AGIALAAAAOz/yf+l/1P/Dv/Q/pz+cP5N/j7+aP5//rf+BP8x/3X/yP8qAHAAwgAIATsBbgGnAeYBHgJQAl4ChgKbArYCxALnAgkDCQP3Au0CzwKaAkUC5wGkAUAB3gBhANP/Nv+U/gj+c/0D/YT8H/zV+6H7fvtb+z37N/s2+1f7hPu5+/37WvzA/Cb9mP0O/nj++P5S/5X/8P9TAMIABQFgAcwBAgJoAsICGQNuA8ADJwSJBNMEFwVOBVcFbgWEBVwFUgU4BfQEyARhBOwDbAPUAkQCnQEGAXEA8/9h//D+cf4G/qX9IP3f/Jj8R/ws/Pn7C/wH/P77Dfz5+wX8JPw1/FH8Zvx5/Kz8sfzQ/BL9N/19/bT9//1Q/pX+z/4q/47/+P9bAMUAEwEvAWgBiQGlAcMB2gHkAfYBDwIKAiECIgJUAmMCfwJ8AkUCQQI3Ai0CFgILAuEBugF/AUIBJgH5ANoAwgC3AJIAWwAbAO//y/+9/6f/rv+Y/5L/a/9D/yv/Cf8l/wP/B/8F/w3/Jf8p/0r/bf+f/7H/1f/X/+H/8/8KADAALAAiAAkA0f+M/17/L/8H/+n+vP60/qH+sv7D/tT++/4h/0r/c/+O/9D/BgAuAGMAgwDEAOIA5gDfANUA3QDMAMYApwB+AFEAPgAlAP///P/q/+L/5v/g/+j/1f/P/6z/l/+I/23/Xf9v/5z/jP+V/6P/uv/Z/+L/EQAtAFwAcQCUALQAnQCbAKIAsgDDANcAzADSANsAvgC4ALMAogCLAHsAYQBQADQAKwA9ADUAIQAoABMA/P/Z/9T/2f/W/+L/7/8PACEAGwAaABEAAADb/8z/tv+b/3//W/8g/+T+sP5s/lz+Jf7s/dn9wv3X/dr99f0C/iT+Xv6D/sL+9P4l/3v/xv8EADwAgwDPAAABQAF5AbEB/QExAkACVwJyAlACXgJRAjUCIAIJAgsC1gG6AYYBTQEsAdIAuACDAFAAPwAWAAkA5v+2/4T/Vf8+/yH/FP8l/yX/Jf9B/1D/cf90/4v/pf+0/8//3P/d//T/AAAjAEkAVQBfAH8AkwCJAIQAewBaADIABQDS/6v/h/9z/2j/a/9O/xj/D//8/ub+3f7M/sL+yP7I/rv+mP6K/oD+h/6g/rf+wf7r/h//P/91/5f/wP/v/w8ATQByAJwAtADBANUA2QDfAPIA9QC+AL0AwgC2AM8A3AD/ABEBHwEKAQgBGgEqATsBVgFeAVgBcQF8AWkBWgEwAQoB3gCrAJsAdQBGAA8A1P+e/z7/+P7B/of+dv5g/kn+R/5D/jD+H/41/jn+Sf5J/mn+lP6y/tr+9v4X/zv/TP9Y/3//p//R//j/LgAyADUAWQB0AKEAvgDTAN0A7gDiANUA3gDlAOUA8wAHAQwBAQEKAfwAEwEfARsBGAEZAREBAwEGAQsBLgEnATYBMAEgAQUB6wDiAMoA1QDGAMIApQCaAI8AbgBZADgAFADh/9X/nf9R/yP/4v63/nj+Rv4C/tP9tv2h/aT9kv2I/Y/9dv1+/YP9lf2l/cL97P3y/QX+IP4u/jv+V/6M/sv+BP83/4b/3v8qAIwA1QAwAYUB0AEgAl8ClwKkAtUC+gImAy8DOQM4AxYDBgPNAqUCgQJEAhkC0QGiAWwBKQH5ALsAfwBbACgA6P+9/5v/d/9M/yH/Af/n/rz+lf5w/ln+YP5M/lL+QP4q/jz+QP4+/kv+R/5p/pD+jP6s/sX+0P4N/x3/Qf9Q/2P/h/+S/7T/uv+//8f/4f/2//j/BAAYAEoAZgCVALkA1gAAARcBSgFbAWABfQGKAYkBfgGLAYUBcAFsAVcBMwEHAdsAsQCOAGkATQBAABoAGgDs/8X/sP+f/4z/cf93/2z/cf+E/3z/d/+E/4H/d/91/2b/ev+Q/5H/oP+t/6j/q/+b/53/tP/G/7L/u//K/8n/5v/Y//X/7v/j/+7/0//I/5v/jv+C/3D/Tv9P/0z/P/9V/1r/df+H/4L/mv+i/6L/yv/a//n/CQAUAC8APAA7AF0AbgCHALMApwC9ALsArwCfAIcAiACKAHwAfwBzAGwAdABiAHsAeQBpAGwAcACBAG8AbAB3AIIAgwCLAJYAgAB6AIIAYgBCABoA9v/n/93/yf+2/7H/lP93/1b/Mf8u/yP/J/81/0H/Rv9V/1P/Nv9b/2//i/+I/37/mf9//4//mf+s/8T/7P/9/xgAKAAZAC0AUQBxAHwAigCCAKUAowCXAJoAggB+AGIAXABdAFwAUgAzAC4AKgANAPX/+f8NABgACAAKABUAGQBAAGQAgQCeALEAuADVANgA6QDYAL0AygCvAKwAiABsAFsAPAApAAQAyP+1/5n/Uf9d/zv/Hv8U//b+5f7j/sn+1f7J/t7+9f74/jD/Lf9K/2P/d/93/37/nf++/9X/8P8UACUAOQA0AEgAPgA8ADcARQBgAGoAcQBrAH8AjgCSAKYArwCjAJQAkAB0AF8AMAAOAPb/1P/U/9b/zf+2/6T/tP+v/6D/jv+S/63/s/+2/8v/0v/Q/9n/4v/j/9z/zf/h//H/8/8LABUAIQBFAFkAcQBtAH4AkwCvANMA3gDXAOQA8ADbAMcAnwCWAJgAfgB1AGIARAAsAPv/2f/U/5P/fv9e/yr/D//z/tD+rv6b/n3+hP6T/or+nv62/tz+7P4T/yf/P/92/4T/xf/L/9D/5/8AAB4AMQBHAEsAXgBeAGsAaQBuAHYAmQCvAMgAxADgAOcA7AAZARUBIgEbAQgB8wDxAOQA8wDiANcAyQCxALgAhgCBAIYAbwBpAHYAYwBLACQA/v/n/8b/yP+9/5T/f/9q/0T/Mf8i/yX/Lf8K/wf///7s/uj+6P4B/wT/CP89/1n/Zv99/5z/s//M/9z/5v/h//r/IAA3AGMAdACKAJcAgwB3AFgAVQBiAFQAZgB4AGcAUAA9ACsAJgAiAPz////1/9f/0v+5/8z/0P/D/8//z//H/8n/0v/I/9z/6f/q/wcAEAACABAAEAAgAAwABwARAAQACAAIABsAIwAZABEAGAABAN7/0f/R/97/3f/Y/9z/5//j//H/DQAdACEAJQAoAD0ASgBlAHQAZwBkAHYAcQBoAGwAVABRAFIAWQBSAEQALgA2ACoADwAHAPD/+f/2/wwADAACAPr/9f/j/8j/of+N/5f/gv+F/4f/av9l/1z/Sv8//zT/Nv9A/0D/Y/91/3r/pv/X/+r/8v/9/wsADwARABQAHgA2AFMAUwBaAGgAbQB4AG0AcgCDAH0AmACxALQAnAClAMcAtwC0ALQArQCrALcAsQCrAKQAlgCeAH8AcgBUAC8AJwAZAAYA+P/H/5v/lP99/3z/dP9V/0j/OP85/zX/Jf85/0b/SP9R/1T/Wf9A/1j/bv+A/3X/gf+R/5v/rv+j/7D/r/+6/7P/uP+6/7n/xf/b//7///8OAAUADAAIAAEAAQAAABYAIgAwADYASABWAE4ARQA5AD8AJgAXABoALQA9ADMANABHAEkARQBTAFMAZgBfAEgASgBUAFkAXABZAFEAXgBDAEgASgBKAEYARgBTAFwAUgA2ADgAFgACAP///v/n/8f/xv+6/8X/vf+4/8T/x//M/8X/zf/n/87/zf/b/+P/2v/M/8T/tv+v/73/2P/U/9D/0//Y/9v/3//u/+//+f/3/xYAEQASACIAEwAfAC8AFgAcACIADwAXABkAIwAcABcAAwDz/wEADAARAA4AHQAcABYAEQACAA8AIQAwAD0APwBZAEsAWgBkAGwAfQBqAF4AXwBWAD4AUwBIAEUASAAzACIABwDy/9//4//E/7r/pv+V/3j/Wf9Z/1D/U/84/yP/Kv8Z/yj/Nv8//0v/Sv9f/23/iP+W/6H/nf+i/7r/vP/k/9b/4//7/wcAIgAyACoAPABHAEkAaQBsAHkAiwCjALQAuwDRANQA2QDZANgAxACpAKMAkwB4AIsAlQB7AGoAaABOADYAKwAsAD4AOgAwAC4AHQATABwACAAMAOv/1f/V/7n/rP+g/4v/kP+Y/4L/e/9f/1b/V/9S/3T/cf9f/3L/Y/9x/2r/ZP+D/4r/k/+R/4z/kv+Y/6n/v/+9/9T/8//o//n/AwAMABsAHgAaABsAKAAoAEoAXAByAI0AjgCjAK4AqQC4AM8AwQDGALYApgClAKQAngCPAJ8AkwB4AGEASQA/AEYANwAjADAAEQAOAOf/2f/J/6H/tf+k/5P/g/9n/1H/S/9C/1H/Yv9S/2X/Yf9a/2f/bv+K/4r/ev+V/53/mv+x/8j/8P////v/IwAdACAAQwBXAGwAbwBxAGcAVwBNAEsAQwBBAE4APwA8AEAAQAA6ADsASABWAFMAXgBOAEkAXQBLAEoANAAsAB8AEwAJAAUADgD7/wIA8//0/+z/7v/m/9T/3P/F/7L/t/+w/7D/q/+y/8H/yP/P/+D/4//k/+7/+f8CAA4AEQApACMAKwAzACIAIQAgABEA+v/7//L/+P/+/+3/3v/a/+P/2//b/9L/3v/Z/9T/4v/Q/8D/s//A/8P/wP/B/73/v/+//8n/2v/k/+z//P/5/wgAEwAbAC8AOgBSAFUAQQBHADIALgAsADMANAAeABIACQALAPf/7P/f/+D/3/++/7j/vv+5/7//uf/f//D/2f/+/wAAAAD6//r/CgAQABAAIgAiABsAHAAcACMAIQAaACAAKAAcABcAHQAgAB4ADgAYABwAIAA0ADYAVABZAEMAPgAwACsAJAAcABIACQD9//H/2v/M/7H/tf+8/7n/vP/F/9v/1//f/+f/+f/o//3/GwAVAAwACQAQAAIADQD//wIA+//l/wAABQAQAB0AIwAkABQAFwAmACkAOQA4ACcAMAAWABQACwD+//3/8P/h/+L/0v/F/+b/7////wcAFAAlAB0AEwAVACYANwAxACYAPgA+ADsAPwBGADsANAAoABAAEQAMAAIADgAEAAMA///k/+L/w/+0/6j/lP+P/4r/o/+a/5X/lv+g/7v/xf+3/7//u/+4/7f/sP+3/73/xP+4/8n/zv/K/97/6f/5/wMACwD2/xAAHAAXACMADAAHABMADgAUADMATABQAFQATQBeAF8AWABKADYASwBIAE8ATAA+AE0ASwBNAFYAQABBAE8ARQBWADwALgAxACcALAApACIAHAAPAPz/7v/5/+T/7f/1/+r/4f/n/9r/zP/F/8D/wP+w/63/nf+m/6H/mP9//4v/oP+O/57/r/+x/5v/yP/E/8j/4P/k/wsACAAOABMA//8KABIADwATABsAIQAaABwAIgATAAkACgAHABMACwALABUAEQArADAALwA5ADoARwBNAEcATQBsAGoAdwCVAH8AhAB6AHcAgQB6AIsAhgCEAIMAcwB0AG4AXgA6ADYAHwABAPz/6P/X/7P/kP9//3D/Yv9Q/0j/Vv9a/0v/ZP9e/1T/af9x/3b/df9p/23/d/+M/4z/oP+n/6T/tv+0/8X/2f/t/w4AGQAdADEALQAuADMALgA+AFEARwA/AF4AUABCAEQASgBRAFIATgBiAGoAcgB0AGMAZQBUADsAQAA2ABoAGAAXABkAFgABAAQAAADz/+X/3P/f/+D/4P/k/9//zf/R/9L/1v/g/7n/t//A/77/s/+8/7L/sv/H/8X/wP/G/9X/4//m/9j/5P/p/+L/7//z//L/9//+//n///8KABQAGAAnACQAHgAhAC0AKAAkACcAKAAbACEAGAAdACAACAAaABgAHAAlABcAIAArADAAJgAXACAAKQAsADcALwAuAB4AFgD///b/6P/j/87/vP/F/7//sf+y/63/rP/A/8f/yP/O/8v/2f/h/+v//P/3/wQAAgASADAAGAAeACYAKQAzAC4ALwAxADcAMgAlADYAJQApADYAQgBKAFgAWgBTAFUARwBDADkAOAA3ABoAAwD+//P/+//r/9X/y/+6/7H/sP+b/5b/o/+b/6f/tP++/7r/w//P/87/xf/R/8//yf/X/+f/8v/4/wQABwADAAQA+v/8/wwADQD+/wAAAAAFAAAACgADAPr/8f/3//n/7f8BAAYAGQAXABgADgAEAA0ACgARAA0ACgALAA4ABAAYABkAHgAjACgAKQAqACAAIQAnADMANgA/AE8AOwA5ADIANQA6AEEAKQArACQAGwAbAAMACQD6/+v/6P/H/7X/r/+W/6L/rv+k/6v/uP+r/7D/s//A/83/2//A/93/6P/E/97/z//k//P/0f/a/9v/3f/n/9z//f/9//P/DwAOAAsAGAAZAAYAEgAHAAsABQAUACQAGwArADAAIwAnABIAFgAnACkAJgAvAC0AHgAVABIAHQAeADsAPwA5AEsAOwA4ADEAOABDAEUALQAgABIACAD2/+H/6f/e/9//4//n/+b/5P/q//L/+P/n//D/2P/S/9D/zP/Q/8H/w//I/7X/qP+p/6n/uf/D/7n/yP/T/8b/vv/G/8//5//l/+3//f/w//f/8P/8/wQA9f8TABUAIQA2ADYAXgBpAGYAfQCMAI0AhgCGAIMAhACDAJMAkAB9AHQAZABiAGAAWAA/AC4ALAAMABIADgD4/+T/2P/K/7//tP+U/5n/nP+H/47/hf96/3v/f/+O/4r/lf+W/5P/jv+I/4L/iv+g/6D/sP+p/7f/uv/E/+n///8AAAMADgAKABEAFgAiAC0AKQAsACsANAAjACMAKAAyAD4ANQAyACMAIQAmACcAJAAtADgALAAbAAcAFgAZABIACAAAAPn/6v/q/+D/6P/l/+H/5f/r//v/AgAPAA8AFgARACgAHQAlADIAIQAtACQAJwApACgACwD9/wMA+f8FABEAGQAHAPf/AAD4/wUAGAARAP//+//+//D/8P/q/+n/4P/e/+b/3f/p/9n/6P/i/8//6v/l/+3/8v/2//r/BgANAAUA/v8AAPT/6/8IAAsAAwAFAA4A/v8AAA4ADQAUABMACwD4//b/7//4////AQD9//T/+P/o/9r/3//6/woABQARABIADwAHAAUAGgAMAAAA/f/2/+7/3f/X/97/6//n//D/+//6//b/AwD4//D/4f/t//n/6P/+/w0AHwA1ACkAPQAyADIATABPAFAANABIAFkAQwBGADQAMwAwAB8AFQAAAPj/5P/W/9//1v/u/9j/x//M/8b/1f+6/7L/ov+d/6//r/+0/6r/tf/F/8z/yv/M/9f/2P/f//r///8GAA8AIgAqADIAOgA3AEMAOQAzAEIATABTAEYATABAAC8AJgAdAB0AJQAxACMAHAAoABwAEgAgABkAAgAiACEAGgAZACQAJQAUABkADQD+//f/6v/w/+v/6f/t/9z/6P/g/+b/4f/Z/8b/1f/p/+T/8//i/+H/0//T/9z/0v/I/8b/tP+8/8X/uP/B/8P/xP/U/9L/1//W/87/7v////7/+f/5//z/BwAOAAwAEQAKABUACwAQABQABwAeABgAHAA4AC0AJgAnACAAEQADAPr/AwDz/+D/7f/o/+H/7v/9//v/9v/3//L/6v/i/+D/7P/r/+X/AQACAPr/8//w//b/9//p/+L/7f/s//n//P8SABkAEgAmADEASgA/ADkAQgBJAEQASQA8ADgAKAAhACIAHQAaAAUAAgD8//P/5//l/+n/6f/j/+v/3//b/+L/2//s/+//9f/z//v///8BAAIAAQACAP3/BQAGABEAHQAOABYAGwAVAAEAAwAIAAQACAAZACoALQAxAB8AHwAqACcAMwAgACgANgAkACYAKwAwACcADQAVAA4AEgABAPX/+f/w/+b/0v/J/8P/xf/F/8H/sv+h/57/n/+h/6T/tv+3/8j/wv/C/8z/0//Z/+n/+v/w/+z/3//k/+v/5//3/wIAFQASAAUABAAJABIAEgAVABIABwAJAAAACgAjABoALwAuACMAIgAVACIAGwAbAAsAIQAdAA0AAgD///z/5v/u/+L/3f/Q/8X/vv+3/8n/wv/G/8P/wP+5/8z/1P/b/9z/0f/k/+X/5f/3//P/+v/0//3/EgAdAAgAEQAZACsANQAhACkAJAA1ACgAJwAnACEAFQAHAB4AKQAeABgAIQAoADkAOQA0ACQAGQAXABoAHgANAAAACAARAPf/AAD//+3/8v/5/wQA/P/9/+//CAAWAAEAGgArACgANgBBADsASgBEAEEANgAmACEADAAVAAgA7f/i//X/8f/r/+n/6f/q/87/0f/O/8P/xv/G/73/tP+y/7n/q/+Y/8D/vv/B/9r/y//P/87/0v/h//r/GAAQACMANAA4ADcARAA2AC8APwA2ADgANgA1ADgANAA0ACQAKQAjABMADAD6/wgA+v8MAAUA6//0/+X//P/q//P/8v/y//j/7//1//T/7f/0/wMAAwAEAAoABwAKABEAHAAfAB8AEwADAAAAAADx/+L/6P/k/+//+v/r/+X/3//g/+3/8v/h/+b/3//j/+z/5v/m/+3/7v/v//n/+P/z/wcAHAARAAcADgALABwAKwAkACAAHwAjACMAHwAmABMAEAANAPX/+v8QAAAA6/8BAAAA+P/l/+D/1P/J/9H/y//L/9D/yP+3/8X/vf+4/7D/zf/b/8D/w//N/9b/1P/q//v/AwD8//X//P/7/wIA9v8MABIADQAGAAQABgAJAB4AJQAWAA8AGAAaABsAEgAEABwAHQATADIAOAAbACcAPAAvADcAMwAyADwAFwAfAA0AAQAHAOz/+//3/+H/7f/2//r//P8CAPj/8//o/+b/8//4/+b/4P/s//P/AAAlADgAIQAkADMAKgAqACkAFAAXABQAEQATABQADgALAAwADAD8//D/9//t//X/+/////r/BwAGAPL/+/8AAAMA/v8DAAYABgAHAAUABgAAAPn/7f/o/+D/4P/S/9b/1//X/8X/x//d/93/1f/T/8D/uf/T/9L/3//S/8n/4P/t/+j/3f8AABAA/P8FAAsABwD9/xEAJgAPABIADwAgADwANgA8ADMAJwA0ACsAKAAaAPv/9P8AAAsACgDv//n/9v/y//v//P8FAPb/+f8BAPf//v8XAAYAGAAdAPX/AAD8/wAAAQAOABUAFwAGAAkAHwAaABwAGQAUABEA+//s/wEA+v/2/+7/4v/x/9v/3v/l/+L/4P/P/9n/5f/i//f/+//2/wgAHAAhABsAEgAYABIAGAAdABoALgAwACoAHgAbABMACQD9/wIABgAHABUADwAaABwADAAEAA8A+f/x/+z/5f/K/8j/zf/d/8r/vv/U/7r/wv/I/9X/0v/S/9v/4f/6//j///8KAAIAAgALAAUAEQAWABQAJwA0ADsALQA5AEcAOQA9AC0AIwAiAB8AIAAdABQAHgAiAAIA9P/7/+r/4v/v/+n/5v/l/93/2f/Y/+D/7//7/xcAHQAMABMACgAFABQAFgASAAkA9/8IAAcA+f8CAOj/7f/v/9//8f/V/9X/6v/r/+3/6f/O//P/5v/S/+r/0P/0/+j/4v8CAO7//v8KAAMAEgAQAA8AHAAMAAUACAAMABIAAQD5/wgAAAD4//L/7//q/+j/0f/L/9j/4v/m/+r/EwAGAPn/+v8GABUAGgAdACIAJQAQABcAFAAZABkAHQAdAB4ALgAkACAAFAAVAB0AHAARAA8AEQD///X/8/8CAPr//P/5/xIABQDs//H/7v8BAAAACQARAA0A9v8AAAMACQAGAAgAFgD2//L/5f/v/+L/5v/1//L/5v/g/9v/yf/c/+D/1P/T/+//7f/q/9v/2v/Y/8z/2//Y/+f/8P/6/wYABgD7/wIA+f8DAAkA/f8dABsAFQA1ADsAMQApADgAOAAvAC8ALQAsABUABQD6/wQA+P/m/+X/3f/g/93/4f/i/9v/1P/r/9r/5P/0/+P/+/8AAAAACgAWAA0ACgAPAB8AIQAiADAAHwA0ACcAMgA8ACwANwArACMAIQAjABMAFQAgACQAHgAKAPr/8/////T/2v/V/9n/v/+6/7f/wv/W/8z/xP/Y/9X/1v/Z/+L//f/u/+n/DwAMAA8AKgAkACMAFwAaACEADAAyACQAFwAhAA8ACQAMAAIAAAAMAP7/BQADAP7//f8MABEAFwAeABEAHgAZAAoAAAAIAAAABwATAP3/+f/5/+z////t/+D/3//h/+n/3P/Y/+j/4P/t//P/9//+//7/AwD+/wAA7f8FAPz/9v8DAPD/7v/m//X/+v8DAAYAAgAAAA4A8f/v//n/7f/z//X//P/5/+v/7/8EAAIA9//x//L/AQD///j/GQADABIAJwATAEIAQQBBAEwAMAAyADkAIwA8AEAAJgA0ADgAOQAtACEAIQAvACUACwAcAAUA9/8KABAA9f/Y/+3/5v/g/+L/zv/R/77/uf/L/8v/sv/C/9L/0P/a/+T/9v/t/+L//P8IAPH/5P/2/+//+f8EAPX/5//v//T/5f/r/+f/1P/u//v/6//z/woA8v/9//7/6//2//D/AwD6//f/AQD8/wYABwAKAAgAAAAEAAkACAAHABAAFAAQACIAJgAdABIAGAAKAAMADgALAAkAAQD5////+P/x/+z/8v8JAAsAAADq/+f/4//f/+X/6//X/8n/1//Q/+7/9P/e/wAABgD3//r/BgAHAPr/AwAPAPn/9f8SAAgAHAAeAB4AKwAkABwAEwAcAA0AFgAfAA8AFQAJAA0ADAD+//T/8P8NABcAAwD3//f/BwD//wAADgANAA4AFQAuACwAKAArABoAJwAvACEAIAAfABsAJQAQAA4ADwADAPj//v/6//n/7v/f/9//4f/Y/8D/1v/Q/9b/5P/X/9b/zv/U/97/8P/t/+v/3//w/wAA9//8/wMAEQAaABAACwAaABMAFAAnAB0AIQAdABYAHQAcAA4AFgAOAAkACgD4/97/z//a/+D/yP/M/9H/xv+9/7r/xv/Q/9D/0//a/+P/3//h//T/8P/3//T/8f/q/+j/AgD7/wQAAgAEAAYABAANAP7/AAAEAAMAAAD4/woA/P///xEABQAHABgACwAeACMAHQAeAB8AJwASABoAIAAiABsADQAOABQAFwAQACQADQAQABoADAAVAAQAAAAKAA8AEwAWABgACgD3/xAAFQADAAcA+v/7//v/BQACAAoAEAAQAAgAAQANAPj/8v8BAP7/8//9//v/9P/2//D/6f/i/+//DQAHAA8ADwAFAAEACAASAAIAAgAFABQABQANABMADgAKAPv//f/q/9v/3v/q/9//4P/a/+3/8P/O/9b/2P/j/+P/2P/Y/9b/3f/o//T///8BAAUAFAABAPn///8EAAkA8v/3//b/+f/r//7/AwACABIADAAeAAAA7//4//f/CQAfAA4A6v/s//j/7//x//z/BAATABMAHwAKAAMACAAHABIAGAAfACUAIwAQAAgADwAKABAAEAAgACgAIQAnAA0AAAABAAAA+//7//z/7f/6//L/4//s/+X/yf/V/+H/3f/R/9f/6//f/9T/2f/q/+r/AAAJAP3/9f/8////9P8DABEAEQAWADAAIwAUABUADwAUACAAGgAOACEAKAAzACwAIgAMAPf/8f/x/wUA8P/1//H/2v/l/+b/1P/g/9//zv/j/9n/4v/u/+f/7v/t//X/9P/5//f/AQAEAAsADAAMABUAJQAlABwAFQABAAgAAQADAPf/8P8DAAUA9f/u//b/8P8AAPf/8v/z//P/9//1//H/+v8AAA4AHgAWAAMABAAIABYAKAAUACAADgDp//f/+v/x//P/7v/v//b/BADv/+//6v/o//H/zf/3//z/7P/u/+f/7P/a/9f/6P/x////BgD6/xMAGAAbABoAGgAtAC8ANAAxACcAHQAlAC4AGwARABMAFAAUAAkAHQAQABQAHQAbACkAGQARAAYA/P8AAPn/9//7/wAAAADx//v//P/o/+n/2//o//f/8f/v/+z/+/8AAAcACAD7//n/9f/y//P/9f8AAP7/7f////j/7P/y/+T/7f/3//f/9//x/+X/5P/t//b/DwABAP3////z/wAABQAIAAAABwAVABEAJQAnACoARAA1AD4AQgAuAC8AIwAqACYAMgAsACoAJQAFAAcA+f/t/9r/0f/K/8f/w//A/8P/vf+7/7D/vv++/8X/0v/G/9X/yv/P//b/AwANAA4AFgAUADAAKwAwAC4AJwAtABwAHQAMAA0ACQD9/wgACQAAAPb/5f/T/8v/w//G/8v/xv/R/+T/5v/j/9//6v////n/8f8DAPv/CAALAPr/EAANAAcACAAdACQAFQATAA0ACgAPAA4AEwAmABoAHwAdABoADAAKAAUA7P/q//f/7v/s/+z/2//X/9D/x//S/9P/wf/X/9j/5v/0/+r/BAAKABAACwADAAYABAAFABcAGQAMAA8AHgAjADcAKAAXACAAGAATABMAEQAJABAAIQAgACwAJAAWABYAEwAUABgAFQAmADIAFQAWAAwAGQAhABoAFQASAA0ACAD//+T/8f/n/9n/5P/N/83/zv/P/9j/2P/i/+P/8P/8/+//8/8FAP7/AwATABEAGQAZABoADQADAAEAAgABAP3/BQAAAAoAEwAaACQAJwAdACMAFQAdACIABwAZABgACwARAAkADQARAPv/EwAeAAsACwAAAPr/7//1/wQA+P8AAAAA///9//b/6v/r//n/7P/n/9b/0f/d/9//2f/c/9T/yP/G/8b/wf/B/8j/zP/J/87/0v/Y/9b/3f/P/93/6P/4/wAABwANAOn/+P/z/+r/BwD/////FgAVABMAFwAfACIAIgAjADQALwAiAC8ANAA7AC0ANAAwABkAIQAiAA8ADAAJAAkAHgAKAAsAFAAEAA4AFAAMAPn/9f8CAPb/4//0/97/5//8//D/CgACAAIACwAPACEAHgAVACAAKgAzADoALAAkABkABgAAAPH/3//f/+T/5f/W/+P/8f/W/8T/xP+8/7b/zP/F/9j/9v/y//H/9v/6//7//v/8/wUACwALABAAEAAYACEAKAAqACwAIwAVABAAFAARABMAAQAAAP3/9f/2//j/9f/w//L/3v/1//D/4v/p/+/////4//X/8P/9//D/9/8KABkAJQATADcAOgA4AEMAHwArADsAOQAkACkAJQAeABUAGAAYABMAFAALAAoA7//3/+v/2f/k//n/6v/s/+f/3//7/+b/7f8CAA4AAAD6/woABQADABMA+f/7/wgAEQAPAP7////9//P/5//X/8z/0P/N/8n/0P/f/9r/3v/g/+L/5//l//D/6//o/wQA8//9/x0ACAAHABIAEwAIAPj/7P8DAAkACgARABkAKgAPAA4ADAAMABIAKAAdABwAMQAeACQAGQAWABUAKwAvABgABgAEABMA+v/t//D/1v/i/+P/1P/S/9D/4P/j/9X/y/+//77/uv/D/8L/xv/Q/8z/0v/m//D/5f/z/wsAAQD//xUABAAKACYAHwAzAE0ARwBIADUAMgA9ACwALQAtAEQAMgAvABYABAAVAAAA+/8EAAsABQAAAAgA/f/v/+P/5P/t/+T/8v/j/+n/7//d/+j/7/8EABYADAAOAAgADAAOABQAGQATACcAKwAlABEACwAKABEABQD6//D/8f/p/+z/7//Z/+P/5P/V/8//3v/d/+T/9P/h/9b/6P/h/9j/+//3/+r/8f/3/wwA8v/v//v/9P8LAAAAEgAaABMAFwAXABsAIAAVACYAMQAYABsAHQAXABUAAQAHABAA+f8YABEABwAQAAMAFwAWAAsADQAGAAQAEAANAB4ADgAGABoAGgAEAAwACgAAAPz/8v8GAPv/9f8FAAcAGAAOAPf//v/7//r/BgANAPz/9f/8/+//6v/d/97/zv/W/9r/2v/u/+P/3f/i//H/5v/f/9r/7//3/+b/AAAAAPf/6v/1//v/7f/v/wEA+//0//v/7f8AAA4ACAALAP3/BwD8//P/AAD6/wgA//8GAAAA9P8BAAoAFAD6/w4AGAAgAB0AHwApABcADQAkABcAEQAkAA8AFAD9//j//v/t/wgA/P/z//L/8/8CAPD/6/////v/4v/z//z/+f8NAPT/9v8CAPn/CQAKAA8AHQAUACcAJgAfABkAEwAFAAIAAADd/+7/0//T/+j/3//g/9n/4v/l/+3/1f/t//X//v8QAPz/EgAeACIANQAzADMANAAaACEAJAAaABwAIAAaABwAOAAjACQAGQD9/wEAEgARAAIAEQAeAAMA+/8LAA8AAAAYACAAAAD9/w0AAAD4/wYAFwAQAAwAHwAQAPz/AwDw//j/9P/j//v/5P/o/+v/1f/Z/+X/5v/E/8P/zP/Z/8r/2f/y/+b/+//r//f/DADm//f/7f/T//H/CAANABkAFQAlAD0AJwAnADMAIwAkABkAIAAoACkALwAtACcAGAAcABkAEAD+/wQABAAJAP3/5v8AAN7/0f/Z/8r/yv/U/8P/1v/T/83/5P/d/9r/8f/p/9z/5v/3//z/9P/5//L/4v/p//X/9P8BAAUA//8UAAEA8P8AAPf/8v8hABAADwAaABsAGAD5/wwAEQATAAEA+v8HAAgACwAAAAwAFAAiACUAHQAKAAgACwADABUAHQAUABYAGgAeABgAIQAMAPz/CAAWABMA9//j//H/4//U/+n/9v/r/+//+v/q/+3/7//m/+7/9P8AAAYA9P/4/w4AEwAFAAwADAAAAAcA///x/+//AAANAA0A9//z//f/CgAHAO3/+v/8//j/9//6/wwAFgASAA0AAAAAAOz/4f/u//7/AwAMABIA7/8LAPz/CwACAOb/HwD0/+b/+/8LABcA7v/2//v/9v/v/xQA/v/s/wsAEgAFAPz/IAARAB0AGQAbADIAFQAEAAsABAABABIACAAGAP7//f/4//T/CgDt/9b/9v/y//b/9f/9//b//v8MAAQA+f8EAA4AAAD+/wsADQAcAC4AQABJADwAUwA2AA0AIQAnACEAEQAmADUAHQANAAcA/v/i/9j/7v/B/7H/6P/g/+//AADn/+f/7P/K/77/zf/n/+v/2P/q//X/CgAGAN//4P8CAO3/7f/e/+3/8f/7/wUACgAuACkALAAlADIAIgACADEAMQAcACAAEQAeACUALwARAPv/BgD7/+r/AAAAAPf/AgDm/wQA4P/X//H/AgAPAP7/BwAEAP//7/8AAA4AFwAWAPX/EAABAPT/7P/r/wQA8P/y/9z/1//u/9X/2P/z/+3/5v/0//P/AQD5/+j////1/+7//P8SAB0AHgAEAN7/2f8HABMA5P/y//H/+P////z/9P/f/+z/AAANAPz/AAD1/97/8//z//v/CAARABAAFAACABQA/f8FABYA+f8BAAQACwAhAB8AFQAXAAQAGADm/+b/+f8AABEA8f8jAAMA7P/8/wAABAAOAB8AEgAAAPf/9v/6/xEA/P/y/wUA+f/1/+X/5v8SAAgABQAiAAcADAAWAAwA9v8BAAEABwAHAAoARAAkAAIAAwAdABEA9////xUACAD8/ycAFQAUABsADgAKAAAABADn/wUAFwDq/xQAHwANAAAA8v8TAB0A/P8UAA8A///8/wAAEgALAA4A/f/n/9X/3P/Q/93/1v/1/xkA5f8CAPL/uf/q/9z/2P/4/9f/CADX/+//IQDw//v/DQAHAOr/7P/k//z/2//r/x0A6/8AADUA/v/1/ykABAAbABUAKQAXAAYAGQAeADAAQQAjAPb/HwDn/+3/+/8BAAAArP/b////xP/g/wAA0v/k/+v/5f/2/+j/BQA0ABQAx//h/+r/AgAxABQARQA3AA4AOAAjACoAXwAwACoAKgDs/yIAEADm/yAAGAAAAMn/3f+r/9P/AADa/+7/7v/8/9j/3P/h/wMA+f/E/0UA/f+n/w0A7/8NACMA//8aABoA/f/h/wsAFwAmABMAEQAnAP3/BADt//v/6f/l//r/xv/c/8v/3v8JAAAA4//7/xIA///Q/+L/DAD2/+T/FwDz/9r/BQDe//b/AwDV/wAAHwAKAPf/CAAiAOz/FwBRAAIAEAA5ACsAUwA8AC0AOgAYABsAMgAWADIAMAAHADgA/v/m/+r/AgD9/+P/2P/r//D/uf/O//L/2v+0//b//P/B/8H/8f/M//j/IACu/y8AYwCW/9v/SwC3/8X/XgApAOj//P/6//v//v8cAOb/0f/v/9P/DAA3APj/EwAxAAkAIgAzAAoABAAkAAgA7P/8/xkANgDh/xgAcQAmAOn/EAA+ABwAEAAEAPT/4/8fAP3/+f8uAN3/5P8QAMH/y/8XAL7/EQAAAMX/7f/l/zEA4f+3/yQAFQCF/+7/FwCv/wIAIAAbANH/DQA2AOX/3f/z/+H/AgALAPb/DADa//7/IgAGAO//GQAXAO//7P/u/y8A6P/Y/wYA/P/l/wUAAgDY/wAA6//4/+3/4v8TAAAA8P/7//f/2/8dAA0A/P8VADMAKwD5/yMAIQDm/xIAJwD5/zUAMgAVAP7/EAAVABsA7v/w/yIA+v8OAPb/5//x/wkAGQATAAAALAABANX/IgD3/+b/FADk/8b/tP8JAMb/mP8GANz/6P+0//f/CwC+/+7/9//6//v/8f/N/xEAAgDX/0IAQADu/xAAWgApANT/EQAlAPL/6/8lAFEA7v8AADQAGgDo/+f/EgDF/7r/3P/k/9D/FQDY/+n/GADU/wMA5//t/wsAPQARACcAIQBDACoAAwBeADQAGwAnAEQADwASAAUAHwAHAAEA+P/n/xkA8P8NAPH/BQASANL/7v8zAO3/8/8hAPz/GABEABUA5P8GAOL/KADz/83/NAASAO//3v8GAOf/oP/u/yYA5//l/xcA///l/83/1f/9/8b/7v8aAPb/JwDa//7/BwAEACcAFABcAOj/AABGABgAGwAwAFwAPwD5/wwANwD///r/DwBDAOT/2f8xAPn/qv/I/x0Ayf/w////o//r/zoA3P/i//b/CQAnAKH//P8/AAsAyv8PAEEA9//s/wwAOQC1/xcAKADi/xsAx/8qACUA5/9FAAsAQQBJAPj/HQD//+j/IgArAOn/8f8YAOf/lv/u/xYAuP+2/+//rf/b/9H/xf8mAJX/yP8EAKr/of8SAAQA5f/F/wUARACc/woA1v8nAD4AuP84ABUADgAIAEYAOgAbAB0AJQD4/wIAMADl/wkAKwBJAND/CQBXALP/0P8YAFEAGgCf/2cAXACN/yUAXgDG/xgAJQAAAAcA2/8GABQA9/8oAC0ACQDy////PQC+/+D/OwDX/73/JQDU/8b/AADS/+n//P8FAIz/SgCW/+r/VAA4/0kAu/8dAB4At/9rAM3/3/9mAB4ABgApADEA6P/t/+MA2f/q/zwAxP9/AFr/TAClAPr+YwGU//r/zwAR/lwBP/8k/54Amf68AJf/k/9qACf/vQCH/1D/dAH8/kgASwCL/+kAqv74AEIA1f+9ABMAPQDM/+//9v8YAJX/OACf/2wAhgAdAM3/mv/kAMb/5f8YADIA5f8wAIIA9v8QAA4AgQBh/1MA6v9p/+z/8f8KAGn/EgD8/4r/8f/6/43/4//E/w4ADQB2//b/VACe/9n/NQDP/7v//P8BAMb/DAAmAAQA8f+UAAUAJwDV/1wAmQBq/94AEgB//9EAUQB3/2AASACz/9z/WwBTAFX/UgA/ANn/qP/0/4MASf/q/7UAJwDN/3wAqADN/8n/MQA4APf/MAAIADEAlQAVAFwAKADp/ygArgAP/y4A0gDi/kkBWP8QAHAAa/5dASv/3v9AAWL+yQDNAE3+qwEy/xUAbwFZ/jQBTv9+/5IA9f5OAEwAnv93AMX/uv+dAGP/JQAeADf/3wCi/xcAlP8FAFIAtP+uADb/UADF/5YATf8qACUALgCKAEv/9QBs/1UA9v8KAB4A4f8AAGMAr/92AIQAZv/qAJX/KgA2////PAAx/1YA+P9UAAv/IQDA/wEAWf9CALMACv8LAAMAeQCJ/4EAmAASAAEA3f83AJQAB/+GAM3/yP9BAOL/ogBW/4oAi//VAOr/p/+t/3EA9v/P/zwA1/8tALb/EAFb/5sAtv8UAMUAWv++/ycA6/9YAIb/VgDTAHf/FgAjAO//df9TAFMA7v8WAGIAOQD5/w8A2v8oABgADAAzAMX/+f+GAEQAHAClAFQARwDe/zYAPQDv/w4AEwDY/wAA6f8JAB0AFP8AALL/m/+S/9f/dP9H/2YAS/+Y/9oA0/6I/6QAw/6UAM3/Mv/rAAr/VwA3AAT/TADK/0gAkgAq/ycAoADK/5L/RAAxAC//DwB2AMH/y//a/zEAfQAn/9oAGQDO/+H/tQBqABb/1QBnAMr/GgBzAH//sQC7AOr///9xAGcAz/9qAO3/VQDn/6b/1wBf/+3/yP/p/wcARP9TAJT/5f4KADEA0/7PAKcAg/8zAGwAbAD6/hkA3wBr/x0AHQA6AG8AuQDm/zAAQgBJAOcA//6nAK7/s/80ARr///+2AGz/vv+BAND+HwBb/zv/OwA2/rAAJQCf/lwBi//6/lQBZP2RAA4Bqf3RAtb+n/+3AUL+ewG9/3j/WgGO/iIAHQEZ/3AAOAGx/9//OgH8/xAA4v9wANj//P85AOn/PQBSAG4AUf+LAJz/CQCJAKT/CADFAAz/JACeAQn+wQCUATj+AAD0AIH/BQA6AAUA1//0/6wA8f7PAAYA7f58AKsAAABXANH/6f95AID+2gCu/qz/bgAk/zkA/f6r/2QAY/9Z/3wA8f9F/1kALQBp/4IAJQB5AA0BGABG/xEAxgAjAC8ArP8VAKEA+f8UAXkA3v5UALkAOgA//nEA9wB1/v4B7P+M/pABT/+K/0gBof2MAIYAuP/V/6L+IwBa/60AzQBc/lAAIAJU/hMBSABA/6YBLAACAFgAfAGHAKj+yAE8AYL+5wD6/0sAY/6hANMApP4LAGUAx//A/jEAkv7N/yj/BQA2/1/+qgEs/93+EwOf/lj+DQJ9/kkAoP9O/8IBq//TAJ3/fP9yAfr+OwF8/5P/MQDb/54A7ACg/tb/yQGf/voAev/3/jX/rgGp//T+jQDkAEb/AwBMAP//EwAKAMYAVf66Ae/+QgEt/4b/BwKc/zQAC/+0/lAASADv/SwCg/7F/ZUDjf6W/5sBcv1sAv/+Of4OASP/lACjAc0BKgA4AJ7/CwLQ/u0Awv/h/1gBCv8OAor+KACxAWwAoP8Z/0YAggBL/Jj/rQKQ/RP/RgHW/iv/KgCP/vL/b/9Y//b+DP8V/2sBFQBKAAYBKv7eAZAA1AAEAIz/AQBjAPgAoQEmAC8AnwEpANYCbP85/n7/swHX/jL+aQLEAEL+VQDhAYr/Lf+Q/g8Bsf6b/l0Bm/9dAXQAzP/2AbD+P/93/30CWwFr/A0BFQDs/3wAEgCq/zMBlf8N/iwBmf+P/UQAkgHE/SYBeQCS/jgBaf+b/ssAbwBy/ZgAYAA+/kYCkv+//u4Bgv/D/lwCCgA7/PMBsQJ//uEACAD1/1gCwP5mAAkBbgA1/38BKAFR/yUBsf/PAtn/P/8yANL+qwDZ/Sr/+wLo/jD++v8v/1EA1v/3+8D9VwHA/ev/hQAG/WoBxwFzAFMBZf0mAMIBV/1RAG8CIf60/88DhADr/lMAxP0P/twCgwBO/qn/tP4AA1UCTf3IAJ7///80AMD+twBx/7T/CgGtAbAAAv9QAd4AYv04AJkA2v6P/tUBlAB4AQ0B7v37AaEAAv4iANsA0f35/zgCPwEz/gcAEgKF//P+uP9S/1z/cAB8AKwAJwA6AJf/SgF0ANH+dP9BAYsAqf4dACwBcgDeANz/tP19AFYA1f+NALz/Av9KAd7+gP8dAN7+LgJc/s3/Qf8DARz+Mf+gA239GQCQARf/4P60/+D++wJD/2wA9QCM/W8DqP5DAKcALv7gAPv/gwCP/x/+xQAGANr+uQCq/Z8AJABD/nsDS/4Q/3ECOf4SAE8CSf64ADMC2f2sASgAbP+YALn+RAA/AK4Af/8d/y0BOwEo/tYB4f11/uABBP2oABb+cP98AhD/sgDC/2//F/6R/zoBe/9G/kUALwKB/4ECo/5M/+gASv8UAfj/2v+d/vMArABFAAcB0v/RAFgAMgC1/6H+LwDp/kAAiQKv/gAAFQCtAAYBOf79/0AA6/85ABf/jABx/jUACAJ3AB7/rQApAMr+LgHJAIP9A/0DAkEAEwC//6AABgATADMBGf8WACkAj/5D//EALgKc/wn+sQJdAgT8agBBAOH8DwE3ADIA9QCpADAAFgL0/VH+2gGXAZIA7/1WAM8BTwBT/0z+h/5UATIAQv0tAU8AS/5wAMQA6P3S/1kA6f3rAhv+Q/12AEwA9gGy/8b99wGAAOD/bQK+AYb/xf6DAegBcf9r/kADsQDs/loBrQK9/qD+oP+P/18Ao/5UADABn/+T/4r/mP9IAFH/Bf8l/1f+Cf9j/y0BKwCAALn/UP7ZAxL+BPxYAAT+4AIbAQwBJgQPAKf+pgGQAZoAVv+f/I4Cif7uANkBjv42APMAY/4EAb785PsGA4z+HgK2/+D/awIm/twAGQJv/YUAYACe/WMC6v4BAL4AYv9wAtH+cwBRAVAAUf5YAIP/8gHD/gP/awGQAFQCYP0T/gf/4wAGAAoA5v1q/2YA2QD7AXP/+v0m/0oEKwGS/dYAOv3m/wEC3P6QAIr/nAHj/yYBJwAO/24AUP3aABIAx/96A7v+Uvz1AZ4Btv+l/6oAXgNQ/m39gwFT/03+ZQEWA+ABEAFJAXH/bv3M/3MAav8B/0X+lgHNAJX/dACgAMD/oAB7/0b/8/wpAA4BEf34Aj7+ywGoAT7/igCU/mr+Rf5W/qz+Ff8OAJMBcf9OAh8CiP9DAGP+oADaAK38CQIUAJ0BHwLPAAoA1QEl/iz91gDt+vQBdAAJATQB+/1XAekAVgCn/iACwv9o/83/EP5ZAAr/5AE4/67//ALh/879G/7N/wr+tf97AY/+Gv6dAVoEZQEtAML+FACrAOv9/wF+/53+rQLAAdgAff+P/+oArv67/6wBSgAG/4H/0v9bARv+bP6QAJb/mwF0/jwAo/9F/0oAXP6+/jsAyv9h/pMBfAJFANP/aQB6/hz/RQHa/q7+VACiADsB6wEGADn+SgCBADEAqf9WAA8CRwDoAfMAu/+V/x/+cwANAeb+w//+AEgAPABf/zQAIP8I/5v/JP7e/gEAewB5ALv//P2a/60ARwDfAX4B3v7J/WT+0P8/AUUBigAFAaEAnwHQAOf+Bf99/54BTQD0/1YA3gFKADT+DwC4ACQAPP9jADP/vf88/+//DgBmACECB/87ARj+7v/XARj9MwBCAAf/XAD8ARD/WwGUAST/tQCU/osAlgDV/Zb/4ACBAL4ADwIlAK7+mP49/kn+EP6EANn9eQBmABYCXAIL/8UAaf3y/kz9QP9pAQX/kAB3ApgARwEoAWv/VP+X/CkALQC1ADEBdwGvAtAAFwETAMP+k/+s/13+IgC5AK8ASACZ/7AAsv8n/4MAcP/f/3v9mf6t/6IBcwL7AQUBvv70ATL/YgFLAMr/ywCBAPwATf/IAEYBtwBa/r//iv6P/gEAc/wcAJ/+MwHAARX+3P6A/r//nf5cAA3+ef+W/8gAFAKxAfD/QP5TAG4AeQBjAHAAXgHn/x8BrwD//bcA4v+/AGIBkwJwAKP/X/72/moA7v7w/owA0wBUAOQAif6p/loAz/9f/sT9df7r/xQBUQHs/5YAZwD7/xABx/7c/l3/+v4uAeAB5AHj/9n/AgD8/8T/sP27/v4ADP9//0MB8f+uAF0ACQCyAE3+Wv7q/u3/LgB/ALkBmwHW/xMAIgAUAPYBqv+Z/z0AZgDj/3P/tgDNAPT+eQD8AIT/Z/9GAGT/MwA4/8P/MQATAHMAx/9BAIYAEADk/9kAFf5Q/zn/rgA4/3b/bQDz/osA0v9O//H+hP4UAA4B9P/UAHn/L//tAXMAXAAxAmD/2f4vAD0CVAGG/+QBWgFn/qf/dwE4AEv/YQDD/5z+gP6U/un99v5rAO3/gACp/y7/zf9t/3wAkP9+/rAAQwHqACUArf5kABgBzP3T/4n/wv1iAEABIQFEAcL/3v3//7H/7P/gAB//AwDKAOMBWQBw/x8Auf9cAHgAUQAZ/i4AlgFxAOAAowELAej9+f6E/7T+Gv4nAEwA2P+DAbD+d/4w/24A8f/z/vL/MwDSAFr/Z//vABcBUQDpAPsChgExAD//uwBqABIA/AAa/zEB/gJiAr//Tf85/qH+9f9f//j/Ev+8/+sA1gG8/1X+ZP5X/1YATQHe/0L+MP8r/6X/yv9j/4j/wACW/7L+Af8vAL0AUgD0/4wASgD5///+2AA6AbYAAgBe/58AB//q/4j/7P+j/gX/wAA/ADv/Iv+e/87+6QBhAML/QABd/+YAr//7/wUBXf8V/7cA//9V/4sAe//JANsA+P8BAK//4ACzAF8ARwD0/8T/rf8VAPcANgIIALQAzv/X/az+qf6XACIA4QGtAAb/qP/u/4D/XP84ALX/fAAGAIv/Ff/t/40AxAB/AOP/IQBp/xj/8/+OADoA6v+pAIAAof8fABL/GwE4AKr/y/+7/xEA6P6f/ycAhP86/hMBM//6/8EB1AAPAvQA3P/1/sz+if8HAd0AWwBMAFgAagBE/0L/Mv9z/10AwP8lACb/lv5H/5L/igBbAVABIQBtAL3/Hf8rANL/kP/l/0UBWwFzAKEA4gDN/3wAwwCE/mH+PQCIAHv/UACpAUUAtP5t/9T/ewBU/7b/Uv/A/wwA4f8NAR7/u/9q/47+l/6jARwB0P/u/9X/aQAEAA8BtP9/AH4AIgDC//X/M/8W/2EB9QA4APn/uP9uAGoAaP9Z/wD/IwAFAKAAYAB0/4f/n/8GASv/0v51/yMAvv/o/gH/9P6i/+H/xgBmAN4A2f85/ycA///W/2IApgFEAcEAFgCrALUAHQDTABIAfAB8AIsA6ABnAC8A0gBcAPv+V/9o/4X/JP8x/5kABgCpADQAwP5S/0j+n/7I/6L/ov8BAGoAyv8f/7L/LAGOAUUAcf/R/7j/bACcAAEAJP8p/93/qP+c/28AQADp/1MAsv9+/1v+MP/Z/7//nv8DALsARAAsAMj/FQC1AHAAGADe/8X+xv9oAL4AIwGrANAA7f/c/54AJQCn/w0Alv8xAD0ARP/n/7j/wwDVACIAvv8p/qr+wf+8/7P/sf+w/5X/JQBTAMb/QwCjAGH/v/+PAMf/zv/3/6IAiQH6AM//YgDk/97/LP+3/tP/jv/3AJ4ARgAfAfkAuADa/yX/If8Y/xj/UABeAZsANgD2AJb/xP7u/w3/E/+p/xEAxf9N/+8ANwHCAFEAVADN/wH/uf9r/1r/UgB4Ae4A8v8OAJb/3P5v/wAAFwDm/17/jP++/zAAAgBoADkAOACgAQYB4f8P/0//FwAdADUAfwAcAJH/8P8VAAIAYQB+AAIAkf+6/0P/EP/F/74AuwCSAKwADACI/8//dP+o/gD/F/8cAN0AAgGHABAAMQD//6L/9v4U/zb/GABtAGgATQCpAPoAGACX/1D/3P8eAAMATf86/ysArgDuAGUAqwAoACv/lf9W/xr/ef+//8T/WwDDAP7/Yf+K//D/oP+a/93/YQCxAKIAUQDk/27/2f5s/34AlgAxAB4AXQBWAA0AfAAZADb/Yf+7/5b/jP/X/x4AfQBuAL0AhgDQ/8L/FQAjABEAxf/O/7X/av9NAC8A6/96AKUAbQC9/z//RP9W//f/qgAtAOv/BwAGAFcAUAC1/xP/O//x//z/HwCIAG0ATQBpAMf/4/5b/3UA9gAZASMBpgD0/9X/QAAFAEf/Zf/I/2f/gP8DAMD/hf9c/wcAQADp/67/Q//z/lv/2f8CANUA5QBGAGcAvgBHAN//jP+U/1cAXABGABoAqv/6/4MAbQBGADEAKAAAAOT/SgDPAJUAwf93/0T//P7z/tb+JP92/3r/nf++/6f/Zv8//7H/sP9Q//b+l/5a/x4AUgB/AJAAXwApAZIB/gCTAOb/yv+7/77/Xf+F/z0AZgD5AAIBxgDq/yv/mf9F/+r+Vf/Y/2MAbQGhAUsBJgFEAMz/2v/G/+T/4f/z/20A6wAfAQ8BogBeABQATP///vX+yP48/woAPwDx/5n/+v+HANT/O//j/r/+1v76/oT/9v9dAKoAUwAUAK4ACwFgAI4A8wBsAA0ARwD7/4X/2/+z/7L/HQA8AF4AlgAjAIL/WP8//1L/9P41/7L/1P8XALAAxQBWAEkAFQDC/67/FQAsAP//HQAuAPn/c/9x//P/DQA/AEwAAQArAKQApQAAABgAVAAkAAcA3P/r/0gAaQBuAFMACQBZAN0AmACXAHsADAC1/03/Xv+t/wYAKwC5/1//j//a/9H/i/8Y/7n+JP+X/3v/rf+6/9P/egD6ANAA4gDHAA4Avf/I/7v/qf+N/6b/uv+6//X/8/8i/+D+nv/y/w0A3f+N/7X/wv85AKQATwDp/1MAewBQAIsAegAeACIA4P98/5r/+v9hADwARgBzAGwAVwAzANz/mP9q/0r/wP8CAGMAuQDrALYAlwByAP3/wf+l/5H/Ov9h/zQAjABkAGwA7f9D/13/W/8+/yb/Af9o//v/dQCcAJAA7ADlAGcAOgAYAM7/pf/N/8P/sf/b/9n/tf9e/3v/uv+Y/23/fv9E/2L/9/8XAMb/cf93/7j//P8kACMAEgDp/9n/8/8tAIgAqgCCAIgAqgBmAM3/yP/d/+H/JwCHALIACwFCAawA8f+Q/5X/nf9x/4T/0f/K/2j/dP/v/+P/xP9TAJIAEgDf/+P/y//+/9n/lv+///D/OQBYAEgAnACkADsABgAeADQALQD8/87/wv8GADsA6/9A/1j/wf+z/9H/4v/B/7r/qP9u/6b/wf+0/x8AKAD4/+n/GgCAAJMAPgDU/zH/Q//R/9b/ev+y//b/1/8NAB0AMABnAGwALADi/2H/Bv9X/4r//f99AHoAYACpAHwAMAD2/5H/ZP8o/yf/ev/D/+3/UwBNAEoAJwCr/4z/ff9F/zX/ff+a/8j/HwA2AMb/ff+M//X/GQA0ACcAkQC+AMwAtwARAAwA/f+MADMBDALmAXYBNwHCAJwAMABdADoAWwAdAPb/bAAhAX8BBwGyAGAAs/8I/8j+Cf8S/8/+xf7c/jj/zf/y/8X/rP9s/8X+Z/6K/uj+Of+Y/8r/KgBfAFEAhABaAEwAMADq/8j/u//g/wQAOADgAHABRQEUAfoAZACz/zr/5f7F/gz/kP/I//z/BABlAKMAcQDj/6P/G/+g/hH/Pv9t/7n//v9zANsAkAAcAND/iP91/2f/wf8NADsAQwAkABIA3//9/1kAmQDUAO4A8wAEAQQB8wDfAJQAgAA4ACwAYgB9AHkAAADm/wAAvv9A/xL/L/+Q/xUASQBbAPf/of+8/7r/tP9r/wb/Uf/b/0AAlgC3AKQAVgD+//D/2P/5/w4AAgAfABIACwAAANL/y/8fADsA7P+q/6T/v/+H/0H/0f7s/lH/s/8XADgAWABWADkAzP9H/wX/Gv84/73/iwC6AL4AwwDDAIIAVgDX/xr/2f4t/67/4/80AI4AyAD0ANgAWgDC/1D/Fv/d/tf++v7m/t7+Kv+F//X/FgDc/5//T/8q/9r+wP4I/3P/o//Q/0AAXQBLAEIASABCADwATQCVABMBWgFcARMBxgA1AOn/5P/x/0kAHAHFAQ8CDQJ0AYYAsP9l/zP/9/7m/mn/BwByAJwAFwB//xH/7P5X/p79qP0T/oD+9v6L/wwAmgDyAFwBcgEyAewAIQDz/z4AbgC+ANwA1QAKAUgBhwGGAScBtwA5AKr/Sv9d/47/w/8yAJgAfAASAKb/L//t/lf+SP7O/kD/rP/h/ywAbABfADsAOgAcAA8AIQAuAG0AuwA4AVsBMgEAAbIAqQC7AHkAHQD4/+z/5f/n/wkABQDY/wAA9f+l/5X/dP+X/9r/7f/c/7D/jf9Z/z//L/82/yH/U/+g/6b/of+L/6n/lv9w/3P/af+b/5v/P/8J/zH/d//L/8j/t/+w/43/aP8b/0H/r/8YAB8Aqv8w/9X+o/7E/vn+IP8z/xj/Jf8Y/xD/I/9F/2H/tv/u/yIAqAAyAYkBgwGuAdUBzQHhAfoB8wFDAuYCfQMqBKgEDAV0BdQFFgbUBUIFkQT/A7wDVwPmAnMCPwLvAWABjwCh/7j+hP08/HP7IvsF+xH7+vqx+mz6CPqi+UD5u/hM+F/4qPjS+Az5KfmU+SP6lvoG+8z7svxJ/fv9d/7k/hT/R/83/6P+AP6Q/XT9mf0K/or+y/76/hb/Gf8K/+H+xP7Q/gf/rP/0ANcCaQWKCGgLvw17D7YQdhGXEaoRsRGqEacRRxHDECEQVA8uDtQMKAtjCVIH7ATYAq8Awf4R/X/7OPrP+Ez38fWP9Grzf/LC8ZTxrfHy8V/ys/I7897zLPTo9M/1c/b49jT3n/cc+Gf4L/lZ+m37sPzt/b/+cv8UAKUAxwCsAGMA+P+B//n+KP5D/Yr8Ofw8/BP88fvy+wv8GPwo/MX71PqC+Wf4e/hq+X/7k/4+AigG4AlJDe4PrRE7EhcSvxFRESsRKhFMEaAR9xH+EXYRRhDUDhsNNgssCeEGagTpAab/zv12/Gb7VvpW+YT4sff39m320/VV9Sv1YPX69fX2HvhE+T367vpy+/f7rfxy/Sj+JP8FAKkA9QD7AOQAqABTAA4AKABSADUAuf8F/0f+K/3N+6T6rPnO+Eb4Fvgm+C/4S/iG+M749vjQ+HH4qvev9s31UPU49WL1yPUs9rb2WPdp+Bb61fwfAJgDXAftCqwNog/REGsRsxHXEUcS7BLAE6cUXxW8FaEVuBQvE1sRRw8LDcMKmwiCBsUEDANnAfP/dP4X/aP7zvkQ+Gf2EPX18wfzAPNe88vzYfTr9I31Ofbo9p33gvh1+ZD6mfuP/H/9Gv6K/tT+Fv+R/w0AsQAzAYQB7AEjAjICFgKdAcAAtv9u/hX91Pup+gb6ZvkD+Zz46/dl99f2Xfb/9c/13PUV9j72N/Yq9h/2OvaX9nX3yfjX+s/9ZgGJBYQJmgy+DvcPexCpEKMQoRAVEdMR5BIjFAgVnxVTFRYUeBKMEJ4OqwzTCkkJywdIBr4E/QLXAHb+C/zI+cj3Q/Zs9f30/PRW9ZT12vXx9cz1pvV99cf1Ivbn9uL3GfmQ+hf8lP3P/s7/XACrAI0AUAAxAP7/JwB1AIMAlgA5AJH/wf6W/UL87PrA+eL4Ufj499732vfi9x34QfhC+Cn47veX92D3PvcG9432sPWg9Jbz1vLs8kX0QPfO+wIBBAZCCi8N+w6vD0cPnA4xDlUOnQ/DEakU0hc2GqIb+hsSGxwZWxYwE2oQMw6BDHgLfApoCc4HZwWZAkv/EfxH+e32WfU09FfzvvLx8TjxvfBi8IDwJvFF8srzIfWT9vz3FfkU+s76ePv1+3P8MP0s/lT/gwDLAQMDsAPqA8MDBAMTAtIAbf9M/h/9JfyX+/f6S/pU+Qv48Pa99dL0RvTw88vzq/PK8zL0yPRY9c/18fWo9Sz1o/Ss9I31wPdM+y8ACQbYC+oQcRQBFicWJRWYE4QSKBJOE4wVWBhCG1cdMx5FHY0asxYzEvsNcgqtB7AF3wNKAt4Acv+X/TL76Pi49uv0gPNI8mnx5vCA8CbwV++L7hPuKu6E7/bxNvXg+Fz8F/8oASQCFAKVAd4AiQAVAX0CkwSPBhgIGgk9CWAIuwaOBCECu/+Q/bb7RPoq+T/4lfes9q71ZPQu8xbyJvF78A/w6O/474fwNfHL8UPyjvJx8jby4PH98cnyhfTT97382gIWCSEOGxLRFOEVDxY0FT4UMBRIFRgYABwDIHUjYSVdJWkjux/eGgcVmA96Cw0JFwiZB0QHTQY6BPQAmfzI9+Hybu5E64vpXuka6jvrVOxJ7eXtGO4W7iXu3u4z8GnyUvWJ+OH7nP5GAHIBzQHVARUCmwLaA3oFWQdzCeAKjgtWC/YJ7AdlBawCdACz/mP9zfws/HD7Wvqk+ID2tvOJ8JLtPuvm6ZrpAOon64fstu2P7oLuvu277N3rK+zr7uHz8vrgAh8K2BD6Fc8YkRlrGDUWZhS3E8oVohqWIKEmKSuMLX4tPiqvJKodKBYIEIwLdwlmCUMKbwt5C0AJ2wRl/sX2m+9o6SvlLOOA46PlYuif6hfsR+x96wfqVuir59/nV+k57P7vhfQ/+W795QCMA2wF/wYPCPEIzgmICpkLjAx2DVMO1g4BD6YOuw3iCzwJfgVDAfv8IPkm9iz0U/Pv8o3yrPH374HtXeoY5z7kEOI84a3hTuMM5oDpQu3x8E/0lfef+87/mwQLCSYNWBENFZQYURzrH74jSCcnKtwsQC5ILvAsqCnBJRIiWx5wGwIZ3RYFFXYSEg/6Cs8F1f8t+T/yWOxm58bjG+J64Q3izeIn4zvjx+LR4f7gkOAd4eniauUK6f3sCvFS9S/5t/wqAGUD6QZGClgNNxAlEt8S1hLFEZ0QwQ8uD00Pdg9xDyAP3A1sC40HaQIH/fP3mvOT8GruDe007IHr2+r46fTojOe75SPkxOKM4dzgeuBv4erjSOjE7iL3NABxCIAO3BEIE30STxHdEGMSohbMHa0m8C/9Nuo5vjeoMY0pAyEnGs0V3BSqFoAZyxvqG+QYShJ7CMb8v/EM6aDjquFj4r7kS+d/6Aro1uXK4nnfoNxX29rbN95S4pLnVu3w8rn3mvtA/jwAewFrAswDTwblCaEO3BOhGEEccR2cHB0aghafEuAO7gsyCisJqwheCFkHDwUjAaP7XvUm77vpaOV24ungZ+CZ4I3gz98t3vvbhdnB13HXadnv3XXkyuwX9aD8TwLXBUEHJwjpCWwNEhTTHPgmGTG7ODU85TpoNWEuzid0I18jMCaIKpQuUS81LJckzBhfC13+yfRl7+btJe9d8VjyLvHu7DXmVd4N1mPPscsMzAPQhNan3UPkm+jR6jTrSurj6crqJe7S80/74gNODEETOBgQG8gbLRsKGmIZ1RkdGwYdRh/QIJIgiR6gGnYV2A+BCsAFhwHv/Vj6uvYO8wXvyOqK5kTiKN+13MXae9ky2CDX1tWd1A/UktSw1Y/YEtzb4S3pz/BE+Hj9XwHMAxoGtAjCDdoUEx5aKLoxaTp1P+s/yDtlNN0sRye6JAcmTCpgLwcz+TKeLpImyRpODU8AAvbD70zt/+0L8LvxH/FZ7X3maN3Y0x3LocVUxBXHyM0R1m/eeOW86Wjrm+qK6H3nj+iV7fr1pAB/Cy0VSxwmIBchhx80HR0bvBoWHFAfAiNAJnsnkiZ1I9se1xhIErkLAgZNAUT97PkE9pTy9u5z64fnAeMr3h7afNYD1LTSgtJm0wTVhtbV2DPa19pT2pnYItg22Zvec+is9roEzxDzFUQXeBWcEygVwRjsISwtRjpvRVhMrUx1RaE5iiz9IzAgTCJIKAwuSTLTMAAqNx5TDnz9wu6M5UbjNeZg6jntGuwS5x7fYtXmy3HF0MI0xbzLFNWV3lrlqOiS6B3nAebv5iTr8PLG/DcHuhCbF7sb9ByEHBgccxzIHUggayO0JiIpTSlCJ8oi5Ry5FlkRuAw5CRwGLAOf/0D78fV97wjpu+J03sTbM9tl2pzYZdae0hXQ983NzrTRX9c13V3ineVN5lnm3ORq5bvlN+oa8R/9bArjFycijiYDJ+kisyAYIIMkRyx2NppBq0n4TOVJdEFaNp0rBCVzI1YmYilMKWYlZB2YEm4Govsa9Cvveu047DLrguco4IXX3M4zym3II8rMzezREtU01jnWkdX71bnYe97m5mbw6fiJ//QDWwcnCh8NzxAjFUEafR+jJJEoEyuIK4IqUyiIJboiXCCvHs8cihreFjIS8Au1BD79TfYI8GbqW+ap4h7g993l29LZLNcw1LrQwM6uzWDOPdDU0snVX9iA22Xdnt8p4LTiPuVN6mDuwfMP+nf/DQnOEv4i+ys0L4koxCHTH2YlXzJNQhxTfVhbVnZKXD71MYgoOyTjKMwzzT2vP0s21STnDfr6ku5J7EbvvPJ382nwlem+3u3S68avwB3Ao8WMzUnTT9V50lrP7s1h0KHWJN4d5lLtTPOq+Mz8cwEPB5oNIRWZG2ggQSJDIo4h+CL5JQsqRixeKwwpBiXuII4ctBhAFdESTRBDDIYGpf2o83vrTuYf5VDkbeNs4G3dydnb1SDSBc9EztTN4M8u0qDWo9mO3BrcwNtt2cXV9tOK1uni//PGBawMKgxYBGQBwgSGDqgbeimPNSw/2kHWPqo2fi9SLhszMEF6TMRTeE3TP/cvOSNxHI0aHhwZILciSCBOFyMI5vaG6CHfRt7F4VXkmePy3H3Vjs4QyjbHasaix/XKP8/h0y7YCdvV3PTec+Li6MfvXvam/AACJQiXDdUSGBfYGh8e3yHWJRQpgSvkKiAppSa2JDEjlSAzHZgYLhRrDw4LRwbZAWD9jPeh8tbrSOZz4Uze9d1z3f7cj9nN1Q7SQtC40O/S8dXC15XZjdq13LDfi+EH5MLk8OWf5Rjl+Od68/AHYBjmH14UUgZXAFAG8ho8MbZGrU8UTQ0+Py61JHsjxi5OPzhTNlwyViJAICRqECIKLRG4HlspWyrxH+0MQPjE5wLfJt4Y5LXr4e9p69PfU9ETxgXCjsRCzJ3USdtz3LrZB9Up0jDSqda93Zrmk/BP+Pv+GwE3A9wEagnRD1UVxBrbHt0iGCZEJ3ondie9JwQozSY2JH8g3BzaGDUWjBI6DuUHhAFJ/ML3JfSp7n/qm+ZY5arjPOE63kPaLNhI1tnVdtZi2PPaht2e34LgDOHJ4GrhBeNO5YHo4Omi6zjqAOr96Rf0MARfF3EfDRhMCpv84wDIDd0leTiERCxDODj1Kucf0h4rJao2k0eYUrRMyTdmH2wOPA1mFowiQikiJecYzwa/9SLqzOVQ6M3uBfWg8z3qr9t+z6bLIs8w1VTZTNqo2GzXENep19HYG9oB3jHkLuyH8/f2t/eS+MP7DAGmBiQMcBD4FDsaJB6uIG8heiBfIOwgqSLzI7gkDiT4IEsdHhhUE/YNCgpLB64FBARo/w74N++t50rj3uLv5JTmseVA4XbbJ9ZO1EPVp9mu3gLiaeOB4dTfk9614AXkDOnw7FHvr+7x7Dfswe/Q9XT92QDS/0L7E/s9BxUXxSXpJXoeqhWGFr4f7ytkOc5AcEBJOSEvoyZFIxolFCzoNVI7xDYPJ1oVWgpYB6ELNw7VDVgJqADS9knuAejo423i1uN55mHm/+Ah2C/Ro9AW1HXY3tyb3nLfod8z4OjhKOW36OXsQfMD+a/8Dv56/ysE+ws5FPIY4RiFFtwUABcvHEshBSPZIWkeuRpCGE8WdBWqFWYVhBOzDqMGLf+K+TL4cvk0+tr4UPR67pHo/uR24+XjNeXZ5oDnZebP4wnh3t/U4M3jTefh6lPt5O3F7Y7sNezc7Rjx3fXI+Pb5bPfi9LTwsfDP+BUJohiiG2wQBQBb/PQHxRy4Kx0xcC4DJu4eaxtxHeMlpC9lOK07pTduK38b1RLaFUkhTymXJ+wb2A8rBhb/Jvoq90z37Pdq9wzzcepJ4MnYj9ZH22jg8OBT3efXmNUo1nvXytg23IjhNuaX6lzsCe3Z7Q3wpfSz+koAqgINBTgJZw6rEkEUWhNmEzgVJBhjG2gd3B16GwgZehZsFF4TYxL/EX4R1g4YCe8Bsft9+FT3ZPeR91z2I/TQ74HqRuaQ41fjZeTG5irpVevi6jToeuVR5YvniuvB70fzfPXE9ajzOvEi8fHzKvi3+nj7fvj/+Br7LwUWDTAPiQzbBUMHaw6dGkYlUCrZKUkkDx3ZHCggaynyM5w4pDjbMHUk2hoVGqsgwyi1Kz8lLxqdDU8DGP+S/gABzQBm+xf0uukb4R/bS9j/2mvfAuH33TXXy9BDzsTPXtP71wbcD94/32HgaePf5mHqQO2w8Dr3Dv66ApgF8ga+CCYMIhB1FHYYrhtEHYAdwRy3GuQYhhj7GU0cbh2AG3cWKhBUCpoGqQU9BjoGKwT0/4r6HfWB8JXtjewC7WntcutD6Ork1OJ+4pnkx+a16MXp2ugZ6CnoDuqu7d3xYfX697b4FPrW+qv7bPwG/vwA1gL2Ao0CfAIiBXQGtgSkAcIDbg8lG10gXBisDioMMxXAIpsqcitNJxQiuB+mIoImZio3KQgn7iToIKAaLhIwDogRzhdXGL0PygJG91zx1vDT8d/ymvBk7aDoLOMV3orYitVH1z/c++Al4vPfaN1127Pc/Nx13zvkwOp08c31NPbE9Kj0xvcf//YFnQvGDTgPcw9xD4kPNhFeFHkYXBwgHf8bkxhtFTUTIBIqEgQRXw8IDQYKbAeGBCkAjfsD+EH2tfXQ9XP06/GF7gPrrugt6O7oDenY6QLrEOxK7EjsOexg7WjvH/Gf8iD1cfdb+EX6Vfw0/uIAyQDh/z//tgCKAhkFNwVdAt79df+rDFIXFByxECEC7v8iDKAYBx9EIMofSCHqIowhQB7QHWMdiSDuIxkl4x8SGP0SVxPXFksVWg0NBzMDMgF8/b/3bfPu8gX07PHv7XPn5+AH3kfegOD34i7i3t8k3vvc8NyE3bLf8ON86PHrlesa6tPqMe5A9M76iP9TAyUGPQcQBxEHuAmyDmsU8xn9G3EaUBggFscW7xo/HugdFhu2FyQVvBP7EZ4OeAueCXkHDAXKAbH9FPpz9/H0TvLE7zHt8Otx68zqjOlj5x3ma+Wr5aTmTOeL59Pou+qf61TtHe+u8CfyPPOx9O/1n/c4+XT7Ov9cAjMDVQMtAxMDpgSBBvwFUAWCAYT/3QoFG0oi9xjpAzv3LAJ/Gb0pni16J/ccdRN5EF4R1RdZJOsoVinAJDAXIQmjA78JgBYeH90afQ5YArf5+fXg9Br3Q/rQ+tn4nfG+6Jrh+t404nLoAuug6BHjEd5V3Yng7eTZ533p+erK7Lztv+567/Dz7Pox/wwBIgHsAVAFMgnFCzENQw6TD6kQtxHZEgsTAxOHE1gT6BKUES4PdA25DYcN9ArxBusDFANyAxQDy/9e/Jz6qPip9pz0j/Lw8frxlPFE8eTwRfDL71Xwe/FU8YPwI+9z7sPwkfSG98v44Pgt+O/3yPh4+qD7Lv4qAYQCPQPzATwALAAxAqEEfQX8BIoD4AH6Aa8BrP+fA3gOuxP/EgYI+Pgi+1QJPhhzHxEbuBHLCrwL/A86FP8cQCBIHvQctRUlDYEKzwtBFOodRRwDE4MHGP/++2X7gfxC/iH/T/1l9lLuFufN4j3jL+ep6gzq1uY04g/fZt/94WvkM+ec6SPrX+0772zvuvB99ND41P15AUkDXQVOBy4JBAx3DskQ/BEaE6kVvhYcF9cVABSxE1MTxBK3EikRsw6eDNoJlAc0Ba4CkAAo/wj+1vtg+W/3wvUq9fT0lvOB8onw++6M7+Xw5/Fx8hjyofF98rnzwvQ59u73HPkn+iH6Jfoo+9b8J//6ACEBxQBg/7n9M/4N/+8BbgSQBPICB/9G+7X5SvmH/VwA//+uAP7/0v+g+1j4Wfr5A4IQhhHjCQYCTv8eBa8OxxW4GD0YMxNeDZANwQ6pEVAX4ht5HtoZ1hBdCC8GJAukD5oRdBDxCk4ESf/8++n6pfus/ED7bPpZ94jxYuwb6Vzqqu3v8DrxdO947WPqOehy6L/sa/La9e72bvZs9Rb1//Vr+bD+1QSqBz0HRQVhAicDYQbpCyoRLRPfEfcNzAokCooLDg5nDy8Pzg3kCu4HVwVfBCwE1gSaBKMC4P/q+9L4H/eW98X4lfmY+YD3u/S88YvvE++S8CHzOfUp9mv14vP78ojydvOK9Sn3lPgC+h773/uc/Gz8q/wU/hX/Iv+T/jD+U/7m/jUAIQKkAl4COwCD/Y770fm4+fz9JQNOBokDv/wQ/kEEtAkXB7n/HP9lBTQQfRQsD98LCQteDb8UtBlCGasW4xMnEpsUihZcFdEVdRlZG14WPg5yB0wEUAicC1YKAQdAAtD8ifoP+tz2P/TU8s7yf/JR8Wfs7ueA6cPr4Owy7Ifp4egm61ztCO467cDt/O4t8vj1a/aU9ez1dfiv/KcAygGvAd8C0ARSBgMHegfbB0MJ7QsvDokPdBDpDxAOqgyzCu4Ijgm0C+gNHA+7DVIJhwSMAeD/AABIAFn/BP9H/tr7gfhx9cby5/Em8r7yH/N2827yePFW8UnxifEQ8lLzS/QH9Tr16/VD90X5W/s2/Y3+1/4I/l79ov0o/3cBYgOWBO4DHALqAFoBQQIgA1oDAwPLAigCngDJ/5P/Af+ZAHYFBQqfBzwADPkm+iQHuxG2EjcOpgeiBQ0K8Q3lEUsVPRYGFQwUGRH3DHMMLhB6FtMbphluEHYJEwbCBRwIaAq7CW8IkwUy//H5YPV98uHzLfcX+O71qvBy62Xpi+kH6sjq0esF7O3rV+so6n3pB+s078bzevWq8+DxWfSb+ST+FwBBAM4BRARIBQcGWQdaCXAMOw8xELIPFA5pDNoM5Q67EFQQcQ6XDHILsQp0CSAHsgWjBI4DwAKYAMb9Nfts+Vz4ovep9lr1W/SL8zLyLfCg7qfuKvDm8XXy4PGI8anxWPKF85P01/VW98b4JPqE+5L86/zZ/a3/DQIdBAUF1gSnBCEF/ASvBLYFLwfLCFMJAQhVB7EF+wNxAz0CMQPRBYwHLQf/Alr96/ks/lkIfAvXBwcAiPjL+gMEnAlaCvcHhQNAA/EHUwoaCm8MVA9iEQ0SBQ5qCQUK+Q2uEHkSnBFgDRQKJwjnBb4ETATzA00DlAFv/dv3SPSG80H0c/W09NjwZu0n7JDr4Oq66kTr6eya7mzuA+247KbuxfBf8pvzgvSs9aD3B/ov/Df+Rf8r/9b/fQFnA6QFNgf7B1UITAieCMkJvAoXC+AKVQqCClAL4gtXC5MJRQdOBu8GVAg5CF8GdwQWA0ECtAH2AGYAvf/n/gP+cf3c/OL7N/v6+rX6PvrO+S76Nfvw+yv7cvlh+Cn4T/nt+qz8/P0n/mD96/t3+8D8E/+YAVUDRgPOAZkApAArAnsEOwXKBMQDEQNKA7ADqAM5AwgCsADB/uv8cfxA/LL80vyM/Gr80/tR+uL38vbz96L49Piu+qz+NAKTAJP6Yfel/fIH8A1gC/sCmP8oAvYIFhC2E9cT7g8hDEMKmAnyDFARARSRFRgRcgk7BIYDBgdyCpAKqQY9AVT9Xfru+Db5o/kD+db3pPWc8kLxBPAV7wHwVvEZ8pzxjfDH767wyfJ68/fzJfVN9u/3E/mO+SL6d/sb/uEAFQNgAwYC9QGZA8UFZgenCHQJ1gmoCvcJXggMCHcI1AnmCjwKCwhWBqUFTQWVBZAFPARIAm0AgP/x/h7+AP3f+7f7yvvV+gP6ZPmG+BP43few9yv4Yvko+r/6XPu4+yT8Q/2R/gD/Mf9B/xn/z/9GAXsC2wNNBIADjQIFArQBYgHvAPkAwgGuAjsCXgAa/+T+ov58/lP+ev0n/SP9S/z6+6j8XPyc+yv8d/zK+1f7Xfqv+Wv7Jf10/rgAnQGlADD+ZvxA/pgCcQcVCh4KLwmBCLcI3wmPDPsOFxCOEecQdg6JDNMMkA86E/sTDRDhC6MIuwZwBpcG1AbnBooFOAE+/FX5LfhJ+Mv5Ofk19rfyou9r7rvvdvHw8LXvL++l7o/vXPHv8VryW/Mq9B710vbY96b4FPvk/P79bv9pANgAPAKbAywEQAUDBt4FEgaVBs4GNQj8CO8HgQZxBUgF5AUoBjQFHgRPAyoCGQGjAFEAfABOAJH/Uv6q/PD71vvS/F7+Df4m/cj83/yx/YH+iP7t/Qn+Kf81APYA9QDx/xwAFgEkAaYBlAHSAMIAwQCQAJ0A5ABTAdsAEAAJ/8X9R/2K/cv9eP7v/qX+1/0p/Xb8wvu/+zX8Yvy4+zv76vqa+1z9Wf52/RX9lvzw+5D87P0nANQBhgKtAI4AYwMGBssHtgi4COUI9QlrCjYLQg3ZDo4P0BCpEP0OKw0CDIIMTQ4OD8MNMwwkCmQHFATLAe8ARQFpASn/t/uO+AH2m/QC9Ojyr/Fa8M/uee0o7S3tNe2j7SbuFe/a78XwevE+8uTztfXn9+H6FP19/uL/DwHNAiUFigcmCd4JXQpBChgLOwyqDAINQQ0hDZoM7gufCggJGAjgBokF0QQgBEMDlwJFATz/Vv1i+5P5Ofld+Vj5P/l8+D335/Vb9Rn1rfUE9973Nfh++FD4z/c9+Cn5sPpf/M79Tf6//gf//f7U/+UA1gHoAgoE3wQtBSkFFwQeA4QD3wOQBAgFdgRcA7UCIQMGA6ICeQEjAJ3/7v+BAHQAbQDS/7v/GABl/y7+t/2Y/94BDgTGA+YAg/9DAP0C3AUPB+sFvAXkBvUGtAYNBkkGRggpCikKrQeOBdQEwwXdB0UItwbuA7oBVQAFABYAjP9E/7j+3v0p/Nb58ffM9rv26vZj92z3bPeV9yf3bfbv9d31A/cB+aT68fte/HL8gPyg/MT9cf98AQcD8wNEBJsD1gJdAikD4QSTBnEHxgb0BEEDEwIBAugCOgOPAowAXf7x/Ln8Xv22/WH9Ovxh+uD4DvjT99n4r/mY+Yr5pfgM+Ob3T/g2+Q36iPpt+hn7p/tj/Av9Xv2w/R3+1//KAGEBYALxAksD9QIrAsYDWwivDZ8ONAsVB7QD+gUADGoROhNTEc8MDwsXDV8PxxBLEHwP1w0tDO4JKwj7B58JzQqQCYwFIgB3/Ob7Af0G/Rn82fjm9HnyS/Hc8CLxLvGh8AbwqO5U7YTs0uxP7nLwNvL08uPyK/Ml9N/1B/jR+Wz7tfzY/bP+VACYAqEELwbNBqcGlgZHB7wIrArvCxUMWwusCiMKCwrlCecJrQkmCb8IqAcTBk8EWAOZAqgBiwCO/5r+5v39/ND70/rT+ZP51vkw+u/5KvlR+CH4L/iv+Nr5FPsa/CX8RPsD+2T7YPzQ/c3+E//+/vb+Jf/t/7MAUwEVAuoCJAPHAjcC5QGvAvMDcQQABLkCrQHoAc0CsgN1A50CGQJ1AdMARQCH/xn/EP8W//j+Y/5o/WX8AvxY/HP8Ivxz+1f6nPn4+Vj6tvrL+pn63/qU+x78xfst+9D7sv3e/3cAkv+n/oH/DwLbBGsGqgZhBhwGKQeACKMJnwrqC4kMUgwpCxQKVguzDUEP6Q5TDA8J0QbsBRgG0gYnB/0FsgPhAPn92fvz+lf6zPk5+Tn4wfZr9S70QPO38unyw/P09D713PSu9Aj1DfZZ96H4/PmW+xn9G/65/oD/ZwDMAWIDowQ9BR0FXAUEBuYGDgioCKoIMAgGB48FhQRTBOAEfQVGBdwD8AFNAPf+9f00/Yv8NPwL/Jf7t/oc+eP3efcG+Bv5xflK+Ub4ifeM97z4S/qX+9r7ofs/+//6dfuA/Nr9+v6c/57/cf9N/3r/EwBNAaoCMgS6BIAExwMtA0gEiQbECBYKqQnaB1cGywXUBtYI0QqEC68K4gjRBmIFHwWxBZAG8wbWBf4DGgLGACoAkwBEAS8B3P+5/XT7H/pt+pT71Pw6/YD8Afta+Sn4vPeE+Oz5ZvtZ/D38Lfvn+Y/5Vfqq+xn9fv1L/e/83fys/eX+OwCTACoAc//H/vX+AQAfAewBFAK/AYYBRAFCAXEBCAKCAvIBDwE+AL7/aQBSAdgBbgF5AJb/7/7N/n3+qv5C/6D/MP82/vr8hPwr/Qz+jv4L/gT9HPzX+/n7RPyo/Nz85fyH/fH9Jf7W/a39Uv4Y/6z/wP/z/x0BvwLEA8kDoAOuAw0FMweLCCEJ/AgSCTYJ1AkYCtUJRQryCqILwQtZCq0IEwcnBxQISQgECBcGCQSSAvUBSAIxAkkBpv+M/fL7tfpQ+kf6H/pG+an3OfYX9en0fvWv9U/1QvRa80HzOPRR9df1JvZW9gn3K/jH+B/5nvnr+hn97v4HAEcARABwAEkB9gISBYAGfwZeBTwECgT9BJkGdAdEBycGCAUjBHUDGwPzAhsDzgKqAQwAOP5o/Vb9ff03/W78uPsm+8H6fvrF+Q35Evmn+Wr6LPuA+7D7Gvy2/In9JP7B/qr/5QBSAlgDBwSYBFkFvQZuCGoJhwmHCYQJDArVCkULggt4C48LKAtDCisJuAfOBtwG1gZGBqoEWgJPAPP+S/5a/pL+Tv40/aD79PmC+OD3MPjs+JD5iPme+Oj3Nvga+av5pPlE+Vb5J/oN+z774frn+qH7OP1S/p7+Lf69/WX9IP1s/Tf+VP9iAN8AHgDl/vD9xP0C/zMAKgBb/0r+yP1g/lX/7P99/1T+ov1y/R3+Af/P/3gAGgCY/2v/vP+7AAsCvQL3AogCQAIdA3MEIQYBB4oG0AVuBeoFxAZZB08H3QZXBhoGCAYwBnoGRwbbBfkEogNFAk0B4QANAVABBAEEAJb+Wf1U/P37vvuT+2T7wfoX+nf5GPnw+M/4Pvmn+R/6TfpF+lT6lPpH+wr84vzS/cz+l/9qAE0B7QG6AmAD7QO7BHIFPQbABv0GzwZ6BjAGHQY8BmEGSAamBdoEyQMIA4wCKgJoAZMAiv9+/oT9z/xw/O77Qvsf+kP5LvlG+Vn5SvnU+C/4w/fb9534lPlK+qb67fo9+2z7xfub/H39aP4s/3n/qf8BAG0AGQGlAf4B+wGuAb4BAQJRArACRAJbAXMAlv+C/wAAbQBPAJX/gP5S/bP8t/zh/C/9cf0h/Wr8BPxX/Ez9lv53/53/5v59/oL+SADzAg0FTAa+BaIELwQ/BYkH7wlMCz4LSgp5CYUJmApLDIkNKA1pCxsJrgcGCEsJ2gqzCrYIugXzArYBtQFPAngCmQGq/8b9I/wO++L6uPpA+kP5JPhk9xr3VPeT9zn3pfYN9vH1xPa891X4fvhB+Cb4l/ih+ZP6o/tn/Hj8PvxR/Ab9Ov4z/6X/nv9q/5L/AACKAA8BlwHrAfgBwQGtAfMBYgLGAqsCXQLvAeABNQKXAoAC2QE5ASUBTgEqAYEAjP/c/qH+r/7J/q3+If50/QH9nfxZ/Gr8s/zv/Nz8jvwu/BH8g/wp/eb99f3B/av9/P3V/oX/NwDhAG8BwQHXAf8BLQKSAicDyAMfBGUE0gTSBZQGswY5BooFUAWLBXAGKQclB7cGSwb/BbIFTQX5BMkE0QTqBIEEbwPrAbIAPgCJAJYAMQBO/xj+av3c/Gj8PPze+4f7Ufv2+mf6Cvr3+TL6mfrp+h/7/vqv+oL6ZfrH+o37U/zr/PX8ovyc/DP97v1V/pb+wf70/h//Pv8l/3b/RQDjAAsBKAH6APoAhQHxAV4C1wJAA2oDVQPnAoECxAJyA0YEoQSGBAQElwNRAzkDTQNZA1ADXwMdA3cCIgLtARACDwKTAbwA7P+F/2L/gf8//8r+MP7//dr9hf0T/X/8P/w2/Ef8SPz6+5z7d/tm+3L7dfuP+9v7DfwF/ND7mful+wj8q/xr/d39L/4Z/uP91P0v/vb+AACiANoADQEkAYYBBgJUAnECegKVAq0CpgLlAhIDOwMtA6YCBAKlAe8BDwL1AVkBkwCw/3n/hf9y/zr/r/5C/nn+tv6//rP+lv56/mn+TP53/vb+Zf+WACABagFSAYQBCQKgAnoDtwMnBC0EfQSiBPIENwWVBeAFwgVUBZYEOgRFBMAEzwRiBE8DRwLAAWIBCgFJAKz/DP/J/on+Av6Z/ez8cPwn/MD7VvvX+pL6vPoq+0X7K/vC+l/6Mfor+kr6ofox+977Wvym/MP8w/z+/E39s/0w/qf+Yf/j/wQA9f8gAG0AzgAQAR0BAQELAYsB3AENArwBDgF+AGMAxgAJAS0BtAAbAJv/Mf8R/wf/Pv8t/5T+uP2v/FX8Zfzr/Ff9SP22/B783fv7+3b8Cf2G/dP9/f3m/U7+Rv+vACgCCQM+Ay4DaANPBJ8FlwYaBzkHiwc1CN4IKgklCcwIlQh5CKQIewjxB3sH7QZZBqMFBAVJBKgDbgMlA88C9AHHALT/8P6T/mT+PP7X/Sf9hvzp+2b7SPtc+2f7Ivvf+o/6dPrf+jv7a/uF+4f7iPuq++/7jvwK/YD9lv2e/cT99/1i/gT/h/+x/5f/R/8X/w//Yf/I/0QAbQADAJ7/Vv82/0r/hv+M/23/Nv8U/xf/Af/V/sn+tv7R/hv/Sv9C/w//yf7g/k7/7v9nAKkAlAAlAAQA//9IAOgAXAF2ARwBpwB3ANUARQFwAVIB2wB9AGYAlgDIALYAlgBGAPH/yP/H//j/KAACAK3/cP9n/4P/cv8O/8z+j/7N/jH/pP/b/6z/hP9m/4X/uv8WAIEABAEkAfkAEQFmAQQClwLTAqECcwJrAvACkwPGA7YDTgPTAk0CBALOAakB8QE5AkkCuQEcAXcANwBnAGEAUgD1/5X/Vv8W/x//NP8X/77+Wv4Q/hX+Z/64/r/+YP7S/VL9Ov2B/dj9Kf4f/uf9iP1O/Wf9uP0Q/mL+UP4U/tz98v04/vv+vv/a/4//Cf/d/hP/mP8vAHAAUAAQANv/2/8uAJcAtQBvANH/eP+d/wsApgC6AGoAuv9A/y//x/9tALQAhgDc/1n/Mf9w/+z/ZgCaAKsAagAMANz/v//Y/zgAqAC0AJ0AXAA5AFgAtAD4AB8B8gCVAH0AlADpAEcBmQHLAZcBMwGvAGsAgwDMACQBMAHFAFsALgAJACEALwANAPn/sP9Q/xT/HP8z/3n/rP92/y//3P6l/hr/vP9cAK8AeADh/2n/r/9wAEsB5gEHAosB6ACRAKsAMgHSATYC+AGKAfMAkgCRAIsAbwAZAIX/Jf/g/uT+I/8u/9P+K/5c/e38Hf17/fj9Jv7K/Sj9tPyY/A392P2G/t/+rv5t/vr9E/6i/lP/9f9TAD0A4/+9/9//TACtANoA+wDGAH8AVgAqADkAcwCLANsA2QB8ACUAHQBZAEkAMAD6/8P/z/9BALkA2QDUALYAYgApACcARQCNAPoAKAHPAI8AWwBsANYAXgGNAWIB7gBaACcAUgCyADkBYAH8AIEALgA0AIYA2gANAd0AXQDX/5//+v9mAKsAnABCAOv/uv/a//f/LAAfAPP/vP9W/0j/iv/5/zEA5P96/+3+oP65/hr/cv+l/4f/PP8U/yP/Y/+g/9T/rP9x/3b/lv8CAD4AYwBnAEMAJwAwAGgAjwCgAHwAegBwAFkAegB1AHQAVQAjAMP/k/+i/6r/wf/N/8P/gf9J/w7/vf6o/qH+pf7X/hr/Fv/k/qT+lP7p/jb/X/9X/yf/Iv9Q/8r/NABsAD8A4v9w/2T/yf9uABEBJwEGAaoAbgBcAIYA/ABGAWUBKAHWALUAxwAuAaMB4wGSAeoAagAYAGMA1wBEATsB4QBAAIf/Ov84/13/hv+A/x//v/6P/mj+d/6g/pz+fv5M/jr+dP6p/s/+6v4A/wD/HP8i/xv/Mf92/9D/FQAwABwAHAAvAFEAjwDWABYBLgEEAZgAQAATAEQA2QBfAZABNwFtAK7/Nv9r/9//GADh/3L/FP8H/0D/cf9m/wD/cf7w/dz9QP66/gD/Df/L/mv+TP5C/mz+2f51//3/PwAdALz/d/9i/7v/gwAnAaYBwQGhAYgBhAGkAekBCgINAikCDgLyAfYB/QE1AnUClAJ9AigCngE3AQgBKAF0AaABjwE0AcQAnACYANgA0QCVAF0A2P+S/6j/vv/m/woA1/+L/zr/G/8j/0r/dP9e/0//Ef/n/tP+7f7T/sX+4v7K/sH+tP67/tj+7/7T/of+Yv5S/j7+M/4//jL+Hv4Q/hz+Kv45/lj+d/6F/qX+qv69/hb/TP+d/77/pv+X/6T/AgB7AMYA2wAQAQsBAQHxAP4ADAE7AXkBmwGGAT4B/gDfAOMA2QDbALUAdAA3ABYAFQAuAEUAOQAEALD/g/9v/6j/AQBYAFEAJADs/8n/9/8pAFoAbAB3AF4AVAB1AHIAfABiADAALQAzAE8AgAB8AHgAeABrAHgAlQCyALoAkQCHAIYAeAB4AHMAfwCUAKIApwCMAGQAMADo/9f/4f/m//H/5f/B/37/a/82/yf/LP8//2L/Pv8T/8j+h/58/pn+0f71/gj/8f7O/pz+cf6g/vP+L/8+/zH/GP8W/zz/gv/T/+H/3f/T/+H//v8cAEkAfwCJAH4AfgBXAFMAcgCXAM8A3QDfAOMA0wDQALcAtQC7ALoA0QCnAIkAbgBwAIMAkgCcAIMAYwAdAN7/z/8BADkAbQBvADsA7v+q/6H/pf/x/zgAOgAxAA0A2v+o/5//xv/f/wcAAwDY/4T/Rf8l/x7/Uf+H/8L/vP+X/2T/Tf9d/13/fv+B/5H/k/99/4H/fv+i/87/3v8EABgAEAANAP7/+f8OABwAHgA+AHIAkQCkAKIAZAA+AD0AOgBZAFMARgAaABAALwBXAIsAjwB5AEcA8P/J/8r/BABHAHAAbwBKAPH/tP/U/wsAVACGAGcAGQC8/5r/ov/n/0MAZwBpACYA8v/Z/+D/BwAsAE0AHQARAPv//v8uAIAAiABKABcA2//Q/9L/AAAPACEAHQD3/+z/y/++/5r/sf+v/5f/f/9z/3H/ef+O/5L/m/+d/5P/dP9p/1T/Tv9r/6j/r/+0/67/dP9r/0v/V/94/4n/q/+i/4b/af9I/3j/uv/3/xcABQDc/7H/vP/o//z/DgAKAO3/5//j//f/KABHAE8ANgAXAAkAEgBDAHAAjgCFAGwAWQBKAGUArgD0ABMB6ACnAHcATABpAIoAuQC1ALIAqgCZAJkAigCZALoAwACjAIoAZQBMADcASgBFACwAMQACAO3/BwAfAFMAZwAdAMj/jP+D/6r/0/8JAPf/uP+f/4v/pf+n/47/b/9S/x7/Kv9O/1T/Zv9b/0n/M/80/1b/hf+o/6//ff9t/2z/hP+x/9f/6//n/9r/rf+u/7H/3/8KACsAOwApAAAA7//T/8//6//9/x8AFgAOAOj/8v/x//X/BQDn/8P/oP/F/8f/+P8WAAQA9P/K/6v/nP+m/7//5P///wAA5f/g/9z/9/8OAP//5//T/+b/6f8uAEgAOwAzAAYA9//n//v/MABaAHUAegBsAG0AaAB+AK8AtQCoAJEAhQB/AIgAuADVALsAzACyAI4AhgCEAHsAZQBTACEAJwA3AEIAPwAYAPf/tv91/2X/g/+0/8r/1P+9/4X/Yf9U/2n/hP+d/6f/oP+g/63/g/+U/7H/qf+q/2//Xf9b/3r/vf/7/wsAyv+w/6T/mv+v/+D/6f/p/9L/t/+s/7//4P/j//3/6P/l/97/yf/M/7X/xv/N/9P/+P/4/9n/v/+4/9v/5v/c/9z/2v/k/9T/2v/m/8n/3P/X/9z/5f/t/wMADAAvACoAMQA7ADYAUABxAIwAogDAAMsAuQCcAIwAaACGAJwAkACsAJUAjACLAHcAZgBWAD4ATwBJAEIAUgAyAEgAKwAVACEAEQAdACEAHQD+/+7/1P/N/+b/6f/7/+z/6//X/8D/uv+f/4X/lP+K/4P/qP+T/7f/qv+6/7v/mP/c/+H/8//7//T/5v/V/8D/w//k/9L/xf/a/7v/qv/U//j/AADi/9X/wP/F/+n/7P/+/xIAHAAUABcAGADl/+D/1P/s//r/EwAYAPb/6/+r/7T/yf/q/+z/2//O/5z/lP+O/6D/oP+M/37/Xf9Y/1b/c/+e/7T/yf/J/8v/t//I/9L/CwBEAEkAYQBjAHAAYABuAIgApwChAJUApQCKAIwAiACpALYAnQCFAD0AUABpAHkAjgBwAGAANwAwACAADgAbAA8ADwAQAAgAEAAJAOL/yP/J/8//9f8OABAAAADc/9H/sf+6/8r/xP+5/7v/vf+7/+T/8//y/+P/u/+q/5T/o//U/+//AgDw/93/0//B/xQAKgAdAP7/w/+n/4H/sf/G/97/8f/k/7//qf+2/63/tf+u/6L/mf+R/6H/1f/f//X/3P+l/4r/eP+L/7D/5f/7//X/+v/0/+P/7P8SACsAKwAbAAsAHQArAGAAfAB/AHAATgAxAC8AbgB9AJgAkwBbAC0AIAA/AHgAuQDEAJ4AZAA8ACoAQQBVAE4AXwBAAC4AFQAaAB8AHwAvABkAGQDx/9r/xP/B/9v/zP/F/7v/nv+O/4//oP/D/9j/2P/b/9n/xv/I/8v/+P8WACQAOQAhAAEA3//e//v/FwAqACQAFgASAOT/1v/0/wYAHQAVAAwA4//b/8j/1//g/+b/7//U/9f/wf/H/8H/tf+3/5v/gf+G/43/qv+z/6n/jP96/23/aP9o/3f/pf+5/7b/rv/L/7f/vf/S/+H/8P8AAAcAEAAsAC0ASgBUAEEALwA2AEQAVgBHAFcAXQAsADcARABeAHAAgQBmAEMAPgAhADAAWgBvAGIAYABCABQAKAAxACQAJgARAAwADAAWABgAIQAnAB0AJAATACAAHgAyAEMANgAtAAoABwDu/+r/BQD+/wcAAQDv/9//1P/Q/8n/1f/v/wMA+f/3/8r/nP+P/4D/k/+g/7j/sP+e/4H/YP9//33/rf/R/9n/6v+//8P/tP+8//n/BAAbADAAOgAqABMAHgAhAD0AYwA7AO7/0f+9/9f/EQAkADEABgDg/8b/vv/N//b/DgDs/+T/tv+//83/6/8VAAEA+v/7/9//4//1/wUANQAtADAAKAAjACIAKgA5AC4AHgAIABMAHABNAD4AMAApAAcAGwARABUAGwA3ADYALAAbAAsADwANABsA+f/t/93/1P/0//H//f/y//L/5P/Y/+L/7P8IAAcAFwD3//f/AAAAACEAMAASAAEAAADi/9//5//6/wAAAAD///v/4//T/+7/BwAaAAYAAAD/////JQAyADYAMQAfAAIA/f8EACkAJAD//+//zv/Q/9b/6v/3/+7/4P/B/9f/+v/w/+3/2f/I/7H/oP+t/6b/q//C/6//qf+2/9r/6//k/93/rv+L/5v/qv/H/+r/BgAVAP//2f/C/9X/4P/2/x0AGwD7//3/EQAOABsAJwAsAAwADAAnABEAHQAyAEYAUgBEAEsAQAAzADUARwBHADYAPwAlADoAUABGAFgARwA4AC4AJwAoADYAJwAhADEAIAApADIAIAAeABoAGAAOAAYAAAAWACMACQAYAAgA4P/c/87/4f/c/+H/4f/B/7f/of+f/5//pv+0/6//t/+p/5v/kf+b/8T/sv+5/8r/z//Q/8T/zv/I/9D/z//Y/8j/wf/j/wQAHAATAAkAAQD9/+z/7v8AAA8AGAAhACIALgApACwAJwAsACQAEgAZACUAMgAiABsACQD1/+L/z//U/93/zf/H/9D/uP+r/73/vf+8/7X/sf/M/+b/7f/y/9P/zv/Q/+P//f8SAAUADgAcAOL/7v/+/wsABAANAAAA8v8MAAYAGgAUAAcA8v/c/8j/yf/S//f/BgD5/wQA+//v/w0AHwAXABcAIAADAPn/5P/R/+f/7P8HAAIABwAFAPT/7v/5/wsAGwAdABUADgD+//z/CgANAAoAAAD4//v/8v8EAPj/8v8DAPD/AgAcACgAMgANAAcACwDy/wYAEwAIAAIAAQDy/wsAHwAeACYAGwAUAAQAFAAYACgAOAA1ADkAPQAlAB8ALwA8AE8AOwA2ABwAIwAaABYAAwDl/+P/2//e/+H/8v/p/9//wv/C/7//rv+h/67/u/+v/7r/zP/B/7j/wf/N/+T/5P/j/+X/z//T/+L/3P/q//T/6P/r/+b/6P/v//P/CAAMAAAA9v/Y/9j/4//l/+n/7v/9/wYAFgAJAA0AFQAaABsAAgAHAPr/+v/z//n/AADq/+7/4f/Z/87/z//J/73/rP+L/5b/qv+f/8n/1v/O/+3/2//h//D/AQARAAQACAAYABEAIQArACwAOwBIAGUAYwBkAF0ARgA2ACkAKQAkACwALwAtAB4AGQANAOb/2f/X/+j/2//q/+D/3v/N/93/+P/5/wMA6//p/9v/8P/1//j/8//x//3/DAAtADEANQAuABwAHAARAB0AGgAgAC4AKwAhAAYA/v8HAB4AFAAnABwA/v8DAO3/AAAOAAwABgDk/7//xf/e//n/GAD7//7/7v/R/9P/4v/v/97/2v/I/7z/rv/W/+j/4v/O/77/s/+i/8T/1v/i/+7/2//K/7j/t/+w/87/4f/o//D/5//z////AgANAAUA+f/1/wQAKgBHAFcAXgBWADsAMgA7AFIASwBCAF0AUABRADUAKgArACkAIgASAAQA2v/k/9P/5f/t/9n/0P+0/53/mf+g/5H/n/+h/47/nv+h/63/wf/I/9v/yP/X/9r/4P/y//j/AAD0/+X/+/8KAAYADgD9/wYAAAACAA0ABgADAAAAAAAHAA0AIwAsACAABQDx/wcAEwAsADgAQAA+AC8AMAAsACsALAApADcALgAdACcAHAAeAC8ADgD9//P/7//y//r/CAAAAO3/7//U/8r/3P/g//b/8v/5//v/AAAQABEAIwA2ACcADQAUAAIA9f/u//X///8AAO3/8v/9/wsAGQATABMA8f/m/9n/5P/p//f/6v/f/+7/2f/e/7//uv++/8D/wP+0/6T/of+v/8r/0//D/9X/5P/Y/+f/x/+9/87/w//g/9//+/8LAAwADwARAPr/8/8KAPb/BwAYABoADQAPAB4ACAAPABEADgAZAB8AKQAkABsACAAQAA4AGAAtAEEARwA1ADIAJAATAAsAHgAqADcAKgANAPH/7P/2/wIAEgAOAAMA8v/u/+b/6/8MABUAIQAqABsAHwAYACYAJwAjAC4ALQAPAPL///8XAAwADQAXAB0AEQDv//n/+f/t/+b/8f/k/8v/1f/L/9f/7f/X/+j/9v/i/+H/4v/1//j/FQAdABAA8v/p//H/8v/9/+T/6//m/9j/1P/N/97/5P/3/wAA6//R/7f/sP/A/9n/5P8AAP3/6f/0/+3/9v/5/wUADgAWAAsADAD//wYADQAFABoAFgAUABoAFwAFAAoABAAMABsAFQAHAPn/7v/n/+L/4P/Y/97//P/2/+r/3v/u/9X/1//W/9j/8v/e/+3/+/8HAPT/7P/4/+b/+f8JAP7/AAANAAgABgD6/+n/+P8AAAYADAAJAAMA+/8bABYAAwAHABEADADw/wIABgAGAAgAFAANAPv/AwD7/wsADgAGAAsAKwAdACUALwAVACMAGgAZABAAEAAxADoAOQBIAD4ANwAkABYADQDp/wAAAAAGABYA/v/q/9n/2P/K/7//sv+8/7L/vP+2/5z/ov+s/7f/yf/b/8H/1f/K/9r/6v/s/xcABwAFABMAHwA0AD8AKgAgABUAAAAPAAgAEQAZAB4AGwACABEAEQAPABAAAADz//b/5f/U/+H/5v8SAC8AMgAkAB8AGQD9/wUABQADAAsAFQAcACUAQABNADoAPwAyACIAKAANAAwAHQAbABgAHgAbABAAFAADAPT/9P/b/8//yv/H/8b/tf+w/8P/2v/W/+L/2P/O/7//u//N/7f/3v/s/+X/7//o/8n/0P/X/9j/5P/U/+D/5f/y//z/AwD2//f/5P/g/+P/3f/v//P/AADq//n/BAAKAA8ACgAmACEAKgAqADMAIQAOABkAAQD///v/DwAIAAcA+v/k/9v/0f/g/97/7v/i/+r/6//y//f/8//v/+z/+v/w/wYAHAAbAB8AGgABACYAIAAgAC8AIwAuAA4AFAAPABAAHQAvACcAIgAOAP3/AADr//3/7f/u//v//f8NAAwA+//8/wYA/v8AABUAFAAQAAUA7//j/+b/7f/6/wwACwACAP//7f/Q/+L/6v/i/+b/3f/r/9X/x//L/8b/wv/P/9z/0P/Q/+T/3//m/9//3v/c/+r/4P/n/wgADgAFAPn/AgACACIAIwAyAD0ALwArACcAIgAdAC0AGQACAPb/+f/y//r/DgAJAA0A+//b/97/2//X/9r/3//i/9n/z//D/9//3v/y//7/+f8NAA8AJwAtAEEARQBIAEcAQQBYAFkAVgBVAFgATwBYAFEASAA7AEEAQgA2ACYAGwAcAPf/9//4/+3/3P/d/+H/0P/S/8n/vP+w/8j/1//q/+z/1f/j/9v/1//y/+v//P///+T/7v/u/+v/8v/7/wsAIwACAP//CAAMABEAFgAaABoAMAAkABwADQAJABoAIQATAA0A+P/5//H/5v/U/8r/x/+2/8v/rP+q/7L/sv+6/8X/1f/N/9j/2v/R/+P/9f/u/+r/4P/p/9j/2v/X/+j/BQALAA4ACQD4/wIACgANABQADgAvAC8ALwA9ACUAMwAxAB8ALQAxADUANgBBAEsANAAfAB0AFgAdAB0A/P/8//j/7P/y/+3/7f/j/9n/7v/8/+T/8f/Z/9T/7//p//f/AQACAPf/+//o/+D/6v8IAB0AGgASAAwAFgD///j/DAD6/+H/9v/q/+3/9P/y/wQA8P/m/+H/2//a/9j/1P/U//D/7v/3//H/2f/i/+f/BwAVAA0A/f8DAA8AAAAEABkADQADAA0AGAAZABUAFwAVAAoA+P/7//z//f/9/+7/8f/0/+v/8P/0//r/+P8AAAsABQAgABoAFQAWACIAGwAcABgACAAUAAUACwAjACkAJwAaAAsAAAD4//7/AAD//wwABQD//w4A/v8BAAIA8P/5/+f/6P/u//3/AQDn//X/AAATAAsAEwAbABoAFwAXABgAGAAXACIAHQAIAAEA//8BABEADgAEAAcA//8UACQAEgAMAAEA8v/3//H/8//y//b/7v/Q/8r/y//N/8//y//R/8z/uv+5/7b/wf+//7j/wP/X/8z/yv/T/8f/zP/V/+v/8P/o/+//7f/z/+7/5f/4//3/EQAhABsALQA6ACoAJQArAC8AQgBCADMATABOAEUANgAuAD0AJgAnAC4AGgARAP//5f/d/9P/0f/W/8z/1//h/+X/6v/x/9//5P/p/+P/9P/t//7/7P/8/wQA/v8BAPv/DAAbACQAOAA2ACcAGwASABsAKAAsACwALgAeACUALgAYABEA/P/y/+z/+/8LAPL/+v8SAP7/BAAMAAAAAgD5//f/+P8AAPH/9P/w//P//f/0/wYAEQAEAPX/AAD8/+b/0v/u/97/7v/z//X/9v/u/+z/4//m/+P/3v+//8j/2f/V/+b/+v/p/wMAAAD5//r/5f/z/wYAFwAXAAwAFQAnACUAKAAeABwAGgAQABQAGgAAAA0ACwD0//D/9f/y/+P/3P/c/+z/7P/v/+T/7f/1/+n///8JAP3/8v/5//j//v/3//z/AgAKAAsAAgD9//H/7//7/+z/6v/7//3/BwD1/+7/5v/Z/9j/4v/w/wAA/P8DAAsAAQAQABYAIQAdABwAEgAHAPX/8v/9/wcADwAGAPz/+//k/+n/9P/9/woAAwD2/+v/5P/x//D/7f8JACIAFwAOAB8AEgAMABIAGAAkADIAQQA3ADoAKAAiAB4AHAAdACEAKAAdAC0ANgAqADEAKwARAB4AHQAZABcABAABAOz/5//d/9T/7v/1/+f/1//O/8z/wf/I/8v/vv/J/+L/5//w/+P/4P/R/87/3f/n/+z/8v/7//D/8v/o//H/8v/p/9T/3f/3//L///8HAAAA7P/s/+H/wP/O/9n/7P8AAO7/8f/n//P///8BABcADgAJAAYADAAQABIAIAArACQAGgAMACAARQBAADQALgAmACgAKgAiABgAFAAHAAQAAQD9/wMA8v/z//v/+P8AAP3/7//w/+7/5v/3/wUA+v8AAPf/6f/u/+v/6//b/9v/2v/R/+v/8v/y//j/5//h/+b/5f/m//H/8P/6/wAA/P8KAA8AEgAOAA4AFgAfACEAHwAtADMAPgAwACMAGAATABEAGgAVAAIAAwAFAAkAGwAUAP3/9P/S/9v/0P/N/+P/6f/k/+n/5//a/9D/0//k/+b/8f/8/wQAAAABAAYAHQAaACwAGwALAAoA9v8SABcAHAAfABwAEwANAPf/5v/3/+7/4v/w/wIA//8AAPj/AQD0/+7/BAADABYACQACAB0AHQATAAMA/v8RAA0AEAAcADEALQAgACsAJQAgAAkAGQAcABIAEgAVABsAGQAPAAwACwDt/+v/5f/n/+v/5f/r//L/4/+9/7//yf/C/9n/2v/W/9n/yv/Y/9n/0v/U/+P//P8JAAAABQALABEADQALABUAAgAOABUAGwAWABEAHgAJAAoACgAKAAoAAwD7//3/7v/e/9z/0//Z/+7/7//1/wAA7//z/93/5v/n/9r/6//p//b/8P/4/wQA/f/6//n/4v/T/9H/0f/b/9f/4v/1//r/3f/o//X/6v/z/wUAAQAFAAMAGAAiAAYA/v8AABUAGwAWAA8ADQAJABYAJQAcAB0AKQAxADAALgAjACgALwA1AB0AKgAuAB0AKwAhADEAGAAVACIADAAQAA8A+v/2//3/BgAXABYACwAFAAkA9f/9/wMABgANAO3//f/8/+n/+P/1//T/9//4//f/7//x/+n/1f/v/+T/4f/q/9T/4f/q/+X/4v/y/+P/2//U/9P/6P/s/+r/6f/p//L/7P/u//H/1P/j/+D/7//+//b/AAD8//n/9P/5//3/BQD4/wIAFgAAAPn//P/6//n/9v/4/wAA8f/w/+r/1P/X/9r/6f/5/wQAEwAnACsALwAkACkAKAAQACMANAA3ADkASAA9ADgALAAuACAAKgAmACIAMQAcACMAIQAXAAQA+P/n/9z/0P/J/9T/wf/f/+z/9/8CAOX/4f/k/+D/5P/h/9b/3f/a/+D/0v/C/97/2v/i//3/BwAaAAsA/v/7/+v/+v8EAAUAAAD1/+7/AwD//wQADAD+/w8AIQAxAB4AGQAbABEAHgAgABsAGgAcACcAGAAcABoAEAATAPv//f/3//L/7//2/wgABgD1//X/9//h/+//6//8/wEA+f8OAPv/BgAKAPb//v8SABoAGwAaAPv/AAADAAsA///m/wMA8//7/wkA+f/x/+r/4v/i//D/6//n/9L/6f/w/+H/3v/N/9X/1//m/+L/7P/r/9v/8f/w//D/+/8DAAEADQAaABgAIQAoACYAKAA9AEMAPAAzACYAIgAXABYAEgAFAB8AJAAWABYADQAJAPv/6P/b/+b/7f/h/87/1P/M/9X/3f/e/9z/2P/5/+j/9P/2//7//v///xUADgAQAAAA///z/+///v////b/8/8DAAEA+//8//D/DQAOAAkAFgANAA4ADgATABAAEAAIAA0AEgAAAAIABgAGAPz/AwATAAkADgABAPH/6v/m/+r/6P/0/+b/8f/y/+r/2//E/8H/t//R/+f/7P/0/wsA+v8CAAgA+v/7//v/BAAIAA0AFwAUAB0AFQAFAP3/BQASAB0AIQAaAC8AIwAWABQADgAAAA0AAwAFAA8ACAAKAPb/AgD9//z////h/+D/5P/x//z/+v8CAAAACQAGAA4ABgAKAB4AFgAlAB4AJQArABoANAA6ACQAIgAfABsAHwAiACcAJgAiABoADgD4/wAAAADy//r/AwD0/+z/9//2////AQAAAPn/9//4/wAACAAFAAcACQATAAIAAAAEAAoACQASAB8ACwAFAPv/9v/o//r/AADz//n//P/6/+T/8f/X/8f/1f/F/8//1//n/+X/zP/T/73/wv/J/7z/yf/Q/97/6//i/+H/0P/I/+P/3f/m/+///f/8//f//f/5/wQA9//5/wUAAgAAAPv/EQAZAAoAFwAPABkAHAAQACQAKwAlABcAGAAVAAcA+P/1//v/BQAbAA4AEwAZAP3/+/8CAPX/9P8AAOj/8v/9//X//P8FAPj////2//n/AgD9/xEADgApAC8AKAAlABUAJwAPAAcABwABAP//+f8AAAIAAAAAAAEA9P///wAA6P/j/9z/6P/w/+j/5v/i/+D/8f/s/9H/3f/Q/8b/3v/m/+r/7//1/wQA9f/6/wkABAANABgAEwABAPv/8P/j/+7/8v/6////BQAAAAEACQD9////BAAEAAkAEwAVABsADwATABgAGgAYACsAMQAyADAAKAAvACUAHwAKAPv//v8IAAIA5P/X/9X/0v/Y/+z/9f/v/93/5v/7/+z/7P/2//v/8f/6/+v/AAD+//n/CwAJABkANAAxACgALgAvAD8APwAxAB4AIQAeABUAHAAcAAQAAwAIAAEACAADAAMA9/8FAAMA/f/7/+3/6f/F/9v/6f/0//P/0P/m/+H/6//4/+b/5v/y/9L/3f/Y/9H/4//f/+D/x//P/8L/w//O/9r/1//c/+L/1P/g/9//9v/9/xMAFgAaABoAEwAnADIAQwA8AEMAMQApADEALwA4ADMAKAA7ADIAFwATAP//DgARAA0AEgAYAA8A9v/j/+//7f/S/+H/3P/Z/+H/3P/b/+j/6f/v//X/8//z/+b/3//Q/+D/8f8CAPr/AQALAAUADQD//wkABwALAB0AIQAvADYAHQAWABAADAAYABMAFgACAP7/+f/w/+v/7v/m/+P/6P/f/+D/5P/2/+P/2f/j/+n//v8NAAUAGQAgABQAGAAHAAcADAADABcAGAAvADIAHgAdABwAIwAYABMAHwAZAAIADgAIAPn/8//w/+X/7P/+/+z/9P/9/+r/+P/x//P/BADy//v/8//t////9v/3/+//8P8BAAAAEwAUABAABgD3/wAABADz/+P/6P/W/9T/4//v/+n/5P/R/8X/0f+4/7f/1v/Y/9r/0P/H/8P/yv/V/9f/5f/p/9z/2f/r/+j/BQATABEAFgAWACAAFQANABMAIgAUABgAIQAdABsAHQAqACgAKwAqACMANQAoABsAJgAiACsAKAA0ADAAKwArACsAKQAXABMACQD9//j//f///wYAAAD4//D/6//g/9r/3P/i/+n/5f/w/+v/7P/u//j/6P/4/+7/6/8VAAgADwAbAAkADAAQAAsADgAGAAAADQACAPr/BAAGABYACwAQABoAAAAWABgAGwAUAA0ACAAFAPf/AAAVAAEAAgD1/+3/5//j/9//7//a/+X/2v/D/9j/1v/O/8X/1f/d/9P/zf/P/97/7//y//n//v/2//T//v///w8AAAAUADEAKQArAB0AJwAnACgAKgAeABIADgDq/+H/AQAJAAYAFwALAPr/8P/s/////v/+/wAAEwAAAO3/7//+//z/DQAVAPT/+//y//f/DwASAP//8P/m/+7/7//0//L/+f/5/+f/2v/U/+H/zP/X/9//7v/l/+P/3f/R/+P/4f/h/+D/1//d/9D/xv/a/9z/4//v//P/9v////r/7//6/+r/7f/r/+3//f/4//L/+v8RAAQAAAAKAP//AQAOABIADgARAAgADgAfACMAJQAvADIAJQAZABkAHAAbACkAGwAYABMADwAJAAcAFAAJAAAABgAYABMAIgARAAAAEAAlABYA/v/3/+3/5//i/+L/2v/u//n/9f8FAPz//P8OAAAABwD3/wMACgAPABcABAARAA8AEQAWABcAAAAAAAcAAQABAAMACAAMAA8ABgABAAEACgAJAAYABwAPAA8AAgD//wgACwD+/xcAFgAMABIAAgD+/wcAAgD6/wAA+f/9//j/AAACAPz/BAD5//v/9/8CAAkAAAAAAAYAEQABAAkADwAHAAYACgANAAIAAAD///z/AAD///X/2//O/8n/1P/S/8L/uv+2/7v/qf+v/6r/qP+//73/0P/b/9L/2P/f/+//7v/k/+7/6v/z//n/AgAMAP//+f8RAAcADAAVABgAGQAGAAoAGQAOABAAJQAbADMAKgArADMAKwAmACkAJgAUABIADwAKAPn//f/2//D/9f/i/+P/7f/l/+X/7v/r//P/AQAHAA4AAwAXABYABgAOAP///v8GAPj//f/8/wcABAD5/+7/5v/g/93/6P/k//L/8v/9//X/6v/x/+//8P/6/w4ADwAKABIAAQD1/wMADwAMAAMADQATABEADAAAAPz/CgAOAAgA9v/s/+T/0//h/+D/2f/W/9X/2v/S/9z/7P/h/87/2v/Y/93/9v/4/wUAEQADAAgACgABAAAACgAkAB0ADQAOABAAEQAOABQAFgAeACAAIAAYAA0AFAANAB8ADgAJABMAFgAKAB4ALAArACkAIgAzACIACQABAA8AFQAhABwADwAMAAEA+P/w//3//f/4//f/8v/z//P/AwAQAAYACAAMAPf/7//7//n/+f/9//H/8v/s//T/9f/g/+7/9P/m/+L/+P/w/+X/4v/a/9P/z//U/9L/4f/r/+P/5//o//P/9f/9/wMA+//u/wcAAgD4/+//3f/h/+///P8DAAwAAAACAPD/7v/4/wMADQAUABgACwAAAPT///8BAAgAEQASABAABAANAAAA/f8VABAA/f/z//7/BQAPAA4ACQAQAAAABAAOAAQAFQD4//b/BAACAAoA+f8JAAkACgAAAAEA8//t//D/7//u/+X/4//Z/+f/5v/b/9X/4v/i/9v/7f/7/+n/3//v//v/8f/3//f/9P/8//r///8JAAQAAwD//wIAEQAMAA0AIgAjAB4AHQASAA4AFwANAA0AEwAlACwAKAAsAC8AJgAnABoAEwAYAAkACQAQABsAFwAXAB4AHQAMAPz/7f/l/+b/9f/9//D/9v/2/+n/1P/O/9L/1//d/+L/6//e/+f/8P/i/9b/1P/a//D/9//1/+//6f/0//z/9//z/wQA+P/m/+f/8P/v/+3/4//l/+3/4P/e/+7/5P/n/+n/5f/e/9//8v/o//H/AwABAAYACgAZACAAHgAiABcAIgAiACYAIwAkACsAKQAgACIAEAD7/w0ABwAEAAEA+//+//r/7P/x/wYA7f/r/+D/3P/i/+H/6v/X/9v/7//0/wYABgABAAIAAwAHACAAFQASABEADQAQABIAFQAeACAAHQAdAAQAGQAaAA4AEgADAAcABAD7/wAA/P8AAAYA7//u/+b/zv/P/9v/3//i/+r/6f/T/8//2//Y/9X/5P/q//3//v/k//v/AAD+/wMAAQAAAO7/6v8JAAMA9P/8//P/+/8IAAcAHwAPABcALQAjACIAFwAdACUAHAAJAA4AFgALAPr/8//0//D//f/o//f/9//m/+H/2//f/+H/5P/Y/+f/4f/N/9r/5P/g//j/AAD7//j//P/5//3/FQAIAAYAAgD3/xIAHwAGABMAEgAGABQADwACAA8ADwAkADcAKQApABQAGgAkABcADQAWABgAFwAGAO7//P/l/+T/7P/w//7/6v/k/+n/8//w//L/8//5//f/8v/y//T///8CAAUABAACAAsACAAKABoACQAHAAYACAAQAAgAEgAaABoADQAIAAkAEAAbAA4AGgAeAA8AFAANAAMA9v8DAAIA+/8EAAYAAQD3/+7/9P/3//b/9v/w//T/6//4//n///8AAPj/AgAHAPr/BAAGAPb/8//z/+3/2v/o/+z/7P/0/+r/2P/g/8f/wP/Q/8X/3v/P/9X/5v/Y/+X/4v/n/wEAAgAIABoAEwATABQAEgAhAC8AJwAlACAAJgAnABAAHgAbAB8ALQAuACYALAAnABYAEQAKAA8A///+/+3/5//1//r//f8NAAQAAAD9/xIAHQAaABcAGAARAP//EAALABUACgAHAA0A6//y//3//f/y//P/6//v/+D/yP/U/8z/4P/b/9//4v/H/7//vP+9/83/1f/M/9f/1P/W/+T/6//t/+b/3P/e/+f/6f/u//X/BwACAP//FwAHAAAABQAFAAEABwASABIACQADAP//DgAgABgAFwAPAA4ACQAOABgAIwAhABYAFAAMAP3/9f/y//v/8//l//L/6v/r//3/9f/7/wkA//8AAAAAAwAWABMADQAYABIAFAAPAAYACwAXACgAIAArACYAJgAWABUAFQAWACEADwD5//f////r//L/3v/c/+P/6f/q/+b/7P/r//P//P8AAPD/7f/1/wkA/P/z/wcAAQDm/8//zf/X/9r/6f/s/+L/8P/v/+//9f/3//3/9//2/wQA/f8CAPv//f//////CQACAPv/8f/1//T/AwALAA8ABQD3/wQADgAIAAcAAgASAB8AFAAOABEACgAOABgAGwAMAP//CgABAAcABgALAAYABgAKAAsADgAMAAwAEgANAAMA9//p//L/AAASAAYABgAKAAYA/P/w//P//P/4/+X/7//4//D/4v/r//f/9P/w/wMA//8AAP3/8/8BAPr///8DAA0AAAADAAoACADz//b/+f/3////9f8HAAsAGAALAAgACgABAAcACwAhACAAEQAkABYACgARAAsADwAPAP3/DAAXABcAFwACAAcA8f/w/+//3P/n/9X/yv/R/93/1v/R/8H/vP/Q/9f/xf/b/9v/3v/l//H/+v/6/wcABQASAA4AEQAWAAMAAwAYABIAFgAkACEAFwAYABMAAwAKAAgADwANAPj/8/8EAA4ABQD4/wAA/f/6//j/7//3/+n/4P/r//n/+//1/wQACgAaABIAIwAiAA4AFgANABEAGwAdAAcACgD8//7/CQD8//3/+v/5/+b/3f/O/87/3//X/+b/9f/y//P/5v/v/+//3P/m//j/7//1/wEA8f/y//v/BAAEAPH/9P/w/+H/8f/2//z/AAD+/+//8f8BAPv/AgD+/w0AFQAIAAgACwADAAAAEAAEAP//AAABAAQABAASAA8AFwAgABsAFAAGAAEA9f/9//z/2v/a/+r/6v/p//P/+/8AAAEA/P/v/+j/+f8AAOb/9f/6//b/8v/e/+///P/z////+P/n//L/7P8GABQAEAAmAB8AGQAxACEAIQAsACwAMgAsADgAHAAdACQAIAAuAC4AKgAmACMAEAAWAA8A8/8DAPn/8//+/+P/4f/e/9n/y//C/8r/xf/P/9f/3//V/9f/0f/X/+f/2f/k/+b/3f/m//D/6f///w8A+P8HAAwACwD8/wUAFwD2/xIAFgAQAAoA/f/3//j/CQAPABsAEgAWABUAEwAWABoAEAADAAQACwAAAPj/AAAHABAACQALAAQA9v/r//n/+//6/xIADwAFAP3/7v8AAAoA9P/+/wEA8f/1//H/8f/5/+//6f/1//P/2//e/+D/6//8//z/9//2//r/+//+//7/AwAAAAEACQAHAAIA8P/2//3/CQAMAAkA9f/o/wEA8v/y/wIA/v8CAAAA/f/1/+//6v/v//L/7//h/+L/+v/7/+j/6v/r/+r/3P/c/+r/6v/5/wQABgACAAEACQAaAB4AFgAMABgAGQAMABYAHwAwAC8AJAAkAC8AJAAdACQAHgAwAB4AEgAMAA0AAQALABcAAwAHAAgA9v/W/+n/4//r/wEA///4/+3/5f/g/9v/1P/m/9X/zP/c/9j/4P/z/+7/+v/z//X/+f/k/97/6f/u//T/CAD7/wAA+/8AAAEAAAACAAQAIQAcABYACwAYABYADgAbAPz/AgALAPT/AgABAPL/6v/u//7/7f/m/+b/7f/5//j/9v/2//r/7P8AAAEABgARAAAA+v/z//z/BAADAAoAEAAZABYAFAALAAIA+v/9/wcABAAGAPH/5//t/9r/4//t/97/8//d/87/3f/b//7/BwAEAAUACAAOAAgABQAIABoALAAfABwAJgA7ADAAKgAxAD4AOAAjABQAHQAqABMAAQD7/wMA8f/z//P/6v/u/+n/3//h/+L/1P/Z/93/6P/p/97/9f/u/+D/4v/Y/+7/8f/r//D/8//y/+v/9f/9//f/9//1/+j/8P/v//D////7//X/+//3//L/+P/5/woAGAASAAgA8//0//v//v/9/w0AEwAGAAkA//8AAPr/+f8DAAAA/f/n//X/AAADAAcADQARAA8ADgAJAAIA//8EAPv//f/0/+H/5//r//b/EAACAAEADQACAPT/6P/v/+7///8EAAkA+f/5//H/6P/6/wMABgAAAAIADwAZABIAHAAkABIAGQAjABIACwARABAADgARAA0ABgAIAAUAAAAQAAwA+P/3//r//P/1//z/CwAAAOz/8v/5////+f/7/wsAEAD9/wsAEwD//wgAFgAfAAMA+/8KAPr/+f////7//f8BAAUABAAAAAEA//8FAPf/AQABAO7/6v/b/97/1P/d/+X/6f/o/9n/3f/e/9f/6P/p/9v/3//x//H/8P/5/+r/8//z//3/9//+/woAEwALAAkAEwAWAB0AFgAeAB4AHAAcABcAGwAZABwAMwAvAB8ANAAmAA4AFgAKAP7/8P/8/wEA8v/o/+L/zP/A/9T/wf/F/9X/3//P/9L/5f/j/+H/5//k/+L/3f/j/9n/2v/1//D/7//j/+z/3//h/wAA/P/1//j/AQDw/+X/6P/s/+j/6////xQAAgDu//r/AgACAPv//f8BABQAGgAYAAcABgAkABkAFgAWAAwABQARABgA9//8/xgAFwANAAoAEgAYAAQACwAPAAAAAAAGAA0AGAARAP7/+//2//z/CQAKABIACQAGAAYA/////wYAFAASABgAHQAgABEABQAIAAkACAD+/wIADAAPAAsAFQALAAoADAD7/wAA///1//v/BQAVAAoA9P/8/+//5f/l/9//6v/e/+D/4P/o/+P/5v////H/+f/s/+L/9v/s//n/+//0/w8AEQAWAP7/DgANAP//AwD3/+z/+P8JAPz//v/4//3/EQAIAA8ABwAUACQADAALAP7/AQAAAA4ADwAJABIACgAKAPz/+//n/93//v8LAAsACgADAAAA6//W/9v/2P/a/+H/4//w/+j/2v/l/9v/4//d/+X/7P/w/wAABgAHAAwADgATABsAFQAcAA8ABAAPAB4AHwAYABQABwASAAUA9P/y/97/4f/q/+b/3v/e/+b/4v/z/+r/3//f/9n/1f/o//T/5//1//L/6P/t//r/BgAdABkAFAAFAPr/CAAJAAEAEQACAPz/AgDt//z/9f8BAAAA+P8GAPv/8P/w/wAABAD8//j///8CAAIAAAADAA4AGgAhAB0AJwAiACcAMgAmAB8AJAArAC0ANwAzACEAJwA2AC0AIQALAPz/AAD3/wIACQDw/////f/t/+7/8f/4//r/5//U/9L/w/+8/8r/1v/e/83/2P/T/7f/zP/Q/8z/3f/h/+b/6f/l/+b/+//4/9//1//i//L/7f/5/w0AGQAIAAcAHwAVAAwAGwAiACIAHQAYACkAKwAcACEAIgAlACkAGQAPAAwAAAAAAAQABgACAPP/BQAZAAUAAAAAAA8ADAAJAAIA8v/y//P/+/8CAPb/6/8CAAMA8P/9/wAA/P8CAPD/+//v/+P/4//x//v/8f/x/9r/1f/J/9n/6P/1/+r/4//x/+j/7v/j/+z/6P/u//T/+P/2//n/DQAMAAMA/f8CAP//+//y//f/AwAJAAwA9P/0/wUA+/8NAP7/+v8AAPP/+f/7//j//v8PAAoAGAAFAPn/8v/k//j/7v/7/wwACgAIAAYA/v///wkACgASAAIAAgAHAAcADQAPABcAEQAPAA4ADgACAPz/+f8BAA8ADgAPAPv/AgAIAPf/7f/6//T/9f/z/+L/6P/l/+j/3v/c/9//7//y//L/+/8FAPz/8/8CAPz/BQAFAAcADwAbABYACQAQAAsAEQAZAA8AEgAPABYAEgAOAAQABQD///j/AwDw/+//8P/y/+v/6//y/+v/+v/1/wEAAwAFABcAGQASABMAGQAXABkAEwAEAAEA7v/d/9X/3P/x/+D/1v/U/8L/zf/P/8//5f/g/+P/8f/p/+n/5P/S/9H/0//t//D/7P/9/wQAAQAPAAsACgAJAAUAGwAaABgAFgAbACEAHgARABQAFAALABcADgAQABMA/v8EAAQAEwARAA4ACgAGAP7/7v/u/+b/4P/G/8//5P/U/9L/4f/h/93/5v/m/+P/1//h/+b/4P/7////AwAPABQAFwAMAAYAAAD7/xEAIAAlACIAJgAfABIAIQAiABgADwAbACoANwA4ABwAHQAXAAUABgD8/wIA/v8CAAgAAwAAAAMACAD4/wAAAgAJAAIA/v8XABYAIQAlACAAHAAJABEAFQAWACEABAAAABIADQD8//z/9//s//r/AwD9/+7/5v/b/8T/0//P/83/2v/c/9v/y//L/8f/yv/T/97/9P/4//L/6//4/+v/8P/2//j//v///wAA+/8DAPv/+//3//v/AQD5//v/7f/+/wwAEgAVABcADwANABoABQACAAAA+P8EAP3/8/8BAPT/AgD6/+b/8f/b/+T/6//X/+L/7P/j/+b/2//V/9z/4v/g/+n/7v/5//D/6f/5//7//f8AAA8ACwDv//n/BAACAA8AIgAaACYAHwAOAB4AHwAbABsADAAZABgADgAJABUAEgAAAAAA/v8CAAEAAwD0//z//P/8/xMAAQD+/wcAAAAHABgACgAFAA4A/P8AAP//BQAMAAMAHAASAA4AFAAYAB4ADwAAAPb/8//1//7/9v8DAAYA9P/h/+X/6f/i/+7/6f/i/+L/4f/J/8T/tv/B/8//yP/L/87/0//D/9//6f/0//b/+v8FAAMAEgAPAA0AGQAVAAEAAAAOACYAIgAlAB4AGwAfAB0AFQAKAA4AEQARAA0ABgAEAAoADgAKAPf/CQAVABQAFgAQAAoACAAPABQADAAIAAYA/P/9//f/9//6//X/7//y/+3/4//c/+P/7P/m//H/8P/y/+L/3v/w/+X/4v/f/+b/3f/S/+X/5v/k/+3/+//v//f//f/4/wAA//8bAAwAIAAgAB4AMAAsACkAEgAUABgAFAD9/xQAIQAQAAwA/P/p/+z/9f/x/+n/9v/6/wAAAwDi//P//v8BAAkACQAEAP7/8v/m////AAAEAAcA9v/t/+H/5//m//v/AAAAAP7/8f/r/+D/6v/g/+D/5P/p/+f/3f/W/9f/5//u//r/+v/s//L/AwABAAIAAQABAAsAFAAMAAYADwAHACIAJwAXABAACwAbAAoACwAAAPf/CQACAP7/BQAGAPf//f/7//7//P/0//v/AwAPACIAJgAkABoAHQAaABIAKQAnACYAKgAhABgAJQArACsAKAAYAB8AGgAXAA8ACwAPAAAAAwABAPf/8//6//r/+f/7//f/6f/f/83/0v/k/+L/5P/g/+D/1v/V/9f/zf/R/9X/5P/l/+v/4v/W//T/9//y//n/8P/q/9//6v/v/+7/AAD6/+X/8f/p/+n/5v/s//z/3P/m//j/AwD8/wAAFgAXABoAFAAFAP3/AwAFABcAHAAdAB0AHAAaAAcAFgAgABYAGQAXAB8AKwAUAAwAAwAJAAsA+//7//X/9f/5//z/AAACAPT/AAAQAPX/AAAKAPX//f/t/+v/4v/f/9r/2f/f/+b/+P/w/wAA9P/m//T/+/////j/+P8AAPr/7f8EAP//7P/s/wEAFQD2//T/+f/6//7/8v8BAAAA8P/l/+n/6//V/97/4f/i/+P/3//v//L/+f/7//z/AgAPACMAEwAgABoAJQAlAAgAFAAHAA4AEAAHAAgABAAGAA4ADQANABIAEAAGAAUACwAWABYAAAAFAAAA8f/5//L/AQABAPX/+//7/+z/8f/w/+n/8//z//L//v/v/+r/7f/y//D/+v/w/+///v/x//D/7//t/+j/9P/0/wAACwADAAMAEgAcABEAHgAWABUAHwAVABUADgAAAAcACwAEAAgAAAAAAAYABAAKAAIABwAEAA0AEgAAAPP/9//v/+//9P/2//X/8P8DAAkA/P/x//X/8P/p/+//8v/7/wIA9v/2//P/8//k/+D/7f/u/+n/5v/1/+b/7v/4//z/+P/m/+7/AAAFAPX/9v///wAA9//8/wcABAAAAPz/AAACAAMAAgASABcAFwAVABsAIAAJAPT//v8GAAMADAALAP3/8P/0/+P/+f8DAAAACwD5/xIADwAMABgAIAAjAB8AFQAJAAYABAAPABIADQACAPz/CAAMABMADAAAAAkADQD6/wkA//8AAAMADQAOAAUAEADu/xIACgAAABQACAAgAAQAAgAGAPb/BwAAAOr/7P/1//L/6//u/9n/0P/f/9L/1//R/8n/yf/B/9H/zP/O/9j/0P/T/8//zv/W/9r/3f/e/+3/+P8AAPf/BQAVABkADgD5/xAADQAQAB8AHAARAA0AKAAhACAAJgAkACcAJwAwADcAJAAfABcAJQAwACIAKAAVAAAA///8/wAA+P/4//P/7v/m/+v/4v/l/wcA8//2/+T/3//m/9j/7f/+/wYAAgALAP7/+f8FAAwADwAEAAAA9v/3//v/9//0//f/6P/j//H/6f/r/+L/7f/+//P/+v/5//j/BAAAAPv//P8JAPr//P8GAAkAEgAMAAcAAQAFAAYAAgAIAAEADAAIAPr/BgAIAAcABwAHABUAFAAEAAAAEwAOABkAGAAVABAAEAALAP3/DgD+/wAADwALAAoAAwD//wMABgAJABAADAAXABUACgAOAPz/+v8VAP3/AgAAAOf/4v/m/97/4//r/+//3//P/87/vf/B/7j/zP/O/8j/2//V/93/zP/Q/9f/4//l/9v/3f/a/+H/9v////7/+f/0//n/9P8LAB0AGAAlACQAGwAaABUAHAAtABgAMAAwACsANQAlACQAJAAbAAkA/v8HAA4AFAAfAAkAEQAVABYAEgACABUAFQAVAA4AFwATABEAFAAQAA0ABQAAAPz/BAD7/+j/5v/7/wAA+P/s/+n/8//k//X/9//p/+T/7v/y//L/AAAhAAoAAQAAAAQADAAAAAUA/v8AAAcAGAAPAP3/+v/x/+7/7P/t//b/+//0//L/7P/x//X/+f8FAAAAAAAGAA4ABgD+/w4ACwAWABUABQAAAAQA/v/+/w0AAQDq/+//7f/t/97/1f/t/9n/3v/x//f/+v/y/////v/8/wYA+v/3//H/9v/t//b/AgALAAoAAwAdABkAGQAbABwAGQAhAB8AHQApAC0AJAAaABsAEgAAAA8ACgALAAQA9v/3/+b/3f/j//H/4v/j/+3/4v/c/9r/2v/l/+r/5//x/+T/3//x/+f/7P/2//f/EQD//wUAAgD1//b/AgAeABUAFgAVAB0AEQASABYACQASAAwAGwAYABEAGQAYABQAEAAGAA4ABgAAAAEAEwAVAPz/7//5/+v/2f/w//j/CwAEAAAA+//u//j/+v/0//L////0/wEA///5//j/8P8RAAAA9f/z//L/+//2/wEA/P/4//j//P8HAPv/7v/s//D/8f/o/+z/3v/u//L/6v8LAAUA7f/w/+b/9//9/+//BAD2/+n/6f/t//v/6P/s/wAABgASABEABQAPAA0AEgAVAP//CgAVABwAIgAjACEAJQAWABEADAAEAA4AHgAjAAsADAAMAAcA+P/0/+v/9/8AAAAABQDz/wsA+v/8/wUA/P8HAPT/AgALAAAACQD/////DQACAAYADwAOAP7/AQAMAP7/9P8FAPr/+/8AAPf///8DAAcABgAMAAYADwAOAAIA/f/+/wgAEgALAP7///8IAAoA8v/0//X/8v/s//H/AwD9/+r/6v/t//T/9//6//3/AAD+/wIACAD4//T/8/8DAAsABQAHAPD/6P/b/+v/+v/5//D/7f/u/+3/6f/o//j/CwAAAPz/BwAJAAcADAASABIAFwARACAAIAAUAB0AFQAMABQAHQAHAAEABgD1//P/+//1//P/BAABAPn/+v/3////5//4////+v/z//n/AADs//3/+P/2/+//5v/z//P/9//5//X/8v/4/wEAEwAJAAcAAAAQABwAFQAVABUAGgAPAP3/AgD///f/+//5/wAA8P/m/+3/3P/f/+n/7v/y/+X/3//o/+v/9P/z//D/+f/1/+f/7P/u//T/AAACAAEA///8/xAADQAGAAoAEwAWAAYAAQD1/+X/7f/t//r/8P/2//f/+/8GAP7/BAD//wUACgACAAsAAwABABIADwALABYACgAKAAgACgAcABEABwALABQAGQALABYAGgAfAB4AFwAcABAABwACABAADQAFABAACQAKAA4A+//0/wcACQAEAAUABwAFAPn/+P8AAPv/9f/x//T/7P/w/+v/2v/Z/+X/4v/l/+H/zv/S/8n/0//W/+T/1v/l/wAA8//6//T/9v/s//n/8//q/+//9P8AAOr//f/6////BwACAAQA/P/8/+z///8EABwAHQASAB8AIgAZABkAHQAUABkAIwArACcAKgA1AC8AMQA1AC4ALgAzACMAJAAfABcAHQARAAkAAwAAAPr/6//2/+j/8v/q/9//2v/W/9L/yf/W/87/5v/Z/8r/zv/c/+H/1P/a/9f/+/8CAAUABAANACIAJgAtACQAJwAbABkAGwAdACsAKwAdABEACwAQAA0ACwAAAP//BQD3//P/8//1/97/7f8AAP//+//u/+z/4v/h/+b/+//1//j/AgD+//v/+//r/+X/1//M/+P/5f/x/+3/7//z/+3/3//w//b/6v/v/+v/5P/i/+b/8P/+//z////v//L////r//j/EAAXABEACAAEAA0AFQACAAgACwAWACoAGwAYABYACgABAAgAFgAbABYAFAAYAAkA9f/u/+r/7f/g/+f/8v/y//f/AQAAAAEA8//t/+n/7P/0/+f/AAALABQAEQAWABUABwAVAA0AFAAUABsALwAoAB0AKgArACgALQAuACAAFgAAAAIAAAADABAABwAEAPv/7v/x/+7/7v/u/+b/7P/q/97/4//j/9v/5v/p/+r/9P/4//L/5P/a/+H/3//f/+P/2P/U/9T/4v/c/+D/4v/Y/+D/2f/v//X/AwAMAPv/BwARAAsABgAMABYAGgAeAC0ACAAJABcADwAaABQAGwAMAAsAGQAJAA0AFgAjADMAKgAOAAwAEgAVAAwADwAPAAkADwAKAAEA/P8DAAYABAAGAAgA+f/2////9f8BAAwAAAAAAPj//f/+//7//P/2//X/8P/5//z///8MAA8A+f/v/+X/4f/w//r/AwDy/+f/4f/i/+b/7f/6//b/8P/y/+7/4v/k//X/+P/3/wUADAAKAPn/6//y//j/8P/2/+r/7v/u//P/+v/q/+3/9/8BAAQA/v/2/wAACwAJABEADAAYAB0AIQAuACYAOgA0AC0ANQArACsAIgAkACYAJgAYABEABwD+/wAAAAD5/+f/6v/t/+L/2v/d/93/0f/d//L/4f/i/9//4v/l/+z/5v/a/+7/6P/p//L/6f/c/93/2P/o/+P/6P/p/+L/5v/r//H/4//n/9v/9v8AAAMAHQAZABwAGgAkACYALwA3ADQANQA9AC0AJgA3ADUAQAA4ADkALgAgACQAJwAiAAoACAALAAoABwAEAAAA/P/0//L/4f/X/9j/z//Q/8//0f/T/9f/3//P/83/0v/V/8//1//o//H/9v/q//H/7f/u/wkAAgDx//P/9v/t//7/CQAMAAoAAgD6/wEA/v/2/wkADwAYABAABgAFABIAFAAYAAoA+/////v/AAACAAIAEwAYABEAKwAdAAoACQAKAAUA//8DAAUAGAAgACIAGgAjABsAHgAaAPf/9v8CAAsA8//w//n/+f/5/+H/2f/U/9f/6f/k/+z/9//n/+3/8//x//3/BgADAAAAAQD6/wcAGQAPAAkADgAIAAMACAARABAAGgAJAP//9f/1//v//f8FAAAA///8/wMA9P/s//L/7//4//D/8v/1//H/3f/m/+X/3P/Z/+3//f/+/wMA/v8FAAQAAwAIAAEABwAXACEAKQAWAA0AGAATAB8AMgApABoAHQAWABIAHwAeABEADAAAAP//CAAFAAAAAwD//wEA/f/7//b/1P/Z//v/BAAGAAcADQATABoABwAEAAUABQAJAAoACQAAAP7/6f/o/+j/5P/c/9n/2v/T/+X/6//p/+3/9v/x//r/6//y/wMAAAAFAA8AAQDn//n//f8AAAUAAAD6/+3/8P/m/9r/2P/c/9z/1//h/9f/xv/W/9//2P/a/+f/1f/e/+v/+v8MAA4AIQAeACAAJAAXACEAJAAmAC0APQBWAEkAMwAQAP3/AgANABYAGQAjACEAIAAuACcADQAWABYAHAAVAAQABQD9/wgACAD///b/5//e/93/0v/f/+D/1//U/8b/0v/h/9//3P/d/9b/3P/l/+z/7P/2/wAACgALAAEA7v/r/+//AQAEAP7/DAACAAUA9P/v/+3///8QAAoAAgAAAPz/8P8IAAIACQAYACoAPwAiACQAJAAdAB0ADQAeACEALgA5ACkAJwAdAAIA+//5//P/FwAZABsAJQAbABIA/f/y//3//P/3//7/6v/k//D/8f/3/wAA9f/q/+v/5P/p/+T/2P/u//T/9P/x/wIAAQDz/wQA/f/x/+P/4v/4//3/+f/4/wIAFAAYABUAAwD2//P/7v/3/wUA/P/x//D/5//p/+f/7f/4/+7/5//z//L/8v/r/9//4f/X/+n//P8aACcANQAsABYAHQAZACEAKgBAAEIATABSAEwAOwAgAA0A//8GAAkACwAZAA0ABwAMAOn/4v/I/83/zf+9/9H/0P/h/+T/6//x/+7/5v/z/+//8v/2/+z/9/8JAAwACgAYABkAHgAZACQACgAKAAEA9f/7/+//EwAHAAgAAADz//v/7P/X/9v/4P/W/9z/3//g/+3/5v/f//r/BQD4////9P8BAAcABwAiAA8ACwARABEAEQAEAOv/9P/+//j//f/2//P/7v/z/wAACgAHAAYA+P/v/+n/6P/p/+z/9P/x//z/+P/9//L/3v/n//T/+P8JAAAA+v8FAPv/CgAIAPP/8P/8////BQD+//n/AAAAAAIA/P///wwAEQAQAAwA+P/1//X/8//5//7/BQAAAAYAGwAZABgAEgAaABsADgAXABMAFwAaABwANwAYAAUACQD1//L/2//0/wAABwD8//v//v/9/woA7P/5//j/AQAQAAAAAQAJAAgAGgAUACIAIAANACMAEwABAA0ABwAZACkAGgASABAAFAAGAP///f8AAOn/6v/m/9n/3f/4//f/8v/r/93/5P/R/9j/2//t//T/+//2/+3/9P///wsAAADv/+z/8v8AAA8AJgAiACIAOQAwADgAKwAUABsAKgA3AEIANgAdABEADgAOAP//9//q/+T/3f/X/8r/1v/Z/8T/2f/L/9L/1P/K/9n/yP/U/+H/5P/m/9f/3v/q/+v/2v/J/8X/zP/f/9r/6P/f/9j/5//f/+H/4//p//H/+f/3/xQAHQAVACkAHgAjABQACwAZABcAJAA5AD4AOwAkAB8AGgAVABMAGwAXABwAIwAVACUAHwAXABQADgAUABYAHgAbABMAEQD6//7/BwABAOf/2P/T/73/xv++/9f/7v/o/+n/3v/j/+D/0v/h/+f/6v/3//P/7P/f/+7/AQACAA8AEgACABAAKAAsACEADwAHAAAADgADAPP/6f/z/+X/5//0//P/6//q/wEAAQD6//v//P/9/wMAEQAcABMAFAASAAcA//8LAAgACgAYABcAIAAnAA0ABgD///z/FQAUAAwABgD9/+7//f/4/+r/6v/o/+3/+//o/9n/1f/d/+L/7f/s/9X/6//u//v//v/x//T/9f/2//T/8v/+/w4AJwAwACsACwAGAA4ADQATABgAJgAXACAAEAD8//X/6f/s/+T/5//1/+z/4v/k/+r/7v/5/+7/7f/j/+H/8v/r//H/6P/p//P/5P/j/+//6//v/+X/6v/w//j/AwDr//L/8v/3//z//f/3//P/+v8LAB0AEgAMAAsAIAAnAB4AGQAcAB8AHQAaABQACAAPABkAIwAnABMAEwAmAC0AHgAhABIAAgAOABEAEwAaACAAJQAnACgALQArABQAAAAEABMAFwALAPr/6P/n/+f/6v/3/97/5//u//X/8f/o//7//P/w/+z//f8HAA4ACgAPAA0ABgANAP7/8f/z//b/8P/n/9b/y//M/8v/0P/L/7j/zf/H/8v/1f/F/8b/zf/R/9z/3P/0//b/CQAGAAMAHQAbACgAJwA4ACkAJgAoACcARwA8ADwAJwAOAA0AAgASABgADgAMAAcA/f/+//f/5f/v/+j/6f/s/+j/6P/s/+n/6//h/9v/2f/W/+X/8//z//v/8//c/+//1v/Z/9D/yP/n/+P/7v/2/+v/4f/i/+n/BAD6/wMA9f/2/wAA+f8GAP3/CwADAAoABgAPAA0AAAAIAA8AFQATABcAFAAQAA4AHAAeABMAFgD6//P/BADv//3/+//0//3/9P/4/+j/7/8IAPf/9f/5//T//P8BAAYAGAATAAoAEAAQAAgABAALAAsAEAAPABcADQAbABYAIwAoAA4AAAD//wMABwAOABQAHAAVACAAEgD9//D/6P/t/+7/7f/w/+z/4P/g/+D/0//R/9j/xP/R/9n/2//k/+3/7v/s//j////5//D//f/6/wIA9/8AAA4AEQAcABkAGgAfAAoAAAADAOv/7f/0//r/BAAAAPz/AADm/9v/2//q/+7/8f8MAA8ACgAEAA0AFQAbAB4AIwApAC4AFAAbACoAFQABAPX/BwAGAAcADgD//wAABAD7//T/8f/i/+3/6P/t//D/6P/z//n//f/x//L/7f/l/+7/+//3//T/7P/p//P/5P/j/+v/6P/j/+b/8v/i/9r/4v/u//j/9v/+//v//f8EAAcAEAAEAPf/+v/3/wAAAQACABAAFAAPABIAHwARAA0AGAAZAAkADAAcABIAIAAeABcAGwAOAP//5P/l//j/+////w4AGgAMAAYACgAHAAQADQAXABUAFgALAAIA/P8GAAkACgAUABAADQAaACUAEQAQABoAGgAUABgADwAPAAoAAAABAPX/6f/o/+j/6//s/9v/2f/g/9f/5P/1/+7/6//h/9//5P/c/9b/1v/R/8j/0v/l/+n/6v/g/9T/4//n/+j/7f/s//n/+P///wkADgAKAAgADAADAPz/CAATAAQAFQATABIAHQANABkAIgAhACcAJQAiACAAIgAjABcAGQAwACoAIgAcACEAFQAZAAYA+f/z/+b/7f/g/+D/7P/m/+H/6//k/9r/5P/m/+j/5v/l/+T/3f/j/+z/9//6/+3/2//i/+z/7//8/wIABgAJAAsAAgD0/+z/6//z//j/EAARAAMAAAAAAAcACQAdACUAGwAZABwAJQAkACAAHwAdAB0AHgAFAPP/8//5//P/3P/a/+n/5v/r//j/BgABAPn/9//3//T/8f/0//v/DAAQABIABwACAAAAAAACAAQACgAKAA8AEQAOAP//BQATABAADAAMAP//8f/3/wQAAQAIAAUA8v/t/+z/4//t//f/8//8////BADt//b/9f/1//L/3//1//H/8P/p//n/+f/x/+r/7P/r//f//P8DAA8ACAAUABMABwAAAPn/AQANAAcAHAAYAAAA/f/+//r/AQD2/+3/9P/5//f/AAAWABkAIgAXAAsACwAAAPn/AwAEAPT//f8HAAEA///6//X/8//4//P/7v/g/+D/5f/3//X/6P/q/9z/1P/D/8r/2//k/+b/4f/m/9v/3f/i/+f/8v/q//L/9v/x//P/+/8HAAkABwALAAkABQATABMAIQAhACAANgAwACQAJQAvACoAJgAsAC0AHgAVAA4ADgAIAAsACAAGAPf/9P/1/+7/9f/t/+L/5//x/+///P/8/wIADgAAAPn/9f/n//L/AQD9//////8HAP//6v/n//H/9P/4/+j/4v/n/93/5v/y/+v/+P8AAAIA/v/z/wIABgAOAAkACwAMAAsAHwAXAA0AEwANAAsAEQAVAAcA/////wsAEgD9//7/9f/p/+//8v/1/+//9P/r//D/9f/x//X/+f/2/+f/6v/g/+X/6//p/+7/5//u//b/8P/i/+T/7f/w/wEABQAIABUAFQALABMAGQAlACQAJAAjABgAEQAKAB0AIgAkADAAKwAdACcAIQAWACQAIgAeABEADgATABQAEAAYAAYABgADAPb/9P/x/97/2f/f/93/4f/Y/9j/3P/q/97/4v/a/8z/y//K/9//4v/o/+3/8f/p/+n/5v/r//H/9v8BAAoABgAAAAkA+f/3//z//P/+//7/+v/4/wMAAAADAAwADwAJAAoABAANAAgABgAMABEAHwAIAAEAFAAWABQAFwAUABIAFQAVABUAEQATABwAIQAXAA4A+//5/wUA/P8IAA8A/v/4//f/9f8EAAAA7P/x/+3/3f/c/+H/3P/k/9//5P/v/+3/6P/o/+X/4//j/+r/7//q//f///8EAAcAAwD6//X/9v/r//n/AQAKAA8ABAD9//X/7v/k//H/8P/3/wUABgABAPz/AQAAAAUA/P8AAAQAAQD7//z/CgAGAAcAEAAPABUAEgATABIAHwAeABYADwAAAAIA9v8EAAwABwAMAAMABADw//n/AQD+//j/7//1//P/8P/t/+b/6P/a/9z/6P/q/+b/2f/c//X/9//7//n/+f/0/wAADQAQAAsACQAUAAsACQAHAAcADAANABEADwAMAAQA/v8CAAIAAgANABEAAQAEAAAA/f////L/DQACAP//AAAJAAwACgAFAAAACwAAAPj/8//0//H//P/7//7/BAD+/wYADgASABEAFQAeABUAEgAVAA8ADAAHAP3/9P/t/+v/8P/r/+3/6v/w//X/9f/l//H/6//a/+n/4//m//D/5v/w//X/9f8DAPf/6f/y//T/8f/+/wQACQAQAAsACwAEAAEAAwALAAUABwAMABIADAALABQAEAAOAAwABwAKAAEA/f8AAAEACwAJAAMAAQD+/wkAEAAPABcAFAAOABIAAAAFAAYACgAFAAgACgADAAAAAwALAAcABgD7/wAA/f/2//P/8//6//f/+P/5//b/6f/p//X/7v/m/+v/8P/v/+r/7P/q/+j/6v/n/+r/3v/p//v//f8CAPv/AAD4//n/9P/t////CgAKAAgADQAFAAQABwACAAAABwACAAEA+v/p//3//P/y/+n/6f/n/9//3//l/+T/4//u/+3/8P/s/+//9v8BAAAACgASAAwAFgANABIAFAAeACQAGAAYABcADgAJAAkAFAAYABQAFwAZAB8AEQAOAAwACgAOABAAEAD//wAABQAKAPv/+v8DAP//+f/4//v//v8GAAUACwAJAAoABwAFAAMA/P8AAPf/+f/s/+//7v/r//7/BQD5//f/+v/v//X/+P/2//r/9//w//T/9//4//3//v8EAPb/8f/t/+r/+f8AAAEAAAADAAQA+f///wEABwAMAAkADAAIAAQABQAWABYAFQAkACcAKAAnACMAEgATAA0AEAAWAAkAAgDx/+/////4//P/9//w/+f/4//g/+D/5v/5//T/8//p//L/AwD2/wAAAwAAAP7/AQD4/wAABgD8/wAA+P/n/+n/8v/y//P/5//0//b/8//w/+X/3v/c/+T/1P/c/9z/z//d/+H/6f/g/+L/8P/s/+H/6//x//r//P/4//n/7P/u//b/+v8AAAoAEgABAP7/+f/6/wEAFAAYAAwACwAAAPz/BAAGAAkACQARABIACwANAAQADQAQABYAFQAKABUADQAMABAAGgAbACAAGgAPAAwABwAbABQAFgAeABkAGwAIAAQAAgAEAPr/AgACAO//8v/i/+z/7v/0//r/7v/o/+X/3//e/+//7f/z//H/6P/q//D/+f/2//T/BwAEAPv/AQAFAAcADwAPAAIADQAMAA4AFwALABQAEAATABIAAwD//wYAEAAZACIAFQAVAAwACQAJAP//AgANABUAFAARAAgAAwACAAYA/f////7//f8AAPn//v8AAAAA/P/x//f/8P/2//r/9//2//n/+//0/+z/6v/u/+//5v/y//b/8v/o/+3/+P/1//b//v/+//X/8//v//H/8v/3//X/8//w/+//9P/x//L/AgALAAIABgAHAAAACwARAB8AHwAIAA4ACgAOAA8ADQAVABIACAARAAUA+f/7//z/AAAAAP7/8v/3//T/8P/t/+T/6//q/+j/4//i/9v/5f/p/93/5f/s/9v/4P/l/+j/8//5/+7/4v/p/+r/7P/x//n//f/0/+z/7P/0/wAABAAIABMADQASABIACgAYABUAFgAZABgAFQAYABQABgAQAAkAFQAQAA8AFQAMABUAGAAVAB8AEwAGAA4AAQAHAAoABQAHAP3/9f8BAAEA8f///////P/5/wAA/P/5/////v8JAPz/+v/z//H/+P/u//j/+//3//H/5v/f/+H/7v/y/+r/8P/1//3/8v/2//7///8DAAUABwD9//v/AAAHAA8AFwAaAB0AGwAeACMAIAAhABYAIAARAAkAEAAFAPr/AAD6/+3/6//o/+7/6//z/+z/9P/6/wAAAgAAAP3/+//+//3/DgAPABgABwALABEADQAAAAcADQD4/wAA+v8GAAgA//8AAPv/9v/v//P/8v/x/+3/8f/x/+z/3//c/97/5P/Z/9n/3//U/9n/0//b/+H/4v/s/+r/7P/u//D/9P8CAAMAAwD+/wUABAADAA0AGAAWAA4AJgAVABcAFQAYADEAKgAvACsAHQAZABUADgAZABEACgAJAAoACAASAAoACQAFAAcAAQD+//3/8v/7/wAAAwABAAAA+/////T/6v/v//P/+f/6/wAA8f/7//z/+v8AAPT/+f/r/+D/7f/l/93/7P/z//L/8v/t/+//5//s//X/9f/6//n/9v8DAAkAEgAQAA8ABQD+//3/+v/+////BwD+//b/+P/v//L/AAAJAAwAAAADAAMA///9/wAACwATACUAFgAMAAsABwAJABAAAwAFAAYAAAD///X/7f/0//z/+f/u//L/7P/r/+f/4v/z//P/9f/z/+r/8P/0//f/AAAAAPz/AwAJAAkABgAPABMAEgAYAAwABAAEAAcADgACAPz/+f/3//L/9P/x/+3/+P/4//T/9f/l/+z/8P/y//3/+P/x/+P/4f/l/+v/9P/4//f/9//4//b/+//v//T/+f/5//X/9f/1/+7/9f///wcACwAUAAwACwAMAAUAFQAOAAwADgANAAwAGgAbAB8AJAAnAB8AFQAQAAIAAQAFABcACgD///7//f8AAP3/CQAGAAsAAgD8//n//v8JABUAEwALABEA+f/0//T/8f/4////+v/x//L/3v/W/9r/3f/i/+3/6//u/+v/3P/v//r/+v8AAAoAAQACAAUAAQAKAA0ADwAOAA0ADAATAA8AFwAaABAAFQAHAAEACAAGAAsACAAHAAcA/P/w//H/+P/x/wIA/P/0//b/5//r/+T/9f/y//P/9v/o/+v/5f/p//f/+v/v//7/+v/t//P/7v/y//P/7P/o/93/4v/m/+L/6//m//D/8f/v/+3/8v/7/wMACQAIAAAA+f8JAP7/AAAAAAMAFAAWABUAEAANAAgAEQAUABgAIAAZABMAHQAYACMAHgAgACcAGwAWABQAHgAmACIAIgAcABQAEQAOAA0ADAAHAAEAAwD///r/+f/+/wUABwD+//X/7v/u//L/9//1/+z/8f/v/+7/7//x//D/8v/+/wAA/P/x//X/8P/5//z//P8CAPr/+f/1//f/7f/2//f/7f/v/+r/5f/q/+r/8//3//j/AAD+/////v/9/wAA+f/z/+n/8f/x//j/9f/3/wIA/v////D/7f/6/wAAAwADAA0ACAAGAAQA9//0//f/BgAaABgAEwAYABQAFQAcACAAIQAdABwAFwAVAAwAEgASABAAFwADAPv/7//r/+j/7P/r/+T/5v/a/+H/3P/i/+D/5P/s/+f/6f/n/+v/5//v/+3/6P/o/+j/6v/o//L/+v8AAPz/CQAAAAEACAAIAAUABwAKAAAABwAEAAsABgABAAgABQD///3/AgD9/wQABwAFAAUABAAIAAUADAAVAAwACQAKAAYABAD+//f/AgAMABIAFQADAAIAAAD0/wMAAwABAAYAAAACAAsACAD+//v/9//3//f/9//3//T/8P/y//r/+P/5//f/+P8AAPz/+/8HAAYAAgADAAsAFwAfABgAHQAZAA8ACAD//wUA/v8DAAQA///9//H/7//w/wAA/v/1//r/+P/1//D/8P/1//3/9//9//L/9v/z//H/+P/5//7/AQADAP7/BQADABAABQANAA8ACgALAAwAFgANABUADAALAAsAAQAAAAcADwAQABMACwADAPL/7P8BAAEA/f8BAPv/8f/s/+b/7v/3//j/AQD+//X//P/1//v/BwAAAAQABQADAAYAAgACAAQAEAAOAAAA8//q/+n/6v/y/+v/8v/3/+L/3P/a/+b/7f/a/9//3v/c/+X/5f/k/+v/8f/5//f/8//2/+//+/////n/9P/2//v/8f/3//7/BwAJAAcACgAJAAAACwAYABgAJAAeABoAGgAZACYAIwAqACkAHQAdABMAGAAWAAYACQABAAUABAD3//j/+P/1/wAAAAD+/wAA9f/w//P/9v8FAAsABQAAAAAA9//0//z/AQAGAAsAAQD1//b/9v/1//f/+P/0//T/9P/s//P/7//y//3/+P/s/+z/7P/m/+3/9f/t/+3/7//m/+b/5f/c/+j/7//p/+r/7P/k/+z/8v/0/wEA9/8AAAIA+f/6//7/CQALAAsACgABAAUABAAEAA0ABgASABIADwARAA4ACQANAAkACwASAAcABAAGAAoACgAIAAIABQAEAAQABQACAAUAAAAGAAoACAAIAAsAAgAAAAAA+f/+/wAA9/8CAAUAAgAAAPr//P/1/+3/8P/7//z////8//j/9//x//n/9/8BAAQABAD9//z/AQD8/wMAEgALAAwAFAAEAAkACwAGAAAACQAMAAcABgD9//r/8/8IAAEA9P/8//r/9v/u//X/+v/5//r//f/8//D/8f/1//z/9//0//D/7//t//L/7f/1//D/5f/r/+T/7P/o/+v/4v/v/+z/8P/4//H//v/7//z/9v8BAAAABgAEAP7/AAD2//z//v/8//r/8v/y/wAA/P8DAPv/AQAAAPT/AwAIAAAABAAOAAIABQABAP3/+f/y//n//v///wUACgAIAAsACQAJAAQA+//3//7/+/8AAAsAAwAEAAAAAwAEAAAAAAABAAIAAgAEAAEAAgD2/wAA/v8EAA8AAgD7//L//f8AABUADwAJAAcA+P/6//v/AQALABcADQAHAP3//f8IAAMAAQABAAAA+v/z/+f/8f/2//b/9f/z/+z/5P/n/+H/4v/m//X///8MAAMA+P/4////BgAHAAsACgD9/wAAEQAOAAIAAwADAAAA///6//v/BQAJAAoADQAIAP3//f8AAAgABwAPAAYAAQACAA4AEQAHABwAFAAOAB8AEQAEABAADgANABMACwAIAP7/+v/0//T/BAAFAAMA9//z//D/7P/w//H/+f/8//f/8//m/+H/8f/+/+z/7v/2/9//5v/s//H////2//P/7v/l/+n/4P/i/+r/8f/v//H/8v/n//n/AQAAAAIABgAIAAIA/P/w////BAAHAAQACgAHAAQADwAIAP//8v/4//b/7//r//7/AAACAA0A9f8DAAAA9v8DAAAADwATAAEAFQAZABQAGQANAA4AAAD5/wcA8v/f/+3/9f/3//P/3v/p/9//1f/u/+H/9P8IAAgADQADAPr/+f/8/wQA///w/w4ADwAJAAwAAAATABEACgATAAAA//8AAPv/BgADAPn//P/v//T/AgDx/wAA9P/7/xAA/v/0/////f/5/wIABAAMAP7/+v/1/wcAFAAPABUAGgAMAAMACQAJAB8ADwAAABQABgADAAMAAAAdACAAJQAWAAsABwD1//7/8//1/+v/6f/n/9r/3f/f/93/4v/d/+D/3f/f/+b/6/8DAAEACAABAAYABAAKAPz/DAAVAAIABQAGAAIAAwAFAAUAEgABAAkA//8AAPv/AAAXAAoA9f/z//H/+P/4/+3/9P/o/+n/8f/6/+X/4//t//H/7f/t//j/5//1//P/8v/7/wAAAAD1//r/9v/y//v/CwAbABoAEQAHAPD//v8LAAoAHQAUAA4ABgAGAP3/9v8IAAAAAQAEAAAAAAD2//3/CAAUABoAHgAJAAcAAgAIAA0ACgADAAAABAADAAgACAAFAAYA+f/v/+v/8v/w//b/CgD//+7/3//c/+H/8f/v//X//P/w/wAAAAD7//n/+P/9/wUAAAAFAP//+P/m/+r//f8LAP3/8P/2//r////9/wkA/v8QABQACQATAPr/AAAGABIADQAGABAAAQADABAAIAAoABQAGAAbABgADwD8/wMAAgD+/wIABwDv/+7/3v/N/9v/2P/k/+n/6v/h/+T/7f/m/97/6f/4/wEA6f/i/9v/1v/m/+D/5//b/+P/5//h/9j/zP/c/+P/1v/P/9//4f/y/+r/8//9//r/9f/Z/+b/8v/9/wYABAD///z/AAALABAAHAAdABEADQAAAPX/+f8WABQAEgAXAAIAAQAHAAMA/f8JAPj/EgALAAIADgD8/w4AEwAQAP3/7v/4/xAA+//0//T/5v/3//X/3//q/+L/3//1//j/BAATAA4ADwAUACYAHwAtAC0ADQASAAEAAQACAAkABQDx//f/9P/c/+j/9f/u//f/AADw/+X/4f/4/woAFQAiAAsAGQAJAA0ADgAUABwACQABAP3////w//X//v/4//3/8v/u/+X/4f/f/9L/7v/d/+r/zv/S/9L/4f/3/wQAJwDz/ygAIQBnAGEAMQAdAGYAcQBoAGAAKwBdAPv//v/r/wQA2f/t/9b/s/+x/63/pv+w/63/bP/k/4v/u/+d/+X/AwDt//3/6f/9/8P/3f+9/xgAAAAKAOz/x//K/+D/8f/i/wsADgDm/9r/4//Q/xQA4P8lABIAEAA+AFIAHQDs/8r/3f9sAPX/XABPAFsACwCY/5z/3v8jAA8ACAAXAP7/g//u//z/fgBrAHz/ef8OADgATAAfANX/EAAeAG4AcgBLACIA7P/i////ZQAlAC4A+//D/7f/qf/a/+D/EADS/83/xv+k/0n/+//y/+T/dADw/0UADgDr//T/8f+Y/1IAHwBFAKoARf9+/1L/DQAfAKn/3f+8/7/+Zf2q/JgC4QvnCGL+XPbz95UDmQc2Aq776vm9/e8BVwF4/gT/gf+BAO7/GP6f/Qr/lADLANv+0P1d//MC6ALuAEH+Cf13//f+mAPxA23+vAD6BroDsv60/v0ArAHYAHUAtvuE+If9jg4vCw/5wO3S9mUMsQwwAhj3C/iS/gADsQKfAz//Qv3t/pb8swT+ApL8h/uR+6AFgAaM/FL8ePyfA0gG5vr7+JkCAAfLBJEAR/ZD+tABxAa8BG77Evbx+iwHtwj2AFv24PzeBpsIfwCb+Mf9OgBiAgcDj/ue+1oDKwHqARMA8PlDAMUD4P4H/QEADwDJAM4AoP+I/9L/1v/eABUCX/wJ/z8Dcv96AZn/k/49AyoBDQEAAtMALP+DAeoB9P9G/wj+dQDBA9L9LPwWAgEBQQC1/kz+6fuW/gMAxwAfAdH9U/v3//0HpgAt+jwA9QG7/+D/1fV3CXYHSvRpA7QA0gBsBAX7UP9JAgz8fQNj/jIBXQBE+jEGOP+s/6D99vyVCdj7yf1wBEr9a/nn+KIPlxJM9jbt2f1mEpcQFP8S74DzVAnRDOIByPWF+An+4QIRBMX4d/ax/a8AZQDr/Ir4jwFk/5H7gf/Q/tQBJALzA1P/N/lEAvwMNgYi+Zr4RwTVDUsJdfgg+QwIRga6B+H+TfUiANT/g/v6AQYEXfpb80j/RAdqATQA7/1x/5P/Q/4F/jH6d/3wAwYAmf+H/v77eAC4/DEBYQDA/gIFFv/5+tEErgFZ/fMByP4hAjoEpfnj+iID2gMpAf/+YwFW+U4ERwpcBAr+1PfhAVsDIgOAAnf7oQHhAtv29gD7A0QDNP7F+SICKwPoCSwDtvU/BGMCmwIEAVf5S/8U/roDAwK9/aP3P/xNBBwDiwF4AEf54PfTAPIDdP28/YH97QFfBFb6AgF4/a38VgQYArsBgPzo+LwBPAVmA/ICj/oDAhsGevuvACcG4f3T/fgGcftx+SYGMAZe/wP9Xvir/O4GA/8l+0X5N/7CBoQDx/vS+jX/2wDIADH8pAAm/xz9MQLx/zv6ogEqB9X9yvxq+7n9FAdTBCr4hf2EBMUA/QHKBKkBy/5bBuoAF/wUBkMEIwemBGj0n/9ZB38BZv7p8zX+OAaoAZz9Z/yb9Iz7FgS8/2sBZ/cL/bT8Wv1NBgX92fymApb7QAU4Bf/4eAZVCNz/AgIxAVH/NgO6/Ez+YAWcAJIHl//8+AIBWwDlA0gBTfYs+7kASf2CCL8A2fg59yX/5QWt9lQAegDX/Yf68fpJCGoFL/+8BJ380fjBAsj+EgluBfz5N/saAPYBGg1QBMv0bADI/tH/ywNE/2/95gEiAjgABQDs/MX5OwFZAbX9sgOd+0r6HgKE+ab7bQI8CJYI2vxO/bP64v3KCY0Ifg66+q3v6wc9DMsJr/qO8PX/AQT8BuADZvnvAOr83fof+1j9zgTD/r35gQE7AJX6d/0j/zIE6AFu/I37ggTNCTf3UPa7AcoCWgemALn6gfvXAJAFNwBS/VQABQIOATj80vs9A7D/xftQAtACMwLbCukDkPZu/FT+sAg5EDv/kvge8Ur5LQyt/pgCSQj0+Iv2oPZN+BMG9gT5+xUBv/w9/wz9hfc+ALQA8f/PALz8bv28AmYFkAbHA1f90P5EBGYDzPpd+scCrAT5BagCSPqS+HIAQP5q/SwJWgfQ+tT0lfObAK4JXwU9Am/9fwDl/WEAcAJFAc0Cjf6iAwkCKgAN/tD6QAB1Bn8IgP2F9qEBUAEP+SD9vvkmAI0HE/0W95ABw/6i/l8FWP0wBBMBW/q8/yD+QQU3B3v/sgHJ/mH7SwEVBeAFpwG3/+4Apf0BAkcEJv5N/qD6FPolA7H/Wf21/yz9GvoV/aACA/9PAhL/DvkU/fj9tALEBbf+rgA0B5D+2f/UATECZwGu/WH+4gLEDi8D9foD/GX6Yf/9B2sFNvzE/3kAcfuM+Av84/0MBcb8H/uc/pv+Gf97B68DXfanAp79DAFYCKX/mf1dBT0BlQVMB0j44/9TBWsBTAU7/4TzY/gu/7wE0gY5AYwACvsX+FUBpQSHBHACJ/uR/5ABjfl8/dwHlf8q+8L8xgITCPf5//UY+csAcwOvAJv93fbK/NcLAgrdAt72EPP3BJ4GggIaBQkCzQSCBMH7iQHcAtAA2wS/BXUD2P4q+RH5jgFKBGME6vrj+msC2P93+i32bPZwAwsIoflU/Ev8AAAHAhYAnP2H+YoIWQoWASP9Bvvo/koIBwFGAYgF8P/DBDYDLQAiAJkBfvw1Agj7tgEgBfT7jf3c8uX7BP+BCXkD+PoC9tL2YwJC/ewC2P0f+1sG8gZp/nz32v2pCW4I3QIR/ugCmf5f/nINSAIi+An9yv6TA60IdP0K9fn3gwGDCYH6PvYrAEj7pv+j/9L4ewTzBccBrPkR9q783gPWBecDugEq/vAApP9TBwMFewKQAJH7AwNFBYALwQT0/+v8zvul/s8CHgWPAcoC/fpT/AoAq/wA/dAChABG+b/4bf4AA1kDrv0s+Qf/gf5O/eH9qv34AWQGcAVh/5T79fzF/4YEJQjHBFYEbv6i+uf9Iwr9BPP/tf9v+kgAif3OBKYC7v+X+ZD5pv45AHgBXQJwBVP9g/dp9q//uf5/AQAEfP4M/X/83gCLAFUAcv2YAE4DfgFUAp76/AMrAT395AOkBpYHMv6WAn788f8XAioBDf54ARQA/PgNATz3B/9XAogCtvpX+l8AlABRAJL70gOk/p0B+v04BckFdP3bBMgCFf1h+cgB9/xEBF8G/ACgAEX55wUxAS4C5QICBYP/Fvlp/70A3wemAXr/5P2YAPb9y/3wALD53Pg9/0b9bf8eApkAT/zC+nD8m/0qAncA2v/G+zr9twDXAxP/ff7x+6oAKwOl+8n/LACNBuIKuQJX/rn9dwfIF/ITVAX+8Or1QQIuCekDS/pz+k3xrPld/t4BAv8g8WX1Vfbl+ar/nwBK/soEO/wb9vIBqwY9CXf9PwVKByEBDARwAmb7egR5CGYEPgui/bv43/5QBEgGqgTb/1X6m/xb+/QD9QIu+3n//P7G/1z8+f6q/7z8Jvxc+A0DcQTCAJUClPyl+av83/ybAM4GhfsV+rr+k/82BIUALvx6/uD+FwOaAlf9aQJLAJoEbwUyAWz8XP+aBZoFUATM/iACjQLhA8P+7Pl3AfgAdAeSBUUAqv28+6n9EgDiAsj89P0n/1b/r/1o+xIBn/4A+xX/S/23/sD8BQDKAp39R/v3/b4Ckv6OAt8BB/xe/SgB3gDJ/lcBQP4d//wAwP+c/4j/QwDrAuIEyP/9/asAOQLD/RD+GwLo/hIA2v9dArUDZP1n/d/6efsSAwwGmADZALAATgSZBOb5BAYSAkkFVAFg/lwF6/za/93/3whvAQz6L/l8/V8K6QEUACz+gfp7/VsBFv8l/FoBtP8dA7//3/st+2H9zv95Aa8AtwMJ/8T5g/5/9SYAqAjgBb8DHvqx+Wf+jQD2AFwBdQWKAaQCwPcW9ZL9UgHiB9P/KQAn+efyw/06/s8EfgTc++H8DfhuBJAIKgDK/n3/dwUKCykR0wdkANP+tf65C50HDgQzA+sA2QQwAJYAn/6094r4RACqADz/VP0J+hsA3fxX/KP51/WgAP4CXgN9BIkCbPhe+Kf/OABcAOn/twaeADj7n/w+98cDzQO7AG4I2/4f/vsDWARS/tv/m/sdAacKwAWUADvyRvvQA9sCmwEK9hj0H/taAaD/LP34+Ef/GwQI/M3/DQErArgDTgHg+XD6RwH3BNoHHwTEAI78jf7VAJkCYAR5AUwEagVC/VD+CQNnBNEFxwLsAm0E2/9M/kT+1PslA7sBAQEnAyj66vbz+HT9bgL8Asz/8f79/jz5sPXi/LEA0AQXBy0Bl/z2+zf9Cv7hANP/hwBDA/ICJgIFAkv8Zfqu/qsCvAVqCN8HRwB3+rT5Mf90BZ4LygjF/lT5Pvsy/DT+1v/w/5UBUgLs/d33NfeT+QQCsQM6/0/+KwCHA9MAvPxQAIf/T/9BAekAdP9I/vv9ofxP/ogBqwK8AL/+Af8h/Sr9BgAZBSoHvwEC/c3+XACwBnsHh//D/Lv8ngBNALADzgdaAM350Pot+oj72/4UAgQCQgC++uL42/2Q/Gj8wvg8+en//f5NAFb96PqU+T/82QG4Az4MTwjTCDYJ0wT5A7L/BgR2CloOWwfi/+b9FfyBADX/yQLaA+n8Y/ud9+X4p/jr+O7+Zf+fAar+2PxU/XD8mP0o/rgBeAR8Aiz+lAHiAmz+KgLtADgDfQa1AtEF5f+N/fj+TgOdBZ0D7AHI/WX6b/s7APb+Yv3o/ZX5f/uY/1n+a/mt8yX4afzFAywDovpk+gb9HgH5Aq//6/3lANwEbwMSBXcHPgMUA2b/+f5TAp4AgAEXA0wGmwN//nH6Ivyv/k0BcwWeA3wA3Pwc/fH7RPyq/wUDPghVCRUDrfwt+rf87P9KCEkK1QbpBOL9+f0vAF3/7wCaAxYHRQerBd8AYvop+g75QP1N/2oBLgXMAYv43PLk9Ij1VP/qAvAEdQLb/8D7Gfh8/Ln4/gD0A5AFZATCAb37APnN/aT/xQEoART/wfyL/nUA//1D+mn5P/4yBgMJAQmv+tf0F/WE/usHiAVXAzQAfQAB/Hj/8fwv/eMEvwQOBLD/Zf5pAaECBANdAjsETQMPAl0C0AAOAaECdga3BWcB1frr+RMBsgeICJkDt/8r+xD85wGVBtUGHwKT/xH7Vvre+o7+kQPPArH/1fYW9yL5lv2UBAQBtf4Q/QD5z/el9jX4pvtCAIUCxQDC+uD0gvUx+FMA1f7L/pkA+v65AUMAfv9o/gUBfQMRCZgGvAKXBPoCqAc9A3oAOwBwAtUFKwMqAXX9EAH0BakGnAMe/Kn52/vnA2IGeAIZ/tX7dAItBuQFUAFtAsgHkgeiBKsBsANgBvgHIgP9AWsBbgCSBN4FFAUe/+z6fPzRAHED6QHI/pb+z/6P+y79W/6zAPECoAGxAGr9jfnJ+Rf66PcN+JX2n/ed+FD2mPHr7kjvo/Fn90r5Z/hd9JrzMfjm+8T+Bv6j/9v+qv7j/aT61vts/vgB7QHXAQX//fz9+xv9FwS2BzQJ5gbtAWAAoP02/lkB6AI4B0AMdA78DE0IzwJDA3IKuhG7GMsYkxUUE0IQHhQ6GawYdReMFCwOYQrgBWMCqgN2A0X/yfxn+Gf32vbm8tLyCvFO8Gzwnu+88MTuUvCv8Q7wCPFX7uDsRO217R3vb/KX83PyffF58Ab1EPVR9xP9s/yS/rj+WP+r/ef+E/82AXwDrwChAUz+UPxW+0j9s/zI/aD7Cvyn/mL8yPrp9aL46f2zCj4POAwqBJv99gaWE5AgVyPzHT8cnB7dIKskkCdoKAsrFCoFJIsdGhZZEnAOTAnJB1cA6v25/BX6T/c+70brnuuC7OvqC+p+6h3uNe4x7LDqg+qC6zjt8O3s7DXsNesJ6yTqaefW5MLmievE8fjyx/SF87vz5PN/9Oj4Y/m1+0X/QQI6AYf8NPlL+RP8Xv93/pz+j/zv9rL6//w19071jPxxEG0hNSPBG1MSqhU3H9ku2TmMPMk1kywXK8ko9SkmIvYd7h0tG6ETlgQP9UPwpvTL99n8zPkZ9r7xCe3l8Tv1e/fB+jP6EfqV97fw+evM6nPrkuuX6bXoxefC6HXoW+PW4SLiyOsR8bDy+PBF7O7rBu5F8XT0hPrq+Zz8Nvfp8/Dy8PAi92j4Dfmg+iL54vlw90b2zPf4+F788PrX/Av7DP0XAC8EUwpeE0UimzMLQb04oShtIu8pJzu7SIZGckPcNCwl5BkFEbsMhAc7BIr9jvh374nmVeIJ4fLicOZI7lP1Kvh7+Tr3vfUX9E70h/mLAt4ExgDC+/P0R/Fv7xns1OuK7pzqrux971/rEuk/5Y7nmeqt6l/qXu2b8LX0evPJ8Lfv0+y37hXyC/bM+Eb54fUN8mnrduqT7wj10vqF/jb6Q/v1/BUFIhVLJgwyqznnN+guhyn4J5gzMT8IRdlBEjg6K5cboAr1Amv9XAAM/4D4ovQt7xzt4u5m7hPvrvRM95D7lf4CAVkDBAOIAKT8H/zBAJwB3P+H+DjuMuk46Q7sve4A8WTx4PSe9RfyJPCB61Lrae2/76v1eP0oAD39hfc673rqvem56wLzDPoX/C38FfgH9CzyrvL394n+wwM5BfMD4gE5AIgA+wHaArIDWgMMAwr/nPhS9a3+ixWCKqMpFxRM+rDtYP2jDQQbeh+YHPgfTRxLEEUEF/8eBE0QCRROEvIPSQthCysJbwKN/VP8MgK4CxQMeQQ6+7TyJfZG+rn6IgKbBT8GEQTx+F3wMO/z8Jz2Lvuu/KH7nfiP8VHpj+WJ5k/s8vY1/R0AU/3d9cnwPezH72X2kwFCCAwJ8wKv+8D3UPQ4+an+6wXoC1wGVfm+6Yvco+D47PT3+vyj+oT3//XP81/1HvaW8o/tD+pQ6+j9Ohk5LUQ0gR/TB6UClwhoFYMgQiNEL6M2TTHXJGYXrxC+D5IRURKKEbUOAgts/sb0fupj5Tzx+fr3AnoIIwAb+df03PDU9EH68PwRBNYFmwTxAb761fi+89zz0Pcp/IgBn/3++HHwOuvH5uvomfLQ+IX6i+955O3g6t9S5NPr4u5g9Dz3Dfe/+IPyJu6M7kD40wR4DFkQrRAgDacC9/jv9Lz7vwLACJYCuvxr9GXuResC7PzgBPR/HXhAxV9ZNoEFpfWRAkMuzkx9Ud1Xo02VPJwe/QSC94n0E/2kCPgMAv5t7X7aztfB2I7XYtr/6Qb5JALfAqf6e/Sg70bvTPvJCXQPHRG6CFkC8fmS9IrwPPVb+8P70fvI84jvfuwC6M/mFelf6NvvxPlu/v4BB/e366TudfOd/AUAuvzA/vID7wdACrMGS/t39EDwKPfZ/QcCcPUH5h3XoMup2GzlG/1NAer0meF12lzvWBL3MF88uy9KIY8NNhY2O/9OCWXCV6o+hzoTLeAiTiJZEHEPCAru+x4Avvy/+mf6KOpF4rLau9hD5CDskvHE8unwMfJR8Gvrpe7W9TsE2wyjBab5tu4F7ILxjPot/gf+I/jh8RHvhe4783X0ofd2+HT71Pl191n1j/R0+Ur7E/SZ71HrAu2V7vDsqewH6m7spupW7Hbluear257cd/G2BqQcWSEEDF0Moix3QsZVBUBSJ/Y04D3HQ0ZBCDjbOFkxiiKWFKQQPAOn+F7yC+1Z7V/iVd1B4nXqD+mD4ebd8dyH5Cbta/axBSwMlAdnAo7+vv6yAjQGEQU0CfsJIAOM/sT1jfKf8jzvxOl86lvriO9r81jw7O1B7eTq3+s57WbpKuoa7SrxA/z1AP39D/uJ88Duwehk5JHkRe919rz4SvyC9wzuyuev10b4hzVsViRkiDCTAXEHExt8OIJQJ1WTWShRuDViGu0MGAOdAk8G7ggIBtP4euy+47HhWNvy0tPR79xC59/poekG52jm6+LL4WbvgAQ8Fb8bpBkIFsgQ0gimBxQMHRYYGuIUgwywBMj87PQ38mnto+1N8KPvKO8j6gLhlOBn4BTjLOmW8iD4wPQU677g0+Ei6a7uCfNv93j6PvjP8SXo+ebZ6/by6vgB7oTiQfQEHm9GMFcvKDD9U/sJFtU35EuRTrtVxFyHQskh6w2TBt0MVRiuGA4bNQli8pPfh9XF1gbTu9Z45knv9e9a6fjc2t/N4orkCvKxBBoZGifEI1MZWwez/awCTgkNGaweXxqfF98O5gST/Tr1ze7w7iTzxvUu+Ab18O6R66rjDN4/2NHd+OaD74P0zPCn7TPt3+qS5kLsI+4W9l/5W/ON8Gjuu+zM8F7xfvQL+qL5Ov+H8mXvdgh9KehM2k3WJj4PEBAgH9A1skE/RjlH/T0RHYsK2QXjAgQFPQWCBNL/IfiN7sDqQ+uC5Hncf+KD7fX0CvpQ+l7/zwNKAeb9nQF6CBIMmhNSEz0SixE0CtcGbgidAdL4E/gI+tj+WgEy+sjuWunc4/niTeYd6k/tYe5Z7rvqkOda4dvfNeaH7GvzY/Ni7irsW+ol6X3r1+uB74Dw+PPE9lj5jvd785fyiOfb/CAcyDbzRf4gDfnC+r8QEy8pRvhADj49P54n+hS2C1MHxxLzGnIamBXiCqP5k/GD8cbwUOyr65fwoPvHAFL5gPSI8MnyzvnZ++MFyQ3kDR0RswzOBOsDLADCAtsJ0QeJAgQBwf+UAbMBoftZ9rP0jvQr80vwdu2u7JLv5vEB72rx1fEq79bs7+d75u3pDuvp6rjsxezd6XbqYum76KzpYeiO5afmluhV57DlpO6kApMX/igkEH33c/eWD9o7f0h5P8Q0VjGRMJ8vJSYLJUItji5fLpokShaVCHf/f/3//Z37N/Re8PnwOfKJ7yzrs+rk7XHw2fMD9V/7CwNYAYwCcQW2BigNYQqoCGALRQkDBlIDqv0NAIQFjAHwBEv6we8c5qHdH+Fr59XuFPMg8w7tsOcH4lbioehz7dDzf/Ua9VL1EvUg8lrvjuvT7bPxrvIl80DuN+ur5UHjvdho6UIHti5ZQtso6/8I63z8xSFLRm9M2k6BTJpBNC0FG9wTnB1eLRoveiPMFroH5vo096fwne+V7GToMu5k74Hs3+Ye3jzghupT7aP0Qf77/0AD9v8dBB4PmhTxEI8KbQYmCVYPbRLtEEULHAJw9P3uu+sR60ntY+wx6tvpn+gR5+3nVOpm63bshOyz7NbwNfL18x/yzO867j3rXuoF6czoc+oY6O7lr+g35Rbms+TD3iP3cxT4MA87JiOJCz4HEh+kMEVBBkklUiRbHEk3NFogdhjhIGoe6RePGOcOaAb1+s/og98T2pXY8t2X5ijsAezw6Q/lZOJO5tvt3fi0AnEH7Q15FUgU8xGjD28NqRaWF5IPIwtpCFkJlQWS/2b5SPUT9GjyY/FI8anw7uvL6gjs5ueT5SLh4OMz66DtWOzi6trq3eeO5PTcI9sg4BnnBero55riB+LP387gwvidFjQuiDTMD+n37gJZFs0wdz9ATtpYFFquQVMktR/QIRopEipPJIYk9BteEYoAN/yG+J/u++vi4t3kw+CQ3MvZ9N2o5W/nP+559Mb75fyH+Uv85gP6DekR9xFAEGkPFw6mC7ULZAo9B8QFSwX5A0kD1Pq/9dr0PvWC9fbyhu4872fxUO+E7Pvk0+WB55TpNOvA6FTmKeTN3qvez+GL5ALmjOf+5+zok+ll5XHmwOYW7CvmeQj0K002RzbWB9f2IhQJMQVE30x6SaRRBk0BM4QbgBWgIGct/S2DI6EV2ANJ+4fwaOto7hrr/eul68nj5d8q4sDqL/OC9vHw2e8h9sL+dgbKBfcFmQRxBnYInQndCdQKYgo+BpwCd/8p/PX6mvlu9y72OvGB7W/qqeqr7b3suetu6sjmC+a/5JLlVehD6vHouufu5iTn/ue05yDoW+pJ6mPnqePV4eLgkuM6BE0avSZBF+TshOiwAU4hFTvwP29HA1W3UJ47dCTwH3cpRTgmOdY0YDE4KWQeuAvp/Jrx++pw8XX2Avqo82fo7eei4aHes+Gx5Mryi/1N/TD9F/uN+Sv8W/vc/7sIJQ37DgUL+QO6/IX4e/mc/6cAQ///9vLwRe+/7DPsRu1p8dHyX/ET6fbigOCP4LPiWOQ15vDlpuOt4XPkT+XG6Fjo6OYf6rTsRO2F7sry/vXn+On1vQtkJnc0uTbYGugOoB7PNQFFPERwRlxHf0mDQlgyWinnLNgy0SsEIhIS+gNJAgoAqP0i+sfxTe3q5xTkw+Dd3ajgEOfl6Mnpn+sb8F33g/wl/Y78WfwB/VD+BQB2A4AHgwePA8b99/dI92/2NvVU8n3ylvT+9sD1OfAs7ePsL+rX5QHmrOne7u3ueuzR5lzldudB5qznPupM6nzqse3/6oXrv+rY5VnxOPWu+tUBoQIlDkQYvhstF3AUOBjEKAQ7mEIeRdxAnzwxOKsxazEcMs40DTJcKtcklRqOEAYHBwAL/h/8evma8/zsrOdk5B/kE+bo6OLnG+dc5FTo0u8Z9qH4GPck9UfzDfZL83v0z/ah+a37P/kt+HT0cvRO9af05vQ985jzZfTx9qH4NfWj9IrxbO7L7ubuUvF389rwLuty5kzlHOgC6wPt8ewz7CjsVOyR6zDqu+vT8qT8OQSYC1QRoxbIGLsVOBWjH7spwjLRNacxjjWrN1AzrzCJLHUvPjOOMNYqBx/FGQUV1xDLD9gMUggIBNT+KveN84rtbOrb6gfqI+wk60npyOhn5A7ihuNz5RXrWu+x7+vvDu6X7EbrIesJ76XzX/eW+IP1tPP88l/yZ/N59QL38PfD9772XvfI9rP1Kvbb+GX75/rH+CD4EvkJ+RH4zfTd9Hn4QPh2+Fv3afRn9vH3E/tt/sD+MgDxA74IzQ3RD7EU9xwqIpokJCLZH3Yj8SZcJ1UpJSgnJ60m/iNhISwf0hvsFuwSOQ9TDRYL9QhxBO39wvid8uHvc/C1767xzvEy7jrszOhn6D/t5vGz893yEO4d6yTrQOyX8APyj/IB8YftLO3s7sfwGfMy9Lbzp/KN8BTvmPGe9uj6Kf7s+5X2LPRj8sHy6/VV9hP2Xfbf9NfyjfFr8AbwjPGR8WjyUPO29Dv6RADPBXUJfQjnCMILPBCVGRshnSQTJr4ibyHmJHMnUC3fL5Mu6Cw1JlshrRu2GVgc5BzcHNEXDw/pBrgAR/tR+oz5Wfhp+If0IPHo7XbqGO0/8Qrys/Iq75TtVvCr8Unya/Pk8nPzM/LC7tLu3O7/8JfxLPDD7qzsI+y77TbvRvAx8Mjvh/Fc8Rrx4fDL8Lzxp/Cz7qbuQ/De8uvz0vNS84PyJPIP8+n1+fnB/Oz9igFFBAYJzgyqDf0PthAWE34XnRtOHkggFSHCI+QnhSihJ0IkriLwJB4mSCafIzIgjR8VHoEZKRQ6DjwNFg83DKQH0f+D+ej4PPiY+Av3wvP18YjxGvLP8Sfwee1U7H7s0Oz+67XrhexV7dftXuwa6/7qYeq96e/ovOfH5zzpUOtk7cnuLO457cjs7esQ667ruO0U8cb0p/bB9kj1XfPb8s7z7PTt9Tf3wvn5/Bz/WwDl//gACQK9AyQHJQoWD0kTwxWxGGEaehz9IDMkqCfPKpIrTC0GLh8vkDD2L+YuHS4qLbsrtijuIswdZxdnEJsLSAhfB+cESv9j+V70jvLI8drvaO2y6rvo7edc5snkYeUO5qHnHeeb4xrgBt5J3XLeGeA14IPgFeAi3xbfk+Aa5OHnxelw6f3ol+m961PupvA88zf0pPTy9CP2h/jY+SP6nfrX+0b83Ps3++j7PP6JACoC+AGvAnIEZwbZCg8PURT/GSIenSEkJMgmHylhLMct+S0KL+IvSTITNdM1CzRPMJEq5yQ6IOwd1ByAGwIZuRQgD3QIUAEE+4H4P/i++Gv4W/Ya807ucekH5nDkfOUn5rzkW+IL3yHdYNza2uTYuNfg13fZjtvP25Lc/91O30DhbeIa5BvmHug16/7tLvAV8jfyDPJp8u7yCvUp+Cf6C/v6+hz6C/uW+zz72/nH99L5Y/7/A5oHwQc3Bh4Hhwp0D4IW1Rq/H94kciYwKZ4pfyo/LvkxcTY/OHU3WzahNCAyzS/BLF8qOSijI/kdPBhYE2gR3g1QCvUGnALZ/l755fMU8Zrwe/DA7+7soOmS5grkouLO4TfgKd5V20rZJNkQ2bjZ8tkv2qTbmNxq3dfdH95n38HhLeTS5lzpYuqL6wDtxu6P8JPwfPB88TX0I/dU+Gj4qfgK+rL60frs+Sn5I/ok/Lj/EwLCA4wEKQUuCHsKwwwqEeUWhx0LI+Yk9iUsKY8sTi/BMJ0x1zPiN3w6DzsaOS00iy/7LK4rHCubKUsktR3GFo8PEAtpB8MDWQCr+4j3ePO07rTrLem555fmP+RX4qfgYd+r3sHdftyk2/Dah9u33A7dFt2x3HDcztt728Hdo+Fl5Z7msOSz4p7iUeSo52DrTu7o8M3yq/NM9Kv0bfUE+BT7wf2+/o79HPzB+r76U/xS/un/gQC8APYC+QZwCkEP5RIHF9Ibdh3uIKYkJCk7LkMx5jJtM540wDb6OEg6GzocNm0yxS4LKngntiRXIXEdFhceEMkKGwdZAz3/MfrO9V/zsfCo7unr/uhx5hrkO+KJ4HTfG9/G3tjdU9xc2hPYxtYZ13DYpNom3G3b59mN2QDb7t3c4Unl0+eV6m7sLu4J8O3yQPbh+dT83v1Y/gL+QP5x/jL/pv/y/o3/IP7Q+6f4bfWP9cX4oP12AWgD5QJXBAgH9Av5EUIXoh2gImYn8Sk1LP4tNzBnMz41XjbJNtA3Ejn8OC41yS5+KNoj7iD/HYEb4xgOFCYODgfkAZn/ZfyY+HH0g/Aa7b/pJudK5iTmJuSw4E3dN9vY2jHbfNwi3cfcVdpF1ibUKtWs2DbcLN633v3e5N/24erkLegR63bt+e9y8sH0R/aG97b4uvqe/Iv9qv3b/OP8Bf1u/Sz+kf6p/0oAIgBUANQAVQJiA2kDVwViCSwOQRKSFLMVNhjWGmYeESTWKSguXC/4LbgsiiwpLasujzAYMqgx9i00KQUmWiMeIjofIhtoF9ASTw8jDAAJvgQ7/2n50vSF8YnuwexK6/rpTecs40HgWd7q3ZbckNkm1zzWv9cC2pTbP9s82vPYZNfM1vbXyNoH3vngFePI5bvoH+sq7fXuLPFP8z/1pfcv+gz8w/wb/fv9d/9M/2X+rv1f/Qr+zf2X/WL+qv9vAtwDngQ3BTYGfQnpDjQVLhqsHboeTSAdIiokiSfrKQwvYjMFNho3gjQKMvgvQS/YLr4utC2uK5Up9yXZIYcb3xQRDw4K6gZXAwwAFP2v+P/zCe+x6i7og+bx5Bzjr+DZ3dva59i916fXANiH11LXwtcC2PjXPdgO2YraFdwt3QbfNeHp4inkveTL5T7oLOuW7yn0W/Zl95328/Wa9mX3G/la+/39Xf88AKH/LP6q/RD9a/76AKADTAaQBrAH9QhHCyUO8A/GE1gXJxyMH9oh1CR/JkApsSvGLgwyTzNlM+wyTTP3MyQ0cDMZMREuqymRJZIh+R3vGa8UQw/vCCIEoP8z/DX6e/dY9CTww+sY6Cnlx+JX4bDhceJa4ozfANvY1knUuNRZ1tDYk9q/2lLa19m92RHaJ9t23RThsORi5uHmwebH58Hqfu7Y8a3zwfSZ9WP3TPkr+sL68vou/DH+k/+r//j+Hf5z/qf/tP9d//L+tP8wArMFnAleDfoQvxMGF2EZThxzICgkDShvKq4slS/PMqE0MjQ+NC010zYvNrgyJi56Koco0iWWIqgdTximE+sNQAiqAgj/hf7s/YX7i/bg70vrAemS53rmm+QZ4uDg+N973rnc39mk1zvXRtg02UnZwNnJ2l/cpt2b3Xzd+d5D4czk8OjP6/PtUe8G8Pnwe/E08q/05Pgn/SH/+v2m+3L5ZPjW+CL6Wvw3/r7+Q/4U/aj7mPrd+kP8R/+rAmwGtApuDpsRbBIjFN0X2RygImcmjimhLPEvzTFrMgAzXTNxNB41fDSjM9Mw5iw5KGQjQx8JGukVVhKhDxoN0wiKAw//ifwF+hr47vVO8wzxPu4n6hLmLeNh4fzgS+C73gDdo9rJ2G3Xatf61xnYxthT2R3bTt303oTgbuJH5G7mb+nd6x7uH++h7zbwze+y8IfywfV3+R76Tfl7+G/4gPnu+gX8q/2K/woAL//u/An8Nv1//1MCMQQFBvcG4QggC0UOgRIDFjkZ6xy1ID8kUCfmKKMp0CqVKzQttC+HMXUyXjBkLAgo2ySmI0oiJCArHRAaqhcEFSQRwgzuCI4FbAKk/rz6GvdP9GTy/e/f7PjoSeW34kTh99/s3gLeXt4B38vd5Nuf2R7ZttqZ3CLf0eET5L/kUORK5CXmrOlA7Jrtg+6f7wDxA/L88oPz4vM39Hr0sPUO9+b38/ck95v2DfdF+BX6NPyV/eH+5//jANoBHQPuBRUJnwtIDeENlRBHFfIZuxzcHD8dNR8+IwInzChFKSMoWSi2KSwrfCyrLIIr6igYJZ8hOyATILkflB1QGRgVTxEmDm0LxgecA8X/RvzU+WD3HfQ/8EHs3eg55tTjOOFm30/e891z3dbb29m62BLZFNpj2j3a19pm3H/ei+An4g/kbOXy5RznA+kJ7KzuHvBG8Pnvk/Aa8on0CPgx+wv98v3W/ff9f/6V/tv+iv9FAXUDiQReBJ4DZwOxAz4FqActCkAMwgyvDPAMdA9HE2oXlhoUHCEeICCLIpUlYSenKWAr2ys8LIcrhCrKKacoqCd7Jn4kMiJZH/AbvxcjE/0OnQtACUcGXwKn/nX7Ifgk9J/vKexw6nDpJOgk5hbkjOLK4avgrd5p3TTdhd3k3dTdu93h3fXdLN7s3j/gbeGI4qfjreV26KHqv+tl7Izt2e/T8hn1evY+95n4O/vH/Rj/9v5s/tn+oAAdArACnAKqApoDQwStA/MCMQMFBOEE0ATrBJMGJwqsDUkQRxLDE2YWixmBHMUeZyAHIigjuyTvJlMpwSunK6Ip9iYQJcYjJCKeIOoe2RzvGekU9Q9dDKQJtAfzBIABDP64+qD3Z/Vf8xXxa+6u6w3q9uhD5/bkVuN54oTh+99X3sjd7d1Z3rne097n3xfh2eH94f3ixOVA6WTsnu3N7Y/uzu8f8STzuPXe+K/7Jvx3+5z6uvqB/Cr+iv8iAPz/HwBtAA4BaAGLAZQB+wGFAqEC/gKQAxwFpAZ1ByMImQnHDBsQfBKJE9YUuRaiGAEaxhqtHPMeYiBzIe4hayLFIjsiRyHDIIQgth/jHWQbQBlfF8IULRE1DgsMLArOB0gEqgBI/Xb6vvcx9YPz4/JF8i/wYe366Q7nFebq5e/lxuWr5Azjy+Fo4GrfdN/w37PgteFH4mviheNK5ejmtugI6p/rMe7P8PDyE/XR9kr4gvmF+iT8H/7y/4wAXQAqAIAAYAECAg8CXQKHA6kEMAVSBOwC8wGBAgkE7wQKBXUFtwYsCY8LpwyUDWUP/RGhFA8WZxaCF9QZUB3hH/0gziEhIsQitiLtIfYgNiCvH4Ae/hwMG2cYZRaNFKQRaQ/CDC8JWAemBOIBVADK/aX7Evnn9OLwOO2h6lLqXukq6KLmSuNG4sfgoN763bbcctxU3Sjdyd4K4MHfYOAT4CzhPOT95uDpmuzN7ubxPPQc9TL2mPd4+ir9WP5D//n/WQFRAtgCOAPuAr0CfwJ+AvoCCQOeAgcD2wIbAv8AYwDlATAEUgYACIwI1wkJC68LFQ4WEF4T6xbbF+sYPxlaGlQdxh6RH7Qg1SBjISIh9B9rH4cegB1nHJMbIhuWGbAWhxPAEJEO+AvqCLMGPAR/ALH8ovkb+Ej2MfO276PrTegF5SnidOEl4pjh6t/y3WfcPd2B3mbfYOCj4AXhZuJ65HHnSOnt6TvqLOsx7d/vOfLb89r1gvcz+if8Hv3u/Z7+pf9sAF0B6QJhBPkElQSTA3oDLQSIBDsE3QMFA58CpwIHAmYBWgGAAuwDxgVuBsIGyQfgCPcK4g1cEX8UahaXF6MXdBjLGX4bGh5UHxwgtB9YHjMdAhzNG6sbvhp2GXcYrxaLEwUQRwxOCncJyAd7BT4CLf+B/HL6c/jz9evyJPAx7lPsceqe6E7nNuYd5IThxN+732HgGuAy3wvfUeBd4rPkUOYt55/omeoz7arviPF888b1WPjJ+QL63fpL/cMARAP0Aw0DeQIjAlQBUwF0AVECEwM6AgYAd/0D/dn9kv8wAYUBzgE2AXAAOAAjAT8DOQZ7CaoLGQwwDDkNvw49ElcUFRVHFnEWnhf+GJ8ZvxojG3obpBsEG6Ma/xmfGQ4aOBlZFzkVeRIDEb4OaAy1C5wJOwfGA/z/Ev4X/Lr5EPe29MvyqfCG7tnsCOw27OrrXepu51vjTOFp4zXnV+ny6PPmlOa45wrpgOm+6kntve5A8GDxevKf9A325vai+Eb6W/s6/OH8p/0+/kT+5v6WACEBPAAA/7j+p/93AJf/EP/O/w4A9QA2AMH+fv9M/zj/LP8f/gAAsQLPBCAGtgWGBowH3ghbCyYOsRA0Eh8SWBJnFDsWnhdwGYEa/RsYHEMbthuwG5kb7hr1GMUXYRaJFLQTPhJTEBsO9Am7BhQEIAFn/nT7VPp2+hT6PPfk8fXtg+0Y7jbv2u5W7HfrFOsv6mnq5+mJ6bHqMOvg6u7p8+nk65Hus++h7nrtLu5f8KbyEfQn9Jz09/XB9tT2dvbZ9i34kfmG+h77Xfs7+5n7ovyQ/ZP+kf9JAIEAlQDZAMEBAwO/AzoD+wJbBDIFiAVLBvoGcgmUDFcNYA04DmQOhQ/uEfQTWhdJGJcW/xZFGR0cgxyAGY4XaxizGdYZrxdVFbATZBJFEd8P9A0oC5wISgbcBD0DJAFz/+v8W/pI+KD24PWM9Cvy+fA88DLvFe7B7HHsKuyR6nfpQOqx6/Drbepv6TXqc+t87GTtTe6N7uXuoO+18d30W/W/9PT0mPXt9+v4afnS+pb7jPxT/Gz7Y/sp+777LP0J/mP+Dv2h+2P8W/2U/r//3/+8AKEAZwAeAkADVwQ3BRkG8gdMCcgJHArmCwcPjRE2E/UTuhSrFYUWORfcF4EZ8BrwGlAaHxjOFkQXaBYWFh0UjhFeEO0NoAy2C1YKrAmYCNEGggS8ASX/Rf12/Dr8EfzT+lv4cPZi9bf0Z/NQ8eLvl+7y7Svude447s/sW+tH68Prqetb63PriOza7H/sj+zL7BLulu5a7/bwuPE78qPyF/QK9vv2w/fE+NT5tPrv+kj7k/xF/h//3/6W/kL/7wBLAiICpgEMAQMCEQVzByII+gWSBIkF/Qi4DF8NUwz7DLYOQBA2EdcPgxD5EmIUUhT7Ep4SbRPUFM0VDBY/FfgTvBIHEkkSfxF/EIEQNRCwDocMVQp5CQIKQAmeBxwFGAPZAaYAk/+o/cP7p/oB+t34+fY09HPxxu8e71bvAO+Y7TjrZumk6Ljoi+m36WLppei86N7pmOqS6r/qrex27lXuwO2v7qzwk/Ha8c7ypPS/9gX4cPkn+0n8Av3Z/QAAnQI4BPEETwXGBpMIcgkSCbQHlgdyCFcJmgiTBksGogYZBzIHfgccCGEHMgYQBjAJfQy+DMYLvAvSDYgQThJSE4wTchNSE78UhBc2GDAXCBYpFb8UWBQXExYS6RFGEI8Nxwt1Ci4InAWbAzkCIQHS/jH7e/hb9+n27faC9f7xNO/n7nTvoO8q7lHqsega6evpTuqY6eDnZuUV5ujoTusM64rqeesT7dLtsu1W79nxB/Vq9jH2X/bZ9+D6/fzW/mL/dv+h/5sASQOuBCwFqgTSBJkFsAWpBSkFWAXFBWkFSwTIBFUFdwQMAyECFwOvBNkGqQdQB9cFsgQHB50KpwxxDIQLlg1lEckS1xG4ECYTvxbQF3EWBRMtEl0VchnDGjcXgBFeDq0PqxI0EwkQkgsvCPYFTQOlAYsAO/4l/F/5G/fC9PTx0/Dz72Tvme2U64XrmetL67Hq9ul76RjquuoQ6tvpXOrx6iLs5e3s7uDu7O5i8BHzKPXZ9ZT2offs+O/6yPzn/QT+q/2H/icAbQEFAsIBOAHaABcAowByAnoDPwOCAdEATwENAq4COQLYAR8CAQLNAWgCJQMyBHQERAVPBngHSAnkCXYLYg11D0MRLxItEjcSnhSeFvoXABeJFTIWYBYRFjAUQxMIE7ER6hC4EJIPEQxcCGIGVwZuBTwCoP/1/cD7C/mq9nv01vNX8zLxHPA87yvuR+0A7BfsnOwh7LbrHuze7DzttOz666jslO3R7rvv9u+18RvzGfSI9JL0OPVR9oj5FPwx/Kf7zvui/VP//f6h/jMBKQRsBS4DrADWAMMCeQWZBYkDgwHzAHQBWQIPAfP9Qf4QAYkD/wMhAoj+af21AnkHSwuBCqsHUAkTDK4QohItE2ETDBRlFloXuxfpFkwXyBeVFysXMRSiEtQRIxHgEYoQ1wzNCNAFQwVYBtIF9QI6/pD7I/uT+p/54Pb19Bj0ZfLe8UjyzfAH7sfr/upK7BXtR+tg6YHpqevF7Kjr5er26uHsC+9c8BLy1vGp8RP06PaQ+Pj3iviv+iT88/wS/cv9lP5u/hr/6wClABj/EQBVAv8CiwHO/xcAjwLOBCIE7AGIAOv+C/8mAmcDrwSBBMwCywLQAgcEWwXtB5gKwArkCVQJ+ApCD2UTjhPwEEIPARFzFaUXtBYxFXkVyRZMF1sWehSvEu4R9RFYElIQogtjCD8HIwjOBmwCmP7I/Qf9cPpp91701vNM80fy4fHF8AXviOzz6hfs5uxK7aLshOuP6wvsAO1F7Vzt2Oz67WDv2/By8dfwPPKT8yP1tvbD9of31PiV+WH6zPr0+/L8nf1c/s7+qf+z/zEAqwGuAX0Akf+7AD0BRgBX/47/OQHJAaEBqv/2/Uj+sv/xAyIHzgYZBGYC+QQOCFIM2g5tDrAP/hAcEm0TBBQQFjsZ9xrZGmoYdhhNGnQZxRjHGFkXYxYTFFERDBClDTYM8QrHB2gDmP89/lD+vfzJ+bT2dfQy8wDxfO8e7wHug+1C7XLrUekv6N3nzejQ6c3pVOld6Z/qMetz68fruew9793xOPP480v0TPTo9ZH37PhW+lf7Gvwj/QT+W/4Q/9D/jgBqAPr/MQCwAFQBEgGCADsAaf9a/4AATAC/AGYAAP6o/+cCoAQWBBYDQAQYB5gIiwmjC5sMrA1xDsMQNxOgEoQRyxLqFtsZ8RnzF6AVnxWXF1QZGRloF3AVIxTRE+QSehF4D98MUAr7B7YG2gMoAKj+OP0k+mj2k/P28lrzqPDK7LXqHuqQ6STp2Oim57/n2+dB5z3n5+Y+5+zoBurQ6X3q4+uH7bHvz/Fj8w/0Z/Qe9mT5VPsl+xX74Pwi//QAVAHmAPEBdQKiAswCMQNIA8ICmQJtAxUEoAKkAaoAbwDYAR8CvQGgAbcCeQNNAtIBlQLLAyAGUQijCpsLeQh+B4oL5xDME6YTDBGqEKcTiBScFc4XTxhOFzoXHxcPGGQXJxS5E04VhhUdEYkMkAvuC6UKNAZfA6MB4P47/Ij66Pl1967znPDo75jvB+5J7PzqJus160LqMOm06M/oSOlm6crpU+qe6uDq2evt7d7uM++B7+/wzvIH9NX1W/cf+I74j/nm+sH7/vyb/pL/gADDAJkAIQGvAbABjAGOAqIDowPHArQBPQGF/5P+cwB6AoIECQKB/ur+YP9NAacD+QV5BkcFZwfHCcoKIwuJC/sOaxOpFSQV/xOcE1IVdBhqGsIb+hnWF0UY7BjcGfgWyRPbFIkVTxS1EFMNAAzkCVMHYQbLBa0DXv4Q+fP3tPcs9unz+/Ah7g3r4OhD6TbpCud+5eLkkOX15T3l5OSF5AblVuZm6D3qMeoL6ivsWe838X3yr/PI9Nz2BvmK+v77s/zx/Hb+/v+XADUBIAGtACsALwEeAnMB2gIzA8sC4QL4ALMAugECATsAtgPEB5gDqv79/18CjQU5BzYHWQjTB4kGDwhnDacQCxC+EDgTlBTeFBIVFxb4GIgaWBv7Gmca0RjqFrkX4xcJFyUV3hMVEokOTwylCpIJdAcIA/MAYP/c/L/5D/fx9ZjzcfGk71PtGezn6q3piugd59Pm8OZf55XnuedE54vm8uZQ6dDr3uub7ILtWO9U8aLxFfOY9Yv3YPgw+cH6pPvW+yb8Ov05/w0AJwCXACQBZAC7/wMBngJyA9YCDAPKA38DiwHE/8UAAQPWBoAH4QSKAXz/fgFCBKYHuwjtB8oHlgUbBuEJ7g2bD3IOjQ6kDiMRdxPbE/gVfhbMFYQVoRbRGBsYUhayFHoVXBdLFQYSBBAnDwkN0ApmCWoHhgWXAQ7+tvw7+s32p/T782LyOe+r6yTq4Oow6tznYub55h7ncubd5iPnmeeN58znneqe7QbuTO2V7YHw2/O49c/2mPaq91L45viP+0X9N/51/qH+2f9WAdgAOwBTAFcBXANaBGgE0gLLAMIBzwTiBEICvf95/+IA1ACaAcABFQHXAVf/XP/gArgEcgeLB9gGjwevBy0Lfw+5EYQTfBLgEs8V+RexGYcZ7xlPGoUbbR3XGtMYpBa0Fa8XmBbtE7MNSAoACpwISwghBGEAY/0k+tH5ovgY9lDyqO+R75Xvze1J6yjqwel+6J3mruZ05yvoCelp6BPoeOcz5zjqoO3J73Hvfe4x8M3y2fS+9W73qvlH+yz8hvsT/Lz9bv9+AKgA7wCKAAwAqQCHAUoCaQEt/5f+hwAPAoT/tvv0+jj+9wH0AiAAu/tY+dL8GwSoCJEIuAOSAWMEUAu1EYARKg9IDtUPDBcuHd8bTRgTFv0YFB9HIOwcGBqzGBMZfBmKGTwYkhKmD0YPWg6FDbkJdgWEAzIBrv4m/Lv5PPfi9Df0xfF37r3rwOl16j3r5enj5tnkL+Rl5Kfl2uY954bnFOg46Irpyevx7KDtzu5Z8V30SfeZ+C34Y/hn+Ab6AP7TAA0Byf+Q/jv+vf/NAEoAWAC0AP7/Kv8b/mT89fzI/sf+R/7G/Cf6SPoA/vkAUwKGAW4AtACYAUcEUgeHCy8NJQz0DPMNjBB1FAwX1BjFGHoW1BaIGu0d1B5+GwwZYxsfHAYbMRkDF9YWsBQHE4wSZw+6C/MHvAZ+BnMC6P5y/Ej6jfhy9dnyW/D47VTsKeuK6v3pcOk35zvkeOKl4/LlXeYS533ntuew56/o4uuB7aPt0e1f8Jb0cPZf9rj2CfgB+fL6W/3b/u/+qv18/W3+Av98/pv9MP7A/1gAqP6//AL9jf5X/97+Pf30++f8v/7VAVUE2wLk/4j/rgJ3B6UKXgruCcQM7Q11DJsNLBEIFyAYNRc3Fh4W2BjvF1sbvx52HP4ZBxgNGr0cSByIF80TjhRkE5wRpQ9cD1UN2wlNBssAwf9a/gX8Gvu++Gf0ffCD7xbu3ewa6z7odOcF5xfnm+Xt4pjiVePM5Sbn2eYK5xvmmuYH6Urscu6u7qvvYPGp8rnyUfOm9Q/59vvK/Mf8xPqR+Zn7bv52AVQBif/z/tn+3P8LAU8CtAIsAmwB+wAaAgkElwSBAmwAHABLA7EJtgw1CFoCVAFfBUsNzBDWDagNzg7ND4oTWBeeGMIXYRdWGDUdyB67GyUbFB+ZITQdNBnTFmMY5Rl2Fn8UIhGxDesKEAjjBpsE+gDk/Qr8cvpV9YPw4u4n7gruNeza6PjlweQt49PiQuOu4n7ho+Du4c7j6OP34+DkwObq6Mjpkusu7AHujPAh8671DPY79+/4x/pu/Kn9OP48/jL/zgDUAgUDsAFOAQICsgMWBYoEywKVATUCCASVBIoDoAKGAsoDGgQPA4ECHASABiIGWAbnBPoDCAQhB0MPQBNsEf4KogijC8kSYRpYHFQbTxn7GMAacRvoG7gcnx4/H0YdnBo6Fo8UKhT8EwET2Q9mDNIGZwM7ATwAnP4J+r/2P/TQ8o3v+ez86rfoIOeG5dDkD+Mi4ifhwuGj4dTf0uA44tPjk+Pj433n/ehF6bHp3uyc8MLw/PGC9X/5NPlp+NT6Qf++AckAVQFPAvYEXAU1BsAI+AfVA3EA5QMTCtAK4wXnAb8BgQIxAuQAagPLA9ICEQP//5n/4/zb/mkCyQYOCa0F+wTZA84HmAxeEGwUHhWwFHAW8RkNHeAchx00IbYj7iSwIc4dMh2THa4cNxzsGjoXKRLfDKYK3Qg7BYkAfv7Y/Fz4RvIC7lPsbutV6OXlTeWc45/gM91y3fLdZd6t3dbdzuDj4UHfQd1g4BPljekC6/Xr7+yK7ZnuxPH+9p/6xvsF/Q//CgDZARkCDgSPB/AI4wdiBzcH+AaIB9kHpAiOB4wFqgMOA3MDzQIhAiADsQFv/tT7jf3zAGoCaAGZ/7H/sQE8A+sDJQcjBpEGcg1vEKMSJxUbFeEVERmkGhwd9yAtIZQhSCGPIOQeRx/3IKMfxByDGdAUbBILE2YQgw0oCFwC7//m/En5cfb18pHvHOzT6RXpbeVX4YneMd7D3w3f+d113RHdD9/Q37Lf6OCk4v/laOmz68nrou2m75rydPYx+Pn43PqS/nMB3gLKAakB+wTxCI4KEwrRCPsF0wRMByMJ6AicB0wGzATFAVf/NP5N/ur9Uf3j/fr8afhJ9I71dP4CBG4ANvid8fn2lgICDTgOGgrhBkUGvQs0E2Ub6x05HRgcERx6ID8hkx/7H3skeSg4Jo4hgBuQGv4amxh4FvsTzRFuDTEJ5wLZ/a36rvbH9on2D/QQ7S7lcuLv4c7hrOGk4fbgQ99y3KDacdv+3H/fMOJY5F/leeRj5Vno6+si7xHxafN19Q74sfq2/Af+ZP8mAgIF2gVQBnEHFgg4CLAI6AcmB9AHGgitCH4GZQOwADgARwFqALj/jP1O++34B/mR+Cz2dPjq+mP+HP1w9mDxkPOmAD0M+w8LDOIG2wT0CAUQnxkjJAkjkR4OHq4eCiKbIu8iwiolL+YqkyG6GzQcux6UHqMacRdIE1MOJwg3BSUC9/sE9670dfQw8Vfq5eQd48rh7t613Rnext1O3FHai9mj2jncdtx+3azg1OJJ5oTodei+6hDti+/x8mT3x/og/Fv9xv6aAccDnQSdBYYIEAkGByMHMgnvCeoJJQjRBtEGkQR8AnoCuAPkAU7+UvuO+hv7MfwK+3f4cPbi8oTwafJa9nT9xAOIADf8ivX684L+CguWFN0X+hOWDm4OWBM5GzEiribQKOonjyZCIzgh2CTuKR4tRSrUIzweSxlMF0sXPhZ/EkIN7gVIADT8TPYL8rDu7u6p7tXptuKw2hrZjNvQ3EPdgN1B2w3Yr9c52f3cluFW5BrmdufG5UrlhOrl8cP4i/uu+vH4V/rx/XwAlwTrCFYLUQsHCWMGvAWXBgIJ+AxiDsMLkwdlBC0CZgHXAVICrgF7ABT+VvpX9gf1q/V791L4gPQr8d/uu+4A9Ij6Ov60/JP6pfeB+Ab9mgS7EEsWVhegEioQYRQBGLwf/Se0LqYu+SgrJTYjOiVJJq4q5y8SLBwk9RlEFRYUyhKcEYQOngoTA5b7P/Zx8AHt++rh6ljqYeV84BzcMNnm1wrXK9lH223dPt1d3M7b0dqn3MPgkOZg6vTrk+wd7lXyxvV69wX6rPzb/vkCSAafBtoGxgeVCIMK0QuTC80LBwxACtQH/QeYBuUEvgaABZACxv8O+5b4wPh0+ZH4f/c19ZrzH/IB7krqGeuG8zj5F/+GAD/6M/bY8En4pQhIEuYYGhiGFrcWeBX5GbYhgSiOLbAv4S82LIIm1CQXKHosqC63KngkXR8DGtoVYhK0DyANbAnpA/r78vVm8zTwLuxv6Z/mpOJi3d3YGdjy2nTaH9cf1kfWAtd61xjZC9yg3n7fD+A94rTloerr7sfyOfbx9/b4bvpE/T8DwwhhC3UMpQzQC94KQgstDXYPGRCgDtwMgAtHCFwD9wGRA1QEdAJk/v/5rvUA8znyovN69KXy1PE28fPtTOju5j7rkvVrAIEC5vyD+Cv3z/sBBygOoRUBG9gdTh89H6AfCCEJJkwtmjMINT8wdyqWKRMrvSwLKi4naiRCIf8chBfyEQkMRwe8BA0DM/3z9czvxOvo6J7k3uEb4JzcK9vU2WvYK9bE0wTWBtjH1+TXPNoR3aHfb+HK5GXoUOr37Mzw6vWe+X77oP0cAhcGhgjdCqgMFQ/qD7cPgQ+SDzIQWA81DjgOqQ3QCzYIGQRbAU8BT/5Z+3362fdu9MXwju487yTw9O006x3pNuZd5evrXPOr9iL5yPVG9yX8tPw+Aj4JXxAhF5QbFB/OH+AgvSEoJi0u0DDFMuUy2DGcMsAwiC2rKfooTSisJu8iyBuAFtUR3AwjB5YBH/3a9xL0n++e6nzlfN9D3Hzb/tni1k/T5NEG0hPTOtN40sjT49WG2N7bSN7p4aHkbOcx7BnwSPOJ9Sj51/2+AvEG/givCS8K6gzgDmgQ+xFQEswS8BEFELoOPQ1vDHoLEwqvB8QDwACu/n39cPuA+Kr1XPIu8cjx9/AQ7+7smOpy6szqtusL8Rn2Tvbl9Pn0IfhZ/t0D8AcdDtYRVBXXGPMbWiAgJDQoBipvLPwury6DLiIwoDAeMHovNyxNKSgmtiFIHk8avxMFDmkKGAepA0f9UfUU7hrpyeak44TgwNzz2O3W3tMK0l7S+NHU0WvSQtTo1RbXLNjR23zhV+Qu5vfoUuxE8dz1WPp+/lEC2gUcCFkKsAycDk0QFhLZEjYTnRMtEg4RvhBDDxIN9ArTCL0GwAUSA0//HP3Z+Y/3WPVN8jzxpu+O7nztEe4H7hnqvecu5Cbo4/CF9gX4nva59g75Pv/GAgsIiQ8oE1cX6xsfHgEgISI0JTgs+DEPMpgvBy+mL14wri8LLWYrzioSKH0jrx4OGfgS6w8VDJEG2gLv+8H1LfIR7cvn6eHM3ODZwNlD2S3XsdRw0gLRac9RzyrRqdOf18La4tyA36XgeeEW5WbrZvGT9b34CPweAJQEPwYRB60KyA2hEagUIhSZE6YTehLFEQISCRFCED8PPw3fCjgI2wRWAPb9G/2v+0P5+vSv8Hfu6ezu6yPrO+sB69DpBej+5SLmkebd6W7wU/js/S/+v/yw/dUBDgZzDI0TaRrYH5ck1SZ2KDUrYSuGLm8y/TNeNEkzQjJxMT4xKi4hKsMmmCR6IPIa/Bb5D4UKkgR9/lT7/PY18aLr9ucZ443dMNg21A7TiNLh0J3PhM8Uz/jOMdBr0hbV0dbd2OPceeGe5VLpa+1e8ub2n/pk/WcANwQtCOIL6w6zESgTPBQ/FaIVBxa4FQ4UuhLYEdgQaA/3DO8KWgiHBjoEKgAI/Bn3gfLL8JPwovDf8IPuAOzO6TzoIuZo5BbmM+eI6uHrPu6K9Er8mwFdAsECqgHSBAwJsQ7+F0UfryNdJlIptSu9LcospCszL0IyMzGiL2Eugy4ALrUqNSb+IdMdChf3Ep4PAwsVBxQCuP3e+OHynOth50vle+Gm3U7ay9fD1hjWO9QE0grRBtFi0tfUS9Ze1y3Zgtvq3prj2efD6zfw+vOx93P6c/xm/yADFggDDUcQ8RFDE0UVhhWbFUcVNRTvExITuBG2EJkQjQ6tC8IIEQWmAmT/6fwi/BL70vgi9aDy6fBR7zvuz+zE7JvsMutx6wHsBe3M7bfsrOz77djwfPan/JUC2AbdCAEKeQuyDSAQ8xOuGlkjuSfRKnIr7Sr8KwgsniyOLT8u9itCKWIokSfaJUQj/B/zGoMV0A7GB8UDtwBT/JH4vPWD8iztIOY14GLcK9pF1/HU6NWj1m7VitOa0i3SQtIr037V9tnx3e/fBeIH5jzqZ+5p8lr2tPoF/ygDUgbiCDML+Q2bEVYUYxanF6QXkxc6F6sWXxXqE48Rdg8TDusLmQlZB1IFKgMlAOr72vib9zj2IPRA8Sfvy+2i7OjrdOxn7TnurO2h6xDqpOgh6frs8vL/99b7c/1A/wUD3gT8BwELkA46EwQWmBo7Hy4jyib+KPQs5y+eLwMuKy1MLdQt/iw6KvMp5yg/JaogXBu3FqwRyAxhBzIDzf4O+GrxRO116irnCOQ94HDcTNra1gbTXNH30ArRh9GQ0jTTCNXP1sTYY9zC3+LhYONt5srq8u8q9Vr5z/2TAlkFnQcJCrELJg3LD5USlRXXFzkYfhj7GGcYQRYSFKgRWQ+wDYgMAQv8CGEGPAOQAGH+Jvvp9zT1TvK+75ztxOzk6wfss+sI6z/rlep/6t3qDetk61/rA+1p7/7yWffH+3cAHwQNB08Iugn6DL8RfRXqGbIe4yGqJZ0obSuNLpcviy7JLeoslSv8KdAohCg3KNAlkSK0HscaEBbBEDMLYgWDAI77NveD8wPw4Owk6kXn8eOx3/DbSdm/13XXdNcj1/DWCNd51wjZWttg3bXfyeFo47LlC+hU67Hv0/Sn+DT7tfx8/sQBTAXBCPcLgA4rEJ0R4RLuEgASkhFDEU0RCxEaELUOAw1QC60JAgg9BaYBoP4p/VT7dfms99f1cPSU87XywvEF8crvEe//7mjvN+/g7jzvYfCZ8sT0efYb9273DfjB+UD9nwGJBaAIvAruDF0PkhG8E3EWZRr5HJweCCAoIXMjUSUGJw0oxSf5JQsjQCHHH9keFR6AHNkayxcrE0QOrQkwBiYDbv/W+9z3GvM+7vHqsOik50/mG+Sr4ZTeHdxO2mzZHtqG27vdnt+c4B3ileOP5a3nYeqK7QzwA/N59Tf4cPvY/rkBzQOQBX4GeAezCAAKuQvYDGcMCQzrDGEN9Ay6DJgLYArfCOsGtgWiBDYDOQEXAI/+n/yl+i75MPhh93f2TvUV9BzzRPI38ibyqfFd8tfyNPP58wj1PPZp9y348/eh9/H34Pgl/EsADQSiBogIwQpSDP4OFRBkEf8TmBXpFwoasxvAHZ8f9yHQIkwjYyK0IKEg6R9cH8od/htAGj0Y8BZWFJcRDw7zCSwGSAJO/8H7C/mx9qLzePE/7tXqHujp5a/k0OMT4zvis+Fl4ZHgnuAo4YDiReS85Rfnf+iH6hTsEO6E8LryWPVP97H5g/yM/qIAMQKwA3EF6Aa7BxgIugh/CTMKOgooCnAJCwhwBj4FZAU3BrIF9AMyAjgBkwDi/v38uvtw+z77xfpw+rT53fh7+LX4bviG92r2N/Yz9xv4SfgJ+Cj4IvmK+jr83/y5/N78nfxB/dH9Rv4XAEUDgwagCDIKMgrUC9ANyQ8UEp0TshRdFdwWIRj4GaYb+RyjHu8fLx9MHSAbiBltGDQXrBVfE1MR5g4VDdcLJQqQBxIEPwBU/O74kvXS8jnxou++7Rfrvuhc5vDkoOTT5Obk4+Nk4kzh8uFi43zlpueI6bPrUe3S7p7wXvJ69BT3fPmf+1P9if4WADMC1wNPBT8GJQZdBoYG0waDB7QHngd5BzIHjgb5BQ4FmwMFAj0BewDT/0b/af6E/Sv9bPwr/KP8Sfyc/OP8XvyK+zT7M/v5+9n8Af0a/SH9OP2E/U7+SP/r/5D/W/8L/zT/Of/N/yMBJgJZA80DrATCBfoGaAi8CTALaQzODaAOiQ+vEPwQzhFQE4EUnhUOFoIVsBSJFOwTfRN8E00SSRBgDmoMBAsECqUIUgcVBh0EswGh//D9hPz++jD5aPdk9SzzpPAG7xruSO2Q7B/scOyl7G7srevN6mDqWOq66p3r8Owe7jnvm/BE8gH0WPVB9l73R/gf+ev53fpW/Jj93f5UANIBNgM5BH0ESgQwBMYDrwNwBJ4FdwaEBpwF4QT/BBgFAgVIBRoFfwSGAzICaQFKAWwB4wGgAm0CDAGA/7P+mP6p/t/+pf6z/oL+q/3z/F38xfue+8L7E/wX/Hr78PpO++371fs6+9X6Uvun/Bb+wv9eAb0C/gN4BcEHOgkgCsoKrwsXDYwNWA6CD4cRCRRDFrEXqxdxFjsUpBLFEdcQFRD3DgEO/AzlC3MKlwjpBvkEnwKW/8n7E/g39arz9fLj8kXy0fAJ7/7s0uuO613rl+uv65vrHewS7Vruz+9C8V7yg/Od9Cj1JfbT94L5Ovsy/ZH+b/81AHQAAgEVAqsCMQPGA0QEhgTnBFkF2gV0Bh4GOQVbBJ8DJgO4AoACYQIoAr0BuAHJAfgBNAIwAlUBzP86/of8xvsf/ML8/f3O/qz+9P1n/IP6I/n8+LH5avqn+jr64vlV+nb7pvwE/l/+Qf5M/lL+A/8hACwCwwR1B+oIpwjRB5sGBQfrCDoLJg1iDiAPyA+NEGAQ7Q+oD3MPLw9gDjsN9AstC84KDgtKC8MKWgmiB0cGpAQSAkf/l/27/Bv8ifsC+6f6PPrV+Sz5gPhc9w72PvXw9KX09vOU877zgPRi9dr1DfYg9mj29/U09YD09PM29Hn1BfeT+LT5Dfpo+s/6ZfvP++z7ePy+/f3+/v9nAJIAJwGAAcwBCAI0AtoBvgGcAV4BXQFhAb8BKgIsAuYBXwGWAAAAy/9e/xT/nP52/gn/uf83AB4ANABoAE8A4f9//53/sv+0/6D/cQD5AHAAbP++/pr+Q/4z/n3+Mv/w/0kAKwDm/7T//v7F/uX+V/9nABoBugFsA3MFFQdECI4JnQpDC0sLhQpECo8KEAslDL4N5g6LD/oP4A+SD6UO0Az6CnkJuQdzBpoFywRPBKoDMQJ1AGP+z/uE+az3J/Yw9V/0m/Mp82/yw/GT8UnxXPE28TbxyfGS8nrzhPR29Yf2vfe/+IT5BPrv+jz8Ev7j/yQB7wHWAaABsgEsAvACzAOMBEMF8AUfBrUFCwUZBD4DggIOAs8BvQG0AeEB/wF2AY8Axf8V/9b+hP7i/VT9hvwQ/P37ePw9/br9Bv4c/iL+Yv17/M/7r/vv+3L8svxb/TT9Z/zK/Af9zv2Z/rb+dP7F/fD8AP07/rv/bAHgAlUDuwLXASYBTwEJAgkDFASWBM4EIQUUBaQF2wayB+AHzAabBYcEpwOhA+EDpgTYBJ0EgQSQBMoEeQUiBlwG2wVgBL4CggFAAZIBxQEzApsCIAK2AX0BnQE2AgICGwEIAOD+j/33/Gz9p/7P/5cArQADAegA1f/V/gD+fP3I/Cr8KPyf/Gf9+P00/jX+dv04/G/7LPtT+2D7KftI+3n7hPto+zf7Qvsp++/6Rvr5+ez5IvqG+uj6n/sK/F38u/za/Ov8u/xb/D/8rPw7/TP+fv+yADMBGQHBADEA1v9m/1H/xv+QAEoB5wEyAgECDgIXAlcCDAJRAdAA1AAWAYQBvAExAmsCAwIaAtQB+gBlAAgA9P/3/3v/Ev/1/rD+Jf7s/Qb+sv2G/Zj9Zf09/Yf9B/48/54ARgG2AQECUAJZA04EYAVsBjAHWgiWCbsKEQwHDXsNtA1DDawMTAwuDHEMiQxYDO0LhAupCmcJQQgbB8AFVQTSAncBLwDO/mj9jvyg+1T67fgn93z1GvS+8sPxZfE98TPxLPEI8SXx+/DN8LLw/vCs8aDyu/M19TX30vgM+ij7MfwJ/ff9Cv89ALIB0wKXAzwE9ARpBdYFSgbWBnkHswc1B2AGpgUDBU0ElwMIA2YCAgKYAeEAugBBAFf/Z/4//Rz89PrT+Rb5W/no+fD57/kJ+jX64PlB+S75gPmy+d35MfoS+yT8Cf3Q/XX+7P42/4//FgD7ABECmwIjA7IDNQQNBQwGNAdTCMwI8gjsCDkJbArMC7cMBQ0UDYcM2gtsCwcLtwqUCn4KNgrGCeUIPQhsB8cGBAYpBfIDRgLZAJL//P7h/m3+qP1W/e/8NfxD+3P6Afqb+Qj5WPgk+Db4ffir+DD5w/ks+on6uvqR+q/6z/r1+o/7W/xi/fT9Tv4v/ygAWADB/xr/zv5O/o79of1i/pj/YwChAD4AEf9O/e/7Wfvq+sT6kvrM+qD7gfyV/Pz7e/uV+vf5Z/no+LL4Gfkk+jr7jfxd/cn98/2l/Uf9xPyc/Lf8P/2q/lEA+AEwA80D4AOyA0UD2wLWAisDMgRABe0FJgZrBpYGtgbGBqIG9QabB74H6gc4CCMINAhUCL8IWglTCdwIRgj9B7sHLwe4Bk4GKgbWBX8FZwW3BIoDGgL5AFkA6f+s/8f/o//Z/mX9Wfy3+077JPtP+2r7EPuO+vL5+vlk+sj6fvtF/IX8B/xf+0b7yftS/Hf81PxP/bn9Xv7s/hT/zv5V/p/9ZP0R/az8l/wO/cT9Of4z/s/9m/0//eH8efwf/Lv7TftN+wn8ufxz/EP8e/zq/DD9tv0c/k7+GP4P/VX8u/zQ/Yr+jf/pADkBsABv/0b/vv9c/yH/av+K/+D+/P6D/xsAZQDvADECuwLrAUcAWf8l/5P/QgDXAXMDEAVHBvIGFQdbBr8FwwVABqsG9wawB8oIigmTCkkLIgvxCZEIIwgCCHYHsgaVBrEGewa7BbIERwRPA5kBbAC1/wn/1f0R/eb8h/0Q/o391fz++8T6efm/+A/57PmE+sD6bvvX+yz7kvon+0v8Y/wm/BD81fsj/FD8QPwV/eL9vv3Q/dz9QP0y/E78jvxX/OX8N/0a/T798f0o/p/9pf2G/Qf9J/xB/CH9h/2B/XX90f3e/dH83/tY+8n6RvvI++z8J/78/R39jfwO/W78Ovvm+/X8Jf3a/bn+UP9O/4z+1P6BAFwBKwFvAV0C8QPQBLgE1ARaBewFVAaxB7EJKgsCDA8MSguTCl0JlwgYCRkKtwteDW8Oqg3LC2cKAQmiB6EGPgb2BTQF8QN1Az4DGwMuAzoC7QD5/kP8xfmN+Iv4VfkG+zr8M/wD+4n5z/eA9kL2GvdK+Kj4t/g1+VX6NPuC+477nft9+y/7X/vt+9z88f3a/rH/aQBGAJz/ff9y/xf/aP7x/Qj+Ov7u/n3/tf+j/3j/Pf++/QP89fpJ+lT67/rr++v8lv26/WL92vxK/Kn7a/ta+wX86PxM/YP9QP2r/V//uQGuAo8CowEQAJb/av/U/hD/SgDnAY8DEgQJBM8DcgPRAgkCfAEyAZwA5ACtAqsEbAaWBt0G1AesBxcGggQABcsGyQeTCHsJ1gnDCRAJFAheB8wGEwYmBhMHHAfWBcEEyAOpAsoBaAEUASEB5wCN/zv+3fwV/CH8ZfyY/Kf7kPoO+rD5CfrS+q36dvk2+Rj6EvpS+e34UflA+mb7avwd/cz8/PuO/K796/2B/Rz9r/2+/tX/GwEnAuoC6wItAsUBVwElADj/lv/MABYC5gGUAM7/V/9q//H+iv2O/AH8hPsA+6v64vl4+fL5NfpZ+nP6LPpq+UD5e/lW+UD5lvnh+qr8mf1k/tH/vv+i/ib+wf7A/2kAyQD1AUMEbAVEBcIEegQmBNEDdAQtBq4H2AdPB3YHEghTCD0ISAiPCGQI0gfoBtoGxAekCGUJswlZCdkImQcCBi8F7wT8BEgFUQX/BH4ERgN9At4BDQGJAG//7v1M/YP9bf1S/QL9a/yx+4L6kvlE+Vr4Cvjn+Kv5QfpU+dD4yPjP+ID5QPkE+qn6JPqj+ob7JvuJ+9j8yP1p/qT+6v5V/rr9u/0J/qH+hP+9/6P/1//7/mj9n/xh/eH9XP52/+H+lP0a/K36Dvvz/AL+zf61AKkAdP1J+pv5PPth/pYB3gNFAxcBXv87/uH+LP9F//f/jQEGA9cBHgHzAcgBtgG1AzQEoQPSASf/fv4fAOcC8AXZB3AHlAarBd0D+wGvAjQEhwW6BucHswhGCSoIPgdACOIHfgaTBUQGMAbcBWYGZQedB94GkgWEA1cC2QCs/4v/DABpAK7/af+V/pX8QPxM/On7ovvg+Xb4T/jJ+Hz5MPr7+o/7rPrG+Rj6Qvqg+b75W/sj/KP8i/yC/GD9vP2O/en9Of8w/o39Rf7X/Yn9u/3K/tD/cv+M/RH99f2k/V39o/1J/Ur8RP1R/yv/C/6//Cv9Lv9x/0n/tP4m/nb+UP9vAGcBLQK7AV8BlQEpAX7/R/4N/0kAUAHsAYEBm/94/5YARwC9/zL/Z//B/7v/SABkAcsA3/0O/hMBZQJ3AUQAzQBeAYQAeAAZA+MEMAS2A5EEqQR6A4sCZQNBBEEFlgYpBgMFJgXfBoQHIAhBB8gFsQSjAmcCpgOVBPcFkwYXBo0EXwJNARQAvf+rADIBhwDV/87/nv/B/kf+sf6I/cP8pfzr+xT8NfsU+//8a/1J/dT8Dfww+zX6fPpe+3r8p/zL/KT8KPwZ/O38C/53/L374Puc/D398fxb/XL9tv0n/qP+Fv7M/FT89Px6/Xr+ogDrAEz+k/wl/AD8vPyR/WIA9AFl/9/8tvx3/D/8O/7//8b+Lf7u/hD+2P32/u/+Sf8cACEARACX/xX/pf88AVwCrQK8ArkCfAI+AekBQQPiBJoFEgUUBKUD+QMEBHIELwQKBVkGqwaKBsAFCgWVBMcCFgLPA1UFHQaTBrsGaAY1BFkBcgHzAvUDaQMSAwQEVQRZA8EBYQCR/50ASAH3AMsAXgBvAOj/Y/4l/Wn8Q/yP/Fr+JQA8/uv7O/r0+fP6g/vZ+z379/rs+l365vky+lD6Avv2+xf8AP1U/eD7E/tJ+6P7UPz9/TD/Ff7f/P/7J/uJ/If/rQHlAi8BNP3h+5H7Ufs4/sgB6wIIAvL/Fv75/Zn9IP3P/Vr/gABFAJ7/l/+d/5H+t/0d/iAAUQDo/ln+Sf5w/7IAqwBHAFkAmwBAAd8ArAEJA/IBtwAyAoUEDASJA4gE9wVjB1IHPAYEBQEFoQO+A2gHlwjkB9wHSgdyBdwD9wOZBIAFTgZkBsEEnwL4AYYBuQGrAeoB2gHIAEb/sf1q/Xn92/06/qT+FP5n/Uj9K/xg+4P6nvqv+6j8q/5V/zX+gPye+9P7J/yj+zz8jP04/TX/DgBp/dv76fq0/IX+cf9uAPn+O/7p/ZX8W/xp/WT+Ff/H/pv+cf1//Uz+9vzE/HD89/sR+1b7Cv24/nX+qvuZ+qH7yfti+iD8Jv+u/6n9ufx+/gr/wP5NAEgDdwJyAC0A7QH+AsYCHgS8BXcG8ANEA4kEHQQHBKoEeAYBBosFVwXUA2kEgwW8BS4FcQV7BAkEnQR7AzQDkwOWBP8ElgUQBSMDeAJ1Ad4AwgEmAogABQGNArQBDAKnAk4BMP+Y/ff9PP9X/0P/nv+6AJUAK/+z/ywA1P5e/z0AeP8DALv/UP/C/73/GQDsAMwAFv96/bH91f5V/vf+lv9w/lr8O/ql+s78Mf1D/Gz9lvy4+sv4cvgi+1j7zvui+kr7KPy5+pn7M/sM/Fr8svsJ/Fz8bvzN+/P89v31/S//pv8D/vP65frN/An/uQDAANwBAgD4/Uv/0wAeADEARQHgAeoD+gJUArwD+gNyA+sCTwTgAvABQgSwBNAF3waOBdgEPAWIBEkD1ALeAuwEvQaaBUMFZAWWA9kADwG9A+8DIQMbAwoDOAI6AP3/XQLOArsAAADIAQsCOAAfANAAGwFCAH3/4ABCAfj/Rf87AAUBQgAc/3n+jv5n/zMA8v7M/Q7+zfwa/ef+V/7Z/Tj8fvuC/Gv8xPul+qL7g/yT/eP71viC+d36mfsg/HH9gf0S/DX63fmt+8X9gv0r/tMALgC8/dP7yP2BAGoAbQDEAJYASv+o/4YBfgCf/wEATwH0AEUB5QH4/oP+MP40AMcBfP/d/pEAaQHA/mD/7gBaAPcA7ABGAXMAuf8wAQQD6wNmA18DzgJIAZkBgwQIBbMDiQS9BcUEQwPWA1cDwQN7BC4E2AO7A+ID3AHXArUDKAJDAZkB0gFU/3L/dwBcAsUC6f51/UX+Vf65/vcArQGh/fT5fvuj/6AAcQBgARf/Mfs0+gn9Hf9CABAA7v+2APD+Vfyu/N/9zf0c/1kAJAGa/jX9rf7o/L/83P71/wgAm/6s/J37fvtd/ev++/6W/6r/QP6r+6T6mPz7/nT9YfsMAEQB4/1J/Z77evxN+z/7dv8vAnsCbP1++kr79PzN/koByAP0BHIC1v1x/XwA2wJTBHYGsgZLBQ0D5wC5AWEFGwdaB6QHIAaHA7UBnwFkA/0GXQdmBF0D/QHaAd0BdAHeAiUBHABNATACkQBD/pD+Vv5t/o//F/49/hsAtP5T/Qz9p/zR/A//BAINA9H/J/sn+z7/bwGrAb8CZwC3+yj7Qv03/yEBMAFfAFsA7P1z/ID9D/2D/Kb+nABM/679yfyT/D79Zv44/s39iP4e/MT7aP7b/aP9I/7M/l//MwCo/7X94vwg/Z7+cgDxAXQBcAEfAOD+vwDwAZcCtgJFAlICyQHXAOQBAAPJAiAD8gNwAwgD4AGfAKf/dwAVAiUC6QKRAc7/VP+x/1UA5wBPAPj+a//J/wYAu/8kAB8BBgBV/gj/GAHWAe8AtgCsASIBeABTAm0ErQN0Acb/UQCxAskDqQNSA9UBfQCyAGgBDwN7A+0Amf1h/Hf+KQDFAPv/WP6S/bb7Ovod+4v9+P3P/N371fuz+yj6bvqn/Aj+gv2g/Bz7ePqB++r86v1k/kf/kv/P/hj9I/29/lL/8f/hAfQBi/89/zgAVgFiAgECTQE3AcgADgELAkMCygHbAIQAMQGOASUBbQEWAakAeAC4/3b/Xf9GAIAB0wHDAIT/Cv8//4j/6f/6AJ8A0v+x////FgD2/4X/wf8tAGYA2gBpABAAdwC1AU4CbgGEANoBYQPNA2ADNAK/AlIDagKlAoED5AKCApkExAViAzwBJgATAD8B8wEeAVQBRwHSAF8BM/+Z/Nj7V/wl/kgA2QC3/v/7Nvvg+0P9hv0J/Yn9RP2N/P384P2R/Tv9bf3u/m8AEv8t/V38oPzg/lMB6ACO/2r/Xf5Z/J78RgAOAuX/Lv48/nP+Yf1//WwApAFL/+T90/4D/8D+Sv/l/1AA0wBpAMr/FwCWADAAIAEhA5YDxAGW/pn9wgD3A80DGwOVAWT/iv85AWoCTgNbA5ABXADkABkCRgIUARAAfwHgAlYC4/9q/tr/zgCsAQ4CbgHj/j392P1mACgChgDL/rL+m/+lAKUAh//1/rD+nf4qACECqQBh/sP+1gGQAkYB1v8x/jP/dQDjAcICgAI6AGb+1v5S/67/t/93AGIAWP/O/WX84/xA/fH9+f+i/yP9jPuV+5b8jP2b/S/+IP9Y/TT7JPyJ/WX++gBSAbT+jf2p/P39WQG8AQ//0P4JAcoBIgLZASgBLwCk/+cAnAOBBJIC8wAyAWUCpwIyAjkC8AJ5A8wDvwL7ACwAcwCXAnkEfQS8Av/+Xv3n/lQAswEmAJP+6/+U/1X+Z/6W/iT+dv7k/4oAU/6c/Pr9HQCOAEgAoAB6/8X+nv+FAA8BpQFaA4QCcv7S/akAsQLiAwIE+wGv/v388P6yAsUEngJH/wT+pf5ZAOUA4gACAAj/if0+/gABGAL//rb7k/5mAVsAN/z3+kL9Ev/K/iD/DgCa/X77XvzO/nf+5PwN/F79gP+fADoAg/57/iv+jv0s/kQA2AGQAMH/3ABXAQIBugDqAIoB5wERAgwC3wG0AswBAACWAfcDhAOSAlECUAJ9Adj/4/9aAaQDyQMwAr0Aef/g/jIAXgNJA30AbP7u/mQA8gDDAUIBtv/F/y0Auv8sALUAsP/0/rb/KwEuABL/1//T/wb/2/71/0YANQD7/mD+Kf7//YD/PgHCAKj+cf2p/FH+eQAMAH7+V/5y/l39FP5k/4j/+v4M/a38OP7b/tn+O/5I/aL9Qf/J/lP9uf13/ir+Cf4D/w0AUADp/zcAs/+l/m7+YgDTASQBnwEUAZX/Wv9EAaoC6AESAO3+DACNAQoDNgIyAb8A8P49/xsBFAPMAjYASP/3ABMCqQDJAFABjAA8ALAAMgSEBHcAgP2B/jEDgwQPAmACDQOxACsADACRAYgC8QDKALEBZgLUAMr9Af3EALwBNwDu/zb/AP5c/ID91P5k/gv/AP4h/aH+yv3X/VX+0vzo/Hz+8P6w/8gANP+m/IP8fv/wAbQBmv9H/vj/dgB1/2gAbQG4ALP/iP+q//j/igCtAU4BywBwACH/+/4PAIMBhAGVADz/Cv+a/zAAywBpAN4ATABL/7L/FwAOADEBtwDU/lX/uf+hAJUAAAASAI7/fwBxAa0Atv9B/oL+LQEbAoABBgAa/37/TwBhAQsChgHc/1H/DgDxAekA3/6n/1UBggKqAT8Brf+N/sf+EgEEBAsDGgBV/m/+pABiAcj/ngDQ/x3/7f84AOsArP83/rX95v63AJMAeP/d/s79Mf23/lYA7v+O/uP9sf7O/2f/nP+W/zz+/P1ZAEYCVAEv/nL94/9TACsAjwAWAsYBAv/D/i0BCAFp/uP9JQBKApkAwv6X/pv+aP68/hoAXP9V/gX/if5b/R/9KP4w/wf/q/9lAMj/kv2c/O3/OQLqAEv/KgCRAXEBFQIeA8QDywE3ANUBAQOuA2ID9wOpA+8BPwE3AlMEqQMlAbcAegP+A7QAKP8sAQcDsQELALP/nwBpAGv/zv/X/+79V/xm/iUA6/+r/gr9SvwY/ZT+KP+o/fn73fwb/4oAF/94/U790vwB/ksAdwCn/rf9UP4DAF0BjADl/ln+9P+vAfEByACN/77+Wf9IAcECrAJ4AMP+CP/aAO4BCQJXAM/9Gf1Z/k8AAwGp/yr+i/2x/Sz+T/6J/5f+1/xp/SD/iQCg/yb+ev1X/nf/0gBfAZYATf8L/4MA4gAGAHwAJQLCArYC5AH3APD/bABnAiAEyASOAkABkgExAtMCTQMpA/UBBwIcA6cDOQPkAQYAav8aAdcC1QI2AQoAMv90/lr/EACeAN//sf3U/Ub+A/7A/Qr+gP3f/Ab99vxJ/a796Pz4+in7dv25/3X+TPvH+n78Dv5W/nv/u//D/X78qP4JAcsAHQBoACgBZwGTAZ8BfgGyARECawKLA2kD1wH7Aa0BaQGJAjYClQFlAZgARAB2AFMAwv9VAJwAFgAv/2r+b/7T/gf/ef/GAC8ABf4w/Rj/QABrAHcAHgBP/93+TwDXARACUQEXAcoA6QBlAXECwAFAAAEBfgL7AiQC/gEZAhABZv+j/5UBPQObArsAAABW/0//+f9gAKEAVABU//T+hf79/gr/bP1N/fj+8//E/sr8YPxb/c/9Nf6l/u3+uf5T/aj85v33/sH/O/9E/pP+I//D/+H/7v/g/3IAlADV/7//NAC8ACkBcgFmARAB8gCWADEBbALjAQgB/gG9AUcAkwAdAQ8BpgDeAB8BIgFcACr/Yf86AEMA9/+p/5f/qv/J/mX+m/+RABEA0v5J/jn/f//Q/7sAEQFJAEP/O/+vABwCwwFaANP/qwCvAUQCoAFiAOj//v+oANgBlQGb/6z+5P6C//UAfgEcAL/+Jf5+/p3/of/0/pf/YACI//r97P1F/t3+lv8NAI4AZ/+E/av8F/7Y/08A2f+s/r7+2v9LAHj/A/+l/1sAdQChAF4BAQHS/9X+///7AukD1wJDAWYAQwA+AQ4DhAQ6Bb8Cu/+o/zICLQRpA7oBfgGmAqQC4gE0AewAQ//f/wwD5APvAc/+jf3y/psBBAI6ALX+if2V/Yj+EP99/hH+ev2e/Cn9gP2g/H77OvwN/jL+TPys+r379fxp/f79w/09/AL7+/tZ/uT+uv1X/X/9lv2j/Sv+Xv++/8r+Kf50/tH+Xf87AM4AvgClAA0BAQGUAH0A8wAXAnMC5wGDAYoBYQElAXkBwwFQAbIA+QA1AfMAwACMAIUAZgDzACYBNwAuAAMBOgIBA/MBdQHNAXMChgO4BJsFEwUiBNEDPgXWBgUHTAaPBukH2gffBoQG5Ab/BvgGDAeFB04HhgWiAw8DkgMLBEoEbgN7AYP/vP1B/RP+v/5L/aD6W/lf+en4TPed9nD3Dvcm9RT0D/Tu83fzE/SF9XT1mvON8tnzQfUT9tr2cvdH9x73R/ii+Ub6Tfpt+qn7Av3b/TX+5P5W/1v/JwAtAbYB+wBGAbICiwMPBKUDMwNEA2oDlwM/BHQERQQHBTwGDgY4BKUCtAKDBJEGnQaXBVcEdQN8BGQFqQUgBjYGmgZYB7kH5QZ3BS4FTwcSCh8L3QlxB9MGJwg1CvgL6wszCqkIyAggCvgKKgq6CMcH1AfhBzUHtAXuA30CtgFlAUoAdv7B/AL7bvmF+Lz3t/bk9BrzAvL/8PrvVO+S7+PuJu3D6/rrGu3Q7frtoe2E7ebt/e5o8FbxwPIe9Lf0lPW39oT4evov/AD+g/8eAF0AKgGuAr4EtAbSB+QHygepByIHRgdzCX4K6wqACt4HsAbXBrwHdwgVCJYGLwWYBBIEsQO2AwsDwQFgARMCEwS0AwMAaf3B/tUBYAPqA+MD1QMoAwwCpAMIBjkH7AeXCewLkQtWCdoI+wt2D2cQbw9NDsEOZg47DYMN3w10DbYMIAv8CCwH6QXjBCkEIgO+ALX9lvs3+mz5RPme9x71SvPS8RXxmfBT8LDvp+7U7dTsjuw27XTteu2S7brt0u1V7gbvP/Dv8Z3yePL58lj0yvVX93L4gvnx+jj8xP0Q/9X/XwBqATsD4wQ8BbEEWQWzBiIHAgcjBxsHrwZvBsUGLAfABusEfgMUBAQEeQMRAwQC3QE2ARz/pP1B/wAC3wEv/5z7bPp5/GT/0gHtAe7+HfvB/BMDAwZaBFwA1wC4BYUJ/gqGCQ4J5AiyCvIPKhL8EGwPkQ9OEW8SNxH3D3IRYxPDEq8PAA10C1wLVwypCzwKYAc2A6kBZwEjAN394vvQ+iT6C/kP9h7zxfH58Tjy3vIw8jzv4e3S7cjuH/Bj8I7wSfAY72bucO8Y8tXzNPTj87jzNvSF9Ej2JvkZ+yD7k/rz+sj7Mf2r/rn/IwHAAj0DCAIgApEDZwTdBMAEBgXjBacFcQSDBKcEvgP8ApYDEAT8ArMBZQA7AM0A4v+V/t3+LP8k/+T+jP1o/Nz7zfvE/V8Atv9U/M/5/vpz/sQA1AAT/5T9vv2m/8cBLQMnAk8AOwHGA/EFLAbuBWQFIwW6B1kK7QoDCrsHNgfICQoMXw0dDZQLqglvCWULLw3XDUAMZAnuB2AJ+AoAC68JOwftBZ4FOAX+BI0ELgNYATgAbf/R/oD9QPyY+1v7tfrK+OD3RPfy9l/2vfV59Qj1Z/SI85bzJPQ/9Cz0b/R69PbzifOg9A32XvYm9iH25/Zg98X4O/oL+gn5Mvm9+wT+OP6g/LX8wP7i/6MAzgGYAvwBOAEzAiEEZQQFA8wCqQTvBWsEJAOcA0QE8wPhArgDuQMtAhkB6QByATcBDQENAV8AaP7B/DH+7f91/zn+yvwk/If8cP7h/83/of0Z+1/8UP89AIr/S/5I/b39Vf9bAZUBkgD0/nP/AAIFAy4CCgFVAaYCggTMBIoEQQQTBDEFgweSCUEJOAdTBu0IPgy8DVsMAwtbC1cMWw5nDwAPYw2NC6EMWQ/KD0sNwQrcCeQJDQpBCe8HUwWXAkUBggAb/7/8DvtX+f72T/SV8sjxk/CF7gTtG+wi6x3qZelM6cbo8+i36dXqA+zJ67Lr5+wd8KnzF/Ur9SX1qvbZ+Tz9f//5AF8BAAHyAgYGTQjmCA8IFQg4CboKVAsSC6UKnglDCR4KBAsKCggI5gXRBMkFDgYiBYYD2gGrAAEA9f9T/7T+vv2V/Pn7f/vc+wn73/m/+Tj6JPrw+Hn4YPlK+kL5m/hI+nv75/qM+vv66/zO/av9kv83AlEBtP6w/1kDFwjgCvQJawnZCRoJcwuoEJcUeBTlEf4Q5hK0FWEWGRWiFYYXOBY5FKgTkRLTEQkRHRDYD3INWAm/BlsGbgSTARD/+PyU+1D5U/ac87fx1e+t7lDu1ex56v/oZudU54noKOib57LnT+hv6JLoz+j66V7s7u3L7uDvwvA38bPy5vSk99v5Zvs9/KD91v6B/7sBOgQLBgYHeQfUB4wIcQl0CrcLBQ3PDEgLkQt6CxcL8Aq+CkYL9wkoCLoGVwZqBfwCxQEgAvwBr//I/fz8BPw1+9/6dPsU+0L5nPem9oj3W/hT+Pv4kfiH94732Pdh+Iz59/pl+5v71/vx+zz9c/5a/8YB9AJqAzUE2gbDCPoG1gd1CeINfhEQEekQWBCbECYRgBXDGj8ZnBVPE7gU4xdzF9kWDBarFFUS0xAfESAPjQwuCm0JEgnsBHgArP0B/bb85/kQ937zG/Ed8MrtguwW63LpJ+jo5l3mauUO5RTkHORR5jfnqOYV5jPnbOkO6ybsye2X8FDysPKz9MD3tfoK/MP8wP+jAuoDMAV5BzEJJQk2CQkMABBUEIoNIgxnDVMPWBBYELAPew1+CvUJ+wp7C4kJtwYsBacD6wJwAZj/qP6Z/ZP8Ifsj+ab3OPcs91H2wPX59eL02fMU9Mz0oPX99ZH1ZPaR+P34SPjW+EX6UvxB/or+5f77/xoBDwLaA4gFWAUeBFUFVgkxDE4MMwnGByYKEQ5tEC8SohP5D1kNOA8sEzUXgBZiE/ESuRRDFXYTtRInE1AS3hHrEJcQSA7TCeMGcweoCcUGPwFf/U38Dvse+Y33J/Zf83vuE+xo7Yjte+rK52PnaufX5mTmTOYl56vmi+Xk5+3qdOr36XnrMe448LHxYPM19Yn2xPbW+Q/+k/+f/2QAUQJBBEYGlAiUCp4K3Qg/CSgMnw1jDX4Nvg3eDNALBgtHC+ALewpRCbUIoQd7BaMDqgNAA+sBvP88/m39Yvxn+9L5bvj692X37fZv9h/1DPT387r0KPWU9dP18PQt9fn2VPgv+VX5A/pm+837PP0y/+YAZAEuAToCUwQIBjQHQAiZB8oHiQklDKkP3g/6DIoMYA1MDw0TcRVuFA4RFxBDEU0UXxcAGEsWMhMFD80OHxTmFskU+A/oDBIMxAv7CwAMzQpZBfj/TQBrAuT/1/qR99f2APYt8x7xI/Dx7ZrqiOlk6qXp7+a25Urm7OZP5kzlMOaR57bnC+hC6nzrtevF7Gjvj/Je86bzo/XJ+O76GPxH/cr+oABfAVcDpAa5BxwHWwbnB8wKswupC5ALLgwSDE8KmwqTDMoMQwu2CVAJHQlYB/kFjgajBmYFhgLXAKcAw/+w/sf9n/2F/J76LfnO+GH5iPjl9/P3lvfr9tD1vfYm+O34g/hw92r4n/mK+tf7/vxY/cz9NP7h/qQAQAKGAnIDXQS+BJ8FfgbbBjcH0AjQCKQHIQi8CkUNmA2FC/gHugn+DhERXhLGEaYNMArfDIATWRg1F8MPnwuYDVIRkBNYEqcPdgxqCq0Kowo4ChQHBwSqAnIADf9M/d37v/nr9m70a/Js8S7wVfBZ7yXrTehK6EbqEOu+6NHmpeb65z3o2ujL6tbqberN6wXvLvGF8CPwhvMO+K35qPmD+on7Wf1B/1EC0AXiBb4EagQaBwsKpAq9CgULqgvJC8MK2AojDIQMrQuKCloK1QogCcgGAQfdB7sGHgTLAvoCewL8/yL+wP6s/jf8WvrD+nH67Pi99+v30vjI9+f1NvbU90T4Kfe+9jr4cPmj+ef5afqC+/v7wPwY/g7/kP8H/4X/0QDmATwDuwPlAicD7QQ4BYMFjAfuB3AHfwaDBa0I6wxbDzYN+wlgCfwIqg7vEhoU5hPKDngMdQ4eFDMXfxVbEq8Q2hF9EP8OBBAYEHEPKwwaCkcJ6wULA20B7gN/A/z8oPhJ95/3+vT88KLxUPJw7ynqFOgj6knpxuds50zpcehI42bjVeeh6lzpJeep6ejr9OzQ7Cbv0/L28pbzz/Ua+an69Ppo/HP/RQJyAuICLQWHBxYJYQnjCXULgwxyDaIN6g5tD24O5Q2zDY4OKg49DWwM2gsnCxoJ3AbcBbcF1wRBA4EBlP+6/U78Mfud+i/64vge9//1tvUo9Zj0xfSn9Mf0/PRg9Bf1nPYy9zf3Qfe4+DH65PuQ/Az9gf6s/sL/ogGcAw4E+wICBMoEGgaFB5oGbgcwCHoIrgcLB/EIkweaCH0Kjgy9DbsHJQVlBzIOGhGDDuoOSAtcCRIKMg6cFicV2g2ICfUM5hGXD0QPqw46D8cMYAfhCRUL9werAjgCfAUvAuP8b/kX+m36LvXJ8sXz0fKK7qLqwOv462/qSOjS52rpI+dC5ULmJulr6pjo0Ohq6jfsyO1G7lfw7PLy88r05vZv+dD6efzD/ej/vwICBDUFtAZbCAoJgwnmCjkNSg9vDm4MhwwEDjEP4g8WDzgNCAykCmkKBwyoC9YIWQVRBJYEeASgA0wBnv9p/n39ufwx/KD75Pmb+HH4Uvha+KL3qfaG9tX2Pvfk9gD3kPdq+BT5DPky+W35ovrm+/T8EP7t/pX++P2g/24B0AJUA8kCBAPbAjUDdwSwBfsGsgUtBT4FlQTJBaMGLgmSCeEHtwaxBvgITAnOClgM0gySCo4I6QtQD6cPMg6TDboO7Q3UDLAOJBCyD2oM3woODekM0AnoBxQIHwcqBLkBMwFMANL8f/m1+HT4U/a+8tTwP/BP7lDskOuq61Xq9ue55jDnW+g/6O3nJOjl6DDpeumr66rtGu8F8NnwyvLG9GD2evgv+179b/6p/34BQgMCBTwGXQg7CqkK9AoSDCsNHA34DekONw9iDhINAA1NDQsOBA25CwILEglLCBoIBggPBx8F9QLiAYoC2wF2AOT+3f16/VD8rPtd+1f7n/r3+J/4TPmU+Vb5Gvkw+Vf5Qvkv+fL5Cftv+2H7qfuE/O78Bf1f/Wj+CQAwANP/BAAjAI0A7wBoAUkCpgLDATcBRgLfAskBfgEzA6sEugVBBW0D2QA9ANgCbQnoDh4KNgO8ADUEEApMD8oRow6ACVAEXwemEAoUNxD1C1YNDA6VDMwKlwo9DV8Lpwi3B7kGeAOW/s7/tAKjAPb6iPb89ur2qfN78M/xofLj7Wbq6erl6wrq1+eK6VrraOlM5kPnjOse7G3qTuvm7rvwYu847/DxAfZf92b46/pI/K37DvwnAEwEEwZBBU4EJgalCLgJlQpVC5ALvQucDHkNJg1MDbYMIgxCDVwNCA07DC8LpQpMCqsKeAmGCbUJIgg9B4YFkwSOBKIEAATaAikCjgAA/9r+mP5T/tT9WfxD/Lf7Svp9+Rf5C/pQ+tn5/fhn+HL4rPhj+b35+PkF+tr5v/kX+g/7gvvm+hH8Rf0S/Uf9mf35/Q//8P8tAHcBvgL8AnUC3AJ1BNYFPQc2CHAIMgmsCAcI2wnhDPgNbA1mDIELsQu4C6UMlA5vD5AM9gjXCN4JIQnTB+8GEgb3A9EACP+1//7+xvvr+df5Cfl79QDzdPPf84LybPCn73/vqO4A7d/sgu5J7grtL+1F7tXunO5v7wXxkPKl8wf0vfQz9k/4TPmP+iT8MP3d/m0AvAEuAiUD/QPnBAEHjwfVBwYInQdrB5oHEwnACfQJNwnyB8wGrwXYBvwICgxtCnIFAwS9AyUH7ApDC5MK1QftBSIGjwixCpYMug33C4MJRwiQCKEIiwp2C9YKyQjeBW4ElwTXBHIDpgIaAnUAYP0Q/AX8r/oS+HT2OvdH9yz1xfLJ8frxwfFn8LbxSPOd8cLv6+/a8XDzqvMn9Fz1nvaV9pz3iPm1+6f9K/6O/5wAtgHQAtIEJgexCHMJDQlXCaIKgguHDBgOCQ6wDf8MWQw7DKkMYgymCxsLzwnlB8gGrgawBWwE1wKJAWIAIP+J/Tr8gfsf+uT4SPgf9271RvTq8z70jvNk8qDxSfFs8QbxXPEf8vTxBPLD8nzz2PP+84L07fV09xr4ePhx+bj6f/uJ/O79rf7R/kj/UADlARgCvgHcAjsDYQNZA9QD7gQqBQIFgQZ4B6wGggSFBaYJSwzvDF4MrwroClgL7QwzE8kUdBIgD7wPGBKbEysUABOxE84SQRAUELMQUA/KC2IKzgoCCmEIVwQ6Al4BR/5d+2b6Bfq990f0Z/Jq8eXvce3E66Ts5+ww6zXqk+q86vHpxOlo62zuE+9V7kLvI/G18k7zCvV6+Eb7jfsE/HL9nv/dAPEBMAVQB58HQgdLCFgKlwvrC0wMVQ2cDX0NiQ1LDnAOcQ2WDNwM2AyiCxALgApOCUAH4wV2Bf0EMgT1AcD/Bv4I/Bf7PPui+m/4I/bJ9NDzlfN78+byfvL28U7xQfGL8dXxcPKp8630EvWD9dD12PZo+Bf6avsL/Gn8Ov2p/rX/rQBZAbYBUwJ2AwsEygMIAwsDCQTsBOwEQgTaAwwELwRWBG0ECQPRAhYE1wZOCIwIywaFBW0GnwYZCmoNEg/bDXYMdQxmDF0NqA43Ef4TVhN2EGEOswyMDBIO9Q8nEMANlgn1BZsErQPXAnQC6gB3/oT7evhq9UnzqvJq8qTx/u/G7crrqOq+6ezpherq6tDqQuuA6wrrRuvf7G7vWfGD8kDzrfTh9c/3mPmk+4v95f4xARMDwQRCBQIGigctCYwKTws8DGkMgAxdDSMOoQ5YDpsN2A3ZDRkNKAxkC+0KJApDCekHoQbKBa4EVQMUAjEAkv77/Tz9m/yj++H5J/g/9xX3Pvfs9in2ZvU79QX1ivTw9Kj1+vWH9cD1ePad94X4qfgz+b751flE+tD72v3t/lH+5v14/jb/TQA0Aa4B9wFVAU8BvAFNAoECCAPsAy0ELQOeAccBfAPJB6kJ/Qi6BRgCoAIXB3UORRGaD6gL4QiRCSYNJhHoEvkSeBFdENQPHA8EDjgO0g+kELwPjAyFCLQFCQX3BDMElQKw/wr9ovp9+Hr2qfRC82fxJfDm7vPsZOvU6pbqROq86Urpiemx6ljrvOt37FDtFO+28NTym/TQ9WX3d/k+/Cf+OP+eAEgChQS7BgYI6QisCX4KYAtCDOgM/wxADaUNyg03DZUM5AttC9ILWAs/CuII3gfZBikGzQWxBOkD7QJrAUsALv/u/Q/9E/20/FD7CPqp+Jf3V/eO93H3Gvdp9q/1VfVp9Vj1iPWK9kD3svda9zn3Hfed9+/4u/rw+7j7zPvs+4j8gf1k/qH/yQAjAY0APgDGAJYB6gITBFoFwwSLA2sC1AJKBSIHKQlyCAkIXQarBBEGAAm3DsMQuQ9vDBIJTwoADTYR9BO2E0oRsg3SDCsN/g1RD8AP7g+RDaUJbwa8BPgEoQReBN8CVv92+3n4mveo9gH19PKq8Q/xOu9m7d3r8Oqj6nXqMOuL6ynrnurz6qbsVe7W7yzxevKg84z0gfXy9pb5cfyW/sb/ZQAeARkCwAP1BR4IiAmICTUJdQkSCukKqgugDAoNZAxkC5oKSgrZCXIJHgnNCMAHXwY6BU0EcgNdArUB8gAcAPP+1f3k/Ab8RPvm+vL6cfqV+b34g/iZ+J74jviE+Ib4ofjJ+N74Jvle+XX54vmW+iP7cPt3+6P73ftA/Kf8B/14/bX96P3//Rz+XP6h/u7+N/9T/1n/GABUAQ8DZAT7A+0CFwJJA0MGvwlaDHEM3wqPCQ8KSQwrD20RkhJpEgASSRHuELoQlBBMERgSyREoEDEO4AsXCsoIwgffBmwFhgMwAWb+n/sN+Y73uvac9Uf0B/KL73btUuwP7KjrVeuP6g/qY+qI6ubqKOvU6+HsG+7l7w7xU/LL81j1qfef+UT7u/xX/gAAuQF3Aw0FjAbaB8cIqQmECicL7QuTDFYNWw3pDJcMKwwYDPgLXwtSClEJcwh2B48GqgV7BDgDGgInARUA7v6f/bP8+fsn+3z6s/nW+BT4dfcu9zP3Ave19nj2vfYJ91H3r/fN9+v3cfin+eb6tfv1+/b7Vvwk/T7+g/97AOwAIAFoAZIBaQFIAX4BGgLNAgUDjgKJAREAvv6g/t7/cwHsARkBgf+2/Zf9V/9/AjkFggWsBC0EPAUdB5gJ5QtCDZMOeQ+eEMARORK2EoITqBTNFZIV3RQSFDkTgRIvEZEPoQ2nCxYKvQipBpoDTwBB/eD60/il9pP0P/IJ8OPt8es/6o3obeez5o/mneZL5tfl1uVf5kjnd+jW6U3r8OzF7tXwOPMz9eX2z/gi+6X9EgBKAjQE8AXGB2IJxgruC7kMkw2iDrwPSRBmEFAQ/g+MD/cORA50DW8MPwskCgMJ8ge9Bn8FxAPBAcX/I/5d/dP8N/z0+hX5GPen9Vr1d/Vz9Tr1BPXJ9GH05/OO863zcfSy9ST3Qvib+Kz4BPnm+Q37IvxO/Yj+5f/4AK4BCAI7AncC4wLFA74EXwWIBT8FsQQeBL0DxwMuBC0EswMhA8wCeAI/AtoBfQHCAXoC1APoBCEFcAQtBOIExAbNCBMKMwttDPUNEw+TD1oPiQ9mEO4RQxN7E1YS7BABEH8PNw82DqkMlAqhCK0GgwQvAtP/cf0J+9D4NPaE80nxl+9Q7v7sE+tI6XDnVeYj5qzmkOcG6EjoZ+jw6OPpcOuN7fHvJ/L+88j1mPd1+an7Sv4gAZkDQwWmBjUIRQokDLINzg5uD+gPThDwECERCBHHED4QhQ8+Dq8MDAuoCbEImAclBgsEmQFC/7r9nvw0+7v5Kfir9mf1c/SX8/bykfKJ8svy+/IV8xrzc/NU9Iv14fYt+FX5Ovo0+wn8Hf1a/k3/YgB+AbIClgMnBGQEpATKBMwEzAScBMMEygTQBJgE5APdAqsB5wBzABsAiP/q/l3+Df7p/cb9b/36/OT8zvyD/W7+wv/XAJ0BfwJrA2UF6AaGCI4JxgqVDJoOFRHnEoEUCBUPFbQUWhQhFPMT/BPAE0AT5hHqD1INawqoBwUF2wLMAKz+f/wH+hT3+PPj8C7uNeyd6oDpZ+hX53DmseWq5Srm5+Z75+rnaOg/6cLq6exm79nxR/SF9pX4mPqi/KT+ywASA1wFVQc6CQYLoAxiDtcP9hC5EQMS7RG0EYIRlBHBEYARyBBjD4wNpgvfCVIIEAeSBbYDuwFz/1z9Xfuz+TP4+fbt9cH0vvOw8q/x4vBu8FbwkvAM8Y3xHfLz8uzzKfVi9pT3l/h3+bf6NfwV/sn/GAFNAl4DXgQxBdkFQQa/BjoHmQfjB6EHPgd8BiEGygUhBV8ETAM5AiIBBgDa/iv+u/1p/VX9df22/eH9bf0j/dj8GP25/Sj//wFCBaIIogrUCzcL9QlsCTwK9wwUEEIToRX7Ft8WOxXHEu4PxQ2MDE4MgAwJDP8K5AhJBvoCBP9A+4j31/Sa89fyNfL28OvurOyZ6ivpHuhw5zvnpue96FTq1evH7IHtMu5f7zLxF/Na9Xj35PnP/KP/RQI9BKQF+AZrCCwK1AtfDcAOvA+UEEARrBGEETMRbxDFDwgP2g3HDGULOQroCEoHfgV1A0oBnv8E/mn8sPr/+LT3k/a19cD0n/No8p/xFfEZ8XDx4fGo8lTzF/Su9OD0LPXS9Qj3qfhy+jT8lv3N/qL/JgCFAO0AhwF1AksD5AMnBE8ESQRTBBwEhQO/AuABcAEnAQYB2gBXAGj/9v2D/Or76vtn/BT9zv2Y/vT+6P4K/2H/2v8+AdoD3QczDAoPChHiEd8RkBEBEYYR5xIpFT0YdhurHdcdpxsZGH0UHRGODugM6Av1Cl8JbQd+BPYAo/wu+EX09fCQ7m/szerz6CHnruV05N3jAeOX4kHiJuIK40jkbeaG6Kbq+OyL77Xy1fW0+BD7Jf1C/8cBjAS1B4sKogw4DnIPXxAvEdQRYxKEEvsRQBEXECkPbw6zDc0MiwvGCZIHMAWqAj4A/v08/AD7//np+Lb3hPZy9Wr0Z/Nr8u/xo/GF8fzxHPOD9Lv19/YB+Nz4gPny+b/6C/yE/dz+hQDzARcDqwO7A+0DOQSlBCAFiQXTBYEFzQQiBIUDCgOlAmQCUgIzAn8BeAAD/5f9Qvwn+6j6GvoV+kL6Yvqq+q/6v/rQ+p76cfoM+gP6dfqS/E8AZQVUCmcONBEAErURlBBPEM8QHhJGFIUXxRt2H1AhmCD1HfAZcxVjEf0NuwsOCiUJrwgYCFAGdAL2/G/2LfDe6irnIOWn5OHkYeXP5S/l0OOh4U3fLN5Q3hfg/uJj5gXq8e2R8Qr11vct+jb8G/5wAJUDqAegC2cPFBJDFHoVLhamFnoWgBb7FSIVAhTpEpMRNRDhDr0NMAwJCk0H2ANwAAf9Ffr696L2gfWS9Jzz4vL+8QvxRvCd71rvbe/Z74fw0/Fl82z1dPdo+RL7Rvwg/aX9Xv5m/4IAyQE6A54EzAWVBvYG5wZ0BtwFRwXABDUEdAOIAsQBMgEHAe0AgwDC/5D+Pv0x/DT7pPpN+v75pPmO+a/5DfpG+kH6Ivo/+qr6Lfv8+9f8Gf5r//0ARwJDAzQEkAUwCLkLeA/3EqkVbRdFGEAY9BeaF84Xlhj6Gacb8BwaHbYb9xgOFZwQ9wt8B4sDiwBO/jz8OPqm91j0cvBP7Djo7OQi4tvfo9443pfegd+n4EbiwuMN5Y7mXOhM6qDsM+8/8tH1sfn5/QQCuAW9CAQLAQ2nDgIQBxHbEcUSqBOdFMkVSBb2Fe4UKxMGEZoO0Av/CH4GdATcAl8Byf+v/Uf74fiI9nv06/IM8orxoPHG8eHxDfI68tDyxPPi9Br2gvfd+BD6UvuW/Pz9e//yAC0CPQP+A1sEigSuBOcEAwUQBR0FzgRGBIgDmgK8Ae8A7v8T/zn+gP3M/DD8zvsm+3363vlD+a/4NPgK+B34Kvjl96z3qffq97b4I/rT+7L9Zv+1AK0BPAJLApYCxgNjBk4K6w7QE8kXgxrxG+0bzRoOGQYXAhaBFiUY1hopHYgeYB4xHDgYxBKIDCoG6gAL/Yn6F/mp91v2f/QU8u/uC+vv5sLi8N5r3I7bOtwI3ojgVuNZ5gXpB+u07Bbui+9M8anzBvf3+ij/gwOYBwALrA1tD7AQfBHhEf8R/BFHEsgSQBPdEzMUyBOQEqwQIw4gC+MH1gRMAjMAa/77/MP7ZvqX+Iv2a/Rm8rPwhe/J7pjuzu5a7zvwP/Ex8jXzRvRl9Y728vd5+R37yPyA/kAA5QFmA7QEyQWJBhIHUQdqB7kHpAdzB/cGQgaMBa4EzAMUAwACwgBy/wT+4fy1+9f6bPoN+vL5ovk2+cv4W/gM+CT4VPjE+Gz5G/of+z78of1D//8AlwLgA6kEFAVUBZ0FhAaPCPgLKhCuFMEYqBsWHRYdyhuvGY0XcxUqFCAU4xRkFswXJxgdF2kU0g8WCtoDqf0d+Krzk/DS7vztf+3Y7J7rnunx5uTjBuHU3qvdrd0M34rh+uS66IvsDPDW8if18vaN+J76Ef3m/xgDfQbQCdwMJQ+/EM8RghKuEoASYxIvEsMRChECELcOHw0pC0MJWgc8BRcD9gAJ/x39Jfs5+W33dvWc8/3x1PAl8OHvK/DF8FLx1fFu8jLzNPSM9Sz3FPkI+wf95f6lAFcC1wNfBccG2we/CDcJeQl4CQkJfAjQB/QGIwZQBU0ETQMjAs0AT/9z/bT72flW+DD3cfZG9kf2eva+9tf28Pbz9gT3cvcw+Br5Pfqm+yv9lP71/0gBqQK9A48ERQWEBasFfAVQBfMFKwdZCXAMihDiFIgY+BrEGzIbXhnDFigUDRI0EZ0R8xLgFIEWDBfRFXsSnA2zBy4BCPvh9TnyBvAJ7wPvPe/P7tjt+uss6XvmtOOf4ZPgcOCZ4c7j1OZa6vXtO/EZ9Fr2Hfjw+bX7yv1OADwDKgb1CFkLUQ38DjQQGhGREesR8RGOETYRfhBrD+4NEgwcCggI5QX0AykCgQDX/h/9ZfuH+X/3ffW280HyLvF08EDwm/Bk8Zjy4/Md9QP2mfZH9yT4Hfl7+gr86P3x/9wBkQP1BBAGoQbeBvwG/AbwBskGtQaIBkkGuAXcBM0DogI3AdP/ff4q/fL78/pQ+sr5l/mC+Y/5+fk4+nD6ivqm+tf6L/u8+678f/1v/l7/AgBlADMArP/i/hH+d/1l/eH9Af+oANgCpAXXCMkLXg6DEAIS2xIUEyoTbhMvFHAVUxdpGQAbtRtVG+EZSRccFJMQ7QziCQkHcwQIAmX/gfwd+Vn1oPHT7YXq6+ca5g7ldeRc5FnkYeSU5JzkHuVc5k3o9upj7hTy5PVz+Xf8M/9RAfQCaATeBc0HJwrIDJUPHxLME34URhQyE1gRCA+VDF0KbQgTB/0FWgXLBMgDkgK2AEP+a/tP+Gf18fIk8UjwQPCm8IPxYfIi85PzbPMm88vyjPKW8k7z8vRL9+v5qvxa/2sBDQMJBAQFzwVIBqwG5AYxB1UHMQc6ByYH3wZjBlwFIQR+ArQAO/8H/l/99fy4/K38cvz++6T7J/ue+iL6xfnt+YH6ZPuQ/JH9av79/nj/n/+C/3H/o/8eAM4AnQETAmwCxwLrApID2gTBBpUJ9wziEMoULRixGgMcGxwQG0UZ9xahFNAS0xG+EUYS5hJFE+kSJhHvDZYJHwRO/o34VPNp75vs0+oU6unp6Omg6RzpLugD59Pls+Qg5F/kK+W65gLpy+vt7jLyWPWn+GP7yf0EAPwBIwQfBiQINgoGDKMN/Q4nELUQsxAqEEkPQA4EDbwLbgpdCVsIVQcKBl8EZgITAHb94vqu+LH2KPU79A70FPR49PD0C/Xe9Db0mfNI81Lz+fMV9df27/gq+5D90/+JAe8CDwTFBGIFqgX2BUkGhAb3BiwHOAcPB6MG1wXrBLwDjQIaAZL/Nv73/Aj8E/tv+u/5rvmd+aP5vfnJ+cf56vk/+oD68Po/+5z7DvyK/CX90/1v/lr/SwA1AUcCUwNXBCoFmAWRBfYELgShA6kDuwTMBjMKXg7wElYXxxq2HDEdExysGZoWHRMvEEUOng0tDk8PeBAcEYAQag54CioF2f5A+FbynO1g6t7ouuh16abqs+v/633rbur96Lvn/OYE5/vnpekS7PHuE/Ik9f/3TPp3/Gj+SAD/AbADXQXFBhMIRwlnCh4L0QtSDLsM4gyDDOYL7wqkCSQIggbkBHQDCwLCAKL/rf7D/eX8Efwb+zD68vjI98P20fVd9Uf1gPUQ9v/2Afg7+Xn63vs+/aP+3f/yANwBoAJ+Ax4ElwTyBEMFfAWDBXcFMgW4BPUDCQPzAYkALv8I/vP8Bfw4+3j64PlQ+aT4NPjt97D3oPfO9zr42vhb+f75y/p1+xT8iPz7/Jr9R/4Y/xMAEwHoAawC/gIGA8ICdgJMAoUCuQPVBeAI9gxXEc4Vxhl5HModwx2tHMQaoBiLFkYVsBSrFEUVyhUAFvIUbhKlDpMJpgOC/Zz3sPLi7m3sdOtT64PrpuuD68rqb+nT5wPmpOQv5OLkpuYx6QrsF+8H8qv0C/fS+DD6pPsJ/eT+PwGZAwIGEgjoCWELRQyIDFYM4gtOC+wKgQofCpEJsAiqByIGaQSNAq0AHf/E/dv8PPzX+1/7tfrU+ej46/f29hr2jPVg9bP1nvbg92j5B/tk/Jf9gP4R/5r/AABbABsByAF8Aj0DmgP4AxEEwQNXA6UC2QHyABQANP9U/nj98PxU/PL7z/uH+377XvtN+0j7R/ti+3r7o/v6+2X83vyL/S/+t/4b/2n/rP/K/7X/pf/b/0kAzQB+AVQCGgPlA+MEMAbeB9AJLgzuDvUR7RS1Fy8aFBz9HNMcDBzXGuYY7BY4Fc4T3BLUEbwQYg9SDXsK1gbNApD+IPrr9Sfy2e4Q7LrpBOjc5srl7+Rs5CTkWOS+5GnlaOaG58LoS+oU7CnuYPDk8r/18fgR/Or+qQEWBPoFoQcYCUIKXwsfDOQMyQ1tDtIOyA57DtUNowxBC8IJPwjDBjEFvwMpAkUAKf4H/O/5IPiH9lf1sPRr9Gf0u/Q59bf1KPaD9tD2JfeY9xL4zvgY+qH7VP0W/8kAIgLnAk4DXgMwA/4CsgKjArAC0AILAx8DGgO3AgQCQQFlAKX/Bf+K/mz+fP5k/nH+Xf4x/vb94f0c/mT+4/6I/wAAdQC0AJwAVgC5/wv/o/6C/rD+9v6Y/38AbgGdAqsDngTjBT8H9QgvC9QNqBAzE1MVAxcNGHMYLBhfF3gWaRVkFMMTYBPkEvoRZRBMDlULiAc3A73+lvrW9hf0PfLu8APwO+9W7g3td+t76X7n0OWG5A3kbOTI5aPnLurV7G3vpvFt8zH1dfaP9834U/pR/Kb+GQF0A6wFewfsCM4JSQpPCggKrwlaCTgJNQkSCb8IXQiXB6UGcAUDBIMCGgGz/33+w/04/d/8cfwL/H77/PpV+r/5dPll+aj5WvpX+2n8h/16/kP/1v/t/8//kv9U/0r/gP8YANcAhgEMAkQCPgLbAUwBXwBx/6H+Df6+/YT9jf3O/S7+i/7Q/tz+sv6K/lP+Kv4e/hv+Of6Y/gj/bP/3/2IAlQDRAOwAAwFKAZgB9AGTAuICMQN9A6sD5AMBBFQEKgVMBs0HrAmIC4MNGQ9cEDIRWREcEU8QWA+MDpcNoAzZCx0LVwqJCaoIfwfnBRIEIwIpAEz+XfyG+rb48fZH9fHzq/KN8cnwHfCd71/vU++b7wPwtfCd8aPy3vMJ9Tb2XfdF+CP5CPoB+/P73fz5/S//YgC3AeMCzgODBMcEtQR2BOUDQAOqAiYCvQFaAR4BHQEmASwBDQHkAHEArP/P/v39SP27/In8nfzd/Ef9of0V/nv+yv7v/h3/If8N/xf/Gv8j/1H/fv+U/97/FQATAAoA9f/X/53/Vf8P/9n+qP6r/sX++f5E/53/5f8zAI0A0ADhAPsA+QDsAP0A6wDWAKUAWgA6ACcA7/+t/4b/Xv9r/1T/UP9m/4D/jv+K/4P/pf/d/9v/4v8QAFUAkgDlAIgBIQK/AoEDFASgBPYEUgXbBXYGRAcFCAAJIwoiCycMQQ0XDukOcQ/dD+sPxg+FDwEPLg7JDC4LegnIB+oF8AMvAmQAb/7y/Mj7lvpB+a/3YfYV9a7zZPJG8VPwcu+W7iju+O3e7RXun+5k71LwX/Gj8ujzJ/VD9jz3B/i7+Fr5//m2+o/7pvz9/VP/nQCzAaYCdgPwA0AEXwSNBMcEFAWVBScGuAZAB7MHrQdSB5YGzgUIBTgEhgP2ApUCVAIMAvABwwFMAcIALABn/5v+3v1B/cb8d/xa/HL8qPzZ/Nv8Ev0z/T79YP14/bT92f38/Q/+Kv5U/mP+mP7G/hL/a/+i//r/UACQAKUAnACGABwApf82/8L+Yv4o/gH+/v0J/hP+O/5u/rb+//4b/yf/L/8x/0b/gf+2//z/QADQAB8BtAGcAtQDjAVnB3IJgwuWDX4PYRH7Eg4UkBStFHkU6RM3E10ScRF1EIkPqw7aDbQMGQsnCc0GOQRMAV3+ifuz+A72tfOa8d/ve+5O7Yjs8euO6z/rP+ty67Lr/Ot+7Abt3u3Y7v7vVvG18lT0Afal9zX5rPoX/GX9lf6Q/7YAwwHCAuEDCgUwBjkHPAgRCZ4J9QkMCtkJZwnBCBQIPgdKBlIFdgS2A9EC+AE0AXQAq//v/kH+lP3I/PH7KPtm+qj5H/nX+Oz4KfmK+Q/60PqW+0z8I/3E/UD+m/7f/h7/Xf+Z/8v/DgBvAMcAGgFrAasB8wEhAngCggJJAtsBZgH8AKUAewBpAIgAkQCiALEAtgCnAFEA2f9u/wD/i/73/Yf9P/36/An9Q/3t/fT+UwAVAjYESgYWCLQJJgtGDAQNqw3+DUUOmg4QD8EPkBA+EawR+RHjEZARqBBHD3kNNQvDCBEGYwPuAHn+Yvyi+v74r/dk9gT16PPA8qbxm/Cd78zuLu6j7YPtwO0U7pbuWe9P8DnxOPJQ83j0nvXC9vf3F/kJ+uT61fut/HH9Lf74/s3/rQCbAbwC8gM2BV4GQwcACFMIUwg0COUHdAfvBnoG/AXCBZsFhgVqBSEFpAToAzMDHgL/AA0AG/9L/qf9Tf3a/Fv8vvtD+9f6bfoF+tr54/kK+nL62/pO+7z7Nvy8/DP9g/3k/TP+hP76/nH/7v8+AIsAwgDkAOUAvACQAGQAPQA/AGEAggCaALoAygDaAJwAPgDH/x7/kf4e/sf9qv3I/Rf+uP6j/+kAbQLfAzcFeQbcByAJUwpeC2cMXQ0uDvAOug+BEBcRkxHfEfIRtxErEVEQ/Q5mDZoLmgl/B2sFRQM3AUb/af2h+xz6sPgc96z1SfTd8obxZ/CA777uRu4B7vbtLO5/7gPvte9v8C7xBPLW8rvzw/S69dL21/fc+Nn53Prv+wP9Iv5H/1kAYwGJAqYDqgRtBRsG2wZKB5AHrgefB2oHGAemBlcG8AV3BRQFegT0A3wD3gJIAoABsgDz/yj/Y/6N/bP85PsY+3/6JvoD+vX5Kfp7+ur6WvvB+wv8RPxi/Gf8jfym/Mn8BP1L/d/9c/7z/mr/0/8cAD0ATQAmAMb/Uf/c/o/+Vf4i/ij+R/6N/gn/eP8HAKoAPQGSAeMBEgIuAjECHgI1AmsC8QL3A1IF3waACAQKpwtCDYMOfg/3DxkQZBCgEOoQPRFiEZgRhxE4EeQQRBBZDxwOewzjCgYJCAczBWwDrQHn/+z9K/xj+oH4v/Y79R30KPNc8qbx/fBS8Obvpe9h72LvYO9177zvDvCE8AfxofFR8gXzxvN99D71GfYT9wX4CPn++Rz7Nvw2/T7+Pf8cAOUAmAEiAqcCOwPMA0YEtwQiBWIFtQXYBeYF1QWKBTQF1gRvBPYDTAOuAjgCqwFYAdIAUgCv//P+Zv7a/YP9Av2V/Db8Dvzf+9b7y/uz+7L7pvvQ+/r7Cfwo/Dr8X/yZ/Kz8x/wj/Y39B/6e/hr/mf/+/zgAgQDNAAIBMgFcAZoB8AFJAs0CQgOwAyYElASpBH0EKQTVA3QDSQODA+UDnwSTBcIGGwhtCbIK0wvCDHUN4g3oDQcOEw4tDkwOPA4pDhcOEQ4UDuENOQ1RDBMLwAlUCLUG7wTaAp4Ar/4Z/av7d/ov+Sr4Cffl9Q71QvSS8+vyRvLB8VrxBPHC8LrwzPDc8CHxp/EV8pvyPvMG9Nv0uPWR9jj32/eC+Db59/nB+oD7F/zY/Jj9Vf4z/wYAxAB7ARkCnAIhA48DwQMPBFEEdgSHBIYEXgQUBOoDrgNTA/8CdgLzAS4BZQCy//b+Xf6g/Rn9nPw4/O/72/vk+/37Mfxm/LD85fwu/WD9n/2//e79KP5s/qT+zv4g/2b/zf8qAHkArwDKANoAAwEoATUBTwFFAU8BggGvAcUB/wE+Am4ChQKvAuQCKQOGAwgEvgTBBe0GUAiaCX8KPAvfC1oMowyhDFwMEgzkC/0LHwxRDHIMVQxVDBsMsgsGC+YJmAhNB+cFlAQlA7EBOADJ/rr93vwE/EP7gPq1+QP5Wfia99H2EvZO9Yf04vNb8+Xyr/KV8ozy5vJB89Xzb/Qa9a31Tvbk9ob3IviR+P74T/nJ+S/6xvqT+1b87PyA/Sz+uP5Y/8X/JwCIAK0A7gBMAZQBDQI4Ak8ChAJ4AkMCAAKpAVQB/gCuAHgATgAmABYAEQAIAOj/r/9c/8v+Uf7l/Xj9LP3b/KP8k/yq/Pb8Zv3D/f39Nv6C/pT+n/67/v7+NP9t/83/MgB3AJwA7ABaAeUBXQLHAjgDeAOrA/MDRQSZBNAExgTcBPoEDwUVBUEFWgVQBWoF2wViBgEHrwdcCCgJgQnQCTcKbQqdCnMKFArgCd4JLArqCokLHQyKDMoMCg3BDOcLmgrmCFcHwAVCBN0CbwEgABH/Rf5t/WL8LPvF+WX4WPdV9iL10POo8tjxPfEF8bDwWPAy8Erwe/Dh8FzxvfEc8qvyVPMC9K/0XvUO9rP2ePdb+E75K/r8+sb7bvwJ/aj9aP79/n7/2f9PAAoBggHCAfUBKQIkAuMBwQGIAVwBQAElASsBMgE2ATUBPQE4AQIBvQBxACkAz/95/y7/8/7U/tj+DP8n/0H/iv+4/9//CwAxAFAAZQBjAHkAnQDYAP4APQGiAe8BOAJxAsoCAgMVAx8DGgMMAwcDHgMzA0EDQwNDA2sDtQMiBIgEtwQoBa8FjwY1B7sHdwgtCS8KVQsbDHsMpwymDPcMKA0uDSwNBw01Db8N3Q2VDQUN3QuiCiwJuwcWBjkEZgKxAG3/g/6K/Zb8dfv9+af4f/dZ9kj1FfQP81jy6PHP8cTxuPGK8UjxUfFl8WLxZ/Fs8aXxKvLY8przO/Tb9Ez1w/VK9uz2a/eq9wP4kfhw+Vv6F/vA+1n8Ff3q/aD+S/+q/wUAmAD2AJAB+gEuAm4CpALrAjwDaANFAyIDGAMhAzYDLAMFA8kCjwI6AvABhAH2AJwARgDP/4D/Of8E//f+Bf8q/yz/Hf8k/1b/if+d/7f/+v89AG4AsgDqACkBkQHtAU4CoALpAmoD9QOvBEkFogX/BUQGiAbmBgYHGwcaB14HXQjnCbELAA2VDdsNLQ7EDnQPoQ8PD0cOjg1dDYcNbQ3HDK0Ltgo6CgEKiAlICKwGIAU0BHsDVwLfALv+lfwF++T58/is9y32rfSe8/3yl/IC8iHxLPB/7yfvAO/C7mfuKO4m7pHuRO/175nwFvGu8YXyrPPU9MT1Z/YM9/T32/jJ+aD6E/tk+9H7uPzT/Zn+Cv8t/3H/8P9+AAcBGAEGAfEAIQGDAdcB7wHmAdYB+QFQAq0C2wK9AnwCNQI3AgQCpgEcAW0A3/97/1r/Kv/0/sr+yP7e/gX/H/88/1b/ZP+l/wgARwBxAKcAMgECAuQCkwM1BM0EdAX9BS8GTgaEBtYGgQf/ByUIPQhrCDcJNwooC4cLZQuiCwgMqQwnDQwNzgy8DAcN5A06DkIO9w15DYINWA3YDLkLAwp0CDUHEAbMBEEDbAG8/z7++/y2+yj6RfiT9g/18PMh8zDyYfGS8Pnvy+997x7vz+6g7rbuN+/d73bwFPHk8fvyEPQY9RP2yPZZ98r3XvgJ+Zz5QPoG+/j7CP0E/uj+r/84AKcAAAEoAfYAlQBdAEYALgAAAND/vP/N//X/JAACAMf/i/8+//7+sP5C/uj9gP1a/X39lv3E/RP+i/4W/5L/CwByAJIArwCzAMIA1gDCANwA7gA4AZoB+wGHAvoCRgOMA+4DUASYBLoEgAS1BG4FWQZFB9AHFgg0CM0IJgptCwIMCAwODKkMrA2hDjcP+w6IDnUO8A6rD7sP3A6/De0MegwkDGML3QnnBygG2ATmA7wCJAFg/879m/zI+6r6+Pgf90j1AvQN80LyUPFq8N7v5u9V8MDwCvFQ8bTxFvKE8uDyLfOW8xz0ufQv9b31O/bp9pL3dPhj+Sb6//rg+7T8Nv2J/Zr97f1Y/uD+bv+//yYAnwA1AesBPgIDApEBBgHIAJwAQACR/9H+Cv6v/bn9sv1V/bj8LPzt+xj8YfxW/Pz7vfv0+3r85vzc/MH8ofzk/Jj9X/74/mH/xv9LACQB1AFXApsCwALKAiADzQO2BPEFDwdxCNgJcwvFDLANJQ4QDiEOZg74DmoPuQ/zD2gQiBGWErETHxTUE0kTaBK+ERoRHRD0DtgNnQyiC8YKewnoBwAGIwQ6Ak4APf4N/Lb5qPfS9Ur0BPPJ8VnwAe/n7Srt6ex07Ansf+th6+Tra+wY7a/td+5w77bwDfJe82/0aPVX9mT3ovi2+YT6MfvZ+8b8u/13/iT/n//Y/wEAPABuAI8AdwAvAAEA3f+6/6z/mv9z/27/Pf8u/zD/C//y/rv+f/5E/uf9oP11/WD9hf2b/ZX91f3Q/dL99f0H/gD++/01/pD+Fv+v/yEAiQD/AG0B7wGnAhEDXgPTA7EE1AXGBpcHJgjqCE8KTwzuDb0Oxg75DuIPsBBbEbcQzw9fDyAQyxFdEw8UPBM6Eq0RqxFnEc8PUA0IC48J4giPCGIHdAUfA1gBiQDK/0b+uvup+Fr2HfVw9JzzTvLc8NTvwe8H8DLwyO/f7mPucu4V76Dv7+8M8Kjw9/Fr88D0sPUJ9kf2Cvci+Db5A/pb+tX6fvtt/Db9rP3F/ZD9rP3f/SD+Nf7N/bz9+P0//mX+Kf6b/Tz9+vwA/TL9/fzn/Pr8Sv32/TD+Qv5n/l/+d/5y/jr+Kf4M/gv+Zf66/uz+Cv8Q/1v/rv8RAGUAvQAaAZgBMwKuAioDXQM8AzoDgwO3BJoGZwjmCeYKnwu/DOcN/Q5AD5MOVg4OD7oQRRIUExwT+BKPE3sUPxW4FDQTfRFREMMPEw/QDf4LIAoBCYQIygchBnsD0wC7/hf9a/ti+RT37vSb8w3zqPIS8vnw6e8v7+Pu1e5j7vLtju277ZDup++p8ITxK/Ls8qrzavQa9bT1XvYm90X4V/mA+pX7evwy/ZH9uf24/cP90v3j/cn9qP3M/Qv+Hf79/b/9Zv0T/dz8ovxt/E/8bfyg/An9Wv2E/cP9A/5z/vT+NP8M/+D+qv6d/tP+9f5b/9j/WADtAJEB8gEnAjQCOQIvAhEC/gHwATcCBgNYBO4FhgezCEYJZgl6CYEJAQqNCpcKwQr+CjIMPw5BEK8RVRKOEs8SABOoEu0RpBBdD34OIw4nDqwNvwxVC+YJeAgAB2cFiAN2Aa//M/7O/JL7N/rv+OL37fb59SL1UvSz8xrzf/Ij8ujx8PEG8k3yu/IP80zzmfPo80r0ifTl9E/1uvWD9jX3ovcQ+D74T/i2+Cf5ifnW+e75aPoQ+6n7FvwY/BH8D/xJ/Kb8ovx9/ID8zPx5/Qr+Nf5F/jz+V/5l/lH+DP6p/aX99P1t/t3+Af8X/xT/Cf+//kb+4P3U/Wv+YP9DAOwAcQEoAvQCWgMWAxACyAHFAsAE8wYbCOYImAn7CvIMiA7eDvgNPw3MDckPrBFuEhMSfBHvES4TQRTeEzESURBxD5oPvQ+zDn4MVgrtCG4I8gdoBvsDjwHc/wn/ZP4S/eD6t/iL9wv3dfZ/9Ub0Y/My81zzgvNg89byX/I58jnyS/IG8tjx6fGL8mfzVfT79CD1VvXb9XL2r/bV9u/2FPdn9wv40fh/+dv5H/qR+hz70/sM/CD8Ofxo/M/8a/0z/tf+Yv/y/5gA8gDEAEwAEwAnAGgAmQBGAMP/f/+w/zoAwQDVAG8ACgDd/+7/0v+V/xT/b/5H/m/+Nv9pAH8BXQIEA6sDegS+BQgH4Ad6CEcJtAptDBAOkw+OEAURBRIeE38UKBWJFNATdBOTE7ITKhPpEXAQ9w7xDSMN/AsHCrAHsgU7BCkDzgGHAMD+Iv3e+8r6+/nO+JH3dPaw9Ur1xfQP9EHza/Lm8ZvxdvFe8TrxOvFk8dnxPPJ18mDyFvIO8mvyIvO78yb0g/Tl9IL1avZE98b3Kfh7+Pb42vmk+if7e/vk+3P8Ff3K/Rr+Qf5P/ob+6P5Z/3//av9a/2L/lv+m/6H/VP/2/rn+rv4p/4r/df8t/9/+9P5+/6H/Xf/R/or+l/+oAY8DvwTtBC8F0gbACEkKxQpACqoKSAwAD3QRrxKuEmASNxPFFAYWohXnE1kS/BHpEo8TEBNhEXUPYg4lDsYNbgz4CTUHXAV0BPADBAM4ATD/rf3J/Gz8i/vv+SD4jPad9cj0GvRN84Lyw/GR8Z/xqfEw8WTw0++H76/v9e8e8CfwI/Bv8Cnx6/GM8uXyJvOs84D0XPUM9l/2pfY09/L36/iP+d35+PlT+v/60fus/CX9Kv1T/c39VP7L/sH+pP7J/iP/0P9ZAGAAMQD2/xkAxADmAJcAQwD7/ygArgAbAbABxQIPBKYFowbqBhcHfgejCKwJFgpSChgLMQ0eEGoSpRPIE5QTMhQOFXkV7RRLE10SdxIRE4ATyBJgEdcP/w52Dn0N2AuQCUUHwQUkBXcEkgPYAR4A1f7O/QT9v/s1+sL4mvfv9pL2D/ZR9X/0s/MH81ryw/EI8UzwxO+G74Dvg++F74jvc+9Z747v5u9B8H7wzvAv8ZDxKfKx8krz0fNj9B311/Wt9nH3GvjQ+JD5LPrM+nf7+vt6/Pn8f/0I/nf+3P4S/1P/0v97ACgBbQGLAc4BMQKpAgQD5AKpAskC0wNqBaMGOwemB3oI/gmXC1wMSQzbC5IMcQ5/EPQRXhKeEpgTCxV8Ft8WGhbuFC8UjBT3FIwUMhOZEdYQyxCPEIgPcw0TCzcJDAg4B98FvgOIAQkAKf+u/sX9BPwl+oz4qPcC9xf25PRz84Dy8/Gn8XjxvPDW7/TuoO6F7kXukO3S7HbsuexX7bbt3u3W7e3toO6U7yHwR/BC8MPwv/H78jv0CvW+9Xr2SPdF+FT5DPql+iX7xPux/If9Kf64/gP/df8aAMkAsAE9AlQCTgKHAhADdgOCA9kClwIrA3wEDQbGBpsGDgavBlEIzAl+CucJeQl/CsIM/w4rEDcQFhDtEM0SZRS8FPQTtxK8EvwTTBVjFTAUrRLlERwS9BEIEdYOtAw3C1IKtwl9CGkGGwSrAjcCwwGbAL/+rvxB+2T6sfnR+E732fXT9Ej0O/TT87fycvGa8FbwcvBB8MPvJu+p7unuNe9h7yPvs+6c7vPupu9m8L/w4fBJ8THyEfOU88fz6fNC9Mv0dPUP9s72l/eC+Mv55Pq1+0n81vxV/bb9Fv5+/tj+Xv8DAJkAWQEdAtECjgPXA8cDfgNGA1oDpgNTBEIFMgZPBz4IFQlCCvIKewuTC5ULbgyRDRcPgxCiEaASdxN3FI0V3hVyFe8UbBRoFJQUNBRWE2YSrBFHEcUQ9g+FDpIM+gqQCRIIjAaZBL0CUQH1/7/+Z/3++6v6RvnM94n2PPX/87LyvPE38dLwnPBM8Nvvfe8q7+7u6u7j7rnuue7Z7jPvze9K8N3wePHP8W7y4vJf8+TzCfRX9Lz0J/XR9XP2GvfN90/44Ph8+eb5UPqj+uD6G/ug+0j82vxg/dn9cP4m/8//jgAtAWYBgAHBAWEC+QJNA3UDlQNHBKIFOgdtCPMIAQlpCYkK1guKDHEMPgzRDFYONxBgEZ0RrRHvEQQTNBRWFHUTPBKPEdMRgBK0Eu4RrxCyD2gPJQ8fDkwM/gknCPQGMwY3BboDCgKzAAEAlf/D/ir9SfuQ+U/4XfdT9iT17vP/8rjyofI18nrxbfCK7xLvru5C7qvt+Oze7CDtvu1+7uzuEu9W79PvUfC48CvxbvHU8czyFPRT9WX2LffU94r4Gfnd+ZH6Efum+0n8MP03/gL/av+5//H/SgDFAGYBBQJeArECRwMsBCIFvAXYBf0FbAZdB3sILAl4CboJdQqlC9wMmA3FDecNYg48D1wQzxCnEIYQnRBWEc4RthEdET4Q4A/yD8wPEg/QDasMIwy+C1sLZgrLCGsHOAZCBXEEJwOYAUQAk/8h/47+eP34+6j6ovn7+D/4D/er9Wz0x/OG81Xzm/Kh8ezwxPDa8M3wM/Bf7+LuAO+X7yDwXPBq8LzwkfGU8ijzXvOa8/7z4/QB9s/2d/cQ+NX4CfoH++77a/yr/DD95f2p/i//kf8AAJMAbAFfAhsDiQPGA/MDRASMBJwExgTrBG4FTwZkB2II7QhUCb8JOwq0ChYLKQtWC5QLOgwnDecNWQ6ODqMOmg6KDkEOwQ37DFcM2QtYC90KSAqjCSoJswgiCFkHNAb4BNwD4gLzAQEBFgBd/9b+af7p/VP9avx5+5z64vkU+Uf4kvcP96r2X/YH9rP1RvWz9Fb0E/Tf86fzefNV82HzhvPS8xz0e/Tl9AX1M/VZ9Zn1/fVv9tP2SPfg95n4e/kw+p36Fft6+/f7ifwl/XT9t/0l/tr+vf9pAPAAYwH3AW4CwgLkAt0CwgIMA6ADSwQRBZkFRgY5B+QHOQhBCAsIRAiQCBEJpwkdCsQKjQtlDNUMFQ0uDSUNFg3JDIsMEgysC48LaAtxCygLngofCmAJ0AhICE4HRwYqBS0EhgO/AukBKAFsALn/Jv92/o/9ePxX+3P6p/ng+Af4H/eg9iP2zfV49fD0WPTJ82zzL/Po8nXyBvLZ8f7xXPKm8sPyuPLs8onzBfRs9K30yPQy9df1tvZ49/r3j/hA+SH6O/sG/HP83vw8/cr9e/77/pL/GwDRAMsBnwIsA4sDmgO1A+ADKQSqBBkFnwVQBhEHAgjoCH8J7Qn7CQQKZwrXCj4LngsXDJIMBw2qDS0OZQ5fDjYO9w3JDYEN7wxNDL8LRAvtCpgKDwpmCXQIggeVBocFZQQuA/UB9wAwAG3/qv70/RX9dPzZ+x/7X/pX+ZH43vc399b2X/YE9rX1XfUR9dr0f/Q+9BT09/PZ87vznvO/8+3zDPRS9Gv0rfQk9aL1N/a69kL3xvdm+A35q/kb+pb6Efum+1T8BP23/TP+x/6P/zwAsADkAOwASgGxARgCjQLvAkYDoANHBLkE9QQCBSYFlAX8BU8GgQafBg0HpAcRCF0IZwhqCKEIDgk8CWIJYglNCY4JwwkLCioKDwr2CdsJswlzCf0IdwgFCIoHNgfTBkQGpwX1BG0EzAP+AkECdQGHAMz/7f5I/p798PxJ/Kr7H/uU+gr6Tfmx+CT4v/dN99z2cfbu9Yb1PPUl9QL1B/Xk9PP0JPVS9X71vPUE9kn2wfYn98X3XfgQ+c75c/od+6D7PPyt/C79s/1Z/t/+Vf/2/38AHgGtAQcCSQKSAsMC4AIZA14D6ANTBLQECwVnBdYFEAZOBnwGiAacBqUGwQbdBvcGBwcxB2sHXAdEB0UHNgcNBwoH/wbjBtQGowZeBicGzgVeBRYFvgRzBPQDmgNAA+8CeALzAX4B3QAkAHH/0P4x/rn9JP31/IP8+vuy+1H7DfuE+iT6u/lP+Rf57/jW+Mb4m/iI+JX40/j0+CX5NflA+Wj5ivmv+eT5Ovq1+jf7pfsw/Jj8Av1b/YH9v/0G/kz+mv76/m7/2P8xAM8AKQFYAXgBewGVAasBxAH4AT8CgwLnAkIDoAO0A6wDuQOWA6oDnAOnA8YD9gNFBGsEhwSTBIUEcwRuBDYEAAT6A84DtgOmA4sDZwM1AwgD7AK9AocCTAIQAsgBaAHyAIcAOQAGAOr/rf9z/0v/FP/v/rz+f/5B/ub93v3T/aP9gv1Z/VH9Qv1K/VP9Xv1G/UD9Sf1S/W39VP04/T39Sf1s/XX9if2Y/Y39lv2h/av9v/25/dX98f0j/kb+Xv6H/pX+sP7x/g7/Mf9D/0D/Yf+N/9L/3f/9/y4AOgBzAJQAtQDSAN4AEAE4AWEBbQFVAXwBmAHTARUCNwJMAnEClgKcAqIClAKVAo0CqgK4ApACowKaAnsCYgJMAksCQQIpAhUC5wHLAZABcwFoAS8B7QCtAJ4AewBqAE0ADwDk/6v/nv9a/w//1f6W/nr+fv5d/lP+M/4d/v/93P3v/cf9kf1T/T79TP1i/YX9if2Z/ZP9lv2l/aH9gf14/ZT9vP3y/Rb+Kf5D/mL+nf7S/uD+3v7r/hb/Yf92/4X/pP/e/x4ARABsAHIAkAClAOoALQE3AVABTgGRAe8BEgJaAnwCnwLuAgoDTgNxA20DcwNlA2sDcANkA2EDTQNoA18DWgNCAxMD5wJ8AkcCHAL5Aa8BbQEzAfAAtQCNAFYAFAD4/8b/pf9Y/+D+nf49/iH+Av7O/bv9kv2T/Yr9i/1x/T39FP37/Pj85Pzd/O/8D/0q/UL9Y/1d/Wz9fP2m/cX9wP3G/cz95v0S/kb+V/5u/nv+h/68/tj+9/4Y/yz/Wf+C/5//yf/l/xkASQB0AJkAlgCBAH0AmwDOAOEAEwFbAV4BawGHAW8BSAE/ATgBJAEZARsBQQFvAZIBogGuAcYB0AGpAY4BkgGKAYIBlwHIAdIBtwGwAb8BxAG2AaIBcgFhAVkBPwElARwBDAEMAQEB1gChAIMAbAA0ACAAEgDt/8T/kf9u/0v/MP8V//z+1f67/pT+cP5c/k7+K/4m/hb+BP77/fT9+/33/QL+JP4X/gH+Av4P/gv+KP5I/mj+av55/pX+sP7V/tT++v4j/1X/jf+t/77/u//N/wAANABOAFwATgB5AKoAzAD7APgADAEZAR0BTgFrAYkBmAGXAZMBiwGLAYwBjwGgAaABiwF/AYIBWAE3ARYBGgEXAQ0BBAHhAMAArQCPAJIAZwAuAEEAKwAkAA8A9f/4//T/0P/K/8H/uv/J/6X/mf+E/4X/hv99/3n/gP+G/3n/dv+O/5f/d/9r/3P/X/9c/1v/Zv95/4P/if+Y/5T/i/+l/7D/vf+3/6H/p/+r/6n/sv/R//L//P8QABwABQASABoAEQAVABEACwAeADUARwBRADgAMQAtABMA9f/p//3/CQAMAB4AIQAVACQADQAcADEAHgAfACEAAADv/wIABQDr/+P/0//B/8z/yv+5/6H/j/+c/7D/vP+w/6D/iP+L/5X/l/+i/43/mf+//77/0P/Z/8n/w//D/7H/sv+h/53/nP+t/9P/3v/w////8f/y/xAAIAAgACEAFwAsAEcAWQB/AJEAlQCgAKMAqwCaAJQAeQBjAHoAjwCXALIAuQCyAK4ApgCpAJwAcgB4AIEAeACJAKIAoACWAIcAbQBOACoAJwAUAAUACgANAAwACQAHANj/rf+o/5r/Y/92/1z/Rf9X/0j/bP9//4r/gf9m/2f/UP9D/1L/SP8p/1b/W/9h/3//hP+c/47/cP+E/4D/e/+c/6//x//I/9j//f8CABIAEwAgACcAHgAMAOv/0P/Y/+f/9v///w0AIAAVAO//y/+v/77/0P/R/+v/AAD6/wkAFQAQAAkA7v/k//L/+P8YABMAGAAyAEIAQQBCACkAFQAVABgATwBhAGQAWwBOAEcATABcAGEAXABGAEgAUABeAGQAbABvAIAAiQCLAIsAfABsAGkAWQBVAD0ATwA9ACYATwAzAEIAOQAJAPf/xP+0/7v/rP+q/47/i/+l/5n/iP98/1//SP9d/y3/If8b/yH/Wf97/5//rf+b/5P/kv+D/4n/kP+a/6D/tv/R/7n/wv/j//7/BAAIAPX/3//Z/+H/9f8OABwADwATAA4ADgAnADAAKAA6AEEAOwBXAF0AVQBaAGQAggCNAHkAfQCIAI4AewBrAFIAVwBsAIEAiACBAHUAYwBtAGsAfAB+AGcAXABaAG0AjACJAHAAWwBQAEcAOwBEADoARABEAC8AKgAqAAgA8P/e/97/wP+l/63/nf+N/4D/ov+S/07/Pf8s/xH/7f7+/hL/D/8T/yL/Nf8+/xz/F/9D/zn/M/89/z//Uf9U/2b/nP+//7f/vP+6/8P/0P/L/9b/0P/R/+z/CwAaABQADwAaAB4A+/8SABEAEwAxAB4APABOADMAOgA3ACMALwAzAB8AKwAyAE4AaABgAG8AawBwAHgAdgB9AHEAZABjAH4AgQCjAJEAfQBwAFUAWwBcAGAAUQBDAEAAQAA4ACwAMABKAG8AWABOAFIAPQAzACkAMgA3ABgAEwAsAF8AhwBgADMAJgAFACwANQAxADcAFwAkAEIAKQDx/+X/3v/X/+b/6f/3/+D/4//k/8j/w//f/+L/1f/J/8v/xf++/8H/uv/R/+D/v//Q/8H/l/+l/6z/uv+y/7b/t/+2/7X/ov+d/5j/nf+L/4j/jv+b/6X/of+X/4n/cv9e/2n/k/+S/5v/qP+Y/5f/kv+k/5H/lP+w/7b/zP/a/97/zf/f/9j/3v/j/93/2v/k//H/1f/s//j/8P///woAEAAAAAAABgAQACUALQA9AFoAUwBJAEoAZABxAHcAbgB5AHQAdACMAJ0AmQCOAIoAlQCtAKsAugCpAKAAwAC6AKYAkgB2AF0ASABNAFAAMQBQAEsAPwBEACMADgD6/9//x/+0/5L/pv/D/9n/7f/q/+X/2v/J/6z/qf+y/6n/j/+p/5n/rf/E/7n/sP+f/6r/sv/E/7b/qv+g/4//ov+m/7n/xf/i/+H/4//t/8f/wf+g/4z/i/+d/6v/qP/F/8D/1//W/93/yf+0/9P/4P/6/wIA+v/i//H/AAAGAB8AFwAcAD8ARAA5AEEANgArACYAMQAqADIATQBHAEYAQAAyADoAPwAxADUAHQAcACgANwBUAEgAPgArAC8AJAAdACcALwA1AEoAVwBWAFgAPAAtACQAFgATAAAA8P/7/woAIAAUAAAA2/+3/7D/ov+Y/4//pP+p/7T/w/+2/7T/lv93/3v/e/+R/6z/p/+w/8H/wv/L/7D/tv/X/8P/uv/K/9P/3v/m/wUAJwAsAAkA8f/2//v/BAAwADcAKQBAAF4AUgBmAGcAUQBYAFwAcwBvAGgAcwBrAGYAbQB6AHMAWwBDACcA7f/l//T/9v8FABQADwAAAAcACwAAAOr/x/+p/5L/pv+9/7//w//I/9b/1P/J/8b/sf+l/6j/v//I/+D/4P/s//f/9P8CAAsAAwDu/9n/3P/R/6z/uP/M/+z//v/v/xQAGAD+//P/5v8JABYADwAWAP3/AAAMAB4AKwAWABQAHwAvADoAHgAIABkAHgAXACsALwAoAEYAXwBNAEQAMQAhADUAMQBQAFEALgBWAIAAiwCdAKIAeQBfAFoAXQBVAEwAKwAkAEEAYACKAIEAWgA+ABEA5v/Y/8j/yv/f//T/AQD+////9P/K/7b/q/+J/33/X/9l/5D/oP+4/8//w/+f/4r/c/9r/4H/mf+L/5f/uP+z/7T/n/+F/2j/dv+G/7H/wf/L/9j/0f/5/+b/0f/M/7f/sf/S/+D/4f/q/9r/9f/2/+3/9v/9/+j/4P/d/9P/1P/s//L//f8cABYAEQAiAB4ACgD8/+3//v8aABkAIwAyAEkAWwBqAFsASQBAADQASAA4AB8ANQBDAFMAYgBNADgAOgA+AEoAPgArACQAMQAlADYAOwAqAEEASgBPAE0APwAlADAALAAXACUANgA6AD4AOQAjAA4AFAADAPr////z//L/AAAVABEA/P/A/5r/m/+9/6//rP+v/53/lf+a/5j/eP90/17/av+E/3n/ff9z/3H/i/+m/7z/sv+x/67/o/+z/8b/wf+6/7L/rv++/8P/wf+8/7r/wf/L/9L/wP+y/6b/qf+9/8r/2//6/xAAJwBNAFAAVgBGADgARQBVAF4AXwBgAHMAqAC9AKkAmQCOAJYAqgCcAIoAcwBaAFoAZgB7AHkAagBcAEkARwBYAD8AIQAEAAUACAAWADMARwBNADQAMwAmAC8AJAAIAPP/3v/q/9r/+/8AAOL/1//d/8//vf/G/7v/xP/K/9n/9//v/+n/0P+n/5b/gv+J/5D/hP+3/9f/5P/t/+j/yv+a/2//cP91/37/r//N/+b/8//v/9r/0P/J/7z/q/+T/6//rP++/9L/5P8AAAMAFQAUAAwAEAADAPL/CgAhADYATABmAH8AigCIAJIAiAB3AIkAfgBxAGgAWgBvAH8AhQCWAJ0AgwB2AG8AVAAvABEAFAAWADwAOwA2AE4ANAAwAC4AGgAHAP3/4v/m//f/+f8HAPz/BQD3/9n/0P+o/6X/rP+s/8P/1v/W/9n/wv+p/47/d/95/4D/lv++/+f/6//Y/8j/mP+A/3z/kP+K/4T/mv+k/8n/vP+u/5X/if+N/5D/nv+g/7H/uP/f/+H/1v/p//P/CQAHAAUAGAADAAcAFgAYACoAKAA5AD4ALAAfAB0AJAAmACUALwA8AEAAOwBCAEUAQwA8ACUAOgA9AE4ASwBCAFUAUwBnAHQAfwCNAIoAcwBxAG0AVwBQAEgAUgBfAGQASAA1ACAADAAIAPD/0f/B/8T/0v/X/9r/zf++/6P/iv+D/3T/cf+e/8b/3//2//n/7v/o/9f/uv+i/4r/oP+5/+H/CQAOABoA+v/f/9z/uf+V/5X/qf/E//D/CwAOABYAHQAZABUA8v/n/+7/3//x//f/AAAiADYAIwAuAEYATwBKACEAFgAFABAAGAAqADoARgBOAEYALgAPAAkA8P/U/8r/y//e//D/9f8SACYABAANAAkA/v/9/+j/3//m//P//v8HABwAOwAiABgANwAhAPP/7P/7/wgAEgARAB4AEwAGAA4AEAAHAPf/+v8EAO7/8f/m/97/5//m/+T/4f/g/9f/3f/e/+//8P/w/+r/2f/R/8n/zv/K/9r/1v/S/9v/5//c/7X/tf/F/8v/0P/P/9r/0f/E/9P/1P/a/83/zP/i/+T/AAD9/woACQD8//n/8P/o/9r/5P/1/xMACAAHABMADQAOABEADQAIACAAGQADAAYA+/8DABQAKwBIAFUAXQBxAHEAWwBYAE0ARwBJAFQAcgB/AIEAgwBuAG4AXQBLADIAGAAVAAcAEwAlABwAHAAmACwANAAXAPT/9P/2/+3/CQAZADEAQAAmACQA///k/+r/4v/2/wAA/v8JAPr/4f/R/8z/1f/a/9r/0/+//7z/pP+J/5X/k/+X/5X/iv+T/5r/k/+d/4z/gv+f/6D/u//Y//T/8v/n/9T/y//B/8v/6f8EAC0ALQAWABEABQD8/+P/4v/n/+j/8v/w/+3/7f/y/+//DAAfACgAPwAxACoAQwBKAFkAYQBTAE0ALgA8AEwAUQBmAHYAXwBOAE4AKwAhABoAIwArACsATgBbAEwAMgApAAcADAD//+v//f8DAAIAAwAOAAAA/f/+/xMADwAJAOv/0P/B/8P/3v+5/8D/xv/I/9j/wv+r/53/i/+S/6r/wf/Y/9j/0P/U/8n/t/+i/77/2//a/+P/9P/u/+r/5v/W/9r/2v/9/wgAFAAqAAUA9v/h/8b/uP+x/6//xv/i/wYAHADh/87/wv/I/7v/zv/l/+P/9v/9/xwAEwD5/+3/7f8KACcAHwAUAA8AEgAaADYALQA7AD0AOwBfAFQARABDADgAHgASACcAOQA5AD4AMgBAAEgAKAAxACsAKAA9AFEAVABIAD8AQABEAEYAXQBjAFYAUwBNADMANQAlAAkA///6//n//v/9/+D/x/+j/5X/pv+n/7H/tv+R/4f/h/+k/7H/nP+t/5r/pv+7/7H/wf+3/6r/v//P/8b/w/+y/8n/7P/x/wEA8//q/+r/9v/p/+H/6f/+/wYAAAAlADYANwA1AC4AJAAgACQANgBEAGMAZQBWAFYAOgAKAPf/AwANACIANAA5ADIAHAAsABkAAwADAPX/8v8FAAAAJwAmABYAIgAKAPX/+f/4//3/FgAQACUAGwAcABsABQAKAPr/6//3//P//P8DAPn/AADj/+H/4P/g//H//f/2/xkAIwARABMA7f/h/+L/1//K/8r/wP+//8r/7f/i/83/y//M/9T/v/+x/6T/nf+l/7v/1f/v/+v/6f/l/9j/z//G/8P/sv/J/9T/3v///xEADQAPABIAGwAnABIAEQAcABUAHwAwAC4ANwA5ADEAMgAtADEANgAlADUAOQBCAE8AUgBkAGcAXgBdAFoAOQA6AEgATQBMAFYAUgBAADwALgAjAB8AFwAYADIAPwA8AD8ALAAWABEACADu/9D/2//u/wAA+v8DABoAFAAOAO7/yP+s/5v/iP+V/5//rv+3/8v/1f+o/47/hf+f/67/v/++/8n/2//q/wUABQDz/9H/1//i/+3//f/+//f//P/7//f/6P/3//r/9v8JAAIA9v/n/+r/3P+5/63/pP+p/8z/4//p/+z/5f/m//D/3f/T/9f/7P8QADwASABDAE0ASwAxAC0AHwAUAC0ANQBUAGAAbwB7AGQAVABTAEIASABRADgANwA2ADQAMgAgAA0AAADz////8//v//n/7v/4//X/5P/Z/87/xv/P/+n//f/o/9b/3v/N/8j/xv+1/73/rP+v/6z/q/+0/8T/2v/d/9f/2P/k/9b/3v/k/9b/zf/a/9n/7v8HAP7/BgAFAAgA/f/X/+X//v8AACoAIQAgACoAIwA/AEAACQD4/+7/9/8TABcAKAA6AFMAYQBfAEUAMgAoACcAMgA+AEQAQABLAEcAIwAZAAYA6f/W/93/7v/v//v/BAAKAP//9//y/9H/v/++/6f/sf/N/+v/5v/p/9b/0f/J/8D/yf+4/8n/5////wkAHAAbAAoAAAD7/wgA+//m//z/IAAuABkAFQAdAB0AAQDu//f/+/8CABYAIQAZABMAFQAhACAADgAPAAkA/P/0//r/+//2//D/4v/m//r/EgAIAAkA9v/Z/9D/x//Z/+f/8/8AAAgAJwAtABQAAwDv/+v/7f/s//r/EgAjACAADgAZAAEA9//x/9//7v/u//f/AQAIABEAGwAAAOf/5P/X/9j/y//p//X/8v/6/+T/4v/S/9X/3//i/+P/8P8AAAMA/f/w/9//4//4//7/HgAfABAAEgAOABMAAADl/9r/zP/S/9z/5//3/+z/7//w/9//z//Z/+r/9P8WADgAQgBUAE4AOwAcAO3/6//4/xkAIAAqACEAEQAGAPn/CAAHAP////8BAAYAIgAaABIAIwADAPv/+P8EAA0AFAAbABUACgAUAB4AGgAgABwAOgArABIABQDb/83/2f/f/8//4//o//f/4f/Z/9L/u//J/7j/xP/Y/+D/+P/y/+T/4P/U/8//4//g/wAAGAAlAFQAWQBRAEUAMgAaABEAAwAiAEsAOQAdABIAHAABAPH/BgD8/9L/3v/h/97/7P/h/+b/CQASABoAIgAjAA8Ayv/B//L/MAAyAB8ATQBWAGsAWQAYANj/dP89/1H/V/9I/wX/pv7G/vT+Gf92/2H/VP9i/33/w//e//L/+v8UADYAZgBoAG0AiQByAJIAmAClALcAiwCRAL0AlQCFALUAkgCTAHUAUQCTAF0ARgBOAEgAMgAAAOD/FQAWAJ//hP9i/w==\" type=\"audio/wav\" />\n",
              "                    Your browser does not support the audio element.\n",
              "                </audio>\n",
              "              "
            ]
          },
          "metadata": {},
          "execution_count": 92
        }
      ]
    },
    {
      "cell_type": "code",
      "source": [
        "scipy.io.wavfile.write('./tmp/recording.wav', rate, audio_numpy)"
      ],
      "metadata": {
        "id": "onMKeCC-yNVp"
      },
      "execution_count": 83,
      "outputs": []
    },
    {
      "cell_type": "code",
      "source": [],
      "metadata": {
        "id": "YjIWJ_N6xnl-"
      },
      "execution_count": null,
      "outputs": []
    },
    {
      "cell_type": "code",
      "source": [
        "def s2s_chatbot(rate=22050):\n",
        "\n",
        "    input_audio, input_rate = get_audio()\n",
        "    scipy.io.wavfile.write('./tmp/tmp_in.wav', input_rate, input_audio)\n",
        "\n",
        "    recording_in = whisper.load_audio(\"./tmp/tmp_in.wav\")\n",
        "    recording_in = whisper.pad_or_trim(recording_in)\n",
        "\n",
        "    mel = whisper.log_mel_spectrogram(recording_in).to(model.device)\n",
        "    options = whisper.DecodingOptions(fp16 = False)\n",
        "    result = whisper.decode(model, mel, options)\n",
        "\n",
        "    answer = chatbot([result.text])\n",
        "\n",
        "    sequences, lengths = tts_utils.prepare_input_sequence(answer)\n",
        "    with torch.no_grad():\n",
        "        mel, _, _ = tacotron2.infer(sequences, lengths)\n",
        "        audio = waveglow.infer(mel)\n",
        "    audio_numpy = audio[0].data.cpu().numpy()\n",
        "\n",
        "    return result.text, answer[0], Audio(audio_numpy, rate=rate)\n"
      ],
      "metadata": {
        "id": "XBALxXvUwevo"
      },
      "execution_count": 124,
      "outputs": []
    },
    {
      "cell_type": "code",
      "source": [
        "question_text, answer_text, answer_audio = s2s_chatbot()"
      ],
      "metadata": {
        "id": "otqd_1n-1Rho",
        "outputId": "89f48a91-c30f-4b04-c24b-1e13c1e6843b",
        "colab": {
          "base_uri": "https://localhost:8080/",
          "height": 82
        }
      },
      "execution_count": 125,
      "outputs": [
        {
          "output_type": "display_data",
          "data": {
            "text/plain": [
              "<IPython.core.display.HTML object>"
            ],
            "text/html": [
              "\n",
              "<script>\n",
              "var my_div = document.createElement(\"DIV\");\n",
              "var my_p = document.createElement(\"P\");\n",
              "var my_btn = document.createElement(\"BUTTON\");\n",
              "var t = document.createTextNode(\"Press to start recording\");\n",
              "\n",
              "my_btn.appendChild(t);\n",
              "//my_p.appendChild(my_btn);\n",
              "my_div.appendChild(my_btn);\n",
              "document.body.appendChild(my_div);\n",
              "\n",
              "var base64data = 0;\n",
              "var reader;\n",
              "var recorder, gumStream;\n",
              "var recordButton = my_btn;\n",
              "\n",
              "var handleSuccess = function(stream) {\n",
              "  gumStream = stream;\n",
              "  var options = {\n",
              "    //bitsPerSecond: 8000, //chrome seems to ignore, always 48k\n",
              "    mimeType : 'audio/webm;codecs=opus'\n",
              "    //mimeType : 'audio/webm;codecs=pcm'\n",
              "  };\n",
              "  //recorder = new MediaRecorder(stream, options);\n",
              "  recorder = new MediaRecorder(stream);\n",
              "  recorder.ondataavailable = function(e) {\n",
              "    var url = URL.createObjectURL(e.data);\n",
              "    var preview = document.createElement('audio');\n",
              "    preview.controls = true;\n",
              "    preview.src = url;\n",
              "    document.body.appendChild(preview);\n",
              "\n",
              "    reader = new FileReader();\n",
              "    reader.readAsDataURL(e.data);\n",
              "    reader.onloadend = function() {\n",
              "      base64data = reader.result;\n",
              "      //console.log(\"Inside FileReader:\" + base64data);\n",
              "    }\n",
              "  };\n",
              "  recorder.start();\n",
              "  };\n",
              "\n",
              "recordButton.innerText = \"Recording... press to stop\";\n",
              "\n",
              "navigator.mediaDevices.getUserMedia({audio: true}).then(handleSuccess);\n",
              "\n",
              "\n",
              "function toggleRecording() {\n",
              "  if (recorder && recorder.state == \"recording\") {\n",
              "      recorder.stop();\n",
              "      gumStream.getAudioTracks()[0].stop();\n",
              "      recordButton.innerText = \"Saving the recording... pls wait!\"\n",
              "  }\n",
              "}\n",
              "\n",
              "// https://stackoverflow.com/a/951057\n",
              "function sleep(ms) {\n",
              "  return new Promise(resolve => setTimeout(resolve, ms));\n",
              "}\n",
              "\n",
              "var data = new Promise(resolve=>{\n",
              "//recordButton.addEventListener(\"click\", toggleRecording);\n",
              "recordButton.onclick = ()=>{\n",
              "toggleRecording()\n",
              "\n",
              "sleep(2000).then(() => {\n",
              "  // wait 2000ms for the data to be available...\n",
              "  // ideally this should use something like await...\n",
              "  //console.log(\"Inside data:\" + base64data)\n",
              "  resolve(base64data.toString())\n",
              "\n",
              "});\n",
              "\n",
              "}\n",
              "});\n",
              "\n",
              "</script>\n"
            ]
          },
          "metadata": {}
        }
      ]
    },
    {
      "cell_type": "code",
      "source": [
        "print(question_text)\n",
        "print(answer_text)\n",
        "answer_audio"
      ],
      "metadata": {
        "id": "yE2QvarX19XJ",
        "outputId": "be7e3503-84f6-4c60-8aa6-c2761a9ef8c5",
        "colab": {
          "base_uri": "https://localhost:8080/",
          "height": 97
        }
      },
      "execution_count": 126,
      "outputs": [
        {
          "output_type": "stream",
          "name": "stdout",
          "text": [
            "What is a T-test?\n",
            "The t-test is a commonly used statistical test to check for differences between the means of two groups.\n"
          ]
        },
        {
          "output_type": "execute_result",
          "data": {
            "text/plain": [
              "<IPython.lib.display.Audio object>"
            ],
            "text/html": [
              "\n",
              "                <audio  controls=\"controls\" >\n",
              "                    <source src=\"data:audio/wav;base64,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\" type=\"audio/wav\" />\n",
              "                    Your browser does not support the audio element.\n",
              "                </audio>\n",
              "              "
            ]
          },
          "metadata": {},
          "execution_count": 126
        }
      ]
    },
    {
      "cell_type": "markdown",
      "metadata": {
        "id": "iNeo6dgmS2pM"
      },
      "source": [
        "## Generative Chatbot\n",
        "\n",
        "Download the model and tokenizer, model as quantized"
      ]
    },
    {
      "cell_type": "code",
      "source": [
        "name = \"gpt2\""
      ],
      "metadata": {
        "id": "3nCkUDIgVLLH"
      },
      "execution_count": null,
      "outputs": []
    },
    {
      "cell_type": "code",
      "source": [
        "tokenizer = AutoTokenizer.from_pretrained(name)\n",
        "tokenizer.pad_token = tokenizer.eos_token"
      ],
      "metadata": {
        "colab": {
          "base_uri": "https://localhost:8080/",
          "height": 197,
          "referenced_widgets": [
            "f70494b8052f4739a855b2b19aa0784b",
            "72cb8b22a857464981d8a094f11cd2e4",
            "11ffd64319ef41fc9bd6b64ecb2de2c6",
            "f1c8f3ccb9294ff3805e3c6c73a2702f",
            "3a456682acef4951b3d293d8a00e46eb",
            "eefc30588579402ea09d798f033a8b47",
            "328dc2c32dfc4ea29f514ce20ab8a507",
            "6d05e6bb5fbe4986b182c8c17016ec1d",
            "bd7f3a3ba8e349939c055539f2f54661",
            "215ac0c31a1e4342b2747dd37ffeaabb",
            "138350a463f141a0a0f81f47e2272fac",
            "22abfe2a0e0244518b41f4f3f3935980",
            "38253a012efc4c13be5dfce84244bb98",
            "60fcf9f18975497090a3beeede3d475a",
            "b24bdceff34e4cc1ad6e3fc67e7d5502",
            "a9d97ab5c4014e93bd7728cd91ebc898",
            "5e3e262dfeac4d10bb7401837590be41",
            "f4f09236da6345ac8cebb5599f5c17ef",
            "ddf6b09214314445bb110ff969061e7f",
            "de9a21c69c8e4301a237f9b3b03c3ffe",
            "582da34f280247419e6eb91d19d65a3e",
            "a4abf363ecd24b34a6ddc19bd6de4c7d",
            "1f47b7f809874102a2a0b8c23ff9c6a9",
            "e4143e7ddb234088b2c2914184ede260",
            "fb64a39dcf36473c99b53ab11b4c4a99",
            "e7c67e94486140fead39d355dec345b5",
            "b66cd1260b7f430fb36ef2b0949e3c82",
            "5cf3a46c82ae4883bcfb356272ce416b",
            "f695d4e774084977b3d4f30b61af8c35",
            "f52cc67aecff449b9289f662a88d8186",
            "cb296bc29d874cd0bed63fb73df8ceb6",
            "4cebab474ea14738a1d4b8c9c9b05eba",
            "3e0a9465ad76455398788d840f62eff9",
            "bc80ed9b7f6446acb9ba934d7febe735",
            "e2de81c507f64826b035a751e9088855",
            "7e06824d883c4f959f58d783a096bcc2",
            "96d7c9623f1e48f39728d6cc701414ee",
            "9922b218f0a44bd39fbc4d8d81365ab5",
            "a843eb81e3904f09a2e0b28941a2ab2d",
            "62aa3e9f2aa9459eae9aaf4f391f13eb",
            "77f23674d099460da9331f2b6fd432e1",
            "1d0293e556d64348bad5d71ee36b4964",
            "f3a03f002b8243edba4f0d5cc42911b0",
            "1b7582bf2c384cbb8997215e1764b0eb",
            "49c2d2641c9f4233be83f8c709377b24",
            "2817a0b6ba17457d9bb3353806e66d81",
            "b735b478e9ed4009b2bdd63d205742f0",
            "c4b6ddb34708439998cf5ca51beabc0d",
            "712eccc0966948c68cf9061844a3699a",
            "9dbc8553227641aeaeb5a2977f6dbbdc",
            "9912e8b1b21c4e17aa48135022f2a238",
            "46c1efff8b284a6e87ed22f117fdfcb8",
            "104df45e657f4dfbb863c08f43594e6f",
            "19ca1a9bea5f4794b7c776ec11b1e230",
            "20be88f078e147379a233bb4f588ba9d"
          ]
        },
        "id": "ovcZP0viVN2N",
        "outputId": "197e9646-2676-4435-a0cf-0fc74d550c5e"
      },
      "execution_count": null,
      "outputs": [
        {
          "output_type": "display_data",
          "data": {
            "text/plain": [
              "tokenizer_config.json:   0%|          | 0.00/26.0 [00:00<?, ?B/s]"
            ],
            "application/vnd.jupyter.widget-view+json": {
              "version_major": 2,
              "version_minor": 0,
              "model_id": "f70494b8052f4739a855b2b19aa0784b"
            }
          },
          "metadata": {}
        },
        {
          "output_type": "display_data",
          "data": {
            "text/plain": [
              "config.json:   0%|          | 0.00/665 [00:00<?, ?B/s]"
            ],
            "application/vnd.jupyter.widget-view+json": {
              "version_major": 2,
              "version_minor": 0,
              "model_id": "22abfe2a0e0244518b41f4f3f3935980"
            }
          },
          "metadata": {}
        },
        {
          "output_type": "display_data",
          "data": {
            "text/plain": [
              "vocab.json:   0%|          | 0.00/1.04M [00:00<?, ?B/s]"
            ],
            "application/vnd.jupyter.widget-view+json": {
              "version_major": 2,
              "version_minor": 0,
              "model_id": "1f47b7f809874102a2a0b8c23ff9c6a9"
            }
          },
          "metadata": {}
        },
        {
          "output_type": "display_data",
          "data": {
            "text/plain": [
              "merges.txt:   0%|          | 0.00/456k [00:00<?, ?B/s]"
            ],
            "application/vnd.jupyter.widget-view+json": {
              "version_major": 2,
              "version_minor": 0,
              "model_id": "bc80ed9b7f6446acb9ba934d7febe735"
            }
          },
          "metadata": {}
        },
        {
          "output_type": "display_data",
          "data": {
            "text/plain": [
              "tokenizer.json:   0%|          | 0.00/1.36M [00:00<?, ?B/s]"
            ],
            "application/vnd.jupyter.widget-view+json": {
              "version_major": 2,
              "version_minor": 0,
              "model_id": "49c2d2641c9f4233be83f8c709377b24"
            }
          },
          "metadata": {}
        }
      ]
    },
    {
      "cell_type": "code",
      "source": [
        "corpus = ds['train']['output'][:100]    # create a corpus of 100 docs\n",
        "model = SentenceTransformer('all-mpnet-base-v2')\n",
        "corpus_embeddings = model.encode(corpus, convert_to_tensor=True)"
      ],
      "metadata": {
        "id": "7oJ9hGKKWviI"
      },
      "execution_count": null,
      "outputs": []
    },
    {
      "cell_type": "code",
      "execution_count": 66,
      "metadata": {
        "id": "wb8_mAVFS2pM",
        "colab": {
          "base_uri": "https://localhost:8080/",
          "height": 215
        },
        "outputId": "1637d0ef-d26d-455f-b8dc-780f6da820e1"
      },
      "outputs": [
        {
          "output_type": "error",
          "ename": "NameError",
          "evalue": "name 'name' is not defined",
          "traceback": [
            "\u001b[0;31m---------------------------------------------------------------------------\u001b[0m",
            "\u001b[0;31mNameError\u001b[0m                                 Traceback (most recent call last)",
            "\u001b[0;32m<ipython-input-66-c89140737813>\u001b[0m in \u001b[0;36m<cell line: 6>\u001b[0;34m()\u001b[0m\n\u001b[1;32m      4\u001b[0m                                          bnb_4bit_use_double_quant=True)\n\u001b[1;32m      5\u001b[0m \u001b[0;34m\u001b[0m\u001b[0m\n\u001b[0;32m----> 6\u001b[0;31m model = AutoModelForCausalLM.from_pretrained(name, device_map=\"auto\",\n\u001b[0m\u001b[1;32m      7\u001b[0m                                              \u001b[0mbos_token_id\u001b[0m\u001b[0;34m=\u001b[0m\u001b[0mtokenizer\u001b[0m\u001b[0;34m.\u001b[0m\u001b[0mbos_token_id\u001b[0m\u001b[0;34m,\u001b[0m\u001b[0;34m\u001b[0m\u001b[0;34m\u001b[0m\u001b[0m\n\u001b[1;32m      8\u001b[0m                                              \u001b[0meos_token_id\u001b[0m\u001b[0;34m=\u001b[0m\u001b[0mtokenizer\u001b[0m\u001b[0;34m.\u001b[0m\u001b[0meos_token_id\u001b[0m\u001b[0;34m,\u001b[0m\u001b[0;34m\u001b[0m\u001b[0;34m\u001b[0m\u001b[0m\n",
            "\u001b[0;31mNameError\u001b[0m: name 'name' is not defined"
          ]
        }
      ],
      "source": [
        "quantization_config = BitsAndBytesConfig(load_in_4bit=True,\n",
        "                                         bnb_4bit_compute_dtype=torch.float16,\n",
        "                                         bnb_4bit_quant_type=\"nf4\",\n",
        "                                         bnb_4bit_use_double_quant=True)\n",
        "\n",
        "model = AutoModelForCausalLM.from_pretrained(name, device_map=\"auto\",\n",
        "                                             bos_token_id=tokenizer.bos_token_id,\n",
        "                                             eos_token_id=tokenizer.eos_token_id,\n",
        "                                             quantization_config=quantization_config)"
      ]
    },
    {
      "cell_type": "code",
      "execution_count": null,
      "metadata": {
        "colab": {
          "base_uri": "https://localhost:8080/"
        },
        "id": "o6NM4_RJS2pM",
        "outputId": "1130214d-db79-4e00-9c04-bfb8604c2a11"
      },
      "outputs": [
        {
          "output_type": "execute_result",
          "data": {
            "text/plain": [
              "GPT2LMHeadModel(\n",
              "  (transformer): GPT2Model(\n",
              "    (wte): Embedding(50257, 768)\n",
              "    (wpe): Embedding(1024, 768)\n",
              "    (drop): Dropout(p=0.1, inplace=False)\n",
              "    (h): ModuleList(\n",
              "      (0-11): 12 x GPT2Block(\n",
              "        (ln_1): LayerNorm((768,), eps=1e-05, elementwise_affine=True)\n",
              "        (attn): GPT2SdpaAttention(\n",
              "          (c_attn): Linear4bit(in_features=768, out_features=2304, bias=True)\n",
              "          (c_proj): Linear4bit(in_features=768, out_features=768, bias=True)\n",
              "          (attn_dropout): Dropout(p=0.1, inplace=False)\n",
              "          (resid_dropout): Dropout(p=0.1, inplace=False)\n",
              "        )\n",
              "        (ln_2): LayerNorm((768,), eps=1e-05, elementwise_affine=True)\n",
              "        (mlp): GPT2MLP(\n",
              "          (c_fc): Linear4bit(in_features=768, out_features=3072, bias=True)\n",
              "          (c_proj): Linear4bit(in_features=3072, out_features=768, bias=True)\n",
              "          (act): NewGELUActivation()\n",
              "          (dropout): Dropout(p=0.1, inplace=False)\n",
              "        )\n",
              "      )\n",
              "    )\n",
              "    (ln_f): LayerNorm((768,), eps=1e-05, elementwise_affine=True)\n",
              "  )\n",
              "  (lm_head): Linear(in_features=768, out_features=50257, bias=False)\n",
              ")"
            ]
          },
          "metadata": {},
          "execution_count": 8
        }
      ],
      "source": [
        "model"
      ]
    },
    {
      "cell_type": "markdown",
      "metadata": {
        "id": "sPeq82lyS2pM"
      },
      "source": [
        "Format data for training"
      ]
    },
    {
      "cell_type": "code",
      "source": [
        "alpaca_prompt = \"\"\"Instruction: {}\n",
        "\n",
        "Question: {}\n",
        "\n",
        "Answer: {}\"\"\"\n",
        "\n",
        "def format(examples):\n",
        "    instructions = examples[\"instruction\"]\n",
        "    inputs       = examples[\"input\"]\n",
        "    outputs      = examples[\"output\"]\n",
        "    texts = []\n",
        "    for instruction, input, output in zip(instructions, inputs, outputs):\n",
        "        text = alpaca_prompt.format(instruction, input, output)\n",
        "        texts.append(text)\n",
        "    return {\"text\": texts}\n",
        "\n",
        "\n",
        "ds = ds.map(format, batched=True)\n",
        "\n",
        "print(ds)\n",
        "print(ds['train']['text'][0])"
      ],
      "metadata": {
        "id": "qx2D9AywmKqr",
        "outputId": "b6fba7f0-d8a1-47ca-f5f2-ca9582168aaf",
        "colab": {
          "base_uri": "https://localhost:8080/",
          "height": 265,
          "referenced_widgets": [
            "941415f2ac8f4160ac1c90ced623cce3",
            "76c0c19c0f4f43cf940be1104f6bff78",
            "9e978944d4d34173a72da2ac952aa43f",
            "eceaf5e5e3d04b1397cf0330d02041b0",
            "76ab76f3548c41d1b5340ca945fd3394",
            "f4a684facd5d4396a71cf57d55686088",
            "b053a163926a49f88ee42f72b3f46a2b",
            "f1c1993ba2204405994f67c5898ca471",
            "5317745ee64943d1804d862000987781",
            "f32b3008efe341b1873b6c4b96bf0ca7",
            "05fd6f99ab504007ad81b350e2bf45dc"
          ]
        }
      },
      "execution_count": null,
      "outputs": [
        {
          "output_type": "display_data",
          "data": {
            "text/plain": [
              "Map:   0%|          | 0/33955 [00:00<?, ? examples/s]"
            ],
            "application/vnd.jupyter.widget-view+json": {
              "version_major": 2,
              "version_minor": 0,
              "model_id": "941415f2ac8f4160ac1c90ced623cce3"
            }
          },
          "metadata": {}
        },
        {
          "output_type": "stream",
          "name": "stdout",
          "text": [
            "DatasetDict({\n",
            "    train: Dataset({\n",
            "        features: ['input', 'output', 'instruction', 'text'],\n",
            "        num_rows: 33955\n",
            "    })\n",
            "})\n",
            "Instruction: Answer this question truthfully\n",
            "\n",
            "Question: What is the relationship between very low Mg2+ levels, PTH levels, and Ca2+ levels?\n",
            "\n",
            "Answer: Very low Mg2+ levels correspond to low PTH levels which in turn results in low Ca2+ levels.\n"
          ]
        }
      ]
    },
    {
      "cell_type": "code",
      "source": [
        "plt.hist([len(sample['text'].split()) for sample in ds['train']], 50)\n",
        "plt.show()"
      ],
      "metadata": {
        "colab": {
          "base_uri": "https://localhost:8080/",
          "height": 233
        },
        "id": "y1g9tmoH-rjN",
        "outputId": "b1634a3c-46d7-47b4-b856-027bede14e39"
      },
      "execution_count": null,
      "outputs": [
        {
          "output_type": "error",
          "ename": "KeyError",
          "evalue": "'text'",
          "traceback": [
            "\u001b[0;31m---------------------------------------------------------------------------\u001b[0m",
            "\u001b[0;31mKeyError\u001b[0m                                  Traceback (most recent call last)",
            "\u001b[0;32m<ipython-input-10-429e63a740c5>\u001b[0m in \u001b[0;36m<cell line: 1>\u001b[0;34m()\u001b[0m\n\u001b[0;32m----> 1\u001b[0;31m \u001b[0mplt\u001b[0m\u001b[0;34m.\u001b[0m\u001b[0mhist\u001b[0m\u001b[0;34m(\u001b[0m\u001b[0;34m[\u001b[0m\u001b[0mlen\u001b[0m\u001b[0;34m(\u001b[0m\u001b[0msample\u001b[0m\u001b[0;34m[\u001b[0m\u001b[0;34m'text'\u001b[0m\u001b[0;34m]\u001b[0m\u001b[0;34m.\u001b[0m\u001b[0msplit\u001b[0m\u001b[0;34m(\u001b[0m\u001b[0;34m)\u001b[0m\u001b[0;34m)\u001b[0m \u001b[0;32mfor\u001b[0m \u001b[0msample\u001b[0m \u001b[0;32min\u001b[0m \u001b[0mds\u001b[0m\u001b[0;34m[\u001b[0m\u001b[0;34m'train'\u001b[0m\u001b[0;34m]\u001b[0m\u001b[0;34m]\u001b[0m\u001b[0;34m,\u001b[0m \u001b[0;36m50\u001b[0m\u001b[0;34m)\u001b[0m\u001b[0;34m\u001b[0m\u001b[0;34m\u001b[0m\u001b[0m\n\u001b[0m\u001b[1;32m      2\u001b[0m \u001b[0mplt\u001b[0m\u001b[0;34m.\u001b[0m\u001b[0mshow\u001b[0m\u001b[0;34m(\u001b[0m\u001b[0;34m)\u001b[0m\u001b[0;34m\u001b[0m\u001b[0;34m\u001b[0m\u001b[0m\n",
            "\u001b[0;32m<ipython-input-10-429e63a740c5>\u001b[0m in \u001b[0;36m<listcomp>\u001b[0;34m(.0)\u001b[0m\n\u001b[0;32m----> 1\u001b[0;31m \u001b[0mplt\u001b[0m\u001b[0;34m.\u001b[0m\u001b[0mhist\u001b[0m\u001b[0;34m(\u001b[0m\u001b[0;34m[\u001b[0m\u001b[0mlen\u001b[0m\u001b[0;34m(\u001b[0m\u001b[0msample\u001b[0m\u001b[0;34m[\u001b[0m\u001b[0;34m'text'\u001b[0m\u001b[0;34m]\u001b[0m\u001b[0;34m.\u001b[0m\u001b[0msplit\u001b[0m\u001b[0;34m(\u001b[0m\u001b[0;34m)\u001b[0m\u001b[0;34m)\u001b[0m \u001b[0;32mfor\u001b[0m \u001b[0msample\u001b[0m \u001b[0;32min\u001b[0m \u001b[0mds\u001b[0m\u001b[0;34m[\u001b[0m\u001b[0;34m'train'\u001b[0m\u001b[0;34m]\u001b[0m\u001b[0;34m]\u001b[0m\u001b[0;34m,\u001b[0m \u001b[0;36m50\u001b[0m\u001b[0;34m)\u001b[0m\u001b[0;34m\u001b[0m\u001b[0;34m\u001b[0m\u001b[0m\n\u001b[0m\u001b[1;32m      2\u001b[0m \u001b[0mplt\u001b[0m\u001b[0;34m.\u001b[0m\u001b[0mshow\u001b[0m\u001b[0;34m(\u001b[0m\u001b[0;34m)\u001b[0m\u001b[0;34m\u001b[0m\u001b[0;34m\u001b[0m\u001b[0m\n",
            "\u001b[0;31mKeyError\u001b[0m: 'text'"
          ]
        }
      ]
    },
    {
      "cell_type": "code",
      "execution_count": null,
      "metadata": {
        "colab": {
          "base_uri": "https://localhost:8080/",
          "height": 176,
          "referenced_widgets": [
            "10042bf950534232acc8361ea9595c1f",
            "60a01fd991394025b5a24c6677e7a14d",
            "19fc9dbf0407485bb93289c8595f4d4e",
            "bc755b0bd02e46ce812532ff10630fef",
            "9f39eebb52cb4c258708deea62457b35",
            "006b481c1cca41469836d92bc6a28588",
            "5985ec8871a647aebec18fd4f048fe39",
            "435d202aa2144b53a2a0644b7a383ba0",
            "347aa5f728504b12b5e45b3490724bcc",
            "2ebbb0bcfe7941de8a7fe859245cda1b",
            "da977c3ca2f443b4b22fec43b8c45a5d"
          ]
        },
        "id": "uJ_xmy7vS2pM",
        "outputId": "d4342f5c-b44d-4275-c0ac-1abad29493dd"
      },
      "outputs": [
        {
          "output_type": "display_data",
          "data": {
            "text/plain": [
              "Map:   0%|          | 0/33955 [00:00<?, ? examples/s]"
            ],
            "application/vnd.jupyter.widget-view+json": {
              "version_major": 2,
              "version_minor": 0,
              "model_id": "10042bf950534232acc8361ea9595c1f"
            }
          },
          "metadata": {}
        },
        {
          "output_type": "execute_result",
          "data": {
            "text/plain": [
              "DatasetDict({\n",
              "    train: Dataset({\n",
              "        features: ['input_ids', 'attention_mask', 'overflow_to_sample_mapping'],\n",
              "        num_rows: 33955\n",
              "    })\n",
              "})"
            ]
          },
          "metadata": {},
          "execution_count": 11
        }
      ],
      "source": [
        "max_length = 400\n",
        "\n",
        "def tokenize(examples):\n",
        "    inputs = tokenizer(examples[\"text\"], truncation=True,\n",
        "                       max_length=max_length, return_overflowing_tokens=True)\n",
        "    return inputs\n",
        "\n",
        "ds_encoded = ds.map(tokenize, batched=True, remove_columns=ds[\"train\"].column_names)\n",
        "ds_encoded"
      ]
    },
    {
      "cell_type": "markdown",
      "metadata": {
        "id": "dayFGHnnS2pM"
      },
      "source": [
        "Create LoRA configuration for QLoRA"
      ]
    },
    {
      "cell_type": "code",
      "execution_count": null,
      "metadata": {
        "id": "G8LoGH7XS2pM",
        "colab": {
          "base_uri": "https://localhost:8080/"
        },
        "outputId": "a70de956-a62f-4a4a-e909-093abc1e6c49"
      },
      "outputs": [
        {
          "output_type": "stream",
          "name": "stdout",
          "text": [
            "trainable params: 589,824 || all params: 125,029,632 || trainable%: 0.4717\n"
          ]
        }
      ],
      "source": [
        "adapter_configs = {\n",
        "    'target_modules': 'all-linear',\n",
        "    'lora_alpha': 2,\n",
        "    'lora_dropout': 0.05,\n",
        "    'r': 4,\n",
        "    'bias': 'none',\n",
        "    'task_type': 'CAUSAL_LM'\n",
        "}\n",
        "\n",
        "lora_configs = LoraConfig(**adapter_configs)\n",
        "\n",
        "prepared_model_4bit = prepare_model_for_kbit_training(model)\n",
        "qlora_model = get_peft_model(prepared_model_4bit, lora_configs)\n",
        "\n",
        "qlora_model.print_trainable_parameters()"
      ]
    },
    {
      "cell_type": "code",
      "source": [
        "data_collator=DataCollatorForLanguageModeling(tokenizer, mlm=False)"
      ],
      "metadata": {
        "id": "GX_1MJPf7sF1"
      },
      "execution_count": null,
      "outputs": []
    },
    {
      "cell_type": "code",
      "source": [
        "wandb.init(mode=\"disabled\")"
      ],
      "metadata": {
        "id": "JbOazgX6ebwW",
        "outputId": "c730d5fc-bfca-4fbc-dac3-603fcc4e5a66",
        "colab": {
          "base_uri": "https://localhost:8080/",
          "height": 38
        }
      },
      "execution_count": null,
      "outputs": [
        {
          "output_type": "execute_result",
          "data": {
            "text/html": [
              "<button onClick=\"this.nextSibling.style.display='block';this.style.display='none';\">Display W&B run</button><iframe src='https://wandb.ai/dummy/dummy/runs/waql5lqe?jupyter=true' style='border:none;width:100%;height:420px;display:none;'></iframe>"
            ],
            "text/plain": [
              "<wandb.sdk.wandb_run.Run at 0x7bfdb3c3aaa0>"
            ]
          },
          "metadata": {},
          "execution_count": 3
        }
      ]
    },
    {
      "cell_type": "code",
      "source": [
        "sample = [ds_encoded['train'][i]['input_ids'] for i in range(1)]\n",
        "collated = data_collator(sample)\n",
        "\n",
        "print(collated.keys())"
      ],
      "metadata": {
        "colab": {
          "base_uri": "https://localhost:8080/"
        },
        "id": "DDzCwpZr7uS-",
        "outputId": "078e8a1a-ad03-4eb1-e481-1b937000153f"
      },
      "execution_count": null,
      "outputs": [
        {
          "output_type": "stream",
          "name": "stdout",
          "text": [
            "dict_keys(['input_ids', 'labels'])\n"
          ]
        }
      ]
    },
    {
      "cell_type": "code",
      "source": [
        "train_args = TrainingArguments(\n",
        "    num_train_epochs=1,\n",
        "    per_device_train_batch_size=8,\n",
        "    gradient_accumulation_steps=8,\n",
        "    learning_rate=1e-4,\n",
        "    bf16=True,\n",
        "    logging_steps=8,\n",
        "    output_dir=\"outputs\",\n",
        ")\n",
        "trainer = Trainer(\n",
        "    model=qlora_model,\n",
        "    processing_class=tokenizer,\n",
        "    train_dataset=ds_encoded['train'],\n",
        "    args=train_args,\n",
        "    data_collator=data_collator,\n",
        ")"
      ],
      "metadata": {
        "id": "qx_6-Qa4a84y"
      },
      "execution_count": null,
      "outputs": []
    },
    {
      "cell_type": "code",
      "source": [
        "trainer.train()"
      ],
      "metadata": {
        "colab": {
          "base_uri": "https://localhost:8080/",
          "height": 601
        },
        "id": "OQBGCxq9a8uo",
        "outputId": "1f0fef83-6bfe-440c-f37c-d7473e9dd254"
      },
      "execution_count": null,
      "outputs": [
        {
          "output_type": "stream",
          "name": "stderr",
          "text": [
            "/usr/local/lib/python3.10/dist-packages/torch/_dynamo/eval_frame.py:632: UserWarning: torch.utils.checkpoint: the use_reentrant parameter should be passed explicitly. In version 2.5 we will raise an exception if use_reentrant is not passed. use_reentrant=False is recommended, but if you need to preserve the current default behavior, you can pass use_reentrant=True. Refer to docs for more details on the differences between the two variants.\n",
            "  return fn(*args, **kwargs)\n"
          ]
        },
        {
          "output_type": "display_data",
          "data": {
            "text/plain": [
              "<IPython.core.display.HTML object>"
            ],
            "text/html": [
              "\n",
              "    <div>\n",
              "      \n",
              "      <progress value='125' max='530' style='width:300px; height:20px; vertical-align: middle;'></progress>\n",
              "      [125/530 12:12 < 40:11, 0.17 it/s, Epoch 0.23/1]\n",
              "    </div>\n",
              "    <table border=\"1\" class=\"dataframe\">\n",
              "  <thead>\n",
              " <tr style=\"text-align: left;\">\n",
              "      <th>Step</th>\n",
              "      <th>Training Loss</th>\n",
              "    </tr>\n",
              "  </thead>\n",
              "  <tbody>\n",
              "    <tr>\n",
              "      <td>8</td>\n",
              "      <td>23.411100</td>\n",
              "    </tr>\n",
              "    <tr>\n",
              "      <td>16</td>\n",
              "      <td>23.570500</td>\n",
              "    </tr>\n",
              "    <tr>\n",
              "      <td>24</td>\n",
              "      <td>23.278800</td>\n",
              "    </tr>\n",
              "    <tr>\n",
              "      <td>32</td>\n",
              "      <td>22.556300</td>\n",
              "    </tr>\n",
              "    <tr>\n",
              "      <td>40</td>\n",
              "      <td>22.106700</td>\n",
              "    </tr>\n",
              "    <tr>\n",
              "      <td>48</td>\n",
              "      <td>21.893400</td>\n",
              "    </tr>\n",
              "    <tr>\n",
              "      <td>56</td>\n",
              "      <td>21.469300</td>\n",
              "    </tr>\n",
              "    <tr>\n",
              "      <td>64</td>\n",
              "      <td>20.767900</td>\n",
              "    </tr>\n",
              "    <tr>\n",
              "      <td>72</td>\n",
              "      <td>20.304300</td>\n",
              "    </tr>\n",
              "    <tr>\n",
              "      <td>80</td>\n",
              "      <td>20.106800</td>\n",
              "    </tr>\n",
              "    <tr>\n",
              "      <td>88</td>\n",
              "      <td>19.602300</td>\n",
              "    </tr>\n",
              "    <tr>\n",
              "      <td>96</td>\n",
              "      <td>19.171400</td>\n",
              "    </tr>\n",
              "    <tr>\n",
              "      <td>104</td>\n",
              "      <td>19.153200</td>\n",
              "    </tr>\n",
              "    <tr>\n",
              "      <td>112</td>\n",
              "      <td>18.393100</td>\n",
              "    </tr>\n",
              "    <tr>\n",
              "      <td>120</td>\n",
              "      <td>18.189700</td>\n",
              "    </tr>\n",
              "  </tbody>\n",
              "</table><p>"
            ]
          },
          "metadata": {}
        }
      ]
    },
    {
      "cell_type": "markdown",
      "source": [
        "## Training wrapper with Lightning (not used)"
      ],
      "metadata": {
        "id": "wfL-jx5TBDkT"
      }
    },
    {
      "cell_type": "markdown",
      "metadata": {
        "id": "LFwP3TQ8S2pM"
      },
      "source": [
        "Create collat function for tokenized inputs/outputs"
      ]
    },
    {
      "cell_type": "code",
      "execution_count": null,
      "metadata": {
        "id": "5qpXdJl8S2pM"
      },
      "outputs": [],
      "source": [
        "def collate(mini_batch):\n",
        "    input_encodings = tokenizer([sample['text'] for sample in mini_batch], return_tensors='pt', padding=True)\n",
        "    labels = input_encodings.input_ids.clone()\n",
        "    labels[~input_encodings.attention_mask.bool()] = -100\n",
        "\n",
        "    return input_encodings, labels\n",
        "\n",
        "data_loader = DataLoader(\n",
        "    ds['train'], collate_fn=collate, shuffle=True, batch_size=16\n",
        ")"
      ]
    },
    {
      "cell_type": "markdown",
      "metadata": {
        "id": "Qgu-2EfNS2pM"
      },
      "source": [
        "Wrap model into a PyTorch Lightning module"
      ]
    },
    {
      "cell_type": "code",
      "source": [
        "!pip install -q lightning"
      ],
      "metadata": {
        "colab": {
          "base_uri": "https://localhost:8080/"
        },
        "id": "hn6k0nSgAjLF",
        "outputId": "e59f27c2-31d9-4af7-d8f0-25f9298d1aa3"
      },
      "execution_count": null,
      "outputs": [
        {
          "output_type": "stream",
          "name": "stdout",
          "text": [
            "\u001b[2K     \u001b[90m━━━━━━━━━━━━━━━━━━━━━━━━━━━━━━━━━━━━━━━━\u001b[0m \u001b[32m40.4/40.4 kB\u001b[0m \u001b[31m3.0 MB/s\u001b[0m eta \u001b[36m0:00:00\u001b[0m\n",
            "\u001b[2K   \u001b[90m━━━━━━━━━━━━━━━━━━━━━━━━━━━━━━━━━━━━━━━━\u001b[0m \u001b[32m815.2/815.2 kB\u001b[0m \u001b[31m38.4 MB/s\u001b[0m eta \u001b[36m0:00:00\u001b[0m\n",
            "\u001b[2K   \u001b[90m━━━━━━━━━━━━━━━━━━━━━━━━━━━━━━━━━━━━━━━━\u001b[0m \u001b[32m927.3/927.3 kB\u001b[0m \u001b[31m45.3 MB/s\u001b[0m eta \u001b[36m0:00:00\u001b[0m\n",
            "\u001b[2K   \u001b[90m━━━━━━━━━━━━━━━━━━━━━━━━━━━━━━━━━━━━━━━━\u001b[0m \u001b[32m819.3/819.3 kB\u001b[0m \u001b[31m42.4 MB/s\u001b[0m eta \u001b[36m0:00:00\u001b[0m\n",
            "\u001b[?25h"
          ]
        }
      ]
    },
    {
      "cell_type": "code",
      "execution_count": null,
      "metadata": {
        "id": "tEoPQzRUS2pM"
      },
      "outputs": [],
      "source": [
        "import lightning as L\n",
        "from torch.optim import AdamW\n",
        "import torch.nn.functional as F\n",
        "\n",
        "class LightningWrapper(L.LightningModule):\n",
        "    def __init__(self, model, tokeniser, lr=1.e-5):\n",
        "        super().__init__()\n",
        "        self._model = model\n",
        "        self._tokeniser = tokeniser\n",
        "        self._lr = lr\n",
        "\n",
        "    def configure_optimizers(self):\n",
        "        # Build optimiser\n",
        "        optimiser = AdamW(self.parameters(), lr=self._lr)\n",
        "\n",
        "        return optimiser\n",
        "\n",
        "    def forward(self, *args, **kwargs):\n",
        "        return self._model.forward(*args, **kwargs)\n",
        "\n",
        "    def training_step(self, mini_batch, mini_batch_idx):\n",
        "        # Unpack the encoding and the target labels\n",
        "        input_encodings, labels = mini_batch\n",
        "        # Run generic forward step\n",
        "        output = self.forward(**input_encodings)\n",
        "        # Compute logits\n",
        "        logits: torch.tensor = output.logits\n",
        "        # Shift logits to exclude the last element\n",
        "        logits = logits[..., :-1, :].contiguous()\n",
        "        # shift labels to exclude the first element\n",
        "        labels = labels[..., 1:].contiguous()\n",
        "        # Compute LM loss token-wise\n",
        "        loss: torch.tensor = F.cross_entropy(logits.view(-1, logits.size(-1)), labels.view(-1))\n",
        "\n",
        "        return loss\n",
        "\n",
        "lightning_model = LightningWrapper(qlora_model, tokenizer)"
      ]
    },
    {
      "cell_type": "markdown",
      "metadata": {
        "id": "vcv1NOibS2pM"
      },
      "source": [
        "Training"
      ]
    },
    {
      "cell_type": "code",
      "execution_count": null,
      "metadata": {
        "id": "8Oxu3KnoS2pM",
        "outputId": "12545f6e-21d5-4d7d-b739-0a80fabd93fb",
        "colab": {
          "base_uri": "https://localhost:8080/"
        }
      },
      "outputs": [
        {
          "output_type": "stream",
          "name": "stderr",
          "text": [
            "INFO: Using bfloat16 Automatic Mixed Precision (AMP)\n",
            "INFO:lightning.pytorch.utilities.rank_zero:Using bfloat16 Automatic Mixed Precision (AMP)\n",
            "INFO: GPU available: True (cuda), used: True\n",
            "INFO:lightning.pytorch.utilities.rank_zero:GPU available: True (cuda), used: True\n",
            "INFO: TPU available: False, using: 0 TPU cores\n",
            "INFO:lightning.pytorch.utilities.rank_zero:TPU available: False, using: 0 TPU cores\n",
            "INFO: HPU available: False, using: 0 HPUs\n",
            "INFO:lightning.pytorch.utilities.rank_zero:HPU available: False, using: 0 HPUs\n"
          ]
        }
      ],
      "source": [
        "trainer = L.Trainer(\n",
        "    accumulate_grad_batches=32,\n",
        "    precision='bf16-mixed',  # Mixed precision (bf16-mixed or 16-mixed)\n",
        "    gradient_clip_val=1.0,  # Gradient clipping\n",
        "    max_epochs=1\n",
        ")"
      ]
    },
    {
      "cell_type": "code",
      "execution_count": null,
      "metadata": {
        "id": "FdugZ7r2S2pM"
      },
      "outputs": [],
      "source": [
        "trainer.fit(lightning_model, train_dataloaders=data_loader)"
      ]
    }
  ],
  "metadata": {
    "colab": {
      "provenance": [],
      "gpuType": "T4"
    },
    "kernelspec": {
      "display_name": "Python 3",
      "name": "python3"
    },
    "language_info": {
      "name": "python"
    },
    "accelerator": "GPU",
    "widgets": {
      "application/vnd.jupyter.widget-state+json": {
        "f70494b8052f4739a855b2b19aa0784b": {
          "model_module": "@jupyter-widgets/controls",
          "model_name": "HBoxModel",
          "model_module_version": "1.5.0",
          "state": {
            "_dom_classes": [],
            "_model_module": "@jupyter-widgets/controls",
            "_model_module_version": "1.5.0",
            "_model_name": "HBoxModel",
            "_view_count": null,
            "_view_module": "@jupyter-widgets/controls",
            "_view_module_version": "1.5.0",
            "_view_name": "HBoxView",
            "box_style": "",
            "children": [
              "IPY_MODEL_72cb8b22a857464981d8a094f11cd2e4",
              "IPY_MODEL_11ffd64319ef41fc9bd6b64ecb2de2c6",
              "IPY_MODEL_f1c8f3ccb9294ff3805e3c6c73a2702f"
            ],
            "layout": "IPY_MODEL_3a456682acef4951b3d293d8a00e46eb"
          }
        },
        "72cb8b22a857464981d8a094f11cd2e4": {
          "model_module": "@jupyter-widgets/controls",
          "model_name": "HTMLModel",
          "model_module_version": "1.5.0",
          "state": {
            "_dom_classes": [],
            "_model_module": "@jupyter-widgets/controls",
            "_model_module_version": "1.5.0",
            "_model_name": "HTMLModel",
            "_view_count": null,
            "_view_module": "@jupyter-widgets/controls",
            "_view_module_version": "1.5.0",
            "_view_name": "HTMLView",
            "description": "",
            "description_tooltip": null,
            "layout": "IPY_MODEL_eefc30588579402ea09d798f033a8b47",
            "placeholder": "​",
            "style": "IPY_MODEL_328dc2c32dfc4ea29f514ce20ab8a507",
            "value": "tokenizer_config.json: 100%"
          }
        },
        "11ffd64319ef41fc9bd6b64ecb2de2c6": {
          "model_module": "@jupyter-widgets/controls",
          "model_name": "FloatProgressModel",
          "model_module_version": "1.5.0",
          "state": {
            "_dom_classes": [],
            "_model_module": "@jupyter-widgets/controls",
            "_model_module_version": "1.5.0",
            "_model_name": "FloatProgressModel",
            "_view_count": null,
            "_view_module": "@jupyter-widgets/controls",
            "_view_module_version": "1.5.0",
            "_view_name": "ProgressView",
            "bar_style": "success",
            "description": "",
            "description_tooltip": null,
            "layout": "IPY_MODEL_6d05e6bb5fbe4986b182c8c17016ec1d",
            "max": 26,
            "min": 0,
            "orientation": "horizontal",
            "style": "IPY_MODEL_bd7f3a3ba8e349939c055539f2f54661",
            "value": 26
          }
        },
        "f1c8f3ccb9294ff3805e3c6c73a2702f": {
          "model_module": "@jupyter-widgets/controls",
          "model_name": "HTMLModel",
          "model_module_version": "1.5.0",
          "state": {
            "_dom_classes": [],
            "_model_module": "@jupyter-widgets/controls",
            "_model_module_version": "1.5.0",
            "_model_name": "HTMLModel",
            "_view_count": null,
            "_view_module": "@jupyter-widgets/controls",
            "_view_module_version": "1.5.0",
            "_view_name": "HTMLView",
            "description": "",
            "description_tooltip": null,
            "layout": "IPY_MODEL_215ac0c31a1e4342b2747dd37ffeaabb",
            "placeholder": "​",
            "style": "IPY_MODEL_138350a463f141a0a0f81f47e2272fac",
            "value": " 26.0/26.0 [00:00&lt;00:00, 703B/s]"
          }
        },
        "3a456682acef4951b3d293d8a00e46eb": {
          "model_module": "@jupyter-widgets/base",
          "model_name": "LayoutModel",
          "model_module_version": "1.2.0",
          "state": {
            "_model_module": "@jupyter-widgets/base",
            "_model_module_version": "1.2.0",
            "_model_name": "LayoutModel",
            "_view_count": null,
            "_view_module": "@jupyter-widgets/base",
            "_view_module_version": "1.2.0",
            "_view_name": "LayoutView",
            "align_content": null,
            "align_items": null,
            "align_self": null,
            "border": null,
            "bottom": null,
            "display": null,
            "flex": null,
            "flex_flow": null,
            "grid_area": null,
            "grid_auto_columns": null,
            "grid_auto_flow": null,
            "grid_auto_rows": null,
            "grid_column": null,
            "grid_gap": null,
            "grid_row": null,
            "grid_template_areas": null,
            "grid_template_columns": null,
            "grid_template_rows": null,
            "height": null,
            "justify_content": null,
            "justify_items": null,
            "left": null,
            "margin": null,
            "max_height": null,
            "max_width": null,
            "min_height": null,
            "min_width": null,
            "object_fit": null,
            "object_position": null,
            "order": null,
            "overflow": null,
            "overflow_x": null,
            "overflow_y": null,
            "padding": null,
            "right": null,
            "top": null,
            "visibility": null,
            "width": null
          }
        },
        "eefc30588579402ea09d798f033a8b47": {
          "model_module": "@jupyter-widgets/base",
          "model_name": "LayoutModel",
          "model_module_version": "1.2.0",
          "state": {
            "_model_module": "@jupyter-widgets/base",
            "_model_module_version": "1.2.0",
            "_model_name": "LayoutModel",
            "_view_count": null,
            "_view_module": "@jupyter-widgets/base",
            "_view_module_version": "1.2.0",
            "_view_name": "LayoutView",
            "align_content": null,
            "align_items": null,
            "align_self": null,
            "border": null,
            "bottom": null,
            "display": null,
            "flex": null,
            "flex_flow": null,
            "grid_area": null,
            "grid_auto_columns": null,
            "grid_auto_flow": null,
            "grid_auto_rows": null,
            "grid_column": null,
            "grid_gap": null,
            "grid_row": null,
            "grid_template_areas": null,
            "grid_template_columns": null,
            "grid_template_rows": null,
            "height": null,
            "justify_content": null,
            "justify_items": null,
            "left": null,
            "margin": null,
            "max_height": null,
            "max_width": null,
            "min_height": null,
            "min_width": null,
            "object_fit": null,
            "object_position": null,
            "order": null,
            "overflow": null,
            "overflow_x": null,
            "overflow_y": null,
            "padding": null,
            "right": null,
            "top": null,
            "visibility": null,
            "width": null
          }
        },
        "328dc2c32dfc4ea29f514ce20ab8a507": {
          "model_module": "@jupyter-widgets/controls",
          "model_name": "DescriptionStyleModel",
          "model_module_version": "1.5.0",
          "state": {
            "_model_module": "@jupyter-widgets/controls",
            "_model_module_version": "1.5.0",
            "_model_name": "DescriptionStyleModel",
            "_view_count": null,
            "_view_module": "@jupyter-widgets/base",
            "_view_module_version": "1.2.0",
            "_view_name": "StyleView",
            "description_width": ""
          }
        },
        "6d05e6bb5fbe4986b182c8c17016ec1d": {
          "model_module": "@jupyter-widgets/base",
          "model_name": "LayoutModel",
          "model_module_version": "1.2.0",
          "state": {
            "_model_module": "@jupyter-widgets/base",
            "_model_module_version": "1.2.0",
            "_model_name": "LayoutModel",
            "_view_count": null,
            "_view_module": "@jupyter-widgets/base",
            "_view_module_version": "1.2.0",
            "_view_name": "LayoutView",
            "align_content": null,
            "align_items": null,
            "align_self": null,
            "border": null,
            "bottom": null,
            "display": null,
            "flex": null,
            "flex_flow": null,
            "grid_area": null,
            "grid_auto_columns": null,
            "grid_auto_flow": null,
            "grid_auto_rows": null,
            "grid_column": null,
            "grid_gap": null,
            "grid_row": null,
            "grid_template_areas": null,
            "grid_template_columns": null,
            "grid_template_rows": null,
            "height": null,
            "justify_content": null,
            "justify_items": null,
            "left": null,
            "margin": null,
            "max_height": null,
            "max_width": null,
            "min_height": null,
            "min_width": null,
            "object_fit": null,
            "object_position": null,
            "order": null,
            "overflow": null,
            "overflow_x": null,
            "overflow_y": null,
            "padding": null,
            "right": null,
            "top": null,
            "visibility": null,
            "width": null
          }
        },
        "bd7f3a3ba8e349939c055539f2f54661": {
          "model_module": "@jupyter-widgets/controls",
          "model_name": "ProgressStyleModel",
          "model_module_version": "1.5.0",
          "state": {
            "_model_module": "@jupyter-widgets/controls",
            "_model_module_version": "1.5.0",
            "_model_name": "ProgressStyleModel",
            "_view_count": null,
            "_view_module": "@jupyter-widgets/base",
            "_view_module_version": "1.2.0",
            "_view_name": "StyleView",
            "bar_color": null,
            "description_width": ""
          }
        },
        "215ac0c31a1e4342b2747dd37ffeaabb": {
          "model_module": "@jupyter-widgets/base",
          "model_name": "LayoutModel",
          "model_module_version": "1.2.0",
          "state": {
            "_model_module": "@jupyter-widgets/base",
            "_model_module_version": "1.2.0",
            "_model_name": "LayoutModel",
            "_view_count": null,
            "_view_module": "@jupyter-widgets/base",
            "_view_module_version": "1.2.0",
            "_view_name": "LayoutView",
            "align_content": null,
            "align_items": null,
            "align_self": null,
            "border": null,
            "bottom": null,
            "display": null,
            "flex": null,
            "flex_flow": null,
            "grid_area": null,
            "grid_auto_columns": null,
            "grid_auto_flow": null,
            "grid_auto_rows": null,
            "grid_column": null,
            "grid_gap": null,
            "grid_row": null,
            "grid_template_areas": null,
            "grid_template_columns": null,
            "grid_template_rows": null,
            "height": null,
            "justify_content": null,
            "justify_items": null,
            "left": null,
            "margin": null,
            "max_height": null,
            "max_width": null,
            "min_height": null,
            "min_width": null,
            "object_fit": null,
            "object_position": null,
            "order": null,
            "overflow": null,
            "overflow_x": null,
            "overflow_y": null,
            "padding": null,
            "right": null,
            "top": null,
            "visibility": null,
            "width": null
          }
        },
        "138350a463f141a0a0f81f47e2272fac": {
          "model_module": "@jupyter-widgets/controls",
          "model_name": "DescriptionStyleModel",
          "model_module_version": "1.5.0",
          "state": {
            "_model_module": "@jupyter-widgets/controls",
            "_model_module_version": "1.5.0",
            "_model_name": "DescriptionStyleModel",
            "_view_count": null,
            "_view_module": "@jupyter-widgets/base",
            "_view_module_version": "1.2.0",
            "_view_name": "StyleView",
            "description_width": ""
          }
        },
        "22abfe2a0e0244518b41f4f3f3935980": {
          "model_module": "@jupyter-widgets/controls",
          "model_name": "HBoxModel",
          "model_module_version": "1.5.0",
          "state": {
            "_dom_classes": [],
            "_model_module": "@jupyter-widgets/controls",
            "_model_module_version": "1.5.0",
            "_model_name": "HBoxModel",
            "_view_count": null,
            "_view_module": "@jupyter-widgets/controls",
            "_view_module_version": "1.5.0",
            "_view_name": "HBoxView",
            "box_style": "",
            "children": [
              "IPY_MODEL_38253a012efc4c13be5dfce84244bb98",
              "IPY_MODEL_60fcf9f18975497090a3beeede3d475a",
              "IPY_MODEL_b24bdceff34e4cc1ad6e3fc67e7d5502"
            ],
            "layout": "IPY_MODEL_a9d97ab5c4014e93bd7728cd91ebc898"
          }
        },
        "38253a012efc4c13be5dfce84244bb98": {
          "model_module": "@jupyter-widgets/controls",
          "model_name": "HTMLModel",
          "model_module_version": "1.5.0",
          "state": {
            "_dom_classes": [],
            "_model_module": "@jupyter-widgets/controls",
            "_model_module_version": "1.5.0",
            "_model_name": "HTMLModel",
            "_view_count": null,
            "_view_module": "@jupyter-widgets/controls",
            "_view_module_version": "1.5.0",
            "_view_name": "HTMLView",
            "description": "",
            "description_tooltip": null,
            "layout": "IPY_MODEL_5e3e262dfeac4d10bb7401837590be41",
            "placeholder": "​",
            "style": "IPY_MODEL_f4f09236da6345ac8cebb5599f5c17ef",
            "value": "config.json: 100%"
          }
        },
        "60fcf9f18975497090a3beeede3d475a": {
          "model_module": "@jupyter-widgets/controls",
          "model_name": "FloatProgressModel",
          "model_module_version": "1.5.0",
          "state": {
            "_dom_classes": [],
            "_model_module": "@jupyter-widgets/controls",
            "_model_module_version": "1.5.0",
            "_model_name": "FloatProgressModel",
            "_view_count": null,
            "_view_module": "@jupyter-widgets/controls",
            "_view_module_version": "1.5.0",
            "_view_name": "ProgressView",
            "bar_style": "success",
            "description": "",
            "description_tooltip": null,
            "layout": "IPY_MODEL_ddf6b09214314445bb110ff969061e7f",
            "max": 665,
            "min": 0,
            "orientation": "horizontal",
            "style": "IPY_MODEL_de9a21c69c8e4301a237f9b3b03c3ffe",
            "value": 665
          }
        },
        "b24bdceff34e4cc1ad6e3fc67e7d5502": {
          "model_module": "@jupyter-widgets/controls",
          "model_name": "HTMLModel",
          "model_module_version": "1.5.0",
          "state": {
            "_dom_classes": [],
            "_model_module": "@jupyter-widgets/controls",
            "_model_module_version": "1.5.0",
            "_model_name": "HTMLModel",
            "_view_count": null,
            "_view_module": "@jupyter-widgets/controls",
            "_view_module_version": "1.5.0",
            "_view_name": "HTMLView",
            "description": "",
            "description_tooltip": null,
            "layout": "IPY_MODEL_582da34f280247419e6eb91d19d65a3e",
            "placeholder": "​",
            "style": "IPY_MODEL_a4abf363ecd24b34a6ddc19bd6de4c7d",
            "value": " 665/665 [00:00&lt;00:00, 16.4kB/s]"
          }
        },
        "a9d97ab5c4014e93bd7728cd91ebc898": {
          "model_module": "@jupyter-widgets/base",
          "model_name": "LayoutModel",
          "model_module_version": "1.2.0",
          "state": {
            "_model_module": "@jupyter-widgets/base",
            "_model_module_version": "1.2.0",
            "_model_name": "LayoutModel",
            "_view_count": null,
            "_view_module": "@jupyter-widgets/base",
            "_view_module_version": "1.2.0",
            "_view_name": "LayoutView",
            "align_content": null,
            "align_items": null,
            "align_self": null,
            "border": null,
            "bottom": null,
            "display": null,
            "flex": null,
            "flex_flow": null,
            "grid_area": null,
            "grid_auto_columns": null,
            "grid_auto_flow": null,
            "grid_auto_rows": null,
            "grid_column": null,
            "grid_gap": null,
            "grid_row": null,
            "grid_template_areas": null,
            "grid_template_columns": null,
            "grid_template_rows": null,
            "height": null,
            "justify_content": null,
            "justify_items": null,
            "left": null,
            "margin": null,
            "max_height": null,
            "max_width": null,
            "min_height": null,
            "min_width": null,
            "object_fit": null,
            "object_position": null,
            "order": null,
            "overflow": null,
            "overflow_x": null,
            "overflow_y": null,
            "padding": null,
            "right": null,
            "top": null,
            "visibility": null,
            "width": null
          }
        },
        "5e3e262dfeac4d10bb7401837590be41": {
          "model_module": "@jupyter-widgets/base",
          "model_name": "LayoutModel",
          "model_module_version": "1.2.0",
          "state": {
            "_model_module": "@jupyter-widgets/base",
            "_model_module_version": "1.2.0",
            "_model_name": "LayoutModel",
            "_view_count": null,
            "_view_module": "@jupyter-widgets/base",
            "_view_module_version": "1.2.0",
            "_view_name": "LayoutView",
            "align_content": null,
            "align_items": null,
            "align_self": null,
            "border": null,
            "bottom": null,
            "display": null,
            "flex": null,
            "flex_flow": null,
            "grid_area": null,
            "grid_auto_columns": null,
            "grid_auto_flow": null,
            "grid_auto_rows": null,
            "grid_column": null,
            "grid_gap": null,
            "grid_row": null,
            "grid_template_areas": null,
            "grid_template_columns": null,
            "grid_template_rows": null,
            "height": null,
            "justify_content": null,
            "justify_items": null,
            "left": null,
            "margin": null,
            "max_height": null,
            "max_width": null,
            "min_height": null,
            "min_width": null,
            "object_fit": null,
            "object_position": null,
            "order": null,
            "overflow": null,
            "overflow_x": null,
            "overflow_y": null,
            "padding": null,
            "right": null,
            "top": null,
            "visibility": null,
            "width": null
          }
        },
        "f4f09236da6345ac8cebb5599f5c17ef": {
          "model_module": "@jupyter-widgets/controls",
          "model_name": "DescriptionStyleModel",
          "model_module_version": "1.5.0",
          "state": {
            "_model_module": "@jupyter-widgets/controls",
            "_model_module_version": "1.5.0",
            "_model_name": "DescriptionStyleModel",
            "_view_count": null,
            "_view_module": "@jupyter-widgets/base",
            "_view_module_version": "1.2.0",
            "_view_name": "StyleView",
            "description_width": ""
          }
        },
        "ddf6b09214314445bb110ff969061e7f": {
          "model_module": "@jupyter-widgets/base",
          "model_name": "LayoutModel",
          "model_module_version": "1.2.0",
          "state": {
            "_model_module": "@jupyter-widgets/base",
            "_model_module_version": "1.2.0",
            "_model_name": "LayoutModel",
            "_view_count": null,
            "_view_module": "@jupyter-widgets/base",
            "_view_module_version": "1.2.0",
            "_view_name": "LayoutView",
            "align_content": null,
            "align_items": null,
            "align_self": null,
            "border": null,
            "bottom": null,
            "display": null,
            "flex": null,
            "flex_flow": null,
            "grid_area": null,
            "grid_auto_columns": null,
            "grid_auto_flow": null,
            "grid_auto_rows": null,
            "grid_column": null,
            "grid_gap": null,
            "grid_row": null,
            "grid_template_areas": null,
            "grid_template_columns": null,
            "grid_template_rows": null,
            "height": null,
            "justify_content": null,
            "justify_items": null,
            "left": null,
            "margin": null,
            "max_height": null,
            "max_width": null,
            "min_height": null,
            "min_width": null,
            "object_fit": null,
            "object_position": null,
            "order": null,
            "overflow": null,
            "overflow_x": null,
            "overflow_y": null,
            "padding": null,
            "right": null,
            "top": null,
            "visibility": null,
            "width": null
          }
        },
        "de9a21c69c8e4301a237f9b3b03c3ffe": {
          "model_module": "@jupyter-widgets/controls",
          "model_name": "ProgressStyleModel",
          "model_module_version": "1.5.0",
          "state": {
            "_model_module": "@jupyter-widgets/controls",
            "_model_module_version": "1.5.0",
            "_model_name": "ProgressStyleModel",
            "_view_count": null,
            "_view_module": "@jupyter-widgets/base",
            "_view_module_version": "1.2.0",
            "_view_name": "StyleView",
            "bar_color": null,
            "description_width": ""
          }
        },
        "582da34f280247419e6eb91d19d65a3e": {
          "model_module": "@jupyter-widgets/base",
          "model_name": "LayoutModel",
          "model_module_version": "1.2.0",
          "state": {
            "_model_module": "@jupyter-widgets/base",
            "_model_module_version": "1.2.0",
            "_model_name": "LayoutModel",
            "_view_count": null,
            "_view_module": "@jupyter-widgets/base",
            "_view_module_version": "1.2.0",
            "_view_name": "LayoutView",
            "align_content": null,
            "align_items": null,
            "align_self": null,
            "border": null,
            "bottom": null,
            "display": null,
            "flex": null,
            "flex_flow": null,
            "grid_area": null,
            "grid_auto_columns": null,
            "grid_auto_flow": null,
            "grid_auto_rows": null,
            "grid_column": null,
            "grid_gap": null,
            "grid_row": null,
            "grid_template_areas": null,
            "grid_template_columns": null,
            "grid_template_rows": null,
            "height": null,
            "justify_content": null,
            "justify_items": null,
            "left": null,
            "margin": null,
            "max_height": null,
            "max_width": null,
            "min_height": null,
            "min_width": null,
            "object_fit": null,
            "object_position": null,
            "order": null,
            "overflow": null,
            "overflow_x": null,
            "overflow_y": null,
            "padding": null,
            "right": null,
            "top": null,
            "visibility": null,
            "width": null
          }
        },
        "a4abf363ecd24b34a6ddc19bd6de4c7d": {
          "model_module": "@jupyter-widgets/controls",
          "model_name": "DescriptionStyleModel",
          "model_module_version": "1.5.0",
          "state": {
            "_model_module": "@jupyter-widgets/controls",
            "_model_module_version": "1.5.0",
            "_model_name": "DescriptionStyleModel",
            "_view_count": null,
            "_view_module": "@jupyter-widgets/base",
            "_view_module_version": "1.2.0",
            "_view_name": "StyleView",
            "description_width": ""
          }
        },
        "1f47b7f809874102a2a0b8c23ff9c6a9": {
          "model_module": "@jupyter-widgets/controls",
          "model_name": "HBoxModel",
          "model_module_version": "1.5.0",
          "state": {
            "_dom_classes": [],
            "_model_module": "@jupyter-widgets/controls",
            "_model_module_version": "1.5.0",
            "_model_name": "HBoxModel",
            "_view_count": null,
            "_view_module": "@jupyter-widgets/controls",
            "_view_module_version": "1.5.0",
            "_view_name": "HBoxView",
            "box_style": "",
            "children": [
              "IPY_MODEL_e4143e7ddb234088b2c2914184ede260",
              "IPY_MODEL_fb64a39dcf36473c99b53ab11b4c4a99",
              "IPY_MODEL_e7c67e94486140fead39d355dec345b5"
            ],
            "layout": "IPY_MODEL_b66cd1260b7f430fb36ef2b0949e3c82"
          }
        },
        "e4143e7ddb234088b2c2914184ede260": {
          "model_module": "@jupyter-widgets/controls",
          "model_name": "HTMLModel",
          "model_module_version": "1.5.0",
          "state": {
            "_dom_classes": [],
            "_model_module": "@jupyter-widgets/controls",
            "_model_module_version": "1.5.0",
            "_model_name": "HTMLModel",
            "_view_count": null,
            "_view_module": "@jupyter-widgets/controls",
            "_view_module_version": "1.5.0",
            "_view_name": "HTMLView",
            "description": "",
            "description_tooltip": null,
            "layout": "IPY_MODEL_5cf3a46c82ae4883bcfb356272ce416b",
            "placeholder": "​",
            "style": "IPY_MODEL_f695d4e774084977b3d4f30b61af8c35",
            "value": "vocab.json: 100%"
          }
        },
        "fb64a39dcf36473c99b53ab11b4c4a99": {
          "model_module": "@jupyter-widgets/controls",
          "model_name": "FloatProgressModel",
          "model_module_version": "1.5.0",
          "state": {
            "_dom_classes": [],
            "_model_module": "@jupyter-widgets/controls",
            "_model_module_version": "1.5.0",
            "_model_name": "FloatProgressModel",
            "_view_count": null,
            "_view_module": "@jupyter-widgets/controls",
            "_view_module_version": "1.5.0",
            "_view_name": "ProgressView",
            "bar_style": "success",
            "description": "",
            "description_tooltip": null,
            "layout": "IPY_MODEL_f52cc67aecff449b9289f662a88d8186",
            "max": 1042301,
            "min": 0,
            "orientation": "horizontal",
            "style": "IPY_MODEL_cb296bc29d874cd0bed63fb73df8ceb6",
            "value": 1042301
          }
        },
        "e7c67e94486140fead39d355dec345b5": {
          "model_module": "@jupyter-widgets/controls",
          "model_name": "HTMLModel",
          "model_module_version": "1.5.0",
          "state": {
            "_dom_classes": [],
            "_model_module": "@jupyter-widgets/controls",
            "_model_module_version": "1.5.0",
            "_model_name": "HTMLModel",
            "_view_count": null,
            "_view_module": "@jupyter-widgets/controls",
            "_view_module_version": "1.5.0",
            "_view_name": "HTMLView",
            "description": "",
            "description_tooltip": null,
            "layout": "IPY_MODEL_4cebab474ea14738a1d4b8c9c9b05eba",
            "placeholder": "​",
            "style": "IPY_MODEL_3e0a9465ad76455398788d840f62eff9",
            "value": " 1.04M/1.04M [00:00&lt;00:00, 1.61MB/s]"
          }
        },
        "b66cd1260b7f430fb36ef2b0949e3c82": {
          "model_module": "@jupyter-widgets/base",
          "model_name": "LayoutModel",
          "model_module_version": "1.2.0",
          "state": {
            "_model_module": "@jupyter-widgets/base",
            "_model_module_version": "1.2.0",
            "_model_name": "LayoutModel",
            "_view_count": null,
            "_view_module": "@jupyter-widgets/base",
            "_view_module_version": "1.2.0",
            "_view_name": "LayoutView",
            "align_content": null,
            "align_items": null,
            "align_self": null,
            "border": null,
            "bottom": null,
            "display": null,
            "flex": null,
            "flex_flow": null,
            "grid_area": null,
            "grid_auto_columns": null,
            "grid_auto_flow": null,
            "grid_auto_rows": null,
            "grid_column": null,
            "grid_gap": null,
            "grid_row": null,
            "grid_template_areas": null,
            "grid_template_columns": null,
            "grid_template_rows": null,
            "height": null,
            "justify_content": null,
            "justify_items": null,
            "left": null,
            "margin": null,
            "max_height": null,
            "max_width": null,
            "min_height": null,
            "min_width": null,
            "object_fit": null,
            "object_position": null,
            "order": null,
            "overflow": null,
            "overflow_x": null,
            "overflow_y": null,
            "padding": null,
            "right": null,
            "top": null,
            "visibility": null,
            "width": null
          }
        },
        "5cf3a46c82ae4883bcfb356272ce416b": {
          "model_module": "@jupyter-widgets/base",
          "model_name": "LayoutModel",
          "model_module_version": "1.2.0",
          "state": {
            "_model_module": "@jupyter-widgets/base",
            "_model_module_version": "1.2.0",
            "_model_name": "LayoutModel",
            "_view_count": null,
            "_view_module": "@jupyter-widgets/base",
            "_view_module_version": "1.2.0",
            "_view_name": "LayoutView",
            "align_content": null,
            "align_items": null,
            "align_self": null,
            "border": null,
            "bottom": null,
            "display": null,
            "flex": null,
            "flex_flow": null,
            "grid_area": null,
            "grid_auto_columns": null,
            "grid_auto_flow": null,
            "grid_auto_rows": null,
            "grid_column": null,
            "grid_gap": null,
            "grid_row": null,
            "grid_template_areas": null,
            "grid_template_columns": null,
            "grid_template_rows": null,
            "height": null,
            "justify_content": null,
            "justify_items": null,
            "left": null,
            "margin": null,
            "max_height": null,
            "max_width": null,
            "min_height": null,
            "min_width": null,
            "object_fit": null,
            "object_position": null,
            "order": null,
            "overflow": null,
            "overflow_x": null,
            "overflow_y": null,
            "padding": null,
            "right": null,
            "top": null,
            "visibility": null,
            "width": null
          }
        },
        "f695d4e774084977b3d4f30b61af8c35": {
          "model_module": "@jupyter-widgets/controls",
          "model_name": "DescriptionStyleModel",
          "model_module_version": "1.5.0",
          "state": {
            "_model_module": "@jupyter-widgets/controls",
            "_model_module_version": "1.5.0",
            "_model_name": "DescriptionStyleModel",
            "_view_count": null,
            "_view_module": "@jupyter-widgets/base",
            "_view_module_version": "1.2.0",
            "_view_name": "StyleView",
            "description_width": ""
          }
        },
        "f52cc67aecff449b9289f662a88d8186": {
          "model_module": "@jupyter-widgets/base",
          "model_name": "LayoutModel",
          "model_module_version": "1.2.0",
          "state": {
            "_model_module": "@jupyter-widgets/base",
            "_model_module_version": "1.2.0",
            "_model_name": "LayoutModel",
            "_view_count": null,
            "_view_module": "@jupyter-widgets/base",
            "_view_module_version": "1.2.0",
            "_view_name": "LayoutView",
            "align_content": null,
            "align_items": null,
            "align_self": null,
            "border": null,
            "bottom": null,
            "display": null,
            "flex": null,
            "flex_flow": null,
            "grid_area": null,
            "grid_auto_columns": null,
            "grid_auto_flow": null,
            "grid_auto_rows": null,
            "grid_column": null,
            "grid_gap": null,
            "grid_row": null,
            "grid_template_areas": null,
            "grid_template_columns": null,
            "grid_template_rows": null,
            "height": null,
            "justify_content": null,
            "justify_items": null,
            "left": null,
            "margin": null,
            "max_height": null,
            "max_width": null,
            "min_height": null,
            "min_width": null,
            "object_fit": null,
            "object_position": null,
            "order": null,
            "overflow": null,
            "overflow_x": null,
            "overflow_y": null,
            "padding": null,
            "right": null,
            "top": null,
            "visibility": null,
            "width": null
          }
        },
        "cb296bc29d874cd0bed63fb73df8ceb6": {
          "model_module": "@jupyter-widgets/controls",
          "model_name": "ProgressStyleModel",
          "model_module_version": "1.5.0",
          "state": {
            "_model_module": "@jupyter-widgets/controls",
            "_model_module_version": "1.5.0",
            "_model_name": "ProgressStyleModel",
            "_view_count": null,
            "_view_module": "@jupyter-widgets/base",
            "_view_module_version": "1.2.0",
            "_view_name": "StyleView",
            "bar_color": null,
            "description_width": ""
          }
        },
        "4cebab474ea14738a1d4b8c9c9b05eba": {
          "model_module": "@jupyter-widgets/base",
          "model_name": "LayoutModel",
          "model_module_version": "1.2.0",
          "state": {
            "_model_module": "@jupyter-widgets/base",
            "_model_module_version": "1.2.0",
            "_model_name": "LayoutModel",
            "_view_count": null,
            "_view_module": "@jupyter-widgets/base",
            "_view_module_version": "1.2.0",
            "_view_name": "LayoutView",
            "align_content": null,
            "align_items": null,
            "align_self": null,
            "border": null,
            "bottom": null,
            "display": null,
            "flex": null,
            "flex_flow": null,
            "grid_area": null,
            "grid_auto_columns": null,
            "grid_auto_flow": null,
            "grid_auto_rows": null,
            "grid_column": null,
            "grid_gap": null,
            "grid_row": null,
            "grid_template_areas": null,
            "grid_template_columns": null,
            "grid_template_rows": null,
            "height": null,
            "justify_content": null,
            "justify_items": null,
            "left": null,
            "margin": null,
            "max_height": null,
            "max_width": null,
            "min_height": null,
            "min_width": null,
            "object_fit": null,
            "object_position": null,
            "order": null,
            "overflow": null,
            "overflow_x": null,
            "overflow_y": null,
            "padding": null,
            "right": null,
            "top": null,
            "visibility": null,
            "width": null
          }
        },
        "3e0a9465ad76455398788d840f62eff9": {
          "model_module": "@jupyter-widgets/controls",
          "model_name": "DescriptionStyleModel",
          "model_module_version": "1.5.0",
          "state": {
            "_model_module": "@jupyter-widgets/controls",
            "_model_module_version": "1.5.0",
            "_model_name": "DescriptionStyleModel",
            "_view_count": null,
            "_view_module": "@jupyter-widgets/base",
            "_view_module_version": "1.2.0",
            "_view_name": "StyleView",
            "description_width": ""
          }
        },
        "bc80ed9b7f6446acb9ba934d7febe735": {
          "model_module": "@jupyter-widgets/controls",
          "model_name": "HBoxModel",
          "model_module_version": "1.5.0",
          "state": {
            "_dom_classes": [],
            "_model_module": "@jupyter-widgets/controls",
            "_model_module_version": "1.5.0",
            "_model_name": "HBoxModel",
            "_view_count": null,
            "_view_module": "@jupyter-widgets/controls",
            "_view_module_version": "1.5.0",
            "_view_name": "HBoxView",
            "box_style": "",
            "children": [
              "IPY_MODEL_e2de81c507f64826b035a751e9088855",
              "IPY_MODEL_7e06824d883c4f959f58d783a096bcc2",
              "IPY_MODEL_96d7c9623f1e48f39728d6cc701414ee"
            ],
            "layout": "IPY_MODEL_9922b218f0a44bd39fbc4d8d81365ab5"
          }
        },
        "e2de81c507f64826b035a751e9088855": {
          "model_module": "@jupyter-widgets/controls",
          "model_name": "HTMLModel",
          "model_module_version": "1.5.0",
          "state": {
            "_dom_classes": [],
            "_model_module": "@jupyter-widgets/controls",
            "_model_module_version": "1.5.0",
            "_model_name": "HTMLModel",
            "_view_count": null,
            "_view_module": "@jupyter-widgets/controls",
            "_view_module_version": "1.5.0",
            "_view_name": "HTMLView",
            "description": "",
            "description_tooltip": null,
            "layout": "IPY_MODEL_a843eb81e3904f09a2e0b28941a2ab2d",
            "placeholder": "​",
            "style": "IPY_MODEL_62aa3e9f2aa9459eae9aaf4f391f13eb",
            "value": "merges.txt: 100%"
          }
        },
        "7e06824d883c4f959f58d783a096bcc2": {
          "model_module": "@jupyter-widgets/controls",
          "model_name": "FloatProgressModel",
          "model_module_version": "1.5.0",
          "state": {
            "_dom_classes": [],
            "_model_module": "@jupyter-widgets/controls",
            "_model_module_version": "1.5.0",
            "_model_name": "FloatProgressModel",
            "_view_count": null,
            "_view_module": "@jupyter-widgets/controls",
            "_view_module_version": "1.5.0",
            "_view_name": "ProgressView",
            "bar_style": "success",
            "description": "",
            "description_tooltip": null,
            "layout": "IPY_MODEL_77f23674d099460da9331f2b6fd432e1",
            "max": 456318,
            "min": 0,
            "orientation": "horizontal",
            "style": "IPY_MODEL_1d0293e556d64348bad5d71ee36b4964",
            "value": 456318
          }
        },
        "96d7c9623f1e48f39728d6cc701414ee": {
          "model_module": "@jupyter-widgets/controls",
          "model_name": "HTMLModel",
          "model_module_version": "1.5.0",
          "state": {
            "_dom_classes": [],
            "_model_module": "@jupyter-widgets/controls",
            "_model_module_version": "1.5.0",
            "_model_name": "HTMLModel",
            "_view_count": null,
            "_view_module": "@jupyter-widgets/controls",
            "_view_module_version": "1.5.0",
            "_view_name": "HTMLView",
            "description": "",
            "description_tooltip": null,
            "layout": "IPY_MODEL_f3a03f002b8243edba4f0d5cc42911b0",
            "placeholder": "​",
            "style": "IPY_MODEL_1b7582bf2c384cbb8997215e1764b0eb",
            "value": " 456k/456k [00:00&lt;00:00, 897kB/s]"
          }
        },
        "9922b218f0a44bd39fbc4d8d81365ab5": {
          "model_module": "@jupyter-widgets/base",
          "model_name": "LayoutModel",
          "model_module_version": "1.2.0",
          "state": {
            "_model_module": "@jupyter-widgets/base",
            "_model_module_version": "1.2.0",
            "_model_name": "LayoutModel",
            "_view_count": null,
            "_view_module": "@jupyter-widgets/base",
            "_view_module_version": "1.2.0",
            "_view_name": "LayoutView",
            "align_content": null,
            "align_items": null,
            "align_self": null,
            "border": null,
            "bottom": null,
            "display": null,
            "flex": null,
            "flex_flow": null,
            "grid_area": null,
            "grid_auto_columns": null,
            "grid_auto_flow": null,
            "grid_auto_rows": null,
            "grid_column": null,
            "grid_gap": null,
            "grid_row": null,
            "grid_template_areas": null,
            "grid_template_columns": null,
            "grid_template_rows": null,
            "height": null,
            "justify_content": null,
            "justify_items": null,
            "left": null,
            "margin": null,
            "max_height": null,
            "max_width": null,
            "min_height": null,
            "min_width": null,
            "object_fit": null,
            "object_position": null,
            "order": null,
            "overflow": null,
            "overflow_x": null,
            "overflow_y": null,
            "padding": null,
            "right": null,
            "top": null,
            "visibility": null,
            "width": null
          }
        },
        "a843eb81e3904f09a2e0b28941a2ab2d": {
          "model_module": "@jupyter-widgets/base",
          "model_name": "LayoutModel",
          "model_module_version": "1.2.0",
          "state": {
            "_model_module": "@jupyter-widgets/base",
            "_model_module_version": "1.2.0",
            "_model_name": "LayoutModel",
            "_view_count": null,
            "_view_module": "@jupyter-widgets/base",
            "_view_module_version": "1.2.0",
            "_view_name": "LayoutView",
            "align_content": null,
            "align_items": null,
            "align_self": null,
            "border": null,
            "bottom": null,
            "display": null,
            "flex": null,
            "flex_flow": null,
            "grid_area": null,
            "grid_auto_columns": null,
            "grid_auto_flow": null,
            "grid_auto_rows": null,
            "grid_column": null,
            "grid_gap": null,
            "grid_row": null,
            "grid_template_areas": null,
            "grid_template_columns": null,
            "grid_template_rows": null,
            "height": null,
            "justify_content": null,
            "justify_items": null,
            "left": null,
            "margin": null,
            "max_height": null,
            "max_width": null,
            "min_height": null,
            "min_width": null,
            "object_fit": null,
            "object_position": null,
            "order": null,
            "overflow": null,
            "overflow_x": null,
            "overflow_y": null,
            "padding": null,
            "right": null,
            "top": null,
            "visibility": null,
            "width": null
          }
        },
        "62aa3e9f2aa9459eae9aaf4f391f13eb": {
          "model_module": "@jupyter-widgets/controls",
          "model_name": "DescriptionStyleModel",
          "model_module_version": "1.5.0",
          "state": {
            "_model_module": "@jupyter-widgets/controls",
            "_model_module_version": "1.5.0",
            "_model_name": "DescriptionStyleModel",
            "_view_count": null,
            "_view_module": "@jupyter-widgets/base",
            "_view_module_version": "1.2.0",
            "_view_name": "StyleView",
            "description_width": ""
          }
        },
        "77f23674d099460da9331f2b6fd432e1": {
          "model_module": "@jupyter-widgets/base",
          "model_name": "LayoutModel",
          "model_module_version": "1.2.0",
          "state": {
            "_model_module": "@jupyter-widgets/base",
            "_model_module_version": "1.2.0",
            "_model_name": "LayoutModel",
            "_view_count": null,
            "_view_module": "@jupyter-widgets/base",
            "_view_module_version": "1.2.0",
            "_view_name": "LayoutView",
            "align_content": null,
            "align_items": null,
            "align_self": null,
            "border": null,
            "bottom": null,
            "display": null,
            "flex": null,
            "flex_flow": null,
            "grid_area": null,
            "grid_auto_columns": null,
            "grid_auto_flow": null,
            "grid_auto_rows": null,
            "grid_column": null,
            "grid_gap": null,
            "grid_row": null,
            "grid_template_areas": null,
            "grid_template_columns": null,
            "grid_template_rows": null,
            "height": null,
            "justify_content": null,
            "justify_items": null,
            "left": null,
            "margin": null,
            "max_height": null,
            "max_width": null,
            "min_height": null,
            "min_width": null,
            "object_fit": null,
            "object_position": null,
            "order": null,
            "overflow": null,
            "overflow_x": null,
            "overflow_y": null,
            "padding": null,
            "right": null,
            "top": null,
            "visibility": null,
            "width": null
          }
        },
        "1d0293e556d64348bad5d71ee36b4964": {
          "model_module": "@jupyter-widgets/controls",
          "model_name": "ProgressStyleModel",
          "model_module_version": "1.5.0",
          "state": {
            "_model_module": "@jupyter-widgets/controls",
            "_model_module_version": "1.5.0",
            "_model_name": "ProgressStyleModel",
            "_view_count": null,
            "_view_module": "@jupyter-widgets/base",
            "_view_module_version": "1.2.0",
            "_view_name": "StyleView",
            "bar_color": null,
            "description_width": ""
          }
        },
        "f3a03f002b8243edba4f0d5cc42911b0": {
          "model_module": "@jupyter-widgets/base",
          "model_name": "LayoutModel",
          "model_module_version": "1.2.0",
          "state": {
            "_model_module": "@jupyter-widgets/base",
            "_model_module_version": "1.2.0",
            "_model_name": "LayoutModel",
            "_view_count": null,
            "_view_module": "@jupyter-widgets/base",
            "_view_module_version": "1.2.0",
            "_view_name": "LayoutView",
            "align_content": null,
            "align_items": null,
            "align_self": null,
            "border": null,
            "bottom": null,
            "display": null,
            "flex": null,
            "flex_flow": null,
            "grid_area": null,
            "grid_auto_columns": null,
            "grid_auto_flow": null,
            "grid_auto_rows": null,
            "grid_column": null,
            "grid_gap": null,
            "grid_row": null,
            "grid_template_areas": null,
            "grid_template_columns": null,
            "grid_template_rows": null,
            "height": null,
            "justify_content": null,
            "justify_items": null,
            "left": null,
            "margin": null,
            "max_height": null,
            "max_width": null,
            "min_height": null,
            "min_width": null,
            "object_fit": null,
            "object_position": null,
            "order": null,
            "overflow": null,
            "overflow_x": null,
            "overflow_y": null,
            "padding": null,
            "right": null,
            "top": null,
            "visibility": null,
            "width": null
          }
        },
        "1b7582bf2c384cbb8997215e1764b0eb": {
          "model_module": "@jupyter-widgets/controls",
          "model_name": "DescriptionStyleModel",
          "model_module_version": "1.5.0",
          "state": {
            "_model_module": "@jupyter-widgets/controls",
            "_model_module_version": "1.5.0",
            "_model_name": "DescriptionStyleModel",
            "_view_count": null,
            "_view_module": "@jupyter-widgets/base",
            "_view_module_version": "1.2.0",
            "_view_name": "StyleView",
            "description_width": ""
          }
        },
        "49c2d2641c9f4233be83f8c709377b24": {
          "model_module": "@jupyter-widgets/controls",
          "model_name": "HBoxModel",
          "model_module_version": "1.5.0",
          "state": {
            "_dom_classes": [],
            "_model_module": "@jupyter-widgets/controls",
            "_model_module_version": "1.5.0",
            "_model_name": "HBoxModel",
            "_view_count": null,
            "_view_module": "@jupyter-widgets/controls",
            "_view_module_version": "1.5.0",
            "_view_name": "HBoxView",
            "box_style": "",
            "children": [
              "IPY_MODEL_2817a0b6ba17457d9bb3353806e66d81",
              "IPY_MODEL_b735b478e9ed4009b2bdd63d205742f0",
              "IPY_MODEL_c4b6ddb34708439998cf5ca51beabc0d"
            ],
            "layout": "IPY_MODEL_712eccc0966948c68cf9061844a3699a"
          }
        },
        "2817a0b6ba17457d9bb3353806e66d81": {
          "model_module": "@jupyter-widgets/controls",
          "model_name": "HTMLModel",
          "model_module_version": "1.5.0",
          "state": {
            "_dom_classes": [],
            "_model_module": "@jupyter-widgets/controls",
            "_model_module_version": "1.5.0",
            "_model_name": "HTMLModel",
            "_view_count": null,
            "_view_module": "@jupyter-widgets/controls",
            "_view_module_version": "1.5.0",
            "_view_name": "HTMLView",
            "description": "",
            "description_tooltip": null,
            "layout": "IPY_MODEL_9dbc8553227641aeaeb5a2977f6dbbdc",
            "placeholder": "​",
            "style": "IPY_MODEL_9912e8b1b21c4e17aa48135022f2a238",
            "value": "tokenizer.json: 100%"
          }
        },
        "b735b478e9ed4009b2bdd63d205742f0": {
          "model_module": "@jupyter-widgets/controls",
          "model_name": "FloatProgressModel",
          "model_module_version": "1.5.0",
          "state": {
            "_dom_classes": [],
            "_model_module": "@jupyter-widgets/controls",
            "_model_module_version": "1.5.0",
            "_model_name": "FloatProgressModel",
            "_view_count": null,
            "_view_module": "@jupyter-widgets/controls",
            "_view_module_version": "1.5.0",
            "_view_name": "ProgressView",
            "bar_style": "success",
            "description": "",
            "description_tooltip": null,
            "layout": "IPY_MODEL_46c1efff8b284a6e87ed22f117fdfcb8",
            "max": 1355256,
            "min": 0,
            "orientation": "horizontal",
            "style": "IPY_MODEL_104df45e657f4dfbb863c08f43594e6f",
            "value": 1355256
          }
        },
        "c4b6ddb34708439998cf5ca51beabc0d": {
          "model_module": "@jupyter-widgets/controls",
          "model_name": "HTMLModel",
          "model_module_version": "1.5.0",
          "state": {
            "_dom_classes": [],
            "_model_module": "@jupyter-widgets/controls",
            "_model_module_version": "1.5.0",
            "_model_name": "HTMLModel",
            "_view_count": null,
            "_view_module": "@jupyter-widgets/controls",
            "_view_module_version": "1.5.0",
            "_view_name": "HTMLView",
            "description": "",
            "description_tooltip": null,
            "layout": "IPY_MODEL_19ca1a9bea5f4794b7c776ec11b1e230",
            "placeholder": "​",
            "style": "IPY_MODEL_20be88f078e147379a233bb4f588ba9d",
            "value": " 1.36M/1.36M [00:00&lt;00:00, 3.10MB/s]"
          }
        },
        "712eccc0966948c68cf9061844a3699a": {
          "model_module": "@jupyter-widgets/base",
          "model_name": "LayoutModel",
          "model_module_version": "1.2.0",
          "state": {
            "_model_module": "@jupyter-widgets/base",
            "_model_module_version": "1.2.0",
            "_model_name": "LayoutModel",
            "_view_count": null,
            "_view_module": "@jupyter-widgets/base",
            "_view_module_version": "1.2.0",
            "_view_name": "LayoutView",
            "align_content": null,
            "align_items": null,
            "align_self": null,
            "border": null,
            "bottom": null,
            "display": null,
            "flex": null,
            "flex_flow": null,
            "grid_area": null,
            "grid_auto_columns": null,
            "grid_auto_flow": null,
            "grid_auto_rows": null,
            "grid_column": null,
            "grid_gap": null,
            "grid_row": null,
            "grid_template_areas": null,
            "grid_template_columns": null,
            "grid_template_rows": null,
            "height": null,
            "justify_content": null,
            "justify_items": null,
            "left": null,
            "margin": null,
            "max_height": null,
            "max_width": null,
            "min_height": null,
            "min_width": null,
            "object_fit": null,
            "object_position": null,
            "order": null,
            "overflow": null,
            "overflow_x": null,
            "overflow_y": null,
            "padding": null,
            "right": null,
            "top": null,
            "visibility": null,
            "width": null
          }
        },
        "9dbc8553227641aeaeb5a2977f6dbbdc": {
          "model_module": "@jupyter-widgets/base",
          "model_name": "LayoutModel",
          "model_module_version": "1.2.0",
          "state": {
            "_model_module": "@jupyter-widgets/base",
            "_model_module_version": "1.2.0",
            "_model_name": "LayoutModel",
            "_view_count": null,
            "_view_module": "@jupyter-widgets/base",
            "_view_module_version": "1.2.0",
            "_view_name": "LayoutView",
            "align_content": null,
            "align_items": null,
            "align_self": null,
            "border": null,
            "bottom": null,
            "display": null,
            "flex": null,
            "flex_flow": null,
            "grid_area": null,
            "grid_auto_columns": null,
            "grid_auto_flow": null,
            "grid_auto_rows": null,
            "grid_column": null,
            "grid_gap": null,
            "grid_row": null,
            "grid_template_areas": null,
            "grid_template_columns": null,
            "grid_template_rows": null,
            "height": null,
            "justify_content": null,
            "justify_items": null,
            "left": null,
            "margin": null,
            "max_height": null,
            "max_width": null,
            "min_height": null,
            "min_width": null,
            "object_fit": null,
            "object_position": null,
            "order": null,
            "overflow": null,
            "overflow_x": null,
            "overflow_y": null,
            "padding": null,
            "right": null,
            "top": null,
            "visibility": null,
            "width": null
          }
        },
        "9912e8b1b21c4e17aa48135022f2a238": {
          "model_module": "@jupyter-widgets/controls",
          "model_name": "DescriptionStyleModel",
          "model_module_version": "1.5.0",
          "state": {
            "_model_module": "@jupyter-widgets/controls",
            "_model_module_version": "1.5.0",
            "_model_name": "DescriptionStyleModel",
            "_view_count": null,
            "_view_module": "@jupyter-widgets/base",
            "_view_module_version": "1.2.0",
            "_view_name": "StyleView",
            "description_width": ""
          }
        },
        "46c1efff8b284a6e87ed22f117fdfcb8": {
          "model_module": "@jupyter-widgets/base",
          "model_name": "LayoutModel",
          "model_module_version": "1.2.0",
          "state": {
            "_model_module": "@jupyter-widgets/base",
            "_model_module_version": "1.2.0",
            "_model_name": "LayoutModel",
            "_view_count": null,
            "_view_module": "@jupyter-widgets/base",
            "_view_module_version": "1.2.0",
            "_view_name": "LayoutView",
            "align_content": null,
            "align_items": null,
            "align_self": null,
            "border": null,
            "bottom": null,
            "display": null,
            "flex": null,
            "flex_flow": null,
            "grid_area": null,
            "grid_auto_columns": null,
            "grid_auto_flow": null,
            "grid_auto_rows": null,
            "grid_column": null,
            "grid_gap": null,
            "grid_row": null,
            "grid_template_areas": null,
            "grid_template_columns": null,
            "grid_template_rows": null,
            "height": null,
            "justify_content": null,
            "justify_items": null,
            "left": null,
            "margin": null,
            "max_height": null,
            "max_width": null,
            "min_height": null,
            "min_width": null,
            "object_fit": null,
            "object_position": null,
            "order": null,
            "overflow": null,
            "overflow_x": null,
            "overflow_y": null,
            "padding": null,
            "right": null,
            "top": null,
            "visibility": null,
            "width": null
          }
        },
        "104df45e657f4dfbb863c08f43594e6f": {
          "model_module": "@jupyter-widgets/controls",
          "model_name": "ProgressStyleModel",
          "model_module_version": "1.5.0",
          "state": {
            "_model_module": "@jupyter-widgets/controls",
            "_model_module_version": "1.5.0",
            "_model_name": "ProgressStyleModel",
            "_view_count": null,
            "_view_module": "@jupyter-widgets/base",
            "_view_module_version": "1.2.0",
            "_view_name": "StyleView",
            "bar_color": null,
            "description_width": ""
          }
        },
        "19ca1a9bea5f4794b7c776ec11b1e230": {
          "model_module": "@jupyter-widgets/base",
          "model_name": "LayoutModel",
          "model_module_version": "1.2.0",
          "state": {
            "_model_module": "@jupyter-widgets/base",
            "_model_module_version": "1.2.0",
            "_model_name": "LayoutModel",
            "_view_count": null,
            "_view_module": "@jupyter-widgets/base",
            "_view_module_version": "1.2.0",
            "_view_name": "LayoutView",
            "align_content": null,
            "align_items": null,
            "align_self": null,
            "border": null,
            "bottom": null,
            "display": null,
            "flex": null,
            "flex_flow": null,
            "grid_area": null,
            "grid_auto_columns": null,
            "grid_auto_flow": null,
            "grid_auto_rows": null,
            "grid_column": null,
            "grid_gap": null,
            "grid_row": null,
            "grid_template_areas": null,
            "grid_template_columns": null,
            "grid_template_rows": null,
            "height": null,
            "justify_content": null,
            "justify_items": null,
            "left": null,
            "margin": null,
            "max_height": null,
            "max_width": null,
            "min_height": null,
            "min_width": null,
            "object_fit": null,
            "object_position": null,
            "order": null,
            "overflow": null,
            "overflow_x": null,
            "overflow_y": null,
            "padding": null,
            "right": null,
            "top": null,
            "visibility": null,
            "width": null
          }
        },
        "20be88f078e147379a233bb4f588ba9d": {
          "model_module": "@jupyter-widgets/controls",
          "model_name": "DescriptionStyleModel",
          "model_module_version": "1.5.0",
          "state": {
            "_model_module": "@jupyter-widgets/controls",
            "_model_module_version": "1.5.0",
            "_model_name": "DescriptionStyleModel",
            "_view_count": null,
            "_view_module": "@jupyter-widgets/base",
            "_view_module_version": "1.2.0",
            "_view_name": "StyleView",
            "description_width": ""
          }
        },
        "941415f2ac8f4160ac1c90ced623cce3": {
          "model_module": "@jupyter-widgets/controls",
          "model_name": "HBoxModel",
          "model_module_version": "1.5.0",
          "state": {
            "_dom_classes": [],
            "_model_module": "@jupyter-widgets/controls",
            "_model_module_version": "1.5.0",
            "_model_name": "HBoxModel",
            "_view_count": null,
            "_view_module": "@jupyter-widgets/controls",
            "_view_module_version": "1.5.0",
            "_view_name": "HBoxView",
            "box_style": "",
            "children": [
              "IPY_MODEL_76c0c19c0f4f43cf940be1104f6bff78",
              "IPY_MODEL_9e978944d4d34173a72da2ac952aa43f",
              "IPY_MODEL_eceaf5e5e3d04b1397cf0330d02041b0"
            ],
            "layout": "IPY_MODEL_76ab76f3548c41d1b5340ca945fd3394"
          }
        },
        "76c0c19c0f4f43cf940be1104f6bff78": {
          "model_module": "@jupyter-widgets/controls",
          "model_name": "HTMLModel",
          "model_module_version": "1.5.0",
          "state": {
            "_dom_classes": [],
            "_model_module": "@jupyter-widgets/controls",
            "_model_module_version": "1.5.0",
            "_model_name": "HTMLModel",
            "_view_count": null,
            "_view_module": "@jupyter-widgets/controls",
            "_view_module_version": "1.5.0",
            "_view_name": "HTMLView",
            "description": "",
            "description_tooltip": null,
            "layout": "IPY_MODEL_f4a684facd5d4396a71cf57d55686088",
            "placeholder": "​",
            "style": "IPY_MODEL_b053a163926a49f88ee42f72b3f46a2b",
            "value": "Map: 100%"
          }
        },
        "9e978944d4d34173a72da2ac952aa43f": {
          "model_module": "@jupyter-widgets/controls",
          "model_name": "FloatProgressModel",
          "model_module_version": "1.5.0",
          "state": {
            "_dom_classes": [],
            "_model_module": "@jupyter-widgets/controls",
            "_model_module_version": "1.5.0",
            "_model_name": "FloatProgressModel",
            "_view_count": null,
            "_view_module": "@jupyter-widgets/controls",
            "_view_module_version": "1.5.0",
            "_view_name": "ProgressView",
            "bar_style": "success",
            "description": "",
            "description_tooltip": null,
            "layout": "IPY_MODEL_f1c1993ba2204405994f67c5898ca471",
            "max": 33955,
            "min": 0,
            "orientation": "horizontal",
            "style": "IPY_MODEL_5317745ee64943d1804d862000987781",
            "value": 33955
          }
        },
        "eceaf5e5e3d04b1397cf0330d02041b0": {
          "model_module": "@jupyter-widgets/controls",
          "model_name": "HTMLModel",
          "model_module_version": "1.5.0",
          "state": {
            "_dom_classes": [],
            "_model_module": "@jupyter-widgets/controls",
            "_model_module_version": "1.5.0",
            "_model_name": "HTMLModel",
            "_view_count": null,
            "_view_module": "@jupyter-widgets/controls",
            "_view_module_version": "1.5.0",
            "_view_name": "HTMLView",
            "description": "",
            "description_tooltip": null,
            "layout": "IPY_MODEL_f32b3008efe341b1873b6c4b96bf0ca7",
            "placeholder": "​",
            "style": "IPY_MODEL_05fd6f99ab504007ad81b350e2bf45dc",
            "value": " 33955/33955 [00:00&lt;00:00, 142636.41 examples/s]"
          }
        },
        "76ab76f3548c41d1b5340ca945fd3394": {
          "model_module": "@jupyter-widgets/base",
          "model_name": "LayoutModel",
          "model_module_version": "1.2.0",
          "state": {
            "_model_module": "@jupyter-widgets/base",
            "_model_module_version": "1.2.0",
            "_model_name": "LayoutModel",
            "_view_count": null,
            "_view_module": "@jupyter-widgets/base",
            "_view_module_version": "1.2.0",
            "_view_name": "LayoutView",
            "align_content": null,
            "align_items": null,
            "align_self": null,
            "border": null,
            "bottom": null,
            "display": null,
            "flex": null,
            "flex_flow": null,
            "grid_area": null,
            "grid_auto_columns": null,
            "grid_auto_flow": null,
            "grid_auto_rows": null,
            "grid_column": null,
            "grid_gap": null,
            "grid_row": null,
            "grid_template_areas": null,
            "grid_template_columns": null,
            "grid_template_rows": null,
            "height": null,
            "justify_content": null,
            "justify_items": null,
            "left": null,
            "margin": null,
            "max_height": null,
            "max_width": null,
            "min_height": null,
            "min_width": null,
            "object_fit": null,
            "object_position": null,
            "order": null,
            "overflow": null,
            "overflow_x": null,
            "overflow_y": null,
            "padding": null,
            "right": null,
            "top": null,
            "visibility": null,
            "width": null
          }
        },
        "f4a684facd5d4396a71cf57d55686088": {
          "model_module": "@jupyter-widgets/base",
          "model_name": "LayoutModel",
          "model_module_version": "1.2.0",
          "state": {
            "_model_module": "@jupyter-widgets/base",
            "_model_module_version": "1.2.0",
            "_model_name": "LayoutModel",
            "_view_count": null,
            "_view_module": "@jupyter-widgets/base",
            "_view_module_version": "1.2.0",
            "_view_name": "LayoutView",
            "align_content": null,
            "align_items": null,
            "align_self": null,
            "border": null,
            "bottom": null,
            "display": null,
            "flex": null,
            "flex_flow": null,
            "grid_area": null,
            "grid_auto_columns": null,
            "grid_auto_flow": null,
            "grid_auto_rows": null,
            "grid_column": null,
            "grid_gap": null,
            "grid_row": null,
            "grid_template_areas": null,
            "grid_template_columns": null,
            "grid_template_rows": null,
            "height": null,
            "justify_content": null,
            "justify_items": null,
            "left": null,
            "margin": null,
            "max_height": null,
            "max_width": null,
            "min_height": null,
            "min_width": null,
            "object_fit": null,
            "object_position": null,
            "order": null,
            "overflow": null,
            "overflow_x": null,
            "overflow_y": null,
            "padding": null,
            "right": null,
            "top": null,
            "visibility": null,
            "width": null
          }
        },
        "b053a163926a49f88ee42f72b3f46a2b": {
          "model_module": "@jupyter-widgets/controls",
          "model_name": "DescriptionStyleModel",
          "model_module_version": "1.5.0",
          "state": {
            "_model_module": "@jupyter-widgets/controls",
            "_model_module_version": "1.5.0",
            "_model_name": "DescriptionStyleModel",
            "_view_count": null,
            "_view_module": "@jupyter-widgets/base",
            "_view_module_version": "1.2.0",
            "_view_name": "StyleView",
            "description_width": ""
          }
        },
        "f1c1993ba2204405994f67c5898ca471": {
          "model_module": "@jupyter-widgets/base",
          "model_name": "LayoutModel",
          "model_module_version": "1.2.0",
          "state": {
            "_model_module": "@jupyter-widgets/base",
            "_model_module_version": "1.2.0",
            "_model_name": "LayoutModel",
            "_view_count": null,
            "_view_module": "@jupyter-widgets/base",
            "_view_module_version": "1.2.0",
            "_view_name": "LayoutView",
            "align_content": null,
            "align_items": null,
            "align_self": null,
            "border": null,
            "bottom": null,
            "display": null,
            "flex": null,
            "flex_flow": null,
            "grid_area": null,
            "grid_auto_columns": null,
            "grid_auto_flow": null,
            "grid_auto_rows": null,
            "grid_column": null,
            "grid_gap": null,
            "grid_row": null,
            "grid_template_areas": null,
            "grid_template_columns": null,
            "grid_template_rows": null,
            "height": null,
            "justify_content": null,
            "justify_items": null,
            "left": null,
            "margin": null,
            "max_height": null,
            "max_width": null,
            "min_height": null,
            "min_width": null,
            "object_fit": null,
            "object_position": null,
            "order": null,
            "overflow": null,
            "overflow_x": null,
            "overflow_y": null,
            "padding": null,
            "right": null,
            "top": null,
            "visibility": null,
            "width": null
          }
        },
        "5317745ee64943d1804d862000987781": {
          "model_module": "@jupyter-widgets/controls",
          "model_name": "ProgressStyleModel",
          "model_module_version": "1.5.0",
          "state": {
            "_model_module": "@jupyter-widgets/controls",
            "_model_module_version": "1.5.0",
            "_model_name": "ProgressStyleModel",
            "_view_count": null,
            "_view_module": "@jupyter-widgets/base",
            "_view_module_version": "1.2.0",
            "_view_name": "StyleView",
            "bar_color": null,
            "description_width": ""
          }
        },
        "f32b3008efe341b1873b6c4b96bf0ca7": {
          "model_module": "@jupyter-widgets/base",
          "model_name": "LayoutModel",
          "model_module_version": "1.2.0",
          "state": {
            "_model_module": "@jupyter-widgets/base",
            "_model_module_version": "1.2.0",
            "_model_name": "LayoutModel",
            "_view_count": null,
            "_view_module": "@jupyter-widgets/base",
            "_view_module_version": "1.2.0",
            "_view_name": "LayoutView",
            "align_content": null,
            "align_items": null,
            "align_self": null,
            "border": null,
            "bottom": null,
            "display": null,
            "flex": null,
            "flex_flow": null,
            "grid_area": null,
            "grid_auto_columns": null,
            "grid_auto_flow": null,
            "grid_auto_rows": null,
            "grid_column": null,
            "grid_gap": null,
            "grid_row": null,
            "grid_template_areas": null,
            "grid_template_columns": null,
            "grid_template_rows": null,
            "height": null,
            "justify_content": null,
            "justify_items": null,
            "left": null,
            "margin": null,
            "max_height": null,
            "max_width": null,
            "min_height": null,
            "min_width": null,
            "object_fit": null,
            "object_position": null,
            "order": null,
            "overflow": null,
            "overflow_x": null,
            "overflow_y": null,
            "padding": null,
            "right": null,
            "top": null,
            "visibility": null,
            "width": null
          }
        },
        "05fd6f99ab504007ad81b350e2bf45dc": {
          "model_module": "@jupyter-widgets/controls",
          "model_name": "DescriptionStyleModel",
          "model_module_version": "1.5.0",
          "state": {
            "_model_module": "@jupyter-widgets/controls",
            "_model_module_version": "1.5.0",
            "_model_name": "DescriptionStyleModel",
            "_view_count": null,
            "_view_module": "@jupyter-widgets/base",
            "_view_module_version": "1.2.0",
            "_view_name": "StyleView",
            "description_width": ""
          }
        },
        "10042bf950534232acc8361ea9595c1f": {
          "model_module": "@jupyter-widgets/controls",
          "model_name": "HBoxModel",
          "model_module_version": "1.5.0",
          "state": {
            "_dom_classes": [],
            "_model_module": "@jupyter-widgets/controls",
            "_model_module_version": "1.5.0",
            "_model_name": "HBoxModel",
            "_view_count": null,
            "_view_module": "@jupyter-widgets/controls",
            "_view_module_version": "1.5.0",
            "_view_name": "HBoxView",
            "box_style": "",
            "children": [
              "IPY_MODEL_60a01fd991394025b5a24c6677e7a14d",
              "IPY_MODEL_19fc9dbf0407485bb93289c8595f4d4e",
              "IPY_MODEL_bc755b0bd02e46ce812532ff10630fef"
            ],
            "layout": "IPY_MODEL_9f39eebb52cb4c258708deea62457b35"
          }
        },
        "60a01fd991394025b5a24c6677e7a14d": {
          "model_module": "@jupyter-widgets/controls",
          "model_name": "HTMLModel",
          "model_module_version": "1.5.0",
          "state": {
            "_dom_classes": [],
            "_model_module": "@jupyter-widgets/controls",
            "_model_module_version": "1.5.0",
            "_model_name": "HTMLModel",
            "_view_count": null,
            "_view_module": "@jupyter-widgets/controls",
            "_view_module_version": "1.5.0",
            "_view_name": "HTMLView",
            "description": "",
            "description_tooltip": null,
            "layout": "IPY_MODEL_006b481c1cca41469836d92bc6a28588",
            "placeholder": "​",
            "style": "IPY_MODEL_5985ec8871a647aebec18fd4f048fe39",
            "value": "Map: 100%"
          }
        },
        "19fc9dbf0407485bb93289c8595f4d4e": {
          "model_module": "@jupyter-widgets/controls",
          "model_name": "FloatProgressModel",
          "model_module_version": "1.5.0",
          "state": {
            "_dom_classes": [],
            "_model_module": "@jupyter-widgets/controls",
            "_model_module_version": "1.5.0",
            "_model_name": "FloatProgressModel",
            "_view_count": null,
            "_view_module": "@jupyter-widgets/controls",
            "_view_module_version": "1.5.0",
            "_view_name": "ProgressView",
            "bar_style": "success",
            "description": "",
            "description_tooltip": null,
            "layout": "IPY_MODEL_435d202aa2144b53a2a0644b7a383ba0",
            "max": 33955,
            "min": 0,
            "orientation": "horizontal",
            "style": "IPY_MODEL_347aa5f728504b12b5e45b3490724bcc",
            "value": 33955
          }
        },
        "bc755b0bd02e46ce812532ff10630fef": {
          "model_module": "@jupyter-widgets/controls",
          "model_name": "HTMLModel",
          "model_module_version": "1.5.0",
          "state": {
            "_dom_classes": [],
            "_model_module": "@jupyter-widgets/controls",
            "_model_module_version": "1.5.0",
            "_model_name": "HTMLModel",
            "_view_count": null,
            "_view_module": "@jupyter-widgets/controls",
            "_view_module_version": "1.5.0",
            "_view_name": "HTMLView",
            "description": "",
            "description_tooltip": null,
            "layout": "IPY_MODEL_2ebbb0bcfe7941de8a7fe859245cda1b",
            "placeholder": "​",
            "style": "IPY_MODEL_da977c3ca2f443b4b22fec43b8c45a5d",
            "value": " 33955/33955 [00:08&lt;00:00, 4187.05 examples/s]"
          }
        },
        "9f39eebb52cb4c258708deea62457b35": {
          "model_module": "@jupyter-widgets/base",
          "model_name": "LayoutModel",
          "model_module_version": "1.2.0",
          "state": {
            "_model_module": "@jupyter-widgets/base",
            "_model_module_version": "1.2.0",
            "_model_name": "LayoutModel",
            "_view_count": null,
            "_view_module": "@jupyter-widgets/base",
            "_view_module_version": "1.2.0",
            "_view_name": "LayoutView",
            "align_content": null,
            "align_items": null,
            "align_self": null,
            "border": null,
            "bottom": null,
            "display": null,
            "flex": null,
            "flex_flow": null,
            "grid_area": null,
            "grid_auto_columns": null,
            "grid_auto_flow": null,
            "grid_auto_rows": null,
            "grid_column": null,
            "grid_gap": null,
            "grid_row": null,
            "grid_template_areas": null,
            "grid_template_columns": null,
            "grid_template_rows": null,
            "height": null,
            "justify_content": null,
            "justify_items": null,
            "left": null,
            "margin": null,
            "max_height": null,
            "max_width": null,
            "min_height": null,
            "min_width": null,
            "object_fit": null,
            "object_position": null,
            "order": null,
            "overflow": null,
            "overflow_x": null,
            "overflow_y": null,
            "padding": null,
            "right": null,
            "top": null,
            "visibility": null,
            "width": null
          }
        },
        "006b481c1cca41469836d92bc6a28588": {
          "model_module": "@jupyter-widgets/base",
          "model_name": "LayoutModel",
          "model_module_version": "1.2.0",
          "state": {
            "_model_module": "@jupyter-widgets/base",
            "_model_module_version": "1.2.0",
            "_model_name": "LayoutModel",
            "_view_count": null,
            "_view_module": "@jupyter-widgets/base",
            "_view_module_version": "1.2.0",
            "_view_name": "LayoutView",
            "align_content": null,
            "align_items": null,
            "align_self": null,
            "border": null,
            "bottom": null,
            "display": null,
            "flex": null,
            "flex_flow": null,
            "grid_area": null,
            "grid_auto_columns": null,
            "grid_auto_flow": null,
            "grid_auto_rows": null,
            "grid_column": null,
            "grid_gap": null,
            "grid_row": null,
            "grid_template_areas": null,
            "grid_template_columns": null,
            "grid_template_rows": null,
            "height": null,
            "justify_content": null,
            "justify_items": null,
            "left": null,
            "margin": null,
            "max_height": null,
            "max_width": null,
            "min_height": null,
            "min_width": null,
            "object_fit": null,
            "object_position": null,
            "order": null,
            "overflow": null,
            "overflow_x": null,
            "overflow_y": null,
            "padding": null,
            "right": null,
            "top": null,
            "visibility": null,
            "width": null
          }
        },
        "5985ec8871a647aebec18fd4f048fe39": {
          "model_module": "@jupyter-widgets/controls",
          "model_name": "DescriptionStyleModel",
          "model_module_version": "1.5.0",
          "state": {
            "_model_module": "@jupyter-widgets/controls",
            "_model_module_version": "1.5.0",
            "_model_name": "DescriptionStyleModel",
            "_view_count": null,
            "_view_module": "@jupyter-widgets/base",
            "_view_module_version": "1.2.0",
            "_view_name": "StyleView",
            "description_width": ""
          }
        },
        "435d202aa2144b53a2a0644b7a383ba0": {
          "model_module": "@jupyter-widgets/base",
          "model_name": "LayoutModel",
          "model_module_version": "1.2.0",
          "state": {
            "_model_module": "@jupyter-widgets/base",
            "_model_module_version": "1.2.0",
            "_model_name": "LayoutModel",
            "_view_count": null,
            "_view_module": "@jupyter-widgets/base",
            "_view_module_version": "1.2.0",
            "_view_name": "LayoutView",
            "align_content": null,
            "align_items": null,
            "align_self": null,
            "border": null,
            "bottom": null,
            "display": null,
            "flex": null,
            "flex_flow": null,
            "grid_area": null,
            "grid_auto_columns": null,
            "grid_auto_flow": null,
            "grid_auto_rows": null,
            "grid_column": null,
            "grid_gap": null,
            "grid_row": null,
            "grid_template_areas": null,
            "grid_template_columns": null,
            "grid_template_rows": null,
            "height": null,
            "justify_content": null,
            "justify_items": null,
            "left": null,
            "margin": null,
            "max_height": null,
            "max_width": null,
            "min_height": null,
            "min_width": null,
            "object_fit": null,
            "object_position": null,
            "order": null,
            "overflow": null,
            "overflow_x": null,
            "overflow_y": null,
            "padding": null,
            "right": null,
            "top": null,
            "visibility": null,
            "width": null
          }
        },
        "347aa5f728504b12b5e45b3490724bcc": {
          "model_module": "@jupyter-widgets/controls",
          "model_name": "ProgressStyleModel",
          "model_module_version": "1.5.0",
          "state": {
            "_model_module": "@jupyter-widgets/controls",
            "_model_module_version": "1.5.0",
            "_model_name": "ProgressStyleModel",
            "_view_count": null,
            "_view_module": "@jupyter-widgets/base",
            "_view_module_version": "1.2.0",
            "_view_name": "StyleView",
            "bar_color": null,
            "description_width": ""
          }
        },
        "2ebbb0bcfe7941de8a7fe859245cda1b": {
          "model_module": "@jupyter-widgets/base",
          "model_name": "LayoutModel",
          "model_module_version": "1.2.0",
          "state": {
            "_model_module": "@jupyter-widgets/base",
            "_model_module_version": "1.2.0",
            "_model_name": "LayoutModel",
            "_view_count": null,
            "_view_module": "@jupyter-widgets/base",
            "_view_module_version": "1.2.0",
            "_view_name": "LayoutView",
            "align_content": null,
            "align_items": null,
            "align_self": null,
            "border": null,
            "bottom": null,
            "display": null,
            "flex": null,
            "flex_flow": null,
            "grid_area": null,
            "grid_auto_columns": null,
            "grid_auto_flow": null,
            "grid_auto_rows": null,
            "grid_column": null,
            "grid_gap": null,
            "grid_row": null,
            "grid_template_areas": null,
            "grid_template_columns": null,
            "grid_template_rows": null,
            "height": null,
            "justify_content": null,
            "justify_items": null,
            "left": null,
            "margin": null,
            "max_height": null,
            "max_width": null,
            "min_height": null,
            "min_width": null,
            "object_fit": null,
            "object_position": null,
            "order": null,
            "overflow": null,
            "overflow_x": null,
            "overflow_y": null,
            "padding": null,
            "right": null,
            "top": null,
            "visibility": null,
            "width": null
          }
        },
        "da977c3ca2f443b4b22fec43b8c45a5d": {
          "model_module": "@jupyter-widgets/controls",
          "model_name": "DescriptionStyleModel",
          "model_module_version": "1.5.0",
          "state": {
            "_model_module": "@jupyter-widgets/controls",
            "_model_module_version": "1.5.0",
            "_model_name": "DescriptionStyleModel",
            "_view_count": null,
            "_view_module": "@jupyter-widgets/base",
            "_view_module_version": "1.2.0",
            "_view_name": "StyleView",
            "description_width": ""
          }
        },
        "d24dbac21cf442ddafc2c8d0df3ae3ca": {
          "model_module": "@jupyter-widgets/controls",
          "model_name": "HBoxModel",
          "model_module_version": "1.5.0",
          "state": {
            "_dom_classes": [],
            "_model_module": "@jupyter-widgets/controls",
            "_model_module_version": "1.5.0",
            "_model_name": "HBoxModel",
            "_view_count": null,
            "_view_module": "@jupyter-widgets/controls",
            "_view_module_version": "1.5.0",
            "_view_name": "HBoxView",
            "box_style": "",
            "children": [
              "IPY_MODEL_2a2844c892b24fcb9bc022778b1e4ad0",
              "IPY_MODEL_8e10275925244c65bba5d669cf1f44de",
              "IPY_MODEL_ec2898765e554bf89481e4c9dfd46d2d"
            ],
            "layout": "IPY_MODEL_85de79dbe39848ed8e2ba575bb8e804e"
          }
        },
        "2a2844c892b24fcb9bc022778b1e4ad0": {
          "model_module": "@jupyter-widgets/controls",
          "model_name": "HTMLModel",
          "model_module_version": "1.5.0",
          "state": {
            "_dom_classes": [],
            "_model_module": "@jupyter-widgets/controls",
            "_model_module_version": "1.5.0",
            "_model_name": "HTMLModel",
            "_view_count": null,
            "_view_module": "@jupyter-widgets/controls",
            "_view_module_version": "1.5.0",
            "_view_name": "HTMLView",
            "description": "",
            "description_tooltip": null,
            "layout": "IPY_MODEL_8d71bc5a3d12439cb8d20ae2c82862cf",
            "placeholder": "​",
            "style": "IPY_MODEL_593545d229b245a190d7c4691bc0e4ea",
            "value": "Filter: 100%"
          }
        },
        "8e10275925244c65bba5d669cf1f44de": {
          "model_module": "@jupyter-widgets/controls",
          "model_name": "FloatProgressModel",
          "model_module_version": "1.5.0",
          "state": {
            "_dom_classes": [],
            "_model_module": "@jupyter-widgets/controls",
            "_model_module_version": "1.5.0",
            "_model_name": "FloatProgressModel",
            "_view_count": null,
            "_view_module": "@jupyter-widgets/controls",
            "_view_module_version": "1.5.0",
            "_view_name": "ProgressView",
            "bar_style": "success",
            "description": "",
            "description_tooltip": null,
            "layout": "IPY_MODEL_144c75774d6144468d995653692d08d3",
            "max": 33547,
            "min": 0,
            "orientation": "horizontal",
            "style": "IPY_MODEL_ede9b5c9c1ce475b941483e4a3109d46",
            "value": 33547
          }
        },
        "ec2898765e554bf89481e4c9dfd46d2d": {
          "model_module": "@jupyter-widgets/controls",
          "model_name": "HTMLModel",
          "model_module_version": "1.5.0",
          "state": {
            "_dom_classes": [],
            "_model_module": "@jupyter-widgets/controls",
            "_model_module_version": "1.5.0",
            "_model_name": "HTMLModel",
            "_view_count": null,
            "_view_module": "@jupyter-widgets/controls",
            "_view_module_version": "1.5.0",
            "_view_name": "HTMLView",
            "description": "",
            "description_tooltip": null,
            "layout": "IPY_MODEL_dfdc1e24cdfd488b821ad53adbbfd359",
            "placeholder": "​",
            "style": "IPY_MODEL_49aa9f0a771544da98b3e0ebe27362a5",
            "value": " 33547/33547 [00:00&lt;00:00, 41159.54 examples/s]"
          }
        },
        "85de79dbe39848ed8e2ba575bb8e804e": {
          "model_module": "@jupyter-widgets/base",
          "model_name": "LayoutModel",
          "model_module_version": "1.2.0",
          "state": {
            "_model_module": "@jupyter-widgets/base",
            "_model_module_version": "1.2.0",
            "_model_name": "LayoutModel",
            "_view_count": null,
            "_view_module": "@jupyter-widgets/base",
            "_view_module_version": "1.2.0",
            "_view_name": "LayoutView",
            "align_content": null,
            "align_items": null,
            "align_self": null,
            "border": null,
            "bottom": null,
            "display": null,
            "flex": null,
            "flex_flow": null,
            "grid_area": null,
            "grid_auto_columns": null,
            "grid_auto_flow": null,
            "grid_auto_rows": null,
            "grid_column": null,
            "grid_gap": null,
            "grid_row": null,
            "grid_template_areas": null,
            "grid_template_columns": null,
            "grid_template_rows": null,
            "height": null,
            "justify_content": null,
            "justify_items": null,
            "left": null,
            "margin": null,
            "max_height": null,
            "max_width": null,
            "min_height": null,
            "min_width": null,
            "object_fit": null,
            "object_position": null,
            "order": null,
            "overflow": null,
            "overflow_x": null,
            "overflow_y": null,
            "padding": null,
            "right": null,
            "top": null,
            "visibility": null,
            "width": null
          }
        },
        "8d71bc5a3d12439cb8d20ae2c82862cf": {
          "model_module": "@jupyter-widgets/base",
          "model_name": "LayoutModel",
          "model_module_version": "1.2.0",
          "state": {
            "_model_module": "@jupyter-widgets/base",
            "_model_module_version": "1.2.0",
            "_model_name": "LayoutModel",
            "_view_count": null,
            "_view_module": "@jupyter-widgets/base",
            "_view_module_version": "1.2.0",
            "_view_name": "LayoutView",
            "align_content": null,
            "align_items": null,
            "align_self": null,
            "border": null,
            "bottom": null,
            "display": null,
            "flex": null,
            "flex_flow": null,
            "grid_area": null,
            "grid_auto_columns": null,
            "grid_auto_flow": null,
            "grid_auto_rows": null,
            "grid_column": null,
            "grid_gap": null,
            "grid_row": null,
            "grid_template_areas": null,
            "grid_template_columns": null,
            "grid_template_rows": null,
            "height": null,
            "justify_content": null,
            "justify_items": null,
            "left": null,
            "margin": null,
            "max_height": null,
            "max_width": null,
            "min_height": null,
            "min_width": null,
            "object_fit": null,
            "object_position": null,
            "order": null,
            "overflow": null,
            "overflow_x": null,
            "overflow_y": null,
            "padding": null,
            "right": null,
            "top": null,
            "visibility": null,
            "width": null
          }
        },
        "593545d229b245a190d7c4691bc0e4ea": {
          "model_module": "@jupyter-widgets/controls",
          "model_name": "DescriptionStyleModel",
          "model_module_version": "1.5.0",
          "state": {
            "_model_module": "@jupyter-widgets/controls",
            "_model_module_version": "1.5.0",
            "_model_name": "DescriptionStyleModel",
            "_view_count": null,
            "_view_module": "@jupyter-widgets/base",
            "_view_module_version": "1.2.0",
            "_view_name": "StyleView",
            "description_width": ""
          }
        },
        "144c75774d6144468d995653692d08d3": {
          "model_module": "@jupyter-widgets/base",
          "model_name": "LayoutModel",
          "model_module_version": "1.2.0",
          "state": {
            "_model_module": "@jupyter-widgets/base",
            "_model_module_version": "1.2.0",
            "_model_name": "LayoutModel",
            "_view_count": null,
            "_view_module": "@jupyter-widgets/base",
            "_view_module_version": "1.2.0",
            "_view_name": "LayoutView",
            "align_content": null,
            "align_items": null,
            "align_self": null,
            "border": null,
            "bottom": null,
            "display": null,
            "flex": null,
            "flex_flow": null,
            "grid_area": null,
            "grid_auto_columns": null,
            "grid_auto_flow": null,
            "grid_auto_rows": null,
            "grid_column": null,
            "grid_gap": null,
            "grid_row": null,
            "grid_template_areas": null,
            "grid_template_columns": null,
            "grid_template_rows": null,
            "height": null,
            "justify_content": null,
            "justify_items": null,
            "left": null,
            "margin": null,
            "max_height": null,
            "max_width": null,
            "min_height": null,
            "min_width": null,
            "object_fit": null,
            "object_position": null,
            "order": null,
            "overflow": null,
            "overflow_x": null,
            "overflow_y": null,
            "padding": null,
            "right": null,
            "top": null,
            "visibility": null,
            "width": null
          }
        },
        "ede9b5c9c1ce475b941483e4a3109d46": {
          "model_module": "@jupyter-widgets/controls",
          "model_name": "ProgressStyleModel",
          "model_module_version": "1.5.0",
          "state": {
            "_model_module": "@jupyter-widgets/controls",
            "_model_module_version": "1.5.0",
            "_model_name": "ProgressStyleModel",
            "_view_count": null,
            "_view_module": "@jupyter-widgets/base",
            "_view_module_version": "1.2.0",
            "_view_name": "StyleView",
            "bar_color": null,
            "description_width": ""
          }
        },
        "dfdc1e24cdfd488b821ad53adbbfd359": {
          "model_module": "@jupyter-widgets/base",
          "model_name": "LayoutModel",
          "model_module_version": "1.2.0",
          "state": {
            "_model_module": "@jupyter-widgets/base",
            "_model_module_version": "1.2.0",
            "_model_name": "LayoutModel",
            "_view_count": null,
            "_view_module": "@jupyter-widgets/base",
            "_view_module_version": "1.2.0",
            "_view_name": "LayoutView",
            "align_content": null,
            "align_items": null,
            "align_self": null,
            "border": null,
            "bottom": null,
            "display": null,
            "flex": null,
            "flex_flow": null,
            "grid_area": null,
            "grid_auto_columns": null,
            "grid_auto_flow": null,
            "grid_auto_rows": null,
            "grid_column": null,
            "grid_gap": null,
            "grid_row": null,
            "grid_template_areas": null,
            "grid_template_columns": null,
            "grid_template_rows": null,
            "height": null,
            "justify_content": null,
            "justify_items": null,
            "left": null,
            "margin": null,
            "max_height": null,
            "max_width": null,
            "min_height": null,
            "min_width": null,
            "object_fit": null,
            "object_position": null,
            "order": null,
            "overflow": null,
            "overflow_x": null,
            "overflow_y": null,
            "padding": null,
            "right": null,
            "top": null,
            "visibility": null,
            "width": null
          }
        },
        "49aa9f0a771544da98b3e0ebe27362a5": {
          "model_module": "@jupyter-widgets/controls",
          "model_name": "DescriptionStyleModel",
          "model_module_version": "1.5.0",
          "state": {
            "_model_module": "@jupyter-widgets/controls",
            "_model_module_version": "1.5.0",
            "_model_name": "DescriptionStyleModel",
            "_view_count": null,
            "_view_module": "@jupyter-widgets/base",
            "_view_module_version": "1.2.0",
            "_view_name": "StyleView",
            "description_width": ""
          }
        },
        "e5ab104f0c714586937ab7f8dcc552d5": {
          "model_module": "@jupyter-widgets/controls",
          "model_name": "HBoxModel",
          "model_module_version": "1.5.0",
          "state": {
            "_dom_classes": [],
            "_model_module": "@jupyter-widgets/controls",
            "_model_module_version": "1.5.0",
            "_model_name": "HBoxModel",
            "_view_count": null,
            "_view_module": "@jupyter-widgets/controls",
            "_view_module_version": "1.5.0",
            "_view_name": "HBoxView",
            "box_style": "",
            "children": [
              "IPY_MODEL_a1b0b6ea88564faba1ce46f09215a1f3",
              "IPY_MODEL_b499cfbfa92d4588bfcfc5a3581a3311",
              "IPY_MODEL_17e289962f224a82bbb9423b8abf13be"
            ],
            "layout": "IPY_MODEL_269094c027824a77b4218a6a0c9065cc"
          }
        },
        "a1b0b6ea88564faba1ce46f09215a1f3": {
          "model_module": "@jupyter-widgets/controls",
          "model_name": "HTMLModel",
          "model_module_version": "1.5.0",
          "state": {
            "_dom_classes": [],
            "_model_module": "@jupyter-widgets/controls",
            "_model_module_version": "1.5.0",
            "_model_name": "HTMLModel",
            "_view_count": null,
            "_view_module": "@jupyter-widgets/controls",
            "_view_module_version": "1.5.0",
            "_view_name": "HTMLView",
            "description": "",
            "description_tooltip": null,
            "layout": "IPY_MODEL_73a3e0bf177743669741d7c5baa8d60a",
            "placeholder": "​",
            "style": "IPY_MODEL_fa2b9112b8234a7e9a28a500419a7016",
            "value": "Batches: 100%"
          }
        },
        "b499cfbfa92d4588bfcfc5a3581a3311": {
          "model_module": "@jupyter-widgets/controls",
          "model_name": "FloatProgressModel",
          "model_module_version": "1.5.0",
          "state": {
            "_dom_classes": [],
            "_model_module": "@jupyter-widgets/controls",
            "_model_module_version": "1.5.0",
            "_model_name": "FloatProgressModel",
            "_view_count": null,
            "_view_module": "@jupyter-widgets/controls",
            "_view_module_version": "1.5.0",
            "_view_name": "ProgressView",
            "bar_style": "success",
            "description": "",
            "description_tooltip": null,
            "layout": "IPY_MODEL_9b1d2d952f284602a85ada757c16e047",
            "max": 1049,
            "min": 0,
            "orientation": "horizontal",
            "style": "IPY_MODEL_47fe6679ea7143eb93f874ac85a81b26",
            "value": 1049
          }
        },
        "17e289962f224a82bbb9423b8abf13be": {
          "model_module": "@jupyter-widgets/controls",
          "model_name": "HTMLModel",
          "model_module_version": "1.5.0",
          "state": {
            "_dom_classes": [],
            "_model_module": "@jupyter-widgets/controls",
            "_model_module_version": "1.5.0",
            "_model_name": "HTMLModel",
            "_view_count": null,
            "_view_module": "@jupyter-widgets/controls",
            "_view_module_version": "1.5.0",
            "_view_name": "HTMLView",
            "description": "",
            "description_tooltip": null,
            "layout": "IPY_MODEL_82a351a530be42bc8cc35d3d2413a284",
            "placeholder": "​",
            "style": "IPY_MODEL_d49b9564eb2743a182a4daafed178d34",
            "value": " 1049/1049 [00:27&lt;00:00, 112.60it/s]"
          }
        },
        "269094c027824a77b4218a6a0c9065cc": {
          "model_module": "@jupyter-widgets/base",
          "model_name": "LayoutModel",
          "model_module_version": "1.2.0",
          "state": {
            "_model_module": "@jupyter-widgets/base",
            "_model_module_version": "1.2.0",
            "_model_name": "LayoutModel",
            "_view_count": null,
            "_view_module": "@jupyter-widgets/base",
            "_view_module_version": "1.2.0",
            "_view_name": "LayoutView",
            "align_content": null,
            "align_items": null,
            "align_self": null,
            "border": null,
            "bottom": null,
            "display": null,
            "flex": null,
            "flex_flow": null,
            "grid_area": null,
            "grid_auto_columns": null,
            "grid_auto_flow": null,
            "grid_auto_rows": null,
            "grid_column": null,
            "grid_gap": null,
            "grid_row": null,
            "grid_template_areas": null,
            "grid_template_columns": null,
            "grid_template_rows": null,
            "height": null,
            "justify_content": null,
            "justify_items": null,
            "left": null,
            "margin": null,
            "max_height": null,
            "max_width": null,
            "min_height": null,
            "min_width": null,
            "object_fit": null,
            "object_position": null,
            "order": null,
            "overflow": null,
            "overflow_x": null,
            "overflow_y": null,
            "padding": null,
            "right": null,
            "top": null,
            "visibility": null,
            "width": null
          }
        },
        "73a3e0bf177743669741d7c5baa8d60a": {
          "model_module": "@jupyter-widgets/base",
          "model_name": "LayoutModel",
          "model_module_version": "1.2.0",
          "state": {
            "_model_module": "@jupyter-widgets/base",
            "_model_module_version": "1.2.0",
            "_model_name": "LayoutModel",
            "_view_count": null,
            "_view_module": "@jupyter-widgets/base",
            "_view_module_version": "1.2.0",
            "_view_name": "LayoutView",
            "align_content": null,
            "align_items": null,
            "align_self": null,
            "border": null,
            "bottom": null,
            "display": null,
            "flex": null,
            "flex_flow": null,
            "grid_area": null,
            "grid_auto_columns": null,
            "grid_auto_flow": null,
            "grid_auto_rows": null,
            "grid_column": null,
            "grid_gap": null,
            "grid_row": null,
            "grid_template_areas": null,
            "grid_template_columns": null,
            "grid_template_rows": null,
            "height": null,
            "justify_content": null,
            "justify_items": null,
            "left": null,
            "margin": null,
            "max_height": null,
            "max_width": null,
            "min_height": null,
            "min_width": null,
            "object_fit": null,
            "object_position": null,
            "order": null,
            "overflow": null,
            "overflow_x": null,
            "overflow_y": null,
            "padding": null,
            "right": null,
            "top": null,
            "visibility": null,
            "width": null
          }
        },
        "fa2b9112b8234a7e9a28a500419a7016": {
          "model_module": "@jupyter-widgets/controls",
          "model_name": "DescriptionStyleModel",
          "model_module_version": "1.5.0",
          "state": {
            "_model_module": "@jupyter-widgets/controls",
            "_model_module_version": "1.5.0",
            "_model_name": "DescriptionStyleModel",
            "_view_count": null,
            "_view_module": "@jupyter-widgets/base",
            "_view_module_version": "1.2.0",
            "_view_name": "StyleView",
            "description_width": ""
          }
        },
        "9b1d2d952f284602a85ada757c16e047": {
          "model_module": "@jupyter-widgets/base",
          "model_name": "LayoutModel",
          "model_module_version": "1.2.0",
          "state": {
            "_model_module": "@jupyter-widgets/base",
            "_model_module_version": "1.2.0",
            "_model_name": "LayoutModel",
            "_view_count": null,
            "_view_module": "@jupyter-widgets/base",
            "_view_module_version": "1.2.0",
            "_view_name": "LayoutView",
            "align_content": null,
            "align_items": null,
            "align_self": null,
            "border": null,
            "bottom": null,
            "display": null,
            "flex": null,
            "flex_flow": null,
            "grid_area": null,
            "grid_auto_columns": null,
            "grid_auto_flow": null,
            "grid_auto_rows": null,
            "grid_column": null,
            "grid_gap": null,
            "grid_row": null,
            "grid_template_areas": null,
            "grid_template_columns": null,
            "grid_template_rows": null,
            "height": null,
            "justify_content": null,
            "justify_items": null,
            "left": null,
            "margin": null,
            "max_height": null,
            "max_width": null,
            "min_height": null,
            "min_width": null,
            "object_fit": null,
            "object_position": null,
            "order": null,
            "overflow": null,
            "overflow_x": null,
            "overflow_y": null,
            "padding": null,
            "right": null,
            "top": null,
            "visibility": null,
            "width": null
          }
        },
        "47fe6679ea7143eb93f874ac85a81b26": {
          "model_module": "@jupyter-widgets/controls",
          "model_name": "ProgressStyleModel",
          "model_module_version": "1.5.0",
          "state": {
            "_model_module": "@jupyter-widgets/controls",
            "_model_module_version": "1.5.0",
            "_model_name": "ProgressStyleModel",
            "_view_count": null,
            "_view_module": "@jupyter-widgets/base",
            "_view_module_version": "1.2.0",
            "_view_name": "StyleView",
            "bar_color": null,
            "description_width": ""
          }
        },
        "82a351a530be42bc8cc35d3d2413a284": {
          "model_module": "@jupyter-widgets/base",
          "model_name": "LayoutModel",
          "model_module_version": "1.2.0",
          "state": {
            "_model_module": "@jupyter-widgets/base",
            "_model_module_version": "1.2.0",
            "_model_name": "LayoutModel",
            "_view_count": null,
            "_view_module": "@jupyter-widgets/base",
            "_view_module_version": "1.2.0",
            "_view_name": "LayoutView",
            "align_content": null,
            "align_items": null,
            "align_self": null,
            "border": null,
            "bottom": null,
            "display": null,
            "flex": null,
            "flex_flow": null,
            "grid_area": null,
            "grid_auto_columns": null,
            "grid_auto_flow": null,
            "grid_auto_rows": null,
            "grid_column": null,
            "grid_gap": null,
            "grid_row": null,
            "grid_template_areas": null,
            "grid_template_columns": null,
            "grid_template_rows": null,
            "height": null,
            "justify_content": null,
            "justify_items": null,
            "left": null,
            "margin": null,
            "max_height": null,
            "max_width": null,
            "min_height": null,
            "min_width": null,
            "object_fit": null,
            "object_position": null,
            "order": null,
            "overflow": null,
            "overflow_x": null,
            "overflow_y": null,
            "padding": null,
            "right": null,
            "top": null,
            "visibility": null,
            "width": null
          }
        },
        "d49b9564eb2743a182a4daafed178d34": {
          "model_module": "@jupyter-widgets/controls",
          "model_name": "DescriptionStyleModel",
          "model_module_version": "1.5.0",
          "state": {
            "_model_module": "@jupyter-widgets/controls",
            "_model_module_version": "1.5.0",
            "_model_name": "DescriptionStyleModel",
            "_view_count": null,
            "_view_module": "@jupyter-widgets/base",
            "_view_module_version": "1.2.0",
            "_view_name": "StyleView",
            "description_width": ""
          }
        }
      }
    }
  },
  "nbformat": 4,
  "nbformat_minor": 0
}